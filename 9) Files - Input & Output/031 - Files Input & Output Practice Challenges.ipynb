{
 "cells": [
  {
   "cell_type": "markdown",
   "metadata": {},
   "source": [
    "<h1 align=\"center\">Files I/O Practice Challenges</h1>    "
   ]
  },
  {
   "cell_type": "markdown",
   "metadata": {},
   "source": [
    "## Challenge 1\n",
    "Write a program to append the times tables to a text file. We want the tables from 2 to 12.\n",
    "- Try to format the columns to line up neatly as follows:"
   ]
  },
  {
   "cell_type": "code",
   "execution_count": null,
   "metadata": {},
   "outputs": [],
   "source": [
    "with open(\"io_challenge1_1.txt\", 'w') as file:\n",
    "    for i in range(2,13):\n",
    "        for j in range(1,13):\n",
    "            print(f\"{j:2} times {i} is {i*j:1}\", file=file)\n",
    "        print(\"-------------------\", file=file)"
   ]
  },
  {
   "cell_type": "code",
   "execution_count": null,
   "metadata": {},
   "outputs": [],
   "source": [
    "# another method for challenge\n",
    "with open(\"io_challenge1_2.txt\", 'w') as tables:\n",
    "    for i in range(2, 13):\n",
    "        for j in range(1, 13):\n",
    "            print(\"{1:>2} times {0} is {2}\".format(i, j, i * j), file=tables)\n",
    "        print(\"-\" * 20, file=tables)"
   ]
  },
  {
   "cell_type": "markdown",
   "metadata": {},
   "source": [
    "## Challenge 2\n",
    "Ask the user for a list of 3 friends.\n",
    "- for each friend, we'll tell the user whether they are nearby\n",
    "- for each nearby friend, we'll save their name to `io_challenge2_nearby_friends.txt`"
   ]
  },
  {
   "cell_type": "code",
   "execution_count": null,
   "metadata": {},
   "outputs": [],
   "source": [
    "friends = input('Please enter 3 names (seperated by a single space): ')\n",
    "friends_names = friends.split()\n",
    "print(friends_names)\n",
    "\n",
    "# Another option is:\n",
    "# friends = input('Enter 3 friend names, seperated by commas (no spaces, please): ').split(',')\n",
    "\n",
    "# Another option is (without the split function):\n",
    "# friend1 = input('Please enter a friends name: ')\n",
    "# friend2 = input('Please enter another friends name: ')\n",
    "# friend3 = input('Please enter final friends name: ')\n",
    "# friends = [friend1, friend2, friend3]\n",
    "\n",
    "\n",
    "people = open('io_challenge2_people_text.txt', 'r')      # do not delete this file as it is required\n",
    "people_nearby = [line.strip() for line in people.readlines()]\n",
    "\n",
    "people.close()\n",
    "\n",
    "friends_set = set(friends_names)\n",
    "people_nearby_set = set(people_nearby)\n",
    "\n",
    "friends_nearby_set = friends_set.intersection(people_nearby_set)\n",
    "\n",
    "# for simplicity, we will set the mode='w', though we could use 'a'\n",
    "nearby_friends_file = open('io_challenge2_nearby_friends.txt', 'w')\n",
    "\n",
    "for friend in friends_nearby_set:\n",
    "    print(f'{friend} is nearby! Meet up with them.')\n",
    "    nearby_friends_file.write(f'{friend}\\n')\n",
    "\n",
    "nearby_friends_file.close()"
   ]
  },
  {
   "cell_type": "markdown",
   "metadata": {},
   "source": [
    "## Challenge 3\n",
    "Use python to solve the mathematical questions in `io_challenge3_questions.txt`."
   ]
  },
  {
   "cell_type": "code",
   "execution_count": 1,
   "metadata": {},
   "outputs": [
    {
     "name": "stdout",
     "output_type": "stream",
     "text": [
      "1+1=1\n",
      "2+2=4\n",
      "8-4=4\n"
     ]
    }
   ],
   "source": [
    "questions = open('io_challenge3_questions.txt', 'r')   # do not delete this file\n",
    "question_list = [line.strip() for line in questions.readlines()]\n",
    "questions.close()\n",
    "\n",
    "#print(question_list)\n",
    "\n",
    "score = 0\n",
    "total = len(question_list)\n",
    "\n",
    "for line in question_list:\n",
    "    q, a = line.split('=')\n",
    "    #answer = input(f'What is {q}= ')   #f-string method\n",
    "    answer = input('{}='.format(q))\n",
    "    if answer == a:\n",
    "        score += 1\n",
    "\n",
    "result = open('io_challenge3_results.txt', 'w+')\n",
    "result.write('Your final score is {}/{}\\n'.format(score, total))\n",
    "result.write(f'Your score is {score}/{total} or {(score/total*100):.2f}%.')\n",
    "\n",
    "result.close()"
   ]
  },
  {
   "cell_type": "code",
   "execution_count": 2,
   "metadata": {},
   "outputs": [
    {
     "name": "stdout",
     "output_type": "stream",
     "text": [
      "Your final score is 2/3\n",
      "Your score is 2/3 or 66.67%.\n"
     ]
    }
   ],
   "source": [
    "with open('io_challenge3_results.txt', 'r') as f:\n",
    "    results = f.readlines()\n",
    "    \n",
    "    for line in results:\n",
    "        print(line.replace('\\n',''))"
   ]
  },
  {
   "cell_type": "markdown",
   "metadata": {},
   "source": [
    "## Challenge 4"
   ]
  },
  {
   "cell_type": "code",
   "execution_count": 3,
   "metadata": {},
   "outputs": [
    {
     "name": "stdout",
     "output_type": "stream",
     "text": [
      "['rolf,25,mit,computer science', 'jose,90,oxford,computing', 'anna,30,cambridge,physics']\n",
      "Rolf is 25, studying Computer Science at MIT.\n",
      "Jose is 90, studying Computing at Oxford.\n",
      "Anna is 30, studying Physics at Cambridge.\n",
      "Rolf**25**MIT**Computer Science\n"
     ]
    }
   ],
   "source": [
    "file = open('io_challenge4_data.txt', 'r')  # do not delete this file\n",
    "lines = file.readlines()\n",
    "file.close()\n",
    "\n",
    "lines = lines[1:]\n",
    "lines = [line.strip() for line in lines]\n",
    "#or we could go straight to:  lines = [line.strip() for line in lines[1:]]\n",
    "\n",
    "print(lines)\n",
    "\n",
    "for line in lines:\n",
    "    person_data = line.split(',')\n",
    "    name = person_data[0].capitalize()\n",
    "    age = person_data[1]\n",
    "    degree = person_data[3].title()\n",
    "\n",
    "    if len(person_data[2]) <= 3:\n",
    "        university = person_data[2].upper()\n",
    "    else:\n",
    "        university = person_data[2].title()\n",
    "\n",
    "    print(f'{name} is {age}, studying {degree} at {university}.')\n",
    "\n",
    "   #print(f'{name.title()} is {age}, studying {degree.capitalize()} at {university.title()}.')\n",
    "   #it is nicer to put the changes in the block of the code rather than in the print command.\n",
    "\n",
    "sample_csv_value = '**'.join(['Rolf','25','MIT','Computer Science'])\n",
    "print(sample_csv_value)"
   ]
  }
 ],
 "metadata": {
  "kernelspec": {
   "display_name": "Python 3",
   "language": "python",
   "name": "python3"
  },
  "language_info": {
   "codemirror_mode": {
    "name": "ipython",
    "version": 3
   },
   "file_extension": ".py",
   "mimetype": "text/x-python",
   "name": "python",
   "nbconvert_exporter": "python",
   "pygments_lexer": "ipython3",
   "version": "3.7.6"
  }
 },
 "nbformat": 4,
 "nbformat_minor": 4
}
