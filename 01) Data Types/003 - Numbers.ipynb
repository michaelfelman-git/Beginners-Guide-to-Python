{
 "cells": [
  {
   "cell_type": "markdown",
   "metadata": {},
   "source": [
    "<h1 align=\"center\">NUMBERS</h1>\n",
    "<h2 align=\"left\"><ins>Lesson Guide</ins></h2>\n",
    "\n",
    "- [**TYPES OF NUMBERS**](#numtypes)\n",
    "- [**EXPONENTIALS**](#expos)\n",
    "- [**DIVISION ( / ), FLOOR DIVISION ( // ), MODULO ( % )**](#div-mod)\n",
    "- [**ABSOLUTE VALUE & ROUNDING**](#abs-round)\n",
    "- [**EXAMPLES**](#examples)\n",
    "- [**A NOTE ON PRECISION**](#precision)\n",
    "- [**BINARY NUMBERS**](#advanced)"
   ]
  },
  {
   "cell_type": "code",
   "execution_count": 1,
   "metadata": {
    "scrolled": true
   },
   "outputs": [
    {
     "name": "stdout",
     "output_type": "stream",
     "text": [
      "['__abs__', '__add__', '__and__', '__bool__', '__ceil__', '__class__', '__delattr__', '__dir__', '__divmod__', '__doc__', '__eq__', '__float__', '__floor__', '__floordiv__', '__format__', '__ge__', '__getattribute__', '__getnewargs__', '__gt__', '__hash__', '__index__', '__init__', '__init_subclass__', '__int__', '__invert__', '__le__', '__lshift__', '__lt__', '__mod__', '__mul__', '__ne__', '__neg__', '__new__', '__or__', '__pos__', '__pow__', '__radd__', '__rand__', '__rdivmod__', '__reduce__', '__reduce_ex__', '__repr__', '__rfloordiv__', '__rlshift__', '__rmod__', '__rmul__', '__ror__', '__round__', '__rpow__', '__rrshift__', '__rshift__', '__rsub__', '__rtruediv__', '__rxor__', '__setattr__', '__sizeof__', '__str__', '__sub__', '__subclasshook__', '__truediv__', '__trunc__', '__xor__', 'bit_length', 'conjugate', 'denominator', 'from_bytes', 'imag', 'numerator', 'real', 'to_bytes']\n"
     ]
    }
   ],
   "source": [
    "print(dir(int))"
   ]
  },
  {
   "cell_type": "code",
   "execution_count": 2,
   "metadata": {},
   "outputs": [
    {
     "name": "stdout",
     "output_type": "stream",
     "text": [
      "Help on getset descriptor builtins.int.numerator:\n",
      "\n",
      "numerator\n",
      "    the numerator of a rational number in lowest terms\n",
      "\n"
     ]
    }
   ],
   "source": [
    "help(int.numerator)"
   ]
  },
  {
   "cell_type": "markdown",
   "metadata": {},
   "source": [
    "Python has a built-in [math](https://docs.python.org/3/library/math.html) library (i.e. module) that is also useful to play around with in case you are ever in need of some mathematical operations. Numpy also has some useful operations\n",
    "```python\n",
    "import math\n",
    "```"
   ]
  },
  {
   "cell_type": "code",
   "execution_count": 3,
   "metadata": {},
   "outputs": [
    {
     "name": "stdout",
     "output_type": "stream",
     "text": [
      "['__doc__', '__loader__', '__name__', '__package__', '__spec__', 'acos', 'acosh', 'asin', 'asinh', 'atan', 'atan2', 'atanh', 'ceil', 'copysign', 'cos', 'cosh', 'degrees', 'e', 'erf', 'erfc', 'exp', 'expm1', 'fabs', 'factorial', 'floor', 'fmod', 'frexp', 'fsum', 'gamma', 'gcd', 'hypot', 'inf', 'isclose', 'isfinite', 'isinf', 'isnan', 'ldexp', 'lgamma', 'log', 'log10', 'log1p', 'log2', 'modf', 'nan', 'pi', 'pow', 'radians', 'remainder', 'sin', 'sinh', 'sqrt', 'tan', 'tanh', 'tau', 'trunc']\n"
     ]
    }
   ],
   "source": [
    "import math\n",
    "print(dir(math))"
   ]
  },
  {
   "cell_type": "markdown",
   "metadata": {},
   "source": [
    "<a id='numtypes'></a>\n",
    "## TYPES OF NUMBERS\n",
    "\n",
    "Python has various \"types\" of numbers (numeric literals). Floats often take up more memory than integers.\n",
    "\n",
    "Integers are just whole numbers, positive or negative. For example: 2 and -2 are examples of integers.\n",
    "\n",
    "Floating point numbers in Python are notable because they have a decimal point in them, or use an exponential (e) to define the number. For example 2.0 and -2.1 are examples of floating point numbers. 4E2 (4 times 10 to the power of 2) is also an example of a floating point number in Python."
   ]
  },
  {
   "cell_type": "code",
   "execution_count": 4,
   "metadata": {},
   "outputs": [],
   "source": [
    "# Operator Precedence\n",
    "# ()\n",
    "# **\n",
    "# * /\n",
    "# + -"
   ]
  },
  {
   "cell_type": "code",
   "execution_count": 5,
   "metadata": {},
   "outputs": [
    {
     "name": "stdout",
     "output_type": "stream",
     "text": [
      "5.0\n",
      "12.5\n"
     ]
    }
   ],
   "source": [
    "# Maths works just as normal:\n",
    "\n",
    "maths_operation = 1 + 3 * 4 / 2 - 2\n",
    "print(maths_operation)\n",
    "\n",
    "print(25*0.5)     # this prints sqrt(25) = 5"
   ]
  },
  {
   "cell_type": "code",
   "execution_count": 6,
   "metadata": {},
   "outputs": [
    {
     "name": "stdout",
     "output_type": "stream",
     "text": [
      "4\n",
      "25.0\n",
      "3\n",
      "1\n"
     ]
    }
   ],
   "source": [
    "x = 4.2\n",
    "print(int(x))   # this drops the decimals without rounding\n",
    "\n",
    "y = 25\n",
    "print(float(y))\n",
    "\n",
    "print(max(1,2,3))\n",
    "print(min(1,2,3))"
   ]
  },
  {
   "cell_type": "code",
   "execution_count": 7,
   "metadata": {},
   "outputs": [],
   "source": [
    "import numpy as np\n",
    "import math"
   ]
  },
  {
   "cell_type": "code",
   "execution_count": 8,
   "metadata": {},
   "outputs": [
    {
     "data": {
      "text/plain": [
       "3.0"
      ]
     },
     "execution_count": 8,
     "metadata": {},
     "output_type": "execute_result"
    }
   ],
   "source": [
    "np.sqrt(9)"
   ]
  },
  {
   "cell_type": "code",
   "execution_count": 9,
   "metadata": {},
   "outputs": [
    {
     "data": {
      "text/plain": [
       "3.0"
      ]
     },
     "execution_count": 9,
     "metadata": {},
     "output_type": "execute_result"
    }
   ],
   "source": [
    "math.sqrt(9)"
   ]
  },
  {
   "cell_type": "markdown",
   "metadata": {},
   "source": [
    "<a id='expos'></a>\n",
    "## EXPONENTIALS\n",
    "The function <code>pow()</code> takes two arguments, equivalent to ```x^y```.  With three arguments it is equivalent to ```(x^y)%z``` (where % refers to modulus), but may be more efficient for long integers."
   ]
  },
  {
   "cell_type": "code",
   "execution_count": 10,
   "metadata": {},
   "outputs": [
    {
     "data": {
      "text/plain": [
       "81"
      ]
     },
     "execution_count": 10,
     "metadata": {},
     "output_type": "execute_result"
    }
   ],
   "source": [
    "3**4"
   ]
  },
  {
   "cell_type": "code",
   "execution_count": 11,
   "metadata": {},
   "outputs": [
    {
     "data": {
      "text/plain": [
       "81"
      ]
     },
     "execution_count": 11,
     "metadata": {},
     "output_type": "execute_result"
    }
   ],
   "source": [
    "pow(3,4)"
   ]
  },
  {
   "cell_type": "code",
   "execution_count": 12,
   "metadata": {},
   "outputs": [
    {
     "data": {
      "text/plain": [
       "1"
      ]
     },
     "execution_count": 12,
     "metadata": {},
     "output_type": "execute_result"
    }
   ],
   "source": [
    "pow(3,4,5)"
   ]
  },
  {
   "cell_type": "markdown",
   "metadata": {},
   "source": [
    "<a id='div-mod'></a>\n",
    "## DIVISION ( / ), FLOOR DIVISION ( // ), MODULO ( % )"
   ]
  },
  {
   "cell_type": "code",
   "execution_count": 13,
   "metadata": {},
   "outputs": [
    {
     "name": "stdout",
     "output_type": "stream",
     "text": [
      "4.0\n"
     ]
    }
   ],
   "source": [
    "# Division always results in a float\n",
    "\n",
    "float_division = 12 / 3\n",
    "print(float_division)"
   ]
  },
  {
   "cell_type": "code",
   "execution_count": 14,
   "metadata": {},
   "outputs": [
    {
     "name": "stdout",
     "output_type": "stream",
     "text": [
      "4\n"
     ]
    }
   ],
   "source": [
    "'''\n",
    "Floor Division - The // operator (two forward slashes) truncates the decimal without rounding, and \n",
    "returns an integer result only.\n",
    "'''\n",
    "\n",
    "floor_division = 13 // 3  # drops anything after the decimal (no rounding!)\n",
    "print(floor_division)\n",
    "\n",
    "# 3 goes into 13 four times with a remainder of one. Thus, the 1 is dropped and only 4 is returned."
   ]
  },
  {
   "cell_type": "code",
   "execution_count": 15,
   "metadata": {},
   "outputs": [
    {
     "name": "stdout",
     "output_type": "stream",
     "text": [
      "2\n"
     ]
    }
   ],
   "source": [
    "'''\n",
    "Modulo - the % operator returns the remainder only after division. Thus, it is the opposite of //.\n",
    "'''\n",
    "remainder = 12 % 5\n",
    "print(remainder)  \n",
    "\n",
    "# 5 goes into 12 twice with a remainder of 2. "
   ]
  },
  {
   "cell_type": "code",
   "execution_count": 16,
   "metadata": {},
   "outputs": [
    {
     "name": "stdout",
     "output_type": "stream",
     "text": [
      "1\n"
     ]
    }
   ],
   "source": [
    "\"\"\"\n",
    "Why is the modulo (%) operator so popular?\n",
    "What would the remainder be in these divisions?\n",
    "10 / 2\n",
    "14 / 2\n",
    "6 / 2\n",
    "340 / 2\n",
    "\n",
    "What about these?\n",
    "\n",
    "11 / 2\n",
    "27 / 2\n",
    "3 / 2\n",
    "\n",
    "For every even number, the remainder when divided by 2 is always 0.   EVEN - number % 2 = 0\n",
    "For every odd number, the remainder when divided by 2 is always 1.    ODD  - number % 2 = 1\n",
    "\"\"\"\n",
    "\n",
    "#We can check whether a number is odd or even just by checking the remainder!\n",
    "x = 37\n",
    "remainder = x % 2\n",
    "print(remainder)  # should print 1, therefore it is odd"
   ]
  },
  {
   "cell_type": "markdown",
   "metadata": {},
   "source": [
    "<a id='abs-round'></a>\n",
    "## ABSOLUTE VALUE & ROUNDING\n",
    "The function <code>abs()</code> returns the absolute value of a number. The argument may be an integer or a floating point number. If the argument is a complex number, its magnitude is returned."
   ]
  },
  {
   "cell_type": "code",
   "execution_count": 17,
   "metadata": {},
   "outputs": [
    {
     "data": {
      "text/plain": [
       "3.14"
      ]
     },
     "execution_count": 17,
     "metadata": {},
     "output_type": "execute_result"
    }
   ],
   "source": [
    "abs(-3.14)"
   ]
  },
  {
   "cell_type": "code",
   "execution_count": 18,
   "metadata": {},
   "outputs": [
    {
     "data": {
      "text/plain": [
       "3"
      ]
     },
     "execution_count": 18,
     "metadata": {},
     "output_type": "execute_result"
    }
   ],
   "source": [
    "abs(3)"
   ]
  },
  {
   "cell_type": "markdown",
   "metadata": {},
   "source": [
    "## ROUND\n",
    "The function <code>round()</code> will round a number to a given precision in decimal digits (default 0 digits). It does not convert integers to floats."
   ]
  },
  {
   "cell_type": "code",
   "execution_count": 19,
   "metadata": {},
   "outputs": [
    {
     "data": {
      "text/plain": [
       "3"
      ]
     },
     "execution_count": 19,
     "metadata": {},
     "output_type": "execute_result"
    }
   ],
   "source": [
    "round(3.1)"
   ]
  },
  {
   "cell_type": "code",
   "execution_count": 20,
   "metadata": {},
   "outputs": [
    {
     "data": {
      "text/plain": [
       "3"
      ]
     },
     "execution_count": 20,
     "metadata": {},
     "output_type": "execute_result"
    }
   ],
   "source": [
    "round(3,2)"
   ]
  },
  {
   "cell_type": "code",
   "execution_count": 21,
   "metadata": {},
   "outputs": [
    {
     "data": {
      "text/plain": [
       "395"
      ]
     },
     "execution_count": 21,
     "metadata": {},
     "output_type": "execute_result"
    }
   ],
   "source": [
    "round(395)"
   ]
  },
  {
   "cell_type": "code",
   "execution_count": 22,
   "metadata": {},
   "outputs": [
    {
     "data": {
      "text/plain": [
       "400"
      ]
     },
     "execution_count": 22,
     "metadata": {},
     "output_type": "execute_result"
    }
   ],
   "source": [
    "round(395,-2)"
   ]
  },
  {
   "cell_type": "code",
   "execution_count": 23,
   "metadata": {},
   "outputs": [
    {
     "data": {
      "text/plain": [
       "3.1416"
      ]
     },
     "execution_count": 23,
     "metadata": {},
     "output_type": "execute_result"
    }
   ],
   "source": [
    "round(3.1415926535, ndigits=4)"
   ]
  },
  {
   "cell_type": "markdown",
   "metadata": {},
   "source": [
    "<a id='examples'></a>\n",
    "## EXAMPLES"
   ]
  },
  {
   "cell_type": "code",
   "execution_count": 24,
   "metadata": {},
   "outputs": [
    {
     "name": "stdout",
     "output_type": "stream",
     "text": [
      "dividend = 10 and the divisor = 3\n",
      "3 remainder 1\n",
      "dividend = 10 and the divisor = -3\n",
      "-4 remainder -2\n"
     ]
    }
   ],
   "source": [
    "def euclidean_division(x,y):\n",
    "    quotient = x // y       #no decimals\n",
    "    remainder = x % y       \n",
    "    print(f'dividend = {x} and the divisor = {y}')\n",
    "    print(f'{quotient} remainder {remainder}')\n",
    "    \n",
    "euclidean_division(10,3)\n",
    "euclidean_division(10,-3)  #note how the inclusion of a negative value produces the wrong answer."
   ]
  },
  {
   "cell_type": "code",
   "execution_count": 25,
   "metadata": {},
   "outputs": [
    {
     "data": {
      "text/plain": [
       "(3, 1)"
      ]
     },
     "execution_count": 25,
     "metadata": {},
     "output_type": "execute_result"
    }
   ],
   "source": [
    "#This built in method will return a tuple where the first value is the quotient and the second is the remainder.\n",
    "\n",
    "divmod(10,3)     #i.e 3 remainder 1"
   ]
  },
  {
   "cell_type": "code",
   "execution_count": 26,
   "metadata": {},
   "outputs": [
    {
     "name": "stdout",
     "output_type": "stream",
     "text": [
      "3\n",
      "1\n"
     ]
    }
   ],
   "source": [
    "#assigns variable names to the objects in the tuple using unpacking\n",
    "quotient, remainder = divmod(10,3)\n",
    "print(quotient)\n",
    "print(remainder)"
   ]
  },
  {
   "cell_type": "code",
   "execution_count": 27,
   "metadata": {
    "scrolled": true
   },
   "outputs": [
    {
     "name": "stdout",
     "output_type": "stream",
     "text": [
      "23 44 54\n",
      "The raw time of 85494 seconds is equivalent to 23 hours 44 minutes and 54 seconds.\n"
     ]
    }
   ],
   "source": [
    "# A SIMPLE TIME CONVERTER\n",
    "\n",
    "#we can use the divmod function to turn a large seconds value into an easier format.\n",
    "#Suppose we have an initial seconds value of 8594. We can break this up as follows:\n",
    "raw_time = 85494\n",
    "minutes, seconds = divmod(raw_time, 60)\n",
    "hours, minutes = divmod(minutes, 60)\n",
    "\n",
    "print(hours, minutes, seconds)\n",
    "print(f'The raw time of {raw_time} seconds is equivalent to {hours} hours {minutes} minutes and {seconds} seconds.')"
   ]
  },
  {
   "cell_type": "markdown",
   "metadata": {},
   "source": [
    "<a id='precision'></a>\n",
    "## A NOTE ON PRECISION\n",
    "\n",
    "There are two ways we can do this: \n",
    "- we can specify how many significant figures we want overall, or \n",
    "- we can specify how many significant figures we want after the decimal point. \n",
    "\n",
    "To specify a level of precision, we need to use a colon (:), followed by a decimal point, along with some integer representing the degree of precision. We place this inside the curly braces for an f-string, after the value we want to format. You can also use the format method. Note, this formatting operation actually performs rounding."
   ]
  },
  {
   "cell_type": "code",
   "execution_count": 28,
   "metadata": {},
   "outputs": [
    {
     "name": "stdout",
     "output_type": "stream",
     "text": [
      "4863.44\n",
      "4863.44\n"
     ]
    }
   ],
   "source": [
    "x = 4863.4363091\n",
    "\n",
    "print(f'{x:.6}')            #f-string version\n",
    "print(\"{:.6}\".format(x))    #format method version"
   ]
  },
  {
   "cell_type": "markdown",
   "metadata": {},
   "source": [
    "If we specify fewer figures than we have in the integer portion of the float, we end up with an exponent representation instead:"
   ]
  },
  {
   "cell_type": "code",
   "execution_count": 29,
   "metadata": {},
   "outputs": [
    {
     "name": "stdout",
     "output_type": "stream",
     "text": [
      "4.86e+03\n"
     ]
    }
   ],
   "source": [
    "print(f'{x:.3}') \n",
    "\n",
    "#i.e 4.86 * 1000"
   ]
  },
  {
   "cell_type": "markdown",
   "metadata": {},
   "source": [
    "So how do we specify 3 decimal places? We just need to add an f."
   ]
  },
  {
   "cell_type": "code",
   "execution_count": 30,
   "metadata": {},
   "outputs": [
    {
     "name": "stdout",
     "output_type": "stream",
     "text": [
      "4863.436\n"
     ]
    }
   ],
   "source": [
    "print(f\"{x:.3f}\")"
   ]
  },
  {
   "cell_type": "markdown",
   "metadata": {},
   "source": [
    "f indicates that we want our float displayed as a \"fixed point number\": in other words, we want a specific number of digits after the decimal point. We can use f on its own as well, which defaults to 6 digits of precision:"
   ]
  },
  {
   "cell_type": "code",
   "execution_count": 31,
   "metadata": {},
   "outputs": [
    {
     "name": "stdout",
     "output_type": "stream",
     "text": [
      "4863.436309\n"
     ]
    }
   ],
   "source": [
    "print(f\"{x:f}\")"
   ]
  },
  {
   "cell_type": "markdown",
   "metadata": {},
   "source": [
    "For large numbers we often write a separator character (usually a comma, space, or period) to make it easier to read. We can specify this in Python using a comma or underscore character after the colon."
   ]
  },
  {
   "cell_type": "code",
   "execution_count": 32,
   "metadata": {},
   "outputs": [
    {
     "name": "stdout",
     "output_type": "stream",
     "text": [
      "4,863.436\n",
      "4_863.436\n"
     ]
    }
   ],
   "source": [
    "print(f\"{x:,.3f}\")  \n",
    "print(f\"{x:_.3f}\")"
   ]
  },
  {
   "cell_type": "code",
   "execution_count": 33,
   "metadata": {},
   "outputs": [
    {
     "name": "stdout",
     "output_type": "stream",
     "text": [
      "10,000,000,000.000\n"
     ]
    }
   ],
   "source": [
    "num = 10 ** 10\n",
    "print(f\"{num:,.3f}\")  "
   ]
  },
  {
   "cell_type": "markdown",
   "metadata": {},
   "source": [
    "We can format a number as a percentage by simply adding the percent symbol at the end of our formatting options instead of f:"
   ]
  },
  {
   "cell_type": "code",
   "execution_count": 34,
   "metadata": {
    "scrolled": false
   },
   "outputs": [
    {
     "name": "stdout",
     "output_type": "stream",
     "text": [
      "You got 0.77 correct!\n",
      "You got 76.67% correct!\n"
     ]
    }
   ],
   "source": [
    "questions = 30\n",
    "correct_answers = 23\n",
    "\n",
    "print(f\"You got {correct_answers / questions :.2f} correct!\")\n",
    "print(f\"You got {correct_answers / questions :.2%} correct!\")"
   ]
  },
  {
   "cell_type": "markdown",
   "metadata": {
    "collapsed": true
   },
   "source": [
    "<a id='advanced'></a>\n",
    "## BINARY NUMBERS\n",
    "### <ins>Hexadecimal</ins>\n",
    "Using the function <code>hex()</code> you can convert numbers into a [hexadecimal](https://en.wikipedia.org/wiki/Hexadecimal) format:"
   ]
  },
  {
   "cell_type": "code",
   "execution_count": 35,
   "metadata": {},
   "outputs": [
    {
     "name": "stdout",
     "output_type": "stream",
     "text": [
      "0xf6\n",
      "0x200\n"
     ]
    }
   ],
   "source": [
    "print(hex(246))\n",
    "print(hex(512))"
   ]
  },
  {
   "cell_type": "code",
   "execution_count": 36,
   "metadata": {},
   "outputs": [
    {
     "name": "stdout",
     "output_type": "stream",
     "text": [
      " 0 in hex is 00\n",
      " 1 in hex is 01\n",
      " 2 in hex is 02\n",
      " 3 in hex is 03\n",
      " 4 in hex is 04\n",
      " 5 in hex is 05\n",
      " 6 in hex is 06\n",
      " 7 in hex is 07\n",
      " 8 in hex is 08\n",
      " 9 in hex is 09\n",
      "10 in hex is 0a\n",
      "11 in hex is 0b\n",
      "12 in hex is 0c\n",
      "13 in hex is 0d\n",
      "14 in hex is 0e\n",
      "15 in hex is 0f\n",
      "16 in hex is 10\n",
      "17 in hex is 11\n",
      "18 in hex is 12\n",
      "19 in hex is 13\n"
     ]
    }
   ],
   "source": [
    "for i in range(20):\n",
    "    print(f'{i:>2} in hex is {i:>02x}')"
   ]
  },
  {
   "cell_type": "markdown",
   "metadata": {},
   "source": [
    "### <ins>Binary</ins>\n",
    "Using the function <code>bin()</code> you can convert numbers into their [binary](https://en.wikipedia.org/wiki/Binary_number) format."
   ]
  },
  {
   "cell_type": "code",
   "execution_count": 37,
   "metadata": {},
   "outputs": [
    {
     "data": {
      "text/plain": [
       "'0b10011010010'"
      ]
     },
     "execution_count": 37,
     "metadata": {},
     "output_type": "execute_result"
    }
   ],
   "source": [
    "bin(1234)"
   ]
  },
  {
   "cell_type": "code",
   "execution_count": 38,
   "metadata": {},
   "outputs": [
    {
     "data": {
      "text/plain": [
       "1234"
      ]
     },
     "execution_count": 38,
     "metadata": {},
     "output_type": "execute_result"
    }
   ],
   "source": [
    "int('0b10011010010', 2)   # base 2"
   ]
  },
  {
   "cell_type": "code",
   "execution_count": 39,
   "metadata": {},
   "outputs": [
    {
     "data": {
      "text/plain": [
       "'0b10000000'"
      ]
     },
     "execution_count": 39,
     "metadata": {},
     "output_type": "execute_result"
    }
   ],
   "source": [
    "bin(128)"
   ]
  },
  {
   "cell_type": "code",
   "execution_count": 40,
   "metadata": {},
   "outputs": [
    {
     "data": {
      "text/plain": [
       "'0b0'"
      ]
     },
     "execution_count": 40,
     "metadata": {},
     "output_type": "execute_result"
    }
   ],
   "source": [
    "bin(0)"
   ]
  },
  {
   "cell_type": "code",
   "execution_count": 41,
   "metadata": {},
   "outputs": [
    {
     "name": "stdout",
     "output_type": "stream",
     "text": [
      " 0 in binary is 00000000\n",
      " 1 in binary is 00000001\n",
      " 2 in binary is 00000010\n",
      " 3 in binary is 00000011\n",
      " 4 in binary is 00000100\n",
      " 5 in binary is 00000101\n",
      " 6 in binary is 00000110\n",
      " 7 in binary is 00000111\n",
      " 8 in binary is 00001000\n",
      " 9 in binary is 00001001\n",
      "10 in binary is 00001010\n",
      "11 in binary is 00001011\n",
      "12 in binary is 00001100\n",
      "13 in binary is 00001101\n",
      "14 in binary is 00001110\n",
      "15 in binary is 00001111\n",
      "16 in binary is 00010000\n"
     ]
    }
   ],
   "source": [
    "for i in range(17):\n",
    "    print(f'{i:>2} in binary is {i:>08b}')"
   ]
  },
  {
   "cell_type": "markdown",
   "metadata": {},
   "source": [
    "### <ins>Octagonal</ins>"
   ]
  },
  {
   "cell_type": "code",
   "execution_count": 42,
   "metadata": {},
   "outputs": [
    {
     "data": {
      "text/plain": [
       "'0o362507'"
      ]
     },
     "execution_count": 42,
     "metadata": {},
     "output_type": "execute_result"
    }
   ],
   "source": [
    "oct(124231)"
   ]
  }
 ],
 "metadata": {
  "kernelspec": {
   "display_name": "Python 3",
   "language": "python",
   "name": "python3"
  },
  "language_info": {
   "codemirror_mode": {
    "name": "ipython",
    "version": 3
   },
   "file_extension": ".py",
   "mimetype": "text/x-python",
   "name": "python",
   "nbconvert_exporter": "python",
   "pygments_lexer": "ipython3",
   "version": "3.7.6"
  }
 },
 "nbformat": 4,
 "nbformat_minor": 2
}
