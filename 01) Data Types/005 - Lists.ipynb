{
 "cells": [
  {
   "cell_type": "markdown",
   "metadata": {},
   "source": [
    "<h1 align=\"center\">LISTS</h1>\n",
    "<h2 align=\"left\"><ins>Lesson Guide</ins></h2>\n",
    "\n",
    "- [**INDEXING & SLICING**](#indexing)\n",
    "- [**BASIC BUILT-IN LIST METHODS**](#basic_methods)\n",
    "    - [**Append, Extend & Insert**](#append)\n",
    "    - [**Pop, Remove & Del**](#pop)\n",
    "    - [**Sort & Reverse**](#sort)\n",
    "    - [**Count & Index**](#count)\n",
    "- [**LIST UNPACKING**](#unpack)\n",
    "- [**NESTING LISTS**](#nesting)\n",
    "- [**ITERTOOLS MODULE**](#itertools)\n",
    "- [**BE CAREFUL WITH ASSIGNMENT**](#caution)\n",
    "- [**MORE EXAMPLES**](#examples)"
   ]
  },
  {
   "cell_type": "markdown",
   "metadata": {},
   "source": [
    "Earlier when discussing strings we introduced the concept of a *sequence* in Python. Lists can be thought of the most general version of a *sequence* in Python. **Unlike strings, they are mutable**, meaning the elements inside a list can be changed! Lists are constructed with brackets [ ] and commas separating every element in the list.\n",
    "\n",
    "Documentation: https://docs.python.org/3/library/stdtypes.html#lists"
   ]
  },
  {
   "cell_type": "markdown",
   "metadata": {},
   "source": [
    "<a id='indexing'></a>\n",
    "## INDEXING & SLICING\n",
    "Slicing is a powerful tool, but it's also quite easy to make mistakes with if you're not careful. Slicing is the process of creating a new sequence from some portion of an existing sequence. We can perform slicing on any sequence type in Python. This includes strings, lists, tuples, byte objects and byte arrays.\n",
    "\n",
    "Because slicing relies on the position of items in a sequence, it cannot be used on things like sets, which do not preserve order. More importantly, they aren't indexed by consecutive non-negative integers, which is why dictionaries also cannot be sliced, despite having a reliable ordering in modern Python.\n",
    "\n",
    "Two useful ways to slice an object:\n",
    "1. $\\;\\;\\;\\;\\;$**[start:end:step]**\n",
    "2. ```python\n",
    "slice(start, stop, step)\n",
    "```"
   ]
  },
  {
   "cell_type": "code",
   "execution_count": 1,
   "metadata": {},
   "outputs": [
    {
     "data": {
      "text/plain": [
       "[1, 3, 5, 7, 9]"
      ]
     },
     "execution_count": 1,
     "metadata": {},
     "output_type": "execute_result"
    }
   ],
   "source": [
    "numbers = [1,2,3,4,5,6,7,8,9,10]\n",
    "\n",
    "# creating a slice object that will select every second value from beginning to end\n",
    "slice_instance = slice(0,-1,2)\n",
    "numbers[slice_instance]"
   ]
  },
  {
   "cell_type": "code",
   "execution_count": 2,
   "metadata": {},
   "outputs": [
    {
     "data": {
      "text/plain": [
       "[1, 4, 7]"
      ]
     },
     "execution_count": 2,
     "metadata": {},
     "output_type": "execute_result"
    }
   ],
   "source": [
    "# Instead of going through this process of defining a slice object, \n",
    "# binding it to a variable, and then providing that variable name as\n",
    "# part of the subscript syntax, we can do the following:\n",
    "numbers[slice(0,-1,3)]"
   ]
  },
  {
   "cell_type": "code",
   "execution_count": 3,
   "metadata": {},
   "outputs": [
    {
     "name": "stdout",
     "output_type": "stream",
     "text": [
      "['Anna', 'Bob']\n",
      "['Anna', 'Bob', 'Jen']\n",
      "['Rolf', 'Charlie', 'Anna', 'Bob']\n",
      "['Rolf', 'Charlie', 'Anna', 'Bob', 'Jen']\n",
      "['Anna', 'Bob', 'Jen']\n",
      "['Rolf', 'Charlie', 'Anna']\n",
      "['Anna', 'Bob']\n"
     ]
    }
   ],
   "source": [
    "friends = [\"Rolf\", \"Charlie\", \"Anna\", \"Bob\", \"Jen\"]\n",
    "\n",
    "print(friends[2:4])  # starts at 2 and ends at the beginning of 4\n",
    "print(friends[2:])   # starts at 2 until the end\n",
    "print(friends[:4])   # starts from beginning and ends at beginning of 4 \n",
    "\n",
    "print(friends[:])  #returns all the elements but in a new list\n",
    "\n",
    "print(friends[-3:])    # starts at -3 until the end\n",
    "print(friends[:-2])    # starts at beginning and ends at -2 (exclusive)\n",
    "print(friends[-3:-1])  # starts at -3 and ends at -1 (exclusive)"
   ]
  },
  {
   "cell_type": "markdown",
   "metadata": {},
   "source": [
    "More advanced content:\n",
    "\n",
    "- https://blog.tecladocode.com/python-slices/\n",
    "- https://blog.tecladocode.com/python-slices-part-2/"
   ]
  },
  {
   "cell_type": "code",
   "execution_count": 4,
   "metadata": {},
   "outputs": [
    {
     "name": "stdout",
     "output_type": "stream",
     "text": [
      "[2, 4]\n",
      "[5, 4, 3]\n",
      "[]\n"
     ]
    }
   ],
   "source": [
    "numbers = [1,2,3,4,5,6,7,8,9]\n",
    "\n",
    "print(numbers[1:4:2])     # starting at 1 and ending at 4 exclusive, we skip every second number\n",
    "print(numbers[4:1:-1])    # starting at 4 and ending at 1 exclusive, we count backwards\n",
    "print(numbers[1:4:-1])    # notice how this is an empty list (since we can't start at 1 and end at 4 counting backwards)"
   ]
  },
  {
   "cell_type": "code",
   "execution_count": 5,
   "metadata": {},
   "outputs": [
    {
     "name": "stdout",
     "output_type": "stream",
     "text": [
      "['Jen', 'Bob', 'Anna', 'Charlie', 'Rolf']\n",
      "!dlroW olleH\n"
     ]
    }
   ],
   "source": [
    "# we can obtain the list in reverse the same way as with strings\n",
    "friends_reversed = friends[::-1]\n",
    "print(friends_reversed)\n",
    "\n",
    "greet = 'Hello World!'\n",
    "print(greet[::-1])"
   ]
  },
  {
   "cell_type": "code",
   "execution_count": 6,
   "metadata": {},
   "outputs": [
    {
     "name": "stdout",
     "output_type": "stream",
     "text": [
      "[1, 2, 4]\n"
     ]
    }
   ],
   "source": [
    "numbers = [1,3,3]\n",
    "\n",
    "numbers[2] = 4\n",
    "numbers[1:2] = [2]  # this only works if we have [2] and not 2\n",
    "print(numbers)       "
   ]
  },
  {
   "cell_type": "code",
   "execution_count": 7,
   "metadata": {},
   "outputs": [
    {
     "name": "stdout",
     "output_type": "stream",
     "text": [
      "[1, 2, 3, 4, 5]\n"
     ]
    }
   ],
   "source": [
    "numbers = [1,3,5]\n",
    "\n",
    "numbers[1:3] = [2,3,4,5]\n",
    "print(numbers)"
   ]
  },
  {
   "cell_type": "code",
   "execution_count": 8,
   "metadata": {},
   "outputs": [
    {
     "name": "stdout",
     "output_type": "stream",
     "text": [
      "[1, 2, 3, 4, 5]\n"
     ]
    }
   ],
   "source": [
    "numbers = [1,3,3,5,5]\n",
    "\n",
    "numbers[1:4:2] = [2,4]\n",
    "print(numbers)"
   ]
  },
  {
   "cell_type": "code",
   "execution_count": 9,
   "metadata": {},
   "outputs": [
    {
     "ename": "ValueError",
     "evalue": "attempt to assign sequence of size 2 to extended slice of size 1",
     "output_type": "error",
     "traceback": [
      "\u001b[1;31m---------------------------------------------------------------------------\u001b[0m",
      "\u001b[1;31mValueError\u001b[0m                                Traceback (most recent call last)",
      "\u001b[1;32m<ipython-input-9-cc2c75dc38fe>\u001b[0m in \u001b[0;36m<module>\u001b[1;34m\u001b[0m\n\u001b[0;32m      1\u001b[0m \u001b[0mnumbers\u001b[0m \u001b[1;33m=\u001b[0m \u001b[1;33m[\u001b[0m\u001b[1;36m1\u001b[0m\u001b[1;33m,\u001b[0m\u001b[1;36m3\u001b[0m\u001b[1;33m,\u001b[0m\u001b[1;36m3\u001b[0m\u001b[1;33m,\u001b[0m\u001b[1;36m5\u001b[0m\u001b[1;33m,\u001b[0m\u001b[1;36m5\u001b[0m\u001b[1;33m]\u001b[0m\u001b[1;33m\u001b[0m\u001b[1;33m\u001b[0m\u001b[0m\n\u001b[0;32m      2\u001b[0m \u001b[1;33m\u001b[0m\u001b[0m\n\u001b[1;32m----> 3\u001b[1;33m \u001b[0mnumbers\u001b[0m\u001b[1;33m[\u001b[0m\u001b[1;36m1\u001b[0m\u001b[1;33m:\u001b[0m\u001b[1;36m3\u001b[0m\u001b[1;33m:\u001b[0m\u001b[1;36m2\u001b[0m\u001b[1;33m]\u001b[0m \u001b[1;33m=\u001b[0m \u001b[1;33m[\u001b[0m\u001b[1;36m2\u001b[0m\u001b[1;33m,\u001b[0m\u001b[1;36m4\u001b[0m\u001b[1;33m]\u001b[0m\u001b[1;33m\u001b[0m\u001b[1;33m\u001b[0m\u001b[0m\n\u001b[0m\u001b[0;32m      4\u001b[0m \u001b[0mprint\u001b[0m\u001b[1;33m(\u001b[0m\u001b[0mnumbers\u001b[0m\u001b[1;33m)\u001b[0m\u001b[1;33m\u001b[0m\u001b[1;33m\u001b[0m\u001b[0m\n\u001b[0;32m      5\u001b[0m \u001b[1;33m\u001b[0m\u001b[0m\n",
      "\u001b[1;31mValueError\u001b[0m: attempt to assign sequence of size 2 to extended slice of size 1"
     ]
    }
   ],
   "source": [
    "numbers = [1,3,3,5,5]\n",
    "\n",
    "numbers[1:3:2] = [2,4]  \n",
    "print(numbers)\n",
    "\n",
    "# we now get an error because the slice can't perform asymmetrical assignment"
   ]
  },
  {
   "cell_type": "code",
   "execution_count": 10,
   "metadata": {},
   "outputs": [
    {
     "name": "stdout",
     "output_type": "stream",
     "text": [
      "Brandi\n",
      "Alex\n",
      "There are 5 students in the class. They are: ['Brandi', 'Zoe', 'Steve', 'Alex', 'Dasha']\n",
      "There are 5 students in the class. They are: ['Brandi', 'Zoe', 'Steve', 'Alex', 'Dasha']\n"
     ]
    }
   ],
   "source": [
    "# declare a list of names\n",
    "my_class = [\"Brandi\", \"Zoe\", \"Steve\", \"Alex\", \"Dasha\"]\n",
    "\n",
    "# print the first and fourth name on the list\n",
    "print(my_class[0])\n",
    "print(my_class[3])\n",
    "\n",
    "# get the length of the list and assign it to a new variable\n",
    "num_students = len(my_class)  #recall that len starts counting at 1\n",
    "\n",
    "# Method 1\n",
    "print('There are', num_students, 'students in the class. They are:', my_class)\n",
    "# Method 2\n",
    "print('There are %d students in the class. They are: %s' % (num_students, my_class))"
   ]
  },
  {
   "cell_type": "markdown",
   "metadata": {},
   "source": [
    "<a id='basic_methods'></a>\n",
    "## BASIC BUILT-IN LIST METHODS\n",
    "If you are familiar with another programming language, you might start to draw parallels between arrays in another language and lists in Python. Lists in Python however, tend to be more flexible than arrays in other languages for two good reasons: they have no fixed size (meaning we don't have to specify how big a list will be), and they have no fixed type constraint."
   ]
  },
  {
   "cell_type": "code",
   "execution_count": 11,
   "metadata": {
    "scrolled": true
   },
   "outputs": [
    {
     "name": "stdout",
     "output_type": "stream",
     "text": [
      "['__add__', '__class__', '__contains__', '__delattr__', '__delitem__', '__dir__', '__doc__', '__eq__', '__format__', '__ge__', '__getattribute__', '__getitem__', '__gt__', '__hash__', '__iadd__', '__imul__', '__init__', '__init_subclass__', '__iter__', '__le__', '__len__', '__lt__', '__mul__', '__ne__', '__new__', '__reduce__', '__reduce_ex__', '__repr__', '__reversed__', '__rmul__', '__setattr__', '__setitem__', '__sizeof__', '__str__', '__subclasshook__', 'append', 'clear', 'copy', 'count', 'extend', 'index', 'insert', 'pop', 'remove', 'reverse', 'sort']\n"
     ]
    }
   ],
   "source": [
    "print(dir(list))"
   ]
  },
  {
   "cell_type": "code",
   "execution_count": 12,
   "metadata": {},
   "outputs": [
    {
     "name": "stdout",
     "output_type": "stream",
     "text": [
      "Help on method_descriptor:\n",
      "\n",
      "append(self, object, /)\n",
      "    Append object to the end of the list.\n",
      "\n"
     ]
    }
   ],
   "source": [
    "help(list.append)"
   ]
  },
  {
   "cell_type": "markdown",
   "metadata": {},
   "source": [
    "Documentation: https://docs.python.org/3/tutorial/datastructures.html#more-on-lists"
   ]
  },
  {
   "cell_type": "code",
   "execution_count": 13,
   "metadata": {},
   "outputs": [],
   "source": [
    "my_class = [\"Brandi\", \"Zoe\", \"Steve\", \"Alex\", \"Dasha\"]"
   ]
  },
  {
   "cell_type": "code",
   "execution_count": 14,
   "metadata": {},
   "outputs": [
    {
     "data": {
      "text/plain": [
       "5"
      ]
     },
     "execution_count": 14,
     "metadata": {},
     "output_type": "execute_result"
    }
   ],
   "source": [
    "# returns the number of objects inside the list\n",
    "len(my_class) "
   ]
  },
  {
   "cell_type": "code",
   "execution_count": 15,
   "metadata": {},
   "outputs": [
    {
     "name": "stdout",
     "output_type": "stream",
     "text": [
      "Alex\n",
      "Zoe\n"
     ]
    }
   ],
   "source": [
    "print(min(my_class))\n",
    "print(max(my_class))"
   ]
  },
  {
   "cell_type": "code",
   "execution_count": 16,
   "metadata": {},
   "outputs": [],
   "source": [
    "my_class_with_ages = [\"Brandi\", \"Zoe\", \"Steve\", \"Alex\", \"Dasha\", 20, 36, 17]"
   ]
  },
  {
   "cell_type": "code",
   "execution_count": 17,
   "metadata": {},
   "outputs": [
    {
     "ename": "TypeError",
     "evalue": "'<' not supported between instances of 'int' and 'str'",
     "output_type": "error",
     "traceback": [
      "\u001b[1;31m---------------------------------------------------------------------------\u001b[0m",
      "\u001b[1;31mTypeError\u001b[0m                                 Traceback (most recent call last)",
      "\u001b[1;32m<ipython-input-17-50fe626bad14>\u001b[0m in \u001b[0;36m<module>\u001b[1;34m\u001b[0m\n\u001b[0;32m      1\u001b[0m \u001b[1;31m# python cannot compare integers with strings\u001b[0m\u001b[1;33m\u001b[0m\u001b[1;33m\u001b[0m\u001b[1;33m\u001b[0m\u001b[0m\n\u001b[1;32m----> 2\u001b[1;33m \u001b[0mprint\u001b[0m\u001b[1;33m(\u001b[0m\u001b[0mmin\u001b[0m\u001b[1;33m(\u001b[0m\u001b[0mmy_class_with_ages\u001b[0m\u001b[1;33m)\u001b[0m\u001b[1;33m)\u001b[0m\u001b[1;33m\u001b[0m\u001b[1;33m\u001b[0m\u001b[0m\n\u001b[0m\u001b[0;32m      3\u001b[0m \u001b[0mprint\u001b[0m\u001b[1;33m(\u001b[0m\u001b[0mmax\u001b[0m\u001b[1;33m(\u001b[0m\u001b[0mmy_class_with_ages\u001b[0m\u001b[1;33m)\u001b[0m\u001b[1;33m)\u001b[0m\u001b[1;33m\u001b[0m\u001b[1;33m\u001b[0m\u001b[0m\n",
      "\u001b[1;31mTypeError\u001b[0m: '<' not supported between instances of 'int' and 'str'"
     ]
    }
   ],
   "source": [
    "# python cannot compare integers with strings\n",
    "print(min(my_class_with_ages))\n",
    "print(max(my_class_with_ages))"
   ]
  },
  {
   "cell_type": "markdown",
   "metadata": {},
   "source": [
    "<a id='append'></a>\n",
    "### <ins>Append, Extend & Insert</ins>\n",
    "Use the **append**, **extend** and **insert** method to permanently add an item to a list:\n",
    "\n",
    "- <code>insert()</code> takes in two arguments: <code>insert(index,object)</code> This method places the object at the index supplied.\n",
    "- <code>append()</code>: appends whole object at end:\n",
    "- <code>extend()</code>: extends list by appending elements from an iterable (i.e. a list):\n",
    "> __These methods are actions only and do not return a value.<br>They will only modify the original list.<br>Thus they are not assigned to a variable.__ "
   ]
  },
  {
   "cell_type": "code",
   "execution_count": 18,
   "metadata": {},
   "outputs": [
    {
     "name": "stdout",
     "output_type": "stream",
     "text": [
      "['Brandi', 'Zoe', 'Steve', 'Alex', 'Dasha']\n",
      "['Brandi', 'Zoe', 'Steve', 'Alex', 'Dasha', 'Sonya']\n",
      "['Brandi', 'Zoe', 'Steve', 'Alex', 'Dasha', 'Sonya', 'Michael', 'Jose']\n",
      "['Brandi', 'Bruce', 'Zoe', 'Steve', 'Alex', 'Dasha', 'Sonya', 'Michael', 'Jose']\n"
     ]
    }
   ],
   "source": [
    "# declare a list of names\n",
    "my_class = [\"Brandi\", \"Zoe\", \"Steve\", \"Alex\", \"Dasha\"]\n",
    "print(my_class)\n",
    "\n",
    "# add an item to the end of the list\n",
    "my_class.append(\"Sonya\")\n",
    "print(my_class)\n",
    "\n",
    "# add multiple items to the end of the list\n",
    "my_class.extend(['Michael', 'Jose'])\n",
    "print(my_class)\n",
    "\n",
    "# insert an item anywhere in a list\n",
    "my_class.insert(1, \"Bruce\")     # (index, object to be inserted)\n",
    "print(my_class)\n",
    "\n",
    "# my_class.insert([(0, \"Benji\"),(4, 'Aidan')])   # this will not work"
   ]
  },
  {
   "cell_type": "markdown",
   "metadata": {},
   "source": [
    "We can also use + to concatenate lists, just like we did for strings."
   ]
  },
  {
   "cell_type": "code",
   "execution_count": 19,
   "metadata": {},
   "outputs": [
    {
     "data": {
      "text/plain": [
       "['Brandi', 'Zoe', 'Steve', 'Alex', 'Dasha', 'john', 'david']"
      ]
     },
     "execution_count": 19,
     "metadata": {},
     "output_type": "execute_result"
    }
   ],
   "source": [
    "my_class = [\"Brandi\", \"Zoe\", \"Steve\", \"Alex\", \"Dasha\"]\n",
    "other_class = ['john', 'david']\n",
    "\n",
    "my_class + other_class"
   ]
  },
  {
   "cell_type": "markdown",
   "metadata": {},
   "source": [
    "We can also use the * for a duplication method similar to strings:"
   ]
  },
  {
   "cell_type": "code",
   "execution_count": 20,
   "metadata": {},
   "outputs": [
    {
     "data": {
      "text/plain": [
       "['john', 'david', 'john', 'david']"
      ]
     },
     "execution_count": 20,
     "metadata": {},
     "output_type": "execute_result"
    }
   ],
   "source": [
    "other_class * 2"
   ]
  },
  {
   "cell_type": "markdown",
   "metadata": {},
   "source": [
    "<a id='pop'></a>\n",
    "### <ins>Pop, Remove & Del</ins>\n",
    "Use **pop** (or **remove** and **del**) to \"pop off\" an item from the list.\n",
    "- <code>pop(index=-1)</code> returns a value so it can be assigned to a variable. By default pop takes off the last index, but you can also specify which index to pop off.\n",
    "- <code>remove(value)</code> removes the first occurrence of `value` but does not return anything.\n",
    "- <code>clear()</code> removes all items from list and leaves an empty list in memeory.\n",
    "- <code>del</code> keyword can be used to completely delete the list from memory, but can also be used to delete parts of a list as well."
   ]
  },
  {
   "cell_type": "code",
   "execution_count": 21,
   "metadata": {},
   "outputs": [
    {
     "name": "stdout",
     "output_type": "stream",
     "text": [
      "The first student removed from class was Peter.\n",
      "The next student to go was Zoe.\n",
      "The students remaining in the class are: Brandi, Steve, Harvey.\n"
     ]
    }
   ],
   "source": [
    "my_class = [\"Brandi\", \"Zoe\", \"Steve\", \"Alex\", \"Dasha\", \"Harvey\", \"Peter\"]\n",
    "\n",
    "popped = my_class.pop()  # removes 'Peter' from the list and stored in a variable\n",
    "print(f'The first student removed from class was {popped}.')\n",
    "      \n",
    "pop_1 = my_class.pop(1)   # removes 'Zoe' from the list\n",
    "print(f'The next student to go was {pop_1}.')\n",
    "\n",
    "del my_class[2]  # this will delete 'Alex' from the list\n",
    "\n",
    "my_class.remove('Dasha') # used to remove a specific item based on name (not index) without returning anything\n",
    "\n",
    "print(f\"The students remaining in the class are: {', '.join(my_class)}.\")"
   ]
  },
  {
   "cell_type": "markdown",
   "metadata": {},
   "source": [
    "<a id='sort'></a>\n",
    "### <ins>Sort & Reverse</ins>\n",
    "We can use the <code>sort(key=)</code> or <code>sorted(iterable,key=)</code> and the <code>reverse()</code> methods to modify our list:\n",
    "- These two sorting methods are not the same, though they produce the same results. \n",
    "- <code>sort()</code> will only update the original list, while <code>sorted()</code> will create a new list. "
   ]
  },
  {
   "cell_type": "code",
   "execution_count": 22,
   "metadata": {},
   "outputs": [
    {
     "name": "stdout",
     "output_type": "stream",
     "text": [
      "['Alex', 'Brandi', 'Dasha', 'Steve', 'Zoe']\n",
      "['Zoe', 'Steve', 'Dasha', 'Brandi', 'Alex']\n",
      "['Alex', 'Brandi', 'Dasha', 'Steve', 'Zoe']\n",
      "['Zoe', 'Steve', 'Dasha', 'Brandi', 'Alex']\n"
     ]
    }
   ],
   "source": [
    "my_class = [\"Brandi\", \"Zoe\", \"Steve\", \"Alex\", \"Dasha\"]\n",
    "\n",
    "#print(my_class.sort())  # this produces 'None'\n",
    "my_class.sort()\n",
    "print(my_class)\n",
    "\n",
    "my_class.sort(reverse=True)\n",
    "print(my_class)\n",
    "\n",
    "my_class = [\"Brandi\", \"Zoe\", \"Steve\", \"Alex\", \"Dasha\"]\n",
    "print(sorted(my_class))\n",
    "print(sorted(my_class, reverse=True))"
   ]
  },
  {
   "cell_type": "code",
   "execution_count": 23,
   "metadata": {},
   "outputs": [
    {
     "name": "stdout",
     "output_type": "stream",
     "text": [
      "[('dave', 'B', 10), ('jane', 'B', 12), ('john', 'A', 15)]\n",
      "[('john', 'A', 15), ('jane', 'B', 12), ('dave', 'B', 10)]\n"
     ]
    }
   ],
   "source": [
    "students = [('john', 'A', 15),('jane', 'B', 12),('dave', 'B', 10)]\n",
    "\n",
    "# sort by 3rd value in tuple\n",
    "print(sorted(students, key=lambda x: x[2]))\n",
    "\n",
    "# sort by 2nd value in tuple\n",
    "students.sort(key=lambda x: x[1])\n",
    "print(students)"
   ]
  },
  {
   "cell_type": "markdown",
   "metadata": {},
   "source": [
    "Another method for sorting is to use the operator module"
   ]
  },
  {
   "cell_type": "code",
   "execution_count": 24,
   "metadata": {},
   "outputs": [
    {
     "name": "stdout",
     "output_type": "stream",
     "text": [
      "[('dave', 'B', 10), ('jane', 'B', 12), ('john', 'A', 15)]\n",
      "[('john', 'A', 15), ('dave', 'B', 10), ('jane', 'B', 12)]\n"
     ]
    }
   ],
   "source": [
    "from operator import itemgetter, attrgetter\n",
    "\n",
    "print(sorted(students, key=itemgetter(2)))     # sort by 3rd value in tuple\n",
    "print(sorted(students, key=itemgetter(1,2)))   # sort by 2nd value and then by 3rd value in tuple"
   ]
  },
  {
   "cell_type": "code",
   "execution_count": 25,
   "metadata": {},
   "outputs": [
    {
     "data": {
      "text/plain": [
       "['Dasha', 'Alex', 'Steve', 'Zoe', 'Brandi']"
      ]
     },
     "execution_count": 25,
     "metadata": {},
     "output_type": "execute_result"
    }
   ],
   "source": [
    "my_class = [\"Brandi\", \"Zoe\", \"Steve\", \"Alex\", \"Dasha\"]\n",
    "my_class.reverse()\n",
    "my_class"
   ]
  },
  {
   "cell_type": "code",
   "execution_count": 26,
   "metadata": {},
   "outputs": [
    {
     "name": "stdout",
     "output_type": "stream",
     "text": [
      "!dlroW olleH\n",
      "['!', 'd', 'l', 'r', 'o', 'W', ' ', 'o', 'l', 'l', 'e', 'H']\n",
      "!dlroW olleH\n"
     ]
    }
   ],
   "source": [
    "my_string = \"Hello World!\"\n",
    "string_list = [char for char in my_string]\n",
    "\n",
    "print(my_string[::-1])\n",
    "\n",
    "string_list.reverse()\n",
    "\n",
    "print(string_list)\n",
    "print(''.join(string_list))"
   ]
  },
  {
   "cell_type": "markdown",
   "metadata": {},
   "source": [
    "<a id='count'></a>\n",
    "### <ins>Count & Index</ins>"
   ]
  },
  {
   "cell_type": "markdown",
   "metadata": {},
   "source": [
    "<code>**count()**</code> takes in an element and returns the number of times it occurs in your list:"
   ]
  },
  {
   "cell_type": "code",
   "execution_count": 27,
   "metadata": {},
   "outputs": [
    {
     "name": "stdout",
     "output_type": "stream",
     "text": [
      "3\n",
      "0\n"
     ]
    }
   ],
   "source": [
    "list1 = [1,1,1,2,2,2,3,3,4,4,5,6,7,7,9]\n",
    "\n",
    "print(list1.count(2))\n",
    "print(list1.count(10))  # this still works and returns a zero"
   ]
  },
  {
   "cell_type": "markdown",
   "metadata": {},
   "source": [
    "<code>**index(value, start=, stop=)**</code> will return the index of whatever element is placed as an argument. Note: If the the element is not in the list an error is raised."
   ]
  },
  {
   "cell_type": "code",
   "execution_count": 28,
   "metadata": {},
   "outputs": [
    {
     "name": "stdout",
     "output_type": "stream",
     "text": [
      "3\n"
     ]
    }
   ],
   "source": [
    "print(list1.index(2))    # note that we only get the index of the first occurence of '2' in the list.\n",
    "\n",
    "# print(list1.index(12))  # this produces an error since 12 is not in the list"
   ]
  },
  {
   "cell_type": "code",
   "execution_count": 29,
   "metadata": {},
   "outputs": [
    {
     "data": {
      "text/plain": [
       "3"
      ]
     },
     "execution_count": 29,
     "metadata": {},
     "output_type": "execute_result"
    }
   ],
   "source": [
    "list2 = ['a', 'b', 'c', 'd', 'e', 'f', 'g']\n",
    "list2.index('d')"
   ]
  },
  {
   "cell_type": "code",
   "execution_count": 30,
   "metadata": {},
   "outputs": [
    {
     "ename": "ValueError",
     "evalue": "'f' is not in list",
     "output_type": "error",
     "traceback": [
      "\u001b[1;31m---------------------------------------------------------------------------\u001b[0m",
      "\u001b[1;31mValueError\u001b[0m                                Traceback (most recent call last)",
      "\u001b[1;32m<ipython-input-30-fd5942d72915>\u001b[0m in \u001b[0;36m<module>\u001b[1;34m\u001b[0m\n\u001b[1;32m----> 1\u001b[1;33m \u001b[0mlist2\u001b[0m\u001b[1;33m.\u001b[0m\u001b[0mindex\u001b[0m\u001b[1;33m(\u001b[0m\u001b[1;34m'f'\u001b[0m\u001b[1;33m,\u001b[0m\u001b[1;36m0\u001b[0m\u001b[1;33m,\u001b[0m\u001b[1;36m3\u001b[0m\u001b[1;33m)\u001b[0m   \u001b[1;31m# start=0, stop=3\u001b[0m\u001b[1;33m\u001b[0m\u001b[1;33m\u001b[0m\u001b[0m\n\u001b[0m\u001b[0;32m      2\u001b[0m \u001b[1;33m\u001b[0m\u001b[0m\n\u001b[0;32m      3\u001b[0m \u001b[1;31m# list2.index('f', start=0, stop=3)  does not work\u001b[0m\u001b[1;33m\u001b[0m\u001b[1;33m\u001b[0m\u001b[1;33m\u001b[0m\u001b[0m\n",
      "\u001b[1;31mValueError\u001b[0m: 'f' is not in list"
     ]
    }
   ],
   "source": [
    "list2.index('f',0,3)   # start=0, stop=3  \n",
    "\n",
    "# list2.index('f', start=0, stop=3)  does not work"
   ]
  },
  {
   "cell_type": "markdown",
   "metadata": {},
   "source": [
    "<a id='unpack'></a>\n",
    "## LIST UNPACKING"
   ]
  },
  {
   "cell_type": "code",
   "execution_count": 31,
   "metadata": {},
   "outputs": [
    {
     "name": "stdout",
     "output_type": "stream",
     "text": [
      "1\n",
      "2\n",
      "3\n",
      "[4, 5, 6, 7, 8]\n",
      "9\n"
     ]
    }
   ],
   "source": [
    "a,b,c, *other, d = [1,2,3,4,5,6,7,8,9]\n",
    "print(a)\n",
    "print(b)\n",
    "print(c)\n",
    "print(other)\n",
    "print(d)"
   ]
  },
  {
   "cell_type": "markdown",
   "metadata": {},
   "source": [
    "<a id='nesting'></a>\n",
    "## NESTING LISTS\n",
    "A great feature of Python data structures is that they support *nesting*. This means we can have data structures within data structures. For example: A list inside a list."
   ]
  },
  {
   "cell_type": "code",
   "execution_count": 32,
   "metadata": {},
   "outputs": [
    {
     "data": {
      "text/plain": [
       "[[1, 2, 3], [4, 5, 6], [7, 8, 9]]"
      ]
     },
     "execution_count": 32,
     "metadata": {},
     "output_type": "execute_result"
    }
   ],
   "source": [
    "# Let's make three lists\n",
    "lst_1=[1,2,3]\n",
    "lst_2=[4,5,6]\n",
    "lst_3=[7,8,9]\n",
    "\n",
    "# Make a list of lists to form a matrix\n",
    "matrix = [lst_1,lst_2,lst_3]\n",
    "matrix"
   ]
  },
  {
   "cell_type": "markdown",
   "metadata": {},
   "source": [
    "We can again use indexing to grab elements, but now there are two levels for the index. The items in the matrix object, and then the items inside that list!"
   ]
  },
  {
   "cell_type": "code",
   "execution_count": 33,
   "metadata": {},
   "outputs": [
    {
     "name": "stdout",
     "output_type": "stream",
     "text": [
      "[1, 2, 3]\n",
      "1\n"
     ]
    }
   ],
   "source": [
    "# Grab first item in matrix object\n",
    "print(matrix[0])\n",
    "\n",
    "# Grab first item of the first item in the matrix object\n",
    "print(matrix[0][0])"
   ]
  },
  {
   "cell_type": "markdown",
   "metadata": {},
   "source": [
    "<a id='itertools'></a>\n",
    "## ITERTOOLS MODULE"
   ]
  },
  {
   "cell_type": "code",
   "execution_count": 34,
   "metadata": {},
   "outputs": [
    {
     "data": {
      "text/plain": [
       "[1, 2, 3, 4, 5, 6, 7, 8, 9]"
      ]
     },
     "execution_count": 34,
     "metadata": {},
     "output_type": "execute_result"
    }
   ],
   "source": [
    "from itertools import chain\n",
    "\n",
    "list(chain.from_iterable(matrix))"
   ]
  },
  {
   "cell_type": "code",
   "execution_count": 35,
   "metadata": {},
   "outputs": [
    {
     "data": {
      "text/plain": [
       "['apple', 'orange', 'mango', 'steak', 'bbq', 'ham']"
      ]
     },
     "execution_count": 35,
     "metadata": {},
     "output_type": "execute_result"
    }
   ],
   "source": [
    "list_of_list = [[\"apple\", \"orange\",\"mango\"], [\"steak\", \"bbq\", \"ham\"]]\n",
    "\n",
    "from itertools import chain\n",
    "\n",
    "list(chain.from_iterable(list_of_list))"
   ]
  },
  {
   "cell_type": "markdown",
   "metadata": {},
   "source": [
    "<a id='caution'></a>\n",
    "## BE CAREFUL WITH ASSIGNMENT\n",
    "A common programming mistake is to assume you can assign a modified list to a new variable. While this typically works with immutable objects like strings and tuples:"
   ]
  },
  {
   "cell_type": "code",
   "execution_count": 36,
   "metadata": {},
   "outputs": [],
   "source": [
    "x = 'hello world'"
   ]
  },
  {
   "cell_type": "code",
   "execution_count": 37,
   "metadata": {},
   "outputs": [],
   "source": [
    "y = x.upper()"
   ]
  },
  {
   "cell_type": "code",
   "execution_count": 38,
   "metadata": {},
   "outputs": [
    {
     "name": "stdout",
     "output_type": "stream",
     "text": [
      "HELLO WORLD\n"
     ]
    }
   ],
   "source": [
    "print(y)"
   ]
  },
  {
   "cell_type": "markdown",
   "metadata": {},
   "source": [
    "This will NOT work the same way with lists:"
   ]
  },
  {
   "cell_type": "code",
   "execution_count": 39,
   "metadata": {},
   "outputs": [],
   "source": [
    "x = [1,2,3]"
   ]
  },
  {
   "cell_type": "code",
   "execution_count": 40,
   "metadata": {},
   "outputs": [],
   "source": [
    "y = x.append(4)"
   ]
  },
  {
   "cell_type": "code",
   "execution_count": 41,
   "metadata": {},
   "outputs": [
    {
     "name": "stdout",
     "output_type": "stream",
     "text": [
      "None\n",
      "[1, 2, 3, 4]\n"
     ]
    }
   ],
   "source": [
    "print(y)\n",
    "print(x)"
   ]
  },
  {
   "cell_type": "markdown",
   "metadata": {},
   "source": [
    "What happened? In this case, since list methods like <code>append()</code> affect the list *in-place*, the operation returns a None value. This is what was passed to **y**. In order to retain **x** you would have to assign a *copy* of **x** to **y**, and then modify **y**:"
   ]
  },
  {
   "cell_type": "code",
   "execution_count": 42,
   "metadata": {},
   "outputs": [],
   "source": [
    "x = [1,2,3]\n",
    "y = x.copy()\n",
    "y.append(4)"
   ]
  },
  {
   "cell_type": "code",
   "execution_count": 43,
   "metadata": {},
   "outputs": [
    {
     "name": "stdout",
     "output_type": "stream",
     "text": [
      "[1, 2, 3]\n"
     ]
    }
   ],
   "source": [
    "print(x)"
   ]
  },
  {
   "cell_type": "code",
   "execution_count": 44,
   "metadata": {},
   "outputs": [
    {
     "name": "stdout",
     "output_type": "stream",
     "text": [
      "[1, 2, 3, 4]\n"
     ]
    }
   ],
   "source": [
    "print(y)"
   ]
  },
  {
   "cell_type": "markdown",
   "metadata": {},
   "source": [
    "<a id='examples'></a>\n",
    "## MORE EXAMPLES"
   ]
  },
  {
   "cell_type": "code",
   "execution_count": 45,
   "metadata": {},
   "outputs": [
    {
     "data": {
      "text/plain": [
       "[(0, 20), (1, 20), (2, 10), (3, 3), (4, 2)]"
      ]
     },
     "execution_count": 45,
     "metadata": {},
     "output_type": "execute_result"
    }
   ],
   "source": [
    "my_list = [20,2,3,10,20]\n",
    "sorted_list = sorted(my_list, reverse=True)\n",
    "list(enumerate(sorted_list))"
   ]
  },
  {
   "cell_type": "code",
   "execution_count": 46,
   "metadata": {},
   "outputs": [
    {
     "name": "stdout",
     "output_type": "stream",
     "text": [
      "[1, 2, 3]\n",
      "['hello', 'world']\n",
      "The second name on the names list is Eric.\n"
     ]
    }
   ],
   "source": [
    "numbers = []\n",
    "strings = []\n",
    "names = [\"John\", \"Eric\", \"Jessica\"]\n",
    "\n",
    "# write your code here\n",
    "second_name = names[1]\n",
    "numbers.extend([1,2,3])        #extend is prefered over append to allow for multiple elements\n",
    "strings.extend(['hello','world'])\n",
    "\n",
    "# this code should write out the filled arrays and the second name in the names list (Eric).\n",
    "print(numbers)\n",
    "print(strings)\n",
    "print(\"The second name on the names list is %s.\" % second_name)"
   ]
  },
  {
   "cell_type": "code",
   "execution_count": 47,
   "metadata": {},
   "outputs": [
    {
     "name": "stdout",
     "output_type": "stream",
     "text": [
      "Brandi Zoe Steve Alex Dasha "
     ]
    }
   ],
   "source": [
    "my_class = [\"Brandi\", \"Zoe\", \"Steve\", \"Alex\", \"Dasha\"]\n",
    "for i in my_class:\n",
    "    print(i, end=' ')"
   ]
  },
  {
   "cell_type": "code",
   "execution_count": 48,
   "metadata": {},
   "outputs": [
    {
     "name": "stdout",
     "output_type": "stream",
     "text": [
      "odd_num: [1, 3, 5, 7, 9, 2, 4, 6, 8]\n",
      "all_numbers: [1, 2, 3, 4, 5, 6, 7, 8, 9]\n"
     ]
    }
   ],
   "source": [
    "even_num = [2,4,6,8]\n",
    "odd_num = [1,3,5,7,9]\n",
    "odd_num.extend(even_num)    #note that when extending a variable (rather than integer or string), \n",
    "                            # we don't need the [] brackets. \n",
    "all_numbers = odd_num       #this step is required as we cannot do all_numbers = odd_num.extend(even_num)\n",
    "#print(all_numbers.sort())  #this does not seem to work\n",
    "\n",
    "print('odd_num:', odd_num)\n",
    "print('all_numbers:', sorted(all_numbers))"
   ]
  },
  {
   "cell_type": "code",
   "execution_count": 49,
   "metadata": {},
   "outputs": [
    {
     "name": "stdout",
     "output_type": "stream",
     "text": [
      "['apple', 'steak']\n"
     ]
    }
   ],
   "source": [
    "list_of_list = [[\"apple\", \"orange\",\"mango\"], [\"steak\", \"bbq\", \"ham\"]]\n",
    "new_list = []\n",
    "for name in list_of_list:\n",
    "    for i in name:\n",
    "        new_list.append(i)\n",
    "        break\n",
    "print(new_list)\n",
    "    "
   ]
  },
  {
   "cell_type": "code",
   "execution_count": 50,
   "metadata": {},
   "outputs": [
    {
     "name": "stdout",
     "output_type": "stream",
     "text": [
      "['apple', 'orange', 'mango', 'steak', 'bbq', 'ham']\n"
     ]
    }
   ],
   "source": [
    "list_of_list = [[\"apple\", \"orange\",\"mango\"], [\"steak\", \"bbq\", \"ham\"]]\n",
    "new_list = []\n",
    "for name in list_of_list:\n",
    "    for i in name:\n",
    "        new_list.append(i)\n",
    "\n",
    "print(new_list)   "
   ]
  },
  {
   "cell_type": "code",
   "execution_count": 51,
   "metadata": {},
   "outputs": [
    {
     "name": "stdout",
     "output_type": "stream",
     "text": [
      "range(0, 11)\n",
      "[0, 1, 2, 3, 4, 5, 6, 7, 8, 9, 10]\n",
      "[0, 10, 20, 30, 40, 50, 60, 70, 80, 90, 100]\n",
      "i is now 11\n",
      "i is now 9\n",
      "i is now 7\n",
      "i is now 5\n",
      "i is now 3\n"
     ]
    }
   ],
   "source": [
    "print(range(0,11))\n",
    "\n",
    "print(list(range(0,11)))\n",
    "\n",
    "print(list(range(0,101,10)))\n",
    "\n",
    "for i in range(11,1,-2):\n",
    "    print(f\"i is now {i}\")"
   ]
  },
  {
   "cell_type": "code",
   "execution_count": 52,
   "metadata": {},
   "outputs": [
    {
     "name": "stdout",
     "output_type": "stream",
     "text": [
      "[0, 2, 4, 6, 8]\n",
      "[1, 3, 5, 7, 9]\n"
     ]
    }
   ],
   "source": [
    "even = list(range(0,10,2))\n",
    "odd = list(range(1,10,2))\n",
    "\n",
    "print(even)\n",
    "print(odd)"
   ]
  }
 ],
 "metadata": {
  "kernelspec": {
   "display_name": "Python 3",
   "language": "python",
   "name": "python3"
  },
  "language_info": {
   "codemirror_mode": {
    "name": "ipython",
    "version": 3
   },
   "file_extension": ".py",
   "mimetype": "text/x-python",
   "name": "python",
   "nbconvert_exporter": "python",
   "pygments_lexer": "ipython3",
   "version": "3.7.6"
  }
 },
 "nbformat": 4,
 "nbformat_minor": 2
}
