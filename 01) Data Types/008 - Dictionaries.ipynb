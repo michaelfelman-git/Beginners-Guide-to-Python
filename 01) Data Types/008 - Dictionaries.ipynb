{
 "cells": [
  {
   "cell_type": "markdown",
   "metadata": {},
   "source": [
    "<h1 align=\"center\">DICTIONARIES</h1>\n",
    "<h2 align=\"left\"><ins>Lesson Guide</ins></h2>\n",
    "\n",
    "- [**CONSTRUCTING A DICTIONARY**](#construct)\n",
    "- [**ACCESSING OBJECTS FROM A DICTIONARY**](#access)\n",
    "- [**BASIC BUILT-IN DICTIONARY METHODS**](#dic_methods)\n",
    "- [**SORTING DICTIONARIES**](#sorting)\n",
    "- [**NESTING DICTIONARIES**](#nesting)\n",
    "- [**DICTIONARY COMPREHENSIONS**](#comp)\n",
    "- [**MORE EXAMPLES**](#examples)\n",
    "\n",
    "So far we have been dealing with *sequences* in Python but now we're going to learn about *mappings* in Python. If you're familiar with other languages you can think of these Dictionaries as hash tables. \n",
    "\n",
    "So what are mappings? Mappings are a collection of objects that are stored by a *key*, unlike a sequence that stored objects by their relative position. This is an important distinction, since mappings won't retain order since they have objects defined by a key. (This is no longer true with the latest python updates)\n",
    "\n",
    "A Python dictionary consists of a key and then an associated value. That value can be almost any Python object.\n",
    "\n",
    "### <ins>Documentation</ins>\n",
    "https://docs.python.org/3/tutorial/datastructures.html#dictionaries       \n",
    "https://docs.python.org/3/library/stdtypes.html#mapping-types-dict"
   ]
  },
  {
   "cell_type": "code",
   "execution_count": 1,
   "metadata": {},
   "outputs": [
    {
     "name": "stdout",
     "output_type": "stream",
     "text": [
      "['__class__', '__contains__', '__delattr__', '__delitem__', '__dir__', '__doc__', '__eq__', '__format__', '__ge__', '__getattribute__', '__getitem__', '__gt__', '__hash__', '__init__', '__init_subclass__', '__iter__', '__le__', '__len__', '__lt__', '__ne__', '__new__', '__reduce__', '__reduce_ex__', '__repr__', '__setattr__', '__setitem__', '__sizeof__', '__str__', '__subclasshook__', 'clear', 'copy', 'fromkeys', 'get', 'items', 'keys', 'pop', 'popitem', 'setdefault', 'update', 'values']\n"
     ]
    }
   ],
   "source": [
    "#common dictionary methods\n",
    "\n",
    "print(dir(dict))"
   ]
  },
  {
   "cell_type": "markdown",
   "metadata": {},
   "source": [
    "<a id='construct'></a>\n",
    "## CONSTRUCTING A DICTIONARY\n",
    "Dictionary keys must be unique and always be immutable - i.e. strings, numbers, boolean. Lists are mutable and so cannot be a key, however, a tuple can be a key."
   ]
  },
  {
   "cell_type": "code",
   "execution_count": 2,
   "metadata": {},
   "outputs": [
    {
     "data": {
      "text/plain": [
       "'value2'"
      ]
     },
     "execution_count": 2,
     "metadata": {},
     "output_type": "execute_result"
    }
   ],
   "source": [
    "# Make a dictionary with {} and : to signify a key and a value\n",
    "my_dict = {'key1':'value1','key2':'value2'}\n",
    "\n",
    "# Call values by their key\n",
    "my_dict['key2']"
   ]
  },
  {
   "cell_type": "markdown",
   "metadata": {},
   "source": [
    "We can also create keys by assignment. For instance if we started off with an empty dictionary, we could continually add to it:"
   ]
  },
  {
   "cell_type": "code",
   "execution_count": 3,
   "metadata": {},
   "outputs": [
    {
     "data": {
      "text/plain": [
       "{'animal': 'Dog', 'answer': 42}"
      ]
     },
     "execution_count": 3,
     "metadata": {},
     "output_type": "execute_result"
    }
   ],
   "source": [
    "# Create a new dictionary\n",
    "d = {}\n",
    "\n",
    "# Create a new key through assignment\n",
    "d['animal'] = 'Dog'\n",
    "\n",
    "# Can do this with any object\n",
    "d['answer'] = 42\n",
    "d"
   ]
  },
  {
   "cell_type": "markdown",
   "metadata": {},
   "source": [
    "The `dict()` constructor builds dictionaries directly from sequences of key-value pairs:"
   ]
  },
  {
   "cell_type": "code",
   "execution_count": 4,
   "metadata": {},
   "outputs": [
    {
     "name": "stdout",
     "output_type": "stream",
     "text": [
      "{'name': 'michael', 'age': 38}\n"
     ]
    }
   ],
   "source": [
    "user1 = dict(name='michael', age=38)\n",
    "\n",
    "print(user1)"
   ]
  },
  {
   "cell_type": "code",
   "execution_count": 5,
   "metadata": {},
   "outputs": [
    {
     "name": "stdout",
     "output_type": "stream",
     "text": [
      "{'name': 'michael', 'age': 38}\n"
     ]
    }
   ],
   "source": [
    "user2 = dict([('name','michael'), ('age',38)]) \n",
    "print(user2)"
   ]
  },
  {
   "cell_type": "markdown",
   "metadata": {},
   "source": [
    "In addition, dict comprehensions can be used to create dictionaries from arbitrary key and value expressions:"
   ]
  },
  {
   "cell_type": "code",
   "execution_count": 6,
   "metadata": {},
   "outputs": [
    {
     "data": {
      "text/plain": [
       "{2: 4, 4: 16, 6: 36}"
      ]
     },
     "execution_count": 6,
     "metadata": {},
     "output_type": "execute_result"
    }
   ],
   "source": [
    "{x: x**2 for x in (2, 4, 6)}"
   ]
  },
  {
   "cell_type": "markdown",
   "metadata": {},
   "source": [
    "<a id='access'></a>\n",
    "## ACCESSING OBJECTS FROM A DICTIONARY\n",
    "Its important to note that dictionaries are very flexible in the data types they can hold. For example:"
   ]
  },
  {
   "cell_type": "code",
   "execution_count": 7,
   "metadata": {},
   "outputs": [
    {
     "name": "stdout",
     "output_type": "stream",
     "text": [
      "['item0', 'item1', 'item2']\n",
      "item0\n",
      "ITEM0\n"
     ]
    }
   ],
   "source": [
    "my_dict = {'key1':123,'key2':[12,23,33],'key3':['item0','item1','item2']}\n",
    "\n",
    "# Let's call items from the dictionary\n",
    "print(my_dict['key3'])\n",
    "\n",
    "# Can call an index on that value\n",
    "print(my_dict['key3'][0])\n",
    "\n",
    "# Can then even call methods on that value\n",
    "print(my_dict['key3'][0].upper())"
   ]
  },
  {
   "cell_type": "markdown",
   "metadata": {},
   "source": [
    "We can affect the values of a key as well. For instance:"
   ]
  },
  {
   "cell_type": "code",
   "execution_count": 8,
   "metadata": {},
   "outputs": [
    {
     "name": "stdout",
     "output_type": "stream",
     "text": [
      "123\n",
      "0\n"
     ]
    }
   ],
   "source": [
    "print(my_dict['key1'])\n",
    "\n",
    "# Subtract 123 from the value\n",
    "my_dict['key1'] = my_dict['key1'] - 123      #my_dict['key1'] -= 123\n",
    "print(my_dict['key1'])"
   ]
  },
  {
   "cell_type": "markdown",
   "metadata": {},
   "source": [
    "<a id='dic_methods'></a>\n",
    "## BASIC BUILT-IN DICTIONARY METHODS\n",
    "There are a few methods we can call on a dictionary."
   ]
  },
  {
   "cell_type": "code",
   "execution_count": 9,
   "metadata": {},
   "outputs": [
    {
     "ename": "KeyError",
     "evalue": "'key4'",
     "output_type": "error",
     "traceback": [
      "\u001b[1;31m---------------------------------------------------------------------------\u001b[0m",
      "\u001b[1;31mKeyError\u001b[0m                                  Traceback (most recent call last)",
      "\u001b[1;32m<ipython-input-9-992435e5280c>\u001b[0m in \u001b[0;36m<module>\u001b[1;34m\u001b[0m\n\u001b[0;32m      3\u001b[0m \u001b[1;33m\u001b[0m\u001b[0m\n\u001b[0;32m      4\u001b[0m \u001b[1;31m# Using a key that does not exist will return an error\u001b[0m\u001b[1;33m\u001b[0m\u001b[1;33m\u001b[0m\u001b[1;33m\u001b[0m\u001b[0m\n\u001b[1;32m----> 5\u001b[1;33m \u001b[0md\u001b[0m\u001b[1;33m[\u001b[0m\u001b[1;34m'key4'\u001b[0m\u001b[1;33m]\u001b[0m\u001b[1;33m\u001b[0m\u001b[1;33m\u001b[0m\u001b[0m\n\u001b[0m",
      "\u001b[1;31mKeyError\u001b[0m: 'key4'"
     ]
    }
   ],
   "source": [
    "# Create a typical dictionary\n",
    "d = {'key1':1,'key2':2,'key3':3}\n",
    "\n",
    "# Using a key that does not exist will return an error\n",
    "d['key4']"
   ]
  },
  {
   "cell_type": "code",
   "execution_count": 10,
   "metadata": {},
   "outputs": [
    {
     "name": "stdout",
     "output_type": "stream",
     "text": [
      "None\n",
      "100\n",
      "1\n"
     ]
    }
   ],
   "source": [
    "# Using .get method does not return an error if the key is not in the dictionary\n",
    "print(d.get('key4'))\n",
    "\n",
    "# Get method also allows for a default value 'if' the key is not in the dictionary, \n",
    "# otherwise it will return the value in the dictionary instead. This does not update\n",
    "# the original dictionary.\n",
    "print(d.get('key4',100))\n",
    "print(d.get('key1','hello'))  # still returns a 1"
   ]
  },
  {
   "cell_type": "code",
   "execution_count": 11,
   "metadata": {},
   "outputs": [
    {
     "name": "stdout",
     "output_type": "stream",
     "text": [
      "1\n",
      "NaN\n"
     ]
    }
   ],
   "source": [
    "vowel_value = {'a': 1, 'e': 2, 'i': 3, 'o': 4, 'u': 5}\n",
    "    \n",
    "print(vowel_value.get('a', 0))\n",
    "print(vowel_value.get('p', 'NaN'))"
   ]
  },
  {
   "cell_type": "markdown",
   "metadata": {},
   "source": [
    "Dictionaries can be iterated over using the **`keys()`**, **`values()`** and **`items()`** methods."
   ]
  },
  {
   "cell_type": "code",
   "execution_count": 12,
   "metadata": {},
   "outputs": [
    {
     "name": "stdout",
     "output_type": "stream",
     "text": [
      "['key1', 'key2', 'key3']\n"
     ]
    }
   ],
   "source": [
    "print(list(d))"
   ]
  },
  {
   "cell_type": "code",
   "execution_count": 13,
   "metadata": {},
   "outputs": [
    {
     "name": "stdout",
     "output_type": "stream",
     "text": [
      "['key1', 'key2', 'key3'] \n",
      "\n",
      "dict_keys(['key1', 'key2', 'key3'])\n",
      "['key1', 'key2', 'key3']\n",
      "key2\n"
     ]
    }
   ],
   "source": [
    "# Methods to return a list of all keys \n",
    "print(list(d),'\\n')\n",
    "\n",
    "print(d.keys())\n",
    "print(list(d.keys()))\n",
    "\n",
    "# Use indexing if we want to grab one of those list items\n",
    "print(list(d.keys())[1])"
   ]
  },
  {
   "cell_type": "code",
   "execution_count": 14,
   "metadata": {},
   "outputs": [
    {
     "name": "stdout",
     "output_type": "stream",
     "text": [
      "dict_values([1, 2, 3])\n",
      "[1, 2, 3]\n",
      "3\n"
     ]
    }
   ],
   "source": [
    "# Methods to grab all values\n",
    "print(d.values())\n",
    "print(list(d.values()))\n",
    "\n",
    "# Use indexing if we want to grab one of those list items\n",
    "print(list(d.values())[2])"
   ]
  },
  {
   "cell_type": "code",
   "execution_count": 15,
   "metadata": {
    "scrolled": true
   },
   "outputs": [
    {
     "name": "stdout",
     "output_type": "stream",
     "text": [
      "dict_items([('key1', 1), ('key2', 2), ('key3', 3)])\n",
      "[('key1', 1), ('key2', 2), ('key3', 3)]\n",
      "('key2', 2)\n",
      "key2\n"
     ]
    }
   ],
   "source": [
    "# Methods to return tuples of all key-value items  \n",
    "print(d.items())\n",
    "print(list(d.items()))\n",
    "\n",
    "# Use indexing if we want to grab any key-value pairs or values\n",
    "print(list(d.items())[1])\n",
    "print(list(d.items())[1][0])"
   ]
  },
  {
   "cell_type": "markdown",
   "metadata": {},
   "source": [
    "To check whether a single key is in the dictionary, use the `in` keyword."
   ]
  },
  {
   "cell_type": "code",
   "execution_count": 16,
   "metadata": {},
   "outputs": [
    {
     "name": "stdout",
     "output_type": "stream",
     "text": [
      "True\n",
      "False\n"
     ]
    }
   ],
   "source": [
    "user1 = dict(name='michael', age=38)\n",
    "print('age' in user1)\n",
    "print('size' in user1)"
   ]
  },
  {
   "cell_type": "code",
   "execution_count": 17,
   "metadata": {},
   "outputs": [
    {
     "name": "stdout",
     "output_type": "stream",
     "text": [
      "True\n",
      "False\n"
     ]
    }
   ],
   "source": [
    "print('age' in user1.keys())\n",
    "print('size' in user1.keys())"
   ]
  },
  {
   "cell_type": "markdown",
   "metadata": {},
   "source": [
    "It is also possible to delete a key:value pair with **`del`** (as well as deleting an entire dictionary - so be aware), or we can empty a dictionary using **`clear`**."
   ]
  },
  {
   "cell_type": "code",
   "execution_count": 18,
   "metadata": {},
   "outputs": [
    {
     "data": {
      "text/plain": [
       "{'key2': 'value2'}"
      ]
     },
     "execution_count": 18,
     "metadata": {},
     "output_type": "execute_result"
    }
   ],
   "source": [
    "my_dict2 = {'key1':'value1','key2':'value2'}\n",
    "\n",
    "del my_dict2['key1']\n",
    "my_dict2"
   ]
  },
  {
   "cell_type": "code",
   "execution_count": 19,
   "metadata": {},
   "outputs": [
    {
     "name": "stdout",
     "output_type": "stream",
     "text": [
      "{}\n"
     ]
    }
   ],
   "source": [
    "user1 = dict(name='michael', age=38)\n",
    "\n",
    "# clears the dictionary but leaves an empty dictionary\n",
    "user1.clear()\n",
    "print(user1)"
   ]
  },
  {
   "cell_type": "code",
   "execution_count": 20,
   "metadata": {},
   "outputs": [
    {
     "name": "stdout",
     "output_type": "stream",
     "text": [
      "value1\n",
      "{'key2': 'value2'}\n"
     ]
    }
   ],
   "source": [
    "# to use pop with a dictionary, the key must be referenced\n",
    "my_dict2 = {'key1':'value1','key2':'value2'}\n",
    "\n",
    "# Since the pop method returns a value, it can be stored in a variable for later use\n",
    "test = my_dict2.pop('key1')\n",
    "\n",
    "print(test)\n",
    "print(my_dict2)"
   ]
  },
  {
   "cell_type": "markdown",
   "metadata": {},
   "source": [
    "**`update()`** accepts either another dictionary object or an iterable of key/value pairs (as tuples or other iterables of length two). If keyword arguments are specified, the dictionary is then updated with those key/value pairs: d.update(red=1, blue=2)."
   ]
  },
  {
   "cell_type": "code",
   "execution_count": 21,
   "metadata": {
    "scrolled": true
   },
   "outputs": [
    {
     "name": "stdout",
     "output_type": "stream",
     "text": [
      "{'apples': 2, 'oranges': 3}\n"
     ]
    }
   ],
   "source": [
    "# Add multiple dictionaries together\n",
    "\n",
    "grocery_dict = {'apples':2}\n",
    "grocery_dict2 = {'oranges':3}\n",
    "grocery_dict.update(grocery_dict2)\n",
    "print(grocery_dict)"
   ]
  },
  {
   "cell_type": "code",
   "execution_count": 22,
   "metadata": {},
   "outputs": [
    {
     "name": "stdout",
     "output_type": "stream",
     "text": [
      "{'a': 10, 'b': 20, 'c': 30, 'd': 40, 'e': 50}\n",
      "{'a': 10, 'b': 20, 'c': 30, 'd': 40, 'e': 50}\n",
      "{'a': 10, 'b': 20, 'c': 30, 'd': 40, 'e': 50}\n",
      "{'a': 10, 'b': 20, 'c': 30, 'd': 40, 'e': 50}\n",
      "{'a': 10, 'b': 20, 'c': 30, 'd': 40, 'e': 50}\n"
     ]
    }
   ],
   "source": [
    "dic1={'a':10, 'b':20}\n",
    "dic2={'c':30, 'd':40}\n",
    "dic3={'e':50}\n",
    "\n",
    "# Method 1\n",
    "dic1.update(dic2)\n",
    "dic1.update(dic3)\n",
    "print(dic1)\n",
    "\n",
    "# Method 2\n",
    "final_dict = {}\n",
    "for d in [dic1, dic2, dic3]:\n",
    "    final_dict.update(d)\n",
    "    \n",
    "print(final_dict)\n",
    "\n",
    "# Method 3\n",
    "def merge3(dic1, dic2, dic3):\n",
    "    res = {**dic1, **dic2, **dic3}\n",
    "    return res\n",
    "\n",
    "print(merge3(dic1, dic2, dic3))\n",
    "\n",
    "# Method 4\n",
    "def merge4(dic1, dic2, dic3):\n",
    "    res = {}\n",
    "    res.update(dic1)\n",
    "    res.update(dic2)\n",
    "    res.update(dic3)\n",
    "\n",
    "    return res\n",
    "\n",
    "print(merge4(dic1, dic2, dic3))\n",
    "\n",
    "# Method 5\n",
    "def merge5(dic1, dic2, dic3):\n",
    "    res = {}\n",
    "    list_of_dics = [dic1, dic2, dic3]\n",
    "    \n",
    "    for dic in list_of_dics:\n",
    "        res.update(dic)\n",
    "    return res\n",
    "\n",
    "print(merge5(dic1, dic2, dic3))"
   ]
  },
  {
   "cell_type": "markdown",
   "metadata": {},
   "source": [
    "<a id='sorting'></a>\n",
    "## SORTING DICTIONARIES"
   ]
  },
  {
   "cell_type": "code",
   "execution_count": 23,
   "metadata": {},
   "outputs": [
    {
     "data": {
      "text/plain": [
       "{'Dave H': 6,\n",
       " 'Alex': 6,\n",
       " 'cheong-tseng eng': 6,\n",
       " 'Deepthi': 5,\n",
       " 'Ramesh': 5,\n",
       " 'Markus': 5,\n",
       " 'Ajay Anand': 4,\n",
       " 'Zach': 4,\n",
       " 'Alison': 3,\n",
       " 'April': 3,\n",
       " 'Alessandro': 3,\n",
       " 'Vanessa': 2,\n",
       " 'Isabel': 2,\n",
       " 'India': 2,\n",
       " 'Otto': 2,\n",
       " 'David Feng': 1,\n",
       " 'Vijay': 0,\n",
       " 'Hugh Jass': 0,\n",
       " 'Matt': 0,\n",
       " 'Rocky': 0}"
      ]
     },
     "execution_count": 23,
     "metadata": {},
     "output_type": "execute_result"
    }
   ],
   "source": [
    "test = {'Alison': 3,'April': 3,'Vijay': 0,'Vanessa': 2,'Isabel': 2,\n",
    "        'India': 2,'Dave H': 6,'Deepthi': 5,'Ramesh': 5,'Hugh Jass': 0,\n",
    "        'Alex': 6,'Ajay Anand': 4,'David Feng': 1,'Zach': 4,'Matt': 0,\n",
    "        'Markus': 5,'Otto': 2,'Alessandro': 3,'Rocky': 0,\n",
    "        'cheong-tseng eng': 6}\n",
    "\n",
    "dict(sorted(test.items(), key=lambda x:x[1], reverse=True))"
   ]
  },
  {
   "cell_type": "markdown",
   "metadata": {},
   "source": [
    "<a id='nesting'></a>\n",
    "## NESTING DICTIONARIES\n",
    "\n",
    "Hopefully you're starting to see how powerful Python is with its flexibility of nesting objects and calling methods on them. Let's see a dictionary nested inside a dictionary:"
   ]
  },
  {
   "cell_type": "code",
   "execution_count": 24,
   "metadata": {},
   "outputs": [
    {
     "data": {
      "text/plain": [
       "'value'"
      ]
     },
     "execution_count": 24,
     "metadata": {},
     "output_type": "execute_result"
    }
   ],
   "source": [
    "# Dictionary nested inside a dictionary nested inside a dictionary\n",
    "d = {'key1':{'nestkey':{'subnestkey':'value'}}}\n",
    "\n",
    "# Keep calling the keys\n",
    "d['key1']['nestkey']['subnestkey']"
   ]
  },
  {
   "cell_type": "markdown",
   "metadata": {},
   "source": [
    "<a id='comp'></a>\n",
    "## DICTIONARY COMPREHENSIONS\n",
    "\n",
    "Just like List Comprehensions, Dictionary Data Types also support their own version of comprehension for quick creation. It is not as commonly used as List Comprehensions, but the syntax is:"
   ]
  },
  {
   "cell_type": "code",
   "execution_count": 25,
   "metadata": {},
   "outputs": [
    {
     "data": {
      "text/plain": [
       "{0: 0, 1: 1, 2: 4, 3: 9, 4: 16, 5: 25, 6: 36, 7: 49, 8: 64, 9: 81}"
      ]
     },
     "execution_count": 25,
     "metadata": {},
     "output_type": "execute_result"
    }
   ],
   "source": [
    "{x:x**2 for x in range(10)}"
   ]
  },
  {
   "cell_type": "code",
   "execution_count": 26,
   "metadata": {},
   "outputs": [
    {
     "data": {
      "text/plain": [
       "{'a': 0, 'b': 1, 'c': 4}"
      ]
     },
     "execution_count": 26,
     "metadata": {},
     "output_type": "execute_result"
    }
   ],
   "source": [
    "{k:v**2 for k, v in zip(['a', 'b', 'c'], range(10))}"
   ]
  },
  {
   "cell_type": "markdown",
   "metadata": {},
   "source": [
    "One of the reasons it is not as common is the difficulty in structuring key names that are not based off the values."
   ]
  },
  {
   "cell_type": "markdown",
   "metadata": {},
   "source": [
    "<a id='examples'></a>\n",
    "## MORE EXAMPLES"
   ]
  },
  {
   "cell_type": "code",
   "execution_count": 27,
   "metadata": {},
   "outputs": [
    {
     "name": "stdout",
     "output_type": "stream",
     "text": [
      "Please select a fruit: lemon\n",
      "a sour, yellow citrus fruit\n",
      "Please select a fruit: quit\n"
     ]
    }
   ],
   "source": [
    "fruit = {\"orange\": \"a sweet, orange, citrus fruit\",\n",
    "        \"apple\": \"good for making cidar\",\n",
    "        \"lemon\": \"a sour, yellow citrus fruit\",\n",
    "        \"grape\": \"a small, sweet fruit growing in bunches\",\n",
    "        \"lime\": \"a sour, green citrus fruit\"}\n",
    "\n",
    "while True:\n",
    "    dict_key = input(\"Please select a fruit: \")\n",
    "    \n",
    "    if dict_key == 'quit':\n",
    "        break\n",
    "    elif dict_key in fruit:\n",
    "        description = fruit[dict_key]\n",
    "        print(description)\n",
    "    else:\n",
    "        print(f\"{dict_key} does not exists\")"
   ]
  },
  {
   "cell_type": "code",
   "execution_count": 28,
   "metadata": {},
   "outputs": [
    {
     "name": "stdout",
     "output_type": "stream",
     "text": [
      "Please select a fruit: grape\n",
      "a small, sweet fruit growing in bunches\n",
      "Please select a fruit: quit\n"
     ]
    }
   ],
   "source": [
    "#another method using the .get() function:\n",
    "while True:\n",
    "    dict_key = input(\"Please select a fruit: \")\n",
    "    \n",
    "    if dict_key == 'quit':\n",
    "        break\n",
    "    else:\n",
    "        description = fruit.get(dict_key, f\"we dont have a {dict_key}.\")\n",
    "        print(description)   "
   ]
  },
  {
   "cell_type": "code",
   "execution_count": 29,
   "metadata": {},
   "outputs": [
    {
     "name": "stdout",
     "output_type": "stream",
     "text": [
      "apple - good for making cidar\n",
      "grape - a small, sweet fruit growing in bunches\n",
      "lemon - a sour, yellow citrus fruit\n",
      "lime - a sour, green citrus fruit\n",
      "orange - a sweet, orange, citrus fruit\n",
      "--------------------------------------------------\n",
      "apple - good for making cidar\n",
      "grape - a small, sweet fruit growing in bunches\n",
      "lemon - a sour, yellow citrus fruit\n",
      "lime - a sour, green citrus fruit\n",
      "orange - a sweet, orange, citrus fruit\n"
     ]
    }
   ],
   "source": [
    "#ordered_keys = list(fruit.keys())\n",
    "#ordered_keys.sort()\n",
    "\n",
    "for f in sorted(list(fruit.keys())):\n",
    "    print(f\"{f} - {fruit[f]}\")\n",
    "    \n",
    "print('-' * 50)  \n",
    "\n",
    "ordered_keys = sorted(list(fruit.keys()))\n",
    "for i in ordered_keys:\n",
    "    print(f\"{i} - {fruit[i]}\")"
   ]
  },
  {
   "cell_type": "code",
   "execution_count": 30,
   "metadata": {},
   "outputs": [
    {
     "name": "stdout",
     "output_type": "stream",
     "text": [
      "orange is a sweet, orange, citrus fruit\n",
      "apple is good for making cidar\n",
      "lemon is a sour, yellow citrus fruit\n",
      "grape is a small, sweet fruit growing in bunches\n",
      "lime is a sour, green citrus fruit\n",
      "{'orange': 'a sweet, orange, citrus fruit', 'apple': 'good for making cidar', 'lemon': 'a sour, yellow citrus fruit', 'grape': 'a small, sweet fruit growing in bunches', 'lime': 'a sour, green citrus fruit'}\n"
     ]
    }
   ],
   "source": [
    "f_tuple = tuple(fruit.items())\n",
    "\n",
    "for snack in f_tuple:\n",
    "    item, description = snack  # unpacking\n",
    "    print(f\"{item} is {description}\")\n",
    "    \n",
    "print(dict(f_tuple))   #this will convert tuples into a dictionary of keys and values"
   ]
  },
  {
   "cell_type": "code",
   "execution_count": 31,
   "metadata": {},
   "outputs": [
    {
     "name": "stdout",
     "output_type": "stream",
     "text": [
      "Colorado\n"
     ]
    }
   ],
   "source": [
    "state_capitals = {\n",
    "  \"Alaska\" : \"Juneau\",\n",
    "  \"Colorado\" : \"Denver\",\n",
    "  \"Oregon\" : \"Salem\",\n",
    "  \"Texas\" : \"Austin\"\n",
    "  }\n",
    "\n",
    "def reverse_lookup(capital):\n",
    "    for state in state_capitals:\n",
    "        if state_capitals[state] == capital:\n",
    "            return state\n",
    "\n",
    "# Prints Colorado\n",
    "print(reverse_lookup(\"Denver\"))"
   ]
  },
  {
   "cell_type": "code",
   "execution_count": 32,
   "metadata": {},
   "outputs": [
    {
     "name": "stdout",
     "output_type": "stream",
     "text": [
      "{'John': 938477566, 'Jack': 938377264, 'Jill': 947662781, 'michael': 29384702, 'james': 29384702}\n"
     ]
    }
   ],
   "source": [
    "phonebook = {}\n",
    "phonebook[\"John\"] = 938477566\n",
    "phonebook[\"Jack\"] = 938377264\n",
    "phonebook[\"Jill\"] = 947662781\n",
    "#phonebook.update({'michael': 29384702})    #append and extend will not work for sets/dictionaries {:}\n",
    "#phonebook.update({'michael': 29384702}, {'james': 29384702}) #this will not work\n",
    "phonebook.update({'michael': 29384702, 'james': 29384702})    \n",
    "print(phonebook)"
   ]
  },
  {
   "cell_type": "code",
   "execution_count": 33,
   "metadata": {},
   "outputs": [
    {
     "name": "stdout",
     "output_type": "stream",
     "text": [
      "{'John': 938477566, 'Jack': 938377264, 'Jill': 947662781}\n"
     ]
    }
   ],
   "source": [
    "#Alternatively to the above method:\n",
    "phonebook = {\n",
    "    \"John\" : 938477566,\n",
    "    \"Jack\" : 938377264,\n",
    "    \"Jill\" : 947662781\n",
    "}\n",
    "\n",
    "#phonebook.update({'michael': 29384702, 'james': 29384702})  \n",
    "print(phonebook)"
   ]
  },
  {
   "cell_type": "code",
   "execution_count": 34,
   "metadata": {},
   "outputs": [
    {
     "name": "stdout",
     "output_type": "stream",
     "text": [
      "Phone number of John is 938477566\n",
      "Phone number of Jack is 938377264\n",
      "Phone number of Jill is 947662781\n"
     ]
    }
   ],
   "source": [
    "phonebook = {\"John\" : 938477566,\"Jack\" : 938377264,\"Jill\" : 947662781}\n",
    "for name, number in phonebook.items():\n",
    "    print(\"Phone number of %s is %d\" % (name, number))"
   ]
  },
  {
   "cell_type": "code",
   "execution_count": 35,
   "metadata": {
    "scrolled": true
   },
   "outputs": [
    {
     "name": "stdout",
     "output_type": "stream",
     "text": [
      "{'John': 938477566, 'Jack': 938377264, 'Jill': 947662781, 'michael': 29384702, 'james': 29384702}\n",
      "{'Jack': 938377264, 'Jill': 947662781, 'michael': 29384702, 'james': 29384702}\n",
      "{'Jill': 947662781, 'michael': 29384702, 'james': 29384702}\n",
      "{'Jill': 947662781, 'michael': 29384702}\n",
      "michael is listed in the phonebook.\n",
      "Jack is not listed in the phonebook.\n"
     ]
    }
   ],
   "source": [
    "phonebook = {\n",
    "    \"John\" : 938477566,\n",
    "    \"Jack\" : 938377264,\n",
    "    \"Jill\" : 947662781\n",
    "}\n",
    "\n",
    "phonebook.update({'michael': 29384702, 'james': 29384702})  \n",
    "print(phonebook)\n",
    "\n",
    "del phonebook[\"John\"]    #this deletes a specified item\n",
    "print(phonebook)\n",
    "\n",
    "phonebook.pop(\"Jack\")   #this removes the specified item\n",
    "print(phonebook)\n",
    "\n",
    "phonebook.popitem()    #this removes the last item from a dictionary\n",
    "print(phonebook)\n",
    "\n",
    "if \"michael\" in phonebook:\n",
    "    print(\"michael is listed in the phonebook.\")\n",
    "if \"Jack\" not in phonebook:\n",
    "    print(\"Jack is not listed in the phonebook.\")"
   ]
  },
  {
   "cell_type": "code",
   "execution_count": 36,
   "metadata": {},
   "outputs": [
    {
     "name": "stdout",
     "output_type": "stream",
     "text": [
      "{'Puppy': 'Furry, energetic animal', 'Pineapple': 'Acidic tropical fruit', 'Tea': 'Herb-infused drink'}\n",
      "Furry, energetic animal\n"
     ]
    }
   ],
   "source": [
    "my_dictionary = {\"Puppy\": \"Furry, energetic animal\", \"Pineapple\": \"Acidic tropical fruit\", \"Tea\": \"Herb-infused drink\"}\n",
    "\n",
    "# Prints the whole dictionary\n",
    "print(my_dictionary)\n",
    "\n",
    "# Prints the value for the key 'puppy'\n",
    "print(my_dictionary[\"Puppy\"])"
   ]
  },
  {
   "cell_type": "code",
   "execution_count": 37,
   "metadata": {},
   "outputs": [
    {
     "name": "stdout",
     "output_type": "stream",
     "text": [
      "{'Puppy': 'Cheerful', 'Pineapple': 'Acidic tropical fruit', 'Tea': 'Herb-infused drink'}\n",
      "{'Puppy': 'Cheerful', 'Pineapple': 'Acidic tropical fruit', 'Tea': 'Herb-infused drink', 'Yoga': 'Peaceful'}\n"
     ]
    }
   ],
   "source": [
    "#to change the value of a key\n",
    "my_dictionary['Puppy']='Cheerful'\n",
    "print(my_dictionary)\n",
    "\n",
    "#to add a key-value pair\n",
    "my_dictionary['Yoga'] = 'Peaceful'\n",
    "print(my_dictionary)"
   ]
  },
  {
   "cell_type": "code",
   "execution_count": 38,
   "metadata": {},
   "outputs": [
    {
     "data": {
      "text/plain": [
       "{'Puppy': [0, 4, 6],\n",
       " 'Pineapple': 'Acidic tropical fruit',\n",
       " 'Tea': 'Herb-infused drink',\n",
       " 'Yoga': 'Peaceful'}"
      ]
     },
     "execution_count": 38,
     "metadata": {},
     "output_type": "execute_result"
    }
   ],
   "source": [
    "#changing the first value to a list\n",
    "my_dictionary['Puppy'] = [0,4,6]\n",
    "my_dictionary"
   ]
  },
  {
   "cell_type": "code",
   "execution_count": 39,
   "metadata": {},
   "outputs": [
    {
     "name": "stdout",
     "output_type": "stream",
     "text": [
      "[0, 4, 6] \n",
      "\n",
      "dict_keys(['Puppy', 'Pineapple', 'Tea', 'Yoga']) \n",
      "\n",
      "dict_values([[0, 4, 6], 'Acidic tropical fruit', 'Herb-infused drink', 'Peaceful'])\n",
      "[[0, 4, 6], 'Acidic tropical fruit', 'Herb-infused drink', 'Peaceful'] \n",
      "\n",
      "dict_items([('Puppy', [0, 4, 6]), ('Pineapple', 'Acidic tropical fruit'), ('Tea', 'Herb-infused drink'), ('Yoga', 'Peaceful')])\n",
      "[('Puppy', [0, 4, 6]), ('Pineapple', 'Acidic tropical fruit'), ('Tea', 'Herb-infused drink'), ('Yoga', 'Peaceful')]\n"
     ]
    }
   ],
   "source": [
    "print(my_dictionary.get('Puppy'), '\\n')\n",
    "print(my_dictionary.keys(), '\\n')\n",
    "\n",
    "print(my_dictionary.values())\n",
    "print(list(my_dictionary.values()), '\\n')\n",
    "\n",
    "print(my_dictionary.items())\n",
    "print(list(my_dictionary.items()))"
   ]
  },
  {
   "cell_type": "code",
   "execution_count": 40,
   "metadata": {},
   "outputs": [
    {
     "name": "stdout",
     "output_type": "stream",
     "text": [
      "('Puppy', [0, 4, 6]),('Pineapple', 'Acidic tropical fruit'),('Tea', 'Herb-infused drink'),('Yoga', 'Peaceful'),"
     ]
    }
   ],
   "source": [
    "for tup in list(my_dictionary.items()):\n",
    "    print(tup, end=',')"
   ]
  },
  {
   "cell_type": "code",
   "execution_count": 41,
   "metadata": {},
   "outputs": [
    {
     "name": "stdout",
     "output_type": "stream",
     "text": [
      "Key: Puppy\n",
      "Value: Furry energetic animal\n",
      "Key: Pineapple\n",
      "Value: Acidic tropical fruit\n",
      "Key: Tea\n",
      "Value: Herb infused drink\n",
      "\n",
      "Puppy: Furry energetic animal\n",
      "Pineapple: Acidic tropical fruit\n",
      "Tea: Herb infused drink\n"
     ]
    }
   ],
   "source": [
    "my_dictionary = {\n",
    "    \"Puppy\": \"Furry energetic animal\", \n",
    "    \"Pineapple\": \"Acidic tropical fruit\", \n",
    "    \"Tea\": \"Herb infused drink\"\n",
    "}\n",
    "\n",
    "for key in my_dictionary:\n",
    "    print('Key:', key)\n",
    "    print('Value:', my_dictionary[key])\n",
    "\n",
    "print()\n",
    "    \n",
    "for key in my_dictionary:\n",
    "    print(key + \":\", my_dictionary[key])"
   ]
  },
  {
   "cell_type": "code",
   "execution_count": 42,
   "metadata": {},
   "outputs": [
    {
     "name": "stdout",
     "output_type": "stream",
     "text": [
      "The letter d appears in my name once\n",
      "The letter a appears in my name twice\n",
      "The letter v appears in my name twice\n",
      "The letter e appears in my name once\n"
     ]
    }
   ],
   "source": [
    "my_name = {'d':1, 'a':2, 'v':2, 'e':1}\n",
    "\n",
    "for key in my_name:\n",
    "    if my_name[key]==1:\n",
    "        print('The letter', key, 'appears in my name once')\n",
    "    elif my_name[key]==2:\n",
    "        print('The letter', key, 'appears in my name twice')"
   ]
  },
  {
   "cell_type": "code",
   "execution_count": 43,
   "metadata": {},
   "outputs": [
    {
     "name": "stdout",
     "output_type": "stream",
     "text": [
      "m: 1\n",
      "i: 1\n",
      "c: 1\n",
      "h: 1\n",
      "a: 1\n",
      "e: 1\n",
      "l: 1\n"
     ]
    }
   ],
   "source": [
    "my_name = 'michael'\n",
    "\n",
    "for char in my_name:\n",
    "    count = my_name.count(char)\n",
    "    print(char + ':', count)"
   ]
  },
  {
   "cell_type": "code",
   "execution_count": 44,
   "metadata": {},
   "outputs": [
    {
     "name": "stdout",
     "output_type": "stream",
     "text": [
      "hello\n",
      "new word!\n",
      "\n",
      "water\n",
      "new word!\n",
      "\n",
      "hello\n",
      "word exists!\n",
      "\n",
      "hello\n",
      "word exists!\n",
      "\n",
      "world\n",
      "new word!\n",
      "\n",
      "{'hello': 3, 'water': 1, 'world': 1}\n"
     ]
    }
   ],
   "source": [
    "words = [\n",
    "    \"hello\",\n",
    "    \"water\",\n",
    "    \"hello\",\n",
    "    \"hello\",\n",
    "    'world'\n",
    "]\n",
    "\n",
    "def most_popular_word():\n",
    "# create dictionary to store word counts\n",
    "    word_counts = {}\n",
    "\n",
    "# loop through words list\n",
    "    for word in words:\n",
    "        print(word)\n",
    "\n",
    "# check if word already exists in dictionary        \n",
    "        if word in word_counts:\n",
    "            print(\"word exists!\")\n",
    "            #word_counts[word] = word_counts[word] + 1\n",
    "            word_counts[word] += 1\n",
    "            print()\n",
    "        else:\n",
    "            print(\"new word!\")\n",
    "            word_counts[word] = 1\n",
    "            print()\n",
    "    return word_counts\n",
    "            \n",
    "print(most_popular_word())\n",
    "#most_popular_word()"
   ]
  },
  {
   "cell_type": "code",
   "execution_count": 45,
   "metadata": {},
   "outputs": [
    {
     "name": "stdout",
     "output_type": "stream",
     "text": [
      "Here's a dictionary and list in a dictionary: {'CA': {'key1': 'value 1', 'another_key': 'a value', 'Joe': 'Even more dictionary!'}, 'WA': ['Trevor', 'Courtney', 'Brianna', 'Kai'], 'NY': 'Just Tatyana'}\n",
      "----------\n",
      "Here's a list and dictionary in a list: ['a value', {'key1': 'value 1', 'key2': 'value 2'}, ['now', 'a', 'list']]\n"
     ]
    }
   ],
   "source": [
    "other_values_in_a_dictionary = {\n",
    "  \"CA\": {\"key1\" : \"value 1\", #could use None instead of 'value 1'\n",
    "        \"another_key\" : \"a value\", \n",
    "        \"Joe\" : \"Even more dictionary!\"\n",
    "        },\n",
    "  \"WA\": [\"Trevor\", \"Courtney\", \"Brianna\", \"Kai\"],\n",
    "  \"NY\": \"Just Tatyana\"\n",
    "}\n",
    "\n",
    "print(\"Here's a dictionary and list in a dictionary:\", other_values_in_a_dictionary)\n",
    "\n",
    "print(\"----------\")\n",
    "\n",
    "other_values_in_a_list = [\n",
    "  \"a value\", \n",
    "  {\"key1\" : \"value 1\", \"key2\" : \"value 2\"},\n",
    "  [\"now\", \"a\", \"list\"]\n",
    "  ]\n",
    "print(\"Here's a list and dictionary in a list:\", other_values_in_a_list)"
   ]
  },
  {
   "cell_type": "code",
   "execution_count": 46,
   "metadata": {},
   "outputs": [
    {
     "name": "stdout",
     "output_type": "stream",
     "text": [
      "x : 10\n",
      "y : 10\n",
      "z : 30\n"
     ]
    }
   ],
   "source": [
    "d = {'x':10, 'y':10, 'z':30}\n",
    "\n",
    "for x,y in d.items():\n",
    "    print(x, ':', y)"
   ]
  },
  {
   "cell_type": "code",
   "execution_count": 47,
   "metadata": {},
   "outputs": [
    {
     "name": "stdout",
     "output_type": "stream",
     "text": [
      "x : 10\n",
      "y : 10\n",
      "z : 30\n"
     ]
    }
   ],
   "source": [
    "d = {'x':10, 'y':10, 'z':30}\n",
    "\n",
    "for key,value in d.items():\n",
    "    print(str(key), ':', value)"
   ]
  },
  {
   "cell_type": "code",
   "execution_count": 48,
   "metadata": {},
   "outputs": [
    {
     "name": "stdout",
     "output_type": "stream",
     "text": [
      "('x', 10)\n",
      "('y', 10)\n",
      "('z', 30)\n"
     ]
    }
   ],
   "source": [
    "d = {'x':10, 'y':10, 'z':30}\n",
    "\n",
    "for item in d.items():\n",
    "    print(item)"
   ]
  },
  {
   "cell_type": "code",
   "execution_count": 49,
   "metadata": {},
   "outputs": [
    {
     "name": "stdout",
     "output_type": "stream",
     "text": [
      "60\n"
     ]
    }
   ],
   "source": [
    "# Write a program to sum all of the values of a dictionary\n",
    "# Given: \n",
    "orders = {'pizza': 10, 'tacos': 20, 'ice cream': 30} \n",
    "print(sum(orders.values()))"
   ]
  },
  {
   "cell_type": "code",
   "execution_count": 50,
   "metadata": {},
   "outputs": [
    {
     "name": "stdout",
     "output_type": "stream",
     "text": [
      "60\n"
     ]
    }
   ],
   "source": [
    "# Write a program to sum all of the values of a dictionary\n",
    "# Given: \n",
    "orders = {'pizza': 10, 'tacos': 20, 'ice cream': 30} \n",
    "\n",
    "total_price = 0\n",
    "for price in orders.values():\n",
    "    total_price += price\n",
    "\n",
    "print(total_price)"
   ]
  },
  {
   "cell_type": "code",
   "execution_count": 51,
   "metadata": {},
   "outputs": [
    {
     "name": "stdout",
     "output_type": "stream",
     "text": [
      "60\n"
     ]
    }
   ],
   "source": [
    "# Write a program to sum all of the values of a dictionary\n",
    "# Given: \n",
    "orders = {'pizza': 10, 'tacos': 20, 'ice cream': 30} \n",
    "total = 0\n",
    "for item in orders.keys():\n",
    "    total += orders[item]\n",
    "\n",
    "print(total)"
   ]
  },
  {
   "cell_type": "code",
   "execution_count": 52,
   "metadata": {},
   "outputs": [
    {
     "name": "stdout",
     "output_type": "stream",
     "text": [
      "{'Rolf': 24, 'Adam': 30, 'Anne': 27}\n"
     ]
    }
   ],
   "source": [
    "friends = [('Rolf', 24), ('Adam', 30), (\"Anne\",27)]\n",
    "\n",
    "friends_dict = dict(friends)\n",
    "print(friends_dict)"
   ]
  },
  {
   "cell_type": "code",
   "execution_count": 53,
   "metadata": {},
   "outputs": [
    {
     "ename": "ValueError",
     "evalue": "dictionary update sequence element #0 has length 1; 2 is required",
     "output_type": "error",
     "traceback": [
      "\u001b[1;31m---------------------------------------------------------------------------\u001b[0m",
      "\u001b[1;31mValueError\u001b[0m                                Traceback (most recent call last)",
      "\u001b[1;32m<ipython-input-53-5947d1cc8219>\u001b[0m in \u001b[0;36m<module>\u001b[1;34m\u001b[0m\n\u001b[0;32m      4\u001b[0m \u001b[1;33m\u001b[0m\u001b[0m\n\u001b[0;32m      5\u001b[0m \u001b[1;32mfor\u001b[0m \u001b[0mkey\u001b[0m\u001b[1;33m,\u001b[0m \u001b[0mvalue\u001b[0m \u001b[1;32min\u001b[0m \u001b[0mfriends_dict\u001b[0m\u001b[1;33m.\u001b[0m\u001b[0mitems\u001b[0m\u001b[1;33m(\u001b[0m\u001b[1;33m)\u001b[0m\u001b[1;33m:\u001b[0m\u001b[1;33m\u001b[0m\u001b[1;33m\u001b[0m\u001b[0m\n\u001b[1;32m----> 6\u001b[1;33m     \u001b[0mnew_dict\u001b[0m\u001b[1;33m.\u001b[0m\u001b[0mupdate\u001b[0m\u001b[1;33m(\u001b[0m\u001b[1;33m[\u001b[0m\u001b[1;33m{\u001b[0m\u001b[1;34m'name'\u001b[0m\u001b[1;33m:\u001b[0m\u001b[0mkey\u001b[0m\u001b[1;33m}\u001b[0m\u001b[1;33m,\u001b[0m \u001b[1;33m{\u001b[0m\u001b[1;34m'age'\u001b[0m\u001b[1;33m:\u001b[0m\u001b[0mvalue\u001b[0m\u001b[1;33m}\u001b[0m\u001b[1;33m]\u001b[0m\u001b[1;33m)\u001b[0m\u001b[1;33m\u001b[0m\u001b[1;33m\u001b[0m\u001b[0m\n\u001b[0m\u001b[0;32m      7\u001b[0m \u001b[1;31m#    new_dict['name'] = key\u001b[0m\u001b[1;33m\u001b[0m\u001b[1;33m\u001b[0m\u001b[1;33m\u001b[0m\u001b[0m\n\u001b[0;32m      8\u001b[0m \u001b[1;31m#    new_dict['age'] = value\u001b[0m\u001b[1;33m\u001b[0m\u001b[1;33m\u001b[0m\u001b[1;33m\u001b[0m\u001b[0m\n",
      "\u001b[1;31mValueError\u001b[0m: dictionary update sequence element #0 has length 1; 2 is required"
     ]
    }
   ],
   "source": [
    "friends = [('Rolf', 24), ('Adam', 30), (\"Anne\",27)]\n",
    "\n",
    "new_dict={}\n",
    "\n",
    "for key, value in friends_dict.items():\n",
    "    new_dict.update([{'name':key}, {'age':value}])\n",
    "#    new_dict['name'] = key\n",
    "#    new_dict['age'] = value\n",
    "    \n",
    "    #print(key,value)\n",
    "\n",
    "print(new_dict)"
   ]
  },
  {
   "cell_type": "code",
   "execution_count": 54,
   "metadata": {},
   "outputs": [
    {
     "data": {
      "text/plain": [
       "dict_items([('Rolf', 24), ('Adam', 30), ('Anne', 27)])"
      ]
     },
     "execution_count": 54,
     "metadata": {},
     "output_type": "execute_result"
    }
   ],
   "source": [
    "friends_dict.items()"
   ]
  },
  {
   "cell_type": "code",
   "execution_count": 55,
   "metadata": {},
   "outputs": [],
   "source": [
    "friends = [('Rolf', 24), ('Adam', 30), (\"Anne\",27)]\n",
    "answer = {}\n",
    "for key, value in friends:\n",
    "    if key in answer:\n",
    "        answer[key].append(value)\n",
    "    else:\n",
    "        answer[key] = value"
   ]
  },
  {
   "cell_type": "code",
   "execution_count": 56,
   "metadata": {
    "scrolled": true
   },
   "outputs": [
    {
     "data": {
      "text/plain": [
       "{'Rolf': 24, 'Adam': 30, 'Anne': 27}"
      ]
     },
     "execution_count": 56,
     "metadata": {},
     "output_type": "execute_result"
    }
   ],
   "source": [
    "answer"
   ]
  },
  {
   "cell_type": "code",
   "execution_count": null,
   "metadata": {},
   "outputs": [],
   "source": []
  }
 ],
 "metadata": {
  "kernelspec": {
   "display_name": "Python 3",
   "language": "python",
   "name": "python3"
  },
  "language_info": {
   "codemirror_mode": {
    "name": "ipython",
    "version": 3
   },
   "file_extension": ".py",
   "mimetype": "text/x-python",
   "name": "python",
   "nbconvert_exporter": "python",
   "pygments_lexer": "ipython3",
   "version": "3.7.6"
  }
 },
 "nbformat": 4,
 "nbformat_minor": 2
}
