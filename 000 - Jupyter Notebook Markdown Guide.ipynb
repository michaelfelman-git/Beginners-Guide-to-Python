{
 "cells": [
  {
   "cell_type": "markdown",
   "metadata": {},
   "source": [
    "<h1 align=\"center\">Using Jupyter Notebooks Markdown</h1> \n",
    "<h2 align=\"left\"><ins>Lesson Guide</ins></h2>\n",
    "\n",
    "- [**FORMATTING**](#format)\n",
    "    - [**Add spacing between text**](#space)\n",
    "    - [**Italic text**](#italic)\n",
    "    - [**Bold text**](#bold)\n",
    "    - [**Bold and Italic text**](#italic_bold)\n",
    "    - [**Strikethrough text**](#strike)\n",
    "    - [**Underline text**](#underline)\n",
    "    - [**Bullets and Numbering**](#bullets)\n",
    "    - [**Create headers**](#headers)\n",
    "    - [**Center text**](#center)\n",
    "    - [**Create links**](#links)\n",
    "    - [**Insert/break a new line**](#break)\n",
    "    - [**Add colour to text**](#colour)\n",
    "    - [**Insert python code**](#python)\n",
    "    - [**Create tables**](#tables)\n",
    "- [**CREATE TABLE OF CONTENTS WITH LINKS**](#contents)\n",
    "- [**MATHEMATICAL EQUATIONS (using Latex formulas)**](#maths)\n",
    "- [**USING IMAGES**](#images)\n",
    "- [**MAGIC COMMANDS**](#magic)\n",
    "- [**USEFUL RESOURCES**](#resources)"
   ]
  },
  {
   "cell_type": "markdown",
   "metadata": {},
   "source": [
    "<a id='format'></a>\n",
    "## FORMATTING\n",
    "\n",
    "<a id='space'></a>\n",
    "To add spaces in between text (each `\\;` corresponds to a single space)\n",
    "\n",
    "`$\\;\\;\\;\\;$`"
   ]
  },
  {
   "cell_type": "markdown",
   "metadata": {},
   "source": [
    "<a id='italic'></a>\n",
    "To make the text *italic* (be sure to add `*` at the beginning and end of the text)             \n",
    "`*text*`"
   ]
  },
  {
   "cell_type": "markdown",
   "metadata": {},
   "source": [
    "<a id='bold'></a>\n",
    "To make the text **bold** (be sure to add `**` at the beginning and end of the text)            \n",
    "`**text**`"
   ]
  },
  {
   "cell_type": "markdown",
   "metadata": {},
   "source": [
    "<a id='italic_bold'></a>\n",
    "To make the text ***bold and italic*** (be sure to add `***` at the beginning and end of the text)             \n",
    "`***text***`"
   ]
  },
  {
   "cell_type": "markdown",
   "metadata": {},
   "source": [
    "<a id='strike'></a>\n",
    "To add a line through the ~~text~~ (be sure to add `~~` at the beginning and end of the text)    \n",
    "`~~text~~`"
   ]
  },
  {
   "cell_type": "markdown",
   "metadata": {},
   "source": [
    "<a id='underline'></a>\n",
    "To <ins>underline</ins> text (be sure to add `/` at the end)      \n",
    "`<u>text</u>`\n",
    "\n",
    "We can also use `<ins>text</ins>`"
   ]
  },
  {
   "cell_type": "markdown",
   "metadata": {},
   "source": [
    "<a id='bullets'></a>\n",
    "To add bullets and numbering (both must be used at the beginning):\n",
    "\n",
    "- `- text` or `* text` will add a **bullet** (be sure to incude the space inbetween)\n",
    "    - adding a tab space prior will indent the bullet (can add tab spaces to increase bullet indentation)\n",
    "\n",
    "\n",
    "1. For **numbering** we simply need to add a decimal after the number `1.`\n",
    "    1. To indent the numbering we can add tab spaces (the lettering begins at A and depends on the number being selected)"
   ]
  },
  {
   "cell_type": "markdown",
   "metadata": {},
   "source": [
    "<a id='headers'></a>\n",
    "There are multiple ways to **create headers**:\n",
    "\n",
    "1. Using `<h1>text</h1>` with number 1-7 to increase/decrease the header level\n",
    "\n",
    "\n",
    "2. Using `# text` and increase the number of `#`'s to increase the header level (can only be used at the beginning) "
   ]
  },
  {
   "cell_type": "markdown",
   "metadata": {},
   "source": [
    "<a id='center'></a>\n",
    "There are multiple ways to **center text**:\n",
    "1. `<center>text</center>`\n",
    "\n",
    "\n",
    "2. `<h1 align=\"center\">Text</h1>` \n",
    "    1. Note that you can substitute center with left or right `<h2 align=\"left\"><u>Text</u></h2>`"
   ]
  },
  {
   "cell_type": "markdown",
   "metadata": {},
   "source": [
    "<a id='links'></a>\n",
    "To create **links** requires 2 parts - the text to appear `[text]` and the website `(website)` with no spacing inbetween          \n",
    "[Link to Google](http://google.com)"
   ]
  },
  {
   "cell_type": "markdown",
   "metadata": {},
   "source": [
    "<a id='break'></a>\n",
    "To break to a **new line**<br> we simply use `<br>`"
   ]
  },
  {
   "cell_type": "markdown",
   "metadata": {},
   "source": [
    "<a id='colour'></a>\n",
    "To add colour to the text\n",
    "- `<font color='red'>text</font>`$\\;\\;\\;\\;$(we can bold this by adding `**` which is equivalent to `<strong>`)\n",
    "\n",
    "\n",
    "- `<strong><font color='red'>Use caution!</font></strong>`"
   ]
  },
  {
   "cell_type": "markdown",
   "metadata": {},
   "source": [
    "<a id='python'></a>\n",
    "To add python code as markdown text we start with ` ```python ` and end with ` ``` ` (also works with other codes such as HTML...)\n",
    "\n",
    "` ```python \n",
    "text = \"Python Programming\"\n",
    "print(text) \n",
    "``` `"
   ]
  },
  {
   "cell_type": "markdown",
   "metadata": {},
   "source": [
    "<a id='tables'></a>\n",
    "To create a **table** in markdown requires the use of the pipe `|`. The first line will be the headers for the columns while the second line is used to align the table (left align is `:-`, right align is `-:` & center align is `:-:`)\n",
    "\n",
    "| Col1 | Col2 | Col3 |\n",
    "| :- | :-: | -: |\n",
    "| 123 | 456 | 789 |\n",
    "| left | center | right |"
   ]
  },
  {
   "cell_type": "markdown",
   "metadata": {},
   "source": [
    "Using HTML code to create a **table**  (ever so slightly more complicated than the above method)\n",
    "\n",
    "<table border=\"1\" class=\"docutils\">\n",
    "<colgroup>\n",
    "<col width=\"14%\" />\n",
    "<col width=\"86%\" />\n",
    "</colgroup>\n",
    "<thead valign=\"bottom\">\n",
    "<tr class=\"row-odd\"><th class=\"head\">Code</th>\n",
    "<th class=\"head\">Meaning</th>\n",
    "</tr>\n",
    "</thead>\n",
    "<tbody valign=\"top\">\n",
    "<tr class=\"row-even\"><td><tt class=\"docutils literal\"><span class=\"pre\">\\d</span></tt></td>\n",
    "<td>a digit</td>\n",
    "</tr>\n",
    "<tr class=\"row-odd\"><td><tt class=\"docutils literal\"><span class=\"pre\">\\D</span></tt></td>\n",
    "<td>a non-digit</td>\n",
    "</tr>\n",
    "<tr class=\"row-even\"><td><tt class=\"docutils literal\"><span class=\"pre\">\\s</span></tt></td>\n",
    "<td>whitespace (tab, space, newline, etc.)</td>\n",
    "</tr>\n",
    "<tr class=\"row-odd\"><td><tt class=\"docutils literal\"><span class=\"pre\">\\S</span></tt></td>\n",
    "<td>non-whitespace</td>\n",
    "</tr>\n",
    "<tr class=\"row-even\"><td><tt class=\"docutils literal\"><span class=\"pre\">\\w</span></tt></td>\n",
    "<td>alphanumeric</td>\n",
    "</tr>\n",
    "<tr class=\"row-odd\"><td><tt class=\"docutils literal\"><span class=\"pre\">\\W</span></tt></td>\n",
    "<td>non-alphanumeric</td>\n",
    "</tr>\n",
    "</tbody>\n",
    "</table>"
   ]
  },
  {
   "cell_type": "markdown",
   "metadata": {},
   "source": [
    "<a id='contents'></a>\n",
    "## CREATE TABLE OF CONTENTS WITH LINKS"
   ]
  },
  {
   "cell_type": "markdown",
   "metadata": {},
   "source": [
    "```python\n",
    "<h1 align=\"center\">Guide to Using Jupyter Notebooks</h1> \n",
    "<h2 align=\"left\">Contents</h2>\n",
    "\n",
    "- [**Formatting**](#format)\n",
    "    - [**Add spacing between text**](#space)\n",
    "        - [**Using HTML**](#html)\n",
    "```"
   ]
  },
  {
   "cell_type": "markdown",
   "metadata": {},
   "source": [
    "Using html"
   ]
  },
  {
   "cell_type": "markdown",
   "metadata": {},
   "source": [
    "```html\n",
    "<h1><u>Contents</u></h1>\n",
    "<ul>\n",
    "    <li><a href=\"#format\"><b>Formatting</b></a>\n",
    "        <ul>\n",
    "            <li><a href=\"#space\">Add spacing between text</a>\n",
    "                <ul>\n",
    "                   <li><a href=\"#html\">Using HTML</a>\n",
    "                </ul>\n",
    "        </ul>\n",
    "```"
   ]
  },
  {
   "cell_type": "markdown",
   "metadata": {},
   "source": [
    "Both methods require the following to link the contents to any section of the jupyter file    \n",
    "`<a id='format'></a>`"
   ]
  },
  {
   "cell_type": "markdown",
   "metadata": {},
   "source": [
    "<a id='maths'></a>\n",
    "## MATHEMATICAL EQUATIONS (using Latex formulas)"
   ]
  },
  {
   "cell_type": "markdown",
   "metadata": {},
   "source": [
    "`$$a^2 + b^2 = c^2$$`\n",
    "$$a^2 + b^2 = c^2$$\n",
    "\n",
    "`$$x_{1,2} = {-b\\pm\\sqrt{b^2 - 4ac} \\over 2a}.$$`\n",
    "$$x_{1,2} = {-b\\pm\\sqrt{b^2 - 4ac} \\over 2a}.$$"
   ]
  },
  {
   "cell_type": "markdown",
   "metadata": {},
   "source": [
    "`<h3 align=\"center\">$F_{1} = 2 * \\frac{\\text{precision * recall}}{precision + recall}$</h3> `\n",
    "<h3 align=\"center\">$F_{1} = 2 * \\frac{\\text{precision * recall}}{precision + recall}$</h3> "
   ]
  },
  {
   "cell_type": "markdown",
   "metadata": {},
   "source": [
    "|Greek Letters|Symbol|Markdown|\n",
    "| :-: | :-: | :-: |\n",
    "| Alpha | $\\alpha$ | `$\\alpha$` |\n",
    "| Beta | $\\beta$ | `$\\beta$` | \n",
    "| Gamma | $\\gamma \\;\\; \\Gamma$ | `$\\gamma \\Gamma$` | \n",
    "| Pi | $\\pi \\;\\; \\Pi \\;\\; \\varpi $ | `$\\pi \\Pi \\varpi $` | \n",
    "| Phi | $\\phi \\;\\; \\Phi \\;\\; \\varphi $ | `$\\phi \\Phi \\varphi $` | \n",
    "| Epsilon | $\\epsilon \\;\\; \\varepsilon$ | `$\\epsilon \\varepsilon$` | \n",
    "| Theta| $\\theta \\;\\; \\Theta \\;\\; \\vartheta$ | `$\\theta \\Theta \\vartheta$` | \n",
    "| Rho | $\\rho \\;\\; \\varrho$ | `$\\rho \\varrho$` | \n",
    "| sigma | $\\sigma \\;\\; \\Sigma \\;\\; \\varsigma$ | `$\\sigma \\Sigma \\varsigma$` | "
   ]
  },
  {
   "cell_type": "markdown",
   "metadata": {},
   "source": [
    "<a id='images'></a>\n",
    "## USING IMAGES"
   ]
  },
  {
   "cell_type": "markdown",
   "metadata": {},
   "source": [
    "Local Images\n",
    "\n",
    "`<img src=\"image_file_path\" width=600 height=600 />`"
   ]
  },
  {
   "cell_type": "markdown",
   "metadata": {},
   "source": [
    "`![title](screenshot1.png)`\n",
    "\n",
    "or \n",
    "\n",
    "`![title](screenshot1.png) | ![title](screenshot2.png)`"
   ]
  },
  {
   "cell_type": "markdown",
   "metadata": {},
   "source": [
    "```python\n",
    "from IPython.display import Image\n",
    "Image(filename='file_path',width=800, height=400)\n",
    "```\n",
    "or\n",
    "```python\n",
    "from IPython.display import HTML, display\n",
    "display(HTML(\"<table><tr><td><img src='screenshot1.png'></td><td><img src='screenshot2.png'></td></tr></table>\"))\n",
    "```\n",
    "or\n",
    "```python\n",
    "from IPython.display import HTML, display\n",
    "display(HTML(\"\"\"<table>\n",
    "                    <tr>\n",
    "                        <td>\n",
    "                            <img src='screenshot4.png' width=300 height=200>\n",
    "                        </td>\n",
    "                        <td>\n",
    "                            <img src='screenshot5.png' width=300 height=200>\n",
    "                        </td>\n",
    "                    </tr>\n",
    "                </table>\"\"\"))\n",
    "```"
   ]
  },
  {
   "cell_type": "markdown",
   "metadata": {},
   "source": [
    "<a id='magic'></a>\n",
    "## MAGIC COMMANDS"
   ]
  },
  {
   "cell_type": "code",
   "execution_count": 4,
   "metadata": {},
   "outputs": [
    {
     "data": {
      "application/json": {
       "cell": {
        "!": "OSMagics",
        "HTML": "Other",
        "SVG": "Other",
        "bash": "Other",
        "capture": "ExecutionMagics",
        "cmd": "Other",
        "debug": "ExecutionMagics",
        "file": "Other",
        "html": "DisplayMagics",
        "javascript": "DisplayMagics",
        "js": "DisplayMagics",
        "latex": "DisplayMagics",
        "markdown": "DisplayMagics",
        "perl": "Other",
        "prun": "ExecutionMagics",
        "pypy": "Other",
        "python": "Other",
        "python2": "Other",
        "python3": "Other",
        "ruby": "Other",
        "script": "ScriptMagics",
        "sh": "Other",
        "svg": "DisplayMagics",
        "sx": "OSMagics",
        "system": "OSMagics",
        "time": "ExecutionMagics",
        "timeit": "ExecutionMagics",
        "writefile": "OSMagics"
       },
       "line": {
        "alias": "OSMagics",
        "alias_magic": "BasicMagics",
        "autoawait": "AsyncMagics",
        "autocall": "AutoMagics",
        "automagic": "AutoMagics",
        "autosave": "KernelMagics",
        "bookmark": "OSMagics",
        "cd": "OSMagics",
        "clear": "KernelMagics",
        "cls": "KernelMagics",
        "colors": "BasicMagics",
        "conda": "PackagingMagics",
        "config": "ConfigMagics",
        "connect_info": "KernelMagics",
        "copy": "Other",
        "ddir": "Other",
        "debug": "ExecutionMagics",
        "dhist": "OSMagics",
        "dirs": "OSMagics",
        "doctest_mode": "BasicMagics",
        "echo": "Other",
        "ed": "Other",
        "edit": "KernelMagics",
        "env": "OSMagics",
        "gui": "BasicMagics",
        "hist": "Other",
        "history": "HistoryMagics",
        "killbgscripts": "ScriptMagics",
        "ldir": "Other",
        "less": "KernelMagics",
        "load": "CodeMagics",
        "load_ext": "ExtensionMagics",
        "loadpy": "CodeMagics",
        "logoff": "LoggingMagics",
        "logon": "LoggingMagics",
        "logstart": "LoggingMagics",
        "logstate": "LoggingMagics",
        "logstop": "LoggingMagics",
        "ls": "Other",
        "lsmagic": "BasicMagics",
        "macro": "ExecutionMagics",
        "magic": "BasicMagics",
        "matplotlib": "PylabMagics",
        "mkdir": "Other",
        "more": "KernelMagics",
        "notebook": "BasicMagics",
        "page": "BasicMagics",
        "pastebin": "CodeMagics",
        "pdb": "ExecutionMagics",
        "pdef": "NamespaceMagics",
        "pdoc": "NamespaceMagics",
        "pfile": "NamespaceMagics",
        "pinfo": "NamespaceMagics",
        "pinfo2": "NamespaceMagics",
        "pip": "PackagingMagics",
        "popd": "OSMagics",
        "pprint": "BasicMagics",
        "precision": "BasicMagics",
        "prun": "ExecutionMagics",
        "psearch": "NamespaceMagics",
        "psource": "NamespaceMagics",
        "pushd": "OSMagics",
        "pwd": "OSMagics",
        "pycat": "OSMagics",
        "pylab": "PylabMagics",
        "qtconsole": "KernelMagics",
        "quickref": "BasicMagics",
        "recall": "HistoryMagics",
        "rehashx": "OSMagics",
        "reload_ext": "ExtensionMagics",
        "ren": "Other",
        "rep": "Other",
        "rerun": "HistoryMagics",
        "reset": "NamespaceMagics",
        "reset_selective": "NamespaceMagics",
        "rmdir": "Other",
        "run": "ExecutionMagics",
        "save": "CodeMagics",
        "sc": "OSMagics",
        "set_env": "OSMagics",
        "store": "StoreMagics",
        "sx": "OSMagics",
        "system": "OSMagics",
        "tb": "ExecutionMagics",
        "time": "ExecutionMagics",
        "timeit": "ExecutionMagics",
        "unalias": "OSMagics",
        "unload_ext": "ExtensionMagics",
        "who": "NamespaceMagics",
        "who_ls": "NamespaceMagics",
        "whos": "NamespaceMagics",
        "xdel": "NamespaceMagics",
        "xmode": "BasicMagics"
       }
      },
      "text/plain": [
       "Available line magics:\n",
       "%alias  %alias_magic  %autoawait  %autocall  %automagic  %autosave  %bookmark  %cd  %clear  %cls  %colors  %conda  %config  %connect_info  %copy  %ddir  %debug  %dhist  %dirs  %doctest_mode  %echo  %ed  %edit  %env  %gui  %hist  %history  %killbgscripts  %ldir  %less  %load  %load_ext  %loadpy  %logoff  %logon  %logstart  %logstate  %logstop  %ls  %lsmagic  %macro  %magic  %matplotlib  %mkdir  %more  %notebook  %page  %pastebin  %pdb  %pdef  %pdoc  %pfile  %pinfo  %pinfo2  %pip  %popd  %pprint  %precision  %prun  %psearch  %psource  %pushd  %pwd  %pycat  %pylab  %qtconsole  %quickref  %recall  %rehashx  %reload_ext  %ren  %rep  %rerun  %reset  %reset_selective  %rmdir  %run  %save  %sc  %set_env  %store  %sx  %system  %tb  %time  %timeit  %unalias  %unload_ext  %who  %who_ls  %whos  %xdel  %xmode\n",
       "\n",
       "Available cell magics:\n",
       "%%!  %%HTML  %%SVG  %%bash  %%capture  %%cmd  %%debug  %%file  %%html  %%javascript  %%js  %%latex  %%markdown  %%perl  %%prun  %%pypy  %%python  %%python2  %%python3  %%ruby  %%script  %%sh  %%svg  %%sx  %%system  %%time  %%timeit  %%writefile\n",
       "\n",
       "Automagic is ON, % prefix IS NOT needed for line magics."
      ]
     },
     "execution_count": 4,
     "metadata": {},
     "output_type": "execute_result"
    }
   ],
   "source": [
    "%lsmagic"
   ]
  },
  {
   "cell_type": "code",
   "execution_count": 8,
   "metadata": {},
   "outputs": [
    {
     "name": "stdout",
     "output_type": "stream",
     "text": [
      "Variable   Type        Data/Info\n",
      "--------------------------------\n",
      "HTML       type        <class 'IPython.core.display.HTML'>\n",
      "a          int         1\n",
      "b          float       2.6\n",
      "c          list        n=5\n",
      "d          dict        n=2\n",
      "display    function    <function display at 0x000001CF297958B8>\n",
      "e          tuple       n=3\n",
      "f          dict        n=2\n",
      "g          bool        True\n",
      "i          str         integer\n"
     ]
    }
   ],
   "source": [
    "a = 1\n",
    "b = 2.6\n",
    "c = [1,2,3,5,6]\n",
    "d = {'kiefer':'katovich', 'dave':'yerrington'}\n",
    "e = ('one', 'two', 'three')\n",
    "f = {1:{'key':'value'}, 2:{'key2':'value2'}}\n",
    "g = True\n",
    "i = 'integer'\n",
    "\n",
    "%whos"
   ]
  },
  {
   "cell_type": "markdown",
   "metadata": {},
   "source": [
    "<a id='resources'></a>\n",
    "## USEFUL RESOURCES\n",
    "- For a complete User Manual check out the [Bryn Mawr College Computer Science Guide](https://jupyter.brynmawr.edu/services/public/dblank/Jupyter%20Notebook%20Users%20Manual.ipynb).\n",
    "- [buildandteach](http://buildandteach.com/jupyter-notebook-tutorials/lesson-5-working-with-markdown-cells/)\n",
    "- [Write mathematical equations in jupyter markdown](https://link.springer.com/content/pdf/bbm%3A978-1-4842-3913-1%2F1.pdf)"
   ]
  },
  {
   "cell_type": "code",
   "execution_count": null,
   "metadata": {},
   "outputs": [],
   "source": []
  }
 ],
 "metadata": {
  "kernelspec": {
   "display_name": "Python 3",
   "language": "python",
   "name": "python3"
  },
  "language_info": {
   "codemirror_mode": {
    "name": "ipython",
    "version": 3
   },
   "file_extension": ".py",
   "mimetype": "text/x-python",
   "name": "python",
   "nbconvert_exporter": "python",
   "pygments_lexer": "ipython3",
   "version": "3.7.6"
  }
 },
 "nbformat": 4,
 "nbformat_minor": 1
}
