{
 "cells": [
  {
   "cell_type": "markdown",
   "metadata": {},
   "source": [
    "<h1 align=\"center\">FOR LOOPS</h1>\n",
    "<h2 align=\"left\"><u>Lesson Guide</u></h2>\n",
    "\n",
    "- [**FOR LOOPS**](#for)\n",
    "- [**NESTED FOR LOOPS**](#nested)\n",
    "- [**BREAK / CONTINUE**](#breaks)\n",
    "- [**MORE EXAMPLES**](#examples)\n",
    "\n",
    "Documentation: https://docs.python.org/3/tutorial/controlflow.html?highlight=try%20else#for-statements"
   ]
  },
  {
   "cell_type": "markdown",
   "metadata": {},
   "source": [
    "<a id='for'></a>\n",
    "## FOR LOOPS\n",
    "\n",
    "A <code>for</code> loop acts as an iterator in Python; it goes through items that are in a *sequence* or any other iterable item. Objects that we've learned about that we can iterate over include strings, lists, tuples, and even built-in iterables for dictionaries, such as keys or values.\n",
    "\n",
    "general format for a <code>for</code> loop in Python:\n",
    "```python\n",
    "    for item in object:\n",
    "        statements to do stuff\n",
    "```"
   ]
  },
  {
   "cell_type": "code",
   "execution_count": 1,
   "metadata": {},
   "outputs": [
    {
     "name": "stdout",
     "output_type": "stream",
     "text": [
      "Rolf\n",
      "Jen\n",
      "Anne\n"
     ]
    }
   ],
   "source": [
    "friends = [\"Rolf\", \"Jen\", \"Anne\"]\n",
    "\n",
    "for friend in friends:\n",
    "    print(friend)"
   ]
  },
  {
   "cell_type": "code",
   "execution_count": 2,
   "metadata": {},
   "outputs": [
    {
     "name": "stdout",
     "output_type": "stream",
     "text": [
      "40\n",
      "40\n"
     ]
    }
   ],
   "source": [
    "number = 5\n",
    "multiplier = 8\n",
    "answer = 0\n",
    "\n",
    "# can use the _ as the name place if we don't plan on using the _ in the indented block of code.\n",
    "for _ in range(1, multiplier+1):\n",
    "    answer += number\n",
    "print(answer)\n",
    "\n",
    "# Alternatively,\n",
    "number = 5\n",
    "multiplier = 8\n",
    "answer = 0\n",
    "\n",
    "for _ in range(multiplier):\n",
    "    answer += number\n",
    "print(answer)"
   ]
  },
  {
   "cell_type": "code",
   "execution_count": 3,
   "metadata": {},
   "outputs": [
    {
     "name": "stdout",
     "output_type": "stream",
     "text": [
      "0 Cisco\n",
      "1 HP\n",
      "2 Nortel\n",
      "3 Avaya\n",
      "4 Juniper\n",
      "The for loop is now complete\n"
     ]
    }
   ],
   "source": [
    "vendors = ['Cisco', 'HP', 'Nortel', 'Avaya', 'Juniper']\n",
    "\n",
    "for index, item in enumerate(vendors):\n",
    "    print(index, item)\n",
    "else:\n",
    "    print('The for loop is now complete')"
   ]
  },
  {
   "cell_type": "code",
   "execution_count": 4,
   "metadata": {},
   "outputs": [
    {
     "name": "stdout",
     "output_type": "stream",
     "text": [
      "Rolf has a grade of 90.\n",
      "Bob has a grade of 78.\n",
      "Jen has a grade of 100.\n",
      "Anne has a grade of 80.\n"
     ]
    }
   ],
   "source": [
    "# -- Using each value while you iterate --\n",
    "\n",
    "students = [\n",
    "    {\"name\": \"Rolf\", \"grade\": 90},\n",
    "    {\"name\": \"Bob\", \"grade\": 78},\n",
    "    {\"name\": \"Jen\", \"grade\": 100},\n",
    "    {\"name\": \"Anne\", \"grade\": 80},\n",
    "]\n",
    "\n",
    "for student in students:  # student is a variable used for iteration\n",
    "    name = student[\"name\"]\n",
    "    grade = student[\"grade\"]\n",
    "    print(f\"{name} has a grade of {grade}.\")\n",
    "\n",
    "# When to use?\n",
    "# When you want to repeat something a defined number of times, or want to use each element."
   ]
  },
  {
   "cell_type": "code",
   "execution_count": 5,
   "metadata": {},
   "outputs": [
    {
     "name": "stdout",
     "output_type": "stream",
     "text": [
      "Rolf is 25 years old.\n",
      "Anne is 37 years old.\n",
      "Charlie is 31 years old.\n",
      "Bob is 22 years old.\n",
      "\n",
      "\n",
      "Rolf is 25 years old.\n",
      "Anne is 37 years old.\n",
      "Charlie is 31 years old.\n",
      "Bob is 22 years old.\n"
     ]
    }
   ],
   "source": [
    "# Given a tuple or list:\n",
    "currencies = 0.8, 1.2\n",
    "usd, eur = currencies\n",
    "\n",
    "# -- Destructuring in a loop --\n",
    "# If you've got a list of lists, such as friend names and ages, you can destructure\n",
    "# in a loop like this:\n",
    "\n",
    "friends = [(\"Rolf\", 25), (\"Anne\", 37), (\"Charlie\", 31), (\"Bob\", 22)]\n",
    "for name, age in friends:  \n",
    "    print(f\"{name} is {age} years old.\")\n",
    "print('\\n')\n",
    "    \n",
    "# Similarly,\n",
    "friends = [(\"Rolf\", 25), (\"Anne\", 37), (\"Charlie\", 31), (\"Bob\", 22)]\n",
    "for friend in friends:  \n",
    "#     name = friend[0]\n",
    "#     age = friend[1]\n",
    "#     print(f\"{name} is {age} years old.\")\n",
    "    print(f\"{friend[0]} is {friend[1]} years old.\")"
   ]
  },
  {
   "cell_type": "code",
   "execution_count": 6,
   "metadata": {},
   "outputs": [
    {
     "name": "stdout",
     "output_type": "stream",
     "text": [
      "Rolf\n",
      "Anne\n",
      "Charlie\n",
      "Bob\n",
      "********************\n",
      "25\n",
      "37\n",
      "31\n",
      "22\n",
      "********************\n",
      "Rolf is 25 years old.\n",
      "Anne is 37 years old.\n",
      "Charlie is 31 years old.\n",
      "Bob is 22 years old.\n"
     ]
    }
   ],
   "source": [
    "friend_ages = {\"Rolf\": 25, \"Anne\": 37, \"Charlie\": 31, \"Bob\": 22}\n",
    "\n",
    "# equivalent to: for name in friend_ages.keys():\n",
    "for name in friend_ages:        \n",
    "    print(name)     # returns the keys\n",
    "\n",
    "print('*'*20)\n",
    "for age in friend_ages.values():\n",
    "    print(age)      # returns the values \n",
    "\n",
    "print('*'*20)\n",
    "for name, age in friend_ages.items():\n",
    "    print(f\"{name} is {age} years old.\")"
   ]
  },
  {
   "cell_type": "code",
   "execution_count": 7,
   "metadata": {},
   "outputs": [
    {
     "name": "stdout",
     "output_type": "stream",
     "text": [
      "I know Anne\n"
     ]
    }
   ],
   "source": [
    "my_friends = {'Jose':6, 'Rolf':12, 'Anne':6}\n",
    "\n",
    "do_i_know = 'Anne'\n",
    "\n",
    "# equivalent to - if do_i_know in my_friends:\n",
    "if do_i_know in my_friends.keys():   \n",
    "    print(f'I know {do_i_know}')"
   ]
  },
  {
   "cell_type": "code",
   "execution_count": 8,
   "metadata": {},
   "outputs": [
    {
     "name": "stdout",
     "output_type": "stream",
     "text": [
      ",;: ,;\n",
      "['9', '223', '372', '036', '854', '775', '807']\n",
      "[9, 223, 372, 36, 854, 775, 807]\n"
     ]
    }
   ],
   "source": [
    "# example taken from section on strings\n",
    "\n",
    "number = \"9,223;372:036 854,775;807\"\n",
    "seperators = number[1::4]\n",
    "print(seperators)\n",
    "\n",
    "values = \"\".join(char if char not in seperators else \" \" for char in number).split()\n",
    "\n",
    "print(values)\n",
    "print([int(val) for val in values])"
   ]
  },
  {
   "cell_type": "code",
   "execution_count": 9,
   "metadata": {},
   "outputs": [
    {
     "name": "stdout",
     "output_type": "stream",
     "text": [
      ",;: ,; \n",
      "\n",
      "['9', '223', '372', '036', '854', '775', '807']\n",
      "[9, 223, 372, 36, 854, 775, 807]\n",
      "3076\n"
     ]
    }
   ],
   "source": [
    "number = \"9,223;372:036 854,775;807\"\n",
    "seperators = \"\"\n",
    "\n",
    "for char in number:\n",
    "    if not char.isnumeric():\n",
    "        seperators = seperators + char\n",
    "\n",
    "print(seperators,'\\n')\n",
    "\n",
    "values = \"\".join(char if char not in seperators else \" \" for char in number).split()\n",
    "\n",
    "print(values)\n",
    "print([int(val) for val in values])\n",
    "print(sum([int(val) for val in values]))"
   ]
  },
  {
   "cell_type": "code",
   "execution_count": 10,
   "metadata": {},
   "outputs": [
    {
     "name": "stdout",
     "output_type": "stream",
     "text": [
      "HT\n"
     ]
    }
   ],
   "source": [
    "string = \"Hello, There\"\n",
    "\n",
    "capitals = \"\"\n",
    "\n",
    "for char in string:\n",
    "    if char.isupper():\n",
    "        capitals = capitals + char\n",
    "        \n",
    "print(capitals)"
   ]
  },
  {
   "cell_type": "code",
   "execution_count": 11,
   "metadata": {
    "scrolled": true
   },
   "outputs": [
    {
     "name": "stdout",
     "output_type": "stream",
     "text": [
      "0\n",
      "7\n",
      "14\n",
      "21\n",
      "28\n",
      "35\n",
      "42\n",
      "49\n",
      "56\n",
      "63\n",
      "70\n",
      "77\n",
      "84\n",
      "91\n",
      "98\n"
     ]
    }
   ],
   "source": [
    "#challenge:\n",
    "\n",
    "for number in range(0,101):\n",
    "    if number % 7 == 0:\n",
    "        print(number)\n",
    "        \n",
    "# Alternatively,\n",
    "# for i in range(0,101,7):\n",
    "#     print(i)\n",
    "    \n",
    "# Alternatively,\n",
    "# for i in range(101)[::7]:\n",
    "#     print(i)"
   ]
  },
  {
   "cell_type": "markdown",
   "metadata": {},
   "source": [
    "<a id='nested'></a>\n",
    "## NESTED `for` LOOPS"
   ]
  },
  {
   "cell_type": "code",
   "execution_count": 12,
   "metadata": {},
   "outputs": [
    {
     "name": "stdout",
     "output_type": "stream",
     "text": [
      "40\n",
      "80\n",
      "120\n",
      "4\n",
      "50\n",
      "100\n",
      "150\n",
      "5\n",
      "60\n",
      "120\n",
      "180\n",
      "6\n"
     ]
    }
   ],
   "source": [
    "list1 = [4, 5, 6]\n",
    "list2 = [10, 20, 30]\n",
    "\n",
    "for i in list1:\n",
    "    for j in list2:\n",
    "        print(i * j)\n",
    "    print(i)"
   ]
  },
  {
   "cell_type": "code",
   "execution_count": 13,
   "metadata": {},
   "outputs": [
    {
     "name": "stdout",
     "output_type": "stream",
     "text": [
      " 1 times 1 is   1\n",
      " 2 times 1 is   2\n",
      " 3 times 1 is   3\n",
      " 4 times 1 is   4\n",
      "-------------------\n",
      " 1 times 2 is   2\n",
      " 2 times 2 is   4\n",
      " 3 times 2 is   6\n",
      " 4 times 2 is   8\n",
      "-------------------\n",
      " 1 times 3 is   3\n",
      " 2 times 3 is   6\n",
      " 3 times 3 is   9\n",
      " 4 times 3 is  12\n",
      "-------------------\n",
      " 1 times 4 is   4\n",
      " 2 times 4 is   8\n",
      " 3 times 4 is  12\n",
      " 4 times 4 is  16\n",
      "-------------------\n"
     ]
    }
   ],
   "source": [
    "for i in range(1,5):\n",
    "    for j in range(1,5):\n",
    "        # print(\"{0} times {1} is {2}\".format(j, i, i*j))\n",
    "        print(f\"{j:2} times {i} is {i*j:3}\")\n",
    "    print(\"-------------------\")"
   ]
  },
  {
   "cell_type": "code",
   "execution_count": 14,
   "metadata": {
    "scrolled": true
   },
   "outputs": [
    {
     "name": "stdout",
     "output_type": "stream",
     "text": [
      "1 times 1 is 1\n",
      "2 times 2 is 4\n",
      "3 times 3 is 9\n",
      "4 times 4 is 16\n",
      "5 times 5 is 25\n",
      "6 times 6 is 36\n",
      "7 times 7 is 49\n",
      "8 times 8 is 64\n",
      "9 times 9 is 81\n",
      "10 times 10 is 100\n",
      "11 times 11 is 121\n",
      "12 times 12 is 144\n"
     ]
    }
   ],
   "source": [
    "for i, j in zip(range(1,13), range(1,13)):\n",
    "    print(f\"{j} times {i} is {i*j}\")"
   ]
  },
  {
   "cell_type": "markdown",
   "metadata": {},
   "source": [
    "<a id='breaks'></a>\n",
    "## BREAK  /  CONTINUE\n",
    "[Documentation](https://docs.python.org/3/tutorial/controlflow.html?highlight=try%20else#break-and-continue-statements-and-else-clauses-on-loops)"
   ]
  },
  {
   "cell_type": "code",
   "execution_count": 15,
   "metadata": {},
   "outputs": [
    {
     "name": "stdout",
     "output_type": "stream",
     "text": [
      "40\n",
      "Outside the nested loop\n",
      "50\n",
      "Outside the nested loop\n",
      "60\n",
      "Outside the nested loop\n"
     ]
    }
   ],
   "source": [
    "list1 = [4,5,6]\n",
    "list2 = [10,20,30]\n",
    "\n",
    "for i in list1:\n",
    "    for j in list2:\n",
    "        if j == 20:\n",
    "            break\n",
    "        print(i * j)\n",
    "    print('Outside the nested loop')"
   ]
  },
  {
   "cell_type": "code",
   "execution_count": 16,
   "metadata": {},
   "outputs": [
    {
     "name": "stdout",
     "output_type": "stream",
     "text": [
      "40\n",
      "120\n",
      "Outside the nested loop\n",
      "50\n",
      "150\n",
      "Outside the nested loop\n",
      "60\n",
      "180\n",
      "Outside the nested loop\n"
     ]
    }
   ],
   "source": [
    "list1 = [4,5,6]\n",
    "list2 = [10,20,30]\n",
    "\n",
    "for i in list1:\n",
    "    for j in list2:\n",
    "        if j == 20:\n",
    "            continue\n",
    "        print(i * j)\n",
    "    print('Outside the nested loop')"
   ]
  },
  {
   "cell_type": "code",
   "execution_count": 17,
   "metadata": {},
   "outputs": [
    {
     "name": "stdout",
     "output_type": "stream",
     "text": [
      "1\n",
      "2\n",
      "4\n",
      "7\n",
      "8\n",
      "11\n",
      "13\n",
      "14\n",
      "16\n",
      "17\n",
      "19\n",
      "22\n",
      "23\n",
      "26\n",
      "28\n",
      "29\n"
     ]
    }
   ],
   "source": [
    "for x in range(30):\n",
    "    if x % 3 == 0 or x%5==0:\n",
    "        continue\n",
    "    else:\n",
    "        print(x)\n",
    "        \n",
    "# Alternatively,\n",
    "# for x in range(30):\n",
    "#     if x % 3 != 0 and x%5!=0:\n",
    "#         print(x)"
   ]
  },
  {
   "cell_type": "code",
   "execution_count": 18,
   "metadata": {},
   "outputs": [
    {
     "name": "stdout",
     "output_type": "stream",
     "text": [
      "buy milk\n",
      "buy pasta\n",
      "buy eggs\n",
      "buy bread\n",
      "buy rice\n",
      "********************\n",
      "buy milk\n",
      "buy pasta\n",
      "buy eggs\n",
      "buy bread\n",
      "buy rice\n"
     ]
    }
   ],
   "source": [
    "shopping_list = ['milk', 'pasta', 'eggs', 'spam', 'bread', 'rice']\n",
    "\n",
    "# This iterates through the list and prints all the items.\n",
    "# for item in shopping_list:\n",
    "#     print(f'buy {item}')\n",
    "   \n",
    "# suppose we did not want to print out 'spam':\n",
    "for item in shopping_list:\n",
    "    if item != 'spam':\n",
    "        print(f'buy {item}')\n",
    "print('*'*20)\n",
    "#this does the same as above but uses 'continue' to not print out 'spam'.\n",
    "for item in shopping_list:\n",
    "    if item == 'spam':\n",
    "        continue\n",
    "    \n",
    "  # print(f'buy {item}')\n",
    "    else:\n",
    "        print(f'buy {item}')"
   ]
  },
  {
   "cell_type": "code",
   "execution_count": 19,
   "metadata": {},
   "outputs": [
    {
     "name": "stdout",
     "output_type": "stream",
     "text": [
      "buy milk\n",
      "buy pasta\n",
      "buy eggs\n"
     ]
    }
   ],
   "source": [
    "shopping_list = ['milk', 'pasta', 'eggs', 'spam', 'bread', 'rice']\n",
    "\n",
    "#now we replace 'continue' with 'break'.\n",
    "for item in shopping_list:\n",
    "    if item == 'spam':\n",
    "        break                 # once we reach 'spam' the program ends \n",
    "    else:\n",
    "        print(f'buy {item}')"
   ]
  },
  {
   "cell_type": "code",
   "execution_count": 20,
   "metadata": {},
   "outputs": [
    {
     "name": "stdout",
     "output_type": "stream",
     "text": [
      "item found at position 3\n"
     ]
    }
   ],
   "source": [
    "shopping_list = ['milk', 'pasta', 'eggs', 'spam', 'bread', 'rice']\n",
    "\n",
    "item_to_find = 'spam'\n",
    "found_at = None\n",
    "\n",
    "#for index in range(6):\n",
    "for index in range(len(shopping_list)):\n",
    "    if shopping_list[index] == item_to_find:\n",
    "        found_at = index\n",
    "        break                 #using 'break' allows the loop to end rather than keep going.\n",
    "        \n",
    "print(f'item found at position {found_at}')"
   ]
  },
  {
   "cell_type": "code",
   "execution_count": 21,
   "metadata": {},
   "outputs": [
    {
     "name": "stdout",
     "output_type": "stream",
     "text": [
      "albatross not found\n"
     ]
    }
   ],
   "source": [
    "shopping_lists = ['milk', 'pasta', 'eggs', 'spam', 'bread', 'rice']\n",
    "\n",
    "item_to_find = 'albatross'\n",
    "found_at = None\n",
    "\n",
    "#for index in range(6):\n",
    "for index in range(len(shopping_lists)):\n",
    "    if shopping_lists[index] == item_to_find:\n",
    "        found_at = index\n",
    "        break                 \n",
    "\n",
    "if found_at is not None:        \n",
    "    print(f'item found at position {found_at}')\n",
    "else:\n",
    "    print(f'{item_to_find} not found')"
   ]
  },
  {
   "cell_type": "code",
   "execution_count": 22,
   "metadata": {},
   "outputs": [
    {
     "name": "stdout",
     "output_type": "stream",
     "text": [
      "item found at position 3\n"
     ]
    }
   ],
   "source": [
    "shopping_list = ['milk', 'pasta', 'eggs', 'spam', 'bread', 'rice']\n",
    "\n",
    "item_to_find = 'spam'\n",
    "found_at = None\n",
    "\n",
    "#this is a simplified version of above\n",
    "if item_to_find in shopping_list:\n",
    "    found_at = shopping_list.index(item_to_find)\n",
    "\n",
    "if found_at is not None:        \n",
    "    print(f'item found at position {found_at}')\n",
    "else:\n",
    "    print(f'{item_to_find} not found')"
   ]
  },
  {
   "cell_type": "code",
   "execution_count": 23,
   "metadata": {},
   "outputs": [
    {
     "name": "stdout",
     "output_type": "stream",
     "text": [
      "This car is ok.\n",
      "This car is ok.\n",
      "This car is ok.\n",
      "Stopping the production line!\n"
     ]
    }
   ],
   "source": [
    "# -- break --\n",
    "# Exits out of the loop, so that no more iterations occur.\n",
    "\n",
    "cars = [\"ok\", \"ok\", \"ok\", \"faulty\", \"ok\", \"ok\"]\n",
    "\n",
    "for status in cars:\n",
    "    if status == \"faulty\":\n",
    "        print(\"Stopping the production line!\")\n",
    "        break\n",
    "\n",
    "    print(f\"This car is {status}.\")"
   ]
  },
  {
   "cell_type": "code",
   "execution_count": 24,
   "metadata": {},
   "outputs": [
    {
     "name": "stdout",
     "output_type": "stream",
     "text": [
      "This car is ok.\n",
      "Shipping new car to customer!\n",
      "This car is ok.\n",
      "Shipping new car to customer!\n",
      "This car is ok.\n",
      "Shipping new car to customer!\n",
      "Found faulty car, skipping...\n",
      "This car is ok.\n",
      "Shipping new car to customer!\n",
      "This car is ok.\n",
      "Shipping new car to customer!\n"
     ]
    }
   ],
   "source": [
    "# -- continue --\n",
    "# Terminates the current iteration and moves onto the next one.\n",
    "\n",
    "cars = [\"ok\", \"ok\", \"ok\", \"faulty\", \"ok\", \"ok\"]\n",
    "\n",
    "for status in cars:\n",
    "    if status == \"faulty\":\n",
    "        print(\"Found faulty car, skipping...\")\n",
    "        continue\n",
    "\n",
    "    print(f\"This car is {status}.\")\n",
    "    print(\"Shipping new car to customer!\")"
   ]
  },
  {
   "cell_type": "code",
   "execution_count": 25,
   "metadata": {},
   "outputs": [
    {
     "name": "stdout",
     "output_type": "stream",
     "text": [
      "This car is ok.\n",
      "This car is ok.\n",
      "This car is ok.\n",
      "Stopping the production line!\n"
     ]
    }
   ],
   "source": [
    "# naive approach\n",
    "\n",
    "cars = [\"ok\", \"ok\", \"ok\", \"faulty\", \"ok\", \"ok\"]\n",
    "all_successful = True\n",
    "\n",
    "for status in cars:\n",
    "    if status == \"faulty\":\n",
    "        print(\"Stopping the production line!\")\n",
    "        all_successful = False\n",
    "        break\n",
    "    print(f\"This car is {status}.\")\n",
    "    \n",
    "if all_successful:\n",
    "    print('All cars built ok.')"
   ]
  },
  {
   "cell_type": "code",
   "execution_count": 26,
   "metadata": {},
   "outputs": [
    {
     "name": "stdout",
     "output_type": "stream",
     "text": [
      "This car is ok.\n",
      "This car is ok.\n",
      "This car is ok.\n",
      "This car is ok.\n",
      "This car is ok.\n",
      "This car is ok.\n",
      "All cars built successfully. No faulty cars!\n"
     ]
    }
   ],
   "source": [
    "# On loops, you can add an `else` clause. This only runs if the loop does not encounter a `break` or an error.\n",
    "# That means, if the loop completes successfully, the `else` part will run.\n",
    "\n",
    "cars = [\"ok\", \"ok\", \"ok\", \"ok\", \"ok\", \"ok\"]   # Remove the \"faulty\" and you'll see the `else` part starts running.\n",
    "\n",
    "for status in cars:\n",
    "    if status == \"faulty\":\n",
    "        print(\"Stopping the production line!\")\n",
    "        break\n",
    "\n",
    "    print(f\"This car is {status}.\")\n",
    "else:\n",
    "    print(\"All cars built successfully. No faulty cars!\")\n",
    "\n",
    "# Link: https://blog.tecladocode.com/python-snippet-1-more-uses-for-else/"
   ]
  },
  {
   "cell_type": "code",
   "execution_count": 27,
   "metadata": {},
   "outputs": [
    {
     "name": "stdout",
     "output_type": "stream",
     "text": [
      "0\n",
      "7\n",
      "14\n",
      "21\n",
      "28\n",
      "35\n",
      "42\n",
      "49\n",
      "56\n",
      "63\n",
      "70\n",
      "77\n"
     ]
    }
   ],
   "source": [
    "#challenge\n",
    "for i in range(0,100,7):\n",
    "    if (i > 0) and (i % 11 == 0):\n",
    "        print(i)\n",
    "        break\n",
    "    else:\n",
    "        print(i)\n",
    "\n",
    "#simplified version:\n",
    "#for i in range(0,100,7):\n",
    "#    print(i)\n",
    "#    if (i > 0) and (i % 11 == 0):\n",
    "#        break"
   ]
  },
  {
   "cell_type": "code",
   "execution_count": 28,
   "metadata": {},
   "outputs": [
    {
     "name": "stdout",
     "output_type": "stream",
     "text": [
      "1\n",
      "2\n",
      "4\n",
      "7\n",
      "8\n",
      "11\n",
      "13\n",
      "14\n",
      "16\n",
      "17\n",
      "19\n"
     ]
    }
   ],
   "source": [
    "#challenge\n",
    "for i in range(21):\n",
    "    if (i %3 == 0 or i%5==0):\n",
    "        continue\n",
    "    else:\n",
    "        print(i)"
   ]
  },
  {
   "cell_type": "code",
   "execution_count": 29,
   "metadata": {},
   "outputs": [
    {
     "name": "stdout",
     "output_type": "stream",
     "text": [
      "1\n",
      "2\n",
      "4\n",
      "7\n",
      "8\n",
      "11\n",
      "13\n",
      "14\n",
      "16\n",
      "17\n",
      "19\n"
     ]
    }
   ],
   "source": [
    "#without using coninue:\n",
    "for i in range(21):\n",
    "    if i % 3 != 0 and i % 5 != 0:\n",
    "        print(i)"
   ]
  },
  {
   "cell_type": "markdown",
   "metadata": {},
   "source": [
    "Python's else statement is pretty versatile and can be used with more than just if conditionals. You can also use else with for and while loops, and also as part of a try / except block.\n",
    "\n",
    "In the case of for loops, the else block executes if the main loop wasn't terminated by either a break statement, or an exception. For while loops, the else block runs when the loop condition evaluates to False at the start of a new iteration. If a break statement is encountered, or an exception occurs, the loop condition doesn't get checked again, so both of these cases prevent the else clause from running, just like with for loops.\n",
    "\n",
    "In the the case of try / except, the else block runs in the event that an exception wasn't encountered as part of the try block."
   ]
  },
  {
   "cell_type": "code",
   "execution_count": 30,
   "metadata": {},
   "outputs": [
    {
     "name": "stdout",
     "output_type": "stream",
     "text": [
      "Enter your age: fifty\n",
      "Please only enter numerical characters.\n"
     ]
    }
   ],
   "source": [
    "\"\"\"\n",
    "Convert the user input to an integer value and check the user's age is\n",
    "over 18 if the conversion is successful. Otherwise, print an error message.\n",
    "\"\"\"\n",
    "try:\n",
    "    age = int(input(\"Enter your age: \"))\n",
    "except:\n",
    "    print (\"Please only enter numerical characters.\")\n",
    "\n",
    "# The else block only runs if no exception gets raised\n",
    "else:\n",
    "    if age < 18:\n",
    "        print(\"Sorry, you're too young to watch this movie.\")\n",
    "    else:\n",
    "        print(\"Enjoy the movie!\")\n",
    "\n"
   ]
  },
  {
   "cell_type": "code",
   "execution_count": 31,
   "metadata": {
    "scrolled": true
   },
   "outputs": [
    {
     "name": "stdout",
     "output_type": "stream",
     "text": [
      "2 is prime\n",
      "3 is prime\n",
      "4 is not prime\n",
      "5 is prime\n",
      "6 is not prime\n",
      "7 is prime\n",
      "8 is not prime\n",
      "9 is not prime\n",
      "10 is not prime\n",
      "11 is prime\n",
      "12 is not prime\n",
      "13 is prime\n",
      "14 is not prime\n",
      "15 is not prime\n",
      "16 is not prime\n",
      "17 is prime\n",
      "18 is not prime\n",
      "19 is prime\n",
      "20 is not prime\n",
      "21 is not prime\n",
      "22 is not prime\n",
      "23 is prime\n",
      "24 is not prime\n",
      "25 is not prime\n",
      "26 is not prime\n",
      "27 is not prime\n",
      "28 is not prime\n",
      "29 is prime\n",
      "30 is not prime\n",
      "31 is prime\n",
      "32 is not prime\n",
      "33 is not prime\n",
      "34 is not prime\n",
      "35 is not prime\n",
      "36 is not prime\n",
      "37 is prime\n",
      "38 is not prime\n",
      "39 is not prime\n",
      "40 is not prime\n",
      "41 is prime\n",
      "42 is not prime\n",
      "43 is prime\n",
      "44 is not prime\n",
      "45 is not prime\n",
      "46 is not prime\n",
      "47 is prime\n",
      "48 is not prime\n",
      "49 is not prime\n"
     ]
    }
   ],
   "source": [
    "# Print whether or a not an integer is prime for all integers from 2 to 100\n",
    "for dividend in range(2,50):\n",
    "    divisor = 2\n",
    "\n",
    "    while dividend >= divisor ** 2:\n",
    "        result = dividend / divisor\n",
    "        if result.is_integer():\n",
    "            print(f\"{dividend} is not prime\")\n",
    "            # Break the while loop when a number is proven non-prime\n",
    "            break\n",
    "        divisor += 1\n",
    "\n",
    "    # The else block runs if no break was encountered in the while loop\n",
    "    else:\n",
    "        print(f\"{dividend} is prime\")"
   ]
  },
  {
   "cell_type": "code",
   "execution_count": 32,
   "metadata": {},
   "outputs": [
    {
     "name": "stdout",
     "output_type": "stream",
     "text": [
      "2 is a prime number.\n",
      "3 is a prime number.\n",
      "4 equals 2 * 2\n",
      "5 is a prime number.\n",
      "6 equals 2 * 3\n",
      "7 is a prime number.\n",
      "8 equals 2 * 4\n",
      "9 equals 3 * 3\n"
     ]
    }
   ],
   "source": [
    "#finding prime numbers - see whether n is divisible by any number other than 1 and itself.  \n",
    "\n",
    "for n in range(2, 10):\n",
    "    for x in range(2, n):   #could change n to sqrt(n)\n",
    "        if n % x == 0:  # if n is divisible by x, it means it's not a prime number.\n",
    "            print(f\"{n} equals {x} * {n//x}\")\n",
    "            break\n",
    "    else:  # if n was not divisible by any x, it means it is a prime number.\n",
    "        print(f\"{n} is a prime number.\")"
   ]
  },
  {
   "cell_type": "markdown",
   "metadata": {},
   "source": [
    "The variable name used for the item is completely up to the coder, so use your best judgment for choosing a name that makes sense and you will be able to understand when revisiting your code. This item name can then be referenced inside your loop, for example if you wanted to use <code>if</code> statements to perform checks."
   ]
  },
  {
   "cell_type": "markdown",
   "metadata": {},
   "source": [
    "<a id='examples'></a>\n",
    "## MORE EXAMPLES\n",
    "Iterating through a list"
   ]
  },
  {
   "cell_type": "code",
   "execution_count": 33,
   "metadata": {},
   "outputs": [
    {
     "name": "stdout",
     "output_type": "stream",
     "text": [
      "Odd number\n",
      "2\n",
      "Odd number\n",
      "4\n",
      "Odd number\n"
     ]
    }
   ],
   "source": [
    "list1 = [1,2,3,4,5]\n",
    "\n",
    "for num in list1:\n",
    "    if num % 2 == 0:\n",
    "        print(num)\n",
    "    else:\n",
    "        print('Odd number')"
   ]
  },
  {
   "cell_type": "markdown",
   "metadata": {},
   "source": [
    "Another common idea during a <code>for</code> loop is keeping some sort of running tally during multiple loops. For example, let's create a <code>for</code> loop that sums up the list:"
   ]
  },
  {
   "cell_type": "code",
   "execution_count": 34,
   "metadata": {},
   "outputs": [
    {
     "name": "stdout",
     "output_type": "stream",
     "text": [
      "15\n",
      "5\n"
     ]
    }
   ],
   "source": [
    "list1 = [1,2,3,4,5]\n",
    "# Start sum at zero\n",
    "list_sum = 0 \n",
    "no_loops = 0\n",
    "\n",
    "for num in list1:\n",
    "    list_sum = list_sum + num     # or list_sum += num\n",
    "    no_loops +=1    # tracks the number of loops\n",
    "\n",
    "print(list_sum)\n",
    "print(no_loops)"
   ]
  },
  {
   "cell_type": "markdown",
   "metadata": {},
   "source": [
    "We've used <code>for</code> loops with lists, how about with strings? Remember strings are a sequence so when we iterate through them we will be accessing each item in that string."
   ]
  },
  {
   "cell_type": "code",
   "execution_count": 35,
   "metadata": {
    "scrolled": true
   },
   "outputs": [
    {
     "name": "stdout",
     "output_type": "stream",
     "text": [
      "H\n",
      "e\n",
      "l\n",
      "l\n",
      "o\n"
     ]
    }
   ],
   "source": [
    "for letter in 'Hello':\n",
    "    print(letter)"
   ]
  },
  {
   "cell_type": "markdown",
   "metadata": {},
   "source": [
    "Let's now look at how a <code>for</code> loop can be used with a tuple:"
   ]
  },
  {
   "cell_type": "code",
   "execution_count": 36,
   "metadata": {},
   "outputs": [
    {
     "name": "stdout",
     "output_type": "stream",
     "text": [
      "1\n",
      "2\n",
      "3\n",
      "4\n",
      "5\n"
     ]
    }
   ],
   "source": [
    "tup = (1,2,3,4,5)\n",
    "\n",
    "for t in tup:\n",
    "    print(t)"
   ]
  },
  {
   "cell_type": "markdown",
   "metadata": {},
   "source": [
    "Tuples have a special quality when it comes to <code>for</code> loops. If you are iterating through a sequence that contains tuples, the item can actually be the tuple itself, this is an example of *tuple unpacking*. During the <code>for</code> loop we will be unpacking the tuple inside of a sequence and we can access the individual items inside that tuple!"
   ]
  },
  {
   "cell_type": "code",
   "execution_count": 37,
   "metadata": {},
   "outputs": [
    {
     "name": "stdout",
     "output_type": "stream",
     "text": [
      "(2, 4)\n",
      "(6, 8)\n",
      "(10, 12)\n"
     ]
    }
   ],
   "source": [
    "list2 = [(2,4),(6,8),(10,12)]\n",
    "\n",
    "for tup in list2:\n",
    "    print(tup)"
   ]
  },
  {
   "cell_type": "code",
   "execution_count": 38,
   "metadata": {},
   "outputs": [
    {
     "name": "stdout",
     "output_type": "stream",
     "text": [
      "2\n",
      "6\n",
      "10\n"
     ]
    }
   ],
   "source": [
    "# Now with unpacking!\n",
    "for (t1,t2) in list2:\n",
    "    print(t1)"
   ]
  },
  {
   "cell_type": "markdown",
   "metadata": {},
   "source": [
    "Cool! With tuples in a sequence we can access the items inside of them through unpacking! The reason this is important is because many objects will deliver their iterables through tuples. Let's start exploring iterating through Dictionaries to explore this further!"
   ]
  },
  {
   "cell_type": "code",
   "execution_count": 39,
   "metadata": {},
   "outputs": [
    {
     "name": "stdout",
     "output_type": "stream",
     "text": [
      "k1\n",
      "k2\n",
      "k3\n"
     ]
    }
   ],
   "source": [
    "d = {'k1':1,'k2':2,'k3':3}\n",
    "\n",
    "for item in d:\n",
    "    print(item)"
   ]
  },
  {
   "cell_type": "markdown",
   "metadata": {},
   "source": [
    "Notice how this produces only the keys. So how can we get the values? Or both the keys and the values? \n",
    "\n",
    "We're going to introduce three new Dictionary methods: **.keys()**, **.values()** and **.items()**\n",
    "\n",
    "In Python each of these methods return a *dictionary view object*. It supports operations like membership test and iteration, but its contents are not independent of the original dictionary – it is only a view. Let's see it in action:"
   ]
  },
  {
   "cell_type": "code",
   "execution_count": 40,
   "metadata": {},
   "outputs": [
    {
     "data": {
      "text/plain": [
       "dict_items([('k1', 1), ('k2', 2), ('k3', 3)])"
      ]
     },
     "execution_count": 40,
     "metadata": {},
     "output_type": "execute_result"
    }
   ],
   "source": [
    "# Create a dictionary view object\n",
    "d.items()"
   ]
  },
  {
   "cell_type": "markdown",
   "metadata": {},
   "source": [
    "Since the .items() method supports iteration, we can perform *dictionary unpacking* to separate keys and values just as we did in the previous examples."
   ]
  },
  {
   "cell_type": "code",
   "execution_count": 41,
   "metadata": {},
   "outputs": [
    {
     "name": "stdout",
     "output_type": "stream",
     "text": [
      "k1\n",
      "1\n",
      "k2\n",
      "2\n",
      "k3\n",
      "3\n"
     ]
    }
   ],
   "source": [
    "# Dictionary unpacking\n",
    "for k,v in d.items():\n",
    "    print(k)\n",
    "    print(v) "
   ]
  },
  {
   "cell_type": "markdown",
   "metadata": {},
   "source": [
    "If you want to obtain a true list of keys, values, or key/value tuples, you can *cast* the view as a list:"
   ]
  },
  {
   "cell_type": "code",
   "execution_count": 42,
   "metadata": {},
   "outputs": [
    {
     "name": "stdout",
     "output_type": "stream",
     "text": [
      "['k1', 'k2', 'k3']\n",
      "[1, 2, 3]\n"
     ]
    }
   ],
   "source": [
    "print(list(d.keys()))\n",
    "print(list(d.values()))"
   ]
  },
  {
   "cell_type": "markdown",
   "metadata": {},
   "source": [
    "Remember that dictionaries are unordered, and that keys and values come back in arbitrary order. You can obtain a sorted list using sorted():"
   ]
  },
  {
   "cell_type": "code",
   "execution_count": 43,
   "metadata": {},
   "outputs": [
    {
     "data": {
      "text/plain": [
       "[1, 2, 3]"
      ]
     },
     "execution_count": 43,
     "metadata": {},
     "output_type": "execute_result"
    }
   ],
   "source": [
    "sorted(d.values())"
   ]
  },
  {
   "cell_type": "code",
   "execution_count": 44,
   "metadata": {},
   "outputs": [
    {
     "name": "stdout",
     "output_type": "stream",
     "text": [
      "1 : 2 : 3 : 4 : 5?\n",
      "1 : 2 : 3 : 4 : 5?\n",
      "1 : 2 : 3 : 4 : 5?\n",
      "1 : 2 : 3 : 4 : 5?\n",
      "1 : 2 : 3 : 4 : 5?\n",
      "1 : 2 : 3 : 4 : 5?\n",
      "1 : 2 : 3 : 4 : 5?\n",
      "1 : 2 : 3 : 4 : 5?\n",
      "1 : 2 : 3 : 4 : 5?\n",
      "1 : 2 : 3 : 4 : 5?\n"
     ]
    }
   ],
   "source": [
    "for i in range(10):\n",
    "    print(1,2,3,4,5, sep=' : ', end='?\\n')"
   ]
  },
  {
   "cell_type": "code",
   "execution_count": 45,
   "metadata": {},
   "outputs": [
    {
     "name": "stdout",
     "output_type": "stream",
     "text": [
      "hello, michael!\n",
      "Welcome to the party\n",
      "hello, mas!\n",
      "Welcome to the party\n",
      "hello, john!\n",
      "Welcome to the party\n",
      "hello, benji!\n",
      "Welcome to the party\n",
      "hello, aidan!\n",
      "Welcome to the party\n"
     ]
    }
   ],
   "source": [
    "my_list = ['michael', 'mas', 'john', 'benji', 'aidan']\n",
    "for name in my_list:\n",
    "    print('hello,', name, end='!\\n')\n",
    "    print('Welcome to the party')"
   ]
  },
  {
   "cell_type": "code",
   "execution_count": 46,
   "metadata": {},
   "outputs": [
    {
     "name": "stdout",
     "output_type": "stream",
     "text": [
      "a\n",
      "b\n",
      "d\n",
      "e\n"
     ]
    }
   ],
   "source": [
    "my_string = 'abcdefg'\n",
    "for char in my_string:\n",
    "    if char == 'f':\n",
    "        break\n",
    "    elif char == 'c':\n",
    "        continue\n",
    "    print(char)"
   ]
  },
  {
   "cell_type": "code",
   "execution_count": 47,
   "metadata": {},
   "outputs": [
    {
     "name": "stdout",
     "output_type": "stream",
     "text": [
      "abcde\n",
      "abcde\n",
      "abcde\n",
      "abcde\n",
      "abcde\n",
      "abcde\n",
      "abcde\n"
     ]
    }
   ],
   "source": [
    "my_string = 'abcdefg'\n",
    "for char in my_string:\n",
    "    print(my_string[0:5])"
   ]
  },
  {
   "cell_type": "code",
   "execution_count": 48,
   "metadata": {},
   "outputs": [
    {
     "name": "stdout",
     "output_type": "stream",
     "text": [
      "c\n",
      "d\n",
      "e\n"
     ]
    }
   ],
   "source": [
    "my_range = range(2,5)\n",
    "my_string = 'abcdefg'\n",
    "\n",
    "for i in my_range:\n",
    "    print(my_string[i])"
   ]
  },
  {
   "cell_type": "code",
   "execution_count": 49,
   "metadata": {
    "scrolled": true
   },
   "outputs": [
    {
     "name": "stdout",
     "output_type": "stream",
     "text": [
      "[0, 1, 4, 9, 16]\n"
     ]
    }
   ],
   "source": [
    "squares = []\n",
    "\n",
    "for num in range(5):\n",
    "    sqr = num**2\n",
    "    squares.append(sqr)\n",
    "\n",
    "print(squares)"
   ]
  },
  {
   "cell_type": "code",
   "execution_count": 50,
   "metadata": {},
   "outputs": [
    {
     "name": "stdout",
     "output_type": "stream",
     "text": [
      "These names are on the list: ['John', 'Rick'].\n",
      "['peter', 'bob', 'jess'] are not on the list.\n"
     ]
    }
   ],
   "source": [
    "names = [\"peter\", 'John', 'bob', 'Rick', 'jess']\n",
    "listed_names = []\n",
    "non_listed_names = []\n",
    "\n",
    "for name in names:\n",
    "    if name in [\"John\", \"Rick\"]:\n",
    "        listed_names.append(name)\n",
    "#both append and extend methods can be used.      \n",
    "    else:\n",
    "        non_listed_names.extend([name])\n",
    "\n",
    "#only way for this to work properly was to take the print commands out of loop to print them as a list rather\n",
    "#than individually. \n",
    "print(f'These names are on the list: {listed_names}.')\n",
    "print(f'{non_listed_names} are not on the list.')"
   ]
  },
  {
   "cell_type": "code",
   "execution_count": 51,
   "metadata": {},
   "outputs": [
    {
     "name": "stdout",
     "output_type": "stream",
     "text": [
      "[402, 984, 360, 408, 980, 544, 390, 984, 592, 236, 942, 386, 462, 418, 344, 236, 566, 978, 328, 162, 758, 918]\n"
     ]
    }
   ],
   "source": [
    "#Loop through and print out all even numbers from the numbers list in the same order they are received. \n",
    "#Don't print any numbers that come after 237 in the sequence.\n",
    "numbers = [\n",
    "    951, 402, 984, 651, 360, 69, 408, 319, 601, 485, 980, 507, 725, 547, 544,\n",
    "    615, 83, 165, 141, 501, 263, 617, 865, 575, 219, 390, 984, 592, 236, 105, 942, 941,\n",
    "    386, 462, 47, 418, 907, 344, 236, 375, 823, 566, 597, 978, 328, 615, 953, 345,\n",
    "    399, 162, 758, 219, 918, 237, 412, 566, 826, 248, 866, 950, 626, 949, 687, 217,\n",
    "    815, 67, 104, 58, 512, 24, 892, 894, 767, 553, 81, 379, 843, 831, 445, 742, 717,\n",
    "    958, 609, 842, 451, 688, 753, 854, 685, 93, 857, 440, 380, 126, 721, 328, 753, 470,\n",
    "    743, 527\n",
    "]\n",
    "\n",
    "numb = []\n",
    "# your code goes here\n",
    "for number in numbers:\n",
    "    if number == 237:\n",
    "        break      #this tells the code to stop looping once the iteration reaches the number 237.\n",
    "\n",
    "    elif number % 2 == 1:\n",
    "        continue    #this tells the code to ignore any odd number after checking it is not 237.\n",
    "    \n",
    "    else:\n",
    "        numb.append(number)\n",
    "    #print(numb)    #this would result in each number being printed individually via each iteration\n",
    "print(numb)        #putting this outside the for loop will print the numbers as a list"
   ]
  },
  {
   "cell_type": "code",
   "execution_count": 52,
   "metadata": {},
   "outputs": [
    {
     "name": "stdout",
     "output_type": "stream",
     "text": [
      "[402, 984, 360, 408, 980, 544, 390, 984, 592, 236, 942, 386, 462, 418, 344, 236, 566, 978, 328, 162, 758, 918]\n"
     ]
    }
   ],
   "source": [
    "numbers = [\n",
    "    951, 402, 984, 651, 360, 69, 408, 319, 601, 485, 980, 507, 725, 547, 544,\n",
    "    615, 83, 165, 141, 501, 263, 617, 865, 575, 219, 390, 984, 592, 236, 105, 942, 941,\n",
    "    386, 462, 47, 418, 907, 344, 236, 375, 823, 566, 597, 978, 328, 615, 953, 345,\n",
    "    399, 162, 758, 219, 918, 237, 412, 566, 826, 248, 866, 950, 626, 949, 687, 217,\n",
    "    815, 67, 104, 58, 512, 24, 892, 894, 767, 553, 81, 379, 843, 831, 445, 742, 717,\n",
    "    958, 609, 842, 451, 688, 753, 854, 685, 93, 857, 440, 380, 126, 721, 328, 753, 470,\n",
    "    743, 527\n",
    "]\n",
    "\n",
    "# your code goes here\n",
    "even_numbers=[]\n",
    "\n",
    "for i in numbers:\n",
    "    if (i % 2 ==0):\n",
    "        even_numbers.append(i)\n",
    "    if i == 237:                  #elif will produce the same result\n",
    "        break\n",
    "print(even_numbers)\n",
    "#for j in even_numbers:\n",
    " #   print(j)"
   ]
  }
 ],
 "metadata": {
  "kernelspec": {
   "display_name": "Python 3",
   "language": "python",
   "name": "python3"
  },
  "language_info": {
   "codemirror_mode": {
    "name": "ipython",
    "version": 3
   },
   "file_extension": ".py",
   "mimetype": "text/x-python",
   "name": "python",
   "nbconvert_exporter": "python",
   "pygments_lexer": "ipython3",
   "version": "3.7.6"
  }
 },
 "nbformat": 4,
 "nbformat_minor": 2
}
