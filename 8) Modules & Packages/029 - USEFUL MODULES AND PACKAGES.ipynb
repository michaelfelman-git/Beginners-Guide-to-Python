{
 "cells": [
  {
   "cell_type": "code",
   "execution_count": 1,
   "metadata": {},
   "outputs": [],
   "source": [
    "import pyjokes"
   ]
  },
  {
   "cell_type": "code",
   "execution_count": 2,
   "metadata": {},
   "outputs": [
    {
     "data": {
      "text/plain": [
       "\"There are II types of people: Those who understand Roman Numerals and those who don't.\""
      ]
     },
     "execution_count": 2,
     "metadata": {},
     "output_type": "execute_result"
    }
   ],
   "source": [
    "pyjokes.get_joke()"
   ]
  },
  {
   "cell_type": "markdown",
   "metadata": {},
   "source": [
    "<h1 align=\"center\">MODULES AND PACKAGES</h1>\n",
    "<h2 align=\"left\"><ins>Lesson Guide</ins></h2>\n",
    "\n",
    "- [**Translator**](#translator)\n",
    "- [**statistics**](#statistics)\n",
    "- [**math**](#math)\n",
    "- [**random**](#random)\n",
    "- [**itertools**](#itertools)\n",
    "- [**more_itertools**](#moretools)\n",
    "- [**Collections**](#collections)\n",
    "- [**Timing your code**](#timing)\n",
    "- [**pytime**](#pytime)\n",
    "- [**datetime**](#datetime)\n",
    "- [**pytz**](#pytz)\n",
    "- [**Time Module**](#time)\n",
    "- [**Python Debugger (pdb)**](#debugger)\n",
    "- [**webbrowser Module**](#web)\n",
    "- [**turtle**](#turtle)\n",
    "- [**StringIO Objects and the io Module**](#io)\n",
    "- [**sys**](#sys)\n",
    "\n",
    "### Documentation\n",
    "https://docs.python.org/3/py-modindex.html <br>\n",
    "https://pypi.org/ "
   ]
  },
  {
   "cell_type": "markdown",
   "metadata": {},
   "source": [
    "<a id='translator'></a>\n",
    "## Translator\n",
    "\n",
    "https://pypi.org/project/translate/<br>\n",
    "https://translate-python.readthedocs.io/en/latest/\n",
    "\n",
    "Need to run: pip install translate"
   ]
  },
  {
   "cell_type": "code",
   "execution_count": 3,
   "metadata": {},
   "outputs": [],
   "source": [
    "with open('exercise_io.txt', 'w') as file:   # note that 'w' implies overwriting \n",
    "    file.write('Hello my name is michael.\\n')\n",
    "    file.write('I am 38 years old.\\n')"
   ]
  },
  {
   "cell_type": "code",
   "execution_count": 4,
   "metadata": {},
   "outputs": [],
   "source": [
    "from translate import Translator"
   ]
  },
  {
   "cell_type": "code",
   "execution_count": 5,
   "metadata": {},
   "outputs": [
    {
     "name": "stdout",
     "output_type": "stream",
     "text": [
      "これはペンです。\n"
     ]
    }
   ],
   "source": [
    "translator = Translator(to_lang=\"ja\")\n",
    "translation = translator.translate(\"This is a pen.\")\n",
    "print(translation)"
   ]
  },
  {
   "cell_type": "code",
   "execution_count": 6,
   "metadata": {},
   "outputs": [
    {
     "name": "stdout",
     "output_type": "stream",
     "text": [
      "こんにちは、私の名前はマイケルです。\n"
     ]
    },
    {
     "ename": "UnicodeEncodeError",
     "evalue": "'charmap' codec can't encode characters in position 0-17: character maps to <undefined>",
     "output_type": "error",
     "traceback": [
      "\u001b[1;31m---------------------------------------------------------------------------\u001b[0m",
      "\u001b[1;31mUnicodeEncodeError\u001b[0m                        Traceback (most recent call last)",
      "\u001b[1;32m<ipython-input-6-059484ce3358>\u001b[0m in \u001b[0;36m<module>\u001b[1;34m\u001b[0m\n\u001b[0;32m      7\u001b[0m         \u001b[0mprint\u001b[0m\u001b[1;33m(\u001b[0m\u001b[0mtranslation\u001b[0m\u001b[1;33m)\u001b[0m\u001b[1;33m\u001b[0m\u001b[1;33m\u001b[0m\u001b[0m\n\u001b[0;32m      8\u001b[0m         \u001b[1;32mwith\u001b[0m \u001b[0mopen\u001b[0m\u001b[1;33m(\u001b[0m\u001b[1;34m'exercise_to_jap_io.txt'\u001b[0m\u001b[1;33m,\u001b[0m\u001b[1;34m'w'\u001b[0m\u001b[1;33m)\u001b[0m \u001b[1;32mas\u001b[0m \u001b[0mmy_file\u001b[0m\u001b[1;33m:\u001b[0m\u001b[1;33m\u001b[0m\u001b[1;33m\u001b[0m\u001b[0m\n\u001b[1;32m----> 9\u001b[1;33m             \u001b[0mmy_file\u001b[0m\u001b[1;33m.\u001b[0m\u001b[0mwrite\u001b[0m\u001b[1;33m(\u001b[0m\u001b[0mtranslation\u001b[0m\u001b[1;33m)\u001b[0m\u001b[1;33m\u001b[0m\u001b[1;33m\u001b[0m\u001b[0m\n\u001b[0m",
      "\u001b[1;32m~\\anaconda3\\lib\\encodings\\cp1252.py\u001b[0m in \u001b[0;36mencode\u001b[1;34m(self, input, final)\u001b[0m\n\u001b[0;32m     17\u001b[0m \u001b[1;32mclass\u001b[0m \u001b[0mIncrementalEncoder\u001b[0m\u001b[1;33m(\u001b[0m\u001b[0mcodecs\u001b[0m\u001b[1;33m.\u001b[0m\u001b[0mIncrementalEncoder\u001b[0m\u001b[1;33m)\u001b[0m\u001b[1;33m:\u001b[0m\u001b[1;33m\u001b[0m\u001b[1;33m\u001b[0m\u001b[0m\n\u001b[0;32m     18\u001b[0m     \u001b[1;32mdef\u001b[0m \u001b[0mencode\u001b[0m\u001b[1;33m(\u001b[0m\u001b[0mself\u001b[0m\u001b[1;33m,\u001b[0m \u001b[0minput\u001b[0m\u001b[1;33m,\u001b[0m \u001b[0mfinal\u001b[0m\u001b[1;33m=\u001b[0m\u001b[1;32mFalse\u001b[0m\u001b[1;33m)\u001b[0m\u001b[1;33m:\u001b[0m\u001b[1;33m\u001b[0m\u001b[1;33m\u001b[0m\u001b[0m\n\u001b[1;32m---> 19\u001b[1;33m         \u001b[1;32mreturn\u001b[0m \u001b[0mcodecs\u001b[0m\u001b[1;33m.\u001b[0m\u001b[0mcharmap_encode\u001b[0m\u001b[1;33m(\u001b[0m\u001b[0minput\u001b[0m\u001b[1;33m,\u001b[0m\u001b[0mself\u001b[0m\u001b[1;33m.\u001b[0m\u001b[0merrors\u001b[0m\u001b[1;33m,\u001b[0m\u001b[0mencoding_table\u001b[0m\u001b[1;33m)\u001b[0m\u001b[1;33m[\u001b[0m\u001b[1;36m0\u001b[0m\u001b[1;33m]\u001b[0m\u001b[1;33m\u001b[0m\u001b[1;33m\u001b[0m\u001b[0m\n\u001b[0m\u001b[0;32m     20\u001b[0m \u001b[1;33m\u001b[0m\u001b[0m\n\u001b[0;32m     21\u001b[0m \u001b[1;32mclass\u001b[0m \u001b[0mIncrementalDecoder\u001b[0m\u001b[1;33m(\u001b[0m\u001b[0mcodecs\u001b[0m\u001b[1;33m.\u001b[0m\u001b[0mIncrementalDecoder\u001b[0m\u001b[1;33m)\u001b[0m\u001b[1;33m:\u001b[0m\u001b[1;33m\u001b[0m\u001b[1;33m\u001b[0m\u001b[0m\n",
      "\u001b[1;31mUnicodeEncodeError\u001b[0m: 'charmap' codec can't encode characters in position 0-17: character maps to <undefined>"
     ]
    }
   ],
   "source": [
    "with open('exercise_io.txt', 'r') as file:\n",
    "    contents = file.readlines()\n",
    "    translator = Translator(to_lang=\"ja\")\n",
    "    \n",
    "    for line in contents:\n",
    "        translation = translator.translate(line)\n",
    "        print(translation)\n",
    "        with open('exercise_to_jap_io.txt','w') as my_file:\n",
    "            my_file.write(translation)"
   ]
  },
  {
   "cell_type": "code",
   "execution_count": 7,
   "metadata": {},
   "outputs": [
    {
     "name": "stdout",
     "output_type": "stream",
     "text": [
      "こんにちは、私の名前はマイケルです。\n",
      "私は38歳です。\n"
     ]
    }
   ],
   "source": [
    "with open('exercise_io.txt', 'r') as file:\n",
    "    contents = file.readlines()\n",
    "    translator = Translator(to_lang=\"ja\")\n",
    "    \n",
    "    for line in contents:\n",
    "        translation = translator.translate(line)\n",
    "        print(translation)\n",
    "        with open('exercise_to_jap_io.txt','a',encoding='utf-8') as my_file:\n",
    "            my_file.write('\\n')\n",
    "            my_file.write(translation)      "
   ]
  },
  {
   "cell_type": "markdown",
   "metadata": {},
   "source": [
    "<a id='statistics'></a>\n",
    "## Statistics\n",
    "Check the [documentation](https://docs.python.org/3.8/library/statistics.html) for a full list of the mathematical and statistical methods that are available in this module."
   ]
  },
  {
   "cell_type": "markdown",
   "metadata": {},
   "source": [
    "<a id='math'></a>\n",
    "## math"
   ]
  },
  {
   "cell_type": "code",
   "execution_count": 8,
   "metadata": {},
   "outputs": [
    {
     "name": "stdout",
     "output_type": "stream",
     "text": [
      "['__doc__', '__loader__', '__name__', '__package__', '__spec__', 'acos', 'acosh', 'asin', 'asinh', 'atan', 'atan2', 'atanh', 'ceil', 'copysign', 'cos', 'cosh', 'degrees', 'e', 'erf', 'erfc', 'exp', 'expm1', 'fabs', 'factorial', 'floor', 'fmod', 'frexp', 'fsum', 'gamma', 'gcd', 'hypot', 'inf', 'isclose', 'isfinite', 'isinf', 'isnan', 'ldexp', 'lgamma', 'log', 'log10', 'log1p', 'log2', 'modf', 'nan', 'pi', 'pow', 'radians', 'remainder', 'sin', 'sinh', 'sqrt', 'tan', 'tanh', 'tau', 'trunc']\n"
     ]
    }
   ],
   "source": [
    "import math\n",
    "\n",
    "print(dir(math))"
   ]
  },
  {
   "cell_type": "code",
   "execution_count": 9,
   "metadata": {},
   "outputs": [
    {
     "data": {
      "text/plain": [
       "3.141592653589793"
      ]
     },
     "execution_count": 9,
     "metadata": {},
     "output_type": "execute_result"
    }
   ],
   "source": [
    "math.pi"
   ]
  },
  {
   "cell_type": "markdown",
   "metadata": {},
   "source": [
    "<a id='random'></a>\n",
    "## random\n",
    "\n",
    "https://docs.python.org/3/library/random.html"
   ]
  },
  {
   "cell_type": "code",
   "execution_count": 10,
   "metadata": {},
   "outputs": [
    {
     "name": "stdout",
     "output_type": "stream",
     "text": [
      "['BPF', 'LOG4', 'NV_MAGICCONST', 'RECIP_BPF', 'Random', 'SG_MAGICCONST', 'SystemRandom', 'TWOPI', '_BuiltinMethodType', '_MethodType', '_Sequence', '_Set', '__all__', '__builtins__', '__cached__', '__doc__', '__file__', '__loader__', '__name__', '__package__', '__spec__', '_acos', '_bisect', '_ceil', '_cos', '_e', '_exp', '_inst', '_itertools', '_log', '_os', '_pi', '_random', '_sha512', '_sin', '_sqrt', '_test', '_test_generator', '_urandom', '_warn', 'betavariate', 'choice', 'choices', 'expovariate', 'gammavariate', 'gauss', 'getrandbits', 'getstate', 'lognormvariate', 'normalvariate', 'paretovariate', 'randint', 'random', 'randrange', 'sample', 'seed', 'setstate', 'shuffle', 'triangular', 'uniform', 'vonmisesvariate', 'weibullvariate']\n"
     ]
    }
   ],
   "source": [
    "import random\n",
    "print(dir(random))"
   ]
  },
  {
   "cell_type": "code",
   "execution_count": 11,
   "metadata": {},
   "outputs": [
    {
     "name": "stdout",
     "output_type": "stream",
     "text": [
      "62\n",
      "0.24694506069115763\n",
      "870\n"
     ]
    }
   ],
   "source": [
    "import random\n",
    "\n",
    "print(random.randint(2, 100))\n",
    "print(random.random())\n",
    "print(random.randrange(1,1000))"
   ]
  },
  {
   "cell_type": "code",
   "execution_count": 12,
   "metadata": {},
   "outputs": [
    {
     "name": "stdout",
     "output_type": "stream",
     "text": [
      "10\n",
      "['10', 'jack', 'queen', 'king', 'ace']\n",
      "['queen', 'king', '10', 'ace', 'jack']\n"
     ]
    }
   ],
   "source": [
    "deck = ['10', 'jack', 'queen', 'king', 'ace']\n",
    "print(random.choice(deck))\n",
    "\n",
    "print(deck)\n",
    "random.shuffle(deck)\n",
    "print(deck)\n",
    "#print(random.shuffle(deck))"
   ]
  },
  {
   "cell_type": "code",
   "execution_count": 13,
   "metadata": {},
   "outputs": [
    {
     "name": "stdout",
     "output_type": "stream",
     "text": [
      "10\n"
     ]
    }
   ],
   "source": [
    "deck = ['10', 'jack', 'queen', 'king', 'ace']\n",
    "random_choice = random.choice(deck)\n",
    "print(random_choice)"
   ]
  },
  {
   "cell_type": "markdown",
   "metadata": {},
   "source": [
    "<a id='itertools'></a>\n",
    "## Itertools\n",
    "\n",
    "https://docs.python.org/3/library/itertools.html"
   ]
  },
  {
   "cell_type": "code",
   "execution_count": 14,
   "metadata": {},
   "outputs": [
    {
     "name": "stdout",
     "output_type": "stream",
     "text": [
      "['__doc__', '__loader__', '__name__', '__package__', '__spec__', '_grouper', '_tee', '_tee_dataobject', 'accumulate', 'chain', 'combinations', 'combinations_with_replacement', 'compress', 'count', 'cycle', 'dropwhile', 'filterfalse', 'groupby', 'islice', 'permutations', 'product', 'repeat', 'starmap', 'takewhile', 'tee', 'zip_longest']\n"
     ]
    }
   ],
   "source": [
    "import itertools\n",
    "print(dir(itertools))"
   ]
  },
  {
   "cell_type": "markdown",
   "metadata": {},
   "source": [
    "### <ins>groupby</ins>"
   ]
  },
  {
   "cell_type": "code",
   "execution_count": 15,
   "metadata": {},
   "outputs": [
    {
     "name": "stdout",
     "output_type": "stream",
     "text": [
      "dog <itertools._grouper object at 0x000002660B3BCB08>\n",
      "horse <itertools._grouper object at 0x000002660B3BCA88>\n",
      "dog <itertools._grouper object at 0x000002660B3BCB08>\n"
     ]
    }
   ],
   "source": [
    "import itertools\n",
    "\n",
    "# Make our list\n",
    "animals = ['dog', 'dog', 'horse', 'horse', 'horse', 'dog']\n",
    "\n",
    "# We are using groupby, but have to tell Python it came from itertools.\n",
    "for key, group in itertools.groupby(animals):\n",
    "  # Key - the name of the group. Group - the items in it.\n",
    "  print(key, group)"
   ]
  },
  {
   "cell_type": "code",
   "execution_count": 16,
   "metadata": {},
   "outputs": [
    {
     "name": "stdout",
     "output_type": "stream",
     "text": [
      "dog ['dog', 'dog']\n",
      "horse ['horse', 'horse', 'horse']\n",
      "dog ['dog']\n"
     ]
    }
   ],
   "source": [
    "import itertools\n",
    "\n",
    "animals = ['dog', 'dog', 'horse', 'horse', 'horse', 'dog']\n",
    "\n",
    "for key, group in itertools.groupby(animals):\n",
    "    print(key, list(group))"
   ]
  },
  {
   "cell_type": "code",
   "execution_count": 17,
   "metadata": {},
   "outputs": [
    {
     "name": "stdout",
     "output_type": "stream",
     "text": [
      "Now sorted, the list is: ['dog', 'dog', 'dog', 'horse', 'horse', 'horse'] \n",
      "\n",
      "dog ['dog', 'dog', 'dog']\n",
      "horse ['horse', 'horse', 'horse']\n"
     ]
    }
   ],
   "source": [
    "import itertools\n",
    "\n",
    "animals = ['dog', 'dog', 'horse', 'horse', 'horse', 'dog']\n",
    "sorted_animals = sorted(animals)\n",
    "print(\"Now sorted, the list is:\", sorted_animals, \"\\n\")\n",
    "\n",
    "for key, group in itertools.groupby(sorted_animals):\n",
    "    print(key, list(group))"
   ]
  },
  {
   "cell_type": "markdown",
   "metadata": {},
   "source": [
    "### <ins>chain</ins>"
   ]
  },
  {
   "cell_type": "code",
   "execution_count": 18,
   "metadata": {},
   "outputs": [
    {
     "name": "stdout",
     "output_type": "stream",
     "text": [
      "['pizza', 'tacos', 'sushi', 0, 1, 2, 3, 'red', 'green']\n"
     ]
    }
   ],
   "source": [
    "import itertools\n",
    "\n",
    "food = ['pizza', 'tacos', 'sushi']\n",
    "numbers = list(range(4))\n",
    "colors = ['red', 'green']\n",
    "\n",
    "chained_list = list(itertools.chain(food, numbers, colors))\n",
    "print(chained_list)"
   ]
  },
  {
   "cell_type": "code",
   "execution_count": 19,
   "metadata": {},
   "outputs": [
    {
     "name": "stdout",
     "output_type": "stream",
     "text": [
      "['blue', 'red', 'yellow', ('sport', 1), ('camp', 2), ('family', 3)]\n"
     ]
    }
   ],
   "source": [
    "colours = ['blue', 'red', 'yellow']\n",
    "dictionary = {'sport':1, 'camp':2, 'family':3}\n",
    "\n",
    "chained_list = list(itertools.chain(colours, dictionary.items()))\n",
    "print(chained_list)"
   ]
  },
  {
   "cell_type": "code",
   "execution_count": 20,
   "metadata": {},
   "outputs": [
    {
     "name": "stdout",
     "output_type": "stream",
     "text": [
      "['blue', 'red', 'yellow', 'sport', 'camp', 'family']\n"
     ]
    }
   ],
   "source": [
    "colours = ['blue', 'red', 'yellow']\n",
    "dictionary = {'sport':1, 'camp':2, 'family':3}\n",
    "\n",
    "chained_list = list(itertools.chain(colours, dictionary))\n",
    "print(chained_list)"
   ]
  },
  {
   "cell_type": "code",
   "execution_count": 21,
   "metadata": {},
   "outputs": [
    {
     "name": "stdout",
     "output_type": "stream",
     "text": [
      "[2, 5, 10, 17, 28, 41]\n"
     ]
    }
   ],
   "source": [
    "primes = [2, 3, 5, 7, 11, 13]\n",
    "\n",
    "results = list(itertools.accumulate(primes))\n",
    "print(results)"
   ]
  },
  {
   "cell_type": "code",
   "execution_count": 22,
   "metadata": {},
   "outputs": [
    {
     "name": "stdout",
     "output_type": "stream",
     "text": [
      "['apple', 'orange', 'mango', 'steak', 'bbq', 'ham']\n"
     ]
    }
   ],
   "source": [
    "# method 1: using for loops:\n",
    "list_of_list = [[\"apple\", \"orange\",\"mango\"], [\"steak\", \"bbq\", \"ham\"]]\n",
    "new_list = []\n",
    "for name in list_of_list:\n",
    "    for i in name:\n",
    "        new_list.append(i)\n",
    "\n",
    "print(new_list)"
   ]
  },
  {
   "cell_type": "code",
   "execution_count": 23,
   "metadata": {},
   "outputs": [
    {
     "data": {
      "text/plain": [
       "['apple', 'orange', 'mango', 'steak', 'bbq', 'ham']"
      ]
     },
     "execution_count": 23,
     "metadata": {},
     "output_type": "execute_result"
    }
   ],
   "source": [
    "# method 2: using itertools\n",
    "from itertools import chain\n",
    "\n",
    "list(chain.from_iterable(list_of_list))"
   ]
  },
  {
   "cell_type": "code",
   "execution_count": 24,
   "metadata": {},
   "outputs": [
    {
     "name": "stdout",
     "output_type": "stream",
     "text": [
      "<itertools.chain object at 0x000002660B3CA388>\n"
     ]
    }
   ],
   "source": [
    "import itertools\n",
    "\n",
    "list1 = [1,2,3,'a','b','c']\n",
    "list2 = [100,101,102, 'X', 'Y']\n",
    "\n",
    "print(itertools.chain(list1, list2))"
   ]
  },
  {
   "cell_type": "code",
   "execution_count": 25,
   "metadata": {},
   "outputs": [
    {
     "name": "stdout",
     "output_type": "stream",
     "text": [
      "1\n",
      "2\n",
      "3\n",
      "a\n",
      "b\n",
      "c\n",
      "100\n",
      "101\n",
      "102\n",
      "X\n",
      "Y\n"
     ]
    }
   ],
   "source": [
    "for i in itertools.chain(list1,list2):\n",
    "    print(i)"
   ]
  },
  {
   "cell_type": "code",
   "execution_count": 26,
   "metadata": {},
   "outputs": [
    {
     "name": "stdout",
     "output_type": "stream",
     "text": [
      "<itertools.chain object at 0x000002660B3C5908>\n",
      "[1, 2, 3, 'a', 'b', 'c', 100, 101, 102, 'X', 'Y']\n"
     ]
    }
   ],
   "source": [
    "from itertools import *\n",
    "\n",
    "list1 = [1,2,3,'a','b','c']\n",
    "list2 = [100,101,102, 'X', 'Y']\n",
    "\n",
    "print(chain(list1, list2))\n",
    "print(list(chain(list1,list2)))"
   ]
  },
  {
   "cell_type": "code",
   "execution_count": 27,
   "metadata": {},
   "outputs": [
    {
     "name": "stdout",
     "output_type": "stream",
     "text": [
      "1\n",
      "2\n",
      "3\n",
      "a\n",
      "b\n",
      "c\n",
      "100\n",
      "101\n",
      "102\n",
      "X\n",
      "Y\n"
     ]
    }
   ],
   "source": [
    "for i in chain(list1,list2):\n",
    "    print(i)"
   ]
  },
  {
   "cell_type": "markdown",
   "metadata": {},
   "source": [
    "### <ins>count</ins>"
   ]
  },
  {
   "cell_type": "code",
   "execution_count": 28,
   "metadata": {},
   "outputs": [
    {
     "name": "stdout",
     "output_type": "stream",
     "text": [
      "10\n",
      "12.5\n",
      "15.0\n",
      "17.5\n",
      "20.0\n",
      "22.5\n",
      "25.0\n",
      "27.5\n",
      "30.0\n",
      "32.5\n",
      "35.0\n",
      "37.5\n",
      "40.0\n",
      "42.5\n",
      "45.0\n",
      "47.5\n",
      "50.0\n"
     ]
    }
   ],
   "source": [
    "from itertools import *\n",
    "\n",
    "          # (start, step)\n",
    "for i in count(10, 2.5):\n",
    "    if i <= 50:\n",
    "        print(i)\n",
    "    else:\n",
    "        break"
   ]
  },
  {
   "cell_type": "markdown",
   "metadata": {},
   "source": [
    "### <ins>cycle</ins>"
   ]
  },
  {
   "cell_type": "code",
   "execution_count": 29,
   "metadata": {
    "scrolled": true
   },
   "outputs": [],
   "source": [
    "from itertools import *\n",
    "\n",
    "# a = range(11,16)\n",
    "\n",
    "# # this creates an infinite loop\n",
    "# for i in cycle(a):\n",
    "#     print(i)"
   ]
  },
  {
   "cell_type": "markdown",
   "metadata": {},
   "source": [
    "### <ins>filter</ins>"
   ]
  },
  {
   "cell_type": "code",
   "execution_count": 30,
   "metadata": {},
   "outputs": [
    {
     "data": {
      "text/plain": [
       "<itertools.filterfalse at 0x2660b3c13c8>"
      ]
     },
     "execution_count": 30,
     "metadata": {},
     "output_type": "execute_result"
    }
   ],
   "source": [
    "from itertools import *\n",
    "\n",
    "filterfalse(lambda x: x < 5, [1,2,3,4,5,6,7])"
   ]
  },
  {
   "cell_type": "code",
   "execution_count": 31,
   "metadata": {},
   "outputs": [
    {
     "data": {
      "text/plain": [
       "[5, 6, 7]"
      ]
     },
     "execution_count": 31,
     "metadata": {},
     "output_type": "execute_result"
    }
   ],
   "source": [
    "list(filterfalse(lambda x: x < 5, [1,2,3,4,5,6,7]))"
   ]
  },
  {
   "cell_type": "code",
   "execution_count": 32,
   "metadata": {},
   "outputs": [
    {
     "data": {
      "text/plain": [
       "[1, 2, 3, 4]"
      ]
     },
     "execution_count": 32,
     "metadata": {},
     "output_type": "execute_result"
    }
   ],
   "source": [
    "list(filter(lambda x: x < 5, [1,2,3,4,5,6,7]))"
   ]
  },
  {
   "cell_type": "markdown",
   "metadata": {},
   "source": [
    "### <ins>islice</ins>"
   ]
  },
  {
   "cell_type": "code",
   "execution_count": 33,
   "metadata": {},
   "outputs": [
    {
     "data": {
      "text/plain": [
       "range(0, 10)"
      ]
     },
     "execution_count": 33,
     "metadata": {},
     "output_type": "execute_result"
    }
   ],
   "source": [
    "range(10)"
   ]
  },
  {
   "cell_type": "code",
   "execution_count": 34,
   "metadata": {},
   "outputs": [
    {
     "data": {
      "text/plain": [
       "[0, 1, 2, 3, 4, 5, 6, 7, 8, 9]"
      ]
     },
     "execution_count": 34,
     "metadata": {},
     "output_type": "execute_result"
    }
   ],
   "source": [
    "list(range(10))"
   ]
  },
  {
   "cell_type": "code",
   "execution_count": 35,
   "metadata": {},
   "outputs": [
    {
     "data": {
      "text/plain": [
       "[2, 4, 6, 8]"
      ]
     },
     "execution_count": 35,
     "metadata": {},
     "output_type": "execute_result"
    }
   ],
   "source": [
    "list(range(10))[2:9:2]"
   ]
  },
  {
   "cell_type": "code",
   "execution_count": 36,
   "metadata": {},
   "outputs": [
    {
     "data": {
      "text/plain": [
       "[2, 4, 6, 8]"
      ]
     },
     "execution_count": 36,
     "metadata": {},
     "output_type": "execute_result"
    }
   ],
   "source": [
    "list(range(2,10,2))"
   ]
  },
  {
   "cell_type": "code",
   "execution_count": 37,
   "metadata": {},
   "outputs": [
    {
     "data": {
      "text/plain": [
       "<itertools.islice at 0x2660ab8a458>"
      ]
     },
     "execution_count": 37,
     "metadata": {},
     "output_type": "execute_result"
    }
   ],
   "source": [
    "islice(range(10), 2, 9, 2)"
   ]
  },
  {
   "cell_type": "code",
   "execution_count": 38,
   "metadata": {},
   "outputs": [
    {
     "data": {
      "text/plain": [
       "[2, 4, 6, 8]"
      ]
     },
     "execution_count": 38,
     "metadata": {},
     "output_type": "execute_result"
    }
   ],
   "source": [
    "list(islice(range(10), 2, 9, 2))"
   ]
  },
  {
   "cell_type": "code",
   "execution_count": 39,
   "metadata": {},
   "outputs": [
    {
     "name": "stdout",
     "output_type": "stream",
     "text": [
      "[7, 9, 11, 13, 15]\n"
     ]
    }
   ],
   "source": [
    "# Challenge\n",
    "\n",
    "from itertools import *\n",
    "\n",
    "r1 = range(1,21)\n",
    "\n",
    "my_list = list(islice(r1, 6, 15, 2))\n",
    "\n",
    "print(my_list)"
   ]
  },
  {
   "cell_type": "code",
   "execution_count": 40,
   "metadata": {},
   "outputs": [
    {
     "name": "stdout",
     "output_type": "stream",
     "text": [
      "[7, 8, 9, 10, 11, 12, 13, 14, 15]\n"
     ]
    }
   ],
   "source": [
    "# Challenge\n",
    "\n",
    "from itertools import *\n",
    "\n",
    "r1 = range(1,21)\n",
    "\n",
    "my_list = list(filter(lambda x: 6 < x < 16, r1))\n",
    "\n",
    "print(my_list)"
   ]
  },
  {
   "cell_type": "code",
   "execution_count": 41,
   "metadata": {},
   "outputs": [
    {
     "name": "stdout",
     "output_type": "stream",
     "text": [
      "[7, 9, 11, 13, 15]\n"
     ]
    }
   ],
   "source": [
    "# Challenge\n",
    "\n",
    "from itertools import *\n",
    "\n",
    "r1 = range(1,21)\n",
    "\n",
    "my_list = list(r1[6:16:2])\n",
    "\n",
    "print(my_list)"
   ]
  },
  {
   "cell_type": "markdown",
   "metadata": {},
   "source": [
    "<a id='moretools'></a>\n",
    "## more_itertools\n",
    "\n",
    "https://more-itertools.readthedocs.io/en/stable/index.html"
   ]
  },
  {
   "cell_type": "code",
   "execution_count": 42,
   "metadata": {
    "scrolled": true
   },
   "outputs": [
    {
     "name": "stdout",
     "output_type": "stream",
     "text": [
      "['SequenceView', '__builtins__', '__cached__', '__doc__', '__file__', '__loader__', '__name__', '__package__', '__path__', '__spec__', '__version__', 'adjacent', 'all_equal', 'always_iterable', 'always_reversible', 'bucket', 'chunked', 'circular_shifts', 'collapse', 'collate', 'consecutive_groups', 'consume', 'consumer', 'count_cycle', 'difference', 'distinct_combinations', 'distinct_permutations', 'distribute', 'divide', 'dotproduct', 'exactly_n', 'filter_except', 'first', 'first_true', 'flatten', 'groupby_transform', 'grouper', 'ichunked', 'ilen', 'interleave', 'interleave_longest', 'intersperse', 'islice_extended', 'iter_except', 'iterate', 'last', 'locate', 'lstrip', 'make_decorator', 'map_except', 'map_reduce', 'more', 'ncycles', 'nth', 'nth_combination', 'nth_or_last', 'numeric_range', 'one', 'only', 'padded', 'padnone', 'pairwise', 'partition', 'partitions', 'peekable', 'powerset', 'prepend', 'quantify', 'random_combination', 'random_combination_with_replacement', 'random_permutation', 'random_product', 'recipes', 'repeat_last', 'repeatfunc', 'replace', 'rlocate', 'roundrobin', 'rstrip', 'run_length', 'sample', 'seekable', 'set_partitions', 'side_effect', 'sliced', 'sort_together', 'split_after', 'split_at', 'split_before', 'split_into', 'split_when', 'spy', 'stagger', 'strip', 'substrings', 'substrings_indexes', 'tabulate', 'tail', 'take', 'time_limited', 'unique_everseen', 'unique_justseen', 'unique_to_each', 'unzip', 'windowed', 'with_iter', 'zip_offset']\n"
     ]
    }
   ],
   "source": [
    "import more_itertools\n",
    "print(dir(more_itertools))"
   ]
  },
  {
   "cell_type": "code",
   "execution_count": 43,
   "metadata": {},
   "outputs": [],
   "source": [
    "lis = [10, 20, [30, 40], [50, [60, 70]], [80,90]]"
   ]
  },
  {
   "cell_type": "code",
   "execution_count": 44,
   "metadata": {},
   "outputs": [
    {
     "name": "stdout",
     "output_type": "stream",
     "text": [
      "10 <class 'int'>\n",
      "20 <class 'int'>\n",
      "[30, 40] <class 'list'>\n",
      "[50, [60, 70]] <class 'list'>\n",
      "[80, 90] <class 'list'>\n"
     ]
    }
   ],
   "source": [
    "for i in lis:\n",
    "    print(i, type(i))"
   ]
  },
  {
   "cell_type": "code",
   "execution_count": 45,
   "metadata": {},
   "outputs": [
    {
     "name": "stdout",
     "output_type": "stream",
     "text": [
      "10\n",
      "20\n",
      "30\n",
      "40\n",
      "50\n",
      "60\n",
      "70\n",
      "80\n",
      "90\n"
     ]
    }
   ],
   "source": [
    "for i in lis:\n",
    "    if type(i) == list:\n",
    "        for j in i:\n",
    "            if type(j) == list:\n",
    "                for k in j:\n",
    "                    print(k)\n",
    "            else:\n",
    "                print(j)\n",
    "    else:\n",
    "        print(i)"
   ]
  },
  {
   "cell_type": "code",
   "execution_count": 46,
   "metadata": {},
   "outputs": [
    {
     "name": "stderr",
     "output_type": "stream",
     "text": [
      "C:\\Users\\Michael\\anaconda3\\lib\\site-packages\\ipykernel_launcher.py:1: DeprecationWarning: Using or importing the ABCs from 'collections' instead of from 'collections.abc' is deprecated since Python 3.3,and in 3.9 it will stop working\n",
      "  \"\"\"Entry point for launching an IPython kernel.\n"
     ]
    },
    {
     "data": {
      "text/plain": [
       "[10, 20, 30, 40, 50, 60, 70, 80, 90]"
      ]
     },
     "execution_count": 46,
     "metadata": {},
     "output_type": "execute_result"
    }
   ],
   "source": [
    "from collections import Iterable\n",
    "\n",
    "def flatten(lis):\n",
    "    for item in lis:\n",
    "        if isinstance(item, Iterable) and not isinstance(item, str):\n",
    "            for x in flatten(item):\n",
    "                yield x\n",
    "        else:\n",
    "            yield item\n",
    "\n",
    "lis = [10, 20, [30, 40], [50, [60, 70]], [80,90]]\n",
    "\n",
    "list(flatten(lis))"
   ]
  },
  {
   "cell_type": "code",
   "execution_count": 47,
   "metadata": {},
   "outputs": [
    {
     "name": "stdout",
     "output_type": "stream",
     "text": [
      "[10, 20, 30, 40, 50, 60, 70, 80, 90]\n"
     ]
    }
   ],
   "source": [
    "import more_itertools\n",
    "\n",
    "print(list(more_itertools.collapse(lis)))"
   ]
  },
  {
   "cell_type": "code",
   "execution_count": 48,
   "metadata": {},
   "outputs": [
    {
     "data": {
      "text/plain": [
       "[10, 20, 30, 40, 50, 60, 70, 80, 90]"
      ]
     },
     "execution_count": 48,
     "metadata": {},
     "output_type": "execute_result"
    }
   ],
   "source": [
    "list(flatten(lis))"
   ]
  },
  {
   "cell_type": "markdown",
   "metadata": {},
   "source": [
    "<a id='collections'></a>\n",
    "## Collections\n",
    "https://docs.python.org/3/library/collections.html#module-collections"
   ]
  },
  {
   "cell_type": "code",
   "execution_count": 49,
   "metadata": {},
   "outputs": [],
   "source": [
    "from collections import Counter, OrderedDict, defaultdict"
   ]
  },
  {
   "cell_type": "code",
   "execution_count": 50,
   "metadata": {},
   "outputs": [
    {
     "name": "stdout",
     "output_type": "stream",
     "text": [
      "Counter({1: 1, 2: 1, 3: 1, 4: 1, 5: 1})\n",
      "Counter({4: 5, 2: 3, 1: 2, 3: 2, 5: 1})\n"
     ]
    }
   ],
   "source": [
    "# Elements are stored as dictionary keys and their \n",
    "# counts are stored as dictionary values.\n",
    "\n",
    "li = [1,2,3,4,5]\n",
    "li2 = [1,1,2,2,2,3,3,4,4,4,4,4,5]\n",
    "\n",
    "print(Counter(li))\n",
    "print(Counter(li2))"
   ]
  },
  {
   "cell_type": "code",
   "execution_count": 51,
   "metadata": {},
   "outputs": [
    {
     "name": "stdout",
     "output_type": "stream",
     "text": [
      "Counter({'a': 5, 'b': 4, 'c': 3, 'd': 2, 'e': 1})\n",
      "[('a', 5), ('b', 4), ('c', 3)]\n",
      "['a', 'b', 'c', 'd', 'e']\n",
      "aaaaabbbbcccdde\n",
      "15\n",
      "5\n",
      "0\n",
      "7\n",
      "Counter()\n"
     ]
    }
   ],
   "source": [
    "c = Counter('abcdeabcdabcaba')  # count elements from a string\n",
    "print(c)\n",
    "\n",
    "print(c.most_common(n=3))       # three most common elements\n",
    "\n",
    "print(sorted(c))        # list all unique elements\n",
    "\n",
    "print(''.join(sorted(c.elements())))   # list elements with repetitions\n",
    "\n",
    "print(sum(c.values()))                 # total of all counts\n",
    "\n",
    "print(c['a'])    # since c is a dict, we index the same way\n",
    "\n",
    "del c['b']       # remove all 'b'\n",
    "print(c['b'])\n",
    "\n",
    "d = Counter('simsalabim')       # make another counter\n",
    "c.update(d)                     # add in the second counter\n",
    "print(c['a'])                   # now there are seven 'a'\n",
    "\n",
    "c.clear()                       # empty the counter\n",
    "print(c)"
   ]
  },
  {
   "cell_type": "code",
   "execution_count": 52,
   "metadata": {},
   "outputs": [
    {
     "name": "stdout",
     "output_type": "stream",
     "text": [
      "Counter({'a': 4, 'b': 2})\n"
     ]
    }
   ],
   "source": [
    "e = Counter(a=4, b=2) \n",
    "print(e)"
   ]
  },
  {
   "cell_type": "code",
   "execution_count": 53,
   "metadata": {},
   "outputs": [
    {
     "name": "stdout",
     "output_type": "stream",
     "text": [
      "1\n"
     ]
    },
    {
     "ename": "KeyError",
     "evalue": "'c'",
     "output_type": "error",
     "traceback": [
      "\u001b[1;31m---------------------------------------------------------------------------\u001b[0m",
      "\u001b[1;31mKeyError\u001b[0m                                  Traceback (most recent call last)",
      "\u001b[1;32m<ipython-input-53-23222f200fbc>\u001b[0m in \u001b[0;36m<module>\u001b[1;34m\u001b[0m\n\u001b[0;32m      1\u001b[0m \u001b[0mdictionary\u001b[0m \u001b[1;33m=\u001b[0m \u001b[1;33m{\u001b[0m\u001b[1;34m'a'\u001b[0m\u001b[1;33m:\u001b[0m\u001b[1;36m1\u001b[0m\u001b[1;33m,\u001b[0m \u001b[1;34m'b'\u001b[0m\u001b[1;33m:\u001b[0m\u001b[1;36m2\u001b[0m\u001b[1;33m}\u001b[0m\u001b[1;33m\u001b[0m\u001b[1;33m\u001b[0m\u001b[0m\n\u001b[0;32m      2\u001b[0m \u001b[0mprint\u001b[0m\u001b[1;33m(\u001b[0m\u001b[0mdictionary\u001b[0m\u001b[1;33m[\u001b[0m\u001b[1;34m'a'\u001b[0m\u001b[1;33m]\u001b[0m\u001b[1;33m)\u001b[0m\u001b[1;33m\u001b[0m\u001b[1;33m\u001b[0m\u001b[0m\n\u001b[1;32m----> 3\u001b[1;33m \u001b[0mprint\u001b[0m\u001b[1;33m(\u001b[0m\u001b[0mdictionary\u001b[0m\u001b[1;33m[\u001b[0m\u001b[1;34m'c'\u001b[0m\u001b[1;33m]\u001b[0m\u001b[1;33m)\u001b[0m   \u001b[1;31m# produces an error since the key dos not exist\u001b[0m\u001b[1;33m\u001b[0m\u001b[1;33m\u001b[0m\u001b[0m\n\u001b[0m",
      "\u001b[1;31mKeyError\u001b[0m: 'c'"
     ]
    }
   ],
   "source": [
    "dictionary = {'a':1, 'b':2}\n",
    "print(dictionary['a'])\n",
    "print(dictionary['c'])   # produces an error since the key dos not exist"
   ]
  },
  {
   "cell_type": "code",
   "execution_count": 54,
   "metadata": {},
   "outputs": [
    {
     "ename": "TypeError",
     "evalue": "first argument must be callable or None",
     "output_type": "error",
     "traceback": [
      "\u001b[1;31m---------------------------------------------------------------------------\u001b[0m",
      "\u001b[1;31mTypeError\u001b[0m                                 Traceback (most recent call last)",
      "\u001b[1;32m<ipython-input-54-c7c95da9ce0b>\u001b[0m in \u001b[0;36m<module>\u001b[1;34m\u001b[0m\n\u001b[1;32m----> 1\u001b[1;33m \u001b[0mdictionary\u001b[0m \u001b[1;33m=\u001b[0m \u001b[0mdefaultdict\u001b[0m\u001b[1;33m(\u001b[0m\u001b[1;33m{\u001b[0m\u001b[1;34m'a'\u001b[0m\u001b[1;33m:\u001b[0m\u001b[1;36m1\u001b[0m\u001b[1;33m,\u001b[0m \u001b[1;34m'b'\u001b[0m\u001b[1;33m:\u001b[0m\u001b[1;36m2\u001b[0m\u001b[1;33m}\u001b[0m\u001b[1;33m)\u001b[0m\u001b[1;33m\u001b[0m\u001b[1;33m\u001b[0m\u001b[0m\n\u001b[0m\u001b[0;32m      2\u001b[0m \u001b[0mprint\u001b[0m\u001b[1;33m(\u001b[0m\u001b[0mdictionary\u001b[0m\u001b[1;33m[\u001b[0m\u001b[1;34m'a'\u001b[0m\u001b[1;33m]\u001b[0m\u001b[1;33m)\u001b[0m\u001b[1;33m\u001b[0m\u001b[1;33m\u001b[0m\u001b[0m\n\u001b[0;32m      3\u001b[0m \u001b[0mprint\u001b[0m\u001b[1;33m(\u001b[0m\u001b[0mdictionary\u001b[0m\u001b[1;33m[\u001b[0m\u001b[1;34m'c'\u001b[0m\u001b[1;33m]\u001b[0m\u001b[1;33m)\u001b[0m\u001b[1;33m\u001b[0m\u001b[1;33m\u001b[0m\u001b[0m\n",
      "\u001b[1;31mTypeError\u001b[0m: first argument must be callable or None"
     ]
    }
   ],
   "source": [
    "dictionary = defaultdict({'a':1, 'b':2})\n",
    "print(dictionary['a'])\n",
    "print(dictionary['c']) "
   ]
  },
  {
   "cell_type": "code",
   "execution_count": 55,
   "metadata": {},
   "outputs": [
    {
     "name": "stdout",
     "output_type": "stream",
     "text": [
      "1\n",
      "0\n"
     ]
    }
   ],
   "source": [
    "dictionary = defaultdict(int,{'a':1, 'b':2})\n",
    "print(dictionary['a'])\n",
    "print(dictionary['c']) "
   ]
  },
  {
   "cell_type": "code",
   "execution_count": 56,
   "metadata": {},
   "outputs": [
    {
     "name": "stdout",
     "output_type": "stream",
     "text": [
      "1\n",
      "does not exist\n"
     ]
    }
   ],
   "source": [
    "dictionary = defaultdict(lambda: 'does not exist',{'a':1, 'b':2})\n",
    "# dictionary = defaultdict(lambda: 5,{'a':1, 'b':2})\n",
    "print(dictionary['a'])\n",
    "print(dictionary['c']) "
   ]
  },
  {
   "cell_type": "code",
   "execution_count": 57,
   "metadata": {},
   "outputs": [
    {
     "name": "stdout",
     "output_type": "stream",
     "text": [
      "True\n"
     ]
    }
   ],
   "source": [
    "d1 = OrderedDict()\n",
    "d1['a'] = 1\n",
    "d1['b'] = 2\n",
    "\n",
    "d2 = OrderedDict()\n",
    "d2['a'] = 1\n",
    "d2['b'] = 2\n",
    "\n",
    "print(d2==d1)"
   ]
  },
  {
   "cell_type": "code",
   "execution_count": 58,
   "metadata": {},
   "outputs": [
    {
     "name": "stdout",
     "output_type": "stream",
     "text": [
      "False\n"
     ]
    }
   ],
   "source": [
    "d1 = OrderedDict()\n",
    "d1['a'] = 1\n",
    "d1['b'] = 2\n",
    "\n",
    "d2 = OrderedDict()\n",
    "d2['b'] = 2     # the entry has now been flipped\n",
    "d2['a'] = 1\n",
    "\n",
    "print(d2==d1)"
   ]
  },
  {
   "cell_type": "code",
   "execution_count": 59,
   "metadata": {},
   "outputs": [
    {
     "name": "stdout",
     "output_type": "stream",
     "text": [
      "True\n"
     ]
    }
   ],
   "source": [
    "# with regular dictionaries, order is not important, \n",
    "# as long as they are the same key-value pairs\n",
    "d1 = dict()\n",
    "d1['a'] = 1\n",
    "d1['b'] = 2\n",
    "\n",
    "d2 = dict()\n",
    "d2['b'] = 2     # the entry has now been flipped\n",
    "d2['a'] = 1\n",
    "\n",
    "print(d2==d1)"
   ]
  },
  {
   "cell_type": "markdown",
   "metadata": {},
   "source": [
    "<a id='timing'></a>\n",
    "## Timing your code\n",
    "\n",
    "https://docs.python.org/3/library/timeit.html\n",
    "\n",
    "Sometimes it's important to know how long your code is taking to run, or at least know if a particular line of code is slowing down your entire project. Python has a built-in timing module to do this. \n",
    "\n",
    "This module provides a simple way to time small bits of Python code. It has both a Command-Line Interface as well as a callable one. It avoids a number of common traps for measuring execution times. "
   ]
  },
  {
   "cell_type": "code",
   "execution_count": 60,
   "metadata": {},
   "outputs": [
    {
     "name": "stdout",
     "output_type": "stream",
     "text": [
      "['Timer', '__all__', '__builtins__', '__cached__', '__doc__', '__file__', '__loader__', '__name__', '__package__', '__spec__', '_globals', 'default_number', 'default_repeat', 'default_timer', 'dummy_src_name', 'gc', 'itertools', 'main', 'reindent', 'repeat', 'sys', 'template', 'time', 'timeit']\n"
     ]
    }
   ],
   "source": [
    "import timeit\n",
    "print(dir(timeit))"
   ]
  },
  {
   "cell_type": "markdown",
   "metadata": {},
   "source": [
    "Let's use timeit to time various methods of creating the string '0-1-2-3-.....-99'\n",
    "\n",
    "We'll pass two arguments: the actual line we want to test encapsulated as a string and the number of times we wish to run it. Here we'll choose 10,000 runs to get some high enough numbers to compare various methods."
   ]
  },
  {
   "cell_type": "code",
   "execution_count": 61,
   "metadata": {},
   "outputs": [
    {
     "data": {
      "text/plain": [
       "'0-1-2-3-4-5-6-7-8-9-10-11-12-13-14-15-16-17-18-19-20-21-22-23-24-25-26-27-28-29-30-31-32-33-34-35-36-37-38-39-40-41-42-43-44-45-46-47-48-49-50-51-52-53-54-55-56-57-58-59-60-61-62-63-64-65-66-67-68-69-70-71-72-73-74-75-76-77-78-79-80-81-82-83-84-85-86-87-88-89-90-91-92-93-94-95-96-97-98-99'"
      ]
     },
     "execution_count": 61,
     "metadata": {},
     "output_type": "execute_result"
    }
   ],
   "source": [
    "\"-\".join(str(n) for n in range(100))"
   ]
  },
  {
   "cell_type": "code",
   "execution_count": 62,
   "metadata": {
    "scrolled": false
   },
   "outputs": [
    {
     "data": {
      "text/plain": [
       "['0', '1', '2', '3', '4', '5', '6', '7', '8', '9']"
      ]
     },
     "execution_count": 62,
     "metadata": {},
     "output_type": "execute_result"
    }
   ],
   "source": [
    "[str(n) for n in range(10)]"
   ]
  },
  {
   "cell_type": "code",
   "execution_count": 63,
   "metadata": {
    "scrolled": true
   },
   "outputs": [
    {
     "data": {
      "text/plain": [
       "['0', '1', '2', '3', '4', '5', '6', '7', '8', '9']"
      ]
     },
     "execution_count": 63,
     "metadata": {},
     "output_type": "execute_result"
    }
   ],
   "source": [
    "list(map(str, range(10)))"
   ]
  },
  {
   "cell_type": "code",
   "execution_count": 64,
   "metadata": {},
   "outputs": [
    {
     "data": {
      "text/plain": [
       "0.220661199999995"
      ]
     },
     "execution_count": 64,
     "metadata": {},
     "output_type": "execute_result"
    }
   ],
   "source": [
    "# For loop\n",
    "timeit.timeit('\"-\".join(str(n) for n in range(100))', number=10000)"
   ]
  },
  {
   "cell_type": "code",
   "execution_count": 65,
   "metadata": {},
   "outputs": [
    {
     "data": {
      "text/plain": [
       "0.19740839999999338"
      ]
     },
     "execution_count": 65,
     "metadata": {},
     "output_type": "execute_result"
    }
   ],
   "source": [
    "# List comprehension\n",
    "timeit.timeit('\"-\".join([str(n) for n in range(100)])', number=10000)"
   ]
  },
  {
   "cell_type": "code",
   "execution_count": 66,
   "metadata": {},
   "outputs": [
    {
     "data": {
      "text/plain": [
       "0.15053009999999745"
      ]
     },
     "execution_count": 66,
     "metadata": {},
     "output_type": "execute_result"
    }
   ],
   "source": [
    "# Map()\n",
    "timeit.timeit('\"-\".join(map(str, range(100)))', number=10000)"
   ]
  },
  {
   "cell_type": "markdown",
   "metadata": {},
   "source": [
    "We see a significant time difference by using map()! This is good to know and we should keep this in mind.\n",
    "\n",
    "Now let's introduce iPython's magic function **%timeit**<br>\n",
    "*NOTE: This method is specific to jupyter notebooks!*\n",
    "\n",
    "iPython's %timeit will perform the same lines of code a certain number of times (loops) and will give you the fastest performance time (best of 3).\n",
    "\n",
    "Let's repeat the above examinations using iPython magic!"
   ]
  },
  {
   "cell_type": "code",
   "execution_count": 67,
   "metadata": {
    "scrolled": true
   },
   "outputs": [
    {
     "name": "stdout",
     "output_type": "stream",
     "text": [
      "21.9 µs ± 186 ns per loop (mean ± std. dev. of 7 runs, 10000 loops each)\n"
     ]
    }
   ],
   "source": [
    "%timeit \"-\".join(str(n) for n in range(100))"
   ]
  },
  {
   "cell_type": "code",
   "execution_count": 68,
   "metadata": {},
   "outputs": [
    {
     "name": "stdout",
     "output_type": "stream",
     "text": [
      "19 µs ± 35.9 ns per loop (mean ± std. dev. of 7 runs, 100000 loops each)\n"
     ]
    }
   ],
   "source": [
    "%timeit \"-\".join([str(n) for n in range(100)])"
   ]
  },
  {
   "cell_type": "code",
   "execution_count": 69,
   "metadata": {},
   "outputs": [
    {
     "name": "stdout",
     "output_type": "stream",
     "text": [
      "14.6 µs ± 173 ns per loop (mean ± std. dev. of 7 runs, 100000 loops each)\n"
     ]
    }
   ],
   "source": [
    "%timeit \"-\".join(map(str, range(100)))"
   ]
  },
  {
   "cell_type": "markdown",
   "metadata": {},
   "source": [
    "We arrive at the same conclusion. It's also important to note that iPython will limit the amount of *real time* it will spend on its timeit procedure. For instance if running 100000 loops took 10 minutes, iPython would automatically reduce the number of loops to something more reasonable like 100 or 1000."
   ]
  },
  {
   "cell_type": "code",
   "execution_count": 70,
   "metadata": {},
   "outputs": [
    {
     "name": "stdout",
     "output_type": "stream",
     "text": [
      "0.0022525999999913893\n",
      "0.005058500000004074\n"
     ]
    }
   ],
   "source": [
    "#Challenge\n",
    "\n",
    "# In the section on Functions, we looked at 2 different ways to calculate \n",
    "# the factorial of a number. We used an iterative approach, and also used \n",
    "# a recursive function. This challenge is to use the timeit module to see \n",
    "# which performs better.\n",
    "#\n",
    "# Hint: change the number of iterations to 1,000 or 10,000.  The default\n",
    "# of one million will take a long time to run.\n",
    "\n",
    "import timeit\n",
    "\n",
    "fact_test = \"\"\"\\\n",
    "def fact(n):\n",
    "    result = 1\n",
    "    if n > 1:\n",
    "        for f in range(2, n + 1):\n",
    "            result *= f\n",
    "    return result\n",
    "\n",
    "x = fact(30)\n",
    "\"\"\"\n",
    "\n",
    "factorial_test = \"\"\"\\\n",
    "def factorial(n):\n",
    "    # n! can also be defined as n * (n-1)!\n",
    "    if n <= 1:\n",
    "        return 1\n",
    "    else:\n",
    "        return n * factorial(n-1)\n",
    "\n",
    "y = factorial(30)    \n",
    "\"\"\"\n",
    "\n",
    "print(timeit.timeit(fact_test, number=1000))\n",
    "print(timeit.timeit(factorial_test, number=1000))"
   ]
  },
  {
   "cell_type": "code",
   "execution_count": 71,
   "metadata": {},
   "outputs": [
    {
     "name": "stdout",
     "output_type": "stream",
     "text": [
      "0.010293783333331419 0.0004271186412040199\n",
      "0.02246928333333405 0.00014604613540188276\n"
     ]
    }
   ],
   "source": [
    "import timeit\n",
    "from statistics import mean, stdev\n",
    "\n",
    "\n",
    "def fact(n):\n",
    "    result = 1\n",
    "    if n > 1:\n",
    "        for f in range(2, n + 1):\n",
    "            result *= f\n",
    "    return result\n",
    "\n",
    "\n",
    "def factorial(n):\n",
    "    # n! can also be defined as n * (n-1)!\n",
    "    if n <= 1:\n",
    "        return 1\n",
    "    else:\n",
    "        return n * factorial(n-1)\n",
    "\n",
    "#This does not seem to run.............\n",
    "#if __name__ == \"__main__\":\n",
    "#    print(timeit.timeit(\"x = fact(30)\", setup=\"054 - Modules - Timing your code - timeit\", number=1000)\n",
    "#    print(timeit.timeit(\"x = factorial(30)\", setup=\"from __main__ import factorial\", number=1000)\n",
    "    \n",
    "\n",
    "if __name__ == \"__main__\":\n",
    "    #print(timeit.repeat(\"x = fact(130)\", setup=\"from __main__ import fact\", number=1000, repeat=6))\n",
    "    list1 = timeit.repeat(\"x = fact(130)\", setup=\"from __main__ import fact\", number=1000, repeat=6)\n",
    "    list2 = timeit.repeat(\"x = factorial(130)\", setup=\"from __main__ import factorial\", number=1000, repeat=6)\n",
    "\n",
    "    print(mean(list1), stdev(list1))\n",
    "    print(mean(list2), stdev(list2))\n"
   ]
  },
  {
   "cell_type": "markdown",
   "metadata": {},
   "source": [
    "<a id='pytime'></a>\n",
    "## pytime\n",
    "\n",
    "https://docs.python.org/3/library/index.html"
   ]
  },
  {
   "cell_type": "code",
   "execution_count": 72,
   "metadata": {},
   "outputs": [
    {
     "data": {
      "text/plain": [
       "'\\nhttps://github.com/shinux/PyTime\\n# This shows how to use the module\\n\\nhttps://github.com/shinux/PyTime/blob/master/pytime/pytime.py\\n# This shows the actual code for the module.\\n'"
      ]
     },
     "execution_count": 72,
     "metadata": {},
     "output_type": "execute_result"
    }
   ],
   "source": [
    "\"\"\"\n",
    "https://github.com/shinux/PyTime\n",
    "# This shows how to use the module\n",
    "\n",
    "https://github.com/shinux/PyTime/blob/master/pytime/pytime.py\n",
    "# This shows the actual code for the module.\n",
    "\"\"\""
   ]
  },
  {
   "cell_type": "code",
   "execution_count": 73,
   "metadata": {},
   "outputs": [
    {
     "name": "stdout",
     "output_type": "stream",
     "text": [
      "['__author__', '__builtins__', '__cached__', '__doc__', '__file__', '__license__', '__loader__', '__name__', '__package__', '__path__', '__spec__', '__title__', '__version__']\n"
     ]
    }
   ],
   "source": [
    "import pytime\n",
    "print(dir(pytime))"
   ]
  },
  {
   "cell_type": "code",
   "execution_count": 78,
   "metadata": {},
   "outputs": [
    {
     "data": {
      "text/plain": [
       "datetime.date(2021, 5, 9)"
      ]
     },
     "execution_count": 78,
     "metadata": {},
     "output_type": "execute_result"
    }
   ],
   "source": [
    "# mothers day\n",
    "\n",
    "pytime.mother()"
   ]
  },
  {
   "cell_type": "code",
   "execution_count": 79,
   "metadata": {},
   "outputs": [
    {
     "name": "stdout",
     "output_type": "stream",
     "text": [
      "2021-05-09\n",
      "2021-06-20\n",
      "2018-05-13\n",
      "2018-06-17\n",
      "2021-04-04\n",
      "This year the date for easter is 2021-04-04.\n"
     ]
    }
   ],
   "source": [
    "print(pytime.mother())\n",
    "print(pytime.father())\n",
    "print(pytime.mother(2018))\n",
    "print(pytime.father(2018))\n",
    "print(pytime.easter())\n",
    "print(f'This year the date for easter is {pytime.easter()}.')"
   ]
  },
  {
   "cell_type": "code",
   "execution_count": 80,
   "metadata": {},
   "outputs": [
    {
     "name": "stdout",
     "output_type": "stream",
     "text": [
      "Please choose a year:2005\n",
      "Please choose a holiday (\"Christmas\", \"Easter\", \"Halloween\": Easter\n",
      "2005-03-27\n"
     ]
    }
   ],
   "source": [
    "from pytime import pytime\n",
    "\n",
    "def test():\n",
    "    input_year = input(\"Please choose a year:\")\n",
    "    input_holiday = input(\"Please choose a holiday (\\\"Christmas\\\", \\\"Easter\\\", \\\"Halloween\\\": \") \n",
    "\n",
    "    if input_holiday == \"Christmas\":\n",
    "        print(pytime.christmas(input_year))\n",
    "    elif input_holiday == \"Easter\":\n",
    "        print(pytime.easter(input_year))\n",
    "    elif input_holiday == \"Halloween\":\n",
    "        print(pytime.halloween(input_year))\n",
    "    else:\n",
    "        print('Please try again.')\n",
    "\n",
    "test()"
   ]
  },
  {
   "cell_type": "code",
   "execution_count": 82,
   "metadata": {},
   "outputs": [],
   "source": [
    "# from pytime import pytime\n",
    "\n",
    "# def test():\n",
    "#     year_value = input(\"Please choose a year:\")\n",
    "#     holiday_value = input(\"Please choose a holiday (\\\"Christmas\\\", \\\"Easter\\\", \\\"Halloween\\\": \") \n",
    "#     acceptable_holidays = ['christmas', 'easter', 'halloween']\n",
    "    \n",
    "#     while holiday_value not in acceptable_holidays:\n",
    "#         holiday_value\n",
    "#     else:\n",
    "#         pass\n",
    "    \n",
    "#     t = f'pytime.{holiday_value}({year_value})'\n",
    "#     print(t)\n",
    "#     print(eval(t))\n",
    "\n",
    "# test()"
   ]
  },
  {
   "cell_type": "markdown",
   "metadata": {},
   "source": [
    "<a id='pytz'></a>\n",
    "## pytz"
   ]
  },
  {
   "cell_type": "code",
   "execution_count": 83,
   "metadata": {},
   "outputs": [
    {
     "name": "stdout",
     "output_type": "stream",
     "text": [
      "The time in Europe/Moscow is 2021-07-28 16:19:31.776374+03:00\n",
      "UTC is 2021-07-28 13:19:31.777390\n"
     ]
    }
   ],
   "source": [
    "import pytz\n",
    "import datetime\n",
    "\n",
    "country = 'Europe/Moscow'\n",
    "\n",
    "tz_to_display = pytz.timezone(country)\n",
    "local_time = datetime.datetime.now(tz=tz_to_display)\n",
    "print(\"The time in {} is {}\".format(country, local_time))\n",
    "print(\"UTC is {}\".format(datetime.datetime.utcnow()))"
   ]
  },
  {
   "cell_type": "code",
   "execution_count": null,
   "metadata": {},
   "outputs": [],
   "source": [
    "# for x in pytz.all_timezones:\n",
    "#     print(x)"
   ]
  },
  {
   "cell_type": "code",
   "execution_count": null,
   "metadata": {},
   "outputs": [],
   "source": [
    "# for x in sorted(pytz.country_names):\n",
    "#     print(x + \": \" + pytz.country_names[x])"
   ]
  },
  {
   "cell_type": "code",
   "execution_count": null,
   "metadata": {
    "scrolled": true
   },
   "outputs": [],
   "source": [
    "#will produce an error at 'BV'\n",
    "\n",
    "# for x in sorted(pytz.country_names):\n",
    "#     print(\"{}: {}: {}\".format(x, pytz.country_names[x], pytz.country_timezones[x]))"
   ]
  },
  {
   "cell_type": "code",
   "execution_count": null,
   "metadata": {},
   "outputs": [],
   "source": [
    "# get method will only produce None instead of an error.\n",
    "# for x in sorted(pytz.country_names):\n",
    "#     print(\"{}: {}: {}\".format(x, pytz.country_names[x], pytz.country_timezones.get(x)))"
   ]
  },
  {
   "cell_type": "code",
   "execution_count": null,
   "metadata": {},
   "outputs": [],
   "source": [
    "# for x in sorted(pytz.country_names):\n",
    "#     print(\"{}: {}\".format(x, pytz.country_names[x]), end=': ')\n",
    "    \n",
    "#     if x in pytz.country_timezones:\n",
    "#         print(pytz.country_timezones[x])\n",
    "#     else:\n",
    "#         print(\"No timezone defined\")"
   ]
  },
  {
   "cell_type": "code",
   "execution_count": null,
   "metadata": {
    "scrolled": true
   },
   "outputs": [],
   "source": [
    "# for x in sorted(pytz.country_names):\n",
    "#     print(\"{}: {}\".format(x, pytz.country_names[x]), end=': ')\n",
    "    \n",
    "#     if x in pytz.country_timezones:\n",
    "#         for zone in sorted(pytz.country_timezones[x]):\n",
    "#             tz_to_display = pytz.timezone(zone)\n",
    "#             local_time = datetime.datetime.now(tz=tz_to_display)\n",
    "#             print(\"\\t{}:{}\".format(zone, local_time))\n",
    "#     else:\n",
    "#         print(\"No timezone defined\")"
   ]
  },
  {
   "cell_type": "code",
   "execution_count": 84,
   "metadata": {},
   "outputs": [
    {
     "name": "stdout",
     "output_type": "stream",
     "text": [
      "Naive local time is 2021-07-28 23:19:34.893826\n",
      "Naive UTC time is 2021-07-28 13:19:34.893826\n",
      "Aware local time 2021-07-28 23:19:34.893826+10:00, time zone AUS Eastern Standard Time\n",
      "Aware utc time 2021-07-28 13:19:34.893826+00:00, time zone UTC\n"
     ]
    }
   ],
   "source": [
    "import pytz\n",
    "import datetime\n",
    "\n",
    "local_time = datetime.datetime.now()\n",
    "utc_time = datetime.datetime.utcnow()\n",
    "\n",
    "print(\"Naive local time is {}\".format(local_time))\n",
    "print(\"Naive UTC time is {}\".format(utc_time))\n",
    "\n",
    "aware_local_time = pytz.utc.localize(utc_time).astimezone()\n",
    "aware_utc_time = pytz.utc.localize(utc_time)\n",
    "\n",
    "print(\"Aware local time {}, time zone {}\".format(aware_local_time, aware_local_time.tzinfo))\n",
    "print(\"Aware utc time {}, time zone {}\".format(aware_utc_time, aware_utc_time.tzinfo))"
   ]
  },
  {
   "cell_type": "code",
   "execution_count": 85,
   "metadata": {},
   "outputs": [
    {
     "name": "stdout",
     "output_type": "stream",
     "text": [
      "2015-10-25 01:30:00\n",
      "1445697000.0\n",
      "1445733000 seconds since the epoch is 2015-10-25 01:30:00+01:00\n",
      "1445736600 seconds since the epoch is 2015-10-25 01:30:00+00:00\n"
     ]
    }
   ],
   "source": [
    "gap_time = datetime.datetime(2015, 10, 25, 1, 30, 0, 0)\n",
    "print(gap_time)\n",
    "print(gap_time.timestamp())\n",
    "\n",
    "s = 1445733000   #epoch for GB\n",
    "t = s + (60 * 60)\n",
    "gb = pytz.timezone(\"GB\")\n",
    "\n",
    "dt1 = pytz.utc.localize(datetime.datetime.utcfromtimestamp(s)).astimezone(gb)\n",
    "dt2 = pytz.utc.localize(datetime.datetime.utcfromtimestamp(t)).astimezone(gb)\n",
    "\n",
    "print(\"{} seconds since the epoch is {}\".format(s, dt1))\n",
    "print(\"{} seconds since the epoch is {}\".format(t, dt2))"
   ]
  },
  {
   "cell_type": "code",
   "execution_count": 86,
   "metadata": {},
   "outputs": [
    {
     "name": "stdout",
     "output_type": "stream",
     "text": [
      "Please choose a time zone (or 0 to quit):\n",
      "\t1. Africa/Tunis\n",
      "\t2. Asia/Kolkata\n",
      "\t3. Australia/Adelaide\n",
      "\t4. Europe/Brussels\n",
      "\t5. Europe/London\n",
      "\t6. Japan\n",
      "\t7. Pacific/Tahiti\n",
      "\t8. US/Hawaii\n",
      "\t9. Zulu\n",
      "3\n",
      "The time in Australia/Adelaide is Wednesday 07/28/21 22:50:30 +0930 ACST\n",
      "Local time is Wednesday 07/28/21 23:20:30\n",
      "UTC time is Wednesday 07/28/21 13:20:30\n",
      "\n",
      "q\n",
      "\n",
      "0\n"
     ]
    }
   ],
   "source": [
    "# Challenge\n",
    "\n",
    "# Create a program that allows a user to choose one of\n",
    "# up to 9 time zones from a menu. You can choose any\n",
    "# zones you want from the all_timezones list.\n",
    "#\n",
    "# The program will then display the time in that timezone, as\n",
    "# well as local time and UTC time.\n",
    "#\n",
    "# Entering 0 as the choice will quit the program.\n",
    "#\n",
    "# Display the dates and times in a format suitable for the\n",
    "# user of your program to understand, and include the\n",
    "# timezone name when displaying the chosen time.\n",
    "\n",
    "import datetime\n",
    "import pytz\n",
    "\n",
    "available_zones = {'1': \"Africa/Tunis\",\n",
    "                   '2': \"Asia/Kolkata\",\n",
    "                   '3': \"Australia/Adelaide\",\n",
    "                   '4': \"Europe/Brussels\",\n",
    "                   '5': \"Europe/London\",\n",
    "                   '6': \"Japan\",\n",
    "                   '7': \"Pacific/Tahiti\",\n",
    "                   '8': \"US/Hawaii\",\n",
    "                   '9': \"Zulu\"}\n",
    "\n",
    "print(\"Please choose a time zone (or 0 to quit):\")\n",
    "for place in sorted(available_zones):\n",
    "    print(\"\\t{}. {}\".format(place, available_zones[place]))\n",
    "\n",
    "while True:\n",
    "    choice = input()\n",
    "\n",
    "    if choice == '0':\n",
    "        break\n",
    "\n",
    "    if choice in available_zones.keys():\n",
    "        tz_to_display = pytz.timezone(available_zones[choice])\n",
    "        world_time = datetime.datetime.now(tz=tz_to_display)\n",
    "        print(\"The time in {} is {} {}\".format(available_zones[choice], world_time.strftime('%A %x %X %z'),world_time.tzname()))\n",
    "        print(\"Local time is {}\".format(datetime.datetime.now().strftime('%A %x %X')))\n",
    "        print(\"UTC time is {}\".format(datetime.datetime.utcnow().strftime('%A %x %X')))\n",
    "        print()"
   ]
  },
  {
   "cell_type": "markdown",
   "metadata": {},
   "source": [
    "<a id='datetime'></a>\n",
    "## datetime\n",
    "\n",
    "Python has the datetime module to help deal with timestamps in your code. Time values are represented with the time class. Times have attributes for hour, minute, second, and microsecond. They can also include time zone information. The arguments to initialize a time instance are optional, but the default of 0 is unlikely to be what you want.\n",
    "\n",
    "https://docs.python.org/3/library/datetime.html#module-datetime\n",
    "\n",
    "\n",
    "### <u>Time</u>\n",
    "Let's take a look at how we can extract time information from the datetime module. We can create a timestamp by specifying datetime.time(hour,minute,second,microsecond)"
   ]
  },
  {
   "cell_type": "code",
   "execution_count": 87,
   "metadata": {},
   "outputs": [
    {
     "name": "stdout",
     "output_type": "stream",
     "text": [
      "00:00:00\n",
      "2021-07-28 23:20:57.931540\n",
      "2021-07-28 23:20:57.931539\n",
      "2021-07-28 13:20:57.931539\n"
     ]
    }
   ],
   "source": [
    "import datetime\n",
    "\n",
    "print(datetime.time())\n",
    "print(datetime.datetime.today())\n",
    "print(datetime.datetime.now())    #more precise\n",
    "print(datetime.datetime.utcnow())"
   ]
  },
  {
   "cell_type": "code",
   "execution_count": 88,
   "metadata": {},
   "outputs": [
    {
     "name": "stdout",
     "output_type": "stream",
     "text": [
      "04:20:01\n",
      "hour  : 4\n",
      "minute: 20\n",
      "second: 1\n",
      "microsecond: 0\n",
      "tzinfo: None\n"
     ]
    }
   ],
   "source": [
    "import datetime\n",
    "\n",
    "t = datetime.time(4, 20, 1)\n",
    "\n",
    "# Let's show the different components\n",
    "print(t)\n",
    "print('hour  :', t.hour)\n",
    "print('minute:', t.minute)\n",
    "print('second:', t.second)\n",
    "print('microsecond:', t.microsecond)\n",
    "print('tzinfo:', t.tzinfo)"
   ]
  },
  {
   "cell_type": "markdown",
   "metadata": {},
   "source": [
    "Note: A time instance only holds values of time, and not a date associated with the time. \n",
    "\n",
    "We can also check the min and max values a time of day can have in the module:"
   ]
  },
  {
   "cell_type": "code",
   "execution_count": 89,
   "metadata": {},
   "outputs": [
    {
     "name": "stdout",
     "output_type": "stream",
     "text": [
      "Earliest  : 00:00:00\n",
      "Latest    : 23:59:59.999999\n",
      "Resolution: 0:00:00.000001\n"
     ]
    }
   ],
   "source": [
    "print('Earliest  :', datetime.time.min)\n",
    "print('Latest    :', datetime.time.max)\n",
    "print('Resolution:', datetime.time.resolution)"
   ]
  },
  {
   "cell_type": "markdown",
   "metadata": {},
   "source": [
    "The min and max class attributes reflect the valid range of times in a single day."
   ]
  },
  {
   "cell_type": "markdown",
   "metadata": {},
   "source": [
    "### <u>Dates</u>\n",
    "datetime (as you might suspect) also allows us to work with date timestamps. Calendar date values are represented with the date class. Instances have attributes for year, month, and day. It is easy to create a date representing today’s date using the today() class method."
   ]
  },
  {
   "cell_type": "code",
   "execution_count": 90,
   "metadata": {},
   "outputs": [
    {
     "name": "stdout",
     "output_type": "stream",
     "text": [
      "2021-07-28\n",
      "ctime: Wed Jul 28 00:00:00 2021\n",
      "tuple: time.struct_time(tm_year=2021, tm_mon=7, tm_mday=28, tm_hour=0, tm_min=0, tm_sec=0, tm_wday=2, tm_yday=209, tm_isdst=-1)\n",
      "ordinal: 737999\n",
      "Year : 2021\n",
      "Month: 7\n",
      "Day  : 28\n"
     ]
    }
   ],
   "source": [
    "today = datetime.date.today()\n",
    "print(today)\n",
    "print('ctime:', today.ctime())\n",
    "print('tuple:', today.timetuple())\n",
    "print('ordinal:', today.toordinal())\n",
    "print('Year :', today.year)\n",
    "print('Month:', today.month)\n",
    "print('Day  :', today.day)"
   ]
  },
  {
   "cell_type": "markdown",
   "metadata": {},
   "source": [
    "As with time, the range of date values supported can be determined using the min and max attributes."
   ]
  },
  {
   "cell_type": "code",
   "execution_count": 91,
   "metadata": {},
   "outputs": [
    {
     "name": "stdout",
     "output_type": "stream",
     "text": [
      "Earliest  : 0001-01-01\n",
      "Latest    : 9999-12-31\n",
      "Resolution: 1 day, 0:00:00\n"
     ]
    }
   ],
   "source": [
    "print('Earliest  :', datetime.date.min)\n",
    "print('Latest    :', datetime.date.max)\n",
    "print('Resolution:', datetime.date.resolution)"
   ]
  },
  {
   "cell_type": "markdown",
   "metadata": {},
   "source": [
    "Another way to create new date instances uses the replace() method of an existing date. For example, you can change the year, leaving the day and month alone."
   ]
  },
  {
   "cell_type": "code",
   "execution_count": 92,
   "metadata": {},
   "outputs": [
    {
     "name": "stdout",
     "output_type": "stream",
     "text": [
      "d1: 2015-03-11\n",
      "d2: 1990-03-11\n"
     ]
    }
   ],
   "source": [
    "d1 = datetime.date(2015, 3, 11)\n",
    "print('d1:', d1)\n",
    "\n",
    "d2 = d1.replace(year=1990)\n",
    "print('d2:', d2)"
   ]
  },
  {
   "cell_type": "markdown",
   "metadata": {},
   "source": [
    "### <u>Arithmetic</u>\n",
    "We can perform arithmetic operations on date objects to check for time differences. For example:"
   ]
  },
  {
   "cell_type": "code",
   "execution_count": 93,
   "metadata": {},
   "outputs": [
    {
     "data": {
      "text/plain": [
       "datetime.date(2015, 3, 11)"
      ]
     },
     "execution_count": 93,
     "metadata": {},
     "output_type": "execute_result"
    }
   ],
   "source": [
    "d1"
   ]
  },
  {
   "cell_type": "code",
   "execution_count": 94,
   "metadata": {},
   "outputs": [
    {
     "data": {
      "text/plain": [
       "datetime.date(1990, 3, 11)"
      ]
     },
     "execution_count": 94,
     "metadata": {},
     "output_type": "execute_result"
    }
   ],
   "source": [
    "d2"
   ]
  },
  {
   "cell_type": "code",
   "execution_count": 95,
   "metadata": {},
   "outputs": [
    {
     "data": {
      "text/plain": [
       "datetime.timedelta(days=9131)"
      ]
     },
     "execution_count": 95,
     "metadata": {},
     "output_type": "execute_result"
    }
   ],
   "source": [
    "# this gives back the number of days.\n",
    "d1-d2"
   ]
  },
  {
   "cell_type": "markdown",
   "metadata": {},
   "source": [
    "This gives us the difference in days between the two dates. You can use the timedelta method to specify various units of times (days, minutes, hours, etc.)"
   ]
  },
  {
   "cell_type": "markdown",
   "metadata": {},
   "source": [
    "<a id='time'></a>\n",
    "## Time Module\n",
    "\n",
    "https://docs.python.org/3/library/time.html#module-time"
   ]
  },
  {
   "cell_type": "code",
   "execution_count": 96,
   "metadata": {},
   "outputs": [
    {
     "name": "stdout",
     "output_type": "stream",
     "text": [
      "time.struct_time(tm_year=1970, tm_mon=1, tm_mday=1, tm_hour=0, tm_min=0, tm_sec=0, tm_wday=3, tm_yday=1, tm_isdst=0)\n",
      "time.struct_time(tm_year=2021, tm_mon=7, tm_mday=28, tm_hour=23, tm_min=21, tm_sec=3, tm_wday=2, tm_yday=209, tm_isdst=0)\n",
      "1627478463.5847597\n",
      "time.struct_time(tm_year=2021, tm_mon=7, tm_mday=28, tm_hour=23, tm_min=21, tm_sec=3, tm_wday=2, tm_yday=209, tm_isdst=0)\n"
     ]
    }
   ],
   "source": [
    "import time\n",
    "\n",
    "print(time.gmtime(0))\n",
    "print(time.localtime())\n",
    "print(time.time())\n",
    "print(time.localtime(time.time()))\n"
   ]
  },
  {
   "cell_type": "code",
   "execution_count": 97,
   "metadata": {},
   "outputs": [
    {
     "name": "stdout",
     "output_type": "stream",
     "text": [
      "time.struct_time(tm_year=2021, tm_mon=7, tm_mday=28, tm_hour=23, tm_min=21, tm_sec=4, tm_wday=2, tm_yday=209, tm_isdst=0)\n",
      "Year: 2021 Year: 2021\n",
      "Month: 7 Month: 7\n",
      "2021\n",
      "7\n",
      "28\n",
      "23\n",
      "21\n",
      "4\n",
      "2\n",
      "209\n",
      "0\n"
     ]
    }
   ],
   "source": [
    "time_here = time.localtime()\n",
    "print(time_here)\n",
    "\n",
    "# 2 ways to get data:\n",
    "print(\"Year:\", time_here[0], \"Year:\", time_here.tm_year)\n",
    "print(\"Month:\", time_here[1], \"Month:\", time_here.tm_mon)\n",
    "\n",
    "#note, a for loop only goes thorugh the values, not the variable names\n",
    "for i in time_here:\n",
    "    print(i)"
   ]
  },
  {
   "cell_type": "code",
   "execution_count": 98,
   "metadata": {},
   "outputs": [
    {
     "name": "stdout",
     "output_type": "stream",
     "text": [
      "Press enter to start\n",
      "Press enter to stop\n",
      "Started at 23:21:15\n",
      "Ended at 23:21:16\n",
      "Your reaction time was 1.1384305953979492 seconds\n"
     ]
    }
   ],
   "source": [
    "import time\n",
    "from time import time as my_timer\n",
    "import random\n",
    "\n",
    "input(\"Press enter to start\")\n",
    "\n",
    "wait_time = random.randint(1,6)\n",
    "time.sleep(wait_time)\n",
    "start_time = my_timer()\n",
    "\n",
    "input(\"Press enter to stop\")\n",
    "\n",
    "end_time = my_timer()\n",
    "\n",
    "print(\"Started at \" + time.strftime(\"%X\", time.localtime(start_time)))\n",
    "print(\"Ended at \" + time.strftime(\"%X\", time.localtime(end_time)))\n",
    "\n",
    "print(\"Your reaction time was {} seconds\".format(end_time - start_time))"
   ]
  },
  {
   "cell_type": "code",
   "execution_count": 99,
   "metadata": {},
   "outputs": [
    {
     "name": "stdout",
     "output_type": "stream",
     "text": [
      "Press enter to start\n",
      "Press enter to stop\n",
      "Started at 11:07:00\n",
      "Ended at 11:07:01\n",
      "Your reaction time was 0.49191279999996596 seconds\n"
     ]
    }
   ],
   "source": [
    "import time\n",
    "#more precise\n",
    "from time import perf_counter as my_timer\n",
    "import random\n",
    "\n",
    "input(\"Press enter to start\")\n",
    "\n",
    "wait_time = random.randint(1,6)\n",
    "time.sleep(wait_time)\n",
    "start_time = my_timer()\n",
    "\n",
    "input(\"Press enter to stop\")\n",
    "\n",
    "end_time = my_timer()\n",
    "\n",
    "print(\"Started at \" + time.strftime(\"%X\", time.localtime(start_time)))\n",
    "print(\"Ended at \" + time.strftime(\"%X\", time.localtime(end_time)))\n",
    "\n",
    "print(\"Your reaction time was {} seconds\".format(end_time - start_time))"
   ]
  },
  {
   "cell_type": "code",
   "execution_count": 100,
   "metadata": {},
   "outputs": [
    {
     "name": "stdout",
     "output_type": "stream",
     "text": [
      "Press enter to start\n",
      "Press enter to stop\n",
      "Started at 00:13:23\n",
      "Ended at 00:13:25\n",
      "Your reaction time was 2.0309999999954016 seconds\n"
     ]
    }
   ],
   "source": [
    "import time\n",
    "#monotonic - time cannot go backwards\n",
    "from time import monotonic as my_timer\n",
    "import random\n",
    "\n",
    "input(\"Press enter to start\")\n",
    "\n",
    "wait_time = random.randint(1,6)\n",
    "time.sleep(wait_time)\n",
    "start_time = my_timer()\n",
    "\n",
    "input(\"Press enter to stop\")\n",
    "\n",
    "end_time = my_timer()\n",
    "\n",
    "print(\"Started at \" + time.strftime(\"%X\", time.localtime(start_time)))\n",
    "print(\"Ended at \" + time.strftime(\"%X\", time.localtime(end_time)))\n",
    "\n",
    "print(\"Your reaction time was {} seconds\".format(end_time - start_time))"
   ]
  },
  {
   "cell_type": "code",
   "execution_count": 101,
   "metadata": {},
   "outputs": [
    {
     "name": "stdout",
     "output_type": "stream",
     "text": [
      "Press enter to start\n",
      "Press enter to stop\n",
      "Started at 11:01:31\n",
      "Ended at 11:01:31\n",
      "Your reaction time was 0.0 seconds\n"
     ]
    }
   ],
   "source": [
    "import time\n",
    "\n",
    "#this records the time of the cpu elapsed time while running the program. - ie. cpu process time\n",
    "from time import process_time as my_timer\n",
    "import random\n",
    "\n",
    "input(\"Press enter to start\")\n",
    "\n",
    "wait_time = random.randint(1,6)\n",
    "time.sleep(wait_time)\n",
    "start_time = my_timer()\n",
    "\n",
    "input(\"Press enter to stop\")\n",
    "\n",
    "end_time = my_timer()\n",
    "\n",
    "print(\"Started at \" + time.strftime(\"%X\", time.localtime(start_time)))\n",
    "print(\"Ended at \" + time.strftime(\"%X\", time.localtime(end_time)))\n",
    "\n",
    "print(\"Your reaction time was {} seconds\".format(end_time - start_time))"
   ]
  },
  {
   "cell_type": "code",
   "execution_count": 102,
   "metadata": {},
   "outputs": [
    {
     "name": "stdout",
     "output_type": "stream",
     "text": [
      "time():\t\t namespace(adjustable=True, implementation='GetSystemTimeAsFileTime()', monotonic=False, resolution=0.015625)\n",
      "perf_counter():\t namespace(adjustable=True, implementation='GetSystemTimeAsFileTime()', monotonic=False, resolution=0.015625)\n",
      "monotonic:\t namespace(adjustable=True, implementation='GetSystemTimeAsFileTime()', monotonic=False, resolution=0.015625)\n",
      "process_time:\t namespace(adjustable=True, implementation='GetSystemTimeAsFileTime()', monotonic=False, resolution=0.015625)\n"
     ]
    }
   ],
   "source": [
    "#Challenge\n",
    "\n",
    "# Write a small program to display information on the\n",
    "# four clocks whose functions we have just looked at:\n",
    "# i.e. time(), perf_counter, monotonic() and process_time().\n",
    "#\n",
    "# Use the documentation for the get_clock_info() function\n",
    "# to work out how to call it for each of the clocks.\n",
    "\n",
    "import time\n",
    "\n",
    "print(\"time():\\t\\t\", time.get_clock_info('time'))\n",
    "print(\"perf_counter():\\t\", time.get_clock_info('time'))\n",
    "print(\"monotonic:\\t\", time.get_clock_info('time'))\n",
    "print(\"process_time:\\t\", time.get_clock_info('time'))"
   ]
  },
  {
   "cell_type": "code",
   "execution_count": 103,
   "metadata": {},
   "outputs": [
    {
     "name": "stdout",
     "output_type": "stream",
     "text": [
      "The epoch on this system starts at Thu Jan  1 00:00:00 1970\n",
      "The current timezone is AUS Eastern Standard Time with an offset of -36000.\n",
      "Daylight Saving Time is in effect for this location\n",
      "The DST timezone is AUS Eastern Daylight Time\n",
      "Local time is 2021-07-28 23:21:42\n",
      "UTC time is 2021-07-28 13:21:42\n"
     ]
    }
   ],
   "source": [
    "import time\n",
    "\n",
    "print(\"The epoch on this system starts at \" + time.strftime('%c', time.gmtime(0)))\n",
    "\n",
    "print(\"The current timezone is {0} with an offset of {1}.\".format(time.tzname[0], time.timezone))\n",
    "\n",
    "if time.daylight != 0:\n",
    "    print(\"Daylight Saving Time is in effect for this location\")\n",
    "    print(\"The DST timezone is \" + time.tzname[1])\n",
    "    \n",
    "print(\"Local time is \" + time.strftime('%Y-%m-%d %H:%M:%S', time.localtime()))\n",
    "print(\"UTC time is \" + time.strftime('%Y-%m-%d %H:%M:%S', time.gmtime()))"
   ]
  },
  {
   "cell_type": "markdown",
   "metadata": {},
   "source": [
    "<a id='debugger'></a>\n",
    "## Python Debugger\n",
    "\n",
    "https://docs.python.org/3/library/pdb.html\n",
    "\n",
    "You've probably used a variety of print statements to try to find errors in your code. A better way of doing this is by using Python's built-in debugger module (pdb). The pdb module implements an interactive debugging environment for Python programs. It includes features to let you pause your program, look at the values of variables, and watch program execution step-by-step, so you can understand what your program actually does and find bugs in the logic.\n",
    "\n",
    "This is a bit difficult to show since it requires creating an error on purpose, but hopefully this simple example illustrates the power of the pdb module. <br>*Note: Keep in mind it would be pretty unusual to use pdb in an iPython Notebook setting.*\n",
    "\n",
    "Here we will create an error on purpose, trying to add a list to an integer"
   ]
  },
  {
   "cell_type": "code",
   "execution_count": 104,
   "metadata": {},
   "outputs": [
    {
     "name": "stdout",
     "output_type": "stream",
     "text": [
      "5\n"
     ]
    },
    {
     "ename": "TypeError",
     "evalue": "unsupported operand type(s) for +: 'int' and 'list'",
     "output_type": "error",
     "traceback": [
      "\u001b[1;31m---------------------------------------------------------------------------\u001b[0m",
      "\u001b[1;31mTypeError\u001b[0m                                 Traceback (most recent call last)",
      "\u001b[1;32m<ipython-input-104-e7e4af986cb2>\u001b[0m in \u001b[0;36m<module>\u001b[1;34m\u001b[0m\n\u001b[0;32m      5\u001b[0m \u001b[0mresult\u001b[0m \u001b[1;33m=\u001b[0m \u001b[0my\u001b[0m \u001b[1;33m+\u001b[0m \u001b[0mz\u001b[0m\u001b[1;33m\u001b[0m\u001b[1;33m\u001b[0m\u001b[0m\n\u001b[0;32m      6\u001b[0m \u001b[0mprint\u001b[0m\u001b[1;33m(\u001b[0m\u001b[0mresult\u001b[0m\u001b[1;33m)\u001b[0m\u001b[1;33m\u001b[0m\u001b[1;33m\u001b[0m\u001b[0m\n\u001b[1;32m----> 7\u001b[1;33m \u001b[0mresult2\u001b[0m \u001b[1;33m=\u001b[0m \u001b[0my\u001b[0m\u001b[1;33m+\u001b[0m\u001b[0mx\u001b[0m\u001b[1;33m\u001b[0m\u001b[1;33m\u001b[0m\u001b[0m\n\u001b[0m\u001b[0;32m      8\u001b[0m \u001b[0mprint\u001b[0m\u001b[1;33m(\u001b[0m\u001b[0mresult2\u001b[0m\u001b[1;33m)\u001b[0m\u001b[1;33m\u001b[0m\u001b[1;33m\u001b[0m\u001b[0m\n",
      "\u001b[1;31mTypeError\u001b[0m: unsupported operand type(s) for +: 'int' and 'list'"
     ]
    }
   ],
   "source": [
    "x = [1,3,4]\n",
    "y = 2\n",
    "z = 3\n",
    "\n",
    "result = y + z\n",
    "print(result)\n",
    "result2 = y+x\n",
    "print(result2)"
   ]
  },
  {
   "cell_type": "markdown",
   "metadata": {},
   "source": [
    "Hmmm, looks like we get an error! Let's implement a set_trace() using the pdb module. This will allow us to basically pause the code at the point of the trace and check if anything is wrong."
   ]
  },
  {
   "cell_type": "code",
   "execution_count": 105,
   "metadata": {},
   "outputs": [
    {
     "name": "stdout",
     "output_type": "stream",
     "text": [
      "5\n",
      "--Return--\n",
      "> <ipython-input-105-98b7a09924e4>(11)<module>()->None\n",
      "-> pdb.set_trace()\n",
      "(Pdb) \n",
      "(Pdb) \n",
      "(Pdb) \n",
      "(Pdb) x\n",
      "[1, 3, 4]\n",
      "(Pdb) result\n",
      "5\n",
      "(Pdb) result2\n",
      "*** NameError: name 'result2' is not defined\n",
      "(Pdb) q\n"
     ]
    },
    {
     "ename": "BdbQuit",
     "evalue": "",
     "output_type": "error",
     "traceback": [
      "\u001b[1;31m---------------------------------------------------------------------------\u001b[0m",
      "\u001b[1;31mBdbQuit\u001b[0m                                   Traceback (most recent call last)",
      "\u001b[1;32m<ipython-input-105-98b7a09924e4>\u001b[0m in \u001b[0;36m<module>\u001b[1;34m\u001b[0m\n\u001b[0;32m      9\u001b[0m \u001b[1;33m\u001b[0m\u001b[0m\n\u001b[0;32m     10\u001b[0m \u001b[1;31m# Set a trace using Python Debugger.    #q is used to exit the pdb.\u001b[0m\u001b[1;33m\u001b[0m\u001b[1;33m\u001b[0m\u001b[1;33m\u001b[0m\u001b[0m\n\u001b[1;32m---> 11\u001b[1;33m \u001b[0mpdb\u001b[0m\u001b[1;33m.\u001b[0m\u001b[0mset_trace\u001b[0m\u001b[1;33m(\u001b[0m\u001b[1;33m)\u001b[0m\u001b[1;33m\u001b[0m\u001b[1;33m\u001b[0m\u001b[0m\n\u001b[0m\u001b[0;32m     12\u001b[0m \u001b[1;33m\u001b[0m\u001b[0m\n\u001b[0;32m     13\u001b[0m \u001b[0mresult2\u001b[0m \u001b[1;33m=\u001b[0m \u001b[0my\u001b[0m\u001b[1;33m+\u001b[0m\u001b[0mx\u001b[0m\u001b[1;33m\u001b[0m\u001b[1;33m\u001b[0m\u001b[0m\n",
      "\u001b[1;32m~\\anaconda3\\lib\\bdb.py\u001b[0m in \u001b[0;36mtrace_dispatch\u001b[1;34m(self, frame, event, arg)\u001b[0m\n\u001b[0;32m     90\u001b[0m             \u001b[1;32mreturn\u001b[0m \u001b[0mself\u001b[0m\u001b[1;33m.\u001b[0m\u001b[0mdispatch_call\u001b[0m\u001b[1;33m(\u001b[0m\u001b[0mframe\u001b[0m\u001b[1;33m,\u001b[0m \u001b[0marg\u001b[0m\u001b[1;33m)\u001b[0m\u001b[1;33m\u001b[0m\u001b[1;33m\u001b[0m\u001b[0m\n\u001b[0;32m     91\u001b[0m         \u001b[1;32mif\u001b[0m \u001b[0mevent\u001b[0m \u001b[1;33m==\u001b[0m \u001b[1;34m'return'\u001b[0m\u001b[1;33m:\u001b[0m\u001b[1;33m\u001b[0m\u001b[1;33m\u001b[0m\u001b[0m\n\u001b[1;32m---> 92\u001b[1;33m             \u001b[1;32mreturn\u001b[0m \u001b[0mself\u001b[0m\u001b[1;33m.\u001b[0m\u001b[0mdispatch_return\u001b[0m\u001b[1;33m(\u001b[0m\u001b[0mframe\u001b[0m\u001b[1;33m,\u001b[0m \u001b[0marg\u001b[0m\u001b[1;33m)\u001b[0m\u001b[1;33m\u001b[0m\u001b[1;33m\u001b[0m\u001b[0m\n\u001b[0m\u001b[0;32m     93\u001b[0m         \u001b[1;32mif\u001b[0m \u001b[0mevent\u001b[0m \u001b[1;33m==\u001b[0m \u001b[1;34m'exception'\u001b[0m\u001b[1;33m:\u001b[0m\u001b[1;33m\u001b[0m\u001b[1;33m\u001b[0m\u001b[0m\n\u001b[0;32m     94\u001b[0m             \u001b[1;32mreturn\u001b[0m \u001b[0mself\u001b[0m\u001b[1;33m.\u001b[0m\u001b[0mdispatch_exception\u001b[0m\u001b[1;33m(\u001b[0m\u001b[0mframe\u001b[0m\u001b[1;33m,\u001b[0m \u001b[0marg\u001b[0m\u001b[1;33m)\u001b[0m\u001b[1;33m\u001b[0m\u001b[1;33m\u001b[0m\u001b[0m\n",
      "\u001b[1;32m~\\anaconda3\\lib\\bdb.py\u001b[0m in \u001b[0;36mdispatch_return\u001b[1;34m(self, frame, arg)\u001b[0m\n\u001b[0;32m    152\u001b[0m             \u001b[1;32mfinally\u001b[0m\u001b[1;33m:\u001b[0m\u001b[1;33m\u001b[0m\u001b[1;33m\u001b[0m\u001b[0m\n\u001b[0;32m    153\u001b[0m                 \u001b[0mself\u001b[0m\u001b[1;33m.\u001b[0m\u001b[0mframe_returning\u001b[0m \u001b[1;33m=\u001b[0m \u001b[1;32mNone\u001b[0m\u001b[1;33m\u001b[0m\u001b[1;33m\u001b[0m\u001b[0m\n\u001b[1;32m--> 154\u001b[1;33m             \u001b[1;32mif\u001b[0m \u001b[0mself\u001b[0m\u001b[1;33m.\u001b[0m\u001b[0mquitting\u001b[0m\u001b[1;33m:\u001b[0m \u001b[1;32mraise\u001b[0m \u001b[0mBdbQuit\u001b[0m\u001b[1;33m\u001b[0m\u001b[1;33m\u001b[0m\u001b[0m\n\u001b[0m\u001b[0;32m    155\u001b[0m             \u001b[1;31m# The user issued a 'next' or 'until' command.\u001b[0m\u001b[1;33m\u001b[0m\u001b[1;33m\u001b[0m\u001b[1;33m\u001b[0m\u001b[0m\n\u001b[0;32m    156\u001b[0m             \u001b[1;32mif\u001b[0m \u001b[0mself\u001b[0m\u001b[1;33m.\u001b[0m\u001b[0mstopframe\u001b[0m \u001b[1;32mis\u001b[0m \u001b[0mframe\u001b[0m \u001b[1;32mand\u001b[0m \u001b[0mself\u001b[0m\u001b[1;33m.\u001b[0m\u001b[0mstoplineno\u001b[0m \u001b[1;33m!=\u001b[0m \u001b[1;33m-\u001b[0m\u001b[1;36m1\u001b[0m\u001b[1;33m:\u001b[0m\u001b[1;33m\u001b[0m\u001b[1;33m\u001b[0m\u001b[0m\n",
      "\u001b[1;31mBdbQuit\u001b[0m: "
     ]
    }
   ],
   "source": [
    "import pdb\n",
    "\n",
    "x = [1,3,4]\n",
    "y = 2\n",
    "z = 3\n",
    "\n",
    "result = y + z\n",
    "print(result)\n",
    "\n",
    "# Set a trace using Python Debugger.    #q is used to exit the pdb.\n",
    "pdb.set_trace()\n",
    "\n",
    "result2 = y+x\n",
    "print(result2)"
   ]
  },
  {
   "cell_type": "markdown",
   "metadata": {},
   "source": [
    "Now we could check what the various variables were and check for errors. You can use 'q' to quit the debugger. For more information on general debugging techniques and more methods, check out the official documentation."
   ]
  },
  {
   "cell_type": "markdown",
   "metadata": {},
   "source": [
    "<a id='web'></a>\n",
    "## WebBrowser Module"
   ]
  },
  {
   "cell_type": "markdown",
   "metadata": {},
   "source": [
    "https://docs.python.org/3/library/webbrowser.html"
   ]
  },
  {
   "cell_type": "code",
   "execution_count": 106,
   "metadata": {
    "scrolled": true
   },
   "outputs": [
    {
     "name": "stdout",
     "output_type": "stream",
     "text": [
      "['BackgroundBrowser', 'BaseBrowser', 'Chrome', 'Chromium', 'Elinks', 'Error', 'Galeon', 'GenericBrowser', 'Grail', 'Konqueror', 'Mozilla', 'Netscape', 'Opera', 'UnixBrowser', 'WindowsDefault', '__all__', '__builtins__', '__cached__', '__doc__', '__file__', '__loader__', '__name__', '__package__', '__spec__', '_browsers', '_lock', '_os_preferred_browser', '_synthesize', '_tryorder', 'get', 'main', 'open', 'open_new', 'open_new_tab', 'os', 'register', 'register_X_browsers', 'register_standard_browsers', 'shlex', 'shutil', 'subprocess', 'sys', 'threading']\n"
     ]
    }
   ],
   "source": [
    "import webbrowser\n",
    "\n",
    "print(dir(webbrowser))\n",
    "\n",
    "# help(webbrowser)"
   ]
  },
  {
   "cell_type": "code",
   "execution_count": 107,
   "metadata": {},
   "outputs": [
    {
     "data": {
      "text/plain": [
       "True"
      ]
     },
     "execution_count": 107,
     "metadata": {},
     "output_type": "execute_result"
    }
   ],
   "source": [
    "# this will open up a web browser to the web page:\n",
    "\n",
    "import webbrowser\n",
    "\n",
    "webbrowser.open(\"https://www.python.org/\")\n",
    "\n",
    "#webbrowser.open(\"https://www.python.org/\", new=1)\n"
   ]
  },
  {
   "cell_type": "code",
   "execution_count": 108,
   "metadata": {},
   "outputs": [
    {
     "ename": "Error",
     "evalue": "could not locate runnable browser",
     "output_type": "error",
     "traceback": [
      "\u001b[1;31m---------------------------------------------------------------------------\u001b[0m",
      "\u001b[1;31mError\u001b[0m                                     Traceback (most recent call last)",
      "\u001b[1;32m<ipython-input-108-c493b388488c>\u001b[0m in \u001b[0;36m<module>\u001b[1;34m\u001b[0m\n\u001b[0;32m      1\u001b[0m \u001b[1;32mimport\u001b[0m \u001b[0mwebbrowser\u001b[0m\u001b[1;33m\u001b[0m\u001b[1;33m\u001b[0m\u001b[0m\n\u001b[0;32m      2\u001b[0m \u001b[1;33m\u001b[0m\u001b[0m\n\u001b[1;32m----> 3\u001b[1;33m \u001b[0mchrome\u001b[0m \u001b[1;33m=\u001b[0m \u001b[0mwebbrowser\u001b[0m\u001b[1;33m.\u001b[0m\u001b[0mget\u001b[0m\u001b[1;33m(\u001b[0m\u001b[0musing\u001b[0m\u001b[1;33m=\u001b[0m\u001b[1;34m'chrome'\u001b[0m\u001b[1;33m)\u001b[0m\u001b[1;33m\u001b[0m\u001b[1;33m\u001b[0m\u001b[0m\n\u001b[0m\u001b[0;32m      4\u001b[0m \u001b[0mchrome\u001b[0m\u001b[1;33m.\u001b[0m\u001b[0mopen_new\u001b[0m\u001b[1;33m(\u001b[0m\u001b[1;34m\"https://www.python.org/\"\u001b[0m\u001b[1;33m)\u001b[0m\u001b[1;33m\u001b[0m\u001b[1;33m\u001b[0m\u001b[0m\n",
      "\u001b[1;32m~\\anaconda3\\lib\\webbrowser.py\u001b[0m in \u001b[0;36mget\u001b[1;34m(using)\u001b[0m\n\u001b[0;32m     63\u001b[0m             \u001b[1;32melif\u001b[0m \u001b[0mcommand\u001b[0m\u001b[1;33m[\u001b[0m\u001b[1;36m0\u001b[0m\u001b[1;33m]\u001b[0m \u001b[1;32mis\u001b[0m \u001b[1;32mnot\u001b[0m \u001b[1;32mNone\u001b[0m\u001b[1;33m:\u001b[0m\u001b[1;33m\u001b[0m\u001b[1;33m\u001b[0m\u001b[0m\n\u001b[0;32m     64\u001b[0m                 \u001b[1;32mreturn\u001b[0m \u001b[0mcommand\u001b[0m\u001b[1;33m[\u001b[0m\u001b[1;36m0\u001b[0m\u001b[1;33m]\u001b[0m\u001b[1;33m(\u001b[0m\u001b[1;33m)\u001b[0m\u001b[1;33m\u001b[0m\u001b[1;33m\u001b[0m\u001b[0m\n\u001b[1;32m---> 65\u001b[1;33m     \u001b[1;32mraise\u001b[0m \u001b[0mError\u001b[0m\u001b[1;33m(\u001b[0m\u001b[1;34m\"could not locate runnable browser\"\u001b[0m\u001b[1;33m)\u001b[0m\u001b[1;33m\u001b[0m\u001b[1;33m\u001b[0m\u001b[0m\n\u001b[0m\u001b[0;32m     66\u001b[0m \u001b[1;33m\u001b[0m\u001b[0m\n\u001b[0;32m     67\u001b[0m \u001b[1;31m# Please note: the following definition hides a builtin function.\u001b[0m\u001b[1;33m\u001b[0m\u001b[1;33m\u001b[0m\u001b[1;33m\u001b[0m\u001b[0m\n",
      "\u001b[1;31mError\u001b[0m: could not locate runnable browser"
     ]
    }
   ],
   "source": [
    "import webbrowser\n",
    "\n",
    "chrome = webbrowser.get(using='chrome')\n",
    "chrome.open_new(\"https://www.python.org/\")\n"
   ]
  },
  {
   "cell_type": "markdown",
   "metadata": {},
   "source": [
    "<a id='turtle'></a>\n",
    "## turtle"
   ]
  },
  {
   "cell_type": "code",
   "execution_count": 109,
   "metadata": {},
   "outputs": [
    {
     "name": "stdout",
     "output_type": "stream",
     "text": [
      "['Canvas', 'Pen', 'RawPen', 'RawTurtle', 'Screen', 'ScrolledCanvas', 'Shape', 'TK', 'TNavigator', 'TPen', 'Tbuffer', 'Terminator', 'Turtle', 'TurtleGraphicsError', 'TurtleScreen', 'TurtleScreenBase', 'Vec2D', '_CFG', '_LANGUAGE', '_Root', '_Screen', '_TurtleImage', '__all__', '__builtins__', '__cached__', '__doc__', '__file__', '__forwardmethods', '__func_body', '__loader__', '__methodDict', '__methods', '__name__', '__package__', '__spec__', '__stringBody', '_alias_list', '_make_global_funcs', '_screen_docrevise', '_tg_classes', '_tg_screen_functions', '_tg_turtle_functions', '_tg_utilities', '_turtle_docrevise', '_ver', 'addshape', 'back', 'backward', 'begin_fill', 'begin_poly', 'bgcolor', 'bgpic', 'bk', 'bye', 'circle', 'clear', 'clearscreen', 'clearstamp', 'clearstamps', 'clone', 'color', 'colormode', 'config_dict', 'deepcopy', 'degrees', 'delay', 'distance', 'done', 'dot', 'down', 'end_fill', 'end_poly', 'exitonclick', 'fd', 'fillcolor', 'filling', 'forward', 'get_poly', 'get_shapepoly', 'getcanvas', 'getmethparlist', 'getpen', 'getscreen', 'getshapes', 'getturtle', 'goto', 'heading', 'hideturtle', 'home', 'ht', 'inspect', 'isdown', 'isfile', 'isvisible', 'join', 'left', 'listen', 'lt', 'mainloop', 'math', 'mode', 'numinput', 'onclick', 'ondrag', 'onkey', 'onkeypress', 'onkeyrelease', 'onrelease', 'onscreenclick', 'ontimer', 'pd', 'pen', 'pencolor', 'pendown', 'pensize', 'penup', 'pos', 'position', 'pu', 'radians', 'read_docstrings', 'readconfig', 'register_shape', 'reset', 'resetscreen', 'resizemode', 'right', 'rt', 'screensize', 'seth', 'setheading', 'setpos', 'setposition', 'settiltangle', 'setundobuffer', 'setup', 'setworldcoordinates', 'setx', 'sety', 'shape', 'shapesize', 'shapetransform', 'shearfactor', 'showturtle', 'simpledialog', 'speed', 'split', 'st', 'stamp', 'sys', 'textinput', 'tilt', 'tiltangle', 'time', 'title', 'towards', 'tracer', 'turtles', 'turtlesize', 'types', 'undo', 'undobufferentries', 'up', 'update', 'width', 'window_height', 'window_width', 'write', 'write_docstringdict', 'xcor', 'ycor']\n"
     ]
    }
   ],
   "source": [
    "import turtle\n",
    "print(dir(turtle))"
   ]
  },
  {
   "cell_type": "code",
   "execution_count": null,
   "metadata": {},
   "outputs": [],
   "source": [
    "# #do not run this as there appears to be a bug\n",
    "\n",
    "# import turtle\n",
    "# import time\n",
    "\n",
    "# #noinspection PyUnresolvedReferences     #this is for pycharm\n",
    "# turtle.forward(150)\n",
    "# turtle.right(250)\n",
    "# turtle.forward(150)\n",
    "\n",
    "# time.sleep(4)"
   ]
  },
  {
   "cell_type": "code",
   "execution_count": null,
   "metadata": {},
   "outputs": [],
   "source": [
    "# #this works\n",
    "\n",
    "# import turtle\n",
    "\n",
    "# #noinspection PyUnresolvedReferences     #this is for pycharm\n",
    "# turtle.forward(150)\n",
    "# turtle.right(250)\n",
    "# turtle.forward(150)\n",
    "\n",
    "# turtle.done()"
   ]
  },
  {
   "cell_type": "code",
   "execution_count": null,
   "metadata": {},
   "outputs": [],
   "source": [
    "# #this works\n",
    "\n",
    "# from turtle import forward, right, done, circle\n",
    "# # not recommended: \n",
    "# # from turtle import *\n",
    "\n",
    "# #noinspection PyUnresolvedReferences     #this is for pycharm\n",
    "# forward(150)\n",
    "# right(250)  \n",
    "# forward(150)\n",
    "# circle(50)\n",
    "\n",
    "# done()"
   ]
  },
  {
   "cell_type": "code",
   "execution_count": null,
   "metadata": {},
   "outputs": [],
   "source": [
    "# #this is not good:\n",
    "\n",
    "# done = 'Well done!'\n",
    "\n",
    "# from turtle import *\n",
    "\n",
    "# #noinspection PyUnresolvedReferences     #this is for pycharm\n",
    "# forward(150)\n",
    "# right(250)  \n",
    "# forward(150)\n",
    "# circle(50)\n",
    "\n",
    "# done()\n",
    "\n",
    "# print(done)"
   ]
  },
  {
   "cell_type": "markdown",
   "metadata": {},
   "source": [
    "<a id='io'></a>\n",
    "## StringIO Objects and the io Module\n",
    "\n",
    "Previosly, we opened files that exist outside of python, and streamed their contents into an in-memory file object. You can also create in-memory file-like objects within your program that Python treats the same way. Text data is stored in a StringIO object, while binary data would be stored in a BytesIO object. This object can then be used as input or output to most functions that would expect a standard file object.\n",
    "\n",
    "For more info on StringIO check out the documentation: https://docs.python.org/3/library/io.html\n",
    "\n",
    "Let's investigate StringIO objects. The best way to show this is by example:"
   ]
  },
  {
   "cell_type": "code",
   "execution_count": 110,
   "metadata": {},
   "outputs": [
    {
     "name": "stdout",
     "output_type": "stream",
     "text": [
      "['BlockingIOError', 'BufferedIOBase', 'BufferedRWPair', 'BufferedRandom', 'BufferedReader', 'BufferedWriter', 'BytesIO', 'DEFAULT_BUFFER_SIZE', 'FileIO', 'IOBase', 'IncrementalNewlineDecoder', 'OpenWrapper', 'RawIOBase', 'SEEK_CUR', 'SEEK_END', 'SEEK_SET', 'StringIO', 'TextIOBase', 'TextIOWrapper', 'UnsupportedOperation', '_WindowsConsoleIO', '__all__', '__author__', '__builtins__', '__cached__', '__doc__', '__file__', '__loader__', '__name__', '__package__', '__spec__', '_io', 'abc', 'open']\n"
     ]
    }
   ],
   "source": [
    "import io\n",
    "\n",
    "print(dir(io))"
   ]
  },
  {
   "cell_type": "code",
   "execution_count": 111,
   "metadata": {},
   "outputs": [],
   "source": [
    "# Arbitrary String\n",
    "message = 'This is just a normal string.'"
   ]
  },
  {
   "cell_type": "code",
   "execution_count": 112,
   "metadata": {},
   "outputs": [],
   "source": [
    "# Use StringIO method to set as file object\n",
    "f = io.StringIO(message)"
   ]
  },
  {
   "cell_type": "markdown",
   "metadata": {},
   "source": [
    "Now we have an object *f* that we will be able to treat just like a file. For example:"
   ]
  },
  {
   "cell_type": "code",
   "execution_count": 113,
   "metadata": {},
   "outputs": [
    {
     "data": {
      "text/plain": [
       "'This is just a normal string.'"
      ]
     },
     "execution_count": 113,
     "metadata": {},
     "output_type": "execute_result"
    }
   ],
   "source": [
    "f.read()"
   ]
  },
  {
   "cell_type": "markdown",
   "metadata": {},
   "source": [
    "We can also write to it:"
   ]
  },
  {
   "cell_type": "code",
   "execution_count": 114,
   "metadata": {},
   "outputs": [
    {
     "data": {
      "text/plain": [
       "39"
      ]
     },
     "execution_count": 114,
     "metadata": {},
     "output_type": "execute_result"
    }
   ],
   "source": [
    "f.write('Second line written to file like object')"
   ]
  },
  {
   "cell_type": "code",
   "execution_count": 115,
   "metadata": {},
   "outputs": [
    {
     "data": {
      "text/plain": [
       "0"
      ]
     },
     "execution_count": 115,
     "metadata": {},
     "output_type": "execute_result"
    }
   ],
   "source": [
    "# Reset cursor just like you would a file\n",
    "f.seek(0)"
   ]
  },
  {
   "cell_type": "code",
   "execution_count": 116,
   "metadata": {},
   "outputs": [
    {
     "data": {
      "text/plain": [
       "'This is just a normal string.Second line written to file like object'"
      ]
     },
     "execution_count": 116,
     "metadata": {},
     "output_type": "execute_result"
    }
   ],
   "source": [
    "# Read again\n",
    "f.read()"
   ]
  },
  {
   "cell_type": "code",
   "execution_count": 117,
   "metadata": {},
   "outputs": [],
   "source": [
    "# Close the object when contents are no longer needed\n",
    "f.close()"
   ]
  },
  {
   "cell_type": "markdown",
   "metadata": {},
   "source": [
    "Now you've seen how we can use StringIO to turn normal strings into in-memory file objects in our code. This kind of action has various use cases, especially in web scraping cases where you want to read some string you scraped as a file."
   ]
  },
  {
   "cell_type": "markdown",
   "metadata": {},
   "source": [
    "<a id='sys'></a>\n",
    "## sys"
   ]
  },
  {
   "cell_type": "code",
   "execution_count": 118,
   "metadata": {},
   "outputs": [
    {
     "name": "stdout",
     "output_type": "stream",
     "text": [
      "['__breakpointhook__', '__displayhook__', '__doc__', '__excepthook__', '__interactivehook__', '__loader__', '__name__', '__package__', '__spec__', '__stderr__', '__stdin__', '__stdout__', '_base_executable', '_clear_type_cache', '_current_frames', '_debugmallocstats', '_enablelegacywindowsfsencoding', '_framework', '_getframe', '_git', '_home', '_xoptions', 'api_version', 'argv', 'base_exec_prefix', 'base_prefix', 'breakpointhook', 'builtin_module_names', 'byteorder', 'call_tracing', 'callstats', 'copyright', 'displayhook', 'dllhandle', 'dont_write_bytecode', 'exc_info', 'excepthook', 'exec_prefix', 'executable', 'exit', 'flags', 'float_info', 'float_repr_style', 'get_asyncgen_hooks', 'get_coroutine_origin_tracking_depth', 'get_coroutine_wrapper', 'getallocatedblocks', 'getcheckinterval', 'getdefaultencoding', 'getfilesystemencodeerrors', 'getfilesystemencoding', 'getprofile', 'getrecursionlimit', 'getrefcount', 'getsizeof', 'getswitchinterval', 'gettrace', 'getwindowsversion', 'hash_info', 'hexversion', 'implementation', 'int_info', 'intern', 'is_finalizing', 'last_traceback', 'last_type', 'last_value', 'maxsize', 'maxunicode', 'meta_path', 'modules', 'path', 'path_hooks', 'path_importer_cache', 'platform', 'prefix', 'ps1', 'ps2', 'ps3', 'set_asyncgen_hooks', 'set_coroutine_origin_tracking_depth', 'set_coroutine_wrapper', 'setcheckinterval', 'setprofile', 'setrecursionlimit', 'setswitchinterval', 'settrace', 'stderr', 'stdin', 'stdout', 'thread_info', 'version', 'version_info', 'warnoptions', 'winver']\n"
     ]
    }
   ],
   "source": [
    "import sys\n",
    "\n",
    "# help(sys)\n",
    "# sys.path\n",
    "print(dir(sys))"
   ]
  },
  {
   "cell_type": "code",
   "execution_count": 119,
   "metadata": {},
   "outputs": [
    {
     "name": "stdout",
     "output_type": "stream",
     "text": [
      "big_range is 48 bytes\n",
      "big_list is 9024 bytes\n"
     ]
    }
   ],
   "source": [
    "import sys\n",
    "\n",
    "big_range = range(1000)\n",
    "\n",
    "print(\"big_range is {} bytes\".format(sys.getsizeof(big_range)))\n",
    "\n",
    "# create a list containing all the values in big_range\n",
    "big_list = []\n",
    "\n",
    "for val in big_range:\n",
    "    big_list.append(val)\n",
    "\n",
    "print(\"big_list is {} bytes\".format(sys.getsizeof(big_list)))"
   ]
  }
 ],
 "metadata": {
  "kernelspec": {
   "display_name": "Python 3",
   "language": "python",
   "name": "python3"
  },
  "language_info": {
   "codemirror_mode": {
    "name": "ipython",
    "version": 3
   },
   "file_extension": ".py",
   "mimetype": "text/x-python",
   "name": "python",
   "nbconvert_exporter": "python",
   "pygments_lexer": "ipython3",
   "version": "3.7.6"
  }
 },
 "nbformat": 4,
 "nbformat_minor": 1
}
