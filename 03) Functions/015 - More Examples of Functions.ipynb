{
 "cells": [
  {
   "cell_type": "markdown",
   "metadata": {},
   "source": [
    "## Examples"
   ]
  },
  {
   "cell_type": "code",
   "execution_count": 1,
   "metadata": {},
   "outputs": [
    {
     "name": "stdout",
     "output_type": "stream",
     "text": [
      "0 1 1 2 3 5 8 13 21 34 55 89 144 233 377 610 987 1597 \n"
     ]
    }
   ],
   "source": [
    "# write Fibonacci series up to n\n",
    "def fib(n):    \n",
    "    \"\"\"Print a Fibonacci series up to n.\"\"\"\n",
    "    a, b = 0, 1\n",
    "    while a < n:\n",
    "        print(a, end=' ')\n",
    "        a, b = b, a+b\n",
    "    print()\n",
    "    \n",
    "# Now call the function we just defined:\n",
    "fib(2000)"
   ]
  },
  {
   "cell_type": "code",
   "execution_count": 2,
   "metadata": {},
   "outputs": [
    {
     "name": "stdout",
     "output_type": "stream",
     "text": [
      "4\n",
      "5\n"
     ]
    },
    {
     "data": {
      "text/plain": [
       "2"
      ]
     },
     "execution_count": 2,
     "metadata": {},
     "output_type": "execute_result"
    }
   ],
   "source": [
    "#Write a function that takes the minimum of the absolute value of 2 numbers\n",
    "def take_minimum2(x, y):\n",
    "    x,y = abs(x), abs(y)\n",
    "    if x > y:\n",
    "        return y\n",
    "    \n",
    "    elif x != y:\n",
    "        return x\n",
    "    else:\n",
    "        print('Please input different numbers')\n",
    "\n",
    "print(take_minimum2(10, -4))\n",
    "\n",
    "minimum = take_minimum2(5,10)\n",
    "print(minimum)\n",
    "\n",
    "take_minimum2(take_minimum2(5,10), 2)"
   ]
  },
  {
   "cell_type": "code",
   "execution_count": 3,
   "metadata": {},
   "outputs": [
    {
     "data": {
      "text/plain": [
       "5"
      ]
     },
     "execution_count": 3,
     "metadata": {},
     "output_type": "execute_result"
    }
   ],
   "source": [
    "#Write a function that takes the minimum of the absolute value of 3 numbers\n",
    "def take_minimum1(x, y, z):\n",
    "    my_list = [abs(x), abs(y), abs(z)]\n",
    "    return min(my_list)\n",
    "    \n",
    "#take the minimum of the absolute value of 3 numbers \n",
    "take_minimum1(100,5,-60)"
   ]
  },
  {
   "cell_type": "code",
   "execution_count": 4,
   "metadata": {},
   "outputs": [
    {
     "data": {
      "text/plain": [
       "10"
      ]
     },
     "execution_count": 4,
     "metadata": {},
     "output_type": "execute_result"
    }
   ],
   "source": [
    "#Write a function that takes the maximum of the absolute value of 2 numbers\n",
    "def take_maximum1(x, y):\n",
    "    x,y = abs(x), abs(y)\n",
    "    if x > y:\n",
    "        return x\n",
    "    \n",
    "    elif x != y:\n",
    "        return y\n",
    "    else:\n",
    "        print('Please input different numbers')\n",
    "\n",
    "take_maximum1(10, -4)        "
   ]
  },
  {
   "cell_type": "code",
   "execution_count": 5,
   "metadata": {},
   "outputs": [
    {
     "data": {
      "text/plain": [
       "100"
      ]
     },
     "execution_count": 5,
     "metadata": {},
     "output_type": "execute_result"
    }
   ],
   "source": [
    "#Write a function that takes the maximum of the absolute value of 3 numbers\n",
    "def take_maximum2(x, y, z):\n",
    "    my_list = [abs(x), abs(y), abs(z)]\n",
    "    return max(my_list)\n",
    "    \n",
    "#take the minimum of the absolute value of 3 numbers \n",
    "take_maximum2(100,5,-60)"
   ]
  },
  {
   "cell_type": "code",
   "execution_count": 6,
   "metadata": {},
   "outputs": [
    {
     "data": {
      "text/plain": [
       "True"
      ]
     },
     "execution_count": 6,
     "metadata": {},
     "output_type": "execute_result"
    }
   ],
   "source": [
    "#write a function that checks if the first parameter is divisible by the second parameter\n",
    "\n",
    "def is_divisible(x,y):\n",
    "    if (x % y ==0): #& (y % x ==0):\n",
    "        #check if divisible\n",
    "        return True\n",
    "    else:\n",
    "        return False\n",
    "    \n",
    "is_divisible(12,6)"
   ]
  },
  {
   "cell_type": "code",
   "execution_count": 7,
   "metadata": {},
   "outputs": [
    {
     "data": {
      "text/plain": [
       "[1, 2, 43, 12, 5, 4, 10]"
      ]
     },
     "execution_count": 7,
     "metadata": {},
     "output_type": "execute_result"
    }
   ],
   "source": [
    "my_list = [1,2,43,12,5,1,2,4,5,1,2,10]\n",
    "# Write a function that takes a list and returns all of the unique elements in the list\n",
    "#my_list=sorted(my_list)\n",
    "\n",
    "def unique_elements1(input_list):\n",
    "    unique_list = []\n",
    "    for i in input_list:\n",
    "        if i in unique_list:\n",
    "            pass\n",
    "        else:\n",
    "            unique_list.append(i)\n",
    "    \n",
    "    return unique_list\n",
    "\n",
    "unique_elements1(my_list)"
   ]
  },
  {
   "cell_type": "code",
   "execution_count": 8,
   "metadata": {},
   "outputs": [
    {
     "data": {
      "text/plain": [
       "[1, 2, 4, 5, 10, 12, 43]"
      ]
     },
     "execution_count": 8,
     "metadata": {},
     "output_type": "execute_result"
    }
   ],
   "source": [
    "my_list = [1,2,43,12,5,1,2,4,5,1,2,10]\n",
    "# Write a function that takes a list and returns all of the unique elements in the list\n",
    "#my_list=sorted(my_list)\n",
    "\n",
    "def unique_elements2(input_list):\n",
    "    unique_list = []\n",
    "    for i in input_list:\n",
    "        if i not in unique_list:\n",
    "            unique_list.append(i)\n",
    "        else:\n",
    "            continue\n",
    "    \n",
    "    return sorted(unique_list)\n",
    "\n",
    "unique_elements2(my_list)"
   ]
  },
  {
   "cell_type": "code",
   "execution_count": 9,
   "metadata": {},
   "outputs": [
    {
     "data": {
      "text/plain": [
       "{1, 2, 4, 5, 10, 12, 43}"
      ]
     },
     "execution_count": 9,
     "metadata": {},
     "output_type": "execute_result"
    }
   ],
   "source": [
    "#this confirms both methods work\n",
    "set(my_list)"
   ]
  },
  {
   "cell_type": "markdown",
   "metadata": {},
   "source": [
    "## Example"
   ]
  },
  {
   "cell_type": "code",
   "execution_count": 10,
   "metadata": {},
   "outputs": [
    {
     "name": "stdout",
     "output_type": "stream",
     "text": [
      "hello world\n",
      "100\n"
     ]
    },
    {
     "ename": "TypeError",
     "evalue": "my_function() missing 1 required positional argument: 'x'",
     "output_type": "error",
     "traceback": [
      "\u001b[1;31m---------------------------------------------------------------------------\u001b[0m",
      "\u001b[1;31mTypeError\u001b[0m                                 Traceback (most recent call last)",
      "\u001b[1;32m<ipython-input-10-f43c47ca54f3>\u001b[0m in \u001b[0;36m<module>\u001b[1;34m\u001b[0m\n\u001b[0;32m      5\u001b[0m \u001b[0mmy_function\u001b[0m\u001b[1;33m(\u001b[0m\u001b[1;34m'hello world'\u001b[0m\u001b[1;33m)\u001b[0m\u001b[1;33m\u001b[0m\u001b[1;33m\u001b[0m\u001b[0m\n\u001b[0;32m      6\u001b[0m \u001b[0mmy_function\u001b[0m\u001b[1;33m(\u001b[0m\u001b[1;36m100\u001b[0m\u001b[1;33m)\u001b[0m\u001b[1;33m\u001b[0m\u001b[1;33m\u001b[0m\u001b[0m\n\u001b[1;32m----> 7\u001b[1;33m \u001b[0mmy_function\u001b[0m\u001b[1;33m(\u001b[0m\u001b[1;33m)\u001b[0m\u001b[1;33m\u001b[0m\u001b[1;33m\u001b[0m\u001b[0m\n\u001b[0m\u001b[0;32m      8\u001b[0m \u001b[1;33m\u001b[0m\u001b[0m\n\u001b[0;32m      9\u001b[0m \u001b[1;31m# x is referred to as a parameter while 'hello world' is referred to as an argument\u001b[0m\u001b[1;33m\u001b[0m\u001b[1;33m\u001b[0m\u001b[1;33m\u001b[0m\u001b[0m\n",
      "\u001b[1;31mTypeError\u001b[0m: my_function() missing 1 required positional argument: 'x'"
     ]
    }
   ],
   "source": [
    "#how to create a simple function that requires 1 input parameter when being used\n",
    "def my_function(x):\n",
    "    print(x)\n",
    "    \n",
    "my_function('hello world')\n",
    "my_function(100)\n",
    "my_function()\n",
    "\n",
    "# x is referred to as a parameter while 'hello world' is referred to as an argument"
   ]
  },
  {
   "cell_type": "markdown",
   "metadata": {},
   "source": [
    "## Example"
   ]
  },
  {
   "cell_type": "code",
   "execution_count": 11,
   "metadata": {},
   "outputs": [
    {
     "name": "stdout",
     "output_type": "stream",
     "text": [
      "You've purchased a Hanging Planter.\n",
      "Thank you for your order. There will be a $5.00 shipping charge for this order.\n",
      "You've purchased a Shell Mirror.\n",
      "Thank you for your order. There will be a $5.00 shipping charge for this order.\n",
      "You've purchased a Modern Shag Rug.\n",
      "Thank you for your order. There will be a $5.00 shipping charge for this order.\n"
     ]
    }
   ],
   "source": [
    "def print_order():\n",
    "    print(\"Thank you for your order. There will be a $5.00 shipping charge for this order.\")\n",
    "\n",
    "#customer 1\n",
    "print(\"You've purchased a Hanging Planter.\")\n",
    "print_order()\n",
    "\n",
    "#customer 2\n",
    "print(\"You've purchased a Shell Mirror.\")\n",
    "print_order()\n",
    "\n",
    "#customer 3\n",
    "print(\"You've purchased a Modern Shag Rug.\")\n",
    "print_order()"
   ]
  },
  {
   "cell_type": "code",
   "execution_count": 12,
   "metadata": {},
   "outputs": [
    {
     "name": "stdout",
     "output_type": "stream",
     "text": [
      "You've purchased a Hanging Planter.\n",
      "Thank you for your order. There will be a $5.00 shipping charge for this order.\n",
      "You've purchased a Shell Mirror.\n",
      "Thank you for your order. There will be a $5.00 shipping charge for this order.\n",
      "You've purchased a Modern Shag Rug.\n",
      "Thank you for your order. There will be a $5.00 shipping charge for this order.\n"
     ]
    }
   ],
   "source": [
    "def print_order(product):\n",
    "    print(\"You've purchased a %s.\" % product)\n",
    "    print(\"Thank you for your order. There will be a $5.00 shipping charge for this order.\")\n",
    "#    print()\n",
    "    \n",
    "#customer 1\n",
    "print_order(\"Hanging Planter\")\n",
    "\n",
    "#customer 2\n",
    "print_order('Shell Mirror')\n",
    "\n",
    "#customer 3\n",
    "print_order('Modern Shag Rug')"
   ]
  },
  {
   "cell_type": "code",
   "execution_count": 13,
   "metadata": {},
   "outputs": [
    {
     "name": "stdout",
     "output_type": "stream",
     "text": [
      "Thank you for ordering the hanger.\n",
      "There will be a $5.00 shipping charge for this order.\n",
      "Thank you for ordering the plant.\n",
      "Its your lucky day? There is no shipping charge for orders over $30.00\n"
     ]
    }
   ],
   "source": [
    "def shopp_details(product, order_amount):\n",
    "    print('Thank you for ordering the', product + \".\")\n",
    "    #print('Thank you for ordering the', product, end=\".\\n\")\n",
    "    if order_amount >= 30:\n",
    "        print('Its your lucky day? There is no shipping charge for orders over $30.00')\n",
    "    \n",
    "    else:\n",
    "        print('There will be a $5.00 shipping charge for this order.')\n",
    "\n",
    "shopp_details('hanger', 20)\n",
    "shopp_details('plant', 40)"
   ]
  },
  {
   "cell_type": "markdown",
   "metadata": {},
   "source": [
    "## Examples"
   ]
  },
  {
   "cell_type": "code",
   "execution_count": 14,
   "metadata": {},
   "outputs": [
    {
     "name": "stdout",
     "output_type": "stream",
     "text": [
      "2\n",
      "3\n"
     ]
    }
   ],
   "source": [
    "def smallest_prime_factor(x):\n",
    "    \"\"\"Returns the smallest prime number that is a divisor or x\"\"\"\n",
    "    # start checking with 2, then move up one by one\n",
    "    \n",
    "    n = 2\n",
    "    while n <= x:\n",
    "        if x % n == 0:\n",
    "            return n\n",
    "        else:\n",
    "            n += 1\n",
    "            \n",
    "print(smallest_prime_factor(12))   # should be 2\n",
    "print(smallest_prime_factor(15))   # should be 3"
   ]
  },
  {
   "cell_type": "code",
   "execution_count": 15,
   "metadata": {},
   "outputs": [
    {
     "name": "stdout",
     "output_type": "stream",
     "text": [
      "High!\n"
     ]
    }
   ],
   "source": [
    "#Let’s write a function together, high_low, that prints “High!” if \n",
    "# a variable my_number is greater than 10 and “Low!” if it isn’t.\n",
    "\n",
    "my_number = 15\n",
    "\n",
    "def high_low():\n",
    "    if my_number > 10:\n",
    "        print('High!')\n",
    "    \n",
    "    # elif my_number < 10:\n",
    "     #   print('Low!')   \n",
    "    else:\n",
    "        print('low!')\n",
    "        \n",
    "high_low()"
   ]
  },
  {
   "cell_type": "code",
   "execution_count": 16,
   "metadata": {},
   "outputs": [
    {
     "name": "stdout",
     "output_type": "stream",
     "text": [
      "low!\n",
      "High!\n"
     ]
    }
   ],
   "source": [
    "#the function now requires an input number to run the function\n",
    "def high_low(number):\n",
    "    if number > 10:\n",
    "        print('High!')\n",
    "    else:\n",
    "        print('low!')\n",
    "        \n",
    "high_low(7)\n",
    "high_low(20)"
   ]
  },
  {
   "cell_type": "markdown",
   "metadata": {},
   "source": [
    "## Fizzbuzz Examples"
   ]
  },
  {
   "cell_type": "raw",
   "metadata": {},
   "source": [
    "write a program that prints the numbers from 1 to 101.\n",
    "But, for multiples of three, print “Fizz” instead of the number.\n",
    "For multiples of five, print “Buzz”.\n",
    "For numbers which are multiples of both three and five, print “FizzBuzz”."
   ]
  },
  {
   "cell_type": "code",
   "execution_count": 17,
   "metadata": {},
   "outputs": [
    {
     "name": "stdout",
     "output_type": "stream",
     "text": [
      "1\n",
      "2\n",
      "Fizz\n",
      "4\n",
      "Buzz\n",
      "Fizz\n",
      "7\n",
      "8\n",
      "Fizz\n",
      "Buzz\n",
      "11\n",
      "Fizz\n",
      "13\n",
      "14\n",
      "FizzBuzz\n",
      "16\n",
      "17\n",
      "Fizz\n",
      "19\n"
     ]
    }
   ],
   "source": [
    "# without using a function\n",
    "\n",
    "num_range = range(1,20)\n",
    "\n",
    "#for number in range(1,20):\n",
    "for number in num_range:\n",
    "    if (number % 3 == 0) and (number % 5 == 0):\n",
    "        print('FizzBuzz')\n",
    "    elif number % 3 == 0:\n",
    "        print('Fizz')\n",
    "    elif number % 5 == 0:\n",
    "        print('Buzz')\n",
    "    else:\n",
    "        print(number)"
   ]
  },
  {
   "cell_type": "code",
   "execution_count": 18,
   "metadata": {},
   "outputs": [
    {
     "name": "stdout",
     "output_type": "stream",
     "text": [
      "1\n",
      "2\n",
      "Fizz\n",
      "4\n",
      "Buzz\n",
      "Fizz\n",
      "7\n",
      "8\n",
      "Fizz\n",
      "Buzz\n",
      "11\n",
      "Fizz\n",
      "13\n",
      "14\n",
      "FizzBuzz\n",
      "16\n",
      "17\n",
      "Fizz\n",
      "19\n"
     ]
    }
   ],
   "source": [
    "# Method 1\n",
    "def fizzbuzz(n):\n",
    "    \n",
    "    #x = range(1, n)\n",
    "    #for number in x:\n",
    "    \n",
    "    for number in range(1, n):\n",
    "        if (number % 3 == 0) and (number % 5 == 0):\n",
    "            print('FizzBuzz')\n",
    "        elif number % 3 == 0:\n",
    "            print('Fizz')\n",
    "        elif number % 5 == 0:\n",
    "            print('Buzz')\n",
    "        else:\n",
    "            print(number)\n",
    "\n",
    "fizzbuzz(20)"
   ]
  },
  {
   "cell_type": "code",
   "execution_count": 19,
   "metadata": {},
   "outputs": [
    {
     "name": "stdout",
     "output_type": "stream",
     "text": [
      "1\n",
      "2\n",
      "Fizz\n",
      "4\n",
      "Buzz\n",
      "Fizz\n",
      "7\n",
      "8\n",
      "Fizz\n",
      "Buzz\n",
      "11\n",
      "Fizz\n",
      "13\n",
      "14\n",
      "FizzBuzz\n",
      "16\n",
      "17\n",
      "Fizz\n",
      "19\n"
     ]
    }
   ],
   "source": [
    "#Method 2\n",
    "\n",
    "def print_fizzbuzz(number):\n",
    "    if (number % 3 == 0) and (number % 5 == 0):\n",
    "        print('FizzBuzz')\n",
    "    elif number % 3 == 0:\n",
    "        print('Fizz')\n",
    "    elif number % 5 == 0:\n",
    "        print('Buzz')\n",
    "    else:\n",
    "        print(number)\n",
    "\n",
    "number_list = range(1,20)\n",
    "\n",
    "for number in number_list:\n",
    "    print_fizzbuzz(number)"
   ]
  },
  {
   "cell_type": "code",
   "execution_count": 20,
   "metadata": {},
   "outputs": [
    {
     "name": "stdout",
     "output_type": "stream",
     "text": [
      "['1', '2', 'fizz', '4', 'buzz', 'fizz', '7', '8', 'fizz', 'buzz', '11', 'fizz', '13', '14', 'fizz buzz', '16', '17', 'fizz', '19']\n",
      "1\n",
      "2\n",
      "fizz\n",
      "4\n",
      "buzz\n",
      "fizz\n",
      "7\n",
      "8\n",
      "fizz\n",
      "buzz\n",
      "11\n",
      "fizz\n",
      "13\n",
      "14\n",
      "fizz buzz\n",
      "16\n",
      "17\n",
      "fizz\n",
      "19\n",
      "1-2-fizz-4-buzz-fizz-7-8-fizz-buzz-11-fizz-13-14-fizz buzz-16-17-fizz-19\n"
     ]
    }
   ],
   "source": [
    "# Method 3\n",
    "def fizzbuzz(n):\n",
    "    result = []\n",
    "    for x in range(1, n):\n",
    "        if x % 3 == 0 and x % 5 == 0:\n",
    "            result.append(\"fizz buzz\")\n",
    "        elif x % 3 == 0:\n",
    "            result.append('fizz')\n",
    "        elif x % 5 == 0:\n",
    "            result.append('buzz')\n",
    "        else:\n",
    "            result.append(str(x))\n",
    "    return result\n",
    "\n",
    "print(fizzbuzz(20))\n",
    "#fizzbuzz(20)\n",
    "\n",
    "for _ in fizzbuzz(20):\n",
    "    print(_)\n",
    "\n",
    "\n",
    "def main():\n",
    "    print('-'.join(fizzbuzz(20)))\n",
    "\n",
    "main()\n"
   ]
  },
  {
   "cell_type": "markdown",
   "metadata": {},
   "source": [
    "## Example"
   ]
  },
  {
   "cell_type": "code",
   "execution_count": 21,
   "metadata": {},
   "outputs": [
    {
     "name": "stdout",
     "output_type": "stream",
     "text": [
      "The total is $6.05.\n",
      "The total is $5.225."
     ]
    }
   ],
   "source": [
    "def latte_total():\n",
    "    price = 5.50\n",
    "    sales_tax_rate = .10\n",
    "    total_amount = price + (price * sales_tax_rate)\n",
    "    print(\"The total is $\" + str(total_amount), end='.\\n')\n",
    "\n",
    "latte_total()\n",
    "\n",
    "def americano_total():\n",
    "    price = 4.75\n",
    "    sales_tax_rate = .10\n",
    "    total_amount = price + (price * sales_tax_rate)\n",
    "    print(\"The total is $\" + str(total_amount), end='.')\n",
    "\n",
    "americano_total()"
   ]
  },
  {
   "cell_type": "code",
   "execution_count": 22,
   "metadata": {},
   "outputs": [
    {
     "name": "stdout",
     "output_type": "stream",
     "text": [
      "$6.05\n",
      "The total is $6.05.\n",
      "$5.225\n",
      "The total is $5.225.\n"
     ]
    }
   ],
   "source": [
    "def calculate_total(price):\n",
    "    tax_rate = 0.10\n",
    "\n",
    "#   total_price = price * (1 + tax_rate)\n",
    "    total_price = price + (price * tax_rate)\n",
    "    \n",
    "    print('$' + str(total_price))\n",
    "    print('The total is $' + str(total_price) + '.')\n",
    "    \n",
    "calculate_total(5.5) # This will print 6.05.\n",
    "calculate_total(4.75) # This will print 5.225."
   ]
  },
  {
   "cell_type": "code",
   "execution_count": 23,
   "metadata": {},
   "outputs": [
    {
     "name": "stdout",
     "output_type": "stream",
     "text": [
      "5.4\n",
      "5.5\n",
      "5.4\n",
      "The total price, including a tax rate of 8.0%, is $5.40.\n"
     ]
    }
   ],
   "source": [
    "def calculate_total(sale_price, tax_rate):\n",
    "    total_price = sale_price * (1 + tax_rate)\n",
    "    print(total_price)\n",
    "    \n",
    "calculate_total(5, .08)\n",
    "calculate_total(5, .10)\n",
    "\n",
    "def calculate_total(sale_price, tax_rate):\n",
    "    total_price = sale_price * (1 + tax_rate) \n",
    "    #perc_tax = int((tax_rate * 100))\n",
    "    perc_tax = (tax_rate * 100)\n",
    "\n",
    "    print(total_price)\n",
    "    print(\"The total price, including a tax rate of\", \n",
    "          str(perc_tax) + \"%,\", \"is $%.2f.\" % total_price)\n",
    "\n",
    "calculate_total(5, .08)"
   ]
  },
  {
   "cell_type": "markdown",
   "metadata": {},
   "source": [
    "## Example"
   ]
  },
  {
   "cell_type": "code",
   "execution_count": 24,
   "metadata": {},
   "outputs": [
    {
     "name": "stdout",
     "output_type": "stream",
     "text": [
      "Converted temp 26 -> 299\n",
      "It's just right!\n"
     ]
    }
   ],
   "source": [
    "#Celsius to Kelvin : K = °C + 273\n",
    "#Fahrenheit to Kelvin : K = (5/9) * (°F - 32) + 273\n",
    "\n",
    "def convert_temp(temp, scale):\n",
    "    if scale == 'Celsius':\n",
    "        new_temp = temp + 273\n",
    "    \n",
    "    else:\n",
    "        new_temp = (5/9) * (temp - 32) + 273\n",
    "    print('Converted temp', temp, '->', new_temp)    \n",
    "    return new_temp\n",
    "\n",
    "temperature = convert_temp(26, 'Celsius')\n",
    "\n",
    "if temperature > 299:\n",
    "    print(\"It's too hot!\")\n",
    "elif temperature <= 299 and temperature > 288:\n",
    "    print(\"It's just right!\")\n",
    "elif temperature <= 288 and temperature > 277:\n",
    "    print(\"It's pretty cold!\")\n",
    "else:\n",
    "    print(\"It's freezing!\")"
   ]
  },
  {
   "cell_type": "code",
   "execution_count": 25,
   "metadata": {},
   "outputs": [
    {
     "name": "stdout",
     "output_type": "stream",
     "text": [
      "Converted temp 26 -> 299\n",
      "It's just right!\n"
     ]
    }
   ],
   "source": [
    "#Celsius to Kelvin : K = °C + 273\n",
    "#Fahrenheit to Kelvin : K = (5/9) * (°F - 32) + 273\n",
    "\n",
    "def convert_temp(temp, scale='Celsius'):\n",
    "    if scale == 'Celsius':\n",
    "        new_temp = temp + 273\n",
    "    \n",
    "    else:\n",
    "        new_temp = (5/9) * (temp - 32) + 273\n",
    "    print('Converted temp', temp, '->', new_temp)    \n",
    "    return new_temp\n",
    "\n",
    "temperature = convert_temp(26, 'Celsius')\n",
    "\n",
    "if temperature > 299:\n",
    "    print(\"It's too hot!\")\n",
    "elif temperature <= 299 and temperature > 288:\n",
    "    print(\"It's just right!\")\n",
    "elif temperature <= 288 and temperature > 277:\n",
    "    print(\"It's pretty cold!\")\n",
    "else:\n",
    "    print(\"It's freezing!\")"
   ]
  },
  {
   "cell_type": "code",
   "execution_count": 26,
   "metadata": {},
   "outputs": [
    {
     "name": "stdout",
     "output_type": "stream",
     "text": [
      "Converted temp 60 -> 333\n"
     ]
    },
    {
     "data": {
      "text/plain": [
       "333"
      ]
     },
     "execution_count": 26,
     "metadata": {},
     "output_type": "execute_result"
    }
   ],
   "source": [
    "convert_temp(60)"
   ]
  },
  {
   "cell_type": "markdown",
   "metadata": {},
   "source": [
    "## Example"
   ]
  },
  {
   "cell_type": "code",
   "execution_count": 27,
   "metadata": {},
   "outputs": [
    {
     "data": {
      "text/plain": [
       "0.016666666666666666"
      ]
     },
     "execution_count": 27,
     "metadata": {},
     "output_type": "execute_result"
    }
   ],
   "source": [
    "my_list = [20,2,3,10,20]\n",
    "\n",
    "def divide_all1(input_list):\n",
    "    sorted_list = sorted(input_list,reverse=True)\n",
    "    first_element = sorted_list[0]\n",
    "    counter = 0\n",
    "    for i in sorted_list:\n",
    "        if counter == 0:\n",
    "            counter += 1\n",
    "            solution = first_element\n",
    "        else:\n",
    "            solution = solution / i\n",
    "    return solution\n",
    "divide_all1(my_list)"
   ]
  },
  {
   "cell_type": "code",
   "execution_count": 28,
   "metadata": {},
   "outputs": [
    {
     "data": {
      "text/plain": [
       "0.016666666666666666"
      ]
     },
     "execution_count": 28,
     "metadata": {},
     "output_type": "execute_result"
    }
   ],
   "source": [
    "my_list = [20,2,3,10,20]\n",
    "\n",
    "def divide_all2(input_list):\n",
    "    sorted_list = sorted(input_list, reverse = True)\n",
    "    \n",
    "    counter = 0\n",
    "    for i in sorted_list:\n",
    "        if counter == 0:\n",
    "            solution = i / 1\n",
    "            counter += 1\n",
    "        else:\n",
    "            solution = solution / i\n",
    "    return solution\n",
    "\n",
    "divide_all2(my_list)"
   ]
  },
  {
   "cell_type": "markdown",
   "metadata": {},
   "source": [
    "##  Examples"
   ]
  },
  {
   "cell_type": "code",
   "execution_count": 29,
   "metadata": {},
   "outputs": [
    {
     "name": "stdout",
     "output_type": "stream",
     "text": [
      "Hello Bruce Wayne born in 1939 from Gotham!\n",
      "Hello Bruce 1939 born in Gotham from Wayne!\n"
     ]
    }
   ],
   "source": [
    "def greet_user(firstName, lastName, year, city):\n",
    "#def greet_user(firstName='', lastName='', year=0, city=''):\n",
    "  print(\"Hello\", firstName, lastName, \"born in\", year, \"from\", city + \"!\")\n",
    "\n",
    "#order matters and is based on the first line\n",
    "greet_user(\"Bruce\", \"Wayne\", 1939, \"Gotham\")\n",
    "greet_user(\"Bruce\", 1939, \"Gotham\", \"Wayne\")"
   ]
  },
  {
   "cell_type": "code",
   "execution_count": 30,
   "metadata": {},
   "outputs": [
    {
     "name": "stdout",
     "output_type": "stream",
     "text": [
      "55\n"
     ]
    }
   ],
   "source": [
    "def add_bonus_points(score):\n",
    "    if score > 50:\n",
    "        return score + 10\n",
    "    score += 20\n",
    "    return score\n",
    "total_points = add_bonus_points(35)\n",
    "print(total_points)"
   ]
  },
  {
   "cell_type": "code",
   "execution_count": 31,
   "metadata": {},
   "outputs": [
    {
     "name": "stdout",
     "output_type": "stream",
     "text": [
      "Now playing:  It's only Rock 'N' Roll  by  Rolling Stones\n"
     ]
    }
   ],
   "source": [
    "def rock_and_roll(muted):\n",
    "    song = \"It's only Rock 'N' Roll\"\n",
    "    artist = \"Rolling Stones\"\n",
    "\n",
    "    #muted is now a boolean object\n",
    "    if (muted == True):\n",
    "        return\n",
    "       # Here, we use return as a way to exit a function\n",
    "       # We don't actually return any value.\n",
    "    print(\"Now playing: \", song, \" by \", artist)\n",
    "\n",
    "rock_and_roll(True)  #this exits the funciton early\n",
    "rock_and_roll(False)"
   ]
  }
 ],
 "metadata": {
  "kernelspec": {
   "display_name": "Python 3",
   "language": "python",
   "name": "python3"
  },
  "language_info": {
   "codemirror_mode": {
    "name": "ipython",
    "version": 3
   },
   "file_extension": ".py",
   "mimetype": "text/x-python",
   "name": "python",
   "nbconvert_exporter": "python",
   "pygments_lexer": "ipython3",
   "version": "3.7.6"
  }
 },
 "nbformat": 4,
 "nbformat_minor": 2
}
