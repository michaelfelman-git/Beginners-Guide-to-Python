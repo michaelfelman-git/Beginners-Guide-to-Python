{
 "cells": [
  {
   "cell_type": "markdown",
   "metadata": {},
   "source": [
    "<h1 align=\"center\">SETS</h1>\n",
    "<h2 align=\"left\"><u>Lesson Guide</u></h2>\n",
    "\n",
    "- [CONSTRUCTING SETS](#construct)\n",
    "- [BASIC BUILT-IN SET METHODS](#methods)\n",
    "    - [Add & Update](#add)\n",
    "    - [Discard & Remove](#discard)\n",
    "- [MATHEMATICAL SET OPERATIONS](#maths)\n",
    "- [COMPARATIVE EXAMPLES](#comp_examples)\n",
    "- [EXAMPLES](#examples)"
   ]
  },
  {
   "cell_type": "markdown",
   "metadata": {},
   "source": [
    "Sets are an unordered collection of *unique* elements. We can construct them by using the set() function. Sets connot be indexed or sliced.\n",
    "\n",
    "<ins>Documentation</ins><br>\n",
    "https://docs.python.org/3/library/stdtypes.html#set-types-set-frozenset        \n",
    "https://docs.python.org/3/tutorial/datastructures.html#sets   "
   ]
  },
  {
   "cell_type": "markdown",
   "metadata": {},
   "source": [
    "**Lists**:\n",
    "- The original, normal object.\n",
    "- Created with [].\n",
    "- append(), insert(index), pop(), pop(index).\n",
    "- Duplicates and mutable.\n",
    "\n",
    "**Sets**:\n",
    "- Lists without duplicates.\n",
    "- Created with {} or with set(my_list).\n",
    "- add() and remove(element).\n",
    "\n",
    "**Tuples**:\n",
    "- Has duplicates, but immutable. Cannot be changed"
   ]
  },
  {
   "cell_type": "code",
   "execution_count": 1,
   "metadata": {
    "scrolled": true
   },
   "outputs": [
    {
     "name": "stdout",
     "output_type": "stream",
     "text": [
      "['__and__', '__class__', '__contains__', '__delattr__', '__dir__', '__doc__', '__eq__', '__format__', '__ge__', '__getattribute__', '__gt__', '__hash__', '__iand__', '__init__', '__init_subclass__', '__ior__', '__isub__', '__iter__', '__ixor__', '__le__', '__len__', '__lt__', '__ne__', '__new__', '__or__', '__rand__', '__reduce__', '__reduce_ex__', '__repr__', '__ror__', '__rsub__', '__rxor__', '__setattr__', '__sizeof__', '__str__', '__sub__', '__subclasshook__', '__xor__', 'add', 'clear', 'copy', 'difference', 'difference_update', 'discard', 'intersection', 'intersection_update', 'isdisjoint', 'issubset', 'issuperset', 'pop', 'remove', 'symmetric_difference', 'symmetric_difference_update', 'union', 'update']\n"
     ]
    }
   ],
   "source": [
    "print(dir(set))"
   ]
  },
  {
   "cell_type": "code",
   "execution_count": 2,
   "metadata": {
    "scrolled": true
   },
   "outputs": [
    {
     "name": "stdout",
     "output_type": "stream",
     "text": [
      "Help on method_descriptor:\n",
      "\n",
      "add(...)\n",
      "    Add an element to a set.\n",
      "    \n",
      "    This has no effect if the element is already present.\n",
      "\n"
     ]
    }
   ],
   "source": [
    "help(set.add)"
   ]
  },
  {
   "cell_type": "markdown",
   "metadata": {},
   "source": [
    "<a id='construct'></a>\n",
    "## CONSTRUCTING SETS"
   ]
  },
  {
   "cell_type": "code",
   "execution_count": 3,
   "metadata": {},
   "outputs": [
    {
     "name": "stdout",
     "output_type": "stream",
     "text": [
      "<class 'dict'>\n",
      "<class 'set'>\n"
     ]
    }
   ],
   "source": [
    "x = {}\n",
    "y = set()\n",
    "\n",
    "print(type(x))\n",
    "print(type(y))"
   ]
  },
  {
   "cell_type": "code",
   "execution_count": 4,
   "metadata": {},
   "outputs": [
    {
     "name": "stdout",
     "output_type": "stream",
     "text": [
      "{1, 2, 3, 4}\n",
      "{1, 2, 3, 4}\n"
     ]
    }
   ],
   "source": [
    "# can pass through a tuple or a list\n",
    "set1 = set((1,2,3,4,2,3,2))\n",
    "set2 = set([1,2,3,4,2,3,2])\n",
    "\n",
    "print(set1)\n",
    "print(set2)"
   ]
  },
  {
   "cell_type": "code",
   "execution_count": 5,
   "metadata": {},
   "outputs": [
    {
     "name": "stdout",
     "output_type": "stream",
     "text": [
      "{'apple', 'banana', 'pear', 'orange'}\n",
      "True\n",
      "False\n"
     ]
    }
   ],
   "source": [
    "basket = {'apple', 'orange', 'apple', 'pear', 'orange', 'banana'}\n",
    "\n",
    "# shows that duplicates have been removed\n",
    "print(basket)                      \n",
    "\n",
    "# fast membership testing\n",
    "print('orange' in basket)\n",
    "print('crabgrass' in basket)"
   ]
  },
  {
   "cell_type": "markdown",
   "metadata": {},
   "source": [
    "<a id='methods'></a>\n",
    "## BASIC BUILT-IN SET METHODS"
   ]
  },
  {
   "cell_type": "markdown",
   "metadata": {},
   "source": [
    "<a id='add'></a>\n",
    "### <ins>Add & Update</ins>"
   ]
  },
  {
   "cell_type": "code",
   "execution_count": 6,
   "metadata": {},
   "outputs": [
    {
     "name": "stdout",
     "output_type": "stream",
     "text": [
      "{1, 2}\n",
      "{'tiger', 'cat', 'mouse', 'horse', 'dog'}\n"
     ]
    }
   ],
   "source": [
    "# creates an empty set\n",
    "x = set()\n",
    "y = {'cat'}  # cannot use {} to start as this is used for dictionaries.\n",
    "\n",
    "# We add to sets with the add() method\n",
    "x.add(1)\n",
    "x.add(2)\n",
    "y.add('dog')\n",
    "y.add('horse')\n",
    "\n",
    "# can also use update\n",
    "y.update(['mouse', 'tiger'])\n",
    "\n",
    "print(x)\n",
    "print(y)"
   ]
  },
  {
   "cell_type": "markdown",
   "metadata": {},
   "source": [
    "Note the curly brackets. This does not indicate a dictionary! Although you can draw analogies as a set being a dictionary with only keys.\n",
    "\n",
    "We know that a set has only unique entries. So what happens when we try to add something that is already in a set?"
   ]
  },
  {
   "cell_type": "code",
   "execution_count": 7,
   "metadata": {},
   "outputs": [
    {
     "data": {
      "text/plain": [
       "{1, 2}"
      ]
     },
     "execution_count": 7,
     "metadata": {},
     "output_type": "execute_result"
    }
   ],
   "source": [
    "# Try to add the same element\n",
    "x.add(2)\n",
    "x"
   ]
  },
  {
   "cell_type": "markdown",
   "metadata": {},
   "source": [
    "Notice how it won't place another 2 there. That's because a set is only concerned with unique elements! We can cast a list with multiple repeat elements to a set to get the unique elements. For example:"
   ]
  },
  {
   "cell_type": "code",
   "execution_count": 8,
   "metadata": {},
   "outputs": [
    {
     "data": {
      "text/plain": [
       "{1, 2, 3, 4, 5, 6}"
      ]
     },
     "execution_count": 8,
     "metadata": {},
     "output_type": "execute_result"
    }
   ],
   "source": [
    "# Create a list with repeats\n",
    "list1 = [1,1,2,2,3,4,5,6,1,1]\n",
    "\n",
    "# Cast as set to get unique values\n",
    "set(list1)"
   ]
  },
  {
   "cell_type": "code",
   "execution_count": 9,
   "metadata": {},
   "outputs": [
    {
     "data": {
      "text/plain": [
       "{(4, 5), 1, 2, 3}"
      ]
     },
     "execution_count": 9,
     "metadata": {},
     "output_type": "execute_result"
    }
   ],
   "source": [
    "a = {1,2,3}\n",
    "a.add((4,5))\n",
    "a"
   ]
  },
  {
   "cell_type": "code",
   "execution_count": 10,
   "metadata": {},
   "outputs": [
    {
     "data": {
      "text/plain": [
       "{1, 2, 3, 4, 5, 6, 7}"
      ]
     },
     "execution_count": 10,
     "metadata": {},
     "output_type": "execute_result"
    }
   ],
   "source": [
    "# update can be used on any iterable object\n",
    "a = {1,2,3}\n",
    "a.update([4,5])\n",
    "a.update((6,7))\n",
    "a"
   ]
  },
  {
   "cell_type": "code",
   "execution_count": 11,
   "metadata": {},
   "outputs": [
    {
     "name": "stdout",
     "output_type": "stream",
     "text": [
      "{1, 2, 3, 4, 5, 6}\n"
     ]
    }
   ],
   "source": [
    "a = {1,2,3}\n",
    "b = {4,5,6}\n",
    "\n",
    "for num in b:\n",
    "    a.add(num)\n",
    "    \n",
    "print(a)"
   ]
  },
  {
   "cell_type": "code",
   "execution_count": 12,
   "metadata": {},
   "outputs": [
    {
     "name": "stdout",
     "output_type": "stream",
     "text": [
      "frozenset({0, 2, 4, 6, 8, 10, 12, 14, 16, 18})\n"
     ]
    }
   ],
   "source": [
    "even = frozenset(range(0,20,2))  #is immutable once created.\n",
    "print(even)"
   ]
  },
  {
   "cell_type": "markdown",
   "metadata": {},
   "source": [
    "<a id='discard'></a>\n",
    "### <ins>Discard & Remove</ins>\n",
    "- when using remove(), must be precise otherwise an error will occur.\n",
    "- when using discard(), no error will occur if object is not in the set."
   ]
  },
  {
   "cell_type": "code",
   "execution_count": 13,
   "metadata": {},
   "outputs": [
    {
     "name": "stdout",
     "output_type": "stream",
     "text": [
      "for a list:\n",
      "['red', 'yellow', 'blue', 'red']\n",
      "for a set:\n",
      "{'purple', 'yellow', 'blue'}\n"
     ]
    }
   ],
   "source": [
    "clothing_list = ['blue', 'red', 'yellow', 'blue', 'red']\n",
    "clothing_set = set(clothing_list)\n",
    "\n",
    "# In a list:\n",
    "print('for a list:')\n",
    "clothing_list.append(\"purple\")\n",
    "clothing_list.pop()  # Removes the last item in the list (which is 'purple'.\n",
    "clothing_list.pop(0) # Removes a specific item by index (here it is the first item - 'blue')\n",
    "print(clothing_list)\n",
    "\n",
    "# In a set\n",
    "print('for a set:')\n",
    "clothing_set.add(\"purple\")\n",
    "clothing_set.add(\"blue\")       # will not show an error but will also not be added since it already exists\n",
    "#clothing_set.pop()        # No! This is unreliable and random each time! The order is arbitrary.\n",
    "#clothing_set.pop(0)       # No! Python throws an error! You can't index sets.\n",
    "#clothing_set.pop('red')   # this will return an error \n",
    "clothing_set.remove('red')     # Do this! Call the element directly!\n",
    "clothing_set.discard('black')  # does not return an error message when using discard command\n",
    "print(clothing_set)\n"
   ]
  },
  {
   "cell_type": "markdown",
   "metadata": {},
   "source": [
    "<a id='maths'></a>\n",
    "## MATHEMATICAL SET OPERATIONS"
   ]
  },
  {
   "cell_type": "code",
   "execution_count": 14,
   "metadata": {},
   "outputs": [
    {
     "name": "stdout",
     "output_type": "stream",
     "text": [
      "unique letters in a: {'r', 'd', 'b', 'c', 'a'}\n",
      "letter in a but not b: {'r', 'b', 'd'}\n",
      "letters in a or b or both: {'l', 'r', 'z', 'm', 'd', 'b', 'c', 'a'}\n",
      "letter in both a and b: {'a', 'c'}\n",
      "letter in a or b but not both: {'l', 'b', 'r', 'z', 'm', 'd'}\n"
     ]
    }
   ],
   "source": [
    "a = set('abracadabra')\n",
    "b = set('alacazam')\n",
    "\n",
    "# unique letters in a\n",
    "print(f'unique letters in a: {a}')                                  \n",
    "\n",
    "# letters in a but not in b\n",
    "print(f'letter in a but not b: {a - b}')\n",
    "\n",
    "# letters in a or b or both\n",
    "print(f'letters in a or b or both: {a | b}')\n",
    "\n",
    "# letters in both a and b\n",
    "print(f'letter in both a and b: {a & b}')\n",
    "\n",
    "# letters in a or b but not both\n",
    "print(f'letter in a or b but not both: {a ^ b}')"
   ]
  },
  {
   "cell_type": "code",
   "execution_count": 15,
   "metadata": {},
   "outputs": [
    {
     "name": "stdout",
     "output_type": "stream",
     "text": [
      "{1, 2, 3, 4, 5, 6, 7, 8}\n",
      "{1, 2, 3, 4, 5, 6, 7, 8}\n",
      "{1, 2, 3, 4, 5, 6, 7, 8}\n",
      "{4, 5}\n",
      "{4, 5}\n",
      "{4, 5}\n",
      "{1, 2, 3}\n",
      "{8, 6, 7}\n",
      "{1, 2, 3}\n",
      "{1, 2, 3, 6, 7, 8}\n"
     ]
    }
   ],
   "source": [
    "set1 = {1, 2, 3, 4, 5}\n",
    "set2 = {4, 5, 6, 7, 8}\n",
    "\n",
    "# returns a new set containing all elements that are in either set (i.e. joining the numbers)\n",
    "print(set1.union(set2))\n",
    "print(set2.union(set1))\n",
    "print(set1 | set2)  # same as union\n",
    "\n",
    "# returns a new set containing all elements that are in both sets (i.e. common numbers)\n",
    "print(set1.intersection(set2))\n",
    "print(set2.intersection(set1))\n",
    "print(set1 & set2)  # same as intersection\n",
    "\n",
    "# returns a new set containing all elements that are in this set but not the others\n",
    "print(set1.difference(set2))  # in set1 but not in set2\n",
    "print(set2.difference(set1))  # in set2 but not in set1\n",
    "print(set1 - set2)\n",
    "\n",
    "#this returns every value which does not feature in both sets (but are in one)\n",
    "print(set1.symmetric_difference(set2))"
   ]
  },
  {
   "cell_type": "code",
   "execution_count": 16,
   "metadata": {},
   "outputs": [
    {
     "name": "stdout",
     "output_type": "stream",
     "text": [
      "{6, 7, 8}\n",
      "[6, 7, 8]\n"
     ]
    }
   ],
   "source": [
    "# Removes all elements of another set from this set. (i.e. removes elements in set1 from set2)\n",
    "\n",
    "set2.difference_update(set1)\n",
    "print(set2)\n",
    "print(sorted(set2))    #notice how the output is now a list"
   ]
  },
  {
   "cell_type": "code",
   "execution_count": 17,
   "metadata": {},
   "outputs": [
    {
     "name": "stdout",
     "output_type": "stream",
     "text": [
      "False\n",
      "False\n"
     ]
    }
   ],
   "source": [
    "# Reports whether another set contains this set\n",
    "\n",
    "print(set1.issubset(set2))\n",
    "print(set2.issubset(set1))"
   ]
  },
  {
   "cell_type": "code",
   "execution_count": 18,
   "metadata": {},
   "outputs": [
    {
     "name": "stdout",
     "output_type": "stream",
     "text": [
      "False\n",
      "False\n"
     ]
    }
   ],
   "source": [
    "# Reports whether this set contains another set\n",
    "\n",
    "print(set1.issuperset(set2))\n",
    "print(set2.issuperset(set1))"
   ]
  },
  {
   "cell_type": "code",
   "execution_count": 19,
   "metadata": {},
   "outputs": [
    {
     "data": {
      "text/plain": [
       "True"
      ]
     },
     "execution_count": 19,
     "metadata": {},
     "output_type": "execute_result"
    }
   ],
   "source": [
    "# Return True if two sets have a null intersection.\n",
    "set1.isdisjoint(set2)"
   ]
  },
  {
   "cell_type": "markdown",
   "metadata": {},
   "source": [
    "<a id='comp_examples'></a>\n",
    "## COMPARATIVE EXAMPLES"
   ]
  },
  {
   "cell_type": "code",
   "execution_count": 20,
   "metadata": {},
   "outputs": [
    {
     "data": {
      "text/plain": [
       "{'Felman', 'Michael'}"
      ]
     },
     "execution_count": 20,
     "metadata": {},
     "output_type": "execute_result"
    }
   ],
   "source": [
    "name = {'Michael', 'Felman'}\n",
    "name"
   ]
  },
  {
   "cell_type": "code",
   "execution_count": 21,
   "metadata": {
    "scrolled": false
   },
   "outputs": [
    {
     "data": {
      "text/plain": [
       "{' ', 'F', 'M', 'a', 'c', 'e', 'h', 'i', 'l', 'm', 'n'}"
      ]
     },
     "execution_count": 21,
     "metadata": {},
     "output_type": "execute_result"
    }
   ],
   "source": [
    "name = set('Michael Felman')\n",
    "# name = set('Michael', 'Felman')   # this produces an error\n",
    "name"
   ]
  },
  {
   "cell_type": "code",
   "execution_count": 22,
   "metadata": {},
   "outputs": [
    {
     "data": {
      "text/plain": [
       "{'Felman', 'Michael'}"
      ]
     },
     "execution_count": 22,
     "metadata": {},
     "output_type": "execute_result"
    }
   ],
   "source": [
    "name = ('Michael', 'Felman')\n",
    "set_name = set(name)\n",
    "set_name"
   ]
  },
  {
   "cell_type": "code",
   "execution_count": 23,
   "metadata": {},
   "outputs": [
    {
     "data": {
      "text/plain": [
       "['Michael', 'Felman']"
      ]
     },
     "execution_count": 23,
     "metadata": {},
     "output_type": "execute_result"
    }
   ],
   "source": [
    "# name = list('Michael', 'Felman')   # this will produce an error\n",
    "name = list(('Michael', 'Felman'))\n",
    "name"
   ]
  },
  {
   "cell_type": "code",
   "execution_count": 24,
   "metadata": {},
   "outputs": [
    {
     "data": {
      "text/plain": [
       "['Michael', 'Felman']"
      ]
     },
     "execution_count": 24,
     "metadata": {},
     "output_type": "execute_result"
    }
   ],
   "source": [
    "name = ('Michael', 'Felman')\n",
    "list_name = list(name)\n",
    "list_name"
   ]
  },
  {
   "cell_type": "code",
   "execution_count": 25,
   "metadata": {},
   "outputs": [
    {
     "name": "stdout",
     "output_type": "stream",
     "text": [
      "blue\n",
      "red\n",
      "yellow\n",
      "blue\n",
      "red\n",
      "\n",
      "Now, for the set:\n",
      "\n",
      "red\n",
      "yellow\n",
      "blue\n"
     ]
    }
   ],
   "source": [
    "clothing_list = ['blue', 'red', 'yellow', 'blue', 'red']\n",
    "clothing_set = set(clothing_list)\n",
    "\n",
    "for item in clothing_list:\n",
    "    print(item)\n",
    "\n",
    "print('\\nNow, for the set:\\n')\n",
    "    \n",
    "for item in clothing_set:\n",
    "    print(item)\n",
    "\n",
    "#print(clothing_list[0])  #can be done\n",
    "#print(clothing_set[0])   #cannot be done"
   ]
  },
  {
   "cell_type": "markdown",
   "metadata": {},
   "source": [
    "<a id='examples'></a>\n",
    "## EXAMPLES"
   ]
  },
  {
   "cell_type": "markdown",
   "metadata": {},
   "source": [
    "#### Challenge 1\n",
    "\n",
    "1) Create a list ([]), set ({}), and tuple (()) of some of your favorite foods.\n",
    "\n",
    "2) Create a second set from the list.\n",
    "\n",
    "3) Next, in every list type that you can:\n",
    "\n",
    "4) Add \"pizza\" anywhere; append \"eggs\" to the end.\n",
    "\n",
    "5) Remove \"pizza\".\n",
    "\n",
    "6) Re-assign the element at index 1 to be \"popcorn\".\n",
    "\n",
    "7) Remove the element at index 2 and re-insert it at index 0.\n",
    "\n",
    "8) Print the element at index 0.\n",
    "\n",
    "9) Print your final lists using a loop, then print their types. Don’t throw an error!"
   ]
  },
  {
   "cell_type": "code",
   "execution_count": 26,
   "metadata": {},
   "outputs": [
    {
     "name": "stdout",
     "output_type": "stream",
     "text": [
      "ice-cream\n",
      "chocolate\n",
      "['ice-cream', 'chocolate', 'popcorn', 'eggs']\n",
      "{'chocolate', 'ice-cream', 'chips', 'eggs'}\n",
      "('chocolate', 'chips', 'ice-cream')\n",
      "{'chocolate', 'ice-cream', 'chips', 'eggs'}\n",
      "ice-cream\n",
      "chocolate\n",
      "popcorn\n",
      "eggs\n"
     ]
    }
   ],
   "source": [
    "food_list = ['chocolate', 'chips', 'ice-cream']\n",
    "food_set = {'chocolate', 'chips', 'ice-cream'}\n",
    "food_tup = ('chocolate', 'chips', 'ice-cream')\n",
    "\n",
    "food_set_2 = set(food_list)\n",
    "\n",
    "food_list.insert(1, 'pizza')\n",
    "food_list.append('eggs')\n",
    "#food_set.add('pizza')\n",
    "#food_set.add('eggs')\n",
    "food_set.update(['pizza', 'eggs'])\n",
    "#food_tup.add('pizza')    # will result in an error since we can't add to a tuple\n",
    "food_set_2.update(['pizza', 'eggs'])\n",
    "\n",
    "# food_list.pop(1)\n",
    "food_list.remove('pizza')\n",
    "food_set.remove('pizza')   # not safe to use pop for sets \n",
    "food_set_2.remove('pizza')\n",
    "\n",
    "food_list[1] = 'popcorn'\n",
    "#food_set[1] = 'popcorn'     # cannot be done with sets\n",
    "#food_tup[1] = 'popcorn'     # cannot be done with tuples\n",
    "#food__set_2[1] = 'popcorn'  # cannot be done with sets\n",
    "\n",
    "food_list.pop(2)\n",
    "food_list.insert(0,'ice-cream')\n",
    "#food_set.remove('chocolate')    # not safe since sets are unordered \n",
    "# del food_tup[2]                # does not work since tuples are immutable\n",
    "#food_set_2.remove('chocolate')\n",
    "\n",
    "print(food_list[0])\n",
    "#print(food_set[0])    # cannot be indexed\n",
    "print(food_tup[0])\n",
    "#print(food_set_2[0])  # cannot be indexed\n",
    "\n",
    "print(food_list)\n",
    "print(food_set)\n",
    "print(food_tup)\n",
    "print(food_set_2)\n",
    "\n",
    "for i in food_list:\n",
    "    print(i)"
   ]
  },
  {
   "cell_type": "code",
   "execution_count": 27,
   "metadata": {},
   "outputs": [
    {
     "name": "stdout",
     "output_type": "stream",
     "text": [
      "Please enter a sentence: How are you this evening\n",
      "['g', 'h', 'n', 'r', 's', 't', 'v', 'w', 'y']\n",
      "9\n"
     ]
    }
   ],
   "source": [
    "# Challenge 2\n",
    "\n",
    "sentence = input(\"Please enter a sentence: \")\n",
    "sentence = set(sentence.lower())\n",
    "alphabet = set('abcdefghijklmnopqrstuvwxyz')\n",
    "vowels = set('aeiou')\n",
    "acceptable_letters = alphabet.difference(vowels)\n",
    "\n",
    "character_list = set()\n",
    "\n",
    "for char in sentence:\n",
    "    if char in acceptable_letters:\n",
    "        character_list.add(char)\n",
    "\n",
    "print(sorted(character_list))\n",
    "print(len(character_list))"
   ]
  },
  {
   "cell_type": "code",
   "execution_count": 28,
   "metadata": {
    "scrolled": false
   },
   "outputs": [
    {
     "name": "stdout",
     "output_type": "stream",
     "text": [
      "Please enter a sentence: How are you this evening\n",
      "[' ', 'H', 'g', 'h', 'n', 'r', 's', 't', 'v', 'w', 'y']\n"
     ]
    }
   ],
   "source": [
    "# Challenge 2\n",
    "\n",
    "sentence = input(\"Please enter a sentence: \")\n",
    "\n",
    "vowels = frozenset('aeiou')\n",
    "\n",
    "final_set = set(sentence).difference(vowels)\n",
    "final_set = sorted(final_set)\n",
    "\n",
    "print(final_set)"
   ]
  },
  {
   "cell_type": "code",
   "execution_count": 29,
   "metadata": {},
   "outputs": [
    {
     "name": "stdout",
     "output_type": "stream",
     "text": [
      "{'Tammy'}\n"
     ]
    }
   ],
   "source": [
    "# You are working for the school Principal. We have a database of school students:\n",
    "school = {'Bobby','Tammy','Jammy','Sally','Danny'}\n",
    "\n",
    "#during class, the teachers take attendance and compile it into a list. \n",
    "attendance_list = ['Jammy', 'Bobby', 'Danny', 'Sally']\n",
    "\n",
    "# using what you learned about sets, create a piece of code that the school principal can use to immediately \n",
    "# find out who missed class so they can call the parents. (Imagine if the list had 1000s of students. \n",
    "# The principal can use the lists generated by the teachers + the school database to use python \n",
    "# and make his/her job easier): Find the students that miss class!\n",
    "\n",
    "absent_students = school.difference(attendance_list)\n",
    "# it appears to work even though attendance_list is a list object\n",
    "print(absent_students) "
   ]
  }
 ],
 "metadata": {
  "kernelspec": {
   "display_name": "Python 3",
   "language": "python",
   "name": "python3"
  },
  "language_info": {
   "codemirror_mode": {
    "name": "ipython",
    "version": 3
   },
   "file_extension": ".py",
   "mimetype": "text/x-python",
   "name": "python",
   "nbconvert_exporter": "python",
   "pygments_lexer": "ipython3",
   "version": "3.7.6"
  }
 },
 "nbformat": 4,
 "nbformat_minor": 2
}
