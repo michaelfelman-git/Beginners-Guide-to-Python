{
 "cells": [
  {
   "cell_type": "markdown",
   "metadata": {},
   "source": [
    "<h1 align=\"center\">WEB SCRAPING</h1>\n",
    "<h2 align=\"left\"><ins>Lesson Guide</ins></h2>\n",
    "\n",
    "- [**BASIC COMPONENTS OF A WEBSITE**](#intro)\n",
    "    - [**html**](#html)\n",
    "    - [**css**](#css)\n",
    "- [**WHAT IS HTML PARSING?**](#parsing)\n",
    "    - [**Import a Python HTML Parser**](#python)\n",
    "    - [**Exploring the Properties of html Objects**](#explore)\n",
    "        - [**`find` and `findall`**](#find)\n",
    "- [**WEB SCRAPING WITH BEAUTIFULSOUP**](#soup)\n",
    "    - [**Grabbing the title of a page**](#title_page)\n",
    "    - [**Grabbing all elements of a class**](#classes)\n",
    "    - [**Getting an Image from a Website**](#images)\n",
    "- [**Example 1: Scrape data from http://books.toscrape.com/**](#eg1)\n",
    "- [**Example 2: Working with Multiple Pages and Items**](#eg2)\n",
    "- [**Example 3: www.basketball-reference.com**](#eg3)\n",
    "- [**Example 4: Abraham Lincoln Quotes**](#eg4)\n",
    "- [**Web Services and APIs**](#apis)\n",
    "- [**Example 5: Hacker News**](#hacker)\n",
    "- [**XPath, Scrapy Selector and Scrapy Framework**](#xpath)\n",
    "- [**Selenium**](#selenium)\n",
    "\n",
    "### Documentation\n",
    "https://www.crummy.com/software/BeautifulSoup/bs4/doc/<br>\n",
    "https://developer.mozilla.org/en-US/docs/Learn/CSS/Building_blocks/Selectors\n",
    "\n",
    "\n",
    "[Additional Resource: best practices for web scraping](https://www.synerzip.com/blogs/web-scraping-introduction-applications-and-best-practices/#:~:text=Web%20scraping%20typically%20extracts%20large,show%20data%20from%20a%20website.)"
   ]
  },
  {
   "cell_type": "markdown",
   "metadata": {},
   "source": [
    "#### First Thing First\n",
    "The following packages are required:\n",
    "- pip install requests\n",
    "- pip install selenium\n",
    "- conda install lxml\n",
    "- conda install scrapy\n",
    "- conda install beautifulsoup4\n",
    "\n",
    "Inspect the version of your Chrome Browser (version 74, 73, 72 etc.) and install the appropriate web driver from following link:<br>\n",
    "[Selenium Web Drivers for Chrome](https://sites.google.com/a/chromium.org/chromedriver/downloads)\n",
    "\n",
    "The following tool will help you build/test XPaths from an HTML tag.<br>\n",
    "[XPath Helper for Chrome](https://chrome.google.com/webstore/detail/xpath-helper/hgimnogjllphhhkhlmebbmlgjoejdpjl?hl=en)"
   ]
  },
  {
   "cell_type": "markdown",
   "metadata": {},
   "source": [
    "#### How to check what is allowed to be scraped:\n",
    "\n",
    "Simply add `/robots.txt` at the end of the website"
   ]
  },
  {
   "cell_type": "code",
   "execution_count": 1,
   "metadata": {},
   "outputs": [],
   "source": [
    "from bs4 import BeautifulSoup\n",
    "import lxml\n",
    "import requests\n",
    "import pandas as pd\n",
    "# from scrapy.selector import Selector\n",
    "# from scrapy.http import HtmlResponse"
   ]
  },
  {
   "cell_type": "markdown",
   "metadata": {},
   "source": [
    "<a id='intro'></a>\n",
    "## BASIC COMPONENTS OF A WEBSITE\n",
    "\n",
    "#### Let's Familiarize Ourselves with the Jargons:\n",
    "1. **WWW:** World Wide Web (simply put....Internet)\n",
    "2. **HTTP:** Hyper Text Transfer Protocol (simply put.....Language using which two devices communicate with each other over Internet)\n",
    "3. **HTML:** Hyper Text Markup Language (simply put....Language to write web pages)\n",
    "4. **XML:** eXtensible Markup Language (simply put....A text file format to exchange data having rows and columns (Structured Data))\n",
    "5. **JSON:** JavaScript Object Notation (simply put....A text file format capable of exchanging data which does not have rows and columns (Unstructured Data))\n",
    "6. **API:** Application Programming Interface (simply put....A technique using which two softwares/app/program communicate with each other irrespective of the programming languages they are individually writting in.)\n",
    "7. **CSS:** Cascading Style Sheet (simply put....A style guide used to beautify web/HTML pages)\n",
    "8. **DOM:** Document Object Model (simply put.....The organization inside an HTML/XML page)\n",
    "9. **XPATH:** XML Path (simply put....A query language which understands the organization inside HTML/XML files and can query information from any part of those files)\n",
    "10. **URL:** Uniform Resource Locator (simply put...Web Address :) )"
   ]
  },
  {
   "cell_type": "markdown",
   "metadata": {},
   "source": [
    "<a id='html'></a>\n",
    "### <ins>html</ins>\n",
    "HTML stands for  Hypertext Markup Language and every website on the internet uses it to display information. Even the jupyter notebook system uses it to display this information in your browser. If you right click on a website and select \"View Page Source\" you can see the raw HTML of a web page. This is the information that Python will be looking at to grab information from. Let's take a look at a simple webpage's HTML:\n",
    "\n",
    "    <!DOCTYPE html>  \n",
    "    <html>  \n",
    "        <head>\n",
    "            <title>Title on Browser Tab</title>\n",
    "        </head>\n",
    "        <body>\n",
    "            <h1> Website Header </h1>\n",
    "            <p> Some Paragraph </p>\n",
    "        <body>\n",
    "    </html>"
   ]
  },
  {
   "cell_type": "markdown",
   "metadata": {},
   "source": [
    "Let's breakdown these components.\n",
    "\n",
    "Every <tag> indicates a specific block type on the webpage:\n",
    "\n",
    "    1.<!DOCTYPE html> HTML documents will always start with this declaration, letting the browser know its an HTML file.\n",
    "    2. The component blocks of the HTML document are placed between <html> and </html>.\n",
    "    3. Meta data and script connections (like a link to a CSS file or a JS file) are often placed in the <head> block.\n",
    "    4. The <title> tag block defines the title of the webpage (its what shows up in the tab of a website you're visiting).\n",
    "    5. Is between <body> and </body> tags are the blocks that will be visible to the site visitor.\n",
    "    6. Headings are defined by the <h1> through <h6> tags, where the number represents the size of the heading.\n",
    "    7. Paragraphs are defined by the <p> tag, this is essentially just normal text on the website.\n",
    "\n",
    "    There are many more tags than just these, such as <a> for hyperlinks, <table> for tables, <tr> for table rows, and <td> for table columns, and many more."
   ]
  },
  {
   "cell_type": "markdown",
   "metadata": {},
   "source": [
    "<a id='css'></a>\n",
    "### <ins>css</ins>\n",
    "CSS stands for Cascading Style Sheets, this is what gives \"style\" to a website, including colors and fonts, and even some animations! CSS uses tags such as **id** or **class** to connect an HTML element to a CSS feature, such as a particular color. **id** is a unique id for an HTML tag and must be unique within the HTML document, basically a single use connection. **class** defines a general style that can then be linked to multiple HTML tags. Basically if you only want a single html tag to be red, you would use an id tag, if you wanted several HTML tags/blocks to be red, you would create a class in your CSS doc and then link it to the rest of these blocks."
   ]
  },
  {
   "cell_type": "markdown",
   "metadata": {},
   "source": [
    "<a id='parsing'></a>\n",
    "## WHAT IS HTML PARSING?\n",
    "Below is some HTML as we can see. But Python interprets this as a multiline text. It does not understand that this string contains a head tag with a corresponding /head closing tag. \n",
    "\n",
    "For this reason, we need an HTML parser which can parse through this string and understand the HTML hierarchy with starting and corresponding closing tags."
   ]
  },
  {
   "cell_type": "code",
   "execution_count": 2,
   "metadata": {
    "scrolled": true
   },
   "outputs": [
    {
     "name": "stdout",
     "output_type": "stream",
     "text": [
      "<class 'str'>\n",
      "\n",
      "<html>\n",
      "  <head>\n",
      "    <title>My page</title>\n",
      "  </head>\n",
      "  <body>\n",
      "    <h2>Welcome to my <a href=\"#\">page</a></h2>\n",
      "    <p>This is the first line of the first paragraph.\n",
      "This is the second line of the first paragraph.</p>\n",
      "    <p>This is the second paragraph.</p>\n",
      "    <!-- this is the end -->\n",
      "  </body>\n",
      "</html>\n",
      "\n"
     ]
    }
   ],
   "source": [
    "html_str = '''\n",
    "<html>\n",
    "  <head>\n",
    "    <title>My page</title>\n",
    "  </head>\n",
    "  <body>\n",
    "    <h2>Welcome to my <a href=\"#\">page</a></h2>\n",
    "    <p>This is the first line of the first paragraph.\\nThis is the second line of the first paragraph.</p>\n",
    "    <p>This is the second paragraph.</p>\n",
    "    <!-- this is the end -->\n",
    "  </body>\n",
    "</html>\n",
    "'''\n",
    "print (type(html_str))\n",
    "print (html_str)"
   ]
  },
  {
   "cell_type": "markdown",
   "metadata": {},
   "source": [
    "<a id='python'></a>\n",
    "### <ins>Import a Python HTML Parser</ins>"
   ]
  },
  {
   "cell_type": "code",
   "execution_count": 3,
   "metadata": {},
   "outputs": [
    {
     "name": "stdout",
     "output_type": "stream",
     "text": [
      "<class 'bs4.BeautifulSoup'>\n",
      "------\n",
      "<html>\n",
      "<head>\n",
      "<title>My page</title>\n",
      "</head>\n",
      "<body>\n",
      "<h2>Welcome to my <a href=\"#\">page</a></h2>\n",
      "<p>This is the first line of the first paragraph.\n",
      "This is the second line of the first paragraph.</p>\n",
      "<p>This is the second paragraph.</p>\n",
      "<!-- this is the end -->\n",
      "</body>\n",
      "</html>\n",
      "\n"
     ]
    }
   ],
   "source": [
    "# from bs4 import BeautifulSoup\n",
    "# A data structure representing a parsed HTML or XML document.\n",
    "\n",
    "html = BeautifulSoup(markup=html_str,features='lxml')     # features = 'html.parser'\n",
    "print (type(html),end='\\n------\\n')\n",
    "print (html)"
   ]
  },
  {
   "cell_type": "markdown",
   "metadata": {},
   "source": [
    "<a id='explore'></a>\n",
    "### <ins>Exploring the Properties of html Objects</ins>"
   ]
  },
  {
   "cell_type": "code",
   "execution_count": 4,
   "metadata": {},
   "outputs": [
    {
     "name": "stdout",
     "output_type": "stream",
     "text": [
      "<title>My page</title>\n"
     ]
    }
   ],
   "source": [
    "print(html.title)"
   ]
  },
  {
   "cell_type": "code",
   "execution_count": 5,
   "metadata": {},
   "outputs": [
    {
     "name": "stdout",
     "output_type": "stream",
     "text": [
      "My page\n"
     ]
    }
   ],
   "source": [
    "print(html.title.text)"
   ]
  },
  {
   "cell_type": "code",
   "execution_count": 6,
   "metadata": {
    "scrolled": true
   },
   "outputs": [
    {
     "name": "stdout",
     "output_type": "stream",
     "text": [
      "\n",
      "Welcome to my page\n",
      "This is the first line of the first paragraph.\n",
      "This is the second line of the first paragraph.\n",
      "This is the second paragraph.\n",
      "\n",
      "\n"
     ]
    }
   ],
   "source": [
    "print(html.body.text)"
   ]
  },
  {
   "cell_type": "code",
   "execution_count": 7,
   "metadata": {},
   "outputs": [
    {
     "data": {
      "text/plain": [
       "<p>This is the first line of the first paragraph.\n",
       "This is the second line of the first paragraph.</p>"
      ]
     },
     "execution_count": 7,
     "metadata": {},
     "output_type": "execute_result"
    }
   ],
   "source": [
    "html.p"
   ]
  },
  {
   "cell_type": "code",
   "execution_count": 8,
   "metadata": {},
   "outputs": [
    {
     "data": {
      "text/plain": [
       "'\\n\\nMy page\\n\\n\\nWelcome to my page\\nThis is the first line of the first paragraph.\\nThis is the second line of the first paragraph.\\nThis is the second paragraph.\\n\\n\\n\\n'"
      ]
     },
     "execution_count": 8,
     "metadata": {},
     "output_type": "execute_result"
    }
   ],
   "source": [
    "html.text"
   ]
  },
  {
   "cell_type": "code",
   "execution_count": 9,
   "metadata": {},
   "outputs": [
    {
     "data": {
      "text/plain": [
       "['My page',\n",
       " 'Welcome to my page',\n",
       " 'This is the first line of the first paragraph.',\n",
       " 'This is the second line of the first paragraph.',\n",
       " 'This is the second paragraph.']"
      ]
     },
     "execution_count": 9,
     "metadata": {},
     "output_type": "execute_result"
    }
   ],
   "source": [
    "[line for line in html.text.split('\\n') if line !='']"
   ]
  },
  {
   "cell_type": "markdown",
   "metadata": {},
   "source": [
    "<a id='find'></a>\n",
    "### <ins>`find` and `findall`</ins>"
   ]
  },
  {
   "cell_type": "code",
   "execution_count": 10,
   "metadata": {},
   "outputs": [
    {
     "data": {
      "text/plain": [
       "<p>This is the first line of the first paragraph.\n",
       "This is the second line of the first paragraph.</p>"
      ]
     },
     "execution_count": 10,
     "metadata": {},
     "output_type": "execute_result"
    }
   ],
   "source": [
    "html.find('p')"
   ]
  },
  {
   "cell_type": "code",
   "execution_count": 11,
   "metadata": {},
   "outputs": [
    {
     "data": {
      "text/plain": [
       "'This is the first line of the first paragraph.\\nThis is the second line of the first paragraph.'"
      ]
     },
     "execution_count": 11,
     "metadata": {},
     "output_type": "execute_result"
    }
   ],
   "source": [
    "html.find('p').text"
   ]
  },
  {
   "cell_type": "code",
   "execution_count": 12,
   "metadata": {},
   "outputs": [
    {
     "data": {
      "text/plain": [
       "[<p>This is the first line of the first paragraph.\n",
       " This is the second line of the first paragraph.</p>,\n",
       " <p>This is the second paragraph.</p>]"
      ]
     },
     "execution_count": 12,
     "metadata": {},
     "output_type": "execute_result"
    }
   ],
   "source": [
    "html.find_all('p')"
   ]
  },
  {
   "cell_type": "code",
   "execution_count": 13,
   "metadata": {},
   "outputs": [
    {
     "data": {
      "text/plain": [
       "[<p>This is the first line of the first paragraph.\n",
       " This is the second line of the first paragraph.</p>,\n",
       " <p>This is the second paragraph.</p>]"
      ]
     },
     "execution_count": 13,
     "metadata": {},
     "output_type": "execute_result"
    }
   ],
   "source": [
    "html.find_all('p')"
   ]
  },
  {
   "cell_type": "code",
   "execution_count": 14,
   "metadata": {},
   "outputs": [
    {
     "data": {
      "text/plain": [
       "['This is the first line of the first paragraph.\\nThis is the second line of the first paragraph.',\n",
       " 'This is the second paragraph.']"
      ]
     },
     "execution_count": 14,
     "metadata": {},
     "output_type": "execute_result"
    }
   ],
   "source": [
    "[line.text for line in html.find_all('p')]"
   ]
  },
  {
   "cell_type": "code",
   "execution_count": 15,
   "metadata": {},
   "outputs": [
    {
     "data": {
      "text/plain": [
       "[['This is the first line of the first paragraph.',\n",
       "  'This is the second line of the first paragraph.'],\n",
       " ['This is the second paragraph.']]"
      ]
     },
     "execution_count": 15,
     "metadata": {},
     "output_type": "execute_result"
    }
   ],
   "source": [
    "[line.text.split('\\n') for line in html.find_all('p')]"
   ]
  },
  {
   "cell_type": "code",
   "execution_count": 16,
   "metadata": {},
   "outputs": [
    {
     "data": {
      "text/plain": [
       "['This is the first line of the first paragraph.',\n",
       " 'This is the second line of the first paragraph.',\n",
       " 'This is the second paragraph.']"
      ]
     },
     "execution_count": 16,
     "metadata": {},
     "output_type": "execute_result"
    }
   ],
   "source": [
    "# Using a for loop\n",
    "\n",
    "# flat_list = []\n",
    "# for line in html.find_all('p'):\n",
    "#     for item in line.text.split('\\n'):\n",
    "#         flat_list.append(item)\n",
    "# flat_list\n",
    "\n",
    "# Using a list comprehension\n",
    "flat_list = [item for line in html.find_all('p') for item in line.text.split('\\n')]\n",
    "flat_list"
   ]
  },
  {
   "cell_type": "code",
   "execution_count": 17,
   "metadata": {},
   "outputs": [
    {
     "data": {
      "text/plain": [
       "['This is the first line of the first paragraph.',\n",
       " 'This is the second line of the first paragraph.',\n",
       " 'This is the second paragraph.']"
      ]
     },
     "execution_count": 17,
     "metadata": {},
     "output_type": "execute_result"
    }
   ],
   "source": [
    "import itertools\n",
    "\n",
    "list2d = [line.text.split('\\n') for line in html.find_all('p')]\n",
    "\n",
    "# merged = list(itertools.chain(*list2d))    # unpacking the list with the * operator\n",
    "merged = list(itertools.chain.from_iterable(list2d))\n",
    "merged"
   ]
  },
  {
   "cell_type": "code",
   "execution_count": 18,
   "metadata": {},
   "outputs": [
    {
     "data": {
      "text/plain": [
       "['This is the first line of the first paragraph.',\n",
       " 'This is the second line of the first paragraph.',\n",
       " 'This is the second paragraph.']"
      ]
     },
     "execution_count": 18,
     "metadata": {},
     "output_type": "execute_result"
    }
   ],
   "source": [
    "import functools\n",
    "import operator\n",
    "\n",
    "functools.reduce(operator.iconcat, list2d, [])"
   ]
  },
  {
   "cell_type": "markdown",
   "metadata": {},
   "source": [
    "Notice how the line `<!-- this is the end -->` does not appear. These are comments, that are not visible to the user but only when you view the actual HTML. They are also useful in commenting out a block of code when you're doing testing, that way you can prevent from having to cut and paste the code else where, and then copy them back."
   ]
  },
  {
   "cell_type": "code",
   "execution_count": 19,
   "metadata": {},
   "outputs": [
    {
     "name": "stdout",
     "output_type": "stream",
     "text": [
      "None\n"
     ]
    }
   ],
   "source": [
    "print(html.find('!--'))"
   ]
  },
  {
   "cell_type": "code",
   "execution_count": 20,
   "metadata": {},
   "outputs": [
    {
     "data": {
      "text/plain": [
       "[]"
      ]
     },
     "execution_count": 20,
     "metadata": {},
     "output_type": "execute_result"
    }
   ],
   "source": [
    "html.find_all('!--')"
   ]
  },
  {
   "cell_type": "markdown",
   "metadata": {},
   "source": [
    "<a id='soup'></a>\n",
    "## WEB SCRAPING WITH BEAUTIFULSOUP\n",
    "\n",
    "<a id='title_page'></a>\n",
    "### <ins>Grabbing the title of a page</ins>\n",
    "\n",
    "Let's start very simple, we will grab the title of a page. Remember that this is the HTML block with the **title** tag. For this task we will use **www.example.com** which is a website specifically made to serve as an example domain. Let's go through the main steps:"
   ]
  },
  {
   "cell_type": "markdown",
   "metadata": {},
   "source": [
    "#### Step 1: Use the requests library to grab the page"
   ]
  },
  {
   "cell_type": "code",
   "execution_count": 21,
   "metadata": {},
   "outputs": [],
   "source": [
    "# Note, this may fail if you have a firewall blocking Python/Jupyter \n",
    "# Note sometimes you need to run this twice if it fails the first time\n",
    "\n",
    "res = requests.get(\"http://www.example.com\")"
   ]
  },
  {
   "cell_type": "markdown",
   "metadata": {},
   "source": [
    "This object is a `requests.models.Response` object and it actually contains the information from the website, for example:"
   ]
  },
  {
   "cell_type": "code",
   "execution_count": 22,
   "metadata": {},
   "outputs": [
    {
     "data": {
      "text/plain": [
       "requests.models.Response"
      ]
     },
     "execution_count": 22,
     "metadata": {},
     "output_type": "execute_result"
    }
   ],
   "source": [
    "type(res)"
   ]
  },
  {
   "cell_type": "code",
   "execution_count": 23,
   "metadata": {},
   "outputs": [
    {
     "data": {
      "text/plain": [
       "'<!doctype html>\\n<html>\\n<head>\\n    <title>Example Domain</title>\\n\\n    <meta charset=\"utf-8\" />\\n    <meta http-equiv=\"Content-type\" content=\"text/html; charset=utf-8\" />\\n    <meta name=\"viewport\" content=\"width=device-width, initial-scale=1\" />\\n    <style type=\"text/css\">\\n    body {\\n        background-color: #f0f0f2;\\n        margin: 0;\\n        padding: 0;\\n        font-family: -apple-system, system-ui, BlinkMacSystemFont, \"Segoe UI\", \"Open Sans\", \"Helvetica Neue\", Helvetica, Arial, sans-serif;\\n        \\n    }\\n    div {\\n        width: 600px;\\n        margin: 5em auto;\\n        padding: 2em;\\n        background-color: #fdfdff;\\n        border-radius: 0.5em;\\n        box-shadow: 2px 3px 7px 2px rgba(0,0,0,0.02);\\n    }\\n    a:link, a:visited {\\n        color: #38488f;\\n        text-decoration: none;\\n    }\\n    @media (max-width: 700px) {\\n        div {\\n            margin: 0 auto;\\n            width: auto;\\n        }\\n    }\\n    </style>    \\n</head>\\n\\n<body>\\n<div>\\n    <h1>Example Domain</h1>\\n    <p>This domain is for use in illustrative examples in documents. You may use this\\n    domain in literature without prior coordination or asking for permission.</p>\\n    <p><a href=\"https://www.iana.org/domains/example\">More information...</a></p>\\n</div>\\n</body>\\n</html>\\n'"
      ]
     },
     "execution_count": 23,
     "metadata": {},
     "output_type": "execute_result"
    }
   ],
   "source": [
    "res.text"
   ]
  },
  {
   "cell_type": "markdown",
   "metadata": {},
   "source": [
    "Now we use BeautifulSoup to analyze the extracted page. Technically we could use our own custom script to look for items in the string of **res.text** but the BeautifulSoup library already has lots of built-in tools and methods to grab information from a string of this nature (basically an HTML file). Using BeautifulSoup we can create a \"soup\" object that contains all the \"ingredients\" of the webpage. Don't ask me about the weird library names, I didn't choose them! :)"
   ]
  },
  {
   "cell_type": "code",
   "execution_count": 24,
   "metadata": {},
   "outputs": [],
   "source": [
    "import bs4"
   ]
  },
  {
   "cell_type": "code",
   "execution_count": 25,
   "metadata": {},
   "outputs": [],
   "source": [
    "soup_html = bs4.BeautifulSoup(markup=res.text,features=\"lxml\")"
   ]
  },
  {
   "cell_type": "code",
   "execution_count": 26,
   "metadata": {
    "scrolled": true
   },
   "outputs": [
    {
     "data": {
      "text/plain": [
       "<!DOCTYPE html>\n",
       "<html>\n",
       "<head>\n",
       "<title>Example Domain</title>\n",
       "<meta charset=\"utf-8\"/>\n",
       "<meta content=\"text/html; charset=utf-8\" http-equiv=\"Content-type\"/>\n",
       "<meta content=\"width=device-width, initial-scale=1\" name=\"viewport\"/>\n",
       "<style type=\"text/css\">\n",
       "    body {\n",
       "        background-color: #f0f0f2;\n",
       "        margin: 0;\n",
       "        padding: 0;\n",
       "        font-family: -apple-system, system-ui, BlinkMacSystemFont, \"Segoe UI\", \"Open Sans\", \"Helvetica Neue\", Helvetica, Arial, sans-serif;\n",
       "        \n",
       "    }\n",
       "    div {\n",
       "        width: 600px;\n",
       "        margin: 5em auto;\n",
       "        padding: 2em;\n",
       "        background-color: #fdfdff;\n",
       "        border-radius: 0.5em;\n",
       "        box-shadow: 2px 3px 7px 2px rgba(0,0,0,0.02);\n",
       "    }\n",
       "    a:link, a:visited {\n",
       "        color: #38488f;\n",
       "        text-decoration: none;\n",
       "    }\n",
       "    @media (max-width: 700px) {\n",
       "        div {\n",
       "            margin: 0 auto;\n",
       "            width: auto;\n",
       "        }\n",
       "    }\n",
       "    </style>\n",
       "</head>\n",
       "<body>\n",
       "<div>\n",
       "<h1>Example Domain</h1>\n",
       "<p>This domain is for use in illustrative examples in documents. You may use this\n",
       "    domain in literature without prior coordination or asking for permission.</p>\n",
       "<p><a href=\"https://www.iana.org/domains/example\">More information...</a></p>\n",
       "</div>\n",
       "</body>\n",
       "</html>"
      ]
     },
     "execution_count": 26,
     "metadata": {},
     "output_type": "execute_result"
    }
   ],
   "source": [
    "soup_html"
   ]
  },
  {
   "cell_type": "markdown",
   "metadata": {},
   "source": [
    "Now let's use the **.select()** method to grab elements. We are looking for the 'title' tag, so we will pass in 'title'\n"
   ]
  },
  {
   "cell_type": "code",
   "execution_count": 27,
   "metadata": {},
   "outputs": [
    {
     "data": {
      "text/plain": [
       "[<title>Example Domain</title>]"
      ]
     },
     "execution_count": 27,
     "metadata": {},
     "output_type": "execute_result"
    }
   ],
   "source": [
    "soup_html.select('title')"
   ]
  },
  {
   "cell_type": "markdown",
   "metadata": {},
   "source": [
    "Notice what is returned here, its actually a list containing all the title elements (along with their tags). You can use indexing or even looping to grab the elements from the list. Since this object it still a specialized tag, we can use method calls to grab just the text."
   ]
  },
  {
   "cell_type": "code",
   "execution_count": 28,
   "metadata": {},
   "outputs": [],
   "source": [
    "title_tag = soup_html.select('title')"
   ]
  },
  {
   "cell_type": "code",
   "execution_count": 29,
   "metadata": {},
   "outputs": [
    {
     "data": {
      "text/plain": [
       "<title>Example Domain</title>"
      ]
     },
     "execution_count": 29,
     "metadata": {},
     "output_type": "execute_result"
    }
   ],
   "source": [
    "title_tag[0]"
   ]
  },
  {
   "cell_type": "code",
   "execution_count": 30,
   "metadata": {},
   "outputs": [
    {
     "data": {
      "text/plain": [
       "bs4.element.Tag"
      ]
     },
     "execution_count": 30,
     "metadata": {},
     "output_type": "execute_result"
    }
   ],
   "source": [
    "type(title_tag[0])"
   ]
  },
  {
   "cell_type": "code",
   "execution_count": 31,
   "metadata": {},
   "outputs": [
    {
     "data": {
      "text/plain": [
       "'Example Domain'"
      ]
     },
     "execution_count": 31,
     "metadata": {},
     "output_type": "execute_result"
    }
   ],
   "source": [
    "title_tag[0].getText()"
   ]
  },
  {
   "cell_type": "code",
   "execution_count": 32,
   "metadata": {},
   "outputs": [
    {
     "data": {
      "text/plain": [
       "'Example Domain'"
      ]
     },
     "execution_count": 32,
     "metadata": {},
     "output_type": "execute_result"
    }
   ],
   "source": [
    "soup_html.select('title')[0].getText()"
   ]
  },
  {
   "cell_type": "code",
   "execution_count": 33,
   "metadata": {},
   "outputs": [
    {
     "data": {
      "text/plain": [
       "['Example Domain']"
      ]
     },
     "execution_count": 33,
     "metadata": {},
     "output_type": "execute_result"
    }
   ],
   "source": [
    "[title.getText() for title in soup_html.select('title')]"
   ]
  },
  {
   "cell_type": "code",
   "execution_count": 34,
   "metadata": {},
   "outputs": [],
   "source": [
    "res.close()"
   ]
  },
  {
   "cell_type": "markdown",
   "metadata": {},
   "source": [
    "<a id='classes'></a>\n",
    "### <ins>Grabbing all elements of a class</ins>\n",
    "Let's try to grab all the section headings of the Wikipedia Article on Room 641A from this URL: https://en.wikipedia.org/wiki/Room_641A"
   ]
  },
  {
   "cell_type": "code",
   "execution_count": 35,
   "metadata": {},
   "outputs": [
    {
     "data": {
      "text/plain": [
       "<Response [200]>"
      ]
     },
     "execution_count": 35,
     "metadata": {},
     "output_type": "execute_result"
    }
   ],
   "source": [
    "# First get the request\n",
    "res = requests.get('https://en.wikipedia.org/wiki/Room_641A')\n",
    "res"
   ]
  },
  {
   "cell_type": "code",
   "execution_count": 36,
   "metadata": {},
   "outputs": [],
   "source": [
    "# Create a soup from request\n",
    "soup_wiki = bs4.BeautifulSoup(res.text,\"lxml\")"
   ]
  },
  {
   "cell_type": "markdown",
   "metadata": {},
   "source": [
    "Now its time to figure out what we are actually looking for. Inspect the element on the page to see that the section headers have the class \"mw-headline\". Because this is a class and not a straight tag, we need to adhere to some syntax for CSS. In this case"
   ]
  },
  {
   "cell_type": "markdown",
   "metadata": {},
   "source": [
    "<table>\n",
    "\n",
    "<thead >\n",
    "<tr>\n",
    "<th>\n",
    "<p>Syntax to pass to the .select() method</p>\n",
    "</th>\n",
    "<th>\n",
    "<p>Match Results</p>\n",
    "</th>\n",
    "</tr>\n",
    "</thead>\n",
    "<tbody>\n",
    "<tr>\n",
    "<td>\n",
    "<p><code>soup.select('div')</code></p>\n",
    "</td>\n",
    "<td>\n",
    "<p>All elements with the <code>&lt;div&gt;</code> tag</p>\n",
    "</td>\n",
    "</tr>\n",
    "<tr>\n",
    "<td>\n",
    "<p><code>soup.select('#some_id')</code></p>\n",
    "</td>\n",
    "<td>\n",
    "<p>The HTML element containing the <code>id</code> attribute of <code>some_id</code></p>\n",
    "</td>\n",
    "</tr>\n",
    "<tr>\n",
    "<td>\n",
    "<p><code>soup.select('.notice')</code></p>\n",
    "</td>\n",
    "<td>\n",
    "<p>All the HTML elements with the CSS <code>class</code> named <code>notice</code></p>\n",
    "</td>\n",
    "</tr>\n",
    "<tr>\n",
    "<td>\n",
    "<p><code>soup.select('div span')</code></p>\n",
    "</td>\n",
    "<td>\n",
    "<p>Any elements named <code>&lt;span&gt;</code> that are within an element named <code>&lt;div&gt;</code></p>\n",
    "</td>\n",
    "</tr>\n",
    "<tr>\n",
    "<td>\n",
    "<p><code>soup.select('div &gt; span')</code></p>\n",
    "</td>\n",
    "<td>\n",
    "<p>Any elements named <code class=\"literal2\">&lt;span&gt;</code> that are <span><em >directly</em></span> within an element named <code class=\"literal2\">&lt;div&gt;</code>, with no other element in between</p>\n",
    "</td>\n",
    "</tr>\n",
    "<tr>\n",
    "\n",
    "</tr>\n",
    "</tbody>\n",
    "</table>"
   ]
  },
  {
   "cell_type": "markdown",
   "metadata": {},
   "source": [
    "After inspecting the website, there are multiple ways we can go about grabbing the section heading names."
   ]
  },
  {
   "cell_type": "code",
   "execution_count": 37,
   "metadata": {},
   "outputs": [
    {
     "data": {
      "text/plain": [
       "[<span class=\"mw-headline\" id=\"Description\">Description</span>,\n",
       " <span class=\"mw-headline\" id=\"Lawsuits\">Lawsuits</span>,\n",
       " <span class=\"mw-headline\" id=\"Gallery\">Gallery</span>,\n",
       " <span class=\"mw-headline\" id=\"See_also\">See also</span>,\n",
       " <span class=\"mw-headline\" id=\"References\">References</span>,\n",
       " <span class=\"mw-headline\" id=\"External_links\">External links</span>]"
      ]
     },
     "execution_count": 37,
     "metadata": {},
     "output_type": "execute_result"
    }
   ],
   "source": [
    "soup_wiki.select(\".mw-headline\")"
   ]
  },
  {
   "cell_type": "code",
   "execution_count": 38,
   "metadata": {},
   "outputs": [
    {
     "name": "stdout",
     "output_type": "stream",
     "text": [
      "Description\n",
      "Lawsuits\n",
      "Gallery\n",
      "See also\n",
      "References\n",
      "External links\n"
     ]
    }
   ],
   "source": [
    "for item in soup_wiki.select(\".mw-headline\"):\n",
    "    print(item.text)"
   ]
  },
  {
   "cell_type": "code",
   "execution_count": 39,
   "metadata": {},
   "outputs": [
    {
     "name": "stdout",
     "output_type": "stream",
     "text": [
      "Description\n",
      "Lawsuits\n",
      "Gallery\n",
      "See also\n",
      "References\n",
      "External links\n"
     ]
    }
   ],
   "source": [
    "for content in soup_wiki.select(\".toctext\"):\n",
    "    print(content.text)"
   ]
  },
  {
   "cell_type": "code",
   "execution_count": 40,
   "metadata": {},
   "outputs": [],
   "source": [
    "res.close()"
   ]
  },
  {
   "cell_type": "markdown",
   "metadata": {},
   "source": [
    "<a id='images'></a>\n",
    "### <ins>Getting an Image from a Website</ins>\n",
    "Let's attempt to grab the Cicada image on this Wikipedia Page: https://en.wikipedia.org/wiki/Cicada_3301"
   ]
  },
  {
   "cell_type": "code",
   "execution_count": 41,
   "metadata": {},
   "outputs": [
    {
     "data": {
      "text/plain": [
       "<Response [200]>"
      ]
     },
     "execution_count": 41,
     "metadata": {},
     "output_type": "execute_result"
    }
   ],
   "source": [
    "res = requests.get(\"https://en.wikipedia.org/wiki/Cicada_3301\")\n",
    "res"
   ]
  },
  {
   "cell_type": "code",
   "execution_count": 42,
   "metadata": {},
   "outputs": [],
   "source": [
    "soup_cicada = BeautifulSoup(res.text,'lxml')"
   ]
  },
  {
   "cell_type": "code",
   "execution_count": 43,
   "metadata": {},
   "outputs": [
    {
     "data": {
      "text/plain": [
       "[<img alt=\"\" class=\"thumbimage\" data-file-height=\"246\" data-file-width=\"405\" decoding=\"async\" height=\"134\" src=\"//upload.wikimedia.org/wikipedia/en/thumb/7/7e/Cicada_3301_logo.jpg/220px-Cicada_3301_logo.jpg\" srcset=\"//upload.wikimedia.org/wikipedia/en/thumb/7/7e/Cicada_3301_logo.jpg/330px-Cicada_3301_logo.jpg 1.5x, //upload.wikimedia.org/wikipedia/en/7/7e/Cicada_3301_logo.jpg 2x\" width=\"220\"/>,\n",
       " <img alt=\"\" class=\"thumbimage\" data-file-height=\"661\" data-file-width=\"3961\" decoding=\"async\" height=\"37\" src=\"//upload.wikimedia.org/wikipedia/commons/thumb/e/e1/Cicada_3301_poster_locations.png/220px-Cicada_3301_poster_locations.png\" srcset=\"//upload.wikimedia.org/wikipedia/commons/thumb/e/e1/Cicada_3301_poster_locations.png/330px-Cicada_3301_poster_locations.png 1.5x, //upload.wikimedia.org/wikipedia/commons/thumb/e/e1/Cicada_3301_poster_locations.png/440px-Cicada_3301_poster_locations.png 2x\" width=\"220\"/>]"
      ]
     },
     "execution_count": 43,
     "metadata": {},
     "output_type": "execute_result"
    }
   ],
   "source": [
    "soup_cicada.select('.thumbimage')"
   ]
  },
  {
   "cell_type": "code",
   "execution_count": 44,
   "metadata": {},
   "outputs": [],
   "source": [
    "image_info = soup_cicada.select('.thumbimage')[0]"
   ]
  },
  {
   "cell_type": "code",
   "execution_count": 45,
   "metadata": {},
   "outputs": [
    {
     "data": {
      "text/plain": [
       "<img alt=\"\" class=\"thumbimage\" data-file-height=\"246\" data-file-width=\"405\" decoding=\"async\" height=\"134\" src=\"//upload.wikimedia.org/wikipedia/en/thumb/7/7e/Cicada_3301_logo.jpg/220px-Cicada_3301_logo.jpg\" srcset=\"//upload.wikimedia.org/wikipedia/en/thumb/7/7e/Cicada_3301_logo.jpg/330px-Cicada_3301_logo.jpg 1.5x, //upload.wikimedia.org/wikipedia/en/7/7e/Cicada_3301_logo.jpg 2x\" width=\"220\"/>"
      ]
     },
     "execution_count": 45,
     "metadata": {},
     "output_type": "execute_result"
    }
   ],
   "source": [
    "image_info"
   ]
  },
  {
   "cell_type": "code",
   "execution_count": 46,
   "metadata": {},
   "outputs": [
    {
     "data": {
      "text/plain": [
       "bs4.element.Tag"
      ]
     },
     "execution_count": 46,
     "metadata": {},
     "output_type": "execute_result"
    }
   ],
   "source": [
    "type(image_info)"
   ]
  },
  {
   "cell_type": "markdown",
   "metadata": {},
   "source": [
    "You can make dictionary like calls for parts of the Tag, in this case, we are interested in the **src** , or \"source\" of the image, which should be its own .jpg or .png link:"
   ]
  },
  {
   "cell_type": "code",
   "execution_count": 47,
   "metadata": {},
   "outputs": [
    {
     "data": {
      "text/plain": [
       "'//upload.wikimedia.org/wikipedia/en/thumb/7/7e/Cicada_3301_logo.jpg/220px-Cicada_3301_logo.jpg'"
      ]
     },
     "execution_count": 47,
     "metadata": {},
     "output_type": "execute_result"
    }
   ],
   "source": [
    "image_info['src']"
   ]
  },
  {
   "cell_type": "markdown",
   "metadata": {},
   "source": [
    "Now that you have the actual src link, you can grab the image with requests and get along with the .content attribute. Note how we had to add http:// before the link, if you don't do this, requests will complain (but it gives you a pretty descriptive error code)."
   ]
  },
  {
   "cell_type": "code",
   "execution_count": 48,
   "metadata": {},
   "outputs": [
    {
     "data": {
      "text/plain": [
       "<Response [200]>"
      ]
     },
     "execution_count": 48,
     "metadata": {},
     "output_type": "execute_result"
    }
   ],
   "source": [
    "# image_link = requests.get('http://upload.wikimedia.org/wikipedia/en/thumb/7/7e/Cicada_3301_logo.jpg/220px-Cicada_3301_logo.jpg')\n",
    "image_link = requests.get('http:'+image_info['src'])\n",
    "image_link"
   ]
  },
  {
   "cell_type": "code",
   "execution_count": 49,
   "metadata": {},
   "outputs": [
    {
     "data": {
      "text/plain": [
       "b'\\xff\\xd8\\xff\\xe0\\x00\\x10JFIF\\x00\\x01\\x01\\x00\\x00\\x01\\x00\\x01\\x00\\x00\\xff\\xfe\\x00FFile source: https://en.wikipedia.org/wiki/File:Cicada_3301_logo.jpg\\xff\\xdb\\x00C\\x00\\x06\\x04\\x05\\x06\\x05\\x04\\x06\\x06\\x05\\x06\\x07\\x07\\x06\\x08\\n\\x10\\n\\n\\t\\t\\n\\x14\\x0e\\x0f\\x0c\\x10\\x17\\x14\\x18\\x18\\x17\\x14\\x16\\x16\\x1a\\x1d%\\x1f\\x1a\\x1b#\\x1c\\x16\\x16 , #&\\')*)\\x19\\x1f-0-(0%()(\\xff\\xc0\\x00\\x0b\\x08\\x00\\x86\\x00\\xdc\\x01\\x01\"\\x00\\xff\\xc4\\x00\\x1c\\x00\\x01\\x00\\x03\\x01\\x01\\x01\\x01\\x01\\x00\\x00\\x00\\x00\\x00\\x00\\x00\\x00\\x00\\x01\\x06\\x07\\x05\\x04\\x03\\x08\\x02\\xff\\xc4\\x007\\x10\\x00\\x01\\x03\\x04\\x01\\x03\\x02\\x04\\x05\\x03\\x04\\x01\\x05\\x00\\x00\\x00\\x01\\x02\\x03\\x04\\x00\\x05\\x06\\x11\\x12\\x07!1\\x13A\\x14\"Qa\\x08\\x152q\\x81#R\\x91$3B\\xa1\\x17\\x16C\\x82\\xc1\\xe1\\xff\\xda\\x00\\x08\\x01\\x01\\x00\\x00?\\x00\\xfdSJR\\x94\\xa5)JR\\x94\\xa7\\xbd)JR\\x94\\xa5)JR\\x94\\xa5)JR\\x94\\xa5)JR\\x94\\xa5)JR\\x94\\xa5)JR\\x94\\xa5)JR\\x94\\xa5)JR\\x94\\xa5)JR\\x944\\xa5(iJR\\x94\\xa5)\\xefJR\\x94\\xa5)J\\x0fzR\\x95\\x1b\\xd5Ss.\\xa6\\xe2\\x18z\\xcb7\\xdb\\xdcf\\xa5\\xf6\\xff\\x00J\\xd6\\xde{\\xbf\\x8f\\x91\\x1b#\\xf9\\xd5S\\x9e\\xeb=\\xc2b\\x14\\xack\\xa6\\xf9\\x85\\xc9\\x1cJ\\x90\\xeb\\xf1Lv\\x9c\\x1b\\xd0!ZV\\xc1\\xff\\x00?j\\x94\\xe7\\xddN\\x9f\\xe8~_\\xd2\\xa5\\xc7\\xe7\\xb5\\x15L\\xbb6\\x90\\x06\\xbd\\xc6\\x81\\x07\\xf7\\xa4\\x8c\\xcb\\xabq\\x8a\\x16\\xefL\\xa2<\\xdf \\x14\\x96/\\r\\x95\\x11\\xf6\\xef\\xdb\\xc7\\x9dW\\x92\\x7fV\\xb3\\xabhP\\x9b\\xd2;\\xba\\x94\\x84\\xf2Y\\x8d7\\xd6H\\xfeP\\xda\\xbb\\xf7\\x1d\\xbc\\xd7\\x9a\\x07\\xe2\\x05\\xdfEO]\\xfa{\\x95\\xc3e\\x92\\xa4\\xc9u\\xa8\\xe5\\xd4\\xb2\\xa4\\xfe\\xa0I\\t\\xf0;\\x9d\\xebUg\\xc7\\xba\\xed\\xd3\\xdb\\xdf\\x04\\xb7\\x905\\t\\xe5\\x1dzs\\xd0\\xa65\\xfb\\xa8\\x8e?\\xf7Z-\\xba\\xe3\\n\\xe7\\x1cH\\xb6\\xcc\\x8d29\\xf0\\xe4wR\\xe2O\\xf2\\t\\x15\\xeb\\xdfj\\x81SU,\\xdb\\xa8\\x98\\xb6\\x13\\xe9\\x8c\\x96\\xf0\\xc47\\x9cO40\\x02\\x9cuI\\xf1\\xb0\\x84\\x82u\\xd8\\xf7\\xf1\\xda\\xb2{\\xbf\\xe2n\\xd4\\xb9\\xa2>#\\x8d]\\xaf\\xba\\xec\\xe2\\xff\\x00\\xd9\\x03\\xd8q\\x01*\\'\\x7fp+\\xbb\\x85\\xfe\"\\xb0\\xbc\\x802\\xc5\\xcd\\xf7,S\\xd4\\x82\\\\D\\xdf\\xf6\\x92\\xa1\\xe5!\\xd1\\xdb\\xfc\\x81[\\x1cg\\xd9\\x94\\xc3o\\xc6u\\xb7\\x99u!m\\xb8\\xda\\x82\\x92\\xb4\\x91\\xb0A\\x1d\\x885\\xf5\\xa5@>\\xd5^\\xc83\\\\k\\x1c\\x07\\xf3\\xbb\\xf5\\xb6\\x12\\xb7\\xae\\x0fHHY?d\\xef\\x7f\\xf5Y\\xf5\\xcb\\xf1\\x15\\x81\\xc6\\x90\\xa8\\xf6\\xf7\\xaeWw\\xb5\\xf2\\x880\\xd4B\\xd5\\xec\\x91\\xcb\\x8fz\\xe5\\xbb\\xf8\\x8c\\x82\\xe3\\xc8f\\xdb\\x85er\\x9fQ\\x00\\xb6\\xa8\\xc1*\\x1b\\xf1\\xa0\\n\\x89\\xdf\\x7f\\xf1]v\\xfa\\x99\\x9d\\xca+\\\\\\x0e\\x92\\xdd\\x94\\xc0:I\\x95pn:\\xcfot)=\\xab\\xf8s\\xa9\\x1dC\\x8e\\x1cvWJ]f:u\\xa5\\xb9|a\\x00~\\xe4\\x8dW\\xca/V\\xf3\\x05/r\\xbaK\\x90%\\xae$\\x85\\xb0\\xff\\x00\\xab\\xbf\\xdb\\xe4\\x00\\x8f\\xe6\\xbd6\\xdf\\xc4\\x16\\x1c\\xe4\\xf1\\x06\\xfa\\xd5\\xdf\\x1d\\x99\\xbd\\x16\\xee\\xb0\\xcbz?r\\x92u\\xfc\\xea\\xb5kt\\xe8\\xb7(L\\xcc\\x81%\\x991\\x1fH[O2\\xb0\\xb4-\\'\\xdc\\x11\\xd8\\xd7\\xa7U\\x87\\xfe&\\xba\\x8bv\\xc4\\xad\\xd6\\x9b\\x1e1\\xea\\xb5y\\xbd,\\xa12[G%4\\xd8!$ \\x7fz\\x8a\\x80\\x07\\xd8o]\\xc8#\\xd6,\\x18\\xd7Im\\x11T\\x99\\xf6kK\\xaf\\x05\\xfa\\xf7{\\x83FL\\xf9N\\x9d|\\xcd\\xa7\\xc9\\'{)\\x1b\\x03~\\x0e\\xc9>L.\\xd1>\\xf9\\x9c\\xb5\\x91\\xdc\\xc6F\\xd65meo3&\\xfb1l\\xb9*V\\xc2C\\x9f\\r\\xb0\\x86\\xd9\\x08*)\\xf9\\x12I \\x9d\\xf8\\x16\\xbe\\xa0dM\\xcf\\xc1.\\x93\\xb1,\\x95\\xa2\\xe8i\\xe6#\\x1bbS)\\xd7\\xa4\\x84\\xfc\\xad\\xa3\\x8e\\xfem\\xeb`\\r\\xf7\\xde\\xc5P\\xfak\\xd3\\x8cf\\xe9\\x82F\\xbe\\xe7\\x0f\\\\\\x9d\\xba\\xfc\\xdf\\x99\\xaeu\\xe1\\xf6\\xc3\\x0e\\xa5ZP^\\x96\\x9e\\'Z\\xd8W\\x8d\\xea\\xadp\\xaf\\xf7\\\\M\\x94\\xc7\\xb6t\\xcaG\\xe4\\xcaW\\xa7\\x19\\xfb4\\xd6d\\x97\\xc0\\x1f#\\x8aO\\xca@)\\x1b\\xe4\\xa2{\\xf6>F\\xf8\\xf9\\xa6Q\\xd4\\x0b\\xf5\\x95\\xd8\\xf6,\\x06\\xf7\\x00\\x97\\x13\\xe8\\xbc\\xf4\\xb8\\xa3\\xd4W\\xb2]l\\x9d\\x84o\\xc9J\\x87\\x81\\xdf\\xda\\xb87\\xebno\\xf9\\x13W\\\\\\xa3\\n\\xc7.\\x91\\x03\\x0bL\\xd8>\\x83\\x0e\\xccd\\x824\\xe3\\x0bJJT\\xa3\\xbd\\xf0\\xd1\\xee\\x8d{\\xee\\xb2\\xd7\\x9a\\xc3X\\xc8]\\x91`\\xbd\\xdc\\xf0\\xf9\\xe4$5\\x1as\\x0f[\\xddI\\xf7\\xdb\\xcdz\\x88\\xd1\\xfb\\xa1#\\xee\\x05\\\\\\xec}D\\xea^;\\x11o\\xb9*\\xdb\\x93Y\\xdb\\x1f,\\x87\\xca\\\\\\x07\\xe8\\x94\\xc8`\\x94\\x95l\\x81\\xfdM\\x1d\\x9f\\x15\\xa3b\\x1d\\x7f\\xc7.kf.N\\xcb\\xf8\\xcc\\xf7?O\\xc5\\x9eq\\x9c\\xfb\\xa5\\xf05\\xaf=\\xd5\\xa1\\xf7\\xadz4\\x86&FjLW\\x9b~;\\xa9\\x0bm\\xd6\\x96\\x14\\x85\\xa4\\xf8 \\x8e\\xc4\\x1a\\xfcm\\x9d\\xe1\\xca\\x8d\\xf8\\x9a\\x8a\\xc6i%w\\x0b}\\xe2Y\\x9a\\xc2\\x99)Y\\x0c\\x95\\xab\\xd3m\\xd4\\xac\\x8d6\\x9e\\x1aW\\xb7\\x00H\\xfaW\\xe8\\xab-\\xc3\\x1fg\\xa8\\xaa\\xc7Z\\xf5#\\xcfE\\xb0\\xaa,6#\\x06#\\x18\\xc4\\x8eN$\\xa0\\xf1W\"\\x06\\xbf\\xb4$\\x80\\x07rhy\\xe6%\\x8e\\xe4\\x19k\\x98\\xc5\\xfa\\xf3\\x02<\\x88\\xb0\\xd7x\\x93#\\xf2\\x86\\x9aX\\x8e9\\xa0\\'\\xd7\\x07H\\x08J\\x81\\xd1\\x1f\\xf1\\n\\xef\\xb3Z\\xb7K\\xf1Fp\\x9c\"\\xdbc\\x8frz\\xe4\\xd4t\\xa9I\\x90\\xe0\\x00+\\x91\\xe4x\\x81\\xbd\\'g\\xb0\\xd9\\xf3\\xe6\\xbc\\xf9\\xd7S1<%\\xb3\\xf9\\xed\\xdd\\x84J\\x1e!\\xb2}W\\xd5\\xff\\x00\\xc0w\\x1f\\xb9\\xd0\\xaa\\x12\\xfa\\x8f\\xd4\\x0c\\xc9*k\\xa7\\x98;\\xd0b/\\xb2n\\xb7\\xe3\\xe9\\'_\\xdc\\x1b\\xf7\\xfe\\n\\xbfj\\xa8\\xe4\\x91\\xed\\xc1\\x92z\\xb7\\xd6\\'f8\\x1c\\xd1\\xb5X\\\\\\tN\\xff\\x00\\xb4\\xa1\\xb4\\x92~\\x9b)\\x1a\\xfa\\xd7\\xf5\\x86`V<\\xc1O1\\x87\\xe1\\x8cZ1r=7\\xef\\xb7\\xc6\\x0c\\x89\\x92\\x0e\\xc6\\xfe\\x19\\xb7\\x14B;\\x7f\\xee\\x10G\\x7f\\x1b\\x1a\\xad\\x08\\xde\\x93\\x8b\\xb6\\xf5\\x83\\x18\\xe9\\xe6J\\xc4h\\x87\\xd3n\\\\\\x18q\\xb8\\xac\\x8d\\x8fQ!K\\xf9\\x81\\xeey\\x107\\xb3\\xe2\\xbei\\xea\\xd5\\xd3\\xd5\\x89i\\x87\\x80\\xe5\\x93/\\xabO\\xcc\\x89\\x91\\xdb\\x82\\xda\\x80\\xecU\\xea\\x15):\\xdf\\xf1\\xf7\\xa4LN\\xef\\x98]\\xa5\\xddsX\\xb3q\\x9f\\\\\\x06\\xa23o\\xc8\\x1e\\x0f\\x02;\\x0ehA\\xf4\\xb6R<\\xa4\\xf7\\xd1\\xd8\\xdfz\\xecO\\xc4cZ\\xb0k\\xfd\\x817\\xc97\\x06&Gye7\\xd9^\\xba\\x99Il\\xeb\\x8a\\x88\\xdaR\\x08\\xe5\\xb3\\xcbZ&\\xa9\\x1f\\x87\\xb1\\n\\xcb\\xd3\\x88\\xf7v\\x1b\\xb9\\xdd_m.\\xa00\\xc4\\xe1-Q\\x92H\\xdba\\xb4\\x90\\x00*H#I:\\xde\\xfb\\x02Mq\\x9d\\x9f\\x8d\\xe7\\xf2\\x8d\\xaau\\xa2\\xd6\\xbb\\xac\\x8em\\xb7\\x12\\xee\\xc2\\xa2\\xce\\xe5\\xd8v\\x94\\x90\\xa4\\xb8\\xb04@\\nJ\\x8f\\xb8\\xab\\xef@\\xf1\\x16q\\xabS\\xee\\xda\\xaf\\xd2\\xa6[_\\xda\\x1d\\x86\\xa6\\xb82\\xd4\\x94\\x10\\x97\\n\\x01<\\x90B\\xd2\\xe0P\\xf0v5\\xe2\\xb5\\x9a\\xa9\\xe7\\xb8-\\xaf0D\\x07f\\xa5\\xd6n6\\xe7=hSXp\\xb6\\xeb\\x0b\\xd8?*\\x87\\xdc\\'\\xc8><V{r\\xb1d\\xb8\\xceW:\\xfd\\x1f\\x1dN_r\\xf4\\x99j\\x04\\xe92\\xb4\\xa8\\xed\\x8d\\xf3AA\\xdf\\x15o\\x92\\xb9\\xa0\\x10w\\xad$\\x93\\xba\\x9c\\x81c\\x9bks2\\xeb~J\\xc5\\xc08\\xb5*\\x169\\x0eQ\\xf4X\\x01|x\\xfaI!KX \\x83\\xbe\\xc3G\\x91>\\xd6\\xec\\'&\\xbf\\xc6\\\\\\x9b\\x91\\xc7lX\\x7fM\\x92\\x85\\x18\\x86zDG\\xd2x\\x8e\\x0e)\\tW\\x1d)]\\xb5\\xd8\\xe8\\xf6\\'\\xde\\xad2,\\x1c\\xeb\\xad\\xf0\\xe1ewu_\\xf1\\xd9P\\x84\\xfbJm\\xee\\x8f\\x81mI^\\x94\\x1dOq\\xb2PRvTIP\\x07[\\x00iy<\\x0e\\xa0H\\x13}\\x1c\\xa7\\x1c\\xc5\\xec\\xac\\xac\\xa9\\xa9LB.\\xbc\\x96A\\xec\\x1c.\\xa86\\x9e\\xdet?\\xc5g\\xd0_j\\xe9}M\\x8a\\xcf\\xd4\\xdc\\xd3%\\xb8-e/\\xaa\\xd2\\xd3\\x06<T\\x7f{\\xae)<8\\xf9\\xf0\\xa2O\\x80+\\xa5x\\xc6s\\x86q\\xf8\\xe8\\xc7]\\x99{z\\xdd)\\x06#7\\x98Q\\xe3\\x90\\xea]$\\xbe\\x95\\xa5iW\\x01\\xc7a*\\x04\\xab\\x90\\xf2+\\x97{\\xb0\\xe5H\\x92\\x89}C\\xea^3\\r\\x87=#2\\xda\\xf3-\\xad\\xb5\\x81\\xc7\\x92\\x02]\\xd8\\x07D\\xf7J|\\xe8\\xeb\\xde\\xaaY\"\\xba?\\x1e\\xf6\\xa9\\x98\\x9b7K\\xa5\\xcd-\\x14\\xa6\\xdf`S\\xd1\\x9aR\\xf9l8\\xa7<\\'@\\x7f\\xc3\\xb7\\xd8\\xd5f\\xfb\\x81\\xdd\\xe7E\\x9br\\x9d\\x8d\\xfeWax6\\xf3\\xf2d\\xdc\\x96\\xfb\\x96\\xe6\\xd0\\xb0T\\xf6\\xd4\\xa4\\xa5\\xc5\\xa9\\n\\xe1\\xc3\\xba\\x89\\x1d\\x80&\\xae_\\xf8\\xe7%\\xe9\\x9b\\x11o\\xbd?\\xcf\\x1aT9\\xae\\xb6![. \\xb1\\xf1e\\xc5\\x00\\x86\\xca\\x16x\\xa9D\\x1f\\xa2H\\xef\\xe2\\xb3\\xa8\\x132\\xfe\\xa2u\\xc5\\x17W\\xadr\\x1f\\xb8\\xc3\\x94\\x85\\xc9\\x8b\\x1d\\xb4\\xa91Yia%\\x00,\\x84\\xeb\\xc8\\xd2\\x8frO\\x9d\\xd6\\xf3\\x87\\xf4nE\\xb6\\xe5w\\xb9\\xb9>\\xe8\\xc4\\x89Vw\\xad\\xd1S.h\\x912\\x1aT\\x90\\x84\\x14)\\x1cP\\x02@\\xd0\\x1b:\\xd0\\xd1\\x1a\\xaf\\x14;$>\\x8bF\\xbb_\\xef\\x88\\xc8r\\x912#q\\xee\\x0e:\\xc3\\x0f\\x046F\\x80QS\\x85IN\\xfeR\\x0e\\xc1\\xf9~\\x95H\\x86\\x8e\\xa4\\xe6\\xd8\\xc5\\xb24;\\xcc<?\\x12}f=\\xaa4\\x89\\ne\\xd7\\xa3\\x83\\xb4\\x8ei\\x05K\\tG\\x14\\x8d\\x94\\x85v\\xd0;\\xddv\\xa0t\\xe6\\x7fM\\xdfi\\x9b$$\\\\\\xb2)\\xe9K\\x90\\xeeF\\x1a_\\x92\\xd2\\x93\\xb2\\xf1)q~\\x94p\\x07t\\xabk*=\\xbe\\xc3\\x9bz\\xbeb\\x13=v\\xb2\\xfc\\xc36\\x91pR>kM\\xd5\\xe51\\x188\\x01\\x1bZZJRQ\\xbdk\\x82\\xb6@5p\\xc5\\x11\\r\\x8bU\\x96\\x1fH\\x1a\\xc1\\xceA\\xc5_\\x1d.LgT\\x15\\xc7\\xdd\\x0e$\\xadC\\xbe\\xfb)G\\xb7\\x8a\\xfa\\xb9\\x99\\xf5em**\\xed\\xb6\\xb6\\xa2\\xb2\\xe3\\x8d\\xcd\\xbfA`>\\xdb$\\x1d\\xed\\xb6\\x96\\xe2I\\xe2\\x06\\x8f {\\xfd}\\xfc\\xaeLy\\x8b}\\xba^a\\xd5l\\x9a\\xc1.\\xee\\x92\\xf46eDe\\x80\\x1a\\x07@\\xac!%\\t$h\\xeb\\x90\\xd6\\xc6\\xea2L^\\xf92\\xdc\\xbc\\xb2\\xc3\\xd4hW\\xa5B`\\xb2\\xd5\\xc9\\xb8\\x87\\xe2\\x98o\\xd9\\x1c\\xe2\\x9f\\xea\\r\\xa8\\x12\\x95\\xa0\\x8f&\\xb4k\\x16\\'l\\xbd\\xff\\x00\\xe9\\xbc\\xbeM\\xf5\\xf9\\xd7\\xc6#6\\r\\xe2\\x03\\xde\\x83S\\x1b\\x1c\\x94R\\xa6\\x87\\xc9\\xc0\\xf2;\\x1a\\x07\\xe5\\x1d\\xc6\\xab0\\xeb\\x07Q^\\xcb\\xdb\\x8f\\x8a\\xe1\\xca\\xb1\\xddcMC\\xa2t\\xe0T\\xb6\\xdaH\\xd8\\x08\\'_\\xd2$\\x83\\xa5l\\xef\\xb1\\x07\\xbdS.\\xb0\\xed6E\\xd9#\\xc6\\xb4_\\xac\\xf9\\xab/0\\xcf\\xc2\\xf3\\x1f\\x19\\xe9\\xa8\\x10\\x1d\\x8c\\xea4\\x89#\\x97\\x11\\xa5{\\x05\\x03\\xf5\\x1ae\\x9b\\xa3\\xf7\\x9c\\x8b#E\\xe3\\xa8\\xa6\\xd2\\xda\\x1cm\"|kZ\\xdcI\\xba\\xad\\x1a\\xf4\\xd5!;\\x08II\\x1b\\xfe\\x9f\\x93\\xbe\\xfa\\xad\\xca\\xd7o\\x89k\\x82\\xcc;tf\\xa2\\xc4dqm\\xa6\\x92\\x12\\x94\\x8d\\xec\\xe8\\x0f\\xa9$\\xff\\x005\\xeb\\xdd+\\xf9)\\xd9\\x04\\xeb\\xb1\\xdde\\xfdK\\xc0\\x911\\xf1~\\xb1\\xdam\\xaf\\xdfXu\\x0f\\xfa\\xaeFB\\x94\\xf7\\x15r-\\xb8\\x924\\xb4\\x90\\x00\\xed\\xa5\\x8d\\x02\\t\\xf1Y\\xa5\\xe9\\xe8\\xd9~N\\xe1\\xea\\xf6[\\x1a%\\x82\\x10L\\x86l\\xb0\\xc3\\x8d2\\xef%\\x10\\x92\\xb5\\xfe\\xa2S\\xdd*\\x04%I\\xed\\xd9 \\xf7\\xea\\xe2\\x13\\xb2\\xec\\xa9\\xb5\\xb9\\xd2\\x88\\xf6\\x0cs\\x01\\x83+\\x84d\\xcf\\x88w4\\xa4\\x82\\xb75\\xc4\\x9e$\\xf7\\x04\\x10v\\x9dl\\x10uR\\xebfam\\xeaL\\xfbu\\x87\\x12\\x93y\\xc9\\x1fjx\\xf5\\xe1\\xc3eMFq\\xae]\\xcaU\\xf5\\x1a\\xd75\\x05\\'J$j\\xb5\\x89\\x18\\x96aab&9\\xd2\\xe6lX\\xf68\\x96B\\xdd\\x9f()\\xf9^\\xaa\\x89\\xe5\\xf2\\xf7\\nW\\x8e\\xe7\\x7f\\xb8\\xd6\\xab3\\x8f\\x8d\\xde\\xb2l\\x9a\\xe1o=^\\xb9\\xdc\\x8d\\xbd\\x0bM\\xdd\\xd8\\xfc\\xe2\\xc7\\x847\\xa2\\x92\\xae\\\\\\x17\\xc8\\x85\\x80\\x13\\xadq;#\\xc5z1\\xac3\\xa6m\\xc8\\\\k\\r\\x86\\xf7\\x9e\\xcd\\xf5\\x80v[\\r\\x7f\\xa5B\\xb7\\xe0\\xbc\\xb2\\x94k\\xcf\\x85+z\\xad\\xc3\\x1e\\xc6\\x91o\\x85\\x196\\xab5\\xa6\\xc0\\x14\\x85z\\xed\\xb2\\xda^u\\n\\xdf`\\x14\\x00\\x07\\xeaw\\xbe\\xff\\x00_5\\xea\\xb7\\xe1V\\xc6_\\x12nj\\x93z\\x9a\\x16\\x16$\\\\\\xdc\\xf5\\xca\\x14\\x0e\\xc1m\\x07\\xe4oG\\xc7\\x14\\x8a\\xcc\\xba\\xf1\\x8f\\xdc$5\\x1f*\\xc8rdZ\\xecv5\\xadm\\xc2\\x83\\x14\\xad\\xd5\\x95\\x8e\\x00\\x87\\x14O\\xf5\\x15\\xb0\\x9d\\xf1\\xd2\\x06\\xd5\\xf5\\xaewE:\\xaf\\x8e\\xa3\\xa7\\x97\\x19\\x0b\\xb7\\xaa\\x03\\x96f\\x8a\\x9d\\x8e\\x99\"L\\x89\\x0c\\xa4\\xf2+\\x1b\\xd2\\x8e\\xbdO*\\xed\\xb3\\xe7\\xce\\xb8\\x9d\\x1e\\xea[\\x0fe=F\\xcc\\xf2i\\xb3U\\x8f\\xa1l1\\x16c\\xed\\x12Yd\\xbc\\xe0m\\xae\\x08\\x04oK\\x04\\xebdh\\x9fs_N\\x93\\xe4s:\\x99\\xd6\\xbc\\x9b$\\x96\\x96\\x95\\x89\\xc7\\xb7\\xae\\xd6\\x94Ie!.0\\xe3\\xbbm\\xa5\\x8f\\n*<\\x94w\\xbf:\\xf7\\x15\\xa9_\\xf1k\\xbb\\r\\xfeci~\\r\\xec\\xaa(\\x89*\\xd5.\\x1ba\\x89\\xc9\\x0e\\xed\\xb2\\x08 6P\\x93\\xad\\xe9@\\x81\\xe3`W9\\xac{\\xe7\\x8fmh\\xae\\xdc\\xead\\x155n\\xb9\\xeelUh|\\xc6;\\x84\\x87\\x1a\\x1d\\x8e\\xb4@\\x1e\\xc3U\\xe8\\xcb\\xed\\x17\\xf5\\xdca\\x86\\xedrd\\xc3 6\\xfb\\x91\\xa7\\xa1\\xd4 k\\xf5z\\x0f\\xa1C\\xb0\\xdfa\\xbeUA\\xc9\\xbao\\x8d-\\xa7\\x1f\\x9d\\x0f\\x1fh\\xa5\\x85KH\\x95\\xca\\xd3\\'\\xd2H\\xda\\xdc\\x05\\x82\\xa4\\xa8\\x02{\\x9544}\\xb5\\xaa\\xaf\\xdb \\xdd\\xad\\x995\\xb3\\x1b\\xc53\\xbb\\xf5\\xb5W\\x16\\x0b\\xac\\x89\\x8bb\\xe5o1\\xd2\\x95)Ji\\xe0\\xae% \\x82\\x9f\\xd0\\x93\\xf5\\x1d\\xc5E\\xcf\\x12\\xcd\\xe3\\xaa\\xe9\\x8b\\xdb/\\xb6+\\x94\\xb9\\x8a\\r\\xc9i\\xd5.!m\\xb0>w>\\x1d\\xc1\\xe9)\\x05>V\\xd8\\xe5\\xee\\r]\\xed\\xb6\\x1c#\\xa1\\x92\\xe1\\xcdZo\\x8f]n\\x0c\\x86\\x0b\\x91\\x9au\\xf6=C\\xc4h!:N\\xd4vR\\x93\\xb3\\xa0u\\xf7\\xe0^\\xaf9\\x87S\\xa6\\xe4\\x16\\xacz\\xf5\\n\\xd1kq\\x82\\xd5\\xb2\\x0c\\xa8*`]\\x9a\\xee\\x1cu\\xa7\\x1cO$\\xac\\x11\\xad\\r\\xf1\\xde\\x8e\\xbb\\x9a\\xe5\\xe0\\x98\\xfc\\x19\\xb7\\x06-=:\\x17\\xab6Sig\\xd3\\x9bwu\\xa4\\x96;:C\\xb1f6\\x07\\x05\\xa9:\\x1cx\\xf2\\xe5\\xa0I\\xed\\xdb~\\xe9\\xc6\\x14\\x8cF\\xc3\\x1a,\\xbb\\x83\\xf7\\x89\\xed\\xec\\xfcd\\x9096\\x08\\xff\\x00m\\xa1\\xdc\\xa1\\xb1\\xdfI\\xdfm\\x9a\\xb7\\xebU&\\xa3U45\\x1a\\xedU|\\xab\\x03\\xc7\\xb2w\\x93\"\\xedma\\xc9\\xa8\\x05)\\x94\\x94\\x80\\xe0\\x04\\x01\\xdc\\xeb\\xbfa\\xae\\xfb\\xaa-\\xcb\\xa6Y\\x04\\x98F\\xc7/)\\xbcK\\xc6\\x9aB\\xc4V\\xe2J\\x11$\\x84\\x94\\x91\\xe8<\\xa0\\x92\\x1el\\xec\\r\\x9d\\x11\\xa3\\xe7um\\xc0q\\xabv\\x17\\x84*\\x0ch\\xac\\xd8\\xd0\\xc2W\\xebH\\xe6\\x95\\x15k\\x7f\\xd6Z\\xd4;\\xfd~n\\xc0}\\xab\\x1c\\x9b\\x91Y\\xf2\\x0b\\xb4\\x8bv)\\x0f;\\xea\\x02\\x80\\xf4\\x9cs\\xf3w\\xa2\\xc1J\\xfe\\xebG\\x14\\x8f>t\\x01\\x07\\xb6\\xeb\\x93\\x1b\\r\\xb0\\xf4\\xff\\x00\\x13\\xba[z\\x80\\xfd\\xbe\\xd8o\\x17\\x18\\xf3\\xa0\\xda\\xd9.\\\\d\\x045\\xc8zj\\t\\xe2\\x15\\xfa\\x94\\x01 \\xa7d\\xef}\\x80\\xdd:?\\x97X\\xb2\\xbcU\\n\\xc7\\x1d\\x92Z\\x84\\xaf\\x86u\\x99L\\x06\\\\i@v\\x05)\\xf9\\x07m\\x1f\\x97\\xb7\\xf3\\xb1W\\xbaVw\\xd7\\xe8I\\x97\\xd2\\x9b\\xfa\\xd2\\xeb\\xec\\xc9b2\\x9de\\xc6\\x06\\xdc*\\xfe\\xc1\\xae\\xe0+\\xc1\\xd7\\xb6\\xf7\\xb1\\xda\\xb1O\\xc3\\r\\xbe\\xcd\\x0f\\x02\\xcan\\x17\\xa6\\xb9\\xc2\\\\\\xa6\\xa1\\xcay\\r\\xfa\\xc1\\xf6\\\\m \\xb2\\xa4\\xa4\\x12\\x12\\x14\\xe8$\\x8f\\xfe\\x8dk\\x0ce\\xf6\\x86\\xecW?\\xcam\\x12\\xad\\xf8\\x9cFR\\xc3R\\xd5fQ\\x8c\\x17\\xa5\\x9fT5\\xd9ki!(\\xd9\\xd0\\x1b#\\xbf\\xb8\\xf5a\\xafXrX`@\\x87\\x19r\\xa2\\xa9\\xa9\\xf2\\x15kiH\\x84\\xec\\xa5\\x04\\xf0q+Z@R\\xd2\\x94\\xa1\\\\N\\xf8\\xecodU\\xb7\\x14\\xb6\\xd9!2\\xe2\\xb1\\xc5\\xa0CO\\xfaOE\\x87\\x8a\\x99iM-|\\x92\\x94\\xefIW%+\\x97\\xb9>|W^L(\\xd2\\x94\\x85\\xc8a\\xa7\\x16\\xde\\xf8)I\\x05I\\xfa\\xe8\\xf9\\x15\\xf4\\x8c\\xca\\x18e-\\xb7\\xcb\\x8a|rQQ\\xff\\x00\\'\\xbdU:\\xab\\x8dB\\xc9\\xf0\\xc9\\xf1f\\xbd\\x12\"\\xdaO\\xac\\xcc\\xd9H\\nLe\\xa4\\x82\\x14vGn\\xda#z \\xf7\\x04v\\xaf\\xca_\\x87<57\\xec\\xb2fE\\x151\\xa6\\xc6\\xb4\\xfa\\x856\\xf7\\xdc,)\\xf5\\xad\\x04$\\x82\\x13\\xc0#d\\x82=\\x86\\xbb\\x1d\\xd5\\xc0d\\xcf\\xe3\\x8f\\xc8\\x83\\x91\\xc7\\xce\\xb1\\x99(k\\x93A\\xab\\xda\\xaeM!\\x00\\xefe\\xa5\\x82B44T\\x02\\x87\\x9f\\xda\\xb4\\xecB\\xdb\\x92\\xe4\\xf66.\\xb0\\xba\\x92\\xd4\\xa6d6y\\x88\\xf0\\xd9y,\\xbcS\\xa3\\xa7\\x11\\xe9\\xec\\xa4k\\\\\\xd2t@5\\xf6o\\xa1X\\xeb\\xb2[v\\xf3x\\xcaoM\\xa1\\xd1 3q\\xba\\xadh.\\x81\\xafS\\xe5\\t<\\xb5\\xef\\xba\\xd4`\\xc2\\x8d\\x022#\\xc3a\\xb6\\x18G\\xe9m\\xb4\\xe8\\x0f\\xff\\x00~\\xf5\\xe8\\xa5)JS\\xbd)_\\x9b\\xbf\\x19w[\\xabV|j\\xcb\\r\\xdf\\x86\\xb6\\xdc\\xdfpJp\\xb9\\xc5\\x0bR\\n8%g\\xd9#\\x91W\\xf1\\xbfj\\xf6\\xcd\\xc9\\xed8\\x8c\\xf88\\xf6+.\\xf1\\x91\\\\\\xa3DLF\\xec\\x16\\x00\\x19\\x8c\\xcax\\xa4\\xa9\\xd7\\x1c\\t$\\xac\\x91\\xbe\\\\\\x89\\x1c\\x8f\\x8d\\xd7\\x12\\x1e%r\\xca\\xfa\\x84\\xd4{\\xcc\\xe8X\\x95\\xd9\\x98\\xaa\\x93\\x1e\\xd9i\\x94\\xb7\\xae)B\\x9cIZ\\xa4I\\xfb\\x82t\\n\\xbd\\xc6\\x80\\xf2wk%\\x9a%\\x8b\"\\\\k]\\xa2\\x14\\x18\\n\\x80\\xda[y\\x8eAn\\x14,\\xed+\\x1a\\xe3\\xd8)$(\\x92\\xa5m_J\\xb4\\x8f\\x14\\xaa\\xdfQl\\x8c\\xe4XM\\xe6\\xd7)\\xe5\\xc7jDe\\x82\\xea?R47\\xb1\\xfe+\\t\\xfc3J\\x8a\\xae\\x85_\\x92\\xbb\\xc2\\xecB,\\xf7\\x15&{A!M\\xa4\\xa1\\xb2\\x15\\xb2\\x0f\\xdc\\x7f\\x9dV\\xa3\\x88g\\xd6\\xb9M\\xcbf\\x07\\xe7\\xf7+M\\xbe\\'\\xc4=~\\x91\\x15\\xc2\\x87\\xd7\\xc8\\x0e\\x08\\x1c\\x01Q\\xd7\\xcd\\xf2\\'\\x88\\x15\\xe8\\xc5\\xb2[5\\xfb5\\x97\\xf9~`\\x9b\\x92\\x8ct\\xbb\\x1a\\xd3\\x1c%\\x08\\x8c\\x80\\x00R\\x96\\x07\\xcc\\xa5l\\x83\\xf3k[\\x00\\n\\xb8Z\\xed\\xf0mn\\xc9j\\x12\\x10\\xd2\\xe5<\\xe4\\xc7\\x104\\n\\x96\\xa29\\xab_s\\xad\\xfd\\xcdtiY\\x1f\\xe2\\x9a\\xe2\\xab\\x7fE\\xef)KKs\\xe2\\xdcf1RT\\x07\\x00V\\x15\\xc8\\xef\\xc8\\xf9u\\xa1\\xf5\\xaf\\xa7M\\xf0\\xf9X\\xbfE\\xec\\xf1-\\xb1\\xd9\\x93|m\\x8f\\x8fB\\x1fZ\\xd9B\\x9fp\\xf3)_\\x1e\\xfd\\x81\\t\\xf1\\xff\\x00\\x11\\xd8V\\x1b\\xd6<\\xf6\\xe1\\x95%\\x887\\x0bR\\xad\\x17\\xa6\\x1fK.z\\x8d4C\\x1a\\xf9\\x94Y\\x97\\xb0\\xa4(\\xeb\\xba\\x15\\xad\\x85V\\xab\\xd0L~\\xd0\\xf4\\x87\\xb2\\xccB\\xee\\xfa\\xe3\\xc8yp\\xae1\\nBYt\\xa1 \\xa5`k\\xfd\\xc0J\\x0f.\\xdb\\nWa\\xba\\xdd\\x06\\xfd\\xeai\\xfbST\\xa7zT\\x0f5&\\x94\\xaa\\xcfP\\xf0\\xcbVw\\x8c\\xc8\\xb2^\\x9b%\\x97>v\\xdeG\\xeba\\xc1\\xfaV\\x93\\xf5\\x1b?\\xb8${\\xd7\\xe7\\xb7-Y_I1\\x8b\\x85\\x9aE\\xd3\\xe0\\xad\\xf3\\xa7\\xb7\\xc6\\xfb\\x12\\'\\xaa\\xf1h\\x94\\xa3\\x82Or\\x95\\x84\\xf8B\\xf5\\xae\\'\\x82\\xcfa]kL\\x98X\\xf3\\xd3\\xa4Y[\\x97\\x03\\x12\\xb6\\xbc\\x86gMJC\\xd7l\\x92b\\xc8\\xe0\\xcaO\\xebH$\\x83\\xaf\\x94\\xfc\\xdd\\xb4\\t)\\xbbd\\x19\\xdc\\x84^q\\xe8\\x17\\x1b\\xcc\\x1cqP\\xdb\\x17\\\\\\x85\\t!\\xe0\\xc3|\\x90\\x96\\xa2)z\\xd2T\\xb2\\xe0\\xdf\\x83\\xa4\\x92;\\x11\\xbb\\xa5\\x8b\\xa8x}\\xf5,\\xfeU\\x92\\xdad-\\xe2Cm|RR\\xea\\x88>=5\\x10\\xaf\\xfa\\xabH\\xef^\\x1b\\xfc5\\xdc,\\x97\\x08M\\xa9H\\\\\\x98\\xce\\xb2\\x14\\x93\\xa2\\x92\\xa4\\x91\\xb0~\\xbd\\xeb\\x05\\xfc\\x18\\xcb.\\xe0w\\xcb[\\xf1[A\\x89q%J\\xf9v\\xbeh\\x03J\\x1ev\\n<\\x9e\\xc7`\\x0f\\x06\\xb5\\x8b\\'\\xac\\xae\\xa6d\\xff\\x00\\xeb%\\xb8\\xc2bC\\xff\\x00N\\xb9)[m(\\xfa\\x9d\\xd0\\xd8\\x1bF\\xc0\\xd9\\xd9<\\xbf\\xc6\\xa3\\x0c\\xb5Gn\\xf1z\\xbc\\xb2\\xb7R\\xa9\\x8aCB*\\xc3e1\\xf8\\xef~\\x99H\\xe4\\x12\\xbe\\xca)Q\\xf26<\\xd72e\\xe9\\xf97azf;\\xb1\\x93e\\xbb\\xb9f\\x98\\x92\\xb0R\\xecgC\\x7f\\xd5\\xfe\\x14\\xa6\\x95\\xf6\\x01b\\xb4D\\xef]\\xfc\\xd7\\xf0\\xfb\\xcd\\xb0\\xd9[\\xcbJ\\x10;rR\\x80\\x1f\\xe4\\xd7\\xe5\\xff\\x00\\xc4^P\\xd6q\\x97[z{h\\xbf\\xdab\\xdb\\x92\\x93.t\\xc7\\x97\\xfd4<\\x84\\xadA\\x05\\xc1\\xb1\\xd9#z\\x1e\\xe4\\x02{U\\xa1\\xee\\xb2\\xc4WK\\x04\\x9b\"\\x8bw8\\xf1\\x10\\xdb\\x8d\\xad`)\\xa5#\\x8a\\x1d)Y\\xd8*F\\xd2tB\\xbfRI\\x05$\\x91J\\xe9\\xff\\x00J\\xb2>\\xa0\\xdc\\xcd\\xf3/\\x12m6\\xa7\\x1e\\xe4\\xebR\\x1bRd\\xdc\\x1b\\xdf\"\\x827\\xb4\\xb6F\\xb5\\xcc\\xa8\\xa4\\xfe\\x8d\\rk\\xf5\\x05\\x82\\xcbn\\xc7\\xedL[l\\xb0\\x98\\x83\\x01\\x91\\xa6\\xd9e<R7\\xdc\\x9f\\xb9>\\xe4\\xf75\\xd1\\xa5)JR\\x94\\xa5)_\\x19qX\\x97\\x1d\\xc8\\xf2\\x99i\\xf8\\xee$\\xa5\\xc6\\x9dHRV\\x0f\\xb1\\x07\\xb1\\x15FOL,\\xf1.\\x8f\\xcc\\xb4\\xa9\\xc8)\\x92\\xe2V\\xfbI\\xd9#\\x89\\xd8\\xf4\\x9c\\x048\\xd7\\xb7`\\xae#\\xc0MY\\xce3dS\\xd3^]\\x9e\\xdc\\xb7g\\x14\\x19K\\\\d)R\\n?Ap\\x91\\xf3\\x11\\xecO\\x8a\\xf1H\\xc3\\xac\\xcc\\xba\\xf4\\xebE\\x9e\\xcb\\x0e\\xf0\\xae*L\\xc3omJ\\nN\\xbb\\x9dh\\x9e\\xc3]\\x8dY\\x05\\x0f\\x8a\\xfc\\xcf\\x87D\\xff\\x00\\xc7\\x9f\\x8a\\x9b\\xcd\\xb2D\\xd3\\x1a\\xd9\\x91\\xb2\\xb91PQ\\xf2<\\xb7\\x17\\xcd(\\xfa$\\xa5A\\xd4\\x83\\xf6\\xd7\\xfc\\xaa\\xe3c\\xb9\\xe0\\xd6{\\xf6e\\x1d\\x0eKg\\xe2\\x9ff\\xd6\\xf9o\\xe2\\x9eu\\xc5\\xb6\\x95\\'E`\\x15%[YH<\\xbd\\x86\\xb5\\xda\\xb6(\\xa8Kq\\xdbKh-\\xa0\\x01\\xa4\\x91\\xdc}\\xab\\x9b\\x0b\\x1e\\x81\\x0e\\xd32\\xda\\x96\\xd4\\xe49\\x8e\\xc8u\\xf48w\\xea\\x17\\x96\\xa5,\\x12=\\xb6\\xb2\\x07\\xd0j\\xbe0c\\xdc\\xed\\r\\xb5\\x11\\x80\\x89\\xf0\\x19h6\\xda\\xdex\\xa6@\\x00v\\n$\\x10\\xbfo\\x9b`\\xfdw\\xe6\\xb9\\xb9\\xee\\x01g\\xce\\x04CyC\\x8e*(W\\xa4\\x85,\\xa9\\xad\\xa8h\\x957\\xbd\\x13\\xf4P\\xd2\\x87\\xb1\\x15\\xe4\\xb2t\\xd3\\x1b\\xb6\\xa1\\xd4\\xb5b\\xb3GyL.0\\x91\\x0e\\'\\xa6\\xbfMCJ\\x1f7.\\xe4\\x12\\t\\xd9\\xed\\xda\\xbb\\x18\\xfe\\x15\\x8d\\xe3\\xed\\xb0\\x8b5\\x8e\\xdf\\x10\\xb2\\x08C\\x8d\\xb0\\x9ec~O-l\\x93\\xf5\\xab\\x16\\xaa}\\xa9\\xe2\\xa3\\xde\\xa7\\xcd\\x00\\xa5)O\\x14\\xa5)\\xaaST\\xa1\\xa8\\xa9\\xac\\x17\\xf1u\\x8e?7\\x08\\x81\\x91\\xdb\\xb9\\xa2\\xe1a\\x94\\x97}F\\x87\\xce\\x96\\x96@*\\x04w\\x1cT\\x10~\\xdd\\xcdj}6\\xc9\\x86c\\x84Z/\\xe9l4f\\xb3\\xcdm\\x83\\xb0\\x85\\x83\\xc5i\\x07\\xdc\\x05$\\xf9\\xab>\\xa8\\x07zPx\\xa5*\\rH\\xa5(h\\x06\\x85)JSt\\xa5)JR\\x94\\xaf\\x9b\\xec\\xb6\\xfb+i\\xe4!\\xc6\\x96\\x92\\x85\\xa1`\\x14\\xa9\\'\\xc8 \\xf9\\x06\\xb0\\xce\\x8f\\xe3\\x19\\x07O\\xba\\xa7\\x92\\xd8\\x85\\xb6h\\xc2\\xee\\x1c\\xe5[\\x9fJ\\xbdFYP#@\\x9f\\xf8\\x12\\x92S\\xdfD\\xf0\\x1e|\\xd6\\xee\\r)OzR\\x94\\xa5EO\\xefJR\\xa2\\xa6\\x94\\xa0\\xf1JR\\x86\\xa2\\xa6\\xa3_z\\x93Q\\xfbT\\xfbT\\n\\x9aT\\x1a\\x93JR\\x94\\xa5)JR\\x94\\xa5*\\x05MF\\xaahj\\r\\x05\\x0f\\x9a\\x91JTk\\xbdM)Jn\\x9b\\xa5\\r5CC\\xe2\\x94\\xdd\\x05A\\xa9\\xa1\\xa5)QS\\xaaT\\x1f5\"\\x86\\xa3\\xde\\xa6\\x82\\x9b\\xa5\\rE\\x05M*7_\\xff\\xd9'"
      ]
     },
     "execution_count": 49,
     "metadata": {},
     "output_type": "execute_result"
    }
   ],
   "source": [
    "# The raw content (its a binary file, meaning we will need to use binary read/write methods for saving it)\n",
    "image_link.content"
   ]
  },
  {
   "cell_type": "markdown",
   "metadata": {},
   "source": [
    "**Let's write this to a file:=, not the 'wb' call to denote a binary writing of the file.**"
   ]
  },
  {
   "cell_type": "code",
   "execution_count": 50,
   "metadata": {},
   "outputs": [],
   "source": [
    "f = open('cicada_webscrape.jpg','wb')"
   ]
  },
  {
   "cell_type": "code",
   "execution_count": 51,
   "metadata": {},
   "outputs": [
    {
     "data": {
      "text/plain": [
       "5892"
      ]
     },
     "execution_count": 51,
     "metadata": {},
     "output_type": "execute_result"
    }
   ],
   "source": [
    "f.write(image_link.content)"
   ]
  },
  {
   "cell_type": "code",
   "execution_count": 52,
   "metadata": {},
   "outputs": [],
   "source": [
    "f.close()"
   ]
  },
  {
   "cell_type": "markdown",
   "metadata": {},
   "source": [
    "Now we can display this file right here in the notebook as markdown using:\n",
    "\n",
    "    <img src='cicada_picture.jpg'>\n",
    "    \n",
    "Just write the above line in a new markdown cell and it will display the image we just downloaded!"
   ]
  },
  {
   "cell_type": "markdown",
   "metadata": {},
   "source": [
    "<img src='cicada_webscrape.jpg'>"
   ]
  },
  {
   "cell_type": "markdown",
   "metadata": {},
   "source": [
    "<a id='eg1'></a>\n",
    "### Example 1: Scrape data from http://books.toscrape.com/ and load into a Pandas Dataframe"
   ]
  },
  {
   "cell_type": "code",
   "execution_count": 53,
   "metadata": {},
   "outputs": [
    {
     "name": "stdout",
     "output_type": "stream",
     "text": [
      "<Response [200]>\n"
     ]
    }
   ],
   "source": [
    "# import requests\n",
    "\n",
    "url = 'http://books.toscrape.com/'\n",
    "res = requests.get(url)\n",
    "print(res)"
   ]
  },
  {
   "cell_type": "code",
   "execution_count": 54,
   "metadata": {},
   "outputs": [
    {
     "data": {
      "text/plain": [
       "requests.models.Response"
      ]
     },
     "execution_count": 54,
     "metadata": {},
     "output_type": "execute_result"
    }
   ],
   "source": [
    "type(res)"
   ]
  },
  {
   "cell_type": "code",
   "execution_count": 55,
   "metadata": {},
   "outputs": [
    {
     "name": "stdout",
     "output_type": "stream",
     "text": [
      "<class 'str'>\n",
      "<class 'bytes'>\n"
     ]
    }
   ],
   "source": [
    "# res.text\n",
    "\n",
    "# res.content\n",
    "\n",
    "print(type(res.text))\n",
    "print(type(res.content))"
   ]
  },
  {
   "cell_type": "code",
   "execution_count": 56,
   "metadata": {},
   "outputs": [],
   "source": [
    "soup_bts = BeautifulSoup(markup=res.text, features='lxml')\n",
    "# soup_bts"
   ]
  },
  {
   "cell_type": "code",
   "execution_count": 57,
   "metadata": {},
   "outputs": [
    {
     "data": {
      "text/plain": [
       "bs4.BeautifulSoup"
      ]
     },
     "execution_count": 57,
     "metadata": {},
     "output_type": "execute_result"
    }
   ],
   "source": [
    "type(soup_bts)"
   ]
  },
  {
   "cell_type": "markdown",
   "metadata": {},
   "source": [
    "Suppose we wanted to grab all of the titles from the webpage. There are multiple ways of doing this."
   ]
  },
  {
   "cell_type": "code",
   "execution_count": 58,
   "metadata": {
    "scrolled": true
   },
   "outputs": [
    {
     "data": {
      "text/plain": [
       "[<h3><a href=\"catalogue/a-light-in-the-attic_1000/index.html\" title=\"A Light in the Attic\">A Light in the ...</a></h3>,\n",
       " <h3><a href=\"catalogue/tipping-the-velvet_999/index.html\" title=\"Tipping the Velvet\">Tipping the Velvet</a></h3>,\n",
       " <h3><a href=\"catalogue/soumission_998/index.html\" title=\"Soumission\">Soumission</a></h3>,\n",
       " <h3><a href=\"catalogue/sharp-objects_997/index.html\" title=\"Sharp Objects\">Sharp Objects</a></h3>,\n",
       " <h3><a href=\"catalogue/sapiens-a-brief-history-of-humankind_996/index.html\" title=\"Sapiens: A Brief History of Humankind\">Sapiens: A Brief History ...</a></h3>,\n",
       " <h3><a href=\"catalogue/the-requiem-red_995/index.html\" title=\"The Requiem Red\">The Requiem Red</a></h3>,\n",
       " <h3><a href=\"catalogue/the-dirty-little-secrets-of-getting-your-dream-job_994/index.html\" title=\"The Dirty Little Secrets of Getting Your Dream Job\">The Dirty Little Secrets ...</a></h3>,\n",
       " <h3><a href=\"catalogue/the-coming-woman-a-novel-based-on-the-life-of-the-infamous-feminist-victoria-woodhull_993/index.html\" title=\"The Coming Woman: A Novel Based on the Life of the Infamous Feminist, Victoria Woodhull\">The Coming Woman: A ...</a></h3>,\n",
       " <h3><a href=\"catalogue/the-boys-in-the-boat-nine-americans-and-their-epic-quest-for-gold-at-the-1936-berlin-olympics_992/index.html\" title=\"The Boys in the Boat: Nine Americans and Their Epic Quest for Gold at the 1936 Berlin Olympics\">The Boys in the ...</a></h3>,\n",
       " <h3><a href=\"catalogue/the-black-maria_991/index.html\" title=\"The Black Maria\">The Black Maria</a></h3>,\n",
       " <h3><a href=\"catalogue/starving-hearts-triangular-trade-trilogy-1_990/index.html\" title=\"Starving Hearts (Triangular Trade Trilogy, #1)\">Starving Hearts (Triangular Trade ...</a></h3>,\n",
       " <h3><a href=\"catalogue/shakespeares-sonnets_989/index.html\" title=\"Shakespeare's Sonnets\">Shakespeare's Sonnets</a></h3>,\n",
       " <h3><a href=\"catalogue/set-me-free_988/index.html\" title=\"Set Me Free\">Set Me Free</a></h3>,\n",
       " <h3><a href=\"catalogue/scott-pilgrims-precious-little-life-scott-pilgrim-1_987/index.html\" title=\"Scott Pilgrim's Precious Little Life (Scott Pilgrim #1)\">Scott Pilgrim's Precious Little ...</a></h3>,\n",
       " <h3><a href=\"catalogue/rip-it-up-and-start-again_986/index.html\" title=\"Rip it Up and Start Again\">Rip it Up and ...</a></h3>,\n",
       " <h3><a href=\"catalogue/our-band-could-be-your-life-scenes-from-the-american-indie-underground-1981-1991_985/index.html\" title=\"Our Band Could Be Your Life: Scenes from the American Indie Underground, 1981-1991\">Our Band Could Be ...</a></h3>,\n",
       " <h3><a href=\"catalogue/olio_984/index.html\" title=\"Olio\">Olio</a></h3>,\n",
       " <h3><a href=\"catalogue/mesaerion-the-best-science-fiction-stories-1800-1849_983/index.html\" title=\"Mesaerion: The Best Science Fiction Stories 1800-1849\">Mesaerion: The Best Science ...</a></h3>,\n",
       " <h3><a href=\"catalogue/libertarianism-for-beginners_982/index.html\" title=\"Libertarianism for Beginners\">Libertarianism for Beginners</a></h3>,\n",
       " <h3><a href=\"catalogue/its-only-the-himalayas_981/index.html\" title=\"It's Only the Himalayas\">It's Only the Himalayas</a></h3>]"
      ]
     },
     "execution_count": 58,
     "metadata": {},
     "output_type": "execute_result"
    }
   ],
   "source": [
    "# Method 1\n",
    "soup_bts.find_all('h3')"
   ]
  },
  {
   "cell_type": "code",
   "execution_count": 59,
   "metadata": {},
   "outputs": [
    {
     "name": "stdout",
     "output_type": "stream",
     "text": [
      "<h3><a href=\"catalogue/a-light-in-the-attic_1000/index.html\" title=\"A Light in the Attic\">A Light in the ...</a></h3> \n",
      "\n"
     ]
    },
    {
     "data": {
      "text/plain": [
       "'A Light in the Attic'"
      ]
     },
     "execution_count": 59,
     "metadata": {},
     "output_type": "execute_result"
    }
   ],
   "source": [
    "# this grabs the first title in the list\n",
    "print(soup_bts.find_all('h3')[0],'\\n')\n",
    "\n",
    "# soup_bts.find_all('h3')[0].find('a').attrs['title']\n",
    "soup_bts.find_all('h3')[0].find('a')['title']"
   ]
  },
  {
   "cell_type": "code",
   "execution_count": 60,
   "metadata": {
    "scrolled": true
   },
   "outputs": [
    {
     "data": {
      "text/plain": [
       "[<h3><a href=\"catalogue/a-light-in-the-attic_1000/index.html\" title=\"A Light in the Attic\">A Light in the ...</a></h3>,\n",
       " <h3><a href=\"catalogue/tipping-the-velvet_999/index.html\" title=\"Tipping the Velvet\">Tipping the Velvet</a></h3>,\n",
       " <h3><a href=\"catalogue/soumission_998/index.html\" title=\"Soumission\">Soumission</a></h3>,\n",
       " <h3><a href=\"catalogue/sharp-objects_997/index.html\" title=\"Sharp Objects\">Sharp Objects</a></h3>,\n",
       " <h3><a href=\"catalogue/sapiens-a-brief-history-of-humankind_996/index.html\" title=\"Sapiens: A Brief History of Humankind\">Sapiens: A Brief History ...</a></h3>,\n",
       " <h3><a href=\"catalogue/the-requiem-red_995/index.html\" title=\"The Requiem Red\">The Requiem Red</a></h3>,\n",
       " <h3><a href=\"catalogue/the-dirty-little-secrets-of-getting-your-dream-job_994/index.html\" title=\"The Dirty Little Secrets of Getting Your Dream Job\">The Dirty Little Secrets ...</a></h3>,\n",
       " <h3><a href=\"catalogue/the-coming-woman-a-novel-based-on-the-life-of-the-infamous-feminist-victoria-woodhull_993/index.html\" title=\"The Coming Woman: A Novel Based on the Life of the Infamous Feminist, Victoria Woodhull\">The Coming Woman: A ...</a></h3>,\n",
       " <h3><a href=\"catalogue/the-boys-in-the-boat-nine-americans-and-their-epic-quest-for-gold-at-the-1936-berlin-olympics_992/index.html\" title=\"The Boys in the Boat: Nine Americans and Their Epic Quest for Gold at the 1936 Berlin Olympics\">The Boys in the ...</a></h3>,\n",
       " <h3><a href=\"catalogue/the-black-maria_991/index.html\" title=\"The Black Maria\">The Black Maria</a></h3>,\n",
       " <h3><a href=\"catalogue/starving-hearts-triangular-trade-trilogy-1_990/index.html\" title=\"Starving Hearts (Triangular Trade Trilogy, #1)\">Starving Hearts (Triangular Trade ...</a></h3>,\n",
       " <h3><a href=\"catalogue/shakespeares-sonnets_989/index.html\" title=\"Shakespeare's Sonnets\">Shakespeare's Sonnets</a></h3>,\n",
       " <h3><a href=\"catalogue/set-me-free_988/index.html\" title=\"Set Me Free\">Set Me Free</a></h3>,\n",
       " <h3><a href=\"catalogue/scott-pilgrims-precious-little-life-scott-pilgrim-1_987/index.html\" title=\"Scott Pilgrim's Precious Little Life (Scott Pilgrim #1)\">Scott Pilgrim's Precious Little ...</a></h3>,\n",
       " <h3><a href=\"catalogue/rip-it-up-and-start-again_986/index.html\" title=\"Rip it Up and Start Again\">Rip it Up and ...</a></h3>,\n",
       " <h3><a href=\"catalogue/our-band-could-be-your-life-scenes-from-the-american-indie-underground-1981-1991_985/index.html\" title=\"Our Band Could Be Your Life: Scenes from the American Indie Underground, 1981-1991\">Our Band Could Be ...</a></h3>,\n",
       " <h3><a href=\"catalogue/olio_984/index.html\" title=\"Olio\">Olio</a></h3>,\n",
       " <h3><a href=\"catalogue/mesaerion-the-best-science-fiction-stories-1800-1849_983/index.html\" title=\"Mesaerion: The Best Science Fiction Stories 1800-1849\">Mesaerion: The Best Science ...</a></h3>,\n",
       " <h3><a href=\"catalogue/libertarianism-for-beginners_982/index.html\" title=\"Libertarianism for Beginners\">Libertarianism for Beginners</a></h3>,\n",
       " <h3><a href=\"catalogue/its-only-the-himalayas_981/index.html\" title=\"It's Only the Himalayas\">It's Only the Himalayas</a></h3>]"
      ]
     },
     "execution_count": 60,
     "metadata": {},
     "output_type": "execute_result"
    }
   ],
   "source": [
    "# Method 2\n",
    "soup_bts.select('h3')"
   ]
  },
  {
   "cell_type": "code",
   "execution_count": 61,
   "metadata": {},
   "outputs": [
    {
     "name": "stdout",
     "output_type": "stream",
     "text": [
      "<h3><a href=\"catalogue/a-light-in-the-attic_1000/index.html\" title=\"A Light in the Attic\">A Light in the ...</a></h3>\n"
     ]
    },
    {
     "data": {
      "text/plain": [
       "'A Light in the Attic'"
      ]
     },
     "execution_count": 61,
     "metadata": {},
     "output_type": "execute_result"
    }
   ],
   "source": [
    "print(soup_bts.select('h3')[0])\n",
    "\n",
    "soup_bts.select('h3')[0].find('a').attrs['title']"
   ]
  },
  {
   "cell_type": "code",
   "execution_count": 62,
   "metadata": {
    "scrolled": true
   },
   "outputs": [
    {
     "data": {
      "text/plain": [
       "[<a href=\"catalogue/a-light-in-the-attic_1000/index.html\" title=\"A Light in the Attic\">A Light in the ...</a>,\n",
       " <a href=\"catalogue/tipping-the-velvet_999/index.html\" title=\"Tipping the Velvet\">Tipping the Velvet</a>,\n",
       " <a href=\"catalogue/soumission_998/index.html\" title=\"Soumission\">Soumission</a>,\n",
       " <a href=\"catalogue/sharp-objects_997/index.html\" title=\"Sharp Objects\">Sharp Objects</a>,\n",
       " <a href=\"catalogue/sapiens-a-brief-history-of-humankind_996/index.html\" title=\"Sapiens: A Brief History of Humankind\">Sapiens: A Brief History ...</a>,\n",
       " <a href=\"catalogue/the-requiem-red_995/index.html\" title=\"The Requiem Red\">The Requiem Red</a>,\n",
       " <a href=\"catalogue/the-dirty-little-secrets-of-getting-your-dream-job_994/index.html\" title=\"The Dirty Little Secrets of Getting Your Dream Job\">The Dirty Little Secrets ...</a>,\n",
       " <a href=\"catalogue/the-coming-woman-a-novel-based-on-the-life-of-the-infamous-feminist-victoria-woodhull_993/index.html\" title=\"The Coming Woman: A Novel Based on the Life of the Infamous Feminist, Victoria Woodhull\">The Coming Woman: A ...</a>,\n",
       " <a href=\"catalogue/the-boys-in-the-boat-nine-americans-and-their-epic-quest-for-gold-at-the-1936-berlin-olympics_992/index.html\" title=\"The Boys in the Boat: Nine Americans and Their Epic Quest for Gold at the 1936 Berlin Olympics\">The Boys in the ...</a>,\n",
       " <a href=\"catalogue/the-black-maria_991/index.html\" title=\"The Black Maria\">The Black Maria</a>,\n",
       " <a href=\"catalogue/starving-hearts-triangular-trade-trilogy-1_990/index.html\" title=\"Starving Hearts (Triangular Trade Trilogy, #1)\">Starving Hearts (Triangular Trade ...</a>,\n",
       " <a href=\"catalogue/shakespeares-sonnets_989/index.html\" title=\"Shakespeare's Sonnets\">Shakespeare's Sonnets</a>,\n",
       " <a href=\"catalogue/set-me-free_988/index.html\" title=\"Set Me Free\">Set Me Free</a>,\n",
       " <a href=\"catalogue/scott-pilgrims-precious-little-life-scott-pilgrim-1_987/index.html\" title=\"Scott Pilgrim's Precious Little Life (Scott Pilgrim #1)\">Scott Pilgrim's Precious Little ...</a>,\n",
       " <a href=\"catalogue/rip-it-up-and-start-again_986/index.html\" title=\"Rip it Up and Start Again\">Rip it Up and ...</a>,\n",
       " <a href=\"catalogue/our-band-could-be-your-life-scenes-from-the-american-indie-underground-1981-1991_985/index.html\" title=\"Our Band Could Be Your Life: Scenes from the American Indie Underground, 1981-1991\">Our Band Could Be ...</a>,\n",
       " <a href=\"catalogue/olio_984/index.html\" title=\"Olio\">Olio</a>,\n",
       " <a href=\"catalogue/mesaerion-the-best-science-fiction-stories-1800-1849_983/index.html\" title=\"Mesaerion: The Best Science Fiction Stories 1800-1849\">Mesaerion: The Best Science ...</a>,\n",
       " <a href=\"catalogue/libertarianism-for-beginners_982/index.html\" title=\"Libertarianism for Beginners\">Libertarianism for Beginners</a>,\n",
       " <a href=\"catalogue/its-only-the-himalayas_981/index.html\" title=\"It's Only the Himalayas\">It's Only the Himalayas</a>]"
      ]
     },
     "execution_count": 62,
     "metadata": {},
     "output_type": "execute_result"
    }
   ],
   "source": [
    "# Method 3\n",
    "soup_bts.select('h3 a')"
   ]
  },
  {
   "cell_type": "code",
   "execution_count": 63,
   "metadata": {},
   "outputs": [
    {
     "name": "stdout",
     "output_type": "stream",
     "text": [
      "<a href=\"catalogue/a-light-in-the-attic_1000/index.html\" title=\"A Light in the Attic\">A Light in the ...</a>\n"
     ]
    },
    {
     "data": {
      "text/plain": [
       "'A Light in the Attic'"
      ]
     },
     "execution_count": 63,
     "metadata": {},
     "output_type": "execute_result"
    }
   ],
   "source": [
    "print(soup_bts.select('h3 a')[0])\n",
    "\n",
    "# soup_bts.select('h3 a')[0].attrs['title']\n",
    "soup_bts.select('h3 a')[0]['title']"
   ]
  },
  {
   "cell_type": "markdown",
   "metadata": {},
   "source": [
    "Now suppose we wanted to grab more information about each book and put this into a pandas dataframe. We can do so by grabbing the information we need as follows:"
   ]
  },
  {
   "cell_type": "code",
   "execution_count": 64,
   "metadata": {},
   "outputs": [
    {
     "data": {
      "text/plain": [
       "[<li class=\"col-xs-6 col-sm-4 col-md-3 col-lg-3\">\n",
       " <article class=\"product_pod\">\n",
       " <div class=\"image_container\">\n",
       " <a href=\"catalogue/a-light-in-the-attic_1000/index.html\"><img alt=\"A Light in the Attic\" class=\"thumbnail\" src=\"media/cache/2c/da/2cdad67c44b002e7ead0cc35693c0e8b.jpg\"/></a>\n",
       " </div>\n",
       " <p class=\"star-rating Three\">\n",
       " <i class=\"icon-star\"></i>\n",
       " <i class=\"icon-star\"></i>\n",
       " <i class=\"icon-star\"></i>\n",
       " <i class=\"icon-star\"></i>\n",
       " <i class=\"icon-star\"></i>\n",
       " </p>\n",
       " <h3><a href=\"catalogue/a-light-in-the-attic_1000/index.html\" title=\"A Light in the Attic\">A Light in the ...</a></h3>\n",
       " <div class=\"product_price\">\n",
       " <p class=\"price_color\">Â£51.77</p>\n",
       " <p class=\"instock availability\">\n",
       " <i class=\"icon-ok\"></i>\n",
       "     \n",
       "         In stock\n",
       "     \n",
       " </p>\n",
       " <form>\n",
       " <button class=\"btn btn-primary btn-block\" data-loading-text=\"Adding...\" type=\"submit\">Add to basket</button>\n",
       " </form>\n",
       " </div>\n",
       " </article>\n",
       " </li>,\n",
       " <li class=\"col-xs-6 col-sm-4 col-md-3 col-lg-3\">\n",
       " <article class=\"product_pod\">\n",
       " <div class=\"image_container\">\n",
       " <a href=\"catalogue/tipping-the-velvet_999/index.html\"><img alt=\"Tipping the Velvet\" class=\"thumbnail\" src=\"media/cache/26/0c/260c6ae16bce31c8f8c95daddd9f4a1c.jpg\"/></a>\n",
       " </div>\n",
       " <p class=\"star-rating One\">\n",
       " <i class=\"icon-star\"></i>\n",
       " <i class=\"icon-star\"></i>\n",
       " <i class=\"icon-star\"></i>\n",
       " <i class=\"icon-star\"></i>\n",
       " <i class=\"icon-star\"></i>\n",
       " </p>\n",
       " <h3><a href=\"catalogue/tipping-the-velvet_999/index.html\" title=\"Tipping the Velvet\">Tipping the Velvet</a></h3>\n",
       " <div class=\"product_price\">\n",
       " <p class=\"price_color\">Â£53.74</p>\n",
       " <p class=\"instock availability\">\n",
       " <i class=\"icon-ok\"></i>\n",
       "     \n",
       "         In stock\n",
       "     \n",
       " </p>\n",
       " <form>\n",
       " <button class=\"btn btn-primary btn-block\" data-loading-text=\"Adding...\" type=\"submit\">Add to basket</button>\n",
       " </form>\n",
       " </div>\n",
       " </article>\n",
       " </li>,\n",
       " <li class=\"col-xs-6 col-sm-4 col-md-3 col-lg-3\">\n",
       " <article class=\"product_pod\">\n",
       " <div class=\"image_container\">\n",
       " <a href=\"catalogue/soumission_998/index.html\"><img alt=\"Soumission\" class=\"thumbnail\" src=\"media/cache/3e/ef/3eef99c9d9adef34639f510662022830.jpg\"/></a>\n",
       " </div>\n",
       " <p class=\"star-rating One\">\n",
       " <i class=\"icon-star\"></i>\n",
       " <i class=\"icon-star\"></i>\n",
       " <i class=\"icon-star\"></i>\n",
       " <i class=\"icon-star\"></i>\n",
       " <i class=\"icon-star\"></i>\n",
       " </p>\n",
       " <h3><a href=\"catalogue/soumission_998/index.html\" title=\"Soumission\">Soumission</a></h3>\n",
       " <div class=\"product_price\">\n",
       " <p class=\"price_color\">Â£50.10</p>\n",
       " <p class=\"instock availability\">\n",
       " <i class=\"icon-ok\"></i>\n",
       "     \n",
       "         In stock\n",
       "     \n",
       " </p>\n",
       " <form>\n",
       " <button class=\"btn btn-primary btn-block\" data-loading-text=\"Adding...\" type=\"submit\">Add to basket</button>\n",
       " </form>\n",
       " </div>\n",
       " </article>\n",
       " </li>,\n",
       " <li class=\"col-xs-6 col-sm-4 col-md-3 col-lg-3\">\n",
       " <article class=\"product_pod\">\n",
       " <div class=\"image_container\">\n",
       " <a href=\"catalogue/sharp-objects_997/index.html\"><img alt=\"Sharp Objects\" class=\"thumbnail\" src=\"media/cache/32/51/3251cf3a3412f53f339e42cac2134093.jpg\"/></a>\n",
       " </div>\n",
       " <p class=\"star-rating Four\">\n",
       " <i class=\"icon-star\"></i>\n",
       " <i class=\"icon-star\"></i>\n",
       " <i class=\"icon-star\"></i>\n",
       " <i class=\"icon-star\"></i>\n",
       " <i class=\"icon-star\"></i>\n",
       " </p>\n",
       " <h3><a href=\"catalogue/sharp-objects_997/index.html\" title=\"Sharp Objects\">Sharp Objects</a></h3>\n",
       " <div class=\"product_price\">\n",
       " <p class=\"price_color\">Â£47.82</p>\n",
       " <p class=\"instock availability\">\n",
       " <i class=\"icon-ok\"></i>\n",
       "     \n",
       "         In stock\n",
       "     \n",
       " </p>\n",
       " <form>\n",
       " <button class=\"btn btn-primary btn-block\" data-loading-text=\"Adding...\" type=\"submit\">Add to basket</button>\n",
       " </form>\n",
       " </div>\n",
       " </article>\n",
       " </li>,\n",
       " <li class=\"col-xs-6 col-sm-4 col-md-3 col-lg-3\">\n",
       " <article class=\"product_pod\">\n",
       " <div class=\"image_container\">\n",
       " <a href=\"catalogue/sapiens-a-brief-history-of-humankind_996/index.html\"><img alt=\"Sapiens: A Brief History of Humankind\" class=\"thumbnail\" src=\"media/cache/be/a5/bea5697f2534a2f86a3ef27b5a8c12a6.jpg\"/></a>\n",
       " </div>\n",
       " <p class=\"star-rating Five\">\n",
       " <i class=\"icon-star\"></i>\n",
       " <i class=\"icon-star\"></i>\n",
       " <i class=\"icon-star\"></i>\n",
       " <i class=\"icon-star\"></i>\n",
       " <i class=\"icon-star\"></i>\n",
       " </p>\n",
       " <h3><a href=\"catalogue/sapiens-a-brief-history-of-humankind_996/index.html\" title=\"Sapiens: A Brief History of Humankind\">Sapiens: A Brief History ...</a></h3>\n",
       " <div class=\"product_price\">\n",
       " <p class=\"price_color\">Â£54.23</p>\n",
       " <p class=\"instock availability\">\n",
       " <i class=\"icon-ok\"></i>\n",
       "     \n",
       "         In stock\n",
       "     \n",
       " </p>\n",
       " <form>\n",
       " <button class=\"btn btn-primary btn-block\" data-loading-text=\"Adding...\" type=\"submit\">Add to basket</button>\n",
       " </form>\n",
       " </div>\n",
       " </article>\n",
       " </li>,\n",
       " <li class=\"col-xs-6 col-sm-4 col-md-3 col-lg-3\">\n",
       " <article class=\"product_pod\">\n",
       " <div class=\"image_container\">\n",
       " <a href=\"catalogue/the-requiem-red_995/index.html\"><img alt=\"The Requiem Red\" class=\"thumbnail\" src=\"media/cache/68/33/68339b4c9bc034267e1da611ab3b34f8.jpg\"/></a>\n",
       " </div>\n",
       " <p class=\"star-rating One\">\n",
       " <i class=\"icon-star\"></i>\n",
       " <i class=\"icon-star\"></i>\n",
       " <i class=\"icon-star\"></i>\n",
       " <i class=\"icon-star\"></i>\n",
       " <i class=\"icon-star\"></i>\n",
       " </p>\n",
       " <h3><a href=\"catalogue/the-requiem-red_995/index.html\" title=\"The Requiem Red\">The Requiem Red</a></h3>\n",
       " <div class=\"product_price\">\n",
       " <p class=\"price_color\">Â£22.65</p>\n",
       " <p class=\"instock availability\">\n",
       " <i class=\"icon-ok\"></i>\n",
       "     \n",
       "         In stock\n",
       "     \n",
       " </p>\n",
       " <form>\n",
       " <button class=\"btn btn-primary btn-block\" data-loading-text=\"Adding...\" type=\"submit\">Add to basket</button>\n",
       " </form>\n",
       " </div>\n",
       " </article>\n",
       " </li>,\n",
       " <li class=\"col-xs-6 col-sm-4 col-md-3 col-lg-3\">\n",
       " <article class=\"product_pod\">\n",
       " <div class=\"image_container\">\n",
       " <a href=\"catalogue/the-dirty-little-secrets-of-getting-your-dream-job_994/index.html\"><img alt=\"The Dirty Little Secrets of Getting Your Dream Job\" class=\"thumbnail\" src=\"media/cache/92/27/92274a95b7c251fea59a2b8a78275ab4.jpg\"/></a>\n",
       " </div>\n",
       " <p class=\"star-rating Four\">\n",
       " <i class=\"icon-star\"></i>\n",
       " <i class=\"icon-star\"></i>\n",
       " <i class=\"icon-star\"></i>\n",
       " <i class=\"icon-star\"></i>\n",
       " <i class=\"icon-star\"></i>\n",
       " </p>\n",
       " <h3><a href=\"catalogue/the-dirty-little-secrets-of-getting-your-dream-job_994/index.html\" title=\"The Dirty Little Secrets of Getting Your Dream Job\">The Dirty Little Secrets ...</a></h3>\n",
       " <div class=\"product_price\">\n",
       " <p class=\"price_color\">Â£33.34</p>\n",
       " <p class=\"instock availability\">\n",
       " <i class=\"icon-ok\"></i>\n",
       "     \n",
       "         In stock\n",
       "     \n",
       " </p>\n",
       " <form>\n",
       " <button class=\"btn btn-primary btn-block\" data-loading-text=\"Adding...\" type=\"submit\">Add to basket</button>\n",
       " </form>\n",
       " </div>\n",
       " </article>\n",
       " </li>,\n",
       " <li class=\"col-xs-6 col-sm-4 col-md-3 col-lg-3\">\n",
       " <article class=\"product_pod\">\n",
       " <div class=\"image_container\">\n",
       " <a href=\"catalogue/the-coming-woman-a-novel-based-on-the-life-of-the-infamous-feminist-victoria-woodhull_993/index.html\"><img alt=\"The Coming Woman: A Novel Based on the Life of the Infamous Feminist, Victoria Woodhull\" class=\"thumbnail\" src=\"media/cache/3d/54/3d54940e57e662c4dd1f3ff00c78cc64.jpg\"/></a>\n",
       " </div>\n",
       " <p class=\"star-rating Three\">\n",
       " <i class=\"icon-star\"></i>\n",
       " <i class=\"icon-star\"></i>\n",
       " <i class=\"icon-star\"></i>\n",
       " <i class=\"icon-star\"></i>\n",
       " <i class=\"icon-star\"></i>\n",
       " </p>\n",
       " <h3><a href=\"catalogue/the-coming-woman-a-novel-based-on-the-life-of-the-infamous-feminist-victoria-woodhull_993/index.html\" title=\"The Coming Woman: A Novel Based on the Life of the Infamous Feminist, Victoria Woodhull\">The Coming Woman: A ...</a></h3>\n",
       " <div class=\"product_price\">\n",
       " <p class=\"price_color\">Â£17.93</p>\n",
       " <p class=\"instock availability\">\n",
       " <i class=\"icon-ok\"></i>\n",
       "     \n",
       "         In stock\n",
       "     \n",
       " </p>\n",
       " <form>\n",
       " <button class=\"btn btn-primary btn-block\" data-loading-text=\"Adding...\" type=\"submit\">Add to basket</button>\n",
       " </form>\n",
       " </div>\n",
       " </article>\n",
       " </li>,\n",
       " <li class=\"col-xs-6 col-sm-4 col-md-3 col-lg-3\">\n",
       " <article class=\"product_pod\">\n",
       " <div class=\"image_container\">\n",
       " <a href=\"catalogue/the-boys-in-the-boat-nine-americans-and-their-epic-quest-for-gold-at-the-1936-berlin-olympics_992/index.html\"><img alt=\"The Boys in the Boat: Nine Americans and Their Epic Quest for Gold at the 1936 Berlin Olympics\" class=\"thumbnail\" src=\"media/cache/66/88/66883b91f6804b2323c8369331cb7dd1.jpg\"/></a>\n",
       " </div>\n",
       " <p class=\"star-rating Four\">\n",
       " <i class=\"icon-star\"></i>\n",
       " <i class=\"icon-star\"></i>\n",
       " <i class=\"icon-star\"></i>\n",
       " <i class=\"icon-star\"></i>\n",
       " <i class=\"icon-star\"></i>\n",
       " </p>\n",
       " <h3><a href=\"catalogue/the-boys-in-the-boat-nine-americans-and-their-epic-quest-for-gold-at-the-1936-berlin-olympics_992/index.html\" title=\"The Boys in the Boat: Nine Americans and Their Epic Quest for Gold at the 1936 Berlin Olympics\">The Boys in the ...</a></h3>\n",
       " <div class=\"product_price\">\n",
       " <p class=\"price_color\">Â£22.60</p>\n",
       " <p class=\"instock availability\">\n",
       " <i class=\"icon-ok\"></i>\n",
       "     \n",
       "         In stock\n",
       "     \n",
       " </p>\n",
       " <form>\n",
       " <button class=\"btn btn-primary btn-block\" data-loading-text=\"Adding...\" type=\"submit\">Add to basket</button>\n",
       " </form>\n",
       " </div>\n",
       " </article>\n",
       " </li>,\n",
       " <li class=\"col-xs-6 col-sm-4 col-md-3 col-lg-3\">\n",
       " <article class=\"product_pod\">\n",
       " <div class=\"image_container\">\n",
       " <a href=\"catalogue/the-black-maria_991/index.html\"><img alt=\"The Black Maria\" class=\"thumbnail\" src=\"media/cache/58/46/5846057e28022268153beff6d352b06c.jpg\"/></a>\n",
       " </div>\n",
       " <p class=\"star-rating One\">\n",
       " <i class=\"icon-star\"></i>\n",
       " <i class=\"icon-star\"></i>\n",
       " <i class=\"icon-star\"></i>\n",
       " <i class=\"icon-star\"></i>\n",
       " <i class=\"icon-star\"></i>\n",
       " </p>\n",
       " <h3><a href=\"catalogue/the-black-maria_991/index.html\" title=\"The Black Maria\">The Black Maria</a></h3>\n",
       " <div class=\"product_price\">\n",
       " <p class=\"price_color\">Â£52.15</p>\n",
       " <p class=\"instock availability\">\n",
       " <i class=\"icon-ok\"></i>\n",
       "     \n",
       "         In stock\n",
       "     \n",
       " </p>\n",
       " <form>\n",
       " <button class=\"btn btn-primary btn-block\" data-loading-text=\"Adding...\" type=\"submit\">Add to basket</button>\n",
       " </form>\n",
       " </div>\n",
       " </article>\n",
       " </li>,\n",
       " <li class=\"col-xs-6 col-sm-4 col-md-3 col-lg-3\">\n",
       " <article class=\"product_pod\">\n",
       " <div class=\"image_container\">\n",
       " <a href=\"catalogue/starving-hearts-triangular-trade-trilogy-1_990/index.html\"><img alt=\"Starving Hearts (Triangular Trade Trilogy, #1)\" class=\"thumbnail\" src=\"media/cache/be/f4/bef44da28c98f905a3ebec0b87be8530.jpg\"/></a>\n",
       " </div>\n",
       " <p class=\"star-rating Two\">\n",
       " <i class=\"icon-star\"></i>\n",
       " <i class=\"icon-star\"></i>\n",
       " <i class=\"icon-star\"></i>\n",
       " <i class=\"icon-star\"></i>\n",
       " <i class=\"icon-star\"></i>\n",
       " </p>\n",
       " <h3><a href=\"catalogue/starving-hearts-triangular-trade-trilogy-1_990/index.html\" title=\"Starving Hearts (Triangular Trade Trilogy, #1)\">Starving Hearts (Triangular Trade ...</a></h3>\n",
       " <div class=\"product_price\">\n",
       " <p class=\"price_color\">Â£13.99</p>\n",
       " <p class=\"instock availability\">\n",
       " <i class=\"icon-ok\"></i>\n",
       "     \n",
       "         In stock\n",
       "     \n",
       " </p>\n",
       " <form>\n",
       " <button class=\"btn btn-primary btn-block\" data-loading-text=\"Adding...\" type=\"submit\">Add to basket</button>\n",
       " </form>\n",
       " </div>\n",
       " </article>\n",
       " </li>,\n",
       " <li class=\"col-xs-6 col-sm-4 col-md-3 col-lg-3\">\n",
       " <article class=\"product_pod\">\n",
       " <div class=\"image_container\">\n",
       " <a href=\"catalogue/shakespeares-sonnets_989/index.html\"><img alt=\"Shakespeare's Sonnets\" class=\"thumbnail\" src=\"media/cache/10/48/1048f63d3b5061cd2f424d20b3f9b666.jpg\"/></a>\n",
       " </div>\n",
       " <p class=\"star-rating Four\">\n",
       " <i class=\"icon-star\"></i>\n",
       " <i class=\"icon-star\"></i>\n",
       " <i class=\"icon-star\"></i>\n",
       " <i class=\"icon-star\"></i>\n",
       " <i class=\"icon-star\"></i>\n",
       " </p>\n",
       " <h3><a href=\"catalogue/shakespeares-sonnets_989/index.html\" title=\"Shakespeare's Sonnets\">Shakespeare's Sonnets</a></h3>\n",
       " <div class=\"product_price\">\n",
       " <p class=\"price_color\">Â£20.66</p>\n",
       " <p class=\"instock availability\">\n",
       " <i class=\"icon-ok\"></i>\n",
       "     \n",
       "         In stock\n",
       "     \n",
       " </p>\n",
       " <form>\n",
       " <button class=\"btn btn-primary btn-block\" data-loading-text=\"Adding...\" type=\"submit\">Add to basket</button>\n",
       " </form>\n",
       " </div>\n",
       " </article>\n",
       " </li>,\n",
       " <li class=\"col-xs-6 col-sm-4 col-md-3 col-lg-3\">\n",
       " <article class=\"product_pod\">\n",
       " <div class=\"image_container\">\n",
       " <a href=\"catalogue/set-me-free_988/index.html\"><img alt=\"Set Me Free\" class=\"thumbnail\" src=\"media/cache/5b/88/5b88c52633f53cacf162c15f4f823153.jpg\"/></a>\n",
       " </div>\n",
       " <p class=\"star-rating Five\">\n",
       " <i class=\"icon-star\"></i>\n",
       " <i class=\"icon-star\"></i>\n",
       " <i class=\"icon-star\"></i>\n",
       " <i class=\"icon-star\"></i>\n",
       " <i class=\"icon-star\"></i>\n",
       " </p>\n",
       " <h3><a href=\"catalogue/set-me-free_988/index.html\" title=\"Set Me Free\">Set Me Free</a></h3>\n",
       " <div class=\"product_price\">\n",
       " <p class=\"price_color\">Â£17.46</p>\n",
       " <p class=\"instock availability\">\n",
       " <i class=\"icon-ok\"></i>\n",
       "     \n",
       "         In stock\n",
       "     \n",
       " </p>\n",
       " <form>\n",
       " <button class=\"btn btn-primary btn-block\" data-loading-text=\"Adding...\" type=\"submit\">Add to basket</button>\n",
       " </form>\n",
       " </div>\n",
       " </article>\n",
       " </li>,\n",
       " <li class=\"col-xs-6 col-sm-4 col-md-3 col-lg-3\">\n",
       " <article class=\"product_pod\">\n",
       " <div class=\"image_container\">\n",
       " <a href=\"catalogue/scott-pilgrims-precious-little-life-scott-pilgrim-1_987/index.html\"><img alt=\"Scott Pilgrim's Precious Little Life (Scott Pilgrim #1)\" class=\"thumbnail\" src=\"media/cache/94/b1/94b1b8b244bce9677c2f29ccc890d4d2.jpg\"/></a>\n",
       " </div>\n",
       " <p class=\"star-rating Five\">\n",
       " <i class=\"icon-star\"></i>\n",
       " <i class=\"icon-star\"></i>\n",
       " <i class=\"icon-star\"></i>\n",
       " <i class=\"icon-star\"></i>\n",
       " <i class=\"icon-star\"></i>\n",
       " </p>\n",
       " <h3><a href=\"catalogue/scott-pilgrims-precious-little-life-scott-pilgrim-1_987/index.html\" title=\"Scott Pilgrim's Precious Little Life (Scott Pilgrim #1)\">Scott Pilgrim's Precious Little ...</a></h3>\n",
       " <div class=\"product_price\">\n",
       " <p class=\"price_color\">Â£52.29</p>\n",
       " <p class=\"instock availability\">\n",
       " <i class=\"icon-ok\"></i>\n",
       "     \n",
       "         In stock\n",
       "     \n",
       " </p>\n",
       " <form>\n",
       " <button class=\"btn btn-primary btn-block\" data-loading-text=\"Adding...\" type=\"submit\">Add to basket</button>\n",
       " </form>\n",
       " </div>\n",
       " </article>\n",
       " </li>,\n",
       " <li class=\"col-xs-6 col-sm-4 col-md-3 col-lg-3\">\n",
       " <article class=\"product_pod\">\n",
       " <div class=\"image_container\">\n",
       " <a href=\"catalogue/rip-it-up-and-start-again_986/index.html\"><img alt=\"Rip it Up and Start Again\" class=\"thumbnail\" src=\"media/cache/81/c4/81c4a973364e17d01f217e1188253d5e.jpg\"/></a>\n",
       " </div>\n",
       " <p class=\"star-rating Five\">\n",
       " <i class=\"icon-star\"></i>\n",
       " <i class=\"icon-star\"></i>\n",
       " <i class=\"icon-star\"></i>\n",
       " <i class=\"icon-star\"></i>\n",
       " <i class=\"icon-star\"></i>\n",
       " </p>\n",
       " <h3><a href=\"catalogue/rip-it-up-and-start-again_986/index.html\" title=\"Rip it Up and Start Again\">Rip it Up and ...</a></h3>\n",
       " <div class=\"product_price\">\n",
       " <p class=\"price_color\">Â£35.02</p>\n",
       " <p class=\"instock availability\">\n",
       " <i class=\"icon-ok\"></i>\n",
       "     \n",
       "         In stock\n",
       "     \n",
       " </p>\n",
       " <form>\n",
       " <button class=\"btn btn-primary btn-block\" data-loading-text=\"Adding...\" type=\"submit\">Add to basket</button>\n",
       " </form>\n",
       " </div>\n",
       " </article>\n",
       " </li>,\n",
       " <li class=\"col-xs-6 col-sm-4 col-md-3 col-lg-3\">\n",
       " <article class=\"product_pod\">\n",
       " <div class=\"image_container\">\n",
       " <a href=\"catalogue/our-band-could-be-your-life-scenes-from-the-american-indie-underground-1981-1991_985/index.html\"><img alt=\"Our Band Could Be Your Life: Scenes from the American Indie Underground, 1981-1991\" class=\"thumbnail\" src=\"media/cache/54/60/54607fe8945897cdcced0044103b10b6.jpg\"/></a>\n",
       " </div>\n",
       " <p class=\"star-rating Three\">\n",
       " <i class=\"icon-star\"></i>\n",
       " <i class=\"icon-star\"></i>\n",
       " <i class=\"icon-star\"></i>\n",
       " <i class=\"icon-star\"></i>\n",
       " <i class=\"icon-star\"></i>\n",
       " </p>\n",
       " <h3><a href=\"catalogue/our-band-could-be-your-life-scenes-from-the-american-indie-underground-1981-1991_985/index.html\" title=\"Our Band Could Be Your Life: Scenes from the American Indie Underground, 1981-1991\">Our Band Could Be ...</a></h3>\n",
       " <div class=\"product_price\">\n",
       " <p class=\"price_color\">Â£57.25</p>\n",
       " <p class=\"instock availability\">\n",
       " <i class=\"icon-ok\"></i>\n",
       "     \n",
       "         In stock\n",
       "     \n",
       " </p>\n",
       " <form>\n",
       " <button class=\"btn btn-primary btn-block\" data-loading-text=\"Adding...\" type=\"submit\">Add to basket</button>\n",
       " </form>\n",
       " </div>\n",
       " </article>\n",
       " </li>,\n",
       " <li class=\"col-xs-6 col-sm-4 col-md-3 col-lg-3\">\n",
       " <article class=\"product_pod\">\n",
       " <div class=\"image_container\">\n",
       " <a href=\"catalogue/olio_984/index.html\"><img alt=\"Olio\" class=\"thumbnail\" src=\"media/cache/55/33/553310a7162dfbc2c6d19a84da0df9e1.jpg\"/></a>\n",
       " </div>\n",
       " <p class=\"star-rating One\">\n",
       " <i class=\"icon-star\"></i>\n",
       " <i class=\"icon-star\"></i>\n",
       " <i class=\"icon-star\"></i>\n",
       " <i class=\"icon-star\"></i>\n",
       " <i class=\"icon-star\"></i>\n",
       " </p>\n",
       " <h3><a href=\"catalogue/olio_984/index.html\" title=\"Olio\">Olio</a></h3>\n",
       " <div class=\"product_price\">\n",
       " <p class=\"price_color\">Â£23.88</p>\n",
       " <p class=\"instock availability\">\n",
       " <i class=\"icon-ok\"></i>\n",
       "     \n",
       "         In stock\n",
       "     \n",
       " </p>\n",
       " <form>\n",
       " <button class=\"btn btn-primary btn-block\" data-loading-text=\"Adding...\" type=\"submit\">Add to basket</button>\n",
       " </form>\n",
       " </div>\n",
       " </article>\n",
       " </li>,\n",
       " <li class=\"col-xs-6 col-sm-4 col-md-3 col-lg-3\">\n",
       " <article class=\"product_pod\">\n",
       " <div class=\"image_container\">\n",
       " <a href=\"catalogue/mesaerion-the-best-science-fiction-stories-1800-1849_983/index.html\"><img alt=\"Mesaerion: The Best Science Fiction Stories 1800-1849\" class=\"thumbnail\" src=\"media/cache/09/a3/09a3aef48557576e1a85ba7efea8ecb7.jpg\"/></a>\n",
       " </div>\n",
       " <p class=\"star-rating One\">\n",
       " <i class=\"icon-star\"></i>\n",
       " <i class=\"icon-star\"></i>\n",
       " <i class=\"icon-star\"></i>\n",
       " <i class=\"icon-star\"></i>\n",
       " <i class=\"icon-star\"></i>\n",
       " </p>\n",
       " <h3><a href=\"catalogue/mesaerion-the-best-science-fiction-stories-1800-1849_983/index.html\" title=\"Mesaerion: The Best Science Fiction Stories 1800-1849\">Mesaerion: The Best Science ...</a></h3>\n",
       " <div class=\"product_price\">\n",
       " <p class=\"price_color\">Â£37.59</p>\n",
       " <p class=\"instock availability\">\n",
       " <i class=\"icon-ok\"></i>\n",
       "     \n",
       "         In stock\n",
       "     \n",
       " </p>\n",
       " <form>\n",
       " <button class=\"btn btn-primary btn-block\" data-loading-text=\"Adding...\" type=\"submit\">Add to basket</button>\n",
       " </form>\n",
       " </div>\n",
       " </article>\n",
       " </li>,\n",
       " <li class=\"col-xs-6 col-sm-4 col-md-3 col-lg-3\">\n",
       " <article class=\"product_pod\">\n",
       " <div class=\"image_container\">\n",
       " <a href=\"catalogue/libertarianism-for-beginners_982/index.html\"><img alt=\"Libertarianism for Beginners\" class=\"thumbnail\" src=\"media/cache/0b/bc/0bbcd0a6f4bcd81ccb1049a52736406e.jpg\"/></a>\n",
       " </div>\n",
       " <p class=\"star-rating Two\">\n",
       " <i class=\"icon-star\"></i>\n",
       " <i class=\"icon-star\"></i>\n",
       " <i class=\"icon-star\"></i>\n",
       " <i class=\"icon-star\"></i>\n",
       " <i class=\"icon-star\"></i>\n",
       " </p>\n",
       " <h3><a href=\"catalogue/libertarianism-for-beginners_982/index.html\" title=\"Libertarianism for Beginners\">Libertarianism for Beginners</a></h3>\n",
       " <div class=\"product_price\">\n",
       " <p class=\"price_color\">Â£51.33</p>\n",
       " <p class=\"instock availability\">\n",
       " <i class=\"icon-ok\"></i>\n",
       "     \n",
       "         In stock\n",
       "     \n",
       " </p>\n",
       " <form>\n",
       " <button class=\"btn btn-primary btn-block\" data-loading-text=\"Adding...\" type=\"submit\">Add to basket</button>\n",
       " </form>\n",
       " </div>\n",
       " </article>\n",
       " </li>,\n",
       " <li class=\"col-xs-6 col-sm-4 col-md-3 col-lg-3\">\n",
       " <article class=\"product_pod\">\n",
       " <div class=\"image_container\">\n",
       " <a href=\"catalogue/its-only-the-himalayas_981/index.html\"><img alt=\"It's Only the Himalayas\" class=\"thumbnail\" src=\"media/cache/27/a5/27a53d0bb95bdd88288eaf66c9230d7e.jpg\"/></a>\n",
       " </div>\n",
       " <p class=\"star-rating Two\">\n",
       " <i class=\"icon-star\"></i>\n",
       " <i class=\"icon-star\"></i>\n",
       " <i class=\"icon-star\"></i>\n",
       " <i class=\"icon-star\"></i>\n",
       " <i class=\"icon-star\"></i>\n",
       " </p>\n",
       " <h3><a href=\"catalogue/its-only-the-himalayas_981/index.html\" title=\"It's Only the Himalayas\">It's Only the Himalayas</a></h3>\n",
       " <div class=\"product_price\">\n",
       " <p class=\"price_color\">Â£45.17</p>\n",
       " <p class=\"instock availability\">\n",
       " <i class=\"icon-ok\"></i>\n",
       "     \n",
       "         In stock\n",
       "     \n",
       " </p>\n",
       " <form>\n",
       " <button class=\"btn btn-primary btn-block\" data-loading-text=\"Adding...\" type=\"submit\">Add to basket</button>\n",
       " </form>\n",
       " </div>\n",
       " </article>\n",
       " </li>]"
      ]
     },
     "execution_count": 64,
     "metadata": {},
     "output_type": "execute_result"
    }
   ],
   "source": [
    "# this contains all the info we will need for each book\n",
    "soup_bts.find_all('li',{'class': 'col-xs-6 col-sm-4 col-md-3 col-lg-3'})"
   ]
  },
  {
   "cell_type": "code",
   "execution_count": 65,
   "metadata": {},
   "outputs": [],
   "source": [
    "book_info = soup_bts.find_all('li',{'class': 'col-xs-6 col-sm-4 col-md-3 col-lg-3'})"
   ]
  },
  {
   "cell_type": "code",
   "execution_count": 66,
   "metadata": {},
   "outputs": [
    {
     "data": {
      "text/plain": [
       "<li class=\"col-xs-6 col-sm-4 col-md-3 col-lg-3\">\n",
       "<article class=\"product_pod\">\n",
       "<div class=\"image_container\">\n",
       "<a href=\"catalogue/a-light-in-the-attic_1000/index.html\"><img alt=\"A Light in the Attic\" class=\"thumbnail\" src=\"media/cache/2c/da/2cdad67c44b002e7ead0cc35693c0e8b.jpg\"/></a>\n",
       "</div>\n",
       "<p class=\"star-rating Three\">\n",
       "<i class=\"icon-star\"></i>\n",
       "<i class=\"icon-star\"></i>\n",
       "<i class=\"icon-star\"></i>\n",
       "<i class=\"icon-star\"></i>\n",
       "<i class=\"icon-star\"></i>\n",
       "</p>\n",
       "<h3><a href=\"catalogue/a-light-in-the-attic_1000/index.html\" title=\"A Light in the Attic\">A Light in the ...</a></h3>\n",
       "<div class=\"product_price\">\n",
       "<p class=\"price_color\">Â£51.77</p>\n",
       "<p class=\"instock availability\">\n",
       "<i class=\"icon-ok\"></i>\n",
       "    \n",
       "        In stock\n",
       "    \n",
       "</p>\n",
       "<form>\n",
       "<button class=\"btn btn-primary btn-block\" data-loading-text=\"Adding...\" type=\"submit\">Add to basket</button>\n",
       "</form>\n",
       "</div>\n",
       "</article>\n",
       "</li>"
      ]
     },
     "execution_count": 66,
     "metadata": {},
     "output_type": "execute_result"
    }
   ],
   "source": [
    "# looking at the first book\n",
    "book_info[0]"
   ]
  },
  {
   "cell_type": "markdown",
   "metadata": {},
   "source": [
    "#### Grabbing the Titles"
   ]
  },
  {
   "cell_type": "code",
   "execution_count": 67,
   "metadata": {},
   "outputs": [
    {
     "name": "stdout",
     "output_type": "stream",
     "text": [
      "[<h3><a href=\"catalogue/a-light-in-the-attic_1000/index.html\" title=\"A Light in the Attic\">A Light in the ...</a></h3>]\n",
      "\n",
      "<a href=\"catalogue/a-light-in-the-attic_1000/index.html\" title=\"A Light in the Attic\">A Light in the ...</a>\n",
      "\n",
      "A Light in the Attic\n",
      "A Light in the Attic\n"
     ]
    }
   ],
   "source": [
    "print(book_info[0].select('h3'))\n",
    "print()\n",
    "print(book_info[0].select('h3')[0].find('a'))\n",
    "print()\n",
    "print(book_info[0].select('h3')[0].find('a').attrs['title'])\n",
    "print(book_info[0].select('h3')[0].find('a')['title'])"
   ]
  },
  {
   "cell_type": "code",
   "execution_count": 68,
   "metadata": {},
   "outputs": [
    {
     "name": "stdout",
     "output_type": "stream",
     "text": [
      "[<a href=\"catalogue/a-light-in-the-attic_1000/index.html\" title=\"A Light in the Attic\">A Light in the ...</a>]\n",
      "\n",
      "A Light in the Attic\n",
      "A Light in the Attic\n"
     ]
    }
   ],
   "source": [
    "print(book_info[0].select('h3 a'))\n",
    "print()\n",
    "print(book_info[0].select('h3 a')[0]['title'])\n",
    "print(book_info[0].select('h3 a')[0].attrs['title'])"
   ]
  },
  {
   "cell_type": "code",
   "execution_count": 69,
   "metadata": {
    "scrolled": true
   },
   "outputs": [
    {
     "name": "stdout",
     "output_type": "stream",
     "text": [
      "A Light in the Attic\n",
      "Tipping the Velvet\n",
      "Soumission\n",
      "Sharp Objects\n",
      "Sapiens: A Brief History of Humankind\n",
      "The Requiem Red\n",
      "The Dirty Little Secrets of Getting Your Dream Job\n",
      "The Coming Woman: A Novel Based on the Life of the Infamous Feminist, Victoria Woodhull\n",
      "The Boys in the Boat: Nine Americans and Their Epic Quest for Gold at the 1936 Berlin Olympics\n",
      "The Black Maria\n",
      "Starving Hearts (Triangular Trade Trilogy, #1)\n",
      "Shakespeare's Sonnets\n",
      "Set Me Free\n",
      "Scott Pilgrim's Precious Little Life (Scott Pilgrim #1)\n",
      "Rip it Up and Start Again\n",
      "Our Band Could Be Your Life: Scenes from the American Indie Underground, 1981-1991\n",
      "Olio\n",
      "Mesaerion: The Best Science Fiction Stories 1800-1849\n",
      "Libertarianism for Beginners\n",
      "It's Only the Himalayas\n"
     ]
    }
   ],
   "source": [
    "# ensuring we are able to grab all the titles for the dataframe\n",
    "for book in book_info:\n",
    "    title = book.select('h3 a')[0]['title']\n",
    "    print(title)"
   ]
  },
  {
   "cell_type": "markdown",
   "metadata": {},
   "source": [
    "#### Grabbing the Links"
   ]
  },
  {
   "cell_type": "code",
   "execution_count": 70,
   "metadata": {},
   "outputs": [
    {
     "name": "stdout",
     "output_type": "stream",
     "text": [
      "[<h3><a href=\"catalogue/a-light-in-the-attic_1000/index.html\" title=\"A Light in the Attic\">A Light in the ...</a></h3>]\n",
      "\n",
      "catalogue/a-light-in-the-attic_1000/index.html\n",
      "catalogue/a-light-in-the-attic_1000/index.html\n"
     ]
    }
   ],
   "source": [
    "print(book_info[0].find_all('h3'))\n",
    "print()\n",
    "print(book_info[0].find_all('h3')[0].find('a').attrs['href'])\n",
    "print(book_info[0].find_all('h3')[0].find('a')['href'])"
   ]
  },
  {
   "cell_type": "code",
   "execution_count": 71,
   "metadata": {},
   "outputs": [
    {
     "name": "stdout",
     "output_type": "stream",
     "text": [
      "[<a href=\"catalogue/a-light-in-the-attic_1000/index.html\"><img alt=\"A Light in the Attic\" class=\"thumbnail\" src=\"media/cache/2c/da/2cdad67c44b002e7ead0cc35693c0e8b.jpg\"/></a>, <a href=\"catalogue/a-light-in-the-attic_1000/index.html\" title=\"A Light in the Attic\">A Light in the ...</a>]\n",
      "\n",
      "catalogue/a-light-in-the-attic_1000/index.html\n",
      "catalogue/a-light-in-the-attic_1000/index.html\n"
     ]
    }
   ],
   "source": [
    "print(book_info[0].find_all('a'))\n",
    "print()\n",
    "print(book_info[0].find_all('a')[0].attrs['href'])\n",
    "print(book_info[0].find_all('a')[1]['href'])"
   ]
  },
  {
   "cell_type": "code",
   "execution_count": 72,
   "metadata": {},
   "outputs": [
    {
     "name": "stdout",
     "output_type": "stream",
     "text": [
      "[<a href=\"catalogue/a-light-in-the-attic_1000/index.html\"><img alt=\"A Light in the Attic\" class=\"thumbnail\" src=\"media/cache/2c/da/2cdad67c44b002e7ead0cc35693c0e8b.jpg\"/></a>, <a href=\"catalogue/a-light-in-the-attic_1000/index.html\" title=\"A Light in the Attic\">A Light in the ...</a>]\n",
      "\n",
      "catalogue/a-light-in-the-attic_1000/index.html\n",
      "catalogue/a-light-in-the-attic_1000/index.html\n"
     ]
    }
   ],
   "source": [
    "print(book_info[0].select('div a'))\n",
    "print()\n",
    "print(book_info[0].select('div a')[0]['href'])\n",
    "print(book_info[0].select('div a')[1].attrs['href'])"
   ]
  },
  {
   "cell_type": "code",
   "execution_count": 73,
   "metadata": {},
   "outputs": [
    {
     "data": {
      "text/plain": [
       "'catalogue/a-light-in-the-attic_1000/index.html'"
      ]
     },
     "execution_count": 73,
     "metadata": {},
     "output_type": "execute_result"
    }
   ],
   "source": [
    "book_info[0].select('h3 a')[0]['href']"
   ]
  },
  {
   "cell_type": "markdown",
   "metadata": {},
   "source": [
    "#### Grabbing the Prices"
   ]
  },
  {
   "cell_type": "code",
   "execution_count": 74,
   "metadata": {},
   "outputs": [
    {
     "name": "stdout",
     "output_type": "stream",
     "text": [
      "<p class=\"price_color\">Â£51.77</p>\n",
      "£51.77\n"
     ]
    }
   ],
   "source": [
    "print(book_info[0].select('div p')[1])\n",
    "print(book_info[0].select('div p')[1].text[1:])"
   ]
  },
  {
   "cell_type": "code",
   "execution_count": 75,
   "metadata": {},
   "outputs": [
    {
     "name": "stdout",
     "output_type": "stream",
     "text": [
      "<p class=\"price_color\">Â£51.77</p>\n",
      "£51.77\n"
     ]
    }
   ],
   "source": [
    "print(book_info[0].find('p',{'class': 'price_color'}))\n",
    "print(book_info[0].find('p',{'class': 'price_color'}).text[1:])"
   ]
  },
  {
   "cell_type": "code",
   "execution_count": 76,
   "metadata": {},
   "outputs": [
    {
     "name": "stdout",
     "output_type": "stream",
     "text": [
      "[<p class=\"price_color\">Â£51.77</p>]\n",
      "£51.77\n"
     ]
    }
   ],
   "source": [
    "print(book_info[0].select('.price_color'))\n",
    "print(book_info[0].select('.price_color')[0].text[1:])"
   ]
  },
  {
   "cell_type": "markdown",
   "metadata": {},
   "source": [
    "#### Grabbing the Ratings"
   ]
  },
  {
   "cell_type": "code",
   "execution_count": 77,
   "metadata": {},
   "outputs": [
    {
     "name": "stdout",
     "output_type": "stream",
     "text": [
      "[<p class=\"star-rating Three\">\n",
      "<i class=\"icon-star\"></i>\n",
      "<i class=\"icon-star\"></i>\n",
      "<i class=\"icon-star\"></i>\n",
      "<i class=\"icon-star\"></i>\n",
      "<i class=\"icon-star\"></i>\n",
      "</p>, <p class=\"price_color\">Â£51.77</p>, <p class=\"instock availability\">\n",
      "<i class=\"icon-ok\"></i>\n",
      "    \n",
      "        In stock\n",
      "    \n",
      "</p>]\n",
      "\n",
      "['star-rating', 'Three']\n",
      "Three\n"
     ]
    }
   ],
   "source": [
    "print(book_info[0].find_all('p'))\n",
    "print()\n",
    "print(book_info[0].find_all('p')[0].attrs['class'])\n",
    "print(book_info[0].find_all('p')[0].attrs['class'][1])"
   ]
  },
  {
   "cell_type": "code",
   "execution_count": 78,
   "metadata": {},
   "outputs": [
    {
     "name": "stdout",
     "output_type": "stream",
     "text": [
      "<p class=\"star-rating Three\">\n",
      "<i class=\"icon-star\"></i>\n",
      "<i class=\"icon-star\"></i>\n",
      "<i class=\"icon-star\"></i>\n",
      "<i class=\"icon-star\"></i>\n",
      "<i class=\"icon-star\"></i>\n",
      "</p>\n",
      "\n",
      "['star-rating', 'Three']\n",
      "Three\n"
     ]
    }
   ],
   "source": [
    "print(book_info[0].find('p'))\n",
    "print()\n",
    "print(book_info[0].find('p').attrs['class'])\n",
    "print(book_info[0].find('p').attrs['class'][1])"
   ]
  },
  {
   "cell_type": "markdown",
   "metadata": {},
   "source": [
    "#### Grabbing the Availability Status"
   ]
  },
  {
   "cell_type": "code",
   "execution_count": 79,
   "metadata": {},
   "outputs": [
    {
     "name": "stdout",
     "output_type": "stream",
     "text": [
      "<p class=\"instock availability\">\n",
      "<i class=\"icon-ok\"></i>\n",
      "    \n",
      "        In stock\n",
      "    \n",
      "</p>\n",
      "\n",
      "\n",
      "\n",
      "    \n",
      "        In stock\n",
      "    \n",
      "\n",
      "In stock\n"
     ]
    }
   ],
   "source": [
    "print(book_info[0].find('p',{'class': 'instock availability'}))\n",
    "print()\n",
    "print(book_info[0].find('p',{'class': 'instock availability'}).text)\n",
    "print(book_info[0].find('p',{'class': 'instock availability'}).text.replace('\\n','').strip())"
   ]
  },
  {
   "cell_type": "code",
   "execution_count": 80,
   "metadata": {},
   "outputs": [
    {
     "name": "stdout",
     "output_type": "stream",
     "text": [
      "[<p class=\"star-rating Three\">\n",
      "<i class=\"icon-star\"></i>\n",
      "<i class=\"icon-star\"></i>\n",
      "<i class=\"icon-star\"></i>\n",
      "<i class=\"icon-star\"></i>\n",
      "<i class=\"icon-star\"></i>\n",
      "</p>, <p class=\"price_color\">Â£51.77</p>, <p class=\"instock availability\">\n",
      "<i class=\"icon-ok\"></i>\n",
      "    \n",
      "        In stock\n",
      "    \n",
      "</p>]\n",
      "\n",
      "In stock\n"
     ]
    }
   ],
   "source": [
    "print(book_info[0].select('div p'))\n",
    "print()\n",
    "print(book_info[0].select('div p')[2].text.replace('\\n','').strip())"
   ]
  },
  {
   "cell_type": "markdown",
   "metadata": {},
   "source": [
    "#### Now to put the results for the first page into a dataframe."
   ]
  },
  {
   "cell_type": "code",
   "execution_count": 81,
   "metadata": {},
   "outputs": [
    {
     "data": {
      "text/html": [
       "<div>\n",
       "<style scoped>\n",
       "    .dataframe tbody tr th:only-of-type {\n",
       "        vertical-align: middle;\n",
       "    }\n",
       "\n",
       "    .dataframe tbody tr th {\n",
       "        vertical-align: top;\n",
       "    }\n",
       "\n",
       "    .dataframe thead th {\n",
       "        text-align: right;\n",
       "    }\n",
       "</style>\n",
       "<table border=\"1\" class=\"dataframe\">\n",
       "  <thead>\n",
       "    <tr style=\"text-align: right;\">\n",
       "      <th></th>\n",
       "      <th>Titles</th>\n",
       "      <th>link</th>\n",
       "      <th>Rating</th>\n",
       "      <th>Price</th>\n",
       "      <th>Availability</th>\n",
       "    </tr>\n",
       "  </thead>\n",
       "  <tbody>\n",
       "    <tr>\n",
       "      <th>0</th>\n",
       "      <td>A Light in the Attic</td>\n",
       "      <td>catalogue/a-light-in-the-attic_1000/index.html</td>\n",
       "      <td>Three</td>\n",
       "      <td>£51.77</td>\n",
       "      <td>In stock</td>\n",
       "    </tr>\n",
       "    <tr>\n",
       "      <th>1</th>\n",
       "      <td>Tipping the Velvet</td>\n",
       "      <td>catalogue/tipping-the-velvet_999/index.html</td>\n",
       "      <td>One</td>\n",
       "      <td>£53.74</td>\n",
       "      <td>In stock</td>\n",
       "    </tr>\n",
       "    <tr>\n",
       "      <th>2</th>\n",
       "      <td>Soumission</td>\n",
       "      <td>catalogue/soumission_998/index.html</td>\n",
       "      <td>One</td>\n",
       "      <td>£50.10</td>\n",
       "      <td>In stock</td>\n",
       "    </tr>\n",
       "    <tr>\n",
       "      <th>3</th>\n",
       "      <td>Sharp Objects</td>\n",
       "      <td>catalogue/sharp-objects_997/index.html</td>\n",
       "      <td>Four</td>\n",
       "      <td>£47.82</td>\n",
       "      <td>In stock</td>\n",
       "    </tr>\n",
       "    <tr>\n",
       "      <th>4</th>\n",
       "      <td>Sapiens: A Brief History of Humankind</td>\n",
       "      <td>catalogue/sapiens-a-brief-history-of-humankind...</td>\n",
       "      <td>Five</td>\n",
       "      <td>£54.23</td>\n",
       "      <td>In stock</td>\n",
       "    </tr>\n",
       "  </tbody>\n",
       "</table>\n",
       "</div>"
      ],
      "text/plain": [
       "                                  Titles  \\\n",
       "0                   A Light in the Attic   \n",
       "1                     Tipping the Velvet   \n",
       "2                             Soumission   \n",
       "3                          Sharp Objects   \n",
       "4  Sapiens: A Brief History of Humankind   \n",
       "\n",
       "                                                link Rating   Price  \\\n",
       "0     catalogue/a-light-in-the-attic_1000/index.html  Three  £51.77   \n",
       "1        catalogue/tipping-the-velvet_999/index.html    One  £53.74   \n",
       "2                catalogue/soumission_998/index.html    One  £50.10   \n",
       "3             catalogue/sharp-objects_997/index.html   Four  £47.82   \n",
       "4  catalogue/sapiens-a-brief-history-of-humankind...   Five  £54.23   \n",
       "\n",
       "  Availability  \n",
       "0     In stock  \n",
       "1     In stock  \n",
       "2     In stock  \n",
       "3     In stock  \n",
       "4     In stock  "
      ]
     },
     "execution_count": 81,
     "metadata": {},
     "output_type": "execute_result"
    }
   ],
   "source": [
    "df = pd.DataFrame()\n",
    "df['Titles'] = [book.select('h3 a')[0]['title'] for book in book_info]\n",
    "df['link'] = [book.select('h3 a')[0]['href'] for book in book_info]\n",
    "df['Rating'] = [book.find('p').attrs['class'][1] for book in book_info]\n",
    "df['Price'] = [book.select('div p')[1].text[1:] for book in book_info]\n",
    "df['Availability'] = [book.find('p',{'class': 'instock availability'}).text.replace('\\n','').strip() for book in book_info]\n",
    "df.head()"
   ]
  },
  {
   "cell_type": "code",
   "execution_count": 82,
   "metadata": {},
   "outputs": [
    {
     "data": {
      "text/plain": [
       "(20, 5)"
      ]
     },
     "execution_count": 82,
     "metadata": {},
     "output_type": "execute_result"
    }
   ],
   "source": [
    "df.shape"
   ]
  },
  {
   "cell_type": "markdown",
   "metadata": {},
   "source": [
    "#### Now lets see if we can do this for all 1000 books"
   ]
  },
  {
   "cell_type": "code",
   "execution_count": 83,
   "metadata": {},
   "outputs": [],
   "source": [
    "df = pd.DataFrame()\n",
    "\n",
    "for i in range(1,51):\n",
    "    url = f'http://books.toscrape.com/catalogue/page-{i}.html'    # crawl and fetch\n",
    "    res = requests.get(url)\n",
    "\n",
    "    soup_full = BeautifulSoup(res.text, features='lxml')    # or 'html.parser'\n",
    "    \n",
    "    book_info = soup_full.find_all('li',{'class': 'col-xs-6 col-sm-4 col-md-3 col-lg-3'})\n",
    "    \n",
    "    df_test = pd.DataFrame()\n",
    "    df_test['Titles'] = [book.select('h3 a')[0]['title'] for book in book_info]\n",
    "    df_test['link'] = [book.select('h3 a')[0]['href'] for book in book_info]\n",
    "    df_test['Rating'] = [book.find('p').attrs['class'][1] for book in book_info]\n",
    "    df_test['Price'] = [book.select('div p')[1].text[1:] for book in book_info]\n",
    "    df_test['Availability'] = [book.find('p',{'class': 'instock availability'}).text.replace('\\n','').strip() for book in book_info]\n",
    "    \n",
    "    df = df.append(df_test, ignore_index=True)"
   ]
  },
  {
   "cell_type": "code",
   "execution_count": 84,
   "metadata": {
    "scrolled": true
   },
   "outputs": [
    {
     "data": {
      "text/html": [
       "<div>\n",
       "<style scoped>\n",
       "    .dataframe tbody tr th:only-of-type {\n",
       "        vertical-align: middle;\n",
       "    }\n",
       "\n",
       "    .dataframe tbody tr th {\n",
       "        vertical-align: top;\n",
       "    }\n",
       "\n",
       "    .dataframe thead th {\n",
       "        text-align: right;\n",
       "    }\n",
       "</style>\n",
       "<table border=\"1\" class=\"dataframe\">\n",
       "  <thead>\n",
       "    <tr style=\"text-align: right;\">\n",
       "      <th></th>\n",
       "      <th>Titles</th>\n",
       "      <th>link</th>\n",
       "      <th>Rating</th>\n",
       "      <th>Price</th>\n",
       "      <th>Availability</th>\n",
       "    </tr>\n",
       "  </thead>\n",
       "  <tbody>\n",
       "    <tr>\n",
       "      <th>0</th>\n",
       "      <td>A Light in the Attic</td>\n",
       "      <td>a-light-in-the-attic_1000/index.html</td>\n",
       "      <td>Three</td>\n",
       "      <td>£51.77</td>\n",
       "      <td>In stock</td>\n",
       "    </tr>\n",
       "    <tr>\n",
       "      <th>1</th>\n",
       "      <td>Tipping the Velvet</td>\n",
       "      <td>tipping-the-velvet_999/index.html</td>\n",
       "      <td>One</td>\n",
       "      <td>£53.74</td>\n",
       "      <td>In stock</td>\n",
       "    </tr>\n",
       "    <tr>\n",
       "      <th>2</th>\n",
       "      <td>Soumission</td>\n",
       "      <td>soumission_998/index.html</td>\n",
       "      <td>One</td>\n",
       "      <td>£50.10</td>\n",
       "      <td>In stock</td>\n",
       "    </tr>\n",
       "    <tr>\n",
       "      <th>3</th>\n",
       "      <td>Sharp Objects</td>\n",
       "      <td>sharp-objects_997/index.html</td>\n",
       "      <td>Four</td>\n",
       "      <td>£47.82</td>\n",
       "      <td>In stock</td>\n",
       "    </tr>\n",
       "    <tr>\n",
       "      <th>4</th>\n",
       "      <td>Sapiens: A Brief History of Humankind</td>\n",
       "      <td>sapiens-a-brief-history-of-humankind_996/index...</td>\n",
       "      <td>Five</td>\n",
       "      <td>£54.23</td>\n",
       "      <td>In stock</td>\n",
       "    </tr>\n",
       "  </tbody>\n",
       "</table>\n",
       "</div>"
      ],
      "text/plain": [
       "                                  Titles  \\\n",
       "0                   A Light in the Attic   \n",
       "1                     Tipping the Velvet   \n",
       "2                             Soumission   \n",
       "3                          Sharp Objects   \n",
       "4  Sapiens: A Brief History of Humankind   \n",
       "\n",
       "                                                link Rating   Price  \\\n",
       "0               a-light-in-the-attic_1000/index.html  Three  £51.77   \n",
       "1                  tipping-the-velvet_999/index.html    One  £53.74   \n",
       "2                          soumission_998/index.html    One  £50.10   \n",
       "3                       sharp-objects_997/index.html   Four  £47.82   \n",
       "4  sapiens-a-brief-history-of-humankind_996/index...   Five  £54.23   \n",
       "\n",
       "  Availability  \n",
       "0     In stock  \n",
       "1     In stock  \n",
       "2     In stock  \n",
       "3     In stock  \n",
       "4     In stock  "
      ]
     },
     "execution_count": 84,
     "metadata": {},
     "output_type": "execute_result"
    }
   ],
   "source": [
    "df.head()"
   ]
  },
  {
   "cell_type": "code",
   "execution_count": 85,
   "metadata": {},
   "outputs": [
    {
     "data": {
      "text/plain": [
       "(1000, 5)"
      ]
     },
     "execution_count": 85,
     "metadata": {},
     "output_type": "execute_result"
    }
   ],
   "source": [
    "df.shape"
   ]
  },
  {
   "cell_type": "code",
   "execution_count": 86,
   "metadata": {},
   "outputs": [
    {
     "data": {
      "text/html": [
       "<div>\n",
       "<style scoped>\n",
       "    .dataframe tbody tr th:only-of-type {\n",
       "        vertical-align: middle;\n",
       "    }\n",
       "\n",
       "    .dataframe tbody tr th {\n",
       "        vertical-align: top;\n",
       "    }\n",
       "\n",
       "    .dataframe thead th {\n",
       "        text-align: right;\n",
       "    }\n",
       "</style>\n",
       "<table border=\"1\" class=\"dataframe\">\n",
       "  <thead>\n",
       "    <tr style=\"text-align: right;\">\n",
       "      <th></th>\n",
       "      <th>Titles</th>\n",
       "      <th>link</th>\n",
       "      <th>Rating</th>\n",
       "      <th>Price</th>\n",
       "      <th>Availability</th>\n",
       "    </tr>\n",
       "  </thead>\n",
       "  <tbody>\n",
       "    <tr>\n",
       "      <th>995</th>\n",
       "      <td>Alice in Wonderland (Alice's Adventures in Won...</td>\n",
       "      <td>alice-in-wonderland-alices-adventures-in-wonde...</td>\n",
       "      <td>One</td>\n",
       "      <td>£55.53</td>\n",
       "      <td>In stock</td>\n",
       "    </tr>\n",
       "    <tr>\n",
       "      <th>996</th>\n",
       "      <td>Ajin: Demi-Human, Volume 1 (Ajin: Demi-Human #1)</td>\n",
       "      <td>ajin-demi-human-volume-1-ajin-demi-human-1_4/i...</td>\n",
       "      <td>Four</td>\n",
       "      <td>£57.06</td>\n",
       "      <td>In stock</td>\n",
       "    </tr>\n",
       "    <tr>\n",
       "      <th>997</th>\n",
       "      <td>A Spy's Devotion (The Regency Spies of London #1)</td>\n",
       "      <td>a-spys-devotion-the-regency-spies-of-london-1_...</td>\n",
       "      <td>Five</td>\n",
       "      <td>£16.97</td>\n",
       "      <td>In stock</td>\n",
       "    </tr>\n",
       "    <tr>\n",
       "      <th>998</th>\n",
       "      <td>1st to Die (Women's Murder Club #1)</td>\n",
       "      <td>1st-to-die-womens-murder-club-1_2/index.html</td>\n",
       "      <td>One</td>\n",
       "      <td>£53.98</td>\n",
       "      <td>In stock</td>\n",
       "    </tr>\n",
       "    <tr>\n",
       "      <th>999</th>\n",
       "      <td>1,000 Places to See Before You Die</td>\n",
       "      <td>1000-places-to-see-before-you-die_1/index.html</td>\n",
       "      <td>Five</td>\n",
       "      <td>£26.08</td>\n",
       "      <td>In stock</td>\n",
       "    </tr>\n",
       "  </tbody>\n",
       "</table>\n",
       "</div>"
      ],
      "text/plain": [
       "                                                Titles  \\\n",
       "995  Alice in Wonderland (Alice's Adventures in Won...   \n",
       "996   Ajin: Demi-Human, Volume 1 (Ajin: Demi-Human #1)   \n",
       "997  A Spy's Devotion (The Regency Spies of London #1)   \n",
       "998                1st to Die (Women's Murder Club #1)   \n",
       "999                 1,000 Places to See Before You Die   \n",
       "\n",
       "                                                  link Rating   Price  \\\n",
       "995  alice-in-wonderland-alices-adventures-in-wonde...    One  £55.53   \n",
       "996  ajin-demi-human-volume-1-ajin-demi-human-1_4/i...   Four  £57.06   \n",
       "997  a-spys-devotion-the-regency-spies-of-london-1_...   Five  £16.97   \n",
       "998       1st-to-die-womens-murder-club-1_2/index.html    One  £53.98   \n",
       "999     1000-places-to-see-before-you-die_1/index.html   Five  £26.08   \n",
       "\n",
       "    Availability  \n",
       "995     In stock  \n",
       "996     In stock  \n",
       "997     In stock  \n",
       "998     In stock  \n",
       "999     In stock  "
      ]
     },
     "execution_count": 86,
     "metadata": {},
     "output_type": "execute_result"
    }
   ],
   "source": [
    "df.tail()"
   ]
  },
  {
   "cell_type": "markdown",
   "metadata": {},
   "source": [
    "Suppose we wanted a list of all the books that have a rating of two."
   ]
  },
  {
   "cell_type": "code",
   "execution_count": 87,
   "metadata": {},
   "outputs": [
    {
     "data": {
      "text/html": [
       "<div>\n",
       "<style scoped>\n",
       "    .dataframe tbody tr th:only-of-type {\n",
       "        vertical-align: middle;\n",
       "    }\n",
       "\n",
       "    .dataframe tbody tr th {\n",
       "        vertical-align: top;\n",
       "    }\n",
       "\n",
       "    .dataframe thead th {\n",
       "        text-align: right;\n",
       "    }\n",
       "</style>\n",
       "<table border=\"1\" class=\"dataframe\">\n",
       "  <thead>\n",
       "    <tr style=\"text-align: right;\">\n",
       "      <th></th>\n",
       "      <th>Titles</th>\n",
       "      <th>link</th>\n",
       "      <th>Rating</th>\n",
       "      <th>Price</th>\n",
       "      <th>Availability</th>\n",
       "    </tr>\n",
       "  </thead>\n",
       "  <tbody>\n",
       "    <tr>\n",
       "      <th>10</th>\n",
       "      <td>Starving Hearts (Triangular Trade Trilogy, #1)</td>\n",
       "      <td>starving-hearts-triangular-trade-trilogy-1_990...</td>\n",
       "      <td>Two</td>\n",
       "      <td>£13.99</td>\n",
       "      <td>In stock</td>\n",
       "    </tr>\n",
       "    <tr>\n",
       "      <th>18</th>\n",
       "      <td>Libertarianism for Beginners</td>\n",
       "      <td>libertarianism-for-beginners_982/index.html</td>\n",
       "      <td>Two</td>\n",
       "      <td>£51.33</td>\n",
       "      <td>In stock</td>\n",
       "    </tr>\n",
       "    <tr>\n",
       "      <th>19</th>\n",
       "      <td>It's Only the Himalayas</td>\n",
       "      <td>its-only-the-himalayas_981/index.html</td>\n",
       "      <td>Two</td>\n",
       "      <td>£45.17</td>\n",
       "      <td>In stock</td>\n",
       "    </tr>\n",
       "    <tr>\n",
       "      <th>21</th>\n",
       "      <td>How Music Works</td>\n",
       "      <td>how-music-works_979/index.html</td>\n",
       "      <td>Two</td>\n",
       "      <td>£37.32</td>\n",
       "      <td>In stock</td>\n",
       "    </tr>\n",
       "    <tr>\n",
       "      <th>36</th>\n",
       "      <td>Maude (1883-1993):She Grew Up with the country</td>\n",
       "      <td>maude-1883-1993she-grew-up-with-the-country_96...</td>\n",
       "      <td>Two</td>\n",
       "      <td>£18.02</td>\n",
       "      <td>In stock</td>\n",
       "    </tr>\n",
       "    <tr>\n",
       "      <th>...</th>\n",
       "      <td>...</td>\n",
       "      <td>...</td>\n",
       "      <td>...</td>\n",
       "      <td>...</td>\n",
       "      <td>...</td>\n",
       "    </tr>\n",
       "    <tr>\n",
       "      <th>963</th>\n",
       "      <td>Of Mice and Men</td>\n",
       "      <td>of-mice-and-men_37/index.html</td>\n",
       "      <td>Two</td>\n",
       "      <td>£47.11</td>\n",
       "      <td>In stock</td>\n",
       "    </tr>\n",
       "    <tr>\n",
       "      <th>965</th>\n",
       "      <td>My Perfect Mistake (Over the Top #1)</td>\n",
       "      <td>my-perfect-mistake-over-the-top-1_35/index.html</td>\n",
       "      <td>Two</td>\n",
       "      <td>£38.92</td>\n",
       "      <td>In stock</td>\n",
       "    </tr>\n",
       "    <tr>\n",
       "      <th>967</th>\n",
       "      <td>Meditations</td>\n",
       "      <td>meditations_33/index.html</td>\n",
       "      <td>Two</td>\n",
       "      <td>£25.89</td>\n",
       "      <td>In stock</td>\n",
       "    </tr>\n",
       "    <tr>\n",
       "      <th>980</th>\n",
       "      <td>Frankenstein</td>\n",
       "      <td>frankenstein_20/index.html</td>\n",
       "      <td>Two</td>\n",
       "      <td>£38.00</td>\n",
       "      <td>In stock</td>\n",
       "    </tr>\n",
       "    <tr>\n",
       "      <th>983</th>\n",
       "      <td>Emma</td>\n",
       "      <td>emma_17/index.html</td>\n",
       "      <td>Two</td>\n",
       "      <td>£32.93</td>\n",
       "      <td>In stock</td>\n",
       "    </tr>\n",
       "  </tbody>\n",
       "</table>\n",
       "<p>196 rows × 5 columns</p>\n",
       "</div>"
      ],
      "text/plain": [
       "                                             Titles  \\\n",
       "10   Starving Hearts (Triangular Trade Trilogy, #1)   \n",
       "18                     Libertarianism for Beginners   \n",
       "19                          It's Only the Himalayas   \n",
       "21                                  How Music Works   \n",
       "36   Maude (1883-1993):She Grew Up with the country   \n",
       "..                                              ...   \n",
       "963                                 Of Mice and Men   \n",
       "965            My Perfect Mistake (Over the Top #1)   \n",
       "967                                     Meditations   \n",
       "980                                    Frankenstein   \n",
       "983                                            Emma   \n",
       "\n",
       "                                                  link Rating   Price  \\\n",
       "10   starving-hearts-triangular-trade-trilogy-1_990...    Two  £13.99   \n",
       "18         libertarianism-for-beginners_982/index.html    Two  £51.33   \n",
       "19               its-only-the-himalayas_981/index.html    Two  £45.17   \n",
       "21                      how-music-works_979/index.html    Two  £37.32   \n",
       "36   maude-1883-1993she-grew-up-with-the-country_96...    Two  £18.02   \n",
       "..                                                 ...    ...     ...   \n",
       "963                      of-mice-and-men_37/index.html    Two  £47.11   \n",
       "965    my-perfect-mistake-over-the-top-1_35/index.html    Two  £38.92   \n",
       "967                          meditations_33/index.html    Two  £25.89   \n",
       "980                         frankenstein_20/index.html    Two  £38.00   \n",
       "983                                 emma_17/index.html    Two  £32.93   \n",
       "\n",
       "    Availability  \n",
       "10      In stock  \n",
       "18      In stock  \n",
       "19      In stock  \n",
       "21      In stock  \n",
       "36      In stock  \n",
       "..           ...  \n",
       "963     In stock  \n",
       "965     In stock  \n",
       "967     In stock  \n",
       "980     In stock  \n",
       "983     In stock  \n",
       "\n",
       "[196 rows x 5 columns]"
      ]
     },
     "execution_count": 87,
     "metadata": {},
     "output_type": "execute_result"
    }
   ],
   "source": [
    "df[df['Rating']=='Two']"
   ]
  },
  {
   "cell_type": "code",
   "execution_count": 88,
   "metadata": {},
   "outputs": [
    {
     "data": {
      "text/plain": [
       "['Starving Hearts (Triangular Trade Trilogy, #1)',\n",
       " 'Libertarianism for Beginners',\n",
       " \"It's Only the Himalayas\",\n",
       " 'How Music Works',\n",
       " 'Maude (1883-1993):She Grew Up with the country',\n",
       " \"You can't bury them all: Poems\",\n",
       " 'Reasons to Stay Alive',\n",
       " 'Without Borders (Wanderlove #1)',\n",
       " 'Soul Reader',\n",
       " 'Security',\n",
       " 'Saga, Volume 5 (Saga (Collected Editions) #5)',\n",
       " 'Reskilling America: Learning to Labor in the Twenty-First Century',\n",
       " 'Political Suicide: Missteps, Peccadilloes, Bad Calls, Backroom Hijinx, Sordid Pasts, Rotten Breaks, and Just Plain Dumb Mistakes in the Annals of American Politics',\n",
       " 'Obsidian (Lux #1)',\n",
       " 'My Paris Kitchen: Recipes and Stories',\n",
       " 'Masks and Shadows',\n",
       " 'Lumberjanes, Vol. 2: Friendship to the Max (Lumberjanes #5-8)',\n",
       " 'Lumberjanes Vol. 3: A Terrible Plan (Lumberjanes #9-12)',\n",
       " 'Judo: Seven Steps to Black Belt (an Introductory Guide for Beginners)',\n",
       " 'I Hate Fairyland, Vol. 1: Madly Ever After (I Hate Fairyland (Compilations) #1-5)',\n",
       " 'Giant Days, Vol. 2 (Giant Days #5-8)',\n",
       " 'Everydata: The Misinformation Hidden in the Little Data You Consume Every Day',\n",
       " \"Don't Be a Jerk: And Other Practical Advice from Dogen, Japan's Greatest Zen Master\",\n",
       " 'Bossypants',\n",
       " 'Bitch Planet, Vol. 1: Extraordinary Machine (Bitch Planet (Collected Editions))',\n",
       " 'Avatar: The Last Airbender: Smoke and Shadow, Part 3 (Smoke and Shadow #3)',\n",
       " 'Tuesday Nights in 1980',\n",
       " 'The Psychopath Test: A Journey Through the Madness Industry',\n",
       " 'The Power of Now: A Guide to Spiritual Enlightenment',\n",
       " \"The Omnivore's Dilemma: A Natural History of Four Meals\",\n",
       " 'The Love and Lemons Cookbook: An Apple-to-Zucchini Celebration of Impromptu Cooking',\n",
       " 'The Girl on the Train',\n",
       " 'The Emerald Mystery',\n",
       " 'The Argonauts',\n",
       " 'Suddenly in Love (Lake Haven #1)',\n",
       " 'Soft Apocalypse',\n",
       " \"So You've Been Publicly Shamed\",\n",
       " 'Shoe Dog: A Memoir by the Creator of NIKE',\n",
       " 'Louisa: The Extraordinary Life of Mrs. Adams',\n",
       " 'Large Print Heart of the Pride',\n",
       " 'Grumbles',\n",
       " 'Chasing Heaven: What Dying Taught Me About Living',\n",
       " 'Becoming Wise: An Inquiry into the Mystery and Art of Living',\n",
       " 'Beauty Restored (Riley Family Legacy Novellas #3)',\n",
       " 'Batman: The Long Halloween (Batman)',\n",
       " \"Ayumi's Violin\",\n",
       " 'Wild Swans',\n",
       " \"What's It Like in Space?: Stories from Astronauts Who've Been There\",\n",
       " 'Until Friday Night (The Field Party #1)',\n",
       " 'Unbroken: A World War II Story of Survival, Resilience, and Redemption',\n",
       " 'Twenty Yawns',\n",
       " 'Through the Woods',\n",
       " 'This Is Where It Ends',\n",
       " 'The Year of Magical Thinking',\n",
       " 'The Last Mile (Amos Decker #2)',\n",
       " 'The Immortal Life of Henrietta Lacks',\n",
       " 'The Hidden Oracle (The Trials of Apollo #1)',\n",
       " 'The Guilty (Will Robie #4)',\n",
       " 'Red Hood/Arsenal, Vol. 1: Open for Business (Red Hood/Arsenal #1)',\n",
       " 'Once Was a Time',\n",
       " 'No Dream Is Too High: Life Lessons From a Man Who Walked on the Moon',\n",
       " 'Naruto (3-in-1 Edition), Vol. 14: Includes Vols. 40, 41 & 42 (Naruto: Omnibus #14)',\n",
       " 'More Than Music (Chasing the Dream #1)',\n",
       " 'Lowriders to the Center of the Earth (Lowriders in Space #2)',\n",
       " 'Eat Fat, Get Thin',\n",
       " 'Doctor Sleep (The Shining #2)',\n",
       " 'Crazy Love: Overwhelmed by a Relentless God',\n",
       " 'Carrie',\n",
       " 'Batman: Europa',\n",
       " 'Angels Walking (Angels Walking #1)',\n",
       " 'Adulthood Is a Myth: A \"Sarah\\'s Scribbles\" Collection',\n",
       " 'A Study in Scarlet (Sherlock Holmes #1)',\n",
       " 'A Series of Catastrophes and Miracles: A True Story of Love, Science, and Cancer',\n",
       " \"A People's History of the United States\",\n",
       " 'My Kitchen Year: 136 Recipes That Saved My Life',\n",
       " 'The Lonely City: Adventures in the Art of Being Alone',\n",
       " 'The Dinner Party',\n",
       " 'Stars Above (The Lunar Chronicles #4.5)',\n",
       " 'Love, Lies and Spies',\n",
       " 'Troublemaker: Surviving Hollywood and Scientology',\n",
       " 'The Widow',\n",
       " 'Setting the World on Fire: The Brief, Astonishing Life of St. Catherine of Siena',\n",
       " 'Mothering Sunday',\n",
       " 'Lilac Girls',\n",
       " '10% Happier: How I Tamed the Voice in My Head, Reduced Stress Without Losing My Edge, and Found Self-Help That Actually Works',\n",
       " 'Underlying Notes',\n",
       " 'The Flowers Lied',\n",
       " 'Modern Day Fables',\n",
       " \"Chernobyl 01:23:40: The Incredible True Story of the World's Worst Nuclear Disaster\",\n",
       " '23 Degrees South: A Tropical Tale of Changing Whether...',\n",
       " 'When Breath Becomes Air',\n",
       " 'Vagabonding: An Uncommon Guide to the Art of Long-Term World Travel',\n",
       " 'The Martian (The Martian #1)',\n",
       " \"Miller's Valley\",\n",
       " \"Love That Boy: What Two Presidents, Eight Road Trips, and My Son Taught Me About a Parent's Expectations\",\n",
       " 'Left Behind (Left Behind #1)',\n",
       " 'Howl and Other Poems',\n",
       " \"Heaven is for Real: A Little Boy's Astounding Story of His Trip to Heaven and Back\",\n",
       " \"Brazen: The Courage to Find the You That's Been Hiding\",\n",
       " '32 Yolks',\n",
       " 'Wildlife of New York: A Five-Borough Coloring Book',\n",
       " 'Unreasonable Hope: Finding Faith in the God Who Brings Purpose to Your Pain',\n",
       " 'The Art Book',\n",
       " 'Steal Like an Artist: 10 Things Nobody Told You About Being Creative',\n",
       " 'Raymie Nightingale',\n",
       " 'Like Never Before (Walker Family #2)',\n",
       " 'How to Be a Domestic Goddess: Baking and the Art of Comfort Cooking',\n",
       " 'Finding God in the Ruins: How God Redeems Pain',\n",
       " 'Chronicles, Vol. 1',\n",
       " 'A Summer In Europe',\n",
       " 'The Rise and Fall of the Third Reich: A History of Nazi Germany',\n",
       " 'The Makings of a Fatherless Child',\n",
       " 'The Fellowship of the Ring (The Lord of the Rings #1)',\n",
       " \"Tell the Wolves I'm Home\",\n",
       " 'In the Woods (Dublin Murder Squad #1)',\n",
       " 'Give It Back',\n",
       " 'Why Save the Bankers?: And Other Essays on Our Economic and Political Crisis',\n",
       " 'The Raven King (The Raven Cycle #4)',\n",
       " 'The Expatriates',\n",
       " 'The 5th Wave (The 5th Wave #1)',\n",
       " 'Peak: Secrets from the New Science of Expertise',\n",
       " 'Logan Kade (Fallen Crest High #5.5)',\n",
       " \"I Know Why the Caged Bird Sings (Maya Angelou's Autobiography #1)\",\n",
       " 'Drama',\n",
       " \"America's War for the Greater Middle East: A Military History\",\n",
       " 'A Game of Thrones (A Song of Ice and Fire #1)',\n",
       " \"The Pilgrim's Progress\",\n",
       " 'The Hound of the Baskervilles (Sherlock Holmes #5)',\n",
       " \"The Geography of Bliss: One Grump's Search for the Happiest Places in the World\",\n",
       " 'The Demonists (Demonist #1)',\n",
       " 'The Demon Prince of Momochi House, Vol. 4 (The Demon Prince of Momochi House #4)',\n",
       " 'Misery',\n",
       " 'Far From True (Promise Falls Trilogy #2)',\n",
       " 'Confessions of a Shopaholic (Shopaholic #1)',\n",
       " 'Vegan Vegetarian Omnivore: Dinner for Everyone at the Table',\n",
       " 'Two Boys Kissing',\n",
       " 'Twilight (Twilight #1)',\n",
       " 'Twenties Girl',\n",
       " 'The Tipping Point: How Little Things Can Make a Big Difference',\n",
       " 'The Stand',\n",
       " 'The Picture of Dorian Gray',\n",
       " 'The Name of God is Mercy',\n",
       " \"The Lover's Dictionary\",\n",
       " 'The Last Painting of Sara de Vos',\n",
       " 'The Guns of August',\n",
       " 'The Girl Who Played with Fire (Millennium Trilogy #2)',\n",
       " 'The Da Vinci Code (Robert Langdon #2)',\n",
       " 'The Cat in the Hat (Beginner Books B-1)',\n",
       " 'The Book Thief',\n",
       " 'The Autobiography of Malcolm X',\n",
       " \"Surely You're Joking, Mr. Feynman!: Adventures of a Curious Character\",\n",
       " 'Soldier (Talon #3)',\n",
       " 'Shopaholic & Baby (Shopaholic #5)',\n",
       " 'Seven Days in the Art World',\n",
       " 'Rework',\n",
       " 'Packing for Mars: The Curious Science of Life in the Void',\n",
       " 'Orange Is the New Black',\n",
       " 'One for the Money (Stephanie Plum #1)',\n",
       " 'Midnight Riot (Peter Grant/ Rivers of London - books #1)',\n",
       " 'Me Talk Pretty One Day',\n",
       " 'Manuscript Found in Accra',\n",
       " 'Lust & Wonder',\n",
       " \"Life, the Universe and Everything (Hitchhiker's Guide to the Galaxy #3)\",\n",
       " 'Life After Life',\n",
       " 'I Am Malala: The Girl Who Stood Up for Education and Was Shot by the Taliban',\n",
       " 'House of Lost Worlds: Dinosaurs, Dynasties, and the Story of Life on Earth',\n",
       " 'Horrible Bear!',\n",
       " 'Holidays on Ice',\n",
       " 'Girl in the Blue Coat',\n",
       " 'Fruits Basket, Vol. 3 (Fruits Basket #3)',\n",
       " 'Cosmos',\n",
       " 'Civilization and Its Discontents',\n",
       " \"Catastrophic Happiness: Finding Joy in Childhood's Messy Years\",\n",
       " 'Career of Evil (Cormoran Strike #3)',\n",
       " 'Born to Run: A Hidden Tribe, Superathletes, and the Greatest Race the World Has Never Seen',\n",
       " \"Best of My Love (Fool's Gold #20)\",\n",
       " 'Beowulf',\n",
       " 'Awkward',\n",
       " 'And Then There Were None',\n",
       " 'A Storm of Swords (A Song of Ice and Fire #3)',\n",
       " 'The Suffragettes (Little Black Classics, #96)',\n",
       " 'Vampire Girl (Vampire Girl #1)',\n",
       " 'Three Wishes (River of Time: California #1)',\n",
       " 'The Wicked + The Divine, Vol. 1: The Faust Act (The Wicked + The Divine)',\n",
       " 'The Little Prince',\n",
       " 'The Last Girl (The Dominion Trilogy #1)',\n",
       " 'Taking Shots (Assassins #1)',\n",
       " 'Settling the Score (The Summer Games #1)',\n",
       " 'Rhythm, Chord & Malykhin',\n",
       " 'One Second (Seven #7)',\n",
       " \"Old Records Never Die: One Man's Quest for His Vinyl and His Past\",\n",
       " 'Of Mice and Men',\n",
       " 'My Perfect Mistake (Over the Top #1)',\n",
       " 'Meditations',\n",
       " 'Frankenstein',\n",
       " 'Emma']"
      ]
     },
     "execution_count": 88,
     "metadata": {},
     "output_type": "execute_result"
    }
   ],
   "source": [
    "two_star_list = df[df['Rating']=='Two']['Titles'].to_list()\n",
    "two_star_list"
   ]
  },
  {
   "cell_type": "code",
   "execution_count": 89,
   "metadata": {},
   "outputs": [
    {
     "data": {
      "text/plain": [
       "196"
      ]
     },
     "execution_count": 89,
     "metadata": {},
     "output_type": "execute_result"
    }
   ],
   "source": [
    "len(two_star_list)"
   ]
  },
  {
   "cell_type": "markdown",
   "metadata": {},
   "source": [
    "<a id='eg2'></a>\n",
    "## Working with Multiple Pages and Items\n",
    "\n",
    "Let's show a more realistic example of scraping a full site. The website: http://books.toscrape.com/index.html is specifically designed for people to scrape it. Let's try to get the title of every book that has a 2 star rating and at the end just have a Python list with all their titles.\n",
    "\n",
    "We will do the following:\n",
    "\n",
    "1. Figure out the URL structure to go through every page\n",
    "2. Scrap every page in the catalogue\n",
    "3. Figure out what tag/class represents the Star rating\n",
    "4. Filter by that star rating using an if statement\n",
    "5. Store the results to a list"
   ]
  },
  {
   "cell_type": "markdown",
   "metadata": {
    "collapsed": true
   },
   "source": [
    "We can see that the URL structure is the following:\n",
    "\n",
    "    http://books.toscrape.com/catalogue/page-1.html"
   ]
  },
  {
   "cell_type": "code",
   "execution_count": 90,
   "metadata": {},
   "outputs": [],
   "source": [
    "base_url = 'http://books.toscrape.com/catalogue/page-{}.html'"
   ]
  },
  {
   "cell_type": "markdown",
   "metadata": {},
   "source": [
    "We can then fill in the page number with .format()"
   ]
  },
  {
   "cell_type": "code",
   "execution_count": 91,
   "metadata": {},
   "outputs": [],
   "source": [
    "res = requests.get(base_url.format('1'))"
   ]
  },
  {
   "cell_type": "code",
   "execution_count": 92,
   "metadata": {},
   "outputs": [
    {
     "data": {
      "text/plain": [
       "<Response [200]>"
      ]
     },
     "execution_count": 92,
     "metadata": {},
     "output_type": "execute_result"
    }
   ],
   "source": [
    "res"
   ]
  },
  {
   "cell_type": "markdown",
   "metadata": {},
   "source": [
    "Now let's grab the products (books) from the get request result:"
   ]
  },
  {
   "cell_type": "code",
   "execution_count": 93,
   "metadata": {},
   "outputs": [],
   "source": [
    "soup = BeautifulSoup(res.text,\"lxml\")"
   ]
  },
  {
   "cell_type": "code",
   "execution_count": 94,
   "metadata": {},
   "outputs": [
    {
     "data": {
      "text/plain": [
       "[<article class=\"product_pod\">\n",
       " <div class=\"image_container\">\n",
       " <a href=\"a-light-in-the-attic_1000/index.html\"><img alt=\"A Light in the Attic\" class=\"thumbnail\" src=\"../media/cache/2c/da/2cdad67c44b002e7ead0cc35693c0e8b.jpg\"/></a>\n",
       " </div>\n",
       " <p class=\"star-rating Three\">\n",
       " <i class=\"icon-star\"></i>\n",
       " <i class=\"icon-star\"></i>\n",
       " <i class=\"icon-star\"></i>\n",
       " <i class=\"icon-star\"></i>\n",
       " <i class=\"icon-star\"></i>\n",
       " </p>\n",
       " <h3><a href=\"a-light-in-the-attic_1000/index.html\" title=\"A Light in the Attic\">A Light in the ...</a></h3>\n",
       " <div class=\"product_price\">\n",
       " <p class=\"price_color\">Â£51.77</p>\n",
       " <p class=\"instock availability\">\n",
       " <i class=\"icon-ok\"></i>\n",
       "     \n",
       "         In stock\n",
       "     \n",
       " </p>\n",
       " <form>\n",
       " <button class=\"btn btn-primary btn-block\" data-loading-text=\"Adding...\" type=\"submit\">Add to basket</button>\n",
       " </form>\n",
       " </div>\n",
       " </article>,\n",
       " <article class=\"product_pod\">\n",
       " <div class=\"image_container\">\n",
       " <a href=\"tipping-the-velvet_999/index.html\"><img alt=\"Tipping the Velvet\" class=\"thumbnail\" src=\"../media/cache/26/0c/260c6ae16bce31c8f8c95daddd9f4a1c.jpg\"/></a>\n",
       " </div>\n",
       " <p class=\"star-rating One\">\n",
       " <i class=\"icon-star\"></i>\n",
       " <i class=\"icon-star\"></i>\n",
       " <i class=\"icon-star\"></i>\n",
       " <i class=\"icon-star\"></i>\n",
       " <i class=\"icon-star\"></i>\n",
       " </p>\n",
       " <h3><a href=\"tipping-the-velvet_999/index.html\" title=\"Tipping the Velvet\">Tipping the Velvet</a></h3>\n",
       " <div class=\"product_price\">\n",
       " <p class=\"price_color\">Â£53.74</p>\n",
       " <p class=\"instock availability\">\n",
       " <i class=\"icon-ok\"></i>\n",
       "     \n",
       "         In stock\n",
       "     \n",
       " </p>\n",
       " <form>\n",
       " <button class=\"btn btn-primary btn-block\" data-loading-text=\"Adding...\" type=\"submit\">Add to basket</button>\n",
       " </form>\n",
       " </div>\n",
       " </article>,\n",
       " <article class=\"product_pod\">\n",
       " <div class=\"image_container\">\n",
       " <a href=\"soumission_998/index.html\"><img alt=\"Soumission\" class=\"thumbnail\" src=\"../media/cache/3e/ef/3eef99c9d9adef34639f510662022830.jpg\"/></a>\n",
       " </div>\n",
       " <p class=\"star-rating One\">\n",
       " <i class=\"icon-star\"></i>\n",
       " <i class=\"icon-star\"></i>\n",
       " <i class=\"icon-star\"></i>\n",
       " <i class=\"icon-star\"></i>\n",
       " <i class=\"icon-star\"></i>\n",
       " </p>\n",
       " <h3><a href=\"soumission_998/index.html\" title=\"Soumission\">Soumission</a></h3>\n",
       " <div class=\"product_price\">\n",
       " <p class=\"price_color\">Â£50.10</p>\n",
       " <p class=\"instock availability\">\n",
       " <i class=\"icon-ok\"></i>\n",
       "     \n",
       "         In stock\n",
       "     \n",
       " </p>\n",
       " <form>\n",
       " <button class=\"btn btn-primary btn-block\" data-loading-text=\"Adding...\" type=\"submit\">Add to basket</button>\n",
       " </form>\n",
       " </div>\n",
       " </article>,\n",
       " <article class=\"product_pod\">\n",
       " <div class=\"image_container\">\n",
       " <a href=\"sharp-objects_997/index.html\"><img alt=\"Sharp Objects\" class=\"thumbnail\" src=\"../media/cache/32/51/3251cf3a3412f53f339e42cac2134093.jpg\"/></a>\n",
       " </div>\n",
       " <p class=\"star-rating Four\">\n",
       " <i class=\"icon-star\"></i>\n",
       " <i class=\"icon-star\"></i>\n",
       " <i class=\"icon-star\"></i>\n",
       " <i class=\"icon-star\"></i>\n",
       " <i class=\"icon-star\"></i>\n",
       " </p>\n",
       " <h3><a href=\"sharp-objects_997/index.html\" title=\"Sharp Objects\">Sharp Objects</a></h3>\n",
       " <div class=\"product_price\">\n",
       " <p class=\"price_color\">Â£47.82</p>\n",
       " <p class=\"instock availability\">\n",
       " <i class=\"icon-ok\"></i>\n",
       "     \n",
       "         In stock\n",
       "     \n",
       " </p>\n",
       " <form>\n",
       " <button class=\"btn btn-primary btn-block\" data-loading-text=\"Adding...\" type=\"submit\">Add to basket</button>\n",
       " </form>\n",
       " </div>\n",
       " </article>,\n",
       " <article class=\"product_pod\">\n",
       " <div class=\"image_container\">\n",
       " <a href=\"sapiens-a-brief-history-of-humankind_996/index.html\"><img alt=\"Sapiens: A Brief History of Humankind\" class=\"thumbnail\" src=\"../media/cache/be/a5/bea5697f2534a2f86a3ef27b5a8c12a6.jpg\"/></a>\n",
       " </div>\n",
       " <p class=\"star-rating Five\">\n",
       " <i class=\"icon-star\"></i>\n",
       " <i class=\"icon-star\"></i>\n",
       " <i class=\"icon-star\"></i>\n",
       " <i class=\"icon-star\"></i>\n",
       " <i class=\"icon-star\"></i>\n",
       " </p>\n",
       " <h3><a href=\"sapiens-a-brief-history-of-humankind_996/index.html\" title=\"Sapiens: A Brief History of Humankind\">Sapiens: A Brief History ...</a></h3>\n",
       " <div class=\"product_price\">\n",
       " <p class=\"price_color\">Â£54.23</p>\n",
       " <p class=\"instock availability\">\n",
       " <i class=\"icon-ok\"></i>\n",
       "     \n",
       "         In stock\n",
       "     \n",
       " </p>\n",
       " <form>\n",
       " <button class=\"btn btn-primary btn-block\" data-loading-text=\"Adding...\" type=\"submit\">Add to basket</button>\n",
       " </form>\n",
       " </div>\n",
       " </article>,\n",
       " <article class=\"product_pod\">\n",
       " <div class=\"image_container\">\n",
       " <a href=\"the-requiem-red_995/index.html\"><img alt=\"The Requiem Red\" class=\"thumbnail\" src=\"../media/cache/68/33/68339b4c9bc034267e1da611ab3b34f8.jpg\"/></a>\n",
       " </div>\n",
       " <p class=\"star-rating One\">\n",
       " <i class=\"icon-star\"></i>\n",
       " <i class=\"icon-star\"></i>\n",
       " <i class=\"icon-star\"></i>\n",
       " <i class=\"icon-star\"></i>\n",
       " <i class=\"icon-star\"></i>\n",
       " </p>\n",
       " <h3><a href=\"the-requiem-red_995/index.html\" title=\"The Requiem Red\">The Requiem Red</a></h3>\n",
       " <div class=\"product_price\">\n",
       " <p class=\"price_color\">Â£22.65</p>\n",
       " <p class=\"instock availability\">\n",
       " <i class=\"icon-ok\"></i>\n",
       "     \n",
       "         In stock\n",
       "     \n",
       " </p>\n",
       " <form>\n",
       " <button class=\"btn btn-primary btn-block\" data-loading-text=\"Adding...\" type=\"submit\">Add to basket</button>\n",
       " </form>\n",
       " </div>\n",
       " </article>,\n",
       " <article class=\"product_pod\">\n",
       " <div class=\"image_container\">\n",
       " <a href=\"the-dirty-little-secrets-of-getting-your-dream-job_994/index.html\"><img alt=\"The Dirty Little Secrets of Getting Your Dream Job\" class=\"thumbnail\" src=\"../media/cache/92/27/92274a95b7c251fea59a2b8a78275ab4.jpg\"/></a>\n",
       " </div>\n",
       " <p class=\"star-rating Four\">\n",
       " <i class=\"icon-star\"></i>\n",
       " <i class=\"icon-star\"></i>\n",
       " <i class=\"icon-star\"></i>\n",
       " <i class=\"icon-star\"></i>\n",
       " <i class=\"icon-star\"></i>\n",
       " </p>\n",
       " <h3><a href=\"the-dirty-little-secrets-of-getting-your-dream-job_994/index.html\" title=\"The Dirty Little Secrets of Getting Your Dream Job\">The Dirty Little Secrets ...</a></h3>\n",
       " <div class=\"product_price\">\n",
       " <p class=\"price_color\">Â£33.34</p>\n",
       " <p class=\"instock availability\">\n",
       " <i class=\"icon-ok\"></i>\n",
       "     \n",
       "         In stock\n",
       "     \n",
       " </p>\n",
       " <form>\n",
       " <button class=\"btn btn-primary btn-block\" data-loading-text=\"Adding...\" type=\"submit\">Add to basket</button>\n",
       " </form>\n",
       " </div>\n",
       " </article>,\n",
       " <article class=\"product_pod\">\n",
       " <div class=\"image_container\">\n",
       " <a href=\"the-coming-woman-a-novel-based-on-the-life-of-the-infamous-feminist-victoria-woodhull_993/index.html\"><img alt=\"The Coming Woman: A Novel Based on the Life of the Infamous Feminist, Victoria Woodhull\" class=\"thumbnail\" src=\"../media/cache/3d/54/3d54940e57e662c4dd1f3ff00c78cc64.jpg\"/></a>\n",
       " </div>\n",
       " <p class=\"star-rating Three\">\n",
       " <i class=\"icon-star\"></i>\n",
       " <i class=\"icon-star\"></i>\n",
       " <i class=\"icon-star\"></i>\n",
       " <i class=\"icon-star\"></i>\n",
       " <i class=\"icon-star\"></i>\n",
       " </p>\n",
       " <h3><a href=\"the-coming-woman-a-novel-based-on-the-life-of-the-infamous-feminist-victoria-woodhull_993/index.html\" title=\"The Coming Woman: A Novel Based on the Life of the Infamous Feminist, Victoria Woodhull\">The Coming Woman: A ...</a></h3>\n",
       " <div class=\"product_price\">\n",
       " <p class=\"price_color\">Â£17.93</p>\n",
       " <p class=\"instock availability\">\n",
       " <i class=\"icon-ok\"></i>\n",
       "     \n",
       "         In stock\n",
       "     \n",
       " </p>\n",
       " <form>\n",
       " <button class=\"btn btn-primary btn-block\" data-loading-text=\"Adding...\" type=\"submit\">Add to basket</button>\n",
       " </form>\n",
       " </div>\n",
       " </article>,\n",
       " <article class=\"product_pod\">\n",
       " <div class=\"image_container\">\n",
       " <a href=\"the-boys-in-the-boat-nine-americans-and-their-epic-quest-for-gold-at-the-1936-berlin-olympics_992/index.html\"><img alt=\"The Boys in the Boat: Nine Americans and Their Epic Quest for Gold at the 1936 Berlin Olympics\" class=\"thumbnail\" src=\"../media/cache/66/88/66883b91f6804b2323c8369331cb7dd1.jpg\"/></a>\n",
       " </div>\n",
       " <p class=\"star-rating Four\">\n",
       " <i class=\"icon-star\"></i>\n",
       " <i class=\"icon-star\"></i>\n",
       " <i class=\"icon-star\"></i>\n",
       " <i class=\"icon-star\"></i>\n",
       " <i class=\"icon-star\"></i>\n",
       " </p>\n",
       " <h3><a href=\"the-boys-in-the-boat-nine-americans-and-their-epic-quest-for-gold-at-the-1936-berlin-olympics_992/index.html\" title=\"The Boys in the Boat: Nine Americans and Their Epic Quest for Gold at the 1936 Berlin Olympics\">The Boys in the ...</a></h3>\n",
       " <div class=\"product_price\">\n",
       " <p class=\"price_color\">Â£22.60</p>\n",
       " <p class=\"instock availability\">\n",
       " <i class=\"icon-ok\"></i>\n",
       "     \n",
       "         In stock\n",
       "     \n",
       " </p>\n",
       " <form>\n",
       " <button class=\"btn btn-primary btn-block\" data-loading-text=\"Adding...\" type=\"submit\">Add to basket</button>\n",
       " </form>\n",
       " </div>\n",
       " </article>,\n",
       " <article class=\"product_pod\">\n",
       " <div class=\"image_container\">\n",
       " <a href=\"the-black-maria_991/index.html\"><img alt=\"The Black Maria\" class=\"thumbnail\" src=\"../media/cache/58/46/5846057e28022268153beff6d352b06c.jpg\"/></a>\n",
       " </div>\n",
       " <p class=\"star-rating One\">\n",
       " <i class=\"icon-star\"></i>\n",
       " <i class=\"icon-star\"></i>\n",
       " <i class=\"icon-star\"></i>\n",
       " <i class=\"icon-star\"></i>\n",
       " <i class=\"icon-star\"></i>\n",
       " </p>\n",
       " <h3><a href=\"the-black-maria_991/index.html\" title=\"The Black Maria\">The Black Maria</a></h3>\n",
       " <div class=\"product_price\">\n",
       " <p class=\"price_color\">Â£52.15</p>\n",
       " <p class=\"instock availability\">\n",
       " <i class=\"icon-ok\"></i>\n",
       "     \n",
       "         In stock\n",
       "     \n",
       " </p>\n",
       " <form>\n",
       " <button class=\"btn btn-primary btn-block\" data-loading-text=\"Adding...\" type=\"submit\">Add to basket</button>\n",
       " </form>\n",
       " </div>\n",
       " </article>,\n",
       " <article class=\"product_pod\">\n",
       " <div class=\"image_container\">\n",
       " <a href=\"starving-hearts-triangular-trade-trilogy-1_990/index.html\"><img alt=\"Starving Hearts (Triangular Trade Trilogy, #1)\" class=\"thumbnail\" src=\"../media/cache/be/f4/bef44da28c98f905a3ebec0b87be8530.jpg\"/></a>\n",
       " </div>\n",
       " <p class=\"star-rating Two\">\n",
       " <i class=\"icon-star\"></i>\n",
       " <i class=\"icon-star\"></i>\n",
       " <i class=\"icon-star\"></i>\n",
       " <i class=\"icon-star\"></i>\n",
       " <i class=\"icon-star\"></i>\n",
       " </p>\n",
       " <h3><a href=\"starving-hearts-triangular-trade-trilogy-1_990/index.html\" title=\"Starving Hearts (Triangular Trade Trilogy, #1)\">Starving Hearts (Triangular Trade ...</a></h3>\n",
       " <div class=\"product_price\">\n",
       " <p class=\"price_color\">Â£13.99</p>\n",
       " <p class=\"instock availability\">\n",
       " <i class=\"icon-ok\"></i>\n",
       "     \n",
       "         In stock\n",
       "     \n",
       " </p>\n",
       " <form>\n",
       " <button class=\"btn btn-primary btn-block\" data-loading-text=\"Adding...\" type=\"submit\">Add to basket</button>\n",
       " </form>\n",
       " </div>\n",
       " </article>,\n",
       " <article class=\"product_pod\">\n",
       " <div class=\"image_container\">\n",
       " <a href=\"shakespeares-sonnets_989/index.html\"><img alt=\"Shakespeare's Sonnets\" class=\"thumbnail\" src=\"../media/cache/10/48/1048f63d3b5061cd2f424d20b3f9b666.jpg\"/></a>\n",
       " </div>\n",
       " <p class=\"star-rating Four\">\n",
       " <i class=\"icon-star\"></i>\n",
       " <i class=\"icon-star\"></i>\n",
       " <i class=\"icon-star\"></i>\n",
       " <i class=\"icon-star\"></i>\n",
       " <i class=\"icon-star\"></i>\n",
       " </p>\n",
       " <h3><a href=\"shakespeares-sonnets_989/index.html\" title=\"Shakespeare's Sonnets\">Shakespeare's Sonnets</a></h3>\n",
       " <div class=\"product_price\">\n",
       " <p class=\"price_color\">Â£20.66</p>\n",
       " <p class=\"instock availability\">\n",
       " <i class=\"icon-ok\"></i>\n",
       "     \n",
       "         In stock\n",
       "     \n",
       " </p>\n",
       " <form>\n",
       " <button class=\"btn btn-primary btn-block\" data-loading-text=\"Adding...\" type=\"submit\">Add to basket</button>\n",
       " </form>\n",
       " </div>\n",
       " </article>,\n",
       " <article class=\"product_pod\">\n",
       " <div class=\"image_container\">\n",
       " <a href=\"set-me-free_988/index.html\"><img alt=\"Set Me Free\" class=\"thumbnail\" src=\"../media/cache/5b/88/5b88c52633f53cacf162c15f4f823153.jpg\"/></a>\n",
       " </div>\n",
       " <p class=\"star-rating Five\">\n",
       " <i class=\"icon-star\"></i>\n",
       " <i class=\"icon-star\"></i>\n",
       " <i class=\"icon-star\"></i>\n",
       " <i class=\"icon-star\"></i>\n",
       " <i class=\"icon-star\"></i>\n",
       " </p>\n",
       " <h3><a href=\"set-me-free_988/index.html\" title=\"Set Me Free\">Set Me Free</a></h3>\n",
       " <div class=\"product_price\">\n",
       " <p class=\"price_color\">Â£17.46</p>\n",
       " <p class=\"instock availability\">\n",
       " <i class=\"icon-ok\"></i>\n",
       "     \n",
       "         In stock\n",
       "     \n",
       " </p>\n",
       " <form>\n",
       " <button class=\"btn btn-primary btn-block\" data-loading-text=\"Adding...\" type=\"submit\">Add to basket</button>\n",
       " </form>\n",
       " </div>\n",
       " </article>,\n",
       " <article class=\"product_pod\">\n",
       " <div class=\"image_container\">\n",
       " <a href=\"scott-pilgrims-precious-little-life-scott-pilgrim-1_987/index.html\"><img alt=\"Scott Pilgrim's Precious Little Life (Scott Pilgrim #1)\" class=\"thumbnail\" src=\"../media/cache/94/b1/94b1b8b244bce9677c2f29ccc890d4d2.jpg\"/></a>\n",
       " </div>\n",
       " <p class=\"star-rating Five\">\n",
       " <i class=\"icon-star\"></i>\n",
       " <i class=\"icon-star\"></i>\n",
       " <i class=\"icon-star\"></i>\n",
       " <i class=\"icon-star\"></i>\n",
       " <i class=\"icon-star\"></i>\n",
       " </p>\n",
       " <h3><a href=\"scott-pilgrims-precious-little-life-scott-pilgrim-1_987/index.html\" title=\"Scott Pilgrim's Precious Little Life (Scott Pilgrim #1)\">Scott Pilgrim's Precious Little ...</a></h3>\n",
       " <div class=\"product_price\">\n",
       " <p class=\"price_color\">Â£52.29</p>\n",
       " <p class=\"instock availability\">\n",
       " <i class=\"icon-ok\"></i>\n",
       "     \n",
       "         In stock\n",
       "     \n",
       " </p>\n",
       " <form>\n",
       " <button class=\"btn btn-primary btn-block\" data-loading-text=\"Adding...\" type=\"submit\">Add to basket</button>\n",
       " </form>\n",
       " </div>\n",
       " </article>,\n",
       " <article class=\"product_pod\">\n",
       " <div class=\"image_container\">\n",
       " <a href=\"rip-it-up-and-start-again_986/index.html\"><img alt=\"Rip it Up and Start Again\" class=\"thumbnail\" src=\"../media/cache/81/c4/81c4a973364e17d01f217e1188253d5e.jpg\"/></a>\n",
       " </div>\n",
       " <p class=\"star-rating Five\">\n",
       " <i class=\"icon-star\"></i>\n",
       " <i class=\"icon-star\"></i>\n",
       " <i class=\"icon-star\"></i>\n",
       " <i class=\"icon-star\"></i>\n",
       " <i class=\"icon-star\"></i>\n",
       " </p>\n",
       " <h3><a href=\"rip-it-up-and-start-again_986/index.html\" title=\"Rip it Up and Start Again\">Rip it Up and ...</a></h3>\n",
       " <div class=\"product_price\">\n",
       " <p class=\"price_color\">Â£35.02</p>\n",
       " <p class=\"instock availability\">\n",
       " <i class=\"icon-ok\"></i>\n",
       "     \n",
       "         In stock\n",
       "     \n",
       " </p>\n",
       " <form>\n",
       " <button class=\"btn btn-primary btn-block\" data-loading-text=\"Adding...\" type=\"submit\">Add to basket</button>\n",
       " </form>\n",
       " </div>\n",
       " </article>,\n",
       " <article class=\"product_pod\">\n",
       " <div class=\"image_container\">\n",
       " <a href=\"our-band-could-be-your-life-scenes-from-the-american-indie-underground-1981-1991_985/index.html\"><img alt=\"Our Band Could Be Your Life: Scenes from the American Indie Underground, 1981-1991\" class=\"thumbnail\" src=\"../media/cache/54/60/54607fe8945897cdcced0044103b10b6.jpg\"/></a>\n",
       " </div>\n",
       " <p class=\"star-rating Three\">\n",
       " <i class=\"icon-star\"></i>\n",
       " <i class=\"icon-star\"></i>\n",
       " <i class=\"icon-star\"></i>\n",
       " <i class=\"icon-star\"></i>\n",
       " <i class=\"icon-star\"></i>\n",
       " </p>\n",
       " <h3><a href=\"our-band-could-be-your-life-scenes-from-the-american-indie-underground-1981-1991_985/index.html\" title=\"Our Band Could Be Your Life: Scenes from the American Indie Underground, 1981-1991\">Our Band Could Be ...</a></h3>\n",
       " <div class=\"product_price\">\n",
       " <p class=\"price_color\">Â£57.25</p>\n",
       " <p class=\"instock availability\">\n",
       " <i class=\"icon-ok\"></i>\n",
       "     \n",
       "         In stock\n",
       "     \n",
       " </p>\n",
       " <form>\n",
       " <button class=\"btn btn-primary btn-block\" data-loading-text=\"Adding...\" type=\"submit\">Add to basket</button>\n",
       " </form>\n",
       " </div>\n",
       " </article>,\n",
       " <article class=\"product_pod\">\n",
       " <div class=\"image_container\">\n",
       " <a href=\"olio_984/index.html\"><img alt=\"Olio\" class=\"thumbnail\" src=\"../media/cache/55/33/553310a7162dfbc2c6d19a84da0df9e1.jpg\"/></a>\n",
       " </div>\n",
       " <p class=\"star-rating One\">\n",
       " <i class=\"icon-star\"></i>\n",
       " <i class=\"icon-star\"></i>\n",
       " <i class=\"icon-star\"></i>\n",
       " <i class=\"icon-star\"></i>\n",
       " <i class=\"icon-star\"></i>\n",
       " </p>\n",
       " <h3><a href=\"olio_984/index.html\" title=\"Olio\">Olio</a></h3>\n",
       " <div class=\"product_price\">\n",
       " <p class=\"price_color\">Â£23.88</p>\n",
       " <p class=\"instock availability\">\n",
       " <i class=\"icon-ok\"></i>\n",
       "     \n",
       "         In stock\n",
       "     \n",
       " </p>\n",
       " <form>\n",
       " <button class=\"btn btn-primary btn-block\" data-loading-text=\"Adding...\" type=\"submit\">Add to basket</button>\n",
       " </form>\n",
       " </div>\n",
       " </article>,\n",
       " <article class=\"product_pod\">\n",
       " <div class=\"image_container\">\n",
       " <a href=\"mesaerion-the-best-science-fiction-stories-1800-1849_983/index.html\"><img alt=\"Mesaerion: The Best Science Fiction Stories 1800-1849\" class=\"thumbnail\" src=\"../media/cache/09/a3/09a3aef48557576e1a85ba7efea8ecb7.jpg\"/></a>\n",
       " </div>\n",
       " <p class=\"star-rating One\">\n",
       " <i class=\"icon-star\"></i>\n",
       " <i class=\"icon-star\"></i>\n",
       " <i class=\"icon-star\"></i>\n",
       " <i class=\"icon-star\"></i>\n",
       " <i class=\"icon-star\"></i>\n",
       " </p>\n",
       " <h3><a href=\"mesaerion-the-best-science-fiction-stories-1800-1849_983/index.html\" title=\"Mesaerion: The Best Science Fiction Stories 1800-1849\">Mesaerion: The Best Science ...</a></h3>\n",
       " <div class=\"product_price\">\n",
       " <p class=\"price_color\">Â£37.59</p>\n",
       " <p class=\"instock availability\">\n",
       " <i class=\"icon-ok\"></i>\n",
       "     \n",
       "         In stock\n",
       "     \n",
       " </p>\n",
       " <form>\n",
       " <button class=\"btn btn-primary btn-block\" data-loading-text=\"Adding...\" type=\"submit\">Add to basket</button>\n",
       " </form>\n",
       " </div>\n",
       " </article>,\n",
       " <article class=\"product_pod\">\n",
       " <div class=\"image_container\">\n",
       " <a href=\"libertarianism-for-beginners_982/index.html\"><img alt=\"Libertarianism for Beginners\" class=\"thumbnail\" src=\"../media/cache/0b/bc/0bbcd0a6f4bcd81ccb1049a52736406e.jpg\"/></a>\n",
       " </div>\n",
       " <p class=\"star-rating Two\">\n",
       " <i class=\"icon-star\"></i>\n",
       " <i class=\"icon-star\"></i>\n",
       " <i class=\"icon-star\"></i>\n",
       " <i class=\"icon-star\"></i>\n",
       " <i class=\"icon-star\"></i>\n",
       " </p>\n",
       " <h3><a href=\"libertarianism-for-beginners_982/index.html\" title=\"Libertarianism for Beginners\">Libertarianism for Beginners</a></h3>\n",
       " <div class=\"product_price\">\n",
       " <p class=\"price_color\">Â£51.33</p>\n",
       " <p class=\"instock availability\">\n",
       " <i class=\"icon-ok\"></i>\n",
       "     \n",
       "         In stock\n",
       "     \n",
       " </p>\n",
       " <form>\n",
       " <button class=\"btn btn-primary btn-block\" data-loading-text=\"Adding...\" type=\"submit\">Add to basket</button>\n",
       " </form>\n",
       " </div>\n",
       " </article>,\n",
       " <article class=\"product_pod\">\n",
       " <div class=\"image_container\">\n",
       " <a href=\"its-only-the-himalayas_981/index.html\"><img alt=\"It's Only the Himalayas\" class=\"thumbnail\" src=\"../media/cache/27/a5/27a53d0bb95bdd88288eaf66c9230d7e.jpg\"/></a>\n",
       " </div>\n",
       " <p class=\"star-rating Two\">\n",
       " <i class=\"icon-star\"></i>\n",
       " <i class=\"icon-star\"></i>\n",
       " <i class=\"icon-star\"></i>\n",
       " <i class=\"icon-star\"></i>\n",
       " <i class=\"icon-star\"></i>\n",
       " </p>\n",
       " <h3><a href=\"its-only-the-himalayas_981/index.html\" title=\"It's Only the Himalayas\">It's Only the Himalayas</a></h3>\n",
       " <div class=\"product_price\">\n",
       " <p class=\"price_color\">Â£45.17</p>\n",
       " <p class=\"instock availability\">\n",
       " <i class=\"icon-ok\"></i>\n",
       "     \n",
       "         In stock\n",
       "     \n",
       " </p>\n",
       " <form>\n",
       " <button class=\"btn btn-primary btn-block\" data-loading-text=\"Adding...\" type=\"submit\">Add to basket</button>\n",
       " </form>\n",
       " </div>\n",
       " </article>]"
      ]
     },
     "execution_count": 94,
     "metadata": {},
     "output_type": "execute_result"
    }
   ],
   "source": [
    "soup.select(\".product_pod\")"
   ]
  },
  {
   "cell_type": "markdown",
   "metadata": {},
   "source": [
    "Now we can see that each book has the product_pod class. We can select any tag with this class, and then further reduce it by its rating."
   ]
  },
  {
   "cell_type": "code",
   "execution_count": 95,
   "metadata": {},
   "outputs": [],
   "source": [
    "products = soup.select(\".product_pod\")"
   ]
  },
  {
   "cell_type": "code",
   "execution_count": 96,
   "metadata": {},
   "outputs": [],
   "source": [
    "book1 = products[0]"
   ]
  },
  {
   "cell_type": "code",
   "execution_count": 97,
   "metadata": {},
   "outputs": [
    {
     "data": {
      "text/plain": [
       "bs4.element.Tag"
      ]
     },
     "execution_count": 97,
     "metadata": {},
     "output_type": "execute_result"
    }
   ],
   "source": [
    "type(book1)"
   ]
  },
  {
   "cell_type": "code",
   "execution_count": 98,
   "metadata": {},
   "outputs": [
    {
     "data": {
      "text/plain": [
       "{'class': ['product_pod']}"
      ]
     },
     "execution_count": 98,
     "metadata": {},
     "output_type": "execute_result"
    }
   ],
   "source": [
    "book1.attrs"
   ]
  },
  {
   "cell_type": "markdown",
   "metadata": {},
   "source": [
    "Now by inspecting the site we can see that the class we want is class='star-rating Two' , if you click on this in your browser, you'll notice it displays the space as a . , so that means we want to search for \".star-rating.Two\""
   ]
  },
  {
   "cell_type": "code",
   "execution_count": 99,
   "metadata": {},
   "outputs": [
    {
     "data": {
      "text/plain": [
       "<list_iterator at 0x1a76b988408>"
      ]
     },
     "execution_count": 99,
     "metadata": {},
     "output_type": "execute_result"
    }
   ],
   "source": [
    "book1.children"
   ]
  },
  {
   "cell_type": "code",
   "execution_count": 100,
   "metadata": {
    "scrolled": true
   },
   "outputs": [
    {
     "data": {
      "text/plain": [
       "['\\n',\n",
       " <div class=\"image_container\">\n",
       " <a href=\"a-light-in-the-attic_1000/index.html\"><img alt=\"A Light in the Attic\" class=\"thumbnail\" src=\"../media/cache/2c/da/2cdad67c44b002e7ead0cc35693c0e8b.jpg\"/></a>\n",
       " </div>,\n",
       " '\\n',\n",
       " <p class=\"star-rating Three\">\n",
       " <i class=\"icon-star\"></i>\n",
       " <i class=\"icon-star\"></i>\n",
       " <i class=\"icon-star\"></i>\n",
       " <i class=\"icon-star\"></i>\n",
       " <i class=\"icon-star\"></i>\n",
       " </p>,\n",
       " '\\n',\n",
       " <h3><a href=\"a-light-in-the-attic_1000/index.html\" title=\"A Light in the Attic\">A Light in the ...</a></h3>,\n",
       " '\\n',\n",
       " <div class=\"product_price\">\n",
       " <p class=\"price_color\">Â£51.77</p>\n",
       " <p class=\"instock availability\">\n",
       " <i class=\"icon-ok\"></i>\n",
       "     \n",
       "         In stock\n",
       "     \n",
       " </p>\n",
       " <form>\n",
       " <button class=\"btn btn-primary btn-block\" data-loading-text=\"Adding...\" type=\"submit\">Add to basket</button>\n",
       " </form>\n",
       " </div>,\n",
       " '\\n']"
      ]
     },
     "execution_count": 100,
     "metadata": {},
     "output_type": "execute_result"
    }
   ],
   "source": [
    "list(book1.children)"
   ]
  },
  {
   "cell_type": "code",
   "execution_count": 101,
   "metadata": {},
   "outputs": [
    {
     "data": {
      "text/plain": [
       "[<p class=\"star-rating Three\">\n",
       " <i class=\"icon-star\"></i>\n",
       " <i class=\"icon-star\"></i>\n",
       " <i class=\"icon-star\"></i>\n",
       " <i class=\"icon-star\"></i>\n",
       " <i class=\"icon-star\"></i>\n",
       " </p>]"
      ]
     },
     "execution_count": 101,
     "metadata": {},
     "output_type": "execute_result"
    }
   ],
   "source": [
    "book1.select('.star-rating.Three')"
   ]
  },
  {
   "cell_type": "markdown",
   "metadata": {},
   "source": [
    "But we are looking for 2 stars, so it looks like we can just check to see if something was returned"
   ]
  },
  {
   "cell_type": "code",
   "execution_count": 102,
   "metadata": {},
   "outputs": [
    {
     "data": {
      "text/plain": [
       "[]"
      ]
     },
     "execution_count": 102,
     "metadata": {},
     "output_type": "execute_result"
    }
   ],
   "source": [
    "book1.select('.star-rating.Two')"
   ]
  },
  {
   "cell_type": "code",
   "execution_count": 103,
   "metadata": {},
   "outputs": [
    {
     "data": {
      "text/plain": [
       "0"
      ]
     },
     "execution_count": 103,
     "metadata": {},
     "output_type": "execute_result"
    }
   ],
   "source": [
    "len(book1.select('.star-rating.Two'))"
   ]
  },
  {
   "cell_type": "markdown",
   "metadata": {},
   "source": [
    "Alternatively, we can just quickly check the text string to see if \"star-rating Two\" is in it. Either approach is fine (there are also many other alternative approaches.)"
   ]
  },
  {
   "cell_type": "code",
   "execution_count": 104,
   "metadata": {},
   "outputs": [
    {
     "data": {
      "text/plain": [
       "{'class': ['star-rating', 'Three']}"
      ]
     },
     "execution_count": 104,
     "metadata": {},
     "output_type": "execute_result"
    }
   ],
   "source": [
    "book1.select('.star-rating.Three')[0].attrs"
   ]
  },
  {
   "cell_type": "code",
   "execution_count": 105,
   "metadata": {},
   "outputs": [
    {
     "data": {
      "text/plain": [
       "'Three'"
      ]
     },
     "execution_count": 105,
     "metadata": {},
     "output_type": "execute_result"
    }
   ],
   "source": [
    "book1.select('.star-rating.Three')[0]['class'][1]"
   ]
  },
  {
   "cell_type": "markdown",
   "metadata": {},
   "source": [
    "Now let's see how we can get the title if we have a 2-star match:"
   ]
  },
  {
   "cell_type": "code",
   "execution_count": 106,
   "metadata": {},
   "outputs": [
    {
     "data": {
      "text/plain": [
       "[<a href=\"a-light-in-the-attic_1000/index.html\"><img alt=\"A Light in the Attic\" class=\"thumbnail\" src=\"../media/cache/2c/da/2cdad67c44b002e7ead0cc35693c0e8b.jpg\"/></a>,\n",
       " <a href=\"a-light-in-the-attic_1000/index.html\" title=\"A Light in the Attic\">A Light in the ...</a>]"
      ]
     },
     "execution_count": 106,
     "metadata": {},
     "output_type": "execute_result"
    }
   ],
   "source": [
    "book1.select('a')"
   ]
  },
  {
   "cell_type": "code",
   "execution_count": 107,
   "metadata": {},
   "outputs": [
    {
     "data": {
      "text/plain": [
       "<a href=\"a-light-in-the-attic_1000/index.html\" title=\"A Light in the Attic\">A Light in the ...</a>"
      ]
     },
     "execution_count": 107,
     "metadata": {},
     "output_type": "execute_result"
    }
   ],
   "source": [
    "book1.select('a')[1]"
   ]
  },
  {
   "cell_type": "code",
   "execution_count": 108,
   "metadata": {},
   "outputs": [
    {
     "data": {
      "text/plain": [
       "'A Light in the Attic'"
      ]
     },
     "execution_count": 108,
     "metadata": {},
     "output_type": "execute_result"
    }
   ],
   "source": [
    "book1.select('a')[1]['title']"
   ]
  },
  {
   "cell_type": "markdown",
   "metadata": {},
   "source": [
    "Okay, let's give it a shot by combining all the ideas we've talked about! (this should take about 20-60 seconds to complete running. Be aware a firwall may prevent this script from running. Also if you are getting a no response error, maybe try adding a sleep step with time.sleep(1)."
   ]
  },
  {
   "cell_type": "code",
   "execution_count": 110,
   "metadata": {},
   "outputs": [],
   "source": [
    "two_star_titles = []\n",
    "\n",
    "for n in range(1,51):\n",
    "\n",
    "    scrape_url = base_url.format(n)\n",
    "    res = requests.get(scrape_url)\n",
    "    \n",
    "    soup = BeautifulSoup(res.text,\"lxml\")\n",
    "    books = soup.select(\".product_pod\")\n",
    "    \n",
    "    for book in books:\n",
    "        if len(book.select('.star-rating.Two')) != 0:\n",
    "            two_star_titles.append(book.select('a')[1]['title'])"
   ]
  },
  {
   "cell_type": "code",
   "execution_count": 111,
   "metadata": {},
   "outputs": [
    {
     "data": {
      "text/plain": [
       "['Starving Hearts (Triangular Trade Trilogy, #1)',\n",
       " 'Libertarianism for Beginners',\n",
       " \"It's Only the Himalayas\",\n",
       " 'How Music Works',\n",
       " 'Maude (1883-1993):She Grew Up with the country',\n",
       " \"You can't bury them all: Poems\",\n",
       " 'Reasons to Stay Alive',\n",
       " 'Without Borders (Wanderlove #1)',\n",
       " 'Soul Reader',\n",
       " 'Security',\n",
       " 'Saga, Volume 5 (Saga (Collected Editions) #5)',\n",
       " 'Reskilling America: Learning to Labor in the Twenty-First Century',\n",
       " 'Political Suicide: Missteps, Peccadilloes, Bad Calls, Backroom Hijinx, Sordid Pasts, Rotten Breaks, and Just Plain Dumb Mistakes in the Annals of American Politics',\n",
       " 'Obsidian (Lux #1)',\n",
       " 'My Paris Kitchen: Recipes and Stories',\n",
       " 'Masks and Shadows',\n",
       " 'Lumberjanes, Vol. 2: Friendship to the Max (Lumberjanes #5-8)',\n",
       " 'Lumberjanes Vol. 3: A Terrible Plan (Lumberjanes #9-12)',\n",
       " 'Judo: Seven Steps to Black Belt (an Introductory Guide for Beginners)',\n",
       " 'I Hate Fairyland, Vol. 1: Madly Ever After (I Hate Fairyland (Compilations) #1-5)',\n",
       " 'Giant Days, Vol. 2 (Giant Days #5-8)',\n",
       " 'Everydata: The Misinformation Hidden in the Little Data You Consume Every Day',\n",
       " \"Don't Be a Jerk: And Other Practical Advice from Dogen, Japan's Greatest Zen Master\",\n",
       " 'Bossypants',\n",
       " 'Bitch Planet, Vol. 1: Extraordinary Machine (Bitch Planet (Collected Editions))',\n",
       " 'Avatar: The Last Airbender: Smoke and Shadow, Part 3 (Smoke and Shadow #3)',\n",
       " 'Tuesday Nights in 1980',\n",
       " 'The Psychopath Test: A Journey Through the Madness Industry',\n",
       " 'The Power of Now: A Guide to Spiritual Enlightenment',\n",
       " \"The Omnivore's Dilemma: A Natural History of Four Meals\",\n",
       " 'The Love and Lemons Cookbook: An Apple-to-Zucchini Celebration of Impromptu Cooking',\n",
       " 'The Girl on the Train',\n",
       " 'The Emerald Mystery',\n",
       " 'The Argonauts',\n",
       " 'Suddenly in Love (Lake Haven #1)',\n",
       " 'Soft Apocalypse',\n",
       " \"So You've Been Publicly Shamed\",\n",
       " 'Shoe Dog: A Memoir by the Creator of NIKE',\n",
       " 'Louisa: The Extraordinary Life of Mrs. Adams',\n",
       " 'Large Print Heart of the Pride',\n",
       " 'Grumbles',\n",
       " 'Chasing Heaven: What Dying Taught Me About Living',\n",
       " 'Becoming Wise: An Inquiry into the Mystery and Art of Living',\n",
       " 'Beauty Restored (Riley Family Legacy Novellas #3)',\n",
       " 'Batman: The Long Halloween (Batman)',\n",
       " \"Ayumi's Violin\",\n",
       " 'Wild Swans',\n",
       " \"What's It Like in Space?: Stories from Astronauts Who've Been There\",\n",
       " 'Until Friday Night (The Field Party #1)',\n",
       " 'Unbroken: A World War II Story of Survival, Resilience, and Redemption',\n",
       " 'Twenty Yawns',\n",
       " 'Through the Woods',\n",
       " 'This Is Where It Ends',\n",
       " 'The Year of Magical Thinking',\n",
       " 'The Last Mile (Amos Decker #2)',\n",
       " 'The Immortal Life of Henrietta Lacks',\n",
       " 'The Hidden Oracle (The Trials of Apollo #1)',\n",
       " 'The Guilty (Will Robie #4)',\n",
       " 'Red Hood/Arsenal, Vol. 1: Open for Business (Red Hood/Arsenal #1)',\n",
       " 'Once Was a Time',\n",
       " 'No Dream Is Too High: Life Lessons From a Man Who Walked on the Moon',\n",
       " 'Naruto (3-in-1 Edition), Vol. 14: Includes Vols. 40, 41 & 42 (Naruto: Omnibus #14)',\n",
       " 'More Than Music (Chasing the Dream #1)',\n",
       " 'Lowriders to the Center of the Earth (Lowriders in Space #2)',\n",
       " 'Eat Fat, Get Thin',\n",
       " 'Doctor Sleep (The Shining #2)',\n",
       " 'Crazy Love: Overwhelmed by a Relentless God',\n",
       " 'Carrie',\n",
       " 'Batman: Europa',\n",
       " 'Angels Walking (Angels Walking #1)',\n",
       " 'Adulthood Is a Myth: A \"Sarah\\'s Scribbles\" Collection',\n",
       " 'A Study in Scarlet (Sherlock Holmes #1)',\n",
       " 'A Series of Catastrophes and Miracles: A True Story of Love, Science, and Cancer',\n",
       " \"A People's History of the United States\",\n",
       " 'My Kitchen Year: 136 Recipes That Saved My Life',\n",
       " 'The Lonely City: Adventures in the Art of Being Alone',\n",
       " 'The Dinner Party',\n",
       " 'Stars Above (The Lunar Chronicles #4.5)',\n",
       " 'Love, Lies and Spies',\n",
       " 'Troublemaker: Surviving Hollywood and Scientology',\n",
       " 'The Widow',\n",
       " 'Setting the World on Fire: The Brief, Astonishing Life of St. Catherine of Siena',\n",
       " 'Mothering Sunday',\n",
       " 'Lilac Girls',\n",
       " '10% Happier: How I Tamed the Voice in My Head, Reduced Stress Without Losing My Edge, and Found Self-Help That Actually Works',\n",
       " 'Underlying Notes',\n",
       " 'The Flowers Lied',\n",
       " 'Modern Day Fables',\n",
       " \"Chernobyl 01:23:40: The Incredible True Story of the World's Worst Nuclear Disaster\",\n",
       " '23 Degrees South: A Tropical Tale of Changing Whether...',\n",
       " 'When Breath Becomes Air',\n",
       " 'Vagabonding: An Uncommon Guide to the Art of Long-Term World Travel',\n",
       " 'The Martian (The Martian #1)',\n",
       " \"Miller's Valley\",\n",
       " \"Love That Boy: What Two Presidents, Eight Road Trips, and My Son Taught Me About a Parent's Expectations\",\n",
       " 'Left Behind (Left Behind #1)',\n",
       " 'Howl and Other Poems',\n",
       " \"Heaven is for Real: A Little Boy's Astounding Story of His Trip to Heaven and Back\",\n",
       " \"Brazen: The Courage to Find the You That's Been Hiding\",\n",
       " '32 Yolks',\n",
       " 'Wildlife of New York: A Five-Borough Coloring Book',\n",
       " 'Unreasonable Hope: Finding Faith in the God Who Brings Purpose to Your Pain',\n",
       " 'The Art Book',\n",
       " 'Steal Like an Artist: 10 Things Nobody Told You About Being Creative',\n",
       " 'Raymie Nightingale',\n",
       " 'Like Never Before (Walker Family #2)',\n",
       " 'How to Be a Domestic Goddess: Baking and the Art of Comfort Cooking',\n",
       " 'Finding God in the Ruins: How God Redeems Pain',\n",
       " 'Chronicles, Vol. 1',\n",
       " 'A Summer In Europe',\n",
       " 'The Rise and Fall of the Third Reich: A History of Nazi Germany',\n",
       " 'The Makings of a Fatherless Child',\n",
       " 'The Fellowship of the Ring (The Lord of the Rings #1)',\n",
       " \"Tell the Wolves I'm Home\",\n",
       " 'In the Woods (Dublin Murder Squad #1)',\n",
       " 'Give It Back',\n",
       " 'Why Save the Bankers?: And Other Essays on Our Economic and Political Crisis',\n",
       " 'The Raven King (The Raven Cycle #4)',\n",
       " 'The Expatriates',\n",
       " 'The 5th Wave (The 5th Wave #1)',\n",
       " 'Peak: Secrets from the New Science of Expertise',\n",
       " 'Logan Kade (Fallen Crest High #5.5)',\n",
       " \"I Know Why the Caged Bird Sings (Maya Angelou's Autobiography #1)\",\n",
       " 'Drama',\n",
       " \"America's War for the Greater Middle East: A Military History\",\n",
       " 'A Game of Thrones (A Song of Ice and Fire #1)',\n",
       " \"The Pilgrim's Progress\",\n",
       " 'The Hound of the Baskervilles (Sherlock Holmes #5)',\n",
       " \"The Geography of Bliss: One Grump's Search for the Happiest Places in the World\",\n",
       " 'The Demonists (Demonist #1)',\n",
       " 'The Demon Prince of Momochi House, Vol. 4 (The Demon Prince of Momochi House #4)',\n",
       " 'Misery',\n",
       " 'Far From True (Promise Falls Trilogy #2)',\n",
       " 'Confessions of a Shopaholic (Shopaholic #1)',\n",
       " 'Vegan Vegetarian Omnivore: Dinner for Everyone at the Table',\n",
       " 'Two Boys Kissing',\n",
       " 'Twilight (Twilight #1)',\n",
       " 'Twenties Girl',\n",
       " 'The Tipping Point: How Little Things Can Make a Big Difference',\n",
       " 'The Stand',\n",
       " 'The Picture of Dorian Gray',\n",
       " 'The Name of God is Mercy',\n",
       " \"The Lover's Dictionary\",\n",
       " 'The Last Painting of Sara de Vos',\n",
       " 'The Guns of August',\n",
       " 'The Girl Who Played with Fire (Millennium Trilogy #2)',\n",
       " 'The Da Vinci Code (Robert Langdon #2)',\n",
       " 'The Cat in the Hat (Beginner Books B-1)',\n",
       " 'The Book Thief',\n",
       " 'The Autobiography of Malcolm X',\n",
       " \"Surely You're Joking, Mr. Feynman!: Adventures of a Curious Character\",\n",
       " 'Soldier (Talon #3)',\n",
       " 'Shopaholic & Baby (Shopaholic #5)',\n",
       " 'Seven Days in the Art World',\n",
       " 'Rework',\n",
       " 'Packing for Mars: The Curious Science of Life in the Void',\n",
       " 'Orange Is the New Black',\n",
       " 'One for the Money (Stephanie Plum #1)',\n",
       " 'Midnight Riot (Peter Grant/ Rivers of London - books #1)',\n",
       " 'Me Talk Pretty One Day',\n",
       " 'Manuscript Found in Accra',\n",
       " 'Lust & Wonder',\n",
       " \"Life, the Universe and Everything (Hitchhiker's Guide to the Galaxy #3)\",\n",
       " 'Life After Life',\n",
       " 'I Am Malala: The Girl Who Stood Up for Education and Was Shot by the Taliban',\n",
       " 'House of Lost Worlds: Dinosaurs, Dynasties, and the Story of Life on Earth',\n",
       " 'Horrible Bear!',\n",
       " 'Holidays on Ice',\n",
       " 'Girl in the Blue Coat',\n",
       " 'Fruits Basket, Vol. 3 (Fruits Basket #3)',\n",
       " 'Cosmos',\n",
       " 'Civilization and Its Discontents',\n",
       " \"Catastrophic Happiness: Finding Joy in Childhood's Messy Years\",\n",
       " 'Career of Evil (Cormoran Strike #3)',\n",
       " 'Born to Run: A Hidden Tribe, Superathletes, and the Greatest Race the World Has Never Seen',\n",
       " \"Best of My Love (Fool's Gold #20)\",\n",
       " 'Beowulf',\n",
       " 'Awkward',\n",
       " 'And Then There Were None',\n",
       " 'A Storm of Swords (A Song of Ice and Fire #3)',\n",
       " 'The Suffragettes (Little Black Classics, #96)',\n",
       " 'Vampire Girl (Vampire Girl #1)',\n",
       " 'Three Wishes (River of Time: California #1)',\n",
       " 'The Wicked + The Divine, Vol. 1: The Faust Act (The Wicked + The Divine)',\n",
       " 'The Little Prince',\n",
       " 'The Last Girl (The Dominion Trilogy #1)',\n",
       " 'Taking Shots (Assassins #1)',\n",
       " 'Settling the Score (The Summer Games #1)',\n",
       " 'Rhythm, Chord & Malykhin',\n",
       " 'One Second (Seven #7)',\n",
       " \"Old Records Never Die: One Man's Quest for His Vinyl and His Past\",\n",
       " 'Of Mice and Men',\n",
       " 'My Perfect Mistake (Over the Top #1)',\n",
       " 'Meditations',\n",
       " 'Frankenstein',\n",
       " 'Emma']"
      ]
     },
     "execution_count": 111,
     "metadata": {},
     "output_type": "execute_result"
    }
   ],
   "source": [
    "two_star_titles"
   ]
  },
  {
   "cell_type": "code",
   "execution_count": 112,
   "metadata": {},
   "outputs": [
    {
     "data": {
      "text/plain": [
       "196"
      ]
     },
     "execution_count": 112,
     "metadata": {},
     "output_type": "execute_result"
    }
   ],
   "source": [
    "len(two_star_titles)"
   ]
  },
  {
   "cell_type": "markdown",
   "metadata": {},
   "source": [
    "<a id='eg3'></a>\n",
    "### Example 3: www.basketball-reference.com"
   ]
  },
  {
   "cell_type": "code",
   "execution_count": 113,
   "metadata": {},
   "outputs": [
    {
     "name": "stdout",
     "output_type": "stream",
     "text": [
      "<Response [200]>\n"
     ]
    }
   ],
   "source": [
    "# import requests\n",
    "\n",
    "url = 'https://www.basketball-reference.com/'\n",
    "res_bb = requests.get(url)\n",
    "print(res_bb)\n",
    "\n",
    "soup_bb = BeautifulSoup(markup=res_bb.content, features='lxml')"
   ]
  },
  {
   "cell_type": "code",
   "execution_count": 114,
   "metadata": {},
   "outputs": [],
   "source": [
    "teams = soup_bb.find('div',{'class':'table_container is_setup'})\n",
    "teams"
   ]
  },
  {
   "cell_type": "code",
   "execution_count": 115,
   "metadata": {
    "scrolled": true
   },
   "outputs": [
    {
     "data": {
      "text/plain": [
       "[<tr class=\"full_table\"><th class=\"left\" data-stat=\"team_name\" scope=\"row\"><a href=\"/teams/PHI/2021.html\" title=\"Philadelphia 76ers\">PHI</a> * <span class=\"seed\">(1) </span></th><td class=\"center\" data-stat=\"franchise_text\"><a href=\"/teams/PHI/\" title=\"Philadelphia 76ers Franchise Index\">F</a></td><td class=\"right\" data-stat=\"payroll_text\"><a href=\"/contracts/PHI.html\" title=\"Philadelphia 76ers Team Payroll\">$</a></td><td class=\"right\" data-stat=\"wins\">49</td><td class=\"right\" data-stat=\"losses\">23</td></tr>,\n",
       " <tr class=\"full_table\"><th class=\"left\" data-stat=\"team_name\" scope=\"row\"><a href=\"/teams/BRK/2021.html\" title=\"Brooklyn Nets\">BRK</a> * <span class=\"seed\">(2) </span></th><td class=\"center\" data-stat=\"franchise_text\"><a href=\"/teams/NJN/\" title=\"Brooklyn Nets Franchise Index\">F</a></td><td class=\"right\" data-stat=\"payroll_text\"><a href=\"/contracts/BRK.html\" title=\"Brooklyn Nets Team Payroll\">$</a></td><td class=\"right\" data-stat=\"wins\">48</td><td class=\"right\" data-stat=\"losses\">24</td></tr>,\n",
       " <tr class=\"full_table\"><th class=\"left\" data-stat=\"team_name\" scope=\"row\"><a href=\"/teams/MIL/2021.html\" title=\"Milwaukee Bucks\">MIL</a> * <span class=\"seed\">(3) </span></th><td class=\"center\" data-stat=\"franchise_text\"><a href=\"/teams/MIL/\" title=\"Milwaukee Bucks Franchise Index\">F</a></td><td class=\"right\" data-stat=\"payroll_text\"><a href=\"/contracts/MIL.html\" title=\"Milwaukee Bucks Team Payroll\">$</a></td><td class=\"right\" data-stat=\"wins\">46</td><td class=\"right\" data-stat=\"losses\">26</td></tr>,\n",
       " <tr class=\"full_table\"><th class=\"left\" data-stat=\"team_name\" scope=\"row\"><a href=\"/teams/NYK/2021.html\" title=\"New York Knicks\">NYK</a> * <span class=\"seed\">(4) </span></th><td class=\"center\" data-stat=\"franchise_text\"><a href=\"/teams/NYK/\" title=\"New York Knicks Franchise Index\">F</a></td><td class=\"right\" data-stat=\"payroll_text\"><a href=\"/contracts/NYK.html\" title=\"New York Knicks Team Payroll\">$</a></td><td class=\"right\" data-stat=\"wins\">41</td><td class=\"right\" data-stat=\"losses\">31</td></tr>,\n",
       " <tr class=\"full_table\"><th class=\"left\" data-stat=\"team_name\" scope=\"row\"><a href=\"/teams/ATL/2021.html\" title=\"Atlanta Hawks\">ATL</a> * <span class=\"seed\">(5) </span></th><td class=\"center\" data-stat=\"franchise_text\"><a href=\"/teams/ATL/\" title=\"Atlanta Hawks Franchise Index\">F</a></td><td class=\"right\" data-stat=\"payroll_text\"><a href=\"/contracts/ATL.html\" title=\"Atlanta Hawks Team Payroll\">$</a></td><td class=\"right\" data-stat=\"wins\">41</td><td class=\"right\" data-stat=\"losses\">31</td></tr>,\n",
       " <tr class=\"full_table\"><th class=\"left\" data-stat=\"team_name\" scope=\"row\"><a href=\"/teams/MIA/2021.html\" title=\"Miami Heat\">MIA</a> * <span class=\"seed\">(6) </span></th><td class=\"center\" data-stat=\"franchise_text\"><a href=\"/teams/MIA/\" title=\"Miami Heat Franchise Index\">F</a></td><td class=\"right\" data-stat=\"payroll_text\"><a href=\"/contracts/MIA.html\" title=\"Miami Heat Team Payroll\">$</a></td><td class=\"right\" data-stat=\"wins\">40</td><td class=\"right\" data-stat=\"losses\">32</td></tr>,\n",
       " <tr class=\"full_table\"><th class=\"left\" data-stat=\"team_name\" scope=\"row\"><a href=\"/teams/BOS/2021.html\" title=\"Boston Celtics\">BOS</a> * <span class=\"seed\">(7) </span></th><td class=\"center\" data-stat=\"franchise_text\"><a href=\"/teams/BOS/\" title=\"Boston Celtics Franchise Index\">F</a></td><td class=\"right\" data-stat=\"payroll_text\"><a href=\"/contracts/BOS.html\" title=\"Boston Celtics Team Payroll\">$</a></td><td class=\"right\" data-stat=\"wins\">36</td><td class=\"right\" data-stat=\"losses\">36</td></tr>,\n",
       " <tr class=\"full_table\"><th class=\"left\" data-stat=\"team_name\" scope=\"row\"><a href=\"/teams/WAS/2021.html\" title=\"Washington Wizards\">WAS</a> * <span class=\"seed\">(8) </span></th><td class=\"center\" data-stat=\"franchise_text\"><a href=\"/teams/WAS/\" title=\"Washington Wizards Franchise Index\">F</a></td><td class=\"right\" data-stat=\"payroll_text\"><a href=\"/contracts/WAS.html\" title=\"Washington Wizards Team Payroll\">$</a></td><td class=\"right\" data-stat=\"wins\">34</td><td class=\"right\" data-stat=\"losses\">38</td></tr>,\n",
       " <tr class=\"full_table\"><th class=\"left\" data-stat=\"team_name\" scope=\"row\"><a href=\"/teams/IND/2021.html\" title=\"Indiana Pacers\">IND</a> x <span class=\"seed\">(9) </span></th><td class=\"center\" data-stat=\"franchise_text\"><a href=\"/teams/IND/\" title=\"Indiana Pacers Franchise Index\">F</a></td><td class=\"right\" data-stat=\"payroll_text\"><a href=\"/contracts/IND.html\" title=\"Indiana Pacers Team Payroll\">$</a></td><td class=\"right\" data-stat=\"wins\">34</td><td class=\"right\" data-stat=\"losses\">38</td></tr>,\n",
       " <tr class=\"full_table\"><th class=\"left\" data-stat=\"team_name\" scope=\"row\"><a href=\"/teams/CHO/2021.html\" title=\"Charlotte Hornets\">CHO</a> x <span class=\"seed\">(10) </span></th><td class=\"center\" data-stat=\"franchise_text\"><a href=\"/teams/CHA/\" title=\"Charlotte Hornets Franchise Index\">F</a></td><td class=\"right\" data-stat=\"payroll_text\"><a href=\"/contracts/CHO.html\" title=\"Charlotte Hornets Team Payroll\">$</a></td><td class=\"right\" data-stat=\"wins\">33</td><td class=\"right\" data-stat=\"losses\">39</td></tr>,\n",
       " <tr class=\"full_table\"><th class=\"left\" data-stat=\"team_name\" scope=\"row\"><a href=\"/teams/CHI/2021.html\" title=\"Chicago Bulls\">CHI</a> x <span class=\"seed\">(11) </span></th><td class=\"center\" data-stat=\"franchise_text\"><a href=\"/teams/CHI/\" title=\"Chicago Bulls Franchise Index\">F</a></td><td class=\"right\" data-stat=\"payroll_text\"><a href=\"/contracts/CHI.html\" title=\"Chicago Bulls Team Payroll\">$</a></td><td class=\"right\" data-stat=\"wins\">31</td><td class=\"right\" data-stat=\"losses\">41</td></tr>,\n",
       " <tr class=\"full_table\"><th class=\"left\" data-stat=\"team_name\" scope=\"row\"><a href=\"/teams/TOR/2021.html\" title=\"Toronto Raptors\">TOR</a> x <span class=\"seed\">(12) </span></th><td class=\"center\" data-stat=\"franchise_text\"><a href=\"/teams/TOR/\" title=\"Toronto Raptors Franchise Index\">F</a></td><td class=\"right\" data-stat=\"payroll_text\"><a href=\"/contracts/TOR.html\" title=\"Toronto Raptors Team Payroll\">$</a></td><td class=\"right\" data-stat=\"wins\">27</td><td class=\"right\" data-stat=\"losses\">45</td></tr>,\n",
       " <tr class=\"full_table\"><th class=\"left\" data-stat=\"team_name\" scope=\"row\"><a href=\"/teams/CLE/2021.html\" title=\"Cleveland Cavaliers\">CLE</a> x <span class=\"seed\">(13) </span></th><td class=\"center\" data-stat=\"franchise_text\"><a href=\"/teams/CLE/\" title=\"Cleveland Cavaliers Franchise Index\">F</a></td><td class=\"right\" data-stat=\"payroll_text\"><a href=\"/contracts/CLE.html\" title=\"Cleveland Cavaliers Team Payroll\">$</a></td><td class=\"right\" data-stat=\"wins\">22</td><td class=\"right\" data-stat=\"losses\">50</td></tr>,\n",
       " <tr class=\"full_table\"><th class=\"left\" data-stat=\"team_name\" scope=\"row\"><a href=\"/teams/ORL/2021.html\" title=\"Orlando Magic\">ORL</a> x <span class=\"seed\">(14) </span></th><td class=\"center\" data-stat=\"franchise_text\"><a href=\"/teams/ORL/\" title=\"Orlando Magic Franchise Index\">F</a></td><td class=\"right\" data-stat=\"payroll_text\"><a href=\"/contracts/ORL.html\" title=\"Orlando Magic Team Payroll\">$</a></td><td class=\"right\" data-stat=\"wins\">21</td><td class=\"right\" data-stat=\"losses\">51</td></tr>,\n",
       " <tr class=\"full_table\"><th class=\"left\" data-stat=\"team_name\" scope=\"row\"><a href=\"/teams/DET/2021.html\" title=\"Detroit Pistons\">DET</a> x <span class=\"seed\">(15) </span></th><td class=\"center\" data-stat=\"franchise_text\"><a href=\"/teams/DET/\" title=\"Detroit Pistons Franchise Index\">F</a></td><td class=\"right\" data-stat=\"payroll_text\"><a href=\"/contracts/DET.html\" title=\"Detroit Pistons Team Payroll\">$</a></td><td class=\"right\" data-stat=\"wins\">20</td><td class=\"right\" data-stat=\"losses\">52</td></tr>]"
      ]
     },
     "execution_count": 115,
     "metadata": {},
     "output_type": "execute_result"
    }
   ],
   "source": [
    "teams = soup_bb.find('table', {'id':'confs_standings_E'}).find('tbody').find_all('tr')\n",
    "teams"
   ]
  },
  {
   "cell_type": "code",
   "execution_count": 116,
   "metadata": {
    "scrolled": true
   },
   "outputs": [
    {
     "data": {
      "text/html": [
       "<div>\n",
       "<style scoped>\n",
       "    .dataframe tbody tr th:only-of-type {\n",
       "        vertical-align: middle;\n",
       "    }\n",
       "\n",
       "    .dataframe tbody tr th {\n",
       "        vertical-align: top;\n",
       "    }\n",
       "\n",
       "    .dataframe thead th {\n",
       "        text-align: right;\n",
       "    }\n",
       "</style>\n",
       "<table border=\"1\" class=\"dataframe\">\n",
       "  <thead>\n",
       "    <tr style=\"text-align: right;\">\n",
       "      <th></th>\n",
       "      <th>slug</th>\n",
       "      <th>name</th>\n",
       "      <th>wins</th>\n",
       "      <th>losses</th>\n",
       "      <th>rank</th>\n",
       "      <th>conference</th>\n",
       "    </tr>\n",
       "  </thead>\n",
       "  <tbody>\n",
       "    <tr>\n",
       "      <th>0</th>\n",
       "      <td>PHI</td>\n",
       "      <td>Philadelphia 76ers</td>\n",
       "      <td>49</td>\n",
       "      <td>23</td>\n",
       "      <td>1</td>\n",
       "      <td>E</td>\n",
       "    </tr>\n",
       "    <tr>\n",
       "      <th>1</th>\n",
       "      <td>BRK</td>\n",
       "      <td>Brooklyn Nets</td>\n",
       "      <td>48</td>\n",
       "      <td>24</td>\n",
       "      <td>2</td>\n",
       "      <td>E</td>\n",
       "    </tr>\n",
       "    <tr>\n",
       "      <th>2</th>\n",
       "      <td>MIL</td>\n",
       "      <td>Milwaukee Bucks</td>\n",
       "      <td>46</td>\n",
       "      <td>26</td>\n",
       "      <td>3</td>\n",
       "      <td>E</td>\n",
       "    </tr>\n",
       "    <tr>\n",
       "      <th>3</th>\n",
       "      <td>NYK</td>\n",
       "      <td>New York Knicks</td>\n",
       "      <td>41</td>\n",
       "      <td>31</td>\n",
       "      <td>4</td>\n",
       "      <td>E</td>\n",
       "    </tr>\n",
       "    <tr>\n",
       "      <th>4</th>\n",
       "      <td>ATL</td>\n",
       "      <td>Atlanta Hawks</td>\n",
       "      <td>41</td>\n",
       "      <td>31</td>\n",
       "      <td>5</td>\n",
       "      <td>E</td>\n",
       "    </tr>\n",
       "    <tr>\n",
       "      <th>5</th>\n",
       "      <td>MIA</td>\n",
       "      <td>Miami Heat</td>\n",
       "      <td>40</td>\n",
       "      <td>32</td>\n",
       "      <td>6</td>\n",
       "      <td>E</td>\n",
       "    </tr>\n",
       "    <tr>\n",
       "      <th>6</th>\n",
       "      <td>BOS</td>\n",
       "      <td>Boston Celtics</td>\n",
       "      <td>36</td>\n",
       "      <td>36</td>\n",
       "      <td>7</td>\n",
       "      <td>E</td>\n",
       "    </tr>\n",
       "    <tr>\n",
       "      <th>7</th>\n",
       "      <td>WAS</td>\n",
       "      <td>Washington Wizards</td>\n",
       "      <td>34</td>\n",
       "      <td>38</td>\n",
       "      <td>8</td>\n",
       "      <td>E</td>\n",
       "    </tr>\n",
       "    <tr>\n",
       "      <th>8</th>\n",
       "      <td>IND</td>\n",
       "      <td>Indiana Pacers</td>\n",
       "      <td>34</td>\n",
       "      <td>38</td>\n",
       "      <td>9</td>\n",
       "      <td>E</td>\n",
       "    </tr>\n",
       "    <tr>\n",
       "      <th>9</th>\n",
       "      <td>CHO</td>\n",
       "      <td>Charlotte Hornets</td>\n",
       "      <td>33</td>\n",
       "      <td>39</td>\n",
       "      <td>10</td>\n",
       "      <td>E</td>\n",
       "    </tr>\n",
       "    <tr>\n",
       "      <th>10</th>\n",
       "      <td>CHI</td>\n",
       "      <td>Chicago Bulls</td>\n",
       "      <td>31</td>\n",
       "      <td>41</td>\n",
       "      <td>11</td>\n",
       "      <td>E</td>\n",
       "    </tr>\n",
       "    <tr>\n",
       "      <th>11</th>\n",
       "      <td>TOR</td>\n",
       "      <td>Toronto Raptors</td>\n",
       "      <td>27</td>\n",
       "      <td>45</td>\n",
       "      <td>12</td>\n",
       "      <td>E</td>\n",
       "    </tr>\n",
       "    <tr>\n",
       "      <th>12</th>\n",
       "      <td>CLE</td>\n",
       "      <td>Cleveland Cavaliers</td>\n",
       "      <td>22</td>\n",
       "      <td>50</td>\n",
       "      <td>13</td>\n",
       "      <td>E</td>\n",
       "    </tr>\n",
       "    <tr>\n",
       "      <th>13</th>\n",
       "      <td>ORL</td>\n",
       "      <td>Orlando Magic</td>\n",
       "      <td>21</td>\n",
       "      <td>51</td>\n",
       "      <td>14</td>\n",
       "      <td>E</td>\n",
       "    </tr>\n",
       "    <tr>\n",
       "      <th>14</th>\n",
       "      <td>DET</td>\n",
       "      <td>Detroit Pistons</td>\n",
       "      <td>20</td>\n",
       "      <td>52</td>\n",
       "      <td>15</td>\n",
       "      <td>E</td>\n",
       "    </tr>\n",
       "    <tr>\n",
       "      <th>15</th>\n",
       "      <td>UTA</td>\n",
       "      <td>Utah Jazz</td>\n",
       "      <td>52</td>\n",
       "      <td>20</td>\n",
       "      <td>1</td>\n",
       "      <td>W</td>\n",
       "    </tr>\n",
       "    <tr>\n",
       "      <th>16</th>\n",
       "      <td>PHO</td>\n",
       "      <td>Phoenix Suns</td>\n",
       "      <td>51</td>\n",
       "      <td>21</td>\n",
       "      <td>2</td>\n",
       "      <td>W</td>\n",
       "    </tr>\n",
       "    <tr>\n",
       "      <th>17</th>\n",
       "      <td>DEN</td>\n",
       "      <td>Denver Nuggets</td>\n",
       "      <td>47</td>\n",
       "      <td>25</td>\n",
       "      <td>3</td>\n",
       "      <td>W</td>\n",
       "    </tr>\n",
       "    <tr>\n",
       "      <th>18</th>\n",
       "      <td>LAC</td>\n",
       "      <td>Los Angeles Clippers</td>\n",
       "      <td>47</td>\n",
       "      <td>25</td>\n",
       "      <td>4</td>\n",
       "      <td>W</td>\n",
       "    </tr>\n",
       "    <tr>\n",
       "      <th>19</th>\n",
       "      <td>DAL</td>\n",
       "      <td>Dallas Mavericks</td>\n",
       "      <td>42</td>\n",
       "      <td>30</td>\n",
       "      <td>5</td>\n",
       "      <td>W</td>\n",
       "    </tr>\n",
       "    <tr>\n",
       "      <th>20</th>\n",
       "      <td>POR</td>\n",
       "      <td>Portland Trail Blazers</td>\n",
       "      <td>42</td>\n",
       "      <td>30</td>\n",
       "      <td>6</td>\n",
       "      <td>W</td>\n",
       "    </tr>\n",
       "    <tr>\n",
       "      <th>21</th>\n",
       "      <td>LAL</td>\n",
       "      <td>Los Angeles Lakers</td>\n",
       "      <td>42</td>\n",
       "      <td>30</td>\n",
       "      <td>7</td>\n",
       "      <td>W</td>\n",
       "    </tr>\n",
       "    <tr>\n",
       "      <th>22</th>\n",
       "      <td>MEM</td>\n",
       "      <td>Memphis Grizzlies</td>\n",
       "      <td>38</td>\n",
       "      <td>34</td>\n",
       "      <td>8</td>\n",
       "      <td>W</td>\n",
       "    </tr>\n",
       "    <tr>\n",
       "      <th>23</th>\n",
       "      <td>GSW</td>\n",
       "      <td>Golden State Warriors</td>\n",
       "      <td>39</td>\n",
       "      <td>33</td>\n",
       "      <td>9</td>\n",
       "      <td>W</td>\n",
       "    </tr>\n",
       "    <tr>\n",
       "      <th>24</th>\n",
       "      <td>SAS</td>\n",
       "      <td>San Antonio Spurs</td>\n",
       "      <td>33</td>\n",
       "      <td>39</td>\n",
       "      <td>10</td>\n",
       "      <td>W</td>\n",
       "    </tr>\n",
       "    <tr>\n",
       "      <th>25</th>\n",
       "      <td>NOP</td>\n",
       "      <td>New Orleans Pelicans</td>\n",
       "      <td>31</td>\n",
       "      <td>41</td>\n",
       "      <td>11</td>\n",
       "      <td>W</td>\n",
       "    </tr>\n",
       "    <tr>\n",
       "      <th>26</th>\n",
       "      <td>SAC</td>\n",
       "      <td>Sacramento Kings</td>\n",
       "      <td>31</td>\n",
       "      <td>41</td>\n",
       "      <td>12</td>\n",
       "      <td>W</td>\n",
       "    </tr>\n",
       "    <tr>\n",
       "      <th>27</th>\n",
       "      <td>MIN</td>\n",
       "      <td>Minnesota Timberwolves</td>\n",
       "      <td>23</td>\n",
       "      <td>49</td>\n",
       "      <td>13</td>\n",
       "      <td>W</td>\n",
       "    </tr>\n",
       "    <tr>\n",
       "      <th>28</th>\n",
       "      <td>OKC</td>\n",
       "      <td>Oklahoma City Thunder</td>\n",
       "      <td>22</td>\n",
       "      <td>50</td>\n",
       "      <td>14</td>\n",
       "      <td>W</td>\n",
       "    </tr>\n",
       "    <tr>\n",
       "      <th>29</th>\n",
       "      <td>HOU</td>\n",
       "      <td>Houston Rockets</td>\n",
       "      <td>17</td>\n",
       "      <td>55</td>\n",
       "      <td>15</td>\n",
       "      <td>W</td>\n",
       "    </tr>\n",
       "  </tbody>\n",
       "</table>\n",
       "</div>"
      ],
      "text/plain": [
       "   slug                    name wins losses rank conference\n",
       "0   PHI      Philadelphia 76ers   49     23    1          E\n",
       "1   BRK           Brooklyn Nets   48     24    2          E\n",
       "2   MIL         Milwaukee Bucks   46     26    3          E\n",
       "3   NYK         New York Knicks   41     31    4          E\n",
       "4   ATL           Atlanta Hawks   41     31    5          E\n",
       "5   MIA              Miami Heat   40     32    6          E\n",
       "6   BOS          Boston Celtics   36     36    7          E\n",
       "7   WAS      Washington Wizards   34     38    8          E\n",
       "8   IND          Indiana Pacers   34     38    9          E\n",
       "9   CHO       Charlotte Hornets   33     39   10          E\n",
       "10  CHI           Chicago Bulls   31     41   11          E\n",
       "11  TOR         Toronto Raptors   27     45   12          E\n",
       "12  CLE     Cleveland Cavaliers   22     50   13          E\n",
       "13  ORL           Orlando Magic   21     51   14          E\n",
       "14  DET         Detroit Pistons   20     52   15          E\n",
       "15  UTA               Utah Jazz   52     20    1          W\n",
       "16  PHO            Phoenix Suns   51     21    2          W\n",
       "17  DEN          Denver Nuggets   47     25    3          W\n",
       "18  LAC    Los Angeles Clippers   47     25    4          W\n",
       "19  DAL        Dallas Mavericks   42     30    5          W\n",
       "20  POR  Portland Trail Blazers   42     30    6          W\n",
       "21  LAL      Los Angeles Lakers   42     30    7          W\n",
       "22  MEM       Memphis Grizzlies   38     34    8          W\n",
       "23  GSW   Golden State Warriors   39     33    9          W\n",
       "24  SAS       San Antonio Spurs   33     39   10          W\n",
       "25  NOP    New Orleans Pelicans   31     41   11          W\n",
       "26  SAC        Sacramento Kings   31     41   12          W\n",
       "27  MIN  Minnesota Timberwolves   23     49   13          W\n",
       "28  OKC   Oklahoma City Thunder   22     50   14          W\n",
       "29  HOU         Houston Rockets   17     55   15          W"
      ]
     },
     "execution_count": 116,
     "metadata": {},
     "output_type": "execute_result"
    }
   ],
   "source": [
    "teams = []\n",
    "for conf in ['E', 'W']:\n",
    "    table = soup_bb.find('table', {'id':'confs_standings_' + conf})\n",
    "    for row in table.find('tbody').find_all('tr'):\n",
    "        team = {}\n",
    "        team['slug'] = row.find('a').text\n",
    "        team['name'] = row.find('a').attrs['title']\n",
    "        team['wins'] = row.find_all('td')[2].text\n",
    "        team['wins'] = row.find('td', {'data-stat': 'wins'}).text\n",
    "        team['losses'] = row.find('td', {'data-stat': 'losses'}).text\n",
    "        team['rank'] = row.find('span').text.strip()[1:-1]\n",
    "        team['conference'] = conf\n",
    "\n",
    "        teams.append(team)\n",
    "df = pd.DataFrame(teams)\n",
    "df"
   ]
  },
  {
   "cell_type": "markdown",
   "metadata": {},
   "source": [
    "<a id='eg4'></a>\n",
    "### Example 4: Abraham Lincoln Quotes\n",
    " produce a list of all of Lincoln's quotes available on this page: http://www.successories.com/iquote/author/291/abraham-lincoln-quotes/1"
   ]
  },
  {
   "cell_type": "code",
   "execution_count": 117,
   "metadata": {},
   "outputs": [],
   "source": [
    "# declare a list\n",
    "lincoln_quotes = []\n",
    "\n",
    "# iteraterate through the 44 pages of lincoln quotes\n",
    "for page in range(1,45):\n",
    "    \n",
    "    # make request for that page\n",
    "    r = requests.get(\"http://www.successories.com/iquote/author/291/abraham-lincoln-quotes/%s\" % page)\n",
    "    \n",
    "    # turn into a BeautifulSoup object\n",
    "    soup = BeautifulSoup(r.text, 'lxml')\n",
    "    \n",
    "    # find quotes on page\n",
    "    quotes = soup.find_all(name='div', attrs={'class':'quote'})\n",
    "    \n",
    "    # add to our quotes list\n",
    "    for quote in quotes:\n",
    "        lincoln_quotes.append(quote.text)"
   ]
  },
  {
   "cell_type": "code",
   "execution_count": 118,
   "metadata": {},
   "outputs": [
    {
     "name": "stdout",
     "output_type": "stream",
     "text": [
      "40\n",
      "['\"Human action can be modified to some extent, but human nature cannot be changed.\"', '\"To stand in silence when they should be protesting makes cowards out of men\"', '\"I do the very best I know how, the very best I can, and I mean to keep on doing so until the end\"', '\"That this nation, under God, shall have a new birth of freedom; and that government of the people, by the people, and for the people, shall not perish from the earth.\"', '\"That some achieve great success, is proof to all that others can achieve it as well.\"', '\"I am a success today because I had a friend who believed in me and I didn\\'t have the heart to let him down...\"', '\"I believe, if we take habitual drunkards as a class, their heads and their hearts will bear an advantageous comparison with those of any other class\"', '\"Books serve to show a man that those original thoughts of his aren\\'t very new after all\"', '\"Things may come to those who wait...but only the things left by those who hustle.\"', '\"You cannot build character and courage by taking away man\\'s initiative and independence.\"', '\"Character is like a tree and reputation like its shadow. The shadow is what we think of it; the tree is the real thing: I desire so to conduct the affairs of this administration that if at the end, when I come to lay down the reins of power, I have l\"', '\"charity toward all.\"', '\"With malice toward none, with charity for all, with firmness in the right as God gives us to see the right, let us finish the work we are in\"', '\"If you once forfeit the confidence of your fellow citizens, you can never regain their respect and esteem. It is true that you may fool all of the people some of the time; you can even fool some of the people all of the time; but you can\\'t fool all of the people all of the time.\"', '\"It is the eternal struggle between these two principles -- right and wrong. They are the two principles that have stood face to face from the beginning of time and will ever continue to struggle. It is the same spirit that says, \\'\\'You work and toil and earn bread, and I\\'ll eat it.\\'\\'\"', '\"He can compress the most words into the smallest idea of any man I ever met.\"', '\"You may deceive all the people part of the time, and part of the people all the time, but not all the people all the time.\"', '\"If you once forfeit the confidence of your fellow citizens, you can never regain their respect and esteem. You may fool all of the people some of the time; you can even fool some of the people all the time; but you can\\'t fool all of the people all of the time.\"', '\"We must not be enemies. Though passion may have strained, it must not break our bonds of affection. The mystic chords of memory, stretching from every battlefield and patriot grave, to every living heart and hearth-stone, all over this broad land, wi\"', '\"If I had eight hours to chop down a tree, I\\'d spend six hours sharpening my ax\"', '\"A woman is the only thing I am afraid of that I know will not hurt me\"', '\"If you would win a man to your cause, first convince him that you are his sincere friend. Therein is a drop of honey that catches his heart, which, say what you will, is the great high-road to his reason, and which, when once gained, you will find but little trouble in convincing his judgment of the justice of your cause.\"', '\"Beware of rashness, but with energy, and sleepless vigilance, go forward and give us victories.\"', '\"You cannot escape the responsibility of tomorrow by evading it today.\"', '\"These men ask for just the same thing, fairness, and fairness only. This, so far as in my power, they, and all others, shall have.\"']\n"
     ]
    }
   ],
   "source": [
    "print((len(lincoln_quotes)))\n",
    "print((lincoln_quotes[0:25]))"
   ]
  },
  {
   "cell_type": "markdown",
   "metadata": {},
   "source": [
    "<a id='apis'></a>\n",
    "## Web Services and APIs\n",
    "\n",
    "### <u>What is an API?</u>\n",
    "An API (Application Programming Interface) is a set of routines, protocols, and tools for building software applications. It specifies how software components should interact.\n",
    "\n",
    "APIs are a way developers abstract functionality to data, devices, and other resources they provide. \n",
    "\n",
    "Some examples include:\n",
    "\n",
    "- Connectivity to a variety of databases\n",
    "- Python modules that can turn LED lights on and off\n",
    "- Application that runs on native Windows, OSX, or Linux\n",
    "- Libraries that post content on Twitter, Facebook, Yelp, or LinkedIn\n",
    "- Web services for accessing currency or stock prices\n",
    "\n",
    "More abstract examples:\n",
    "- Adding your own functions to Numpy itself\n",
    "- Extending Python with C code\n",
    "- Testing Frameworks\n",
    "\n",
    "In the context of data science, APIs are a very common method to interact with data hosted by third parties and most commonly provided by **Web Service APIs**."
   ]
  },
  {
   "cell_type": "markdown",
   "metadata": {},
   "source": [
    "### <u>JSON</u>\n",
    "JSON is short for _JavaScript Object Notation_, and is a way to store information in an organized, easy-to-access manner. In a nutshell, it gives us a human-readable collection of data that we can access in a really logical manner.\n",
    "\n",
    "**JSON is built on two structures:**\n",
    "* A collection of name/value pairs. In various languages, this is realized as an object, record, structure, dictionary, hash table, keyed list, or associative array.\n",
    "* An ordered list of values. In most languages, this is realized as an array, vector, list, or sequence.\n",
    "\n",
    "These are universal data structures. Virtually all modern programming languages support them in one form or another. It makes sense that a data format that is interchangeable with programming languages also be based on these structures.\n",
    "\n",
    "### <u>JSON objects</u> \n",
    "An object is an unordered set of name/value pairs, like python dictionaries. An object begins with `{` (left brace) and ends with `}` (right brace). Each name is followed by `:` (colon) and the name/value pairs are separated by `,` (comma).\n",
    "\n",
    "The syntax is as follows:\n",
    "\n",
    "```\n",
    "{ string : value, .......}\n",
    "```\n",
    "like:\n",
    "```\n",
    "{\"count\": 1, ...}\n",
    "```\n",
    "_Seems an awful lot like a python dictionary._"
   ]
  },
  {
   "cell_type": "code",
   "execution_count": 119,
   "metadata": {},
   "outputs": [
    {
     "name": "stdout",
     "output_type": "stream",
     "text": [
      "http://swapi.dev/api/people/1/\n",
      "http://swapi.dev/api/people/2/\n",
      "http://swapi.dev/api/people/3/\n",
      "http://swapi.dev/api/people/4/\n",
      "http://swapi.dev/api/people/5/\n",
      "http://swapi.dev/api/people/6/\n",
      "http://swapi.dev/api/people/7/\n",
      "http://swapi.dev/api/people/8/\n",
      "http://swapi.dev/api/people/9/\n"
     ]
    },
    {
     "data": {
      "text/html": [
       "<div>\n",
       "<style scoped>\n",
       "    .dataframe tbody tr th:only-of-type {\n",
       "        vertical-align: middle;\n",
       "    }\n",
       "\n",
       "    .dataframe tbody tr th {\n",
       "        vertical-align: top;\n",
       "    }\n",
       "\n",
       "    .dataframe thead th {\n",
       "        text-align: right;\n",
       "    }\n",
       "</style>\n",
       "<table border=\"1\" class=\"dataframe\">\n",
       "  <thead>\n",
       "    <tr style=\"text-align: right;\">\n",
       "      <th></th>\n",
       "      <th>name</th>\n",
       "      <th>height</th>\n",
       "      <th>mass</th>\n",
       "      <th>hair_color</th>\n",
       "      <th>skin_color</th>\n",
       "      <th>eye_color</th>\n",
       "      <th>birth_year</th>\n",
       "      <th>gender</th>\n",
       "      <th>homeworld</th>\n",
       "      <th>films</th>\n",
       "      <th>species</th>\n",
       "      <th>vehicles</th>\n",
       "      <th>starships</th>\n",
       "      <th>created</th>\n",
       "      <th>edited</th>\n",
       "      <th>url</th>\n",
       "    </tr>\n",
       "  </thead>\n",
       "  <tbody>\n",
       "    <tr>\n",
       "      <th>0</th>\n",
       "      <td>Luke Skywalker</td>\n",
       "      <td>172</td>\n",
       "      <td>77</td>\n",
       "      <td>blond</td>\n",
       "      <td>fair</td>\n",
       "      <td>blue</td>\n",
       "      <td>19BBY</td>\n",
       "      <td>male</td>\n",
       "      <td>https://swapi.dev/api/planets/1/</td>\n",
       "      <td>[https://swapi.dev/api/films/1/, https://swapi...</td>\n",
       "      <td>[]</td>\n",
       "      <td>[https://swapi.dev/api/vehicles/14/, https://s...</td>\n",
       "      <td>[https://swapi.dev/api/starships/12/, https://...</td>\n",
       "      <td>2014-12-09T13:50:51.644000Z</td>\n",
       "      <td>2014-12-20T21:17:56.891000Z</td>\n",
       "      <td>https://swapi.dev/api/people/1/</td>\n",
       "    </tr>\n",
       "    <tr>\n",
       "      <th>1</th>\n",
       "      <td>C-3PO</td>\n",
       "      <td>167</td>\n",
       "      <td>75</td>\n",
       "      <td>n/a</td>\n",
       "      <td>gold</td>\n",
       "      <td>yellow</td>\n",
       "      <td>112BBY</td>\n",
       "      <td>n/a</td>\n",
       "      <td>https://swapi.dev/api/planets/1/</td>\n",
       "      <td>[https://swapi.dev/api/films/1/, https://swapi...</td>\n",
       "      <td>[https://swapi.dev/api/species/2/]</td>\n",
       "      <td>[]</td>\n",
       "      <td>[]</td>\n",
       "      <td>2014-12-10T15:10:51.357000Z</td>\n",
       "      <td>2014-12-20T21:17:50.309000Z</td>\n",
       "      <td>https://swapi.dev/api/people/2/</td>\n",
       "    </tr>\n",
       "    <tr>\n",
       "      <th>2</th>\n",
       "      <td>R2-D2</td>\n",
       "      <td>96</td>\n",
       "      <td>32</td>\n",
       "      <td>n/a</td>\n",
       "      <td>white, blue</td>\n",
       "      <td>red</td>\n",
       "      <td>33BBY</td>\n",
       "      <td>n/a</td>\n",
       "      <td>https://swapi.dev/api/planets/8/</td>\n",
       "      <td>[https://swapi.dev/api/films/1/, https://swapi...</td>\n",
       "      <td>[https://swapi.dev/api/species/2/]</td>\n",
       "      <td>[]</td>\n",
       "      <td>[]</td>\n",
       "      <td>2014-12-10T15:11:50.376000Z</td>\n",
       "      <td>2014-12-20T21:17:50.311000Z</td>\n",
       "      <td>https://swapi.dev/api/people/3/</td>\n",
       "    </tr>\n",
       "    <tr>\n",
       "      <th>3</th>\n",
       "      <td>Darth Vader</td>\n",
       "      <td>202</td>\n",
       "      <td>136</td>\n",
       "      <td>none</td>\n",
       "      <td>white</td>\n",
       "      <td>yellow</td>\n",
       "      <td>41.9BBY</td>\n",
       "      <td>male</td>\n",
       "      <td>https://swapi.dev/api/planets/1/</td>\n",
       "      <td>[https://swapi.dev/api/films/1/, https://swapi...</td>\n",
       "      <td>[]</td>\n",
       "      <td>[]</td>\n",
       "      <td>[https://swapi.dev/api/starships/13/]</td>\n",
       "      <td>2014-12-10T15:18:20.704000Z</td>\n",
       "      <td>2014-12-20T21:17:50.313000Z</td>\n",
       "      <td>https://swapi.dev/api/people/4/</td>\n",
       "    </tr>\n",
       "    <tr>\n",
       "      <th>4</th>\n",
       "      <td>Leia Organa</td>\n",
       "      <td>150</td>\n",
       "      <td>49</td>\n",
       "      <td>brown</td>\n",
       "      <td>light</td>\n",
       "      <td>brown</td>\n",
       "      <td>19BBY</td>\n",
       "      <td>female</td>\n",
       "      <td>https://swapi.dev/api/planets/2/</td>\n",
       "      <td>[https://swapi.dev/api/films/1/, https://swapi...</td>\n",
       "      <td>[]</td>\n",
       "      <td>[https://swapi.dev/api/vehicles/30/]</td>\n",
       "      <td>[]</td>\n",
       "      <td>2014-12-10T15:20:09.791000Z</td>\n",
       "      <td>2014-12-20T21:17:50.315000Z</td>\n",
       "      <td>https://swapi.dev/api/people/5/</td>\n",
       "    </tr>\n",
       "    <tr>\n",
       "      <th>5</th>\n",
       "      <td>Owen Lars</td>\n",
       "      <td>178</td>\n",
       "      <td>120</td>\n",
       "      <td>brown, grey</td>\n",
       "      <td>light</td>\n",
       "      <td>blue</td>\n",
       "      <td>52BBY</td>\n",
       "      <td>male</td>\n",
       "      <td>https://swapi.dev/api/planets/1/</td>\n",
       "      <td>[https://swapi.dev/api/films/1/, https://swapi...</td>\n",
       "      <td>[]</td>\n",
       "      <td>[]</td>\n",
       "      <td>[]</td>\n",
       "      <td>2014-12-10T15:52:14.024000Z</td>\n",
       "      <td>2014-12-20T21:17:50.317000Z</td>\n",
       "      <td>https://swapi.dev/api/people/6/</td>\n",
       "    </tr>\n",
       "    <tr>\n",
       "      <th>6</th>\n",
       "      <td>Beru Whitesun lars</td>\n",
       "      <td>165</td>\n",
       "      <td>75</td>\n",
       "      <td>brown</td>\n",
       "      <td>light</td>\n",
       "      <td>blue</td>\n",
       "      <td>47BBY</td>\n",
       "      <td>female</td>\n",
       "      <td>https://swapi.dev/api/planets/1/</td>\n",
       "      <td>[https://swapi.dev/api/films/1/, https://swapi...</td>\n",
       "      <td>[]</td>\n",
       "      <td>[]</td>\n",
       "      <td>[]</td>\n",
       "      <td>2014-12-10T15:53:41.121000Z</td>\n",
       "      <td>2014-12-20T21:17:50.319000Z</td>\n",
       "      <td>https://swapi.dev/api/people/7/</td>\n",
       "    </tr>\n",
       "    <tr>\n",
       "      <th>7</th>\n",
       "      <td>R5-D4</td>\n",
       "      <td>97</td>\n",
       "      <td>32</td>\n",
       "      <td>n/a</td>\n",
       "      <td>white, red</td>\n",
       "      <td>red</td>\n",
       "      <td>unknown</td>\n",
       "      <td>n/a</td>\n",
       "      <td>https://swapi.dev/api/planets/1/</td>\n",
       "      <td>[https://swapi.dev/api/films/1/]</td>\n",
       "      <td>[https://swapi.dev/api/species/2/]</td>\n",
       "      <td>[]</td>\n",
       "      <td>[]</td>\n",
       "      <td>2014-12-10T15:57:50.959000Z</td>\n",
       "      <td>2014-12-20T21:17:50.321000Z</td>\n",
       "      <td>https://swapi.dev/api/people/8/</td>\n",
       "    </tr>\n",
       "    <tr>\n",
       "      <th>8</th>\n",
       "      <td>Biggs Darklighter</td>\n",
       "      <td>183</td>\n",
       "      <td>84</td>\n",
       "      <td>black</td>\n",
       "      <td>light</td>\n",
       "      <td>brown</td>\n",
       "      <td>24BBY</td>\n",
       "      <td>male</td>\n",
       "      <td>https://swapi.dev/api/planets/1/</td>\n",
       "      <td>[https://swapi.dev/api/films/1/]</td>\n",
       "      <td>[]</td>\n",
       "      <td>[]</td>\n",
       "      <td>[https://swapi.dev/api/starships/12/]</td>\n",
       "      <td>2014-12-10T15:59:50.509000Z</td>\n",
       "      <td>2014-12-20T21:17:50.323000Z</td>\n",
       "      <td>https://swapi.dev/api/people/9/</td>\n",
       "    </tr>\n",
       "  </tbody>\n",
       "</table>\n",
       "</div>"
      ],
      "text/plain": [
       "                 name height mass   hair_color   skin_color eye_color  \\\n",
       "0      Luke Skywalker    172   77        blond         fair      blue   \n",
       "1               C-3PO    167   75          n/a         gold    yellow   \n",
       "2               R2-D2     96   32          n/a  white, blue       red   \n",
       "3         Darth Vader    202  136         none        white    yellow   \n",
       "4         Leia Organa    150   49        brown        light     brown   \n",
       "5           Owen Lars    178  120  brown, grey        light      blue   \n",
       "6  Beru Whitesun lars    165   75        brown        light      blue   \n",
       "7               R5-D4     97   32          n/a   white, red       red   \n",
       "8   Biggs Darklighter    183   84        black        light     brown   \n",
       "\n",
       "  birth_year  gender                         homeworld  \\\n",
       "0      19BBY    male  https://swapi.dev/api/planets/1/   \n",
       "1     112BBY     n/a  https://swapi.dev/api/planets/1/   \n",
       "2      33BBY     n/a  https://swapi.dev/api/planets/8/   \n",
       "3    41.9BBY    male  https://swapi.dev/api/planets/1/   \n",
       "4      19BBY  female  https://swapi.dev/api/planets/2/   \n",
       "5      52BBY    male  https://swapi.dev/api/planets/1/   \n",
       "6      47BBY  female  https://swapi.dev/api/planets/1/   \n",
       "7    unknown     n/a  https://swapi.dev/api/planets/1/   \n",
       "8      24BBY    male  https://swapi.dev/api/planets/1/   \n",
       "\n",
       "                                               films  \\\n",
       "0  [https://swapi.dev/api/films/1/, https://swapi...   \n",
       "1  [https://swapi.dev/api/films/1/, https://swapi...   \n",
       "2  [https://swapi.dev/api/films/1/, https://swapi...   \n",
       "3  [https://swapi.dev/api/films/1/, https://swapi...   \n",
       "4  [https://swapi.dev/api/films/1/, https://swapi...   \n",
       "5  [https://swapi.dev/api/films/1/, https://swapi...   \n",
       "6  [https://swapi.dev/api/films/1/, https://swapi...   \n",
       "7                   [https://swapi.dev/api/films/1/]   \n",
       "8                   [https://swapi.dev/api/films/1/]   \n",
       "\n",
       "                              species  \\\n",
       "0                                  []   \n",
       "1  [https://swapi.dev/api/species/2/]   \n",
       "2  [https://swapi.dev/api/species/2/]   \n",
       "3                                  []   \n",
       "4                                  []   \n",
       "5                                  []   \n",
       "6                                  []   \n",
       "7  [https://swapi.dev/api/species/2/]   \n",
       "8                                  []   \n",
       "\n",
       "                                            vehicles  \\\n",
       "0  [https://swapi.dev/api/vehicles/14/, https://s...   \n",
       "1                                                 []   \n",
       "2                                                 []   \n",
       "3                                                 []   \n",
       "4               [https://swapi.dev/api/vehicles/30/]   \n",
       "5                                                 []   \n",
       "6                                                 []   \n",
       "7                                                 []   \n",
       "8                                                 []   \n",
       "\n",
       "                                           starships  \\\n",
       "0  [https://swapi.dev/api/starships/12/, https://...   \n",
       "1                                                 []   \n",
       "2                                                 []   \n",
       "3              [https://swapi.dev/api/starships/13/]   \n",
       "4                                                 []   \n",
       "5                                                 []   \n",
       "6                                                 []   \n",
       "7                                                 []   \n",
       "8              [https://swapi.dev/api/starships/12/]   \n",
       "\n",
       "                       created                       edited  \\\n",
       "0  2014-12-09T13:50:51.644000Z  2014-12-20T21:17:56.891000Z   \n",
       "1  2014-12-10T15:10:51.357000Z  2014-12-20T21:17:50.309000Z   \n",
       "2  2014-12-10T15:11:50.376000Z  2014-12-20T21:17:50.311000Z   \n",
       "3  2014-12-10T15:18:20.704000Z  2014-12-20T21:17:50.313000Z   \n",
       "4  2014-12-10T15:20:09.791000Z  2014-12-20T21:17:50.315000Z   \n",
       "5  2014-12-10T15:52:14.024000Z  2014-12-20T21:17:50.317000Z   \n",
       "6  2014-12-10T15:53:41.121000Z  2014-12-20T21:17:50.319000Z   \n",
       "7  2014-12-10T15:57:50.959000Z  2014-12-20T21:17:50.321000Z   \n",
       "8  2014-12-10T15:59:50.509000Z  2014-12-20T21:17:50.323000Z   \n",
       "\n",
       "                               url  \n",
       "0  https://swapi.dev/api/people/1/  \n",
       "1  https://swapi.dev/api/people/2/  \n",
       "2  https://swapi.dev/api/people/3/  \n",
       "3  https://swapi.dev/api/people/4/  \n",
       "4  https://swapi.dev/api/people/5/  \n",
       "5  https://swapi.dev/api/people/6/  \n",
       "6  https://swapi.dev/api/people/7/  \n",
       "7  https://swapi.dev/api/people/8/  \n",
       "8  https://swapi.dev/api/people/9/  "
      ]
     },
     "execution_count": 119,
     "metadata": {},
     "output_type": "execute_result"
    }
   ],
   "source": [
    "# Request example for the IMDB example\n",
    "import pandas as pd\n",
    "import requests\n",
    "\n",
    "results = []\n",
    "for i in range (1, 10):\n",
    "    url = \"http://swapi.dev/api/people/\" + str(i) + \"/\"\n",
    "    print(url)\n",
    "    result = requests.get(url)\n",
    "    results.append(result.json())\n",
    "df = pd.DataFrame(results)\n",
    "df"
   ]
  },
  {
   "cell_type": "code",
   "execution_count": 120,
   "metadata": {},
   "outputs": [
    {
     "data": {
      "text/plain": [
       "[{'name': 'Luke Skywalker',\n",
       "  'height': '172',\n",
       "  'mass': '77',\n",
       "  'hair_color': 'blond',\n",
       "  'skin_color': 'fair',\n",
       "  'eye_color': 'blue',\n",
       "  'birth_year': '19BBY',\n",
       "  'gender': 'male',\n",
       "  'homeworld': 'https://swapi.dev/api/planets/1/',\n",
       "  'films': ['https://swapi.dev/api/films/1/',\n",
       "   'https://swapi.dev/api/films/2/',\n",
       "   'https://swapi.dev/api/films/3/',\n",
       "   'https://swapi.dev/api/films/6/'],\n",
       "  'species': [],\n",
       "  'vehicles': ['https://swapi.dev/api/vehicles/14/',\n",
       "   'https://swapi.dev/api/vehicles/30/'],\n",
       "  'starships': ['https://swapi.dev/api/starships/12/',\n",
       "   'https://swapi.dev/api/starships/22/'],\n",
       "  'created': '2014-12-09T13:50:51.644000Z',\n",
       "  'edited': '2014-12-20T21:17:56.891000Z',\n",
       "  'url': 'https://swapi.dev/api/people/1/'},\n",
       " {'name': 'C-3PO',\n",
       "  'height': '167',\n",
       "  'mass': '75',\n",
       "  'hair_color': 'n/a',\n",
       "  'skin_color': 'gold',\n",
       "  'eye_color': 'yellow',\n",
       "  'birth_year': '112BBY',\n",
       "  'gender': 'n/a',\n",
       "  'homeworld': 'https://swapi.dev/api/planets/1/',\n",
       "  'films': ['https://swapi.dev/api/films/1/',\n",
       "   'https://swapi.dev/api/films/2/',\n",
       "   'https://swapi.dev/api/films/3/',\n",
       "   'https://swapi.dev/api/films/4/',\n",
       "   'https://swapi.dev/api/films/5/',\n",
       "   'https://swapi.dev/api/films/6/'],\n",
       "  'species': ['https://swapi.dev/api/species/2/'],\n",
       "  'vehicles': [],\n",
       "  'starships': [],\n",
       "  'created': '2014-12-10T15:10:51.357000Z',\n",
       "  'edited': '2014-12-20T21:17:50.309000Z',\n",
       "  'url': 'https://swapi.dev/api/people/2/'},\n",
       " {'name': 'R2-D2',\n",
       "  'height': '96',\n",
       "  'mass': '32',\n",
       "  'hair_color': 'n/a',\n",
       "  'skin_color': 'white, blue',\n",
       "  'eye_color': 'red',\n",
       "  'birth_year': '33BBY',\n",
       "  'gender': 'n/a',\n",
       "  'homeworld': 'https://swapi.dev/api/planets/8/',\n",
       "  'films': ['https://swapi.dev/api/films/1/',\n",
       "   'https://swapi.dev/api/films/2/',\n",
       "   'https://swapi.dev/api/films/3/',\n",
       "   'https://swapi.dev/api/films/4/',\n",
       "   'https://swapi.dev/api/films/5/',\n",
       "   'https://swapi.dev/api/films/6/'],\n",
       "  'species': ['https://swapi.dev/api/species/2/'],\n",
       "  'vehicles': [],\n",
       "  'starships': [],\n",
       "  'created': '2014-12-10T15:11:50.376000Z',\n",
       "  'edited': '2014-12-20T21:17:50.311000Z',\n",
       "  'url': 'https://swapi.dev/api/people/3/'},\n",
       " {'name': 'Darth Vader',\n",
       "  'height': '202',\n",
       "  'mass': '136',\n",
       "  'hair_color': 'none',\n",
       "  'skin_color': 'white',\n",
       "  'eye_color': 'yellow',\n",
       "  'birth_year': '41.9BBY',\n",
       "  'gender': 'male',\n",
       "  'homeworld': 'https://swapi.dev/api/planets/1/',\n",
       "  'films': ['https://swapi.dev/api/films/1/',\n",
       "   'https://swapi.dev/api/films/2/',\n",
       "   'https://swapi.dev/api/films/3/',\n",
       "   'https://swapi.dev/api/films/6/'],\n",
       "  'species': [],\n",
       "  'vehicles': [],\n",
       "  'starships': ['https://swapi.dev/api/starships/13/'],\n",
       "  'created': '2014-12-10T15:18:20.704000Z',\n",
       "  'edited': '2014-12-20T21:17:50.313000Z',\n",
       "  'url': 'https://swapi.dev/api/people/4/'},\n",
       " {'name': 'Leia Organa',\n",
       "  'height': '150',\n",
       "  'mass': '49',\n",
       "  'hair_color': 'brown',\n",
       "  'skin_color': 'light',\n",
       "  'eye_color': 'brown',\n",
       "  'birth_year': '19BBY',\n",
       "  'gender': 'female',\n",
       "  'homeworld': 'https://swapi.dev/api/planets/2/',\n",
       "  'films': ['https://swapi.dev/api/films/1/',\n",
       "   'https://swapi.dev/api/films/2/',\n",
       "   'https://swapi.dev/api/films/3/',\n",
       "   'https://swapi.dev/api/films/6/'],\n",
       "  'species': [],\n",
       "  'vehicles': ['https://swapi.dev/api/vehicles/30/'],\n",
       "  'starships': [],\n",
       "  'created': '2014-12-10T15:20:09.791000Z',\n",
       "  'edited': '2014-12-20T21:17:50.315000Z',\n",
       "  'url': 'https://swapi.dev/api/people/5/'},\n",
       " {'name': 'Owen Lars',\n",
       "  'height': '178',\n",
       "  'mass': '120',\n",
       "  'hair_color': 'brown, grey',\n",
       "  'skin_color': 'light',\n",
       "  'eye_color': 'blue',\n",
       "  'birth_year': '52BBY',\n",
       "  'gender': 'male',\n",
       "  'homeworld': 'https://swapi.dev/api/planets/1/',\n",
       "  'films': ['https://swapi.dev/api/films/1/',\n",
       "   'https://swapi.dev/api/films/5/',\n",
       "   'https://swapi.dev/api/films/6/'],\n",
       "  'species': [],\n",
       "  'vehicles': [],\n",
       "  'starships': [],\n",
       "  'created': '2014-12-10T15:52:14.024000Z',\n",
       "  'edited': '2014-12-20T21:17:50.317000Z',\n",
       "  'url': 'https://swapi.dev/api/people/6/'},\n",
       " {'name': 'Beru Whitesun lars',\n",
       "  'height': '165',\n",
       "  'mass': '75',\n",
       "  'hair_color': 'brown',\n",
       "  'skin_color': 'light',\n",
       "  'eye_color': 'blue',\n",
       "  'birth_year': '47BBY',\n",
       "  'gender': 'female',\n",
       "  'homeworld': 'https://swapi.dev/api/planets/1/',\n",
       "  'films': ['https://swapi.dev/api/films/1/',\n",
       "   'https://swapi.dev/api/films/5/',\n",
       "   'https://swapi.dev/api/films/6/'],\n",
       "  'species': [],\n",
       "  'vehicles': [],\n",
       "  'starships': [],\n",
       "  'created': '2014-12-10T15:53:41.121000Z',\n",
       "  'edited': '2014-12-20T21:17:50.319000Z',\n",
       "  'url': 'https://swapi.dev/api/people/7/'},\n",
       " {'name': 'R5-D4',\n",
       "  'height': '97',\n",
       "  'mass': '32',\n",
       "  'hair_color': 'n/a',\n",
       "  'skin_color': 'white, red',\n",
       "  'eye_color': 'red',\n",
       "  'birth_year': 'unknown',\n",
       "  'gender': 'n/a',\n",
       "  'homeworld': 'https://swapi.dev/api/planets/1/',\n",
       "  'films': ['https://swapi.dev/api/films/1/'],\n",
       "  'species': ['https://swapi.dev/api/species/2/'],\n",
       "  'vehicles': [],\n",
       "  'starships': [],\n",
       "  'created': '2014-12-10T15:57:50.959000Z',\n",
       "  'edited': '2014-12-20T21:17:50.321000Z',\n",
       "  'url': 'https://swapi.dev/api/people/8/'},\n",
       " {'name': 'Biggs Darklighter',\n",
       "  'height': '183',\n",
       "  'mass': '84',\n",
       "  'hair_color': 'black',\n",
       "  'skin_color': 'light',\n",
       "  'eye_color': 'brown',\n",
       "  'birth_year': '24BBY',\n",
       "  'gender': 'male',\n",
       "  'homeworld': 'https://swapi.dev/api/planets/1/',\n",
       "  'films': ['https://swapi.dev/api/films/1/'],\n",
       "  'species': [],\n",
       "  'vehicles': [],\n",
       "  'starships': ['https://swapi.dev/api/starships/12/'],\n",
       "  'created': '2014-12-10T15:59:50.509000Z',\n",
       "  'edited': '2014-12-20T21:17:50.323000Z',\n",
       "  'url': 'https://swapi.dev/api/people/9/'}]"
      ]
     },
     "execution_count": 120,
     "metadata": {},
     "output_type": "execute_result"
    }
   ],
   "source": [
    "results"
   ]
  },
  {
   "cell_type": "markdown",
   "metadata": {},
   "source": [
    "<a id='hacker'></a>\n",
    "## Example 5: Hacker News"
   ]
  },
  {
   "cell_type": "code",
   "execution_count": 121,
   "metadata": {},
   "outputs": [],
   "source": [
    "from bs4 import BeautifulSoup\n",
    "import lxml\n",
    "import requests"
   ]
  },
  {
   "cell_type": "code",
   "execution_count": 122,
   "metadata": {},
   "outputs": [
    {
     "name": "stdout",
     "output_type": "stream",
     "text": [
      "<Response [200]>\n",
      "<html lang=\"en\" op=\"news\"><head><meta name=\"referrer\" content=\"origin\"><meta name=\"viewport\" content=\"width=device-width, initial-scale=1.0\"><link rel=\"stylesheet\" type=\"text/css\" href=\"news.css?C7yC4eDsAdgGHWMz9pg3\">\n",
      "        <link rel=\"shortcut icon\" href=\"favicon.ico\">\n",
      "          <link rel=\"alternate\" type=\"application/rss+xml\" title=\"RSS\" href=\"rss\">\n",
      "        <title>Hacker News</title></head><body><center><table id=\"hnmain\" border=\"0\" cellpadding=\"0\" cellspacing=\"0\" width=\"85%\" bgcolor=\"#f6f6ef\">\n",
      "        <tr><td bgcolor=\"#ff6600\"><table border=\"0\" cellpadding=\"0\" cellspacing=\"0\" width=\"100%\" style=\"padding:2px\"><tr><td style=\"width:18px;padding-right:4px\"><a href=\"https://news.ycombinator.com\"><img src=\"y18.gif\" width=\"18\" height=\"18\" style=\"border:1px white solid;\"></a></td>\n",
      "                  <td style=\"line-height:12pt; height:10px;\"><span class=\"pagetop\"><b class=\"hnname\"><a href=\"news\">Hacker News</a></b>\n",
      "              <a href=\"newest\">new</a> | <a href=\"front\">past</a> | <a href=\"newcomments\">comments</a> | <a href=\"ask\">ask</a> | <a href=\"show\">show</a> | <a href=\"jobs\">jobs</a> | <a href=\"submit\">submit</a>            </span></td><td style=\"text-align:right;padding-right:4px;\"><span class=\"pagetop\">\n",
      "                              <a href=\"login?goto=news\">login</a>\n",
      "                          </span></td>\n",
      "              </tr></table></td></tr>\n",
      "<tr id=\"pagespace\" title=\"\" style=\"height:10px\"></tr><tr><td><table border=\"0\" cellpadding=\"0\" cellspacing=\"0\" class=\"itemlist\">\n",
      "              <tr class='athing' id='28099264'>\n",
      "      <td align=\"right\" valign=\"top\" class=\"title\"><span class=\"rank\">1.</span></td>      <td valign=\"top\" class=\"votelinks\"><center><a id='up_28099264' href='vote?id=28099264&amp;how=up&amp;goto=news'><div class='votearrow' title='upvote'></div></a></center></td><td class=\"title\"><a href=\"https://www.openwall.com/lists/oss-security/2021/08/07/1\" class=\"storylink\">Bug in Lynx' SSL certificate validation – leaks password in clear text via SNI</a><span class=\"sitebit comhead\"> (<a href=\"from?site=openwall.com\"><span class=\"sitestr\">openwall.com</span></a>)</span></td></tr><tr><td colspan=\"2\"></td><td class=\"subtext\">\n",
      "        <span class=\"score\" id=\"score_28099264\">55 points</span> by <a href=\"user?id=jwilk\" class=\"hnuser\">jwilk</a> <span class=\"age\" title=\"2021-08-07T15:26:26\"><a href=\"item?id=28099264\">59 minutes ago</a></span> <span id=\"unv_28099264\"></span> | <a href=\"hide?id=28099264&amp;goto=news\">hide</a> | <a href=\"item?id=28099264\">12&nbsp;comments</a>              </td></tr>\n",
      "      <tr class=\"spacer\" style=\"height:5px\"></tr>\n",
      "                <tr class='athing' id='28098578'>\n",
      "      <td align=\"right\" valign=\"top\" class=\"title\"><span class=\"rank\">2.</span></td>      <td valign=\"top\" class=\"votelinks\"><center><a id='up_28098578' href='vote?id=28098578&amp;how=up&amp;goto=news'><div class='votearrow' title='upvote'></div></a></center></td><td class=\"title\"><a href=\"https://blog.startifact.com/posts/framework-patterns.html#\" class=\"storylink\">Framework Patterns (2019)</a><span class=\"sitebit comhead\"> (<a href=\"from?site=startifact.com\"><span class=\"sitestr\">startifact.com</span></a>)</span></td></tr><tr><td colspan=\"2\"></td><td class=\"subtext\">\n",
      "        <span class=\"score\" id=\"score_28098578\">68 points</span> by <a href=\"user?id=rbanffy\" class=\"hnuser\">rbanffy</a> <span class=\"age\" title=\"2021-08-07T13:51:38\"><a href=\"item?id=28098578\">2 hours ago</a></span> <span id=\"unv_28098578\"></span> | <a href=\"hide?id=28098578&amp;goto=news\">hide</a> | <a href=\"item?id=28098578\">12&nbsp;comments</a>              </td></tr>\n",
      "      <tr class=\"spacer\" style=\"height:5px\"></tr>\n",
      "                <tr class='athing' id='28098853'>\n",
      "      <td align=\"right\" valign=\"top\" class=\"title\"><span class=\"rank\">3.</span></td>      <td valign=\"top\" class=\"votelinks\"><center><a id='up_28098853' href='vote?id=28098853&amp;how=up&amp;goto=news'><div class='votearrow' title='upvote'></div></a></center></td><td class=\"title\"><a href=\"https://caseyhandmer.wordpress.com/2021/04/25/powering-the-lunar-base/\" class=\"storylink\">Powering the Lunar Base</a><span class=\"sitebit comhead\"> (<a href=\"from?site=caseyhandmer.wordpress.com\"><span class=\"sitestr\">caseyhandmer.wordpress.com</span></a>)</span></td></tr><tr><td colspan=\"2\"></td><td class=\"subtext\">\n",
      "        <span class=\"score\" id=\"score_28098853\">46 points</span> by <a href=\"user?id=mercutio2\" class=\"hnuser\">mercutio2</a> <span class=\"age\" title=\"2021-08-07T14:32:31\"><a href=\"item?id=28098853\">1 hour ago</a></span> <span id=\"unv_28098853\"></span> | <a href=\"hide?id=28098853&amp;goto=news\">hide</a> | <a href=\"item?id=28098853\">26&nbsp;comments</a>              </td></tr>\n",
      "      <tr class=\"spacer\" style=\"height:5px\"></tr>\n",
      "                <tr class='athing' id='28068248'>\n",
      "      <td align=\"right\" valign=\"top\" class=\"title\"><span class=\"rank\">4.</span></td>      <td valign=\"top\" class=\"votelinks\"><center><a id='up_28068248' href='vote?id=28068248&amp;how=up&amp;goto=news'><div class='votearrow' title='upvote'></div></a></center></td><td class=\"title\"><a href=\"https://www.historytoday.com/archive/natural-histories/benjamin-bannekers-broods-cicadas\" class=\"storylink\">Benjamin Banneker’s Broods of Cicadas</a><span class=\"sitebit comhead\"> (<a href=\"from?site=historytoday.com\"><span class=\"sitestr\">historytoday.com</span></a>)</span></td></tr><tr><td colspan=\"2\"></td><td class=\"subtext\">\n",
      "        <span class=\"score\" id=\"score_28068248\">17 points</span> by <a href=\"user?id=Petiver\" class=\"hnuser\">Petiver</a> <span class=\"age\" title=\"2021-08-05T00:31:20\"><a href=\"item?id=28068248\">48 minutes ago</a></span> <span id=\"unv_28068248\"></span> | <a href=\"hide?id=28068248&amp;goto=news\">hide</a> | <a href=\"item?id=28068248\">discuss</a>              </td></tr>\n",
      "      <tr class=\"spacer\" style=\"height:5px\"></tr>\n",
      "                <tr class='athing' id='28098888'>\n",
      "      <td align=\"right\" valign=\"top\" class=\"title\"><span class=\"rank\">5.</span></td>      <td valign=\"top\" class=\"votelinks\"><center><a id='up_28098888' href='vote?id=28098888&amp;how=up&amp;goto=news'><div class='votearrow' title='upvote'></div></a></center></td><td class=\"title\"><a href=\"https://www.msn.com/en-us/money/news/qatar-airways-grounds-13-airbus-a350s-as-fuselage-degrading/ar-AAMYDOB\" class=\"storylink\">Qatar Airways grounds 13 Airbus A350s as fuselage degrading</a><span class=\"sitebit comhead\"> (<a href=\"from?site=msn.com\"><span class=\"sitestr\">msn.com</span></a>)</span></td></tr><tr><td colspan=\"2\"></td><td class=\"subtext\">\n",
      "        <span class=\"score\" id=\"score_28098888\">51 points</span> by <a href=\"user?id=jryle70\" class=\"hnuser\">jryle70</a> <span class=\"age\" title=\"2021-08-07T14:36:59\"><a href=\"item?id=28098888\">1 hour ago</a></span> <span id=\"unv_28098888\"></span> | <a href=\"hide?id=28098888&amp;goto=news\">hide</a> | <a href=\"item?id=28098888\">20&nbsp;comments</a>              </td></tr>\n",
      "      <tr class=\"spacer\" style=\"height:5px\"></tr>\n",
      "                <tr class='athing' id='28084166'>\n",
      "      <td align=\"right\" valign=\"top\" class=\"title\"><span class=\"rank\">6.</span></td>      <td valign=\"top\" class=\"votelinks\"><center><a id='up_28084166' href='vote?id=28084166&amp;how=up&amp;goto=news'><div class='votearrow' title='upvote'></div></a></center></td><td class=\"title\"><a href=\"https://www.sciencealert.com/large-body-map-study-suggests-chronic-pain-comes-in-9-distinct-types\" class=\"storylink\">Body mapping study suggests chronic pain comes in nine distinct types</a><span class=\"sitebit comhead\"> (<a href=\"from?site=sciencealert.com\"><span class=\"sitestr\">sciencealert.com</span></a>)</span></td></tr><tr><td colspan=\"2\"></td><td class=\"subtext\">\n",
      "        <span class=\"score\" id=\"score_28084166\">121 points</span> by <a href=\"user?id=lnyan\" class=\"hnuser\">lnyan</a> <span class=\"age\" title=\"2021-08-06T07:13:03\"><a href=\"item?id=28084166\">9 hours ago</a></span> <span id=\"unv_28084166\"></span> | <a href=\"hide?id=28084166&amp;goto=news\">hide</a> | <a href=\"item?id=28084166\">22&nbsp;comments</a>              </td></tr>\n",
      "      <tr class=\"spacer\" style=\"height:5px\"></tr>\n",
      "                <tr class='athing' id='28098664'>\n",
      "      <td align=\"right\" valign=\"top\" class=\"title\"><span class=\"rank\">7.</span></td>      <td valign=\"top\" class=\"votelinks\"><center><a id='up_28098664' href='vote?id=28098664&amp;how=up&amp;goto=news'><div class='votearrow' title='upvote'></div></a></center></td><td class=\"title\"><a href=\"https://www.bloomberg.com/news/articles/2021-08-06/the-era-of-cheap-natural-gas-ends-as-prices-surge-by-1-000\" class=\"storylink\">The Era of Cheap Natural Gas Ends as Prices Surge by 1000%</a><span class=\"sitebit comhead\"> (<a href=\"from?site=bloomberg.com\"><span class=\"sitestr\">bloomberg.com</span></a>)</span></td></tr><tr><td colspan=\"2\"></td><td class=\"subtext\">\n",
      "        <span class=\"score\" id=\"score_28098664\">67 points</span> by <a href=\"user?id=montalbano\" class=\"hnuser\">montalbano</a> <span class=\"age\" title=\"2021-08-07T14:04:17\"><a href=\"item?id=28098664\">2 hours ago</a></span> <span id=\"unv_28098664\"></span> | <a href=\"hide?id=28098664&amp;goto=news\">hide</a> | <a href=\"item?id=28098664\">46&nbsp;comments</a>              </td></tr>\n",
      "      <tr class=\"spacer\" style=\"height:5px\"></tr>\n",
      "                <tr class='athing' id='28096493'>\n",
      "      <td align=\"right\" valign=\"top\" class=\"title\"><span class=\"rank\">8.</span></td>      <td valign=\"top\" class=\"votelinks\"><center><a id='up_28096493' href='vote?id=28096493&amp;how=up&amp;goto=news'><div class='votearrow' title='upvote'></div></a></center></td><td class=\"title\"><a href=\"https://pandas.pydata.org/pandas-docs/stable/pandas.pdf\" class=\"storylink\">Pandas Manual [pdf]</a><span class=\"sitebit comhead\"> (<a href=\"from?site=pydata.org\"><span class=\"sitestr\">pydata.org</span></a>)</span></td></tr><tr><td colspan=\"2\"></td><td class=\"subtext\">\n",
      "        <span class=\"score\" id=\"score_28096493\">30 points</span> by <a href=\"user?id=garren\" class=\"hnuser\">garren</a> <span class=\"age\" title=\"2021-08-07T07:16:59\"><a href=\"item?id=28096493\">4 hours ago</a></span> <span id=\"unv_28096493\"></span> | <a href=\"hide?id=28096493&amp;goto=news\">hide</a> | <a href=\"item?id=28096493\">17&nbsp;comments</a>              </td></tr>\n",
      "      <tr class=\"spacer\" style=\"height:5px\"></tr>\n",
      "                <tr class='athing' id='28083440'>\n",
      "      <td align=\"right\" valign=\"top\" class=\"title\"><span class=\"rank\">9.</span></td>      <td valign=\"top\" class=\"votelinks\"><center><a id='up_28083440' href='vote?id=28083440&amp;how=up&amp;goto=news'><div class='votearrow' title='upvote'></div></a></center></td><td class=\"title\"><a href=\"https://acoup.blog/2021/08/06/referenda-ad-senatum-august-6-2021-feelings-at-the-fall-of-the-republic-ancient-and-medieval-living-standards-and-zombies/\" class=\"storylink\">Feelings at the Fall of the Republic, Ancient and Medieval Living Standards</a><span class=\"sitebit comhead\"> (<a href=\"from?site=acoup.blog\"><span class=\"sitestr\">acoup.blog</span></a>)</span></td></tr><tr><td colspan=\"2\"></td><td class=\"subtext\">\n",
      "        <span class=\"score\" id=\"score_28083440\">86 points</span> by <a href=\"user?id=parsecs\" class=\"hnuser\">parsecs</a> <span class=\"age\" title=\"2021-08-06T04:52:52\"><a href=\"item?id=28083440\">8 hours ago</a></span> <span id=\"unv_28083440\"></span> | <a href=\"hide?id=28083440&amp;goto=news\">hide</a> | <a href=\"item?id=28083440\">32&nbsp;comments</a>              </td></tr>\n",
      "      <tr class=\"spacer\" style=\"height:5px\"></tr>\n",
      "                <tr class='athing' id='28096710'>\n",
      "      <td align=\"right\" valign=\"top\" class=\"title\"><span class=\"rank\">10.</span></td>      <td valign=\"top\" class=\"votelinks\"><center><a id='up_28096710' href='vote?id=28096710&amp;how=up&amp;goto=news'><div class='votearrow' title='upvote'></div></a></center></td><td class=\"title\"><a href=\"https://i.blackhat.com/USA21/Wednesday-Handouts/us-21-Everything-Has-Changed-In-IOS-14-But-Jailbreak-Is-Eternal.pdf\" class=\"storylink\">Everything has changed in iOS 14, but Jailbreak is eternal [pdf]</a><span class=\"sitebit comhead\"> (<a href=\"from?site=blackhat.com\"><span class=\"sitestr\">blackhat.com</span></a>)</span></td></tr><tr><td colspan=\"2\"></td><td class=\"subtext\">\n",
      "        <span class=\"score\" id=\"score_28096710\">62 points</span> by <a href=\"user?id=clubdorothe\" class=\"hnuser\">clubdorothe</a> <span class=\"age\" title=\"2021-08-07T07:53:09\"><a href=\"item?id=28096710\">8 hours ago</a></span> <span id=\"unv_28096710\"></span> | <a href=\"hide?id=28096710&amp;goto=news\">hide</a> | <a href=\"item?id=28096710\">4&nbsp;comments</a>              </td></tr>\n",
      "      <tr class=\"spacer\" style=\"height:5px\"></tr>\n",
      "                <tr class='athing' id='28098658'>\n",
      "      <td align=\"right\" valign=\"top\" class=\"title\"><span class=\"rank\">11.</span></td>      <td valign=\"top\" class=\"votelinks\"><center><a id='up_28098658' href='vote?id=28098658&amp;how=up&amp;goto=news'><div class='votearrow' title='upvote'></div></a></center></td><td class=\"title\"><a href=\"https://www.theblaze.com/news/nasa-is-looking-for-people-who-want-to-spend-a-year-simulating-a-mission-on-mars\" class=\"storylink\">NASA is looking for people who want to spend a year simulating a mission on Mars</a><span class=\"sitebit comhead\"> (<a href=\"from?site=theblaze.com\"><span class=\"sitestr\">theblaze.com</span></a>)</span></td></tr><tr><td colspan=\"2\"></td><td class=\"subtext\">\n",
      "        <span class=\"score\" id=\"score_28098658\">52 points</span> by <a href=\"user?id=RickJWagner\" class=\"hnuser\">RickJWagner</a> <span class=\"age\" title=\"2021-08-07T14:03:16\"><a href=\"item?id=28098658\">2 hours ago</a></span> <span id=\"unv_28098658\"></span> | <a href=\"hide?id=28098658&amp;goto=news\">hide</a> | <a href=\"item?id=28098658\">31&nbsp;comments</a>              </td></tr>\n",
      "      <tr class=\"spacer\" style=\"height:5px\"></tr>\n",
      "                <tr class='athing' id='28085642'>\n",
      "      <td align=\"right\" valign=\"top\" class=\"title\"><span class=\"rank\">12.</span></td>      <td valign=\"top\" class=\"votelinks\"><center><a id='up_28085642' href='vote?id=28085642&amp;how=up&amp;goto=news'><div class='votearrow' title='upvote'></div></a></center></td><td class=\"title\"><a href=\"item?id=28085642\" class=\"storylink\">Incorrect expression calculation between programming languages</a></td></tr><tr><td colspan=\"2\"></td><td class=\"subtext\">\n",
      "        <span class=\"score\" id=\"score_28085642\">17 points</span> by <a href=\"user?id=mingodad\" class=\"hnuser\">mingodad</a> <span class=\"age\" title=\"2021-08-06T11:24:11\"><a href=\"item?id=28085642\">3 hours ago</a></span> <span id=\"unv_28085642\"></span> | <a href=\"hide?id=28085642&amp;goto=news\">hide</a> | <a href=\"item?id=28085642\">13&nbsp;comments</a>              </td></tr>\n",
      "      <tr class=\"spacer\" style=\"height:5px\"></tr>\n",
      "                <tr class='athing' id='28085920'>\n",
      "      <td align=\"right\" valign=\"top\" class=\"title\"><span class=\"rank\">13.</span></td>      <td valign=\"top\" class=\"votelinks\"><center><a id='up_28085920' href='vote?id=28085920&amp;how=up&amp;goto=news'><div class='votearrow' title='upvote'></div></a></center></td><td class=\"title\"><a href=\"https://papertime.app\" class=\"storylink\">Show HN: Paper Time – Listen to abstracts of CS papers, like a custom podcast</a><span class=\"sitebit comhead\"> (<a href=\"from?site=papertime.app\"><span class=\"sitestr\">papertime.app</span></a>)</span></td></tr><tr><td colspan=\"2\"></td><td class=\"subtext\">\n",
      "        <span class=\"score\" id=\"score_28085920\">123 points</span> by <a href=\"user?id=pramodbiligiri\" class=\"hnuser\">pramodbiligiri</a> <span class=\"age\" title=\"2021-08-06T11:59:30\"><a href=\"item?id=28085920\">13 hours ago</a></span> <span id=\"unv_28085920\"></span> | <a href=\"hide?id=28085920&amp;goto=news\">hide</a> | <a href=\"item?id=28085920\">29&nbsp;comments</a>              </td></tr>\n",
      "      <tr class=\"spacer\" style=\"height:5px\"></tr>\n",
      "                <tr class='athing' id='28097927'>\n",
      "      <td align=\"right\" valign=\"top\" class=\"title\"><span class=\"rank\">14.</span></td>      <td></td><td class=\"title\"><a href=\"https://upchieve.welcomekit.co/jobs/mobile-engineer_brooklyn\" class=\"storylink\" rel=\"nofollow\">UPchieve (YC W21) is hiring a mobile engineer to democratize free tutoring</a><span class=\"sitebit comhead\"> (<a href=\"from?site=welcomekit.co\"><span class=\"sitestr\">welcomekit.co</span></a>)</span></td></tr><tr><td colspan=\"2\"></td><td class=\"subtext\">\n",
      "        <span class=\"age\" title=\"2021-08-07T12:00:47\"><a href=\"item?id=28097927\">4 hours ago</a></span> | <a href=\"hide?id=28097927&amp;goto=news\">hide</a>      </td></tr>\n",
      "      <tr class=\"spacer\" style=\"height:5px\"></tr>\n",
      "                <tr class='athing' id='28085526'>\n",
      "      <td align=\"right\" valign=\"top\" class=\"title\"><span class=\"rank\">15.</span></td>      <td valign=\"top\" class=\"votelinks\"><center><a id='up_28085526' href='vote?id=28085526&amp;how=up&amp;goto=news'><div class='votearrow' title='upvote'></div></a></center></td><td class=\"title\"><a href=\"https://psyche.co/ideas/in-praise-of-habits-so-much-more-than-mindless-reflexes\" class=\"storylink\">In praise of habits</a><span class=\"sitebit comhead\"> (<a href=\"from?site=psyche.co\"><span class=\"sitestr\">psyche.co</span></a>)</span></td></tr><tr><td colspan=\"2\"></td><td class=\"subtext\">\n",
      "        <span class=\"score\" id=\"score_28085526\">51 points</span> by <a href=\"user?id=pseudolus\" class=\"hnuser\">pseudolus</a> <span class=\"age\" title=\"2021-08-06T11:06:28\"><a href=\"item?id=28085526\">7 hours ago</a></span> <span id=\"unv_28085526\"></span> | <a href=\"hide?id=28085526&amp;goto=news\">hide</a> | <a href=\"item?id=28085526\">3&nbsp;comments</a>              </td></tr>\n",
      "      <tr class=\"spacer\" style=\"height:5px\"></tr>\n",
      "                <tr class='athing' id='28097600'>\n",
      "      <td align=\"right\" valign=\"top\" class=\"title\"><span class=\"rank\">16.</span></td>      <td valign=\"top\" class=\"votelinks\"><center><a id='up_28097600' href='vote?id=28097600&amp;how=up&amp;goto=news'><div class='votearrow' title='upvote'></div></a></center></td><td class=\"title\"><a href=\"https://www.servethehome.com/planning-for-servers-in-2022-and-beyond-series/\" class=\"storylink\">Planning for Servers in 2022 and Beyond</a><span class=\"sitebit comhead\"> (<a href=\"from?site=servethehome.com\"><span class=\"sitestr\">servethehome.com</span></a>)</span></td></tr><tr><td colspan=\"2\"></td><td class=\"subtext\">\n",
      "        <span class=\"score\" id=\"score_28097600\">28 points</span> by <a href=\"user?id=vanburen\" class=\"hnuser\">vanburen</a> <span class=\"age\" title=\"2021-08-07T10:57:41\"><a href=\"item?id=28097600\">5 hours ago</a></span> <span id=\"unv_28097600\"></span> | <a href=\"hide?id=28097600&amp;goto=news\">hide</a> | <a href=\"item?id=28097600\">4&nbsp;comments</a>              </td></tr>\n",
      "      <tr class=\"spacer\" style=\"height:5px\"></tr>\n",
      "                <tr class='athing' id='28095632'>\n",
      "      <td align=\"right\" valign=\"top\" class=\"title\"><span class=\"rank\">17.</span></td>      <td valign=\"top\" class=\"votelinks\"><center><a id='up_28095632' href='vote?id=28095632&amp;how=up&amp;goto=news'><div class='votearrow' title='upvote'></div></a></center></td><td class=\"title\"><a href=\"https://www.nzz.ch/english/swiss-phd-students-dismissal-spotlights-chinas-influence-ld.1638771\" class=\"storylink\">Swiss Ph.D student’s dismissal spotlights China’s influence</a><span class=\"sitebit comhead\"> (<a href=\"from?site=nzz.ch\"><span class=\"sitestr\">nzz.ch</span></a>)</span></td></tr><tr><td colspan=\"2\"></td><td class=\"subtext\">\n",
      "        <span class=\"score\" id=\"score_28095632\">543 points</span> by <a href=\"user?id=ipnon\" class=\"hnuser\">ipnon</a> <span class=\"age\" title=\"2021-08-07T04:13:49\"><a href=\"item?id=28095632\">12 hours ago</a></span> <span id=\"unv_28095632\"></span> | <a href=\"hide?id=28095632&amp;goto=news\">hide</a> | <a href=\"item?id=28095632\">269&nbsp;comments</a>              </td></tr>\n",
      "      <tr class=\"spacer\" style=\"height:5px\"></tr>\n",
      "                <tr class='athing' id='28084861'>\n",
      "      <td align=\"right\" valign=\"top\" class=\"title\"><span class=\"rank\">18.</span></td>      <td valign=\"top\" class=\"votelinks\"><center><a id='up_28084861' href='vote?id=28084861&amp;how=up&amp;goto=news'><div class='votearrow' title='upvote'></div></a></center></td><td class=\"title\"><a href=\"https://www.theguardian.com/news/2018/sep/18/a-giant-crawling-brain-the-jaw-dropping-world-of-termites\" class=\"storylink\">A giant crawling brain: the world of termites (2018)</a><span class=\"sitebit comhead\"> (<a href=\"from?site=theguardian.com\"><span class=\"sitestr\">theguardian.com</span></a>)</span></td></tr><tr><td colspan=\"2\"></td><td class=\"subtext\">\n",
      "        <span class=\"score\" id=\"score_28084861\">58 points</span> by <a href=\"user?id=NotSwift\" class=\"hnuser\">NotSwift</a> <span class=\"age\" title=\"2021-08-06T09:15:34\"><a href=\"item?id=28084861\">11 hours ago</a></span> <span id=\"unv_28084861\"></span> | <a href=\"hide?id=28084861&amp;goto=news\">hide</a> | <a href=\"item?id=28084861\">7&nbsp;comments</a>              </td></tr>\n",
      "      <tr class=\"spacer\" style=\"height:5px\"></tr>\n",
      "                <tr class='athing' id='28090024'>\n",
      "      <td align=\"right\" valign=\"top\" class=\"title\"><span class=\"rank\">19.</span></td>      <td valign=\"top\" class=\"votelinks\"><center><a id='up_28090024' href='vote?id=28090024&amp;how=up&amp;goto=news'><div class='votearrow' title='upvote'></div></a></center></td><td class=\"title\"><a href=\"https://calyxos.org/\" class=\"storylink\">CalyxOS – De-Googled Android Alternative</a><span class=\"sitebit comhead\"> (<a href=\"from?site=calyxos.org\"><span class=\"sitestr\">calyxos.org</span></a>)</span></td></tr><tr><td colspan=\"2\"></td><td class=\"subtext\">\n",
      "        <span class=\"score\" id=\"score_28090024\">873 points</span> by <a href=\"user?id=ssklash\" class=\"hnuser\">ssklash</a> <span class=\"age\" title=\"2021-08-06T17:07:36\"><a href=\"item?id=28090024\">23 hours ago</a></span> <span id=\"unv_28090024\"></span> | <a href=\"hide?id=28090024&amp;goto=news\">hide</a> | <a href=\"item?id=28090024\">422&nbsp;comments</a>              </td></tr>\n",
      "      <tr class=\"spacer\" style=\"height:5px\"></tr>\n",
      "                <tr class='athing' id='28097675'>\n",
      "      <td align=\"right\" valign=\"top\" class=\"title\"><span class=\"rank\">20.</span></td>      <td valign=\"top\" class=\"votelinks\"><center><a id='up_28097675' href='vote?id=28097675&amp;how=up&amp;goto=news'><div class='votearrow' title='upvote'></div></a></center></td><td class=\"title\"><a href=\"https://www.bbc.co.uk/news/uk-scotland-tayside-central-58056235\" class=\"storylink\">Capturing the Disappearing Sounds of the Workplace</a><span class=\"sitebit comhead\"> (<a href=\"from?site=bbc.co.uk\"><span class=\"sitestr\">bbc.co.uk</span></a>)</span></td></tr><tr><td colspan=\"2\"></td><td class=\"subtext\">\n",
      "        <span class=\"score\" id=\"score_28097675\">13 points</span> by <a href=\"user?id=Kaibeezy\" class=\"hnuser\">Kaibeezy</a> <span class=\"age\" title=\"2021-08-07T11:17:18\"><a href=\"item?id=28097675\">5 hours ago</a></span> <span id=\"unv_28097675\"></span> | <a href=\"hide?id=28097675&amp;goto=news\">hide</a> | <a href=\"item?id=28097675\">3&nbsp;comments</a>              </td></tr>\n",
      "      <tr class=\"spacer\" style=\"height:5px\"></tr>\n",
      "                <tr class='athing' id='28091750'>\n",
      "      <td align=\"right\" valign=\"top\" class=\"title\"><span class=\"rank\">21.</span></td>      <td valign=\"top\" class=\"votelinks\"><center><a id='up_28091750' href='vote?id=28091750&amp;how=up&amp;goto=news'><div class='votearrow' title='upvote'></div></a></center></td><td class=\"title\"><a href=\"https://rentafounder.com/the-problem-with-perceptual-hashes/\" class=\"storylink\">The Problem with Perceptual Hashes</a><span class=\"sitebit comhead\"> (<a href=\"from?site=rentafounder.com\"><span class=\"sitestr\">rentafounder.com</span></a>)</span></td></tr><tr><td colspan=\"2\"></td><td class=\"subtext\">\n",
      "        <span class=\"score\" id=\"score_28091750\">588 points</span> by <a href=\"user?id=rivo\" class=\"hnuser\">rivo</a> <span class=\"age\" title=\"2021-08-06T19:29:18\"><a href=\"item?id=28091750\">20 hours ago</a></span> <span id=\"unv_28091750\"></span> | <a href=\"hide?id=28091750&amp;goto=news\">hide</a> | <a href=\"item?id=28091750\">340&nbsp;comments</a>              </td></tr>\n",
      "      <tr class=\"spacer\" style=\"height:5px\"></tr>\n",
      "                <tr class='athing' id='28098803'>\n",
      "      <td align=\"right\" valign=\"top\" class=\"title\"><span class=\"rank\">22.</span></td>      <td valign=\"top\" class=\"votelinks\"><center><a id='up_28098803' href='vote?id=28098803&amp;how=up&amp;goto=news'><div class='votearrow' title='upvote'></div></a></center></td><td class=\"title\"><a href=\"https://thehill.com/changing-america/sustainability/climate-change/566674-scientists-make-shocking-discovery-of-dead\" class=\"storylink\">Scientists make discovery of dead zones where nothing can live on two US coasts</a><span class=\"sitebit comhead\"> (<a href=\"from?site=thehill.com\"><span class=\"sitestr\">thehill.com</span></a>)</span></td></tr><tr><td colspan=\"2\"></td><td class=\"subtext\">\n",
      "        <span class=\"score\" id=\"score_28098803\">14 points</span> by <a href=\"user?id=DocFeind\" class=\"hnuser\">DocFeind</a> <span class=\"age\" title=\"2021-08-07T14:24:59\"><a href=\"item?id=28098803\">2 hours ago</a></span> <span id=\"unv_28098803\"></span> | <a href=\"hide?id=28098803&amp;goto=news\">hide</a> | <a href=\"item?id=28098803\">discuss</a>              </td></tr>\n",
      "      <tr class=\"spacer\" style=\"height:5px\"></tr>\n",
      "                <tr class='athing' id='28098047'>\n",
      "      <td align=\"right\" valign=\"top\" class=\"title\"><span class=\"rank\">23.</span></td>      <td valign=\"top\" class=\"votelinks\"><center><a id='up_28098047' href='vote?id=28098047&amp;how=up&amp;goto=news'><div class='votearrow' title='upvote'></div></a></center></td><td class=\"title\"><a href=\"https://www.artnews.com/art-news/news/oldest-mint-spade-coins-chinese-foundry-1234601047/\" class=\"storylink\">World’s Oldest Coin Mint Discovered in 2,800-Year-Old Chinese Foundry</a><span class=\"sitebit comhead\"> (<a href=\"from?site=artnews.com\"><span class=\"sitestr\">artnews.com</span></a>)</span></td></tr><tr><td colspan=\"2\"></td><td class=\"subtext\">\n",
      "        <span class=\"score\" id=\"score_28098047\">31 points</span> by <a href=\"user?id=pseudolus\" class=\"hnuser\">pseudolus</a> <span class=\"age\" title=\"2021-08-07T12:20:04\"><a href=\"item?id=28098047\">4 hours ago</a></span> <span id=\"unv_28098047\"></span> | <a href=\"hide?id=28098047&amp;goto=news\">hide</a> | <a href=\"item?id=28098047\">2&nbsp;comments</a>              </td></tr>\n",
      "      <tr class=\"spacer\" style=\"height:5px\"></tr>\n",
      "                <tr class='athing' id='28084319'>\n",
      "      <td align=\"right\" valign=\"top\" class=\"title\"><span class=\"rank\">24.</span></td>      <td valign=\"top\" class=\"votelinks\"><center><a id='up_28084319' href='vote?id=28084319&amp;how=up&amp;goto=news'><div class='votearrow' title='upvote'></div></a></center></td><td class=\"title\"><a href=\"https://dantheclamman.blog/2020/07/04/the-mystery-of-the-giant-clams-of-the-red-sea-and-indian-ocean/\" class=\"storylink\">The Mystery of the Giant Clams of the Red Sea and Indian Ocean (2020)</a><span class=\"sitebit comhead\"> (<a href=\"from?site=dantheclamman.blog\"><span class=\"sitestr\">dantheclamman.blog</span></a>)</span></td></tr><tr><td colspan=\"2\"></td><td class=\"subtext\">\n",
      "        <span class=\"score\" id=\"score_28084319\">63 points</span> by <a href=\"user?id=dan-robertson\" class=\"hnuser\">dan-robertson</a> <span class=\"age\" title=\"2021-08-06T07:42:41\"><a href=\"item?id=28084319\">12 hours ago</a></span> <span id=\"unv_28084319\"></span> | <a href=\"hide?id=28084319&amp;goto=news\">hide</a> | <a href=\"item?id=28084319\">5&nbsp;comments</a>              </td></tr>\n",
      "      <tr class=\"spacer\" style=\"height:5px\"></tr>\n",
      "                <tr class='athing' id='28095173'>\n",
      "      <td align=\"right\" valign=\"top\" class=\"title\"><span class=\"rank\">25.</span></td>      <td valign=\"top\" class=\"votelinks\"><center><a id='up_28095173' href='vote?id=28095173&amp;how=up&amp;goto=news'><div class='votearrow' title='upvote'></div></a></center></td><td class=\"title\"><a href=\"https://jfloren.net/b/2021/8/6/1\" class=\"storylink\">A USB adapter for a classic Depraz mouse</a><span class=\"sitebit comhead\"> (<a href=\"from?site=jfloren.net\"><span class=\"sitestr\">jfloren.net</span></a>)</span></td></tr><tr><td colspan=\"2\"></td><td class=\"subtext\">\n",
      "        <span class=\"score\" id=\"score_28095173\">69 points</span> by <a href=\"user?id=floren\" class=\"hnuser\">floren</a> <span class=\"age\" title=\"2021-08-07T02:34:37\"><a href=\"item?id=28095173\">13 hours ago</a></span> <span id=\"unv_28095173\"></span> | <a href=\"hide?id=28095173&amp;goto=news\">hide</a> | <a href=\"item?id=28095173\">21&nbsp;comments</a>              </td></tr>\n",
      "      <tr class=\"spacer\" style=\"height:5px\"></tr>\n",
      "                <tr class='athing' id='28097639'>\n",
      "      <td align=\"right\" valign=\"top\" class=\"title\"><span class=\"rank\">26.</span></td>      <td valign=\"top\" class=\"votelinks\"><center><a id='up_28097639' href='vote?id=28097639&amp;how=up&amp;goto=news'><div class='votearrow' title='upvote'></div></a></center></td><td class=\"title\"><a href=\"https://utcc.utoronto.ca/~cks/space/blog/tech/NewTLDsMyMixedViews\" class=\"storylink\">Mixed views on new DNS top level domains</a><span class=\"sitebit comhead\"> (<a href=\"from?site=utoronto.ca\"><span class=\"sitestr\">utoronto.ca</span></a>)</span></td></tr><tr><td colspan=\"2\"></td><td class=\"subtext\">\n",
      "        <span class=\"score\" id=\"score_28097639\">28 points</span> by <a href=\"user?id=pcr910303\" class=\"hnuser\">pcr910303</a> <span class=\"age\" title=\"2021-08-07T11:07:33\"><a href=\"item?id=28097639\">5 hours ago</a></span> <span id=\"unv_28097639\"></span> | <a href=\"hide?id=28097639&amp;goto=news\">hide</a> | <a href=\"item?id=28097639\">18&nbsp;comments</a>              </td></tr>\n",
      "      <tr class=\"spacer\" style=\"height:5px\"></tr>\n",
      "                <tr class='athing' id='28096512'>\n",
      "      <td align=\"right\" valign=\"top\" class=\"title\"><span class=\"rank\">27.</span></td>      <td valign=\"top\" class=\"votelinks\"><center><a id='up_28096512' href='vote?id=28096512&amp;how=up&amp;goto=news'><div class='votearrow' title='upvote'></div></a></center></td><td class=\"title\"><a href=\"https://www.economist.com/briefing/2021/08/07/open-source-intelligence-challenges-state-monopolies-on-information\" class=\"storylink\">Open-source intelligence challenges state monopolies on information</a><span class=\"sitebit comhead\"> (<a href=\"from?site=economist.com\"><span class=\"sitestr\">economist.com</span></a>)</span></td></tr><tr><td colspan=\"2\"></td><td class=\"subtext\">\n",
      "        <span class=\"score\" id=\"score_28096512\">113 points</span> by <a href=\"user?id=helsinkiandrew\" class=\"hnuser\">helsinkiandrew</a> <span class=\"age\" title=\"2021-08-07T07:21:56\"><a href=\"item?id=28096512\">9 hours ago</a></span> <span id=\"unv_28096512\"></span> | <a href=\"hide?id=28096512&amp;goto=news\">hide</a> | <a href=\"item?id=28096512\">14&nbsp;comments</a>              </td></tr>\n",
      "      <tr class=\"spacer\" style=\"height:5px\"></tr>\n",
      "                <tr class='athing' id='28094966'>\n",
      "      <td align=\"right\" valign=\"top\" class=\"title\"><span class=\"rank\">28.</span></td>      <td valign=\"top\" class=\"votelinks\"><center><a id='up_28094966' href='vote?id=28094966&amp;how=up&amp;goto=news'><div class='votearrow' title='upvote'></div></a></center></td><td class=\"title\"><a href=\"https://hwp-viz.gsd.esrl.noaa.gov/smoke/index.html\" class=\"storylink\">NOAA Smoke Forecast Model Visualization</a><span class=\"sitebit comhead\"> (<a href=\"from?site=noaa.gov\"><span class=\"sitestr\">noaa.gov</span></a>)</span></td></tr><tr><td colspan=\"2\"></td><td class=\"subtext\">\n",
      "        <span class=\"score\" id=\"score_28094966\">73 points</span> by <a href=\"user?id=pizza\" class=\"hnuser\">pizza</a> <span class=\"age\" title=\"2021-08-07T01:53:30\"><a href=\"item?id=28094966\">14 hours ago</a></span> <span id=\"unv_28094966\"></span> | <a href=\"hide?id=28094966&amp;goto=news\">hide</a> | <a href=\"item?id=28094966\">8&nbsp;comments</a>              </td></tr>\n",
      "      <tr class=\"spacer\" style=\"height:5px\"></tr>\n",
      "                <tr class='athing' id='28095648'>\n",
      "      <td align=\"right\" valign=\"top\" class=\"title\"><span class=\"rank\">29.</span></td>      <td valign=\"top\" class=\"votelinks\"><center><a id='up_28095648' href='vote?id=28095648&amp;how=up&amp;goto=news'><div class='votearrow' title='upvote'></div></a></center></td><td class=\"title\"><a href=\"https://www.architecturaldigest.com/story/worlds-largest-astronomy-museum-opens-doors\" class=\"storylink\">The World’s Largest Astronomy Museum Opens Its Doors</a><span class=\"sitebit comhead\"> (<a href=\"from?site=architecturaldigest.com\"><span class=\"sitestr\">architecturaldigest.com</span></a>)</span></td></tr><tr><td colspan=\"2\"></td><td class=\"subtext\">\n",
      "        <span class=\"score\" id=\"score_28095648\">44 points</span> by <a href=\"user?id=fortran77\" class=\"hnuser\">fortran77</a> <span class=\"age\" title=\"2021-08-07T04:18:06\"><a href=\"item?id=28095648\">12 hours ago</a></span> <span id=\"unv_28095648\"></span> | <a href=\"hide?id=28095648&amp;goto=news\">hide</a> | <a href=\"item?id=28095648\">1&nbsp;comment</a>              </td></tr>\n",
      "      <tr class=\"spacer\" style=\"height:5px\"></tr>\n",
      "                <tr class='athing' id='28097623'>\n",
      "      <td align=\"right\" valign=\"top\" class=\"title\"><span class=\"rank\">30.</span></td>      <td valign=\"top\" class=\"votelinks\"><center><a id='up_28097623' href='vote?id=28097623&amp;how=up&amp;goto=news'><div class='votearrow' title='upvote'></div></a></center></td><td class=\"title\"><a href=\"https://techcrunch.com/2021/08/06/crypto-biden-amendment-infrastructure-bill-proof-of-work/\" class=\"storylink\">Crypto community slams ‘disastrous’ new amendment to big infrastructure bill</a><span class=\"sitebit comhead\"> (<a href=\"from?site=techcrunch.com\"><span class=\"sitestr\">techcrunch.com</span></a>)</span></td></tr><tr><td colspan=\"2\"></td><td class=\"subtext\">\n",
      "        <span class=\"score\" id=\"score_28097623\">160 points</span> by <a href=\"user?id=belter\" class=\"hnuser\">belter</a> <span class=\"age\" title=\"2021-08-07T11:03:26\"><a href=\"item?id=28097623\">5 hours ago</a></span> <span id=\"unv_28097623\"></span> | <a href=\"hide?id=28097623&amp;goto=news\">hide</a> | <a href=\"item?id=28097623\">97&nbsp;comments</a>              </td></tr>\n",
      "      <tr class=\"spacer\" style=\"height:5px\"></tr>\n",
      "            <tr class=\"morespace\" style=\"height:10px\"></tr><tr><td colspan=\"2\"></td><td class=\"title\"><a href=\"news?p=2\" class=\"morelink\" rel=\"next\">More</a></td></tr>\n",
      "  </table>\n",
      "</td></tr>\n",
      "<tr><td><img src=\"s.gif\" height=\"10\" width=\"0\"><table width=\"100%\" cellspacing=\"0\" cellpadding=\"1\"><tr><td bgcolor=\"#ff6600\"></td></tr></table><br><center><a href=\"https://www.ycombinator.com/apply/\">\n",
      "        Applications are open for YC Winter 2022\n",
      "      </a></center><br><center><span class=\"yclinks\"><a href=\"newsguidelines.html\">Guidelines</a>\n",
      "        | <a href=\"newsfaq.html\">FAQ</a>\n",
      "        | <a href=\"lists\">Lists</a>\n",
      "        | <a href=\"https://github.com/HackerNews/API\">API</a>\n",
      "        | <a href=\"security.html\">Security</a>\n",
      "        | <a href=\"http://www.ycombinator.com/legal/\">Legal</a>\n",
      "        | <a href=\"http://www.ycombinator.com/apply/\">Apply to YC</a>\n",
      "        | <a href=\"mailto:hn@ycombinator.com\">Contact</a></span><br><br><form method=\"get\" action=\"//hn.algolia.com/\">Search:\n",
      "          <input type=\"text\" name=\"q\" value=\"\" size=\"17\" autocorrect=\"off\" spellcheck=\"false\" autocapitalize=\"off\" autocomplete=\"false\"></form>\n",
      "            </center></td></tr>\n",
      "      </table></center></body><script type='text/javascript' src='hn.js?C7yC4eDsAdgGHWMz9pg3'></script></html>\n",
      "\n"
     ]
    }
   ],
   "source": [
    "url = 'https://news.ycombinator.com/news'\n",
    "res_hack = requests.get(url)\n",
    "print(res_hack)\n",
    "print(res_hack.text)\n",
    "#soup_bb = BeautifulSoup(markup=res_bb.content, features='lxml')"
   ]
  },
  {
   "cell_type": "code",
   "execution_count": 123,
   "metadata": {},
   "outputs": [
    {
     "name": "stdout",
     "output_type": "stream",
     "text": [
      "<html lang=\"en\" op=\"news\"><head><meta content=\"origin\" name=\"referrer\"/><meta content=\"width=device-width, initial-scale=1.0\" name=\"viewport\"/><link href=\"news.css?C7yC4eDsAdgGHWMz9pg3\" rel=\"stylesheet\" type=\"text/css\"/>\n",
      "<link href=\"favicon.ico\" rel=\"shortcut icon\"/>\n",
      "<link href=\"rss\" rel=\"alternate\" title=\"RSS\" type=\"application/rss+xml\"/>\n",
      "<title>Hacker News</title></head><body><center><table bgcolor=\"#f6f6ef\" border=\"0\" cellpadding=\"0\" cellspacing=\"0\" id=\"hnmain\" width=\"85%\">\n",
      "<tr><td bgcolor=\"#ff6600\"><table border=\"0\" cellpadding=\"0\" cellspacing=\"0\" style=\"padding:2px\" width=\"100%\"><tr><td style=\"width:18px;padding-right:4px\"><a href=\"https://news.ycombinator.com\"><img height=\"18\" src=\"y18.gif\" style=\"border:1px white solid;\" width=\"18\"/></a></td>\n",
      "<td style=\"line-height:12pt; height:10px;\"><span class=\"pagetop\"><b class=\"hnname\"><a href=\"news\">Hacker News</a></b>\n",
      "<a href=\"newest\">new</a> | <a href=\"front\">past</a> | <a href=\"newcomments\">comments</a> | <a href=\"ask\">ask</a> | <a href=\"show\">show</a> | <a href=\"jobs\">jobs</a> | <a href=\"submit\">submit</a> </span></td><td style=\"text-align:right;padding-right:4px;\"><span class=\"pagetop\">\n",
      "<a href=\"login?goto=news\">login</a>\n",
      "</span></td>\n",
      "</tr></table></td></tr>\n",
      "<tr id=\"pagespace\" style=\"height:10px\" title=\"\"></tr><tr><td><table border=\"0\" cellpadding=\"0\" cellspacing=\"0\" class=\"itemlist\">\n",
      "<tr class=\"athing\" id=\"28099264\">\n",
      "<td align=\"right\" class=\"title\" valign=\"top\"><span class=\"rank\">1.</span></td> <td class=\"votelinks\" valign=\"top\"><center><a href=\"vote?id=28099264&amp;how=up&amp;goto=news\" id=\"up_28099264\"><div class=\"votearrow\" title=\"upvote\"></div></a></center></td><td class=\"title\"><a class=\"storylink\" href=\"https://www.openwall.com/lists/oss-security/2021/08/07/1\">Bug in Lynx' SSL certificate validation – leaks password in clear text via SNI</a><span class=\"sitebit comhead\"> (<a href=\"from?site=openwall.com\"><span class=\"sitestr\">openwall.com</span></a>)</span></td></tr><tr><td colspan=\"2\"></td><td class=\"subtext\">\n",
      "<span class=\"score\" id=\"score_28099264\">55 points</span> by <a class=\"hnuser\" href=\"user?id=jwilk\">jwilk</a> <span class=\"age\" title=\"2021-08-07T15:26:26\"><a href=\"item?id=28099264\">59 minutes ago</a></span> <span id=\"unv_28099264\"></span> | <a href=\"hide?id=28099264&amp;goto=news\">hide</a> | <a href=\"item?id=28099264\">12 comments</a> </td></tr>\n",
      "<tr class=\"spacer\" style=\"height:5px\"></tr>\n",
      "<tr class=\"athing\" id=\"28098578\">\n",
      "<td align=\"right\" class=\"title\" valign=\"top\"><span class=\"rank\">2.</span></td> <td class=\"votelinks\" valign=\"top\"><center><a href=\"vote?id=28098578&amp;how=up&amp;goto=news\" id=\"up_28098578\"><div class=\"votearrow\" title=\"upvote\"></div></a></center></td><td class=\"title\"><a class=\"storylink\" href=\"https://blog.startifact.com/posts/framework-patterns.html#\">Framework Patterns (2019)</a><span class=\"sitebit comhead\"> (<a href=\"from?site=startifact.com\"><span class=\"sitestr\">startifact.com</span></a>)</span></td></tr><tr><td colspan=\"2\"></td><td class=\"subtext\">\n",
      "<span class=\"score\" id=\"score_28098578\">68 points</span> by <a class=\"hnuser\" href=\"user?id=rbanffy\">rbanffy</a> <span class=\"age\" title=\"2021-08-07T13:51:38\"><a href=\"item?id=28098578\">2 hours ago</a></span> <span id=\"unv_28098578\"></span> | <a href=\"hide?id=28098578&amp;goto=news\">hide</a> | <a href=\"item?id=28098578\">12 comments</a> </td></tr>\n",
      "<tr class=\"spacer\" style=\"height:5px\"></tr>\n",
      "<tr class=\"athing\" id=\"28098853\">\n",
      "<td align=\"right\" class=\"title\" valign=\"top\"><span class=\"rank\">3.</span></td> <td class=\"votelinks\" valign=\"top\"><center><a href=\"vote?id=28098853&amp;how=up&amp;goto=news\" id=\"up_28098853\"><div class=\"votearrow\" title=\"upvote\"></div></a></center></td><td class=\"title\"><a class=\"storylink\" href=\"https://caseyhandmer.wordpress.com/2021/04/25/powering-the-lunar-base/\">Powering the Lunar Base</a><span class=\"sitebit comhead\"> (<a href=\"from?site=caseyhandmer.wordpress.com\"><span class=\"sitestr\">caseyhandmer.wordpress.com</span></a>)</span></td></tr><tr><td colspan=\"2\"></td><td class=\"subtext\">\n",
      "<span class=\"score\" id=\"score_28098853\">46 points</span> by <a class=\"hnuser\" href=\"user?id=mercutio2\">mercutio2</a> <span class=\"age\" title=\"2021-08-07T14:32:31\"><a href=\"item?id=28098853\">1 hour ago</a></span> <span id=\"unv_28098853\"></span> | <a href=\"hide?id=28098853&amp;goto=news\">hide</a> | <a href=\"item?id=28098853\">26 comments</a> </td></tr>\n",
      "<tr class=\"spacer\" style=\"height:5px\"></tr>\n",
      "<tr class=\"athing\" id=\"28068248\">\n",
      "<td align=\"right\" class=\"title\" valign=\"top\"><span class=\"rank\">4.</span></td> <td class=\"votelinks\" valign=\"top\"><center><a href=\"vote?id=28068248&amp;how=up&amp;goto=news\" id=\"up_28068248\"><div class=\"votearrow\" title=\"upvote\"></div></a></center></td><td class=\"title\"><a class=\"storylink\" href=\"https://www.historytoday.com/archive/natural-histories/benjamin-bannekers-broods-cicadas\">Benjamin Banneker’s Broods of Cicadas</a><span class=\"sitebit comhead\"> (<a href=\"from?site=historytoday.com\"><span class=\"sitestr\">historytoday.com</span></a>)</span></td></tr><tr><td colspan=\"2\"></td><td class=\"subtext\">\n",
      "<span class=\"score\" id=\"score_28068248\">17 points</span> by <a class=\"hnuser\" href=\"user?id=Petiver\">Petiver</a> <span class=\"age\" title=\"2021-08-05T00:31:20\"><a href=\"item?id=28068248\">48 minutes ago</a></span> <span id=\"unv_28068248\"></span> | <a href=\"hide?id=28068248&amp;goto=news\">hide</a> | <a href=\"item?id=28068248\">discuss</a> </td></tr>\n",
      "<tr class=\"spacer\" style=\"height:5px\"></tr>\n",
      "<tr class=\"athing\" id=\"28098888\">\n",
      "<td align=\"right\" class=\"title\" valign=\"top\"><span class=\"rank\">5.</span></td> <td class=\"votelinks\" valign=\"top\"><center><a href=\"vote?id=28098888&amp;how=up&amp;goto=news\" id=\"up_28098888\"><div class=\"votearrow\" title=\"upvote\"></div></a></center></td><td class=\"title\"><a class=\"storylink\" href=\"https://www.msn.com/en-us/money/news/qatar-airways-grounds-13-airbus-a350s-as-fuselage-degrading/ar-AAMYDOB\">Qatar Airways grounds 13 Airbus A350s as fuselage degrading</a><span class=\"sitebit comhead\"> (<a href=\"from?site=msn.com\"><span class=\"sitestr\">msn.com</span></a>)</span></td></tr><tr><td colspan=\"2\"></td><td class=\"subtext\">\n",
      "<span class=\"score\" id=\"score_28098888\">51 points</span> by <a class=\"hnuser\" href=\"user?id=jryle70\">jryle70</a> <span class=\"age\" title=\"2021-08-07T14:36:59\"><a href=\"item?id=28098888\">1 hour ago</a></span> <span id=\"unv_28098888\"></span> | <a href=\"hide?id=28098888&amp;goto=news\">hide</a> | <a href=\"item?id=28098888\">20 comments</a> </td></tr>\n",
      "<tr class=\"spacer\" style=\"height:5px\"></tr>\n",
      "<tr class=\"athing\" id=\"28084166\">\n",
      "<td align=\"right\" class=\"title\" valign=\"top\"><span class=\"rank\">6.</span></td> <td class=\"votelinks\" valign=\"top\"><center><a href=\"vote?id=28084166&amp;how=up&amp;goto=news\" id=\"up_28084166\"><div class=\"votearrow\" title=\"upvote\"></div></a></center></td><td class=\"title\"><a class=\"storylink\" href=\"https://www.sciencealert.com/large-body-map-study-suggests-chronic-pain-comes-in-9-distinct-types\">Body mapping study suggests chronic pain comes in nine distinct types</a><span class=\"sitebit comhead\"> (<a href=\"from?site=sciencealert.com\"><span class=\"sitestr\">sciencealert.com</span></a>)</span></td></tr><tr><td colspan=\"2\"></td><td class=\"subtext\">\n",
      "<span class=\"score\" id=\"score_28084166\">121 points</span> by <a class=\"hnuser\" href=\"user?id=lnyan\">lnyan</a> <span class=\"age\" title=\"2021-08-06T07:13:03\"><a href=\"item?id=28084166\">9 hours ago</a></span> <span id=\"unv_28084166\"></span> | <a href=\"hide?id=28084166&amp;goto=news\">hide</a> | <a href=\"item?id=28084166\">22 comments</a> </td></tr>\n",
      "<tr class=\"spacer\" style=\"height:5px\"></tr>\n",
      "<tr class=\"athing\" id=\"28098664\">\n",
      "<td align=\"right\" class=\"title\" valign=\"top\"><span class=\"rank\">7.</span></td> <td class=\"votelinks\" valign=\"top\"><center><a href=\"vote?id=28098664&amp;how=up&amp;goto=news\" id=\"up_28098664\"><div class=\"votearrow\" title=\"upvote\"></div></a></center></td><td class=\"title\"><a class=\"storylink\" href=\"https://www.bloomberg.com/news/articles/2021-08-06/the-era-of-cheap-natural-gas-ends-as-prices-surge-by-1-000\">The Era of Cheap Natural Gas Ends as Prices Surge by 1000%</a><span class=\"sitebit comhead\"> (<a href=\"from?site=bloomberg.com\"><span class=\"sitestr\">bloomberg.com</span></a>)</span></td></tr><tr><td colspan=\"2\"></td><td class=\"subtext\">\n",
      "<span class=\"score\" id=\"score_28098664\">67 points</span> by <a class=\"hnuser\" href=\"user?id=montalbano\">montalbano</a> <span class=\"age\" title=\"2021-08-07T14:04:17\"><a href=\"item?id=28098664\">2 hours ago</a></span> <span id=\"unv_28098664\"></span> | <a href=\"hide?id=28098664&amp;goto=news\">hide</a> | <a href=\"item?id=28098664\">46 comments</a> </td></tr>\n",
      "<tr class=\"spacer\" style=\"height:5px\"></tr>\n",
      "<tr class=\"athing\" id=\"28096493\">\n",
      "<td align=\"right\" class=\"title\" valign=\"top\"><span class=\"rank\">8.</span></td> <td class=\"votelinks\" valign=\"top\"><center><a href=\"vote?id=28096493&amp;how=up&amp;goto=news\" id=\"up_28096493\"><div class=\"votearrow\" title=\"upvote\"></div></a></center></td><td class=\"title\"><a class=\"storylink\" href=\"https://pandas.pydata.org/pandas-docs/stable/pandas.pdf\">Pandas Manual [pdf]</a><span class=\"sitebit comhead\"> (<a href=\"from?site=pydata.org\"><span class=\"sitestr\">pydata.org</span></a>)</span></td></tr><tr><td colspan=\"2\"></td><td class=\"subtext\">\n",
      "<span class=\"score\" id=\"score_28096493\">30 points</span> by <a class=\"hnuser\" href=\"user?id=garren\">garren</a> <span class=\"age\" title=\"2021-08-07T07:16:59\"><a href=\"item?id=28096493\">4 hours ago</a></span> <span id=\"unv_28096493\"></span> | <a href=\"hide?id=28096493&amp;goto=news\">hide</a> | <a href=\"item?id=28096493\">17 comments</a> </td></tr>\n",
      "<tr class=\"spacer\" style=\"height:5px\"></tr>\n",
      "<tr class=\"athing\" id=\"28083440\">\n",
      "<td align=\"right\" class=\"title\" valign=\"top\"><span class=\"rank\">9.</span></td> <td class=\"votelinks\" valign=\"top\"><center><a href=\"vote?id=28083440&amp;how=up&amp;goto=news\" id=\"up_28083440\"><div class=\"votearrow\" title=\"upvote\"></div></a></center></td><td class=\"title\"><a class=\"storylink\" href=\"https://acoup.blog/2021/08/06/referenda-ad-senatum-august-6-2021-feelings-at-the-fall-of-the-republic-ancient-and-medieval-living-standards-and-zombies/\">Feelings at the Fall of the Republic, Ancient and Medieval Living Standards</a><span class=\"sitebit comhead\"> (<a href=\"from?site=acoup.blog\"><span class=\"sitestr\">acoup.blog</span></a>)</span></td></tr><tr><td colspan=\"2\"></td><td class=\"subtext\">\n",
      "<span class=\"score\" id=\"score_28083440\">86 points</span> by <a class=\"hnuser\" href=\"user?id=parsecs\">parsecs</a> <span class=\"age\" title=\"2021-08-06T04:52:52\"><a href=\"item?id=28083440\">8 hours ago</a></span> <span id=\"unv_28083440\"></span> | <a href=\"hide?id=28083440&amp;goto=news\">hide</a> | <a href=\"item?id=28083440\">32 comments</a> </td></tr>\n",
      "<tr class=\"spacer\" style=\"height:5px\"></tr>\n",
      "<tr class=\"athing\" id=\"28096710\">\n",
      "<td align=\"right\" class=\"title\" valign=\"top\"><span class=\"rank\">10.</span></td> <td class=\"votelinks\" valign=\"top\"><center><a href=\"vote?id=28096710&amp;how=up&amp;goto=news\" id=\"up_28096710\"><div class=\"votearrow\" title=\"upvote\"></div></a></center></td><td class=\"title\"><a class=\"storylink\" href=\"https://i.blackhat.com/USA21/Wednesday-Handouts/us-21-Everything-Has-Changed-In-IOS-14-But-Jailbreak-Is-Eternal.pdf\">Everything has changed in iOS 14, but Jailbreak is eternal [pdf]</a><span class=\"sitebit comhead\"> (<a href=\"from?site=blackhat.com\"><span class=\"sitestr\">blackhat.com</span></a>)</span></td></tr><tr><td colspan=\"2\"></td><td class=\"subtext\">\n",
      "<span class=\"score\" id=\"score_28096710\">62 points</span> by <a class=\"hnuser\" href=\"user?id=clubdorothe\">clubdorothe</a> <span class=\"age\" title=\"2021-08-07T07:53:09\"><a href=\"item?id=28096710\">8 hours ago</a></span> <span id=\"unv_28096710\"></span> | <a href=\"hide?id=28096710&amp;goto=news\">hide</a> | <a href=\"item?id=28096710\">4 comments</a> </td></tr>\n",
      "<tr class=\"spacer\" style=\"height:5px\"></tr>\n",
      "<tr class=\"athing\" id=\"28098658\">\n",
      "<td align=\"right\" class=\"title\" valign=\"top\"><span class=\"rank\">11.</span></td> <td class=\"votelinks\" valign=\"top\"><center><a href=\"vote?id=28098658&amp;how=up&amp;goto=news\" id=\"up_28098658\"><div class=\"votearrow\" title=\"upvote\"></div></a></center></td><td class=\"title\"><a class=\"storylink\" href=\"https://www.theblaze.com/news/nasa-is-looking-for-people-who-want-to-spend-a-year-simulating-a-mission-on-mars\">NASA is looking for people who want to spend a year simulating a mission on Mars</a><span class=\"sitebit comhead\"> (<a href=\"from?site=theblaze.com\"><span class=\"sitestr\">theblaze.com</span></a>)</span></td></tr><tr><td colspan=\"2\"></td><td class=\"subtext\">\n",
      "<span class=\"score\" id=\"score_28098658\">52 points</span> by <a class=\"hnuser\" href=\"user?id=RickJWagner\">RickJWagner</a> <span class=\"age\" title=\"2021-08-07T14:03:16\"><a href=\"item?id=28098658\">2 hours ago</a></span> <span id=\"unv_28098658\"></span> | <a href=\"hide?id=28098658&amp;goto=news\">hide</a> | <a href=\"item?id=28098658\">31 comments</a> </td></tr>\n",
      "<tr class=\"spacer\" style=\"height:5px\"></tr>\n",
      "<tr class=\"athing\" id=\"28085642\">\n",
      "<td align=\"right\" class=\"title\" valign=\"top\"><span class=\"rank\">12.</span></td> <td class=\"votelinks\" valign=\"top\"><center><a href=\"vote?id=28085642&amp;how=up&amp;goto=news\" id=\"up_28085642\"><div class=\"votearrow\" title=\"upvote\"></div></a></center></td><td class=\"title\"><a class=\"storylink\" href=\"item?id=28085642\">Incorrect expression calculation between programming languages</a></td></tr><tr><td colspan=\"2\"></td><td class=\"subtext\">\n",
      "<span class=\"score\" id=\"score_28085642\">17 points</span> by <a class=\"hnuser\" href=\"user?id=mingodad\">mingodad</a> <span class=\"age\" title=\"2021-08-06T11:24:11\"><a href=\"item?id=28085642\">3 hours ago</a></span> <span id=\"unv_28085642\"></span> | <a href=\"hide?id=28085642&amp;goto=news\">hide</a> | <a href=\"item?id=28085642\">13 comments</a> </td></tr>\n",
      "<tr class=\"spacer\" style=\"height:5px\"></tr>\n",
      "<tr class=\"athing\" id=\"28085920\">\n",
      "<td align=\"right\" class=\"title\" valign=\"top\"><span class=\"rank\">13.</span></td> <td class=\"votelinks\" valign=\"top\"><center><a href=\"vote?id=28085920&amp;how=up&amp;goto=news\" id=\"up_28085920\"><div class=\"votearrow\" title=\"upvote\"></div></a></center></td><td class=\"title\"><a class=\"storylink\" href=\"https://papertime.app\">Show HN: Paper Time – Listen to abstracts of CS papers, like a custom podcast</a><span class=\"sitebit comhead\"> (<a href=\"from?site=papertime.app\"><span class=\"sitestr\">papertime.app</span></a>)</span></td></tr><tr><td colspan=\"2\"></td><td class=\"subtext\">\n",
      "<span class=\"score\" id=\"score_28085920\">123 points</span> by <a class=\"hnuser\" href=\"user?id=pramodbiligiri\">pramodbiligiri</a> <span class=\"age\" title=\"2021-08-06T11:59:30\"><a href=\"item?id=28085920\">13 hours ago</a></span> <span id=\"unv_28085920\"></span> | <a href=\"hide?id=28085920&amp;goto=news\">hide</a> | <a href=\"item?id=28085920\">29 comments</a> </td></tr>\n",
      "<tr class=\"spacer\" style=\"height:5px\"></tr>\n",
      "<tr class=\"athing\" id=\"28097927\">\n",
      "<td align=\"right\" class=\"title\" valign=\"top\"><span class=\"rank\">14.</span></td> <td></td><td class=\"title\"><a class=\"storylink\" href=\"https://upchieve.welcomekit.co/jobs/mobile-engineer_brooklyn\" rel=\"nofollow\">UPchieve (YC W21) is hiring a mobile engineer to democratize free tutoring</a><span class=\"sitebit comhead\"> (<a href=\"from?site=welcomekit.co\"><span class=\"sitestr\">welcomekit.co</span></a>)</span></td></tr><tr><td colspan=\"2\"></td><td class=\"subtext\">\n",
      "<span class=\"age\" title=\"2021-08-07T12:00:47\"><a href=\"item?id=28097927\">4 hours ago</a></span> | <a href=\"hide?id=28097927&amp;goto=news\">hide</a> </td></tr>\n",
      "<tr class=\"spacer\" style=\"height:5px\"></tr>\n",
      "<tr class=\"athing\" id=\"28085526\">\n",
      "<td align=\"right\" class=\"title\" valign=\"top\"><span class=\"rank\">15.</span></td> <td class=\"votelinks\" valign=\"top\"><center><a href=\"vote?id=28085526&amp;how=up&amp;goto=news\" id=\"up_28085526\"><div class=\"votearrow\" title=\"upvote\"></div></a></center></td><td class=\"title\"><a class=\"storylink\" href=\"https://psyche.co/ideas/in-praise-of-habits-so-much-more-than-mindless-reflexes\">In praise of habits</a><span class=\"sitebit comhead\"> (<a href=\"from?site=psyche.co\"><span class=\"sitestr\">psyche.co</span></a>)</span></td></tr><tr><td colspan=\"2\"></td><td class=\"subtext\">\n",
      "<span class=\"score\" id=\"score_28085526\">51 points</span> by <a class=\"hnuser\" href=\"user?id=pseudolus\">pseudolus</a> <span class=\"age\" title=\"2021-08-06T11:06:28\"><a href=\"item?id=28085526\">7 hours ago</a></span> <span id=\"unv_28085526\"></span> | <a href=\"hide?id=28085526&amp;goto=news\">hide</a> | <a href=\"item?id=28085526\">3 comments</a> </td></tr>\n",
      "<tr class=\"spacer\" style=\"height:5px\"></tr>\n",
      "<tr class=\"athing\" id=\"28097600\">\n",
      "<td align=\"right\" class=\"title\" valign=\"top\"><span class=\"rank\">16.</span></td> <td class=\"votelinks\" valign=\"top\"><center><a href=\"vote?id=28097600&amp;how=up&amp;goto=news\" id=\"up_28097600\"><div class=\"votearrow\" title=\"upvote\"></div></a></center></td><td class=\"title\"><a class=\"storylink\" href=\"https://www.servethehome.com/planning-for-servers-in-2022-and-beyond-series/\">Planning for Servers in 2022 and Beyond</a><span class=\"sitebit comhead\"> (<a href=\"from?site=servethehome.com\"><span class=\"sitestr\">servethehome.com</span></a>)</span></td></tr><tr><td colspan=\"2\"></td><td class=\"subtext\">\n",
      "<span class=\"score\" id=\"score_28097600\">28 points</span> by <a class=\"hnuser\" href=\"user?id=vanburen\">vanburen</a> <span class=\"age\" title=\"2021-08-07T10:57:41\"><a href=\"item?id=28097600\">5 hours ago</a></span> <span id=\"unv_28097600\"></span> | <a href=\"hide?id=28097600&amp;goto=news\">hide</a> | <a href=\"item?id=28097600\">4 comments</a> </td></tr>\n",
      "<tr class=\"spacer\" style=\"height:5px\"></tr>\n",
      "<tr class=\"athing\" id=\"28095632\">\n",
      "<td align=\"right\" class=\"title\" valign=\"top\"><span class=\"rank\">17.</span></td> <td class=\"votelinks\" valign=\"top\"><center><a href=\"vote?id=28095632&amp;how=up&amp;goto=news\" id=\"up_28095632\"><div class=\"votearrow\" title=\"upvote\"></div></a></center></td><td class=\"title\"><a class=\"storylink\" href=\"https://www.nzz.ch/english/swiss-phd-students-dismissal-spotlights-chinas-influence-ld.1638771\">Swiss Ph.D student’s dismissal spotlights China’s influence</a><span class=\"sitebit comhead\"> (<a href=\"from?site=nzz.ch\"><span class=\"sitestr\">nzz.ch</span></a>)</span></td></tr><tr><td colspan=\"2\"></td><td class=\"subtext\">\n",
      "<span class=\"score\" id=\"score_28095632\">543 points</span> by <a class=\"hnuser\" href=\"user?id=ipnon\">ipnon</a> <span class=\"age\" title=\"2021-08-07T04:13:49\"><a href=\"item?id=28095632\">12 hours ago</a></span> <span id=\"unv_28095632\"></span> | <a href=\"hide?id=28095632&amp;goto=news\">hide</a> | <a href=\"item?id=28095632\">269 comments</a> </td></tr>\n",
      "<tr class=\"spacer\" style=\"height:5px\"></tr>\n",
      "<tr class=\"athing\" id=\"28084861\">\n",
      "<td align=\"right\" class=\"title\" valign=\"top\"><span class=\"rank\">18.</span></td> <td class=\"votelinks\" valign=\"top\"><center><a href=\"vote?id=28084861&amp;how=up&amp;goto=news\" id=\"up_28084861\"><div class=\"votearrow\" title=\"upvote\"></div></a></center></td><td class=\"title\"><a class=\"storylink\" href=\"https://www.theguardian.com/news/2018/sep/18/a-giant-crawling-brain-the-jaw-dropping-world-of-termites\">A giant crawling brain: the world of termites (2018)</a><span class=\"sitebit comhead\"> (<a href=\"from?site=theguardian.com\"><span class=\"sitestr\">theguardian.com</span></a>)</span></td></tr><tr><td colspan=\"2\"></td><td class=\"subtext\">\n",
      "<span class=\"score\" id=\"score_28084861\">58 points</span> by <a class=\"hnuser\" href=\"user?id=NotSwift\">NotSwift</a> <span class=\"age\" title=\"2021-08-06T09:15:34\"><a href=\"item?id=28084861\">11 hours ago</a></span> <span id=\"unv_28084861\"></span> | <a href=\"hide?id=28084861&amp;goto=news\">hide</a> | <a href=\"item?id=28084861\">7 comments</a> </td></tr>\n",
      "<tr class=\"spacer\" style=\"height:5px\"></tr>\n",
      "<tr class=\"athing\" id=\"28090024\">\n",
      "<td align=\"right\" class=\"title\" valign=\"top\"><span class=\"rank\">19.</span></td> <td class=\"votelinks\" valign=\"top\"><center><a href=\"vote?id=28090024&amp;how=up&amp;goto=news\" id=\"up_28090024\"><div class=\"votearrow\" title=\"upvote\"></div></a></center></td><td class=\"title\"><a class=\"storylink\" href=\"https://calyxos.org/\">CalyxOS – De-Googled Android Alternative</a><span class=\"sitebit comhead\"> (<a href=\"from?site=calyxos.org\"><span class=\"sitestr\">calyxos.org</span></a>)</span></td></tr><tr><td colspan=\"2\"></td><td class=\"subtext\">\n",
      "<span class=\"score\" id=\"score_28090024\">873 points</span> by <a class=\"hnuser\" href=\"user?id=ssklash\">ssklash</a> <span class=\"age\" title=\"2021-08-06T17:07:36\"><a href=\"item?id=28090024\">23 hours ago</a></span> <span id=\"unv_28090024\"></span> | <a href=\"hide?id=28090024&amp;goto=news\">hide</a> | <a href=\"item?id=28090024\">422 comments</a> </td></tr>\n",
      "<tr class=\"spacer\" style=\"height:5px\"></tr>\n",
      "<tr class=\"athing\" id=\"28097675\">\n",
      "<td align=\"right\" class=\"title\" valign=\"top\"><span class=\"rank\">20.</span></td> <td class=\"votelinks\" valign=\"top\"><center><a href=\"vote?id=28097675&amp;how=up&amp;goto=news\" id=\"up_28097675\"><div class=\"votearrow\" title=\"upvote\"></div></a></center></td><td class=\"title\"><a class=\"storylink\" href=\"https://www.bbc.co.uk/news/uk-scotland-tayside-central-58056235\">Capturing the Disappearing Sounds of the Workplace</a><span class=\"sitebit comhead\"> (<a href=\"from?site=bbc.co.uk\"><span class=\"sitestr\">bbc.co.uk</span></a>)</span></td></tr><tr><td colspan=\"2\"></td><td class=\"subtext\">\n",
      "<span class=\"score\" id=\"score_28097675\">13 points</span> by <a class=\"hnuser\" href=\"user?id=Kaibeezy\">Kaibeezy</a> <span class=\"age\" title=\"2021-08-07T11:17:18\"><a href=\"item?id=28097675\">5 hours ago</a></span> <span id=\"unv_28097675\"></span> | <a href=\"hide?id=28097675&amp;goto=news\">hide</a> | <a href=\"item?id=28097675\">3 comments</a> </td></tr>\n",
      "<tr class=\"spacer\" style=\"height:5px\"></tr>\n",
      "<tr class=\"athing\" id=\"28091750\">\n",
      "<td align=\"right\" class=\"title\" valign=\"top\"><span class=\"rank\">21.</span></td> <td class=\"votelinks\" valign=\"top\"><center><a href=\"vote?id=28091750&amp;how=up&amp;goto=news\" id=\"up_28091750\"><div class=\"votearrow\" title=\"upvote\"></div></a></center></td><td class=\"title\"><a class=\"storylink\" href=\"https://rentafounder.com/the-problem-with-perceptual-hashes/\">The Problem with Perceptual Hashes</a><span class=\"sitebit comhead\"> (<a href=\"from?site=rentafounder.com\"><span class=\"sitestr\">rentafounder.com</span></a>)</span></td></tr><tr><td colspan=\"2\"></td><td class=\"subtext\">\n",
      "<span class=\"score\" id=\"score_28091750\">588 points</span> by <a class=\"hnuser\" href=\"user?id=rivo\">rivo</a> <span class=\"age\" title=\"2021-08-06T19:29:18\"><a href=\"item?id=28091750\">20 hours ago</a></span> <span id=\"unv_28091750\"></span> | <a href=\"hide?id=28091750&amp;goto=news\">hide</a> | <a href=\"item?id=28091750\">340 comments</a> </td></tr>\n",
      "<tr class=\"spacer\" style=\"height:5px\"></tr>\n",
      "<tr class=\"athing\" id=\"28098803\">\n",
      "<td align=\"right\" class=\"title\" valign=\"top\"><span class=\"rank\">22.</span></td> <td class=\"votelinks\" valign=\"top\"><center><a href=\"vote?id=28098803&amp;how=up&amp;goto=news\" id=\"up_28098803\"><div class=\"votearrow\" title=\"upvote\"></div></a></center></td><td class=\"title\"><a class=\"storylink\" href=\"https://thehill.com/changing-america/sustainability/climate-change/566674-scientists-make-shocking-discovery-of-dead\">Scientists make discovery of dead zones where nothing can live on two US coasts</a><span class=\"sitebit comhead\"> (<a href=\"from?site=thehill.com\"><span class=\"sitestr\">thehill.com</span></a>)</span></td></tr><tr><td colspan=\"2\"></td><td class=\"subtext\">\n",
      "<span class=\"score\" id=\"score_28098803\">14 points</span> by <a class=\"hnuser\" href=\"user?id=DocFeind\">DocFeind</a> <span class=\"age\" title=\"2021-08-07T14:24:59\"><a href=\"item?id=28098803\">2 hours ago</a></span> <span id=\"unv_28098803\"></span> | <a href=\"hide?id=28098803&amp;goto=news\">hide</a> | <a href=\"item?id=28098803\">discuss</a> </td></tr>\n",
      "<tr class=\"spacer\" style=\"height:5px\"></tr>\n",
      "<tr class=\"athing\" id=\"28098047\">\n",
      "<td align=\"right\" class=\"title\" valign=\"top\"><span class=\"rank\">23.</span></td> <td class=\"votelinks\" valign=\"top\"><center><a href=\"vote?id=28098047&amp;how=up&amp;goto=news\" id=\"up_28098047\"><div class=\"votearrow\" title=\"upvote\"></div></a></center></td><td class=\"title\"><a class=\"storylink\" href=\"https://www.artnews.com/art-news/news/oldest-mint-spade-coins-chinese-foundry-1234601047/\">World’s Oldest Coin Mint Discovered in 2,800-Year-Old Chinese Foundry</a><span class=\"sitebit comhead\"> (<a href=\"from?site=artnews.com\"><span class=\"sitestr\">artnews.com</span></a>)</span></td></tr><tr><td colspan=\"2\"></td><td class=\"subtext\">\n",
      "<span class=\"score\" id=\"score_28098047\">31 points</span> by <a class=\"hnuser\" href=\"user?id=pseudolus\">pseudolus</a> <span class=\"age\" title=\"2021-08-07T12:20:04\"><a href=\"item?id=28098047\">4 hours ago</a></span> <span id=\"unv_28098047\"></span> | <a href=\"hide?id=28098047&amp;goto=news\">hide</a> | <a href=\"item?id=28098047\">2 comments</a> </td></tr>\n",
      "<tr class=\"spacer\" style=\"height:5px\"></tr>\n",
      "<tr class=\"athing\" id=\"28084319\">\n",
      "<td align=\"right\" class=\"title\" valign=\"top\"><span class=\"rank\">24.</span></td> <td class=\"votelinks\" valign=\"top\"><center><a href=\"vote?id=28084319&amp;how=up&amp;goto=news\" id=\"up_28084319\"><div class=\"votearrow\" title=\"upvote\"></div></a></center></td><td class=\"title\"><a class=\"storylink\" href=\"https://dantheclamman.blog/2020/07/04/the-mystery-of-the-giant-clams-of-the-red-sea-and-indian-ocean/\">The Mystery of the Giant Clams of the Red Sea and Indian Ocean (2020)</a><span class=\"sitebit comhead\"> (<a href=\"from?site=dantheclamman.blog\"><span class=\"sitestr\">dantheclamman.blog</span></a>)</span></td></tr><tr><td colspan=\"2\"></td><td class=\"subtext\">\n",
      "<span class=\"score\" id=\"score_28084319\">63 points</span> by <a class=\"hnuser\" href=\"user?id=dan-robertson\">dan-robertson</a> <span class=\"age\" title=\"2021-08-06T07:42:41\"><a href=\"item?id=28084319\">12 hours ago</a></span> <span id=\"unv_28084319\"></span> | <a href=\"hide?id=28084319&amp;goto=news\">hide</a> | <a href=\"item?id=28084319\">5 comments</a> </td></tr>\n",
      "<tr class=\"spacer\" style=\"height:5px\"></tr>\n",
      "<tr class=\"athing\" id=\"28095173\">\n",
      "<td align=\"right\" class=\"title\" valign=\"top\"><span class=\"rank\">25.</span></td> <td class=\"votelinks\" valign=\"top\"><center><a href=\"vote?id=28095173&amp;how=up&amp;goto=news\" id=\"up_28095173\"><div class=\"votearrow\" title=\"upvote\"></div></a></center></td><td class=\"title\"><a class=\"storylink\" href=\"https://jfloren.net/b/2021/8/6/1\">A USB adapter for a classic Depraz mouse</a><span class=\"sitebit comhead\"> (<a href=\"from?site=jfloren.net\"><span class=\"sitestr\">jfloren.net</span></a>)</span></td></tr><tr><td colspan=\"2\"></td><td class=\"subtext\">\n",
      "<span class=\"score\" id=\"score_28095173\">69 points</span> by <a class=\"hnuser\" href=\"user?id=floren\">floren</a> <span class=\"age\" title=\"2021-08-07T02:34:37\"><a href=\"item?id=28095173\">13 hours ago</a></span> <span id=\"unv_28095173\"></span> | <a href=\"hide?id=28095173&amp;goto=news\">hide</a> | <a href=\"item?id=28095173\">21 comments</a> </td></tr>\n",
      "<tr class=\"spacer\" style=\"height:5px\"></tr>\n",
      "<tr class=\"athing\" id=\"28097639\">\n",
      "<td align=\"right\" class=\"title\" valign=\"top\"><span class=\"rank\">26.</span></td> <td class=\"votelinks\" valign=\"top\"><center><a href=\"vote?id=28097639&amp;how=up&amp;goto=news\" id=\"up_28097639\"><div class=\"votearrow\" title=\"upvote\"></div></a></center></td><td class=\"title\"><a class=\"storylink\" href=\"https://utcc.utoronto.ca/~cks/space/blog/tech/NewTLDsMyMixedViews\">Mixed views on new DNS top level domains</a><span class=\"sitebit comhead\"> (<a href=\"from?site=utoronto.ca\"><span class=\"sitestr\">utoronto.ca</span></a>)</span></td></tr><tr><td colspan=\"2\"></td><td class=\"subtext\">\n",
      "<span class=\"score\" id=\"score_28097639\">28 points</span> by <a class=\"hnuser\" href=\"user?id=pcr910303\">pcr910303</a> <span class=\"age\" title=\"2021-08-07T11:07:33\"><a href=\"item?id=28097639\">5 hours ago</a></span> <span id=\"unv_28097639\"></span> | <a href=\"hide?id=28097639&amp;goto=news\">hide</a> | <a href=\"item?id=28097639\">18 comments</a> </td></tr>\n",
      "<tr class=\"spacer\" style=\"height:5px\"></tr>\n",
      "<tr class=\"athing\" id=\"28096512\">\n",
      "<td align=\"right\" class=\"title\" valign=\"top\"><span class=\"rank\">27.</span></td> <td class=\"votelinks\" valign=\"top\"><center><a href=\"vote?id=28096512&amp;how=up&amp;goto=news\" id=\"up_28096512\"><div class=\"votearrow\" title=\"upvote\"></div></a></center></td><td class=\"title\"><a class=\"storylink\" href=\"https://www.economist.com/briefing/2021/08/07/open-source-intelligence-challenges-state-monopolies-on-information\">Open-source intelligence challenges state monopolies on information</a><span class=\"sitebit comhead\"> (<a href=\"from?site=economist.com\"><span class=\"sitestr\">economist.com</span></a>)</span></td></tr><tr><td colspan=\"2\"></td><td class=\"subtext\">\n",
      "<span class=\"score\" id=\"score_28096512\">113 points</span> by <a class=\"hnuser\" href=\"user?id=helsinkiandrew\">helsinkiandrew</a> <span class=\"age\" title=\"2021-08-07T07:21:56\"><a href=\"item?id=28096512\">9 hours ago</a></span> <span id=\"unv_28096512\"></span> | <a href=\"hide?id=28096512&amp;goto=news\">hide</a> | <a href=\"item?id=28096512\">14 comments</a> </td></tr>\n",
      "<tr class=\"spacer\" style=\"height:5px\"></tr>\n",
      "<tr class=\"athing\" id=\"28094966\">\n",
      "<td align=\"right\" class=\"title\" valign=\"top\"><span class=\"rank\">28.</span></td> <td class=\"votelinks\" valign=\"top\"><center><a href=\"vote?id=28094966&amp;how=up&amp;goto=news\" id=\"up_28094966\"><div class=\"votearrow\" title=\"upvote\"></div></a></center></td><td class=\"title\"><a class=\"storylink\" href=\"https://hwp-viz.gsd.esrl.noaa.gov/smoke/index.html\">NOAA Smoke Forecast Model Visualization</a><span class=\"sitebit comhead\"> (<a href=\"from?site=noaa.gov\"><span class=\"sitestr\">noaa.gov</span></a>)</span></td></tr><tr><td colspan=\"2\"></td><td class=\"subtext\">\n",
      "<span class=\"score\" id=\"score_28094966\">73 points</span> by <a class=\"hnuser\" href=\"user?id=pizza\">pizza</a> <span class=\"age\" title=\"2021-08-07T01:53:30\"><a href=\"item?id=28094966\">14 hours ago</a></span> <span id=\"unv_28094966\"></span> | <a href=\"hide?id=28094966&amp;goto=news\">hide</a> | <a href=\"item?id=28094966\">8 comments</a> </td></tr>\n",
      "<tr class=\"spacer\" style=\"height:5px\"></tr>\n",
      "<tr class=\"athing\" id=\"28095648\">\n",
      "<td align=\"right\" class=\"title\" valign=\"top\"><span class=\"rank\">29.</span></td> <td class=\"votelinks\" valign=\"top\"><center><a href=\"vote?id=28095648&amp;how=up&amp;goto=news\" id=\"up_28095648\"><div class=\"votearrow\" title=\"upvote\"></div></a></center></td><td class=\"title\"><a class=\"storylink\" href=\"https://www.architecturaldigest.com/story/worlds-largest-astronomy-museum-opens-doors\">The World’s Largest Astronomy Museum Opens Its Doors</a><span class=\"sitebit comhead\"> (<a href=\"from?site=architecturaldigest.com\"><span class=\"sitestr\">architecturaldigest.com</span></a>)</span></td></tr><tr><td colspan=\"2\"></td><td class=\"subtext\">\n",
      "<span class=\"score\" id=\"score_28095648\">44 points</span> by <a class=\"hnuser\" href=\"user?id=fortran77\">fortran77</a> <span class=\"age\" title=\"2021-08-07T04:18:06\"><a href=\"item?id=28095648\">12 hours ago</a></span> <span id=\"unv_28095648\"></span> | <a href=\"hide?id=28095648&amp;goto=news\">hide</a> | <a href=\"item?id=28095648\">1 comment</a> </td></tr>\n",
      "<tr class=\"spacer\" style=\"height:5px\"></tr>\n",
      "<tr class=\"athing\" id=\"28097623\">\n",
      "<td align=\"right\" class=\"title\" valign=\"top\"><span class=\"rank\">30.</span></td> <td class=\"votelinks\" valign=\"top\"><center><a href=\"vote?id=28097623&amp;how=up&amp;goto=news\" id=\"up_28097623\"><div class=\"votearrow\" title=\"upvote\"></div></a></center></td><td class=\"title\"><a class=\"storylink\" href=\"https://techcrunch.com/2021/08/06/crypto-biden-amendment-infrastructure-bill-proof-of-work/\">Crypto community slams ‘disastrous’ new amendment to big infrastructure bill</a><span class=\"sitebit comhead\"> (<a href=\"from?site=techcrunch.com\"><span class=\"sitestr\">techcrunch.com</span></a>)</span></td></tr><tr><td colspan=\"2\"></td><td class=\"subtext\">\n",
      "<span class=\"score\" id=\"score_28097623\">160 points</span> by <a class=\"hnuser\" href=\"user?id=belter\">belter</a> <span class=\"age\" title=\"2021-08-07T11:03:26\"><a href=\"item?id=28097623\">5 hours ago</a></span> <span id=\"unv_28097623\"></span> | <a href=\"hide?id=28097623&amp;goto=news\">hide</a> | <a href=\"item?id=28097623\">97 comments</a> </td></tr>\n",
      "<tr class=\"spacer\" style=\"height:5px\"></tr>\n",
      "<tr class=\"morespace\" style=\"height:10px\"></tr><tr><td colspan=\"2\"></td><td class=\"title\"><a class=\"morelink\" href=\"news?p=2\" rel=\"next\">More</a></td></tr>\n",
      "</table>\n",
      "</td></tr>\n",
      "<tr><td><img height=\"10\" src=\"s.gif\" width=\"0\"/><table cellpadding=\"1\" cellspacing=\"0\" width=\"100%\"><tr><td bgcolor=\"#ff6600\"></td></tr></table><br/><center><a href=\"https://www.ycombinator.com/apply/\">\n",
      "        Applications are open for YC Winter 2022\n",
      "      </a></center><br/><center><span class=\"yclinks\"><a href=\"newsguidelines.html\">Guidelines</a>\n",
      "        | <a href=\"newsfaq.html\">FAQ</a>\n",
      "        | <a href=\"lists\">Lists</a>\n",
      "        | <a href=\"https://github.com/HackerNews/API\">API</a>\n",
      "        | <a href=\"security.html\">Security</a>\n",
      "        | <a href=\"http://www.ycombinator.com/legal/\">Legal</a>\n",
      "        | <a href=\"http://www.ycombinator.com/apply/\">Apply to YC</a>\n",
      "        | <a href=\"mailto:hn@ycombinator.com\">Contact</a></span><br/><br/><form action=\"//hn.algolia.com/\" method=\"get\">Search:\n",
      "          <input autocapitalize=\"off\" autocomplete=\"false\" autocorrect=\"off\" name=\"q\" size=\"17\" spellcheck=\"false\" type=\"text\" value=\"\"/></form>\n",
      "</center></td></tr>\n",
      "</table></center></body><script src=\"hn.js?C7yC4eDsAdgGHWMz9pg3\" type=\"text/javascript\"></script></html>\n",
      "\n"
     ]
    }
   ],
   "source": [
    "# This allows us to parse the information above by converting the string above into an object\n",
    "\n",
    "soup = BeautifulSoup(markup=res_hack.text, features='html.parser')\n",
    "print(soup)"
   ]
  },
  {
   "cell_type": "code",
   "execution_count": 124,
   "metadata": {},
   "outputs": [
    {
     "data": {
      "text/plain": [
       "[<center><table bgcolor=\"#f6f6ef\" border=\"0\" cellpadding=\"0\" cellspacing=\"0\" id=\"hnmain\" width=\"85%\">\n",
       " <tr><td bgcolor=\"#ff6600\"><table border=\"0\" cellpadding=\"0\" cellspacing=\"0\" style=\"padding:2px\" width=\"100%\"><tr><td style=\"width:18px;padding-right:4px\"><a href=\"https://news.ycombinator.com\"><img height=\"18\" src=\"y18.gif\" style=\"border:1px white solid;\" width=\"18\"/></a></td>\n",
       " <td style=\"line-height:12pt; height:10px;\"><span class=\"pagetop\"><b class=\"hnname\"><a href=\"news\">Hacker News</a></b>\n",
       " <a href=\"newest\">new</a> | <a href=\"front\">past</a> | <a href=\"newcomments\">comments</a> | <a href=\"ask\">ask</a> | <a href=\"show\">show</a> | <a href=\"jobs\">jobs</a> | <a href=\"submit\">submit</a> </span></td><td style=\"text-align:right;padding-right:4px;\"><span class=\"pagetop\">\n",
       " <a href=\"login?goto=news\">login</a>\n",
       " </span></td>\n",
       " </tr></table></td></tr>\n",
       " <tr id=\"pagespace\" style=\"height:10px\" title=\"\"></tr><tr><td><table border=\"0\" cellpadding=\"0\" cellspacing=\"0\" class=\"itemlist\">\n",
       " <tr class=\"athing\" id=\"28099264\">\n",
       " <td align=\"right\" class=\"title\" valign=\"top\"><span class=\"rank\">1.</span></td> <td class=\"votelinks\" valign=\"top\"><center><a href=\"vote?id=28099264&amp;how=up&amp;goto=news\" id=\"up_28099264\"><div class=\"votearrow\" title=\"upvote\"></div></a></center></td><td class=\"title\"><a class=\"storylink\" href=\"https://www.openwall.com/lists/oss-security/2021/08/07/1\">Bug in Lynx' SSL certificate validation – leaks password in clear text via SNI</a><span class=\"sitebit comhead\"> (<a href=\"from?site=openwall.com\"><span class=\"sitestr\">openwall.com</span></a>)</span></td></tr><tr><td colspan=\"2\"></td><td class=\"subtext\">\n",
       " <span class=\"score\" id=\"score_28099264\">55 points</span> by <a class=\"hnuser\" href=\"user?id=jwilk\">jwilk</a> <span class=\"age\" title=\"2021-08-07T15:26:26\"><a href=\"item?id=28099264\">59 minutes ago</a></span> <span id=\"unv_28099264\"></span> | <a href=\"hide?id=28099264&amp;goto=news\">hide</a> | <a href=\"item?id=28099264\">12 comments</a> </td></tr>\n",
       " <tr class=\"spacer\" style=\"height:5px\"></tr>\n",
       " <tr class=\"athing\" id=\"28098578\">\n",
       " <td align=\"right\" class=\"title\" valign=\"top\"><span class=\"rank\">2.</span></td> <td class=\"votelinks\" valign=\"top\"><center><a href=\"vote?id=28098578&amp;how=up&amp;goto=news\" id=\"up_28098578\"><div class=\"votearrow\" title=\"upvote\"></div></a></center></td><td class=\"title\"><a class=\"storylink\" href=\"https://blog.startifact.com/posts/framework-patterns.html#\">Framework Patterns (2019)</a><span class=\"sitebit comhead\"> (<a href=\"from?site=startifact.com\"><span class=\"sitestr\">startifact.com</span></a>)</span></td></tr><tr><td colspan=\"2\"></td><td class=\"subtext\">\n",
       " <span class=\"score\" id=\"score_28098578\">68 points</span> by <a class=\"hnuser\" href=\"user?id=rbanffy\">rbanffy</a> <span class=\"age\" title=\"2021-08-07T13:51:38\"><a href=\"item?id=28098578\">2 hours ago</a></span> <span id=\"unv_28098578\"></span> | <a href=\"hide?id=28098578&amp;goto=news\">hide</a> | <a href=\"item?id=28098578\">12 comments</a> </td></tr>\n",
       " <tr class=\"spacer\" style=\"height:5px\"></tr>\n",
       " <tr class=\"athing\" id=\"28098853\">\n",
       " <td align=\"right\" class=\"title\" valign=\"top\"><span class=\"rank\">3.</span></td> <td class=\"votelinks\" valign=\"top\"><center><a href=\"vote?id=28098853&amp;how=up&amp;goto=news\" id=\"up_28098853\"><div class=\"votearrow\" title=\"upvote\"></div></a></center></td><td class=\"title\"><a class=\"storylink\" href=\"https://caseyhandmer.wordpress.com/2021/04/25/powering-the-lunar-base/\">Powering the Lunar Base</a><span class=\"sitebit comhead\"> (<a href=\"from?site=caseyhandmer.wordpress.com\"><span class=\"sitestr\">caseyhandmer.wordpress.com</span></a>)</span></td></tr><tr><td colspan=\"2\"></td><td class=\"subtext\">\n",
       " <span class=\"score\" id=\"score_28098853\">46 points</span> by <a class=\"hnuser\" href=\"user?id=mercutio2\">mercutio2</a> <span class=\"age\" title=\"2021-08-07T14:32:31\"><a href=\"item?id=28098853\">1 hour ago</a></span> <span id=\"unv_28098853\"></span> | <a href=\"hide?id=28098853&amp;goto=news\">hide</a> | <a href=\"item?id=28098853\">26 comments</a> </td></tr>\n",
       " <tr class=\"spacer\" style=\"height:5px\"></tr>\n",
       " <tr class=\"athing\" id=\"28068248\">\n",
       " <td align=\"right\" class=\"title\" valign=\"top\"><span class=\"rank\">4.</span></td> <td class=\"votelinks\" valign=\"top\"><center><a href=\"vote?id=28068248&amp;how=up&amp;goto=news\" id=\"up_28068248\"><div class=\"votearrow\" title=\"upvote\"></div></a></center></td><td class=\"title\"><a class=\"storylink\" href=\"https://www.historytoday.com/archive/natural-histories/benjamin-bannekers-broods-cicadas\">Benjamin Banneker’s Broods of Cicadas</a><span class=\"sitebit comhead\"> (<a href=\"from?site=historytoday.com\"><span class=\"sitestr\">historytoday.com</span></a>)</span></td></tr><tr><td colspan=\"2\"></td><td class=\"subtext\">\n",
       " <span class=\"score\" id=\"score_28068248\">17 points</span> by <a class=\"hnuser\" href=\"user?id=Petiver\">Petiver</a> <span class=\"age\" title=\"2021-08-05T00:31:20\"><a href=\"item?id=28068248\">48 minutes ago</a></span> <span id=\"unv_28068248\"></span> | <a href=\"hide?id=28068248&amp;goto=news\">hide</a> | <a href=\"item?id=28068248\">discuss</a> </td></tr>\n",
       " <tr class=\"spacer\" style=\"height:5px\"></tr>\n",
       " <tr class=\"athing\" id=\"28098888\">\n",
       " <td align=\"right\" class=\"title\" valign=\"top\"><span class=\"rank\">5.</span></td> <td class=\"votelinks\" valign=\"top\"><center><a href=\"vote?id=28098888&amp;how=up&amp;goto=news\" id=\"up_28098888\"><div class=\"votearrow\" title=\"upvote\"></div></a></center></td><td class=\"title\"><a class=\"storylink\" href=\"https://www.msn.com/en-us/money/news/qatar-airways-grounds-13-airbus-a350s-as-fuselage-degrading/ar-AAMYDOB\">Qatar Airways grounds 13 Airbus A350s as fuselage degrading</a><span class=\"sitebit comhead\"> (<a href=\"from?site=msn.com\"><span class=\"sitestr\">msn.com</span></a>)</span></td></tr><tr><td colspan=\"2\"></td><td class=\"subtext\">\n",
       " <span class=\"score\" id=\"score_28098888\">51 points</span> by <a class=\"hnuser\" href=\"user?id=jryle70\">jryle70</a> <span class=\"age\" title=\"2021-08-07T14:36:59\"><a href=\"item?id=28098888\">1 hour ago</a></span> <span id=\"unv_28098888\"></span> | <a href=\"hide?id=28098888&amp;goto=news\">hide</a> | <a href=\"item?id=28098888\">20 comments</a> </td></tr>\n",
       " <tr class=\"spacer\" style=\"height:5px\"></tr>\n",
       " <tr class=\"athing\" id=\"28084166\">\n",
       " <td align=\"right\" class=\"title\" valign=\"top\"><span class=\"rank\">6.</span></td> <td class=\"votelinks\" valign=\"top\"><center><a href=\"vote?id=28084166&amp;how=up&amp;goto=news\" id=\"up_28084166\"><div class=\"votearrow\" title=\"upvote\"></div></a></center></td><td class=\"title\"><a class=\"storylink\" href=\"https://www.sciencealert.com/large-body-map-study-suggests-chronic-pain-comes-in-9-distinct-types\">Body mapping study suggests chronic pain comes in nine distinct types</a><span class=\"sitebit comhead\"> (<a href=\"from?site=sciencealert.com\"><span class=\"sitestr\">sciencealert.com</span></a>)</span></td></tr><tr><td colspan=\"2\"></td><td class=\"subtext\">\n",
       " <span class=\"score\" id=\"score_28084166\">121 points</span> by <a class=\"hnuser\" href=\"user?id=lnyan\">lnyan</a> <span class=\"age\" title=\"2021-08-06T07:13:03\"><a href=\"item?id=28084166\">9 hours ago</a></span> <span id=\"unv_28084166\"></span> | <a href=\"hide?id=28084166&amp;goto=news\">hide</a> | <a href=\"item?id=28084166\">22 comments</a> </td></tr>\n",
       " <tr class=\"spacer\" style=\"height:5px\"></tr>\n",
       " <tr class=\"athing\" id=\"28098664\">\n",
       " <td align=\"right\" class=\"title\" valign=\"top\"><span class=\"rank\">7.</span></td> <td class=\"votelinks\" valign=\"top\"><center><a href=\"vote?id=28098664&amp;how=up&amp;goto=news\" id=\"up_28098664\"><div class=\"votearrow\" title=\"upvote\"></div></a></center></td><td class=\"title\"><a class=\"storylink\" href=\"https://www.bloomberg.com/news/articles/2021-08-06/the-era-of-cheap-natural-gas-ends-as-prices-surge-by-1-000\">The Era of Cheap Natural Gas Ends as Prices Surge by 1000%</a><span class=\"sitebit comhead\"> (<a href=\"from?site=bloomberg.com\"><span class=\"sitestr\">bloomberg.com</span></a>)</span></td></tr><tr><td colspan=\"2\"></td><td class=\"subtext\">\n",
       " <span class=\"score\" id=\"score_28098664\">67 points</span> by <a class=\"hnuser\" href=\"user?id=montalbano\">montalbano</a> <span class=\"age\" title=\"2021-08-07T14:04:17\"><a href=\"item?id=28098664\">2 hours ago</a></span> <span id=\"unv_28098664\"></span> | <a href=\"hide?id=28098664&amp;goto=news\">hide</a> | <a href=\"item?id=28098664\">46 comments</a> </td></tr>\n",
       " <tr class=\"spacer\" style=\"height:5px\"></tr>\n",
       " <tr class=\"athing\" id=\"28096493\">\n",
       " <td align=\"right\" class=\"title\" valign=\"top\"><span class=\"rank\">8.</span></td> <td class=\"votelinks\" valign=\"top\"><center><a href=\"vote?id=28096493&amp;how=up&amp;goto=news\" id=\"up_28096493\"><div class=\"votearrow\" title=\"upvote\"></div></a></center></td><td class=\"title\"><a class=\"storylink\" href=\"https://pandas.pydata.org/pandas-docs/stable/pandas.pdf\">Pandas Manual [pdf]</a><span class=\"sitebit comhead\"> (<a href=\"from?site=pydata.org\"><span class=\"sitestr\">pydata.org</span></a>)</span></td></tr><tr><td colspan=\"2\"></td><td class=\"subtext\">\n",
       " <span class=\"score\" id=\"score_28096493\">30 points</span> by <a class=\"hnuser\" href=\"user?id=garren\">garren</a> <span class=\"age\" title=\"2021-08-07T07:16:59\"><a href=\"item?id=28096493\">4 hours ago</a></span> <span id=\"unv_28096493\"></span> | <a href=\"hide?id=28096493&amp;goto=news\">hide</a> | <a href=\"item?id=28096493\">17 comments</a> </td></tr>\n",
       " <tr class=\"spacer\" style=\"height:5px\"></tr>\n",
       " <tr class=\"athing\" id=\"28083440\">\n",
       " <td align=\"right\" class=\"title\" valign=\"top\"><span class=\"rank\">9.</span></td> <td class=\"votelinks\" valign=\"top\"><center><a href=\"vote?id=28083440&amp;how=up&amp;goto=news\" id=\"up_28083440\"><div class=\"votearrow\" title=\"upvote\"></div></a></center></td><td class=\"title\"><a class=\"storylink\" href=\"https://acoup.blog/2021/08/06/referenda-ad-senatum-august-6-2021-feelings-at-the-fall-of-the-republic-ancient-and-medieval-living-standards-and-zombies/\">Feelings at the Fall of the Republic, Ancient and Medieval Living Standards</a><span class=\"sitebit comhead\"> (<a href=\"from?site=acoup.blog\"><span class=\"sitestr\">acoup.blog</span></a>)</span></td></tr><tr><td colspan=\"2\"></td><td class=\"subtext\">\n",
       " <span class=\"score\" id=\"score_28083440\">86 points</span> by <a class=\"hnuser\" href=\"user?id=parsecs\">parsecs</a> <span class=\"age\" title=\"2021-08-06T04:52:52\"><a href=\"item?id=28083440\">8 hours ago</a></span> <span id=\"unv_28083440\"></span> | <a href=\"hide?id=28083440&amp;goto=news\">hide</a> | <a href=\"item?id=28083440\">32 comments</a> </td></tr>\n",
       " <tr class=\"spacer\" style=\"height:5px\"></tr>\n",
       " <tr class=\"athing\" id=\"28096710\">\n",
       " <td align=\"right\" class=\"title\" valign=\"top\"><span class=\"rank\">10.</span></td> <td class=\"votelinks\" valign=\"top\"><center><a href=\"vote?id=28096710&amp;how=up&amp;goto=news\" id=\"up_28096710\"><div class=\"votearrow\" title=\"upvote\"></div></a></center></td><td class=\"title\"><a class=\"storylink\" href=\"https://i.blackhat.com/USA21/Wednesday-Handouts/us-21-Everything-Has-Changed-In-IOS-14-But-Jailbreak-Is-Eternal.pdf\">Everything has changed in iOS 14, but Jailbreak is eternal [pdf]</a><span class=\"sitebit comhead\"> (<a href=\"from?site=blackhat.com\"><span class=\"sitestr\">blackhat.com</span></a>)</span></td></tr><tr><td colspan=\"2\"></td><td class=\"subtext\">\n",
       " <span class=\"score\" id=\"score_28096710\">62 points</span> by <a class=\"hnuser\" href=\"user?id=clubdorothe\">clubdorothe</a> <span class=\"age\" title=\"2021-08-07T07:53:09\"><a href=\"item?id=28096710\">8 hours ago</a></span> <span id=\"unv_28096710\"></span> | <a href=\"hide?id=28096710&amp;goto=news\">hide</a> | <a href=\"item?id=28096710\">4 comments</a> </td></tr>\n",
       " <tr class=\"spacer\" style=\"height:5px\"></tr>\n",
       " <tr class=\"athing\" id=\"28098658\">\n",
       " <td align=\"right\" class=\"title\" valign=\"top\"><span class=\"rank\">11.</span></td> <td class=\"votelinks\" valign=\"top\"><center><a href=\"vote?id=28098658&amp;how=up&amp;goto=news\" id=\"up_28098658\"><div class=\"votearrow\" title=\"upvote\"></div></a></center></td><td class=\"title\"><a class=\"storylink\" href=\"https://www.theblaze.com/news/nasa-is-looking-for-people-who-want-to-spend-a-year-simulating-a-mission-on-mars\">NASA is looking for people who want to spend a year simulating a mission on Mars</a><span class=\"sitebit comhead\"> (<a href=\"from?site=theblaze.com\"><span class=\"sitestr\">theblaze.com</span></a>)</span></td></tr><tr><td colspan=\"2\"></td><td class=\"subtext\">\n",
       " <span class=\"score\" id=\"score_28098658\">52 points</span> by <a class=\"hnuser\" href=\"user?id=RickJWagner\">RickJWagner</a> <span class=\"age\" title=\"2021-08-07T14:03:16\"><a href=\"item?id=28098658\">2 hours ago</a></span> <span id=\"unv_28098658\"></span> | <a href=\"hide?id=28098658&amp;goto=news\">hide</a> | <a href=\"item?id=28098658\">31 comments</a> </td></tr>\n",
       " <tr class=\"spacer\" style=\"height:5px\"></tr>\n",
       " <tr class=\"athing\" id=\"28085642\">\n",
       " <td align=\"right\" class=\"title\" valign=\"top\"><span class=\"rank\">12.</span></td> <td class=\"votelinks\" valign=\"top\"><center><a href=\"vote?id=28085642&amp;how=up&amp;goto=news\" id=\"up_28085642\"><div class=\"votearrow\" title=\"upvote\"></div></a></center></td><td class=\"title\"><a class=\"storylink\" href=\"item?id=28085642\">Incorrect expression calculation between programming languages</a></td></tr><tr><td colspan=\"2\"></td><td class=\"subtext\">\n",
       " <span class=\"score\" id=\"score_28085642\">17 points</span> by <a class=\"hnuser\" href=\"user?id=mingodad\">mingodad</a> <span class=\"age\" title=\"2021-08-06T11:24:11\"><a href=\"item?id=28085642\">3 hours ago</a></span> <span id=\"unv_28085642\"></span> | <a href=\"hide?id=28085642&amp;goto=news\">hide</a> | <a href=\"item?id=28085642\">13 comments</a> </td></tr>\n",
       " <tr class=\"spacer\" style=\"height:5px\"></tr>\n",
       " <tr class=\"athing\" id=\"28085920\">\n",
       " <td align=\"right\" class=\"title\" valign=\"top\"><span class=\"rank\">13.</span></td> <td class=\"votelinks\" valign=\"top\"><center><a href=\"vote?id=28085920&amp;how=up&amp;goto=news\" id=\"up_28085920\"><div class=\"votearrow\" title=\"upvote\"></div></a></center></td><td class=\"title\"><a class=\"storylink\" href=\"https://papertime.app\">Show HN: Paper Time – Listen to abstracts of CS papers, like a custom podcast</a><span class=\"sitebit comhead\"> (<a href=\"from?site=papertime.app\"><span class=\"sitestr\">papertime.app</span></a>)</span></td></tr><tr><td colspan=\"2\"></td><td class=\"subtext\">\n",
       " <span class=\"score\" id=\"score_28085920\">123 points</span> by <a class=\"hnuser\" href=\"user?id=pramodbiligiri\">pramodbiligiri</a> <span class=\"age\" title=\"2021-08-06T11:59:30\"><a href=\"item?id=28085920\">13 hours ago</a></span> <span id=\"unv_28085920\"></span> | <a href=\"hide?id=28085920&amp;goto=news\">hide</a> | <a href=\"item?id=28085920\">29 comments</a> </td></tr>\n",
       " <tr class=\"spacer\" style=\"height:5px\"></tr>\n",
       " <tr class=\"athing\" id=\"28097927\">\n",
       " <td align=\"right\" class=\"title\" valign=\"top\"><span class=\"rank\">14.</span></td> <td></td><td class=\"title\"><a class=\"storylink\" href=\"https://upchieve.welcomekit.co/jobs/mobile-engineer_brooklyn\" rel=\"nofollow\">UPchieve (YC W21) is hiring a mobile engineer to democratize free tutoring</a><span class=\"sitebit comhead\"> (<a href=\"from?site=welcomekit.co\"><span class=\"sitestr\">welcomekit.co</span></a>)</span></td></tr><tr><td colspan=\"2\"></td><td class=\"subtext\">\n",
       " <span class=\"age\" title=\"2021-08-07T12:00:47\"><a href=\"item?id=28097927\">4 hours ago</a></span> | <a href=\"hide?id=28097927&amp;goto=news\">hide</a> </td></tr>\n",
       " <tr class=\"spacer\" style=\"height:5px\"></tr>\n",
       " <tr class=\"athing\" id=\"28085526\">\n",
       " <td align=\"right\" class=\"title\" valign=\"top\"><span class=\"rank\">15.</span></td> <td class=\"votelinks\" valign=\"top\"><center><a href=\"vote?id=28085526&amp;how=up&amp;goto=news\" id=\"up_28085526\"><div class=\"votearrow\" title=\"upvote\"></div></a></center></td><td class=\"title\"><a class=\"storylink\" href=\"https://psyche.co/ideas/in-praise-of-habits-so-much-more-than-mindless-reflexes\">In praise of habits</a><span class=\"sitebit comhead\"> (<a href=\"from?site=psyche.co\"><span class=\"sitestr\">psyche.co</span></a>)</span></td></tr><tr><td colspan=\"2\"></td><td class=\"subtext\">\n",
       " <span class=\"score\" id=\"score_28085526\">51 points</span> by <a class=\"hnuser\" href=\"user?id=pseudolus\">pseudolus</a> <span class=\"age\" title=\"2021-08-06T11:06:28\"><a href=\"item?id=28085526\">7 hours ago</a></span> <span id=\"unv_28085526\"></span> | <a href=\"hide?id=28085526&amp;goto=news\">hide</a> | <a href=\"item?id=28085526\">3 comments</a> </td></tr>\n",
       " <tr class=\"spacer\" style=\"height:5px\"></tr>\n",
       " <tr class=\"athing\" id=\"28097600\">\n",
       " <td align=\"right\" class=\"title\" valign=\"top\"><span class=\"rank\">16.</span></td> <td class=\"votelinks\" valign=\"top\"><center><a href=\"vote?id=28097600&amp;how=up&amp;goto=news\" id=\"up_28097600\"><div class=\"votearrow\" title=\"upvote\"></div></a></center></td><td class=\"title\"><a class=\"storylink\" href=\"https://www.servethehome.com/planning-for-servers-in-2022-and-beyond-series/\">Planning for Servers in 2022 and Beyond</a><span class=\"sitebit comhead\"> (<a href=\"from?site=servethehome.com\"><span class=\"sitestr\">servethehome.com</span></a>)</span></td></tr><tr><td colspan=\"2\"></td><td class=\"subtext\">\n",
       " <span class=\"score\" id=\"score_28097600\">28 points</span> by <a class=\"hnuser\" href=\"user?id=vanburen\">vanburen</a> <span class=\"age\" title=\"2021-08-07T10:57:41\"><a href=\"item?id=28097600\">5 hours ago</a></span> <span id=\"unv_28097600\"></span> | <a href=\"hide?id=28097600&amp;goto=news\">hide</a> | <a href=\"item?id=28097600\">4 comments</a> </td></tr>\n",
       " <tr class=\"spacer\" style=\"height:5px\"></tr>\n",
       " <tr class=\"athing\" id=\"28095632\">\n",
       " <td align=\"right\" class=\"title\" valign=\"top\"><span class=\"rank\">17.</span></td> <td class=\"votelinks\" valign=\"top\"><center><a href=\"vote?id=28095632&amp;how=up&amp;goto=news\" id=\"up_28095632\"><div class=\"votearrow\" title=\"upvote\"></div></a></center></td><td class=\"title\"><a class=\"storylink\" href=\"https://www.nzz.ch/english/swiss-phd-students-dismissal-spotlights-chinas-influence-ld.1638771\">Swiss Ph.D student’s dismissal spotlights China’s influence</a><span class=\"sitebit comhead\"> (<a href=\"from?site=nzz.ch\"><span class=\"sitestr\">nzz.ch</span></a>)</span></td></tr><tr><td colspan=\"2\"></td><td class=\"subtext\">\n",
       " <span class=\"score\" id=\"score_28095632\">543 points</span> by <a class=\"hnuser\" href=\"user?id=ipnon\">ipnon</a> <span class=\"age\" title=\"2021-08-07T04:13:49\"><a href=\"item?id=28095632\">12 hours ago</a></span> <span id=\"unv_28095632\"></span> | <a href=\"hide?id=28095632&amp;goto=news\">hide</a> | <a href=\"item?id=28095632\">269 comments</a> </td></tr>\n",
       " <tr class=\"spacer\" style=\"height:5px\"></tr>\n",
       " <tr class=\"athing\" id=\"28084861\">\n",
       " <td align=\"right\" class=\"title\" valign=\"top\"><span class=\"rank\">18.</span></td> <td class=\"votelinks\" valign=\"top\"><center><a href=\"vote?id=28084861&amp;how=up&amp;goto=news\" id=\"up_28084861\"><div class=\"votearrow\" title=\"upvote\"></div></a></center></td><td class=\"title\"><a class=\"storylink\" href=\"https://www.theguardian.com/news/2018/sep/18/a-giant-crawling-brain-the-jaw-dropping-world-of-termites\">A giant crawling brain: the world of termites (2018)</a><span class=\"sitebit comhead\"> (<a href=\"from?site=theguardian.com\"><span class=\"sitestr\">theguardian.com</span></a>)</span></td></tr><tr><td colspan=\"2\"></td><td class=\"subtext\">\n",
       " <span class=\"score\" id=\"score_28084861\">58 points</span> by <a class=\"hnuser\" href=\"user?id=NotSwift\">NotSwift</a> <span class=\"age\" title=\"2021-08-06T09:15:34\"><a href=\"item?id=28084861\">11 hours ago</a></span> <span id=\"unv_28084861\"></span> | <a href=\"hide?id=28084861&amp;goto=news\">hide</a> | <a href=\"item?id=28084861\">7 comments</a> </td></tr>\n",
       " <tr class=\"spacer\" style=\"height:5px\"></tr>\n",
       " <tr class=\"athing\" id=\"28090024\">\n",
       " <td align=\"right\" class=\"title\" valign=\"top\"><span class=\"rank\">19.</span></td> <td class=\"votelinks\" valign=\"top\"><center><a href=\"vote?id=28090024&amp;how=up&amp;goto=news\" id=\"up_28090024\"><div class=\"votearrow\" title=\"upvote\"></div></a></center></td><td class=\"title\"><a class=\"storylink\" href=\"https://calyxos.org/\">CalyxOS – De-Googled Android Alternative</a><span class=\"sitebit comhead\"> (<a href=\"from?site=calyxos.org\"><span class=\"sitestr\">calyxos.org</span></a>)</span></td></tr><tr><td colspan=\"2\"></td><td class=\"subtext\">\n",
       " <span class=\"score\" id=\"score_28090024\">873 points</span> by <a class=\"hnuser\" href=\"user?id=ssklash\">ssklash</a> <span class=\"age\" title=\"2021-08-06T17:07:36\"><a href=\"item?id=28090024\">23 hours ago</a></span> <span id=\"unv_28090024\"></span> | <a href=\"hide?id=28090024&amp;goto=news\">hide</a> | <a href=\"item?id=28090024\">422 comments</a> </td></tr>\n",
       " <tr class=\"spacer\" style=\"height:5px\"></tr>\n",
       " <tr class=\"athing\" id=\"28097675\">\n",
       " <td align=\"right\" class=\"title\" valign=\"top\"><span class=\"rank\">20.</span></td> <td class=\"votelinks\" valign=\"top\"><center><a href=\"vote?id=28097675&amp;how=up&amp;goto=news\" id=\"up_28097675\"><div class=\"votearrow\" title=\"upvote\"></div></a></center></td><td class=\"title\"><a class=\"storylink\" href=\"https://www.bbc.co.uk/news/uk-scotland-tayside-central-58056235\">Capturing the Disappearing Sounds of the Workplace</a><span class=\"sitebit comhead\"> (<a href=\"from?site=bbc.co.uk\"><span class=\"sitestr\">bbc.co.uk</span></a>)</span></td></tr><tr><td colspan=\"2\"></td><td class=\"subtext\">\n",
       " <span class=\"score\" id=\"score_28097675\">13 points</span> by <a class=\"hnuser\" href=\"user?id=Kaibeezy\">Kaibeezy</a> <span class=\"age\" title=\"2021-08-07T11:17:18\"><a href=\"item?id=28097675\">5 hours ago</a></span> <span id=\"unv_28097675\"></span> | <a href=\"hide?id=28097675&amp;goto=news\">hide</a> | <a href=\"item?id=28097675\">3 comments</a> </td></tr>\n",
       " <tr class=\"spacer\" style=\"height:5px\"></tr>\n",
       " <tr class=\"athing\" id=\"28091750\">\n",
       " <td align=\"right\" class=\"title\" valign=\"top\"><span class=\"rank\">21.</span></td> <td class=\"votelinks\" valign=\"top\"><center><a href=\"vote?id=28091750&amp;how=up&amp;goto=news\" id=\"up_28091750\"><div class=\"votearrow\" title=\"upvote\"></div></a></center></td><td class=\"title\"><a class=\"storylink\" href=\"https://rentafounder.com/the-problem-with-perceptual-hashes/\">The Problem with Perceptual Hashes</a><span class=\"sitebit comhead\"> (<a href=\"from?site=rentafounder.com\"><span class=\"sitestr\">rentafounder.com</span></a>)</span></td></tr><tr><td colspan=\"2\"></td><td class=\"subtext\">\n",
       " <span class=\"score\" id=\"score_28091750\">588 points</span> by <a class=\"hnuser\" href=\"user?id=rivo\">rivo</a> <span class=\"age\" title=\"2021-08-06T19:29:18\"><a href=\"item?id=28091750\">20 hours ago</a></span> <span id=\"unv_28091750\"></span> | <a href=\"hide?id=28091750&amp;goto=news\">hide</a> | <a href=\"item?id=28091750\">340 comments</a> </td></tr>\n",
       " <tr class=\"spacer\" style=\"height:5px\"></tr>\n",
       " <tr class=\"athing\" id=\"28098803\">\n",
       " <td align=\"right\" class=\"title\" valign=\"top\"><span class=\"rank\">22.</span></td> <td class=\"votelinks\" valign=\"top\"><center><a href=\"vote?id=28098803&amp;how=up&amp;goto=news\" id=\"up_28098803\"><div class=\"votearrow\" title=\"upvote\"></div></a></center></td><td class=\"title\"><a class=\"storylink\" href=\"https://thehill.com/changing-america/sustainability/climate-change/566674-scientists-make-shocking-discovery-of-dead\">Scientists make discovery of dead zones where nothing can live on two US coasts</a><span class=\"sitebit comhead\"> (<a href=\"from?site=thehill.com\"><span class=\"sitestr\">thehill.com</span></a>)</span></td></tr><tr><td colspan=\"2\"></td><td class=\"subtext\">\n",
       " <span class=\"score\" id=\"score_28098803\">14 points</span> by <a class=\"hnuser\" href=\"user?id=DocFeind\">DocFeind</a> <span class=\"age\" title=\"2021-08-07T14:24:59\"><a href=\"item?id=28098803\">2 hours ago</a></span> <span id=\"unv_28098803\"></span> | <a href=\"hide?id=28098803&amp;goto=news\">hide</a> | <a href=\"item?id=28098803\">discuss</a> </td></tr>\n",
       " <tr class=\"spacer\" style=\"height:5px\"></tr>\n",
       " <tr class=\"athing\" id=\"28098047\">\n",
       " <td align=\"right\" class=\"title\" valign=\"top\"><span class=\"rank\">23.</span></td> <td class=\"votelinks\" valign=\"top\"><center><a href=\"vote?id=28098047&amp;how=up&amp;goto=news\" id=\"up_28098047\"><div class=\"votearrow\" title=\"upvote\"></div></a></center></td><td class=\"title\"><a class=\"storylink\" href=\"https://www.artnews.com/art-news/news/oldest-mint-spade-coins-chinese-foundry-1234601047/\">World’s Oldest Coin Mint Discovered in 2,800-Year-Old Chinese Foundry</a><span class=\"sitebit comhead\"> (<a href=\"from?site=artnews.com\"><span class=\"sitestr\">artnews.com</span></a>)</span></td></tr><tr><td colspan=\"2\"></td><td class=\"subtext\">\n",
       " <span class=\"score\" id=\"score_28098047\">31 points</span> by <a class=\"hnuser\" href=\"user?id=pseudolus\">pseudolus</a> <span class=\"age\" title=\"2021-08-07T12:20:04\"><a href=\"item?id=28098047\">4 hours ago</a></span> <span id=\"unv_28098047\"></span> | <a href=\"hide?id=28098047&amp;goto=news\">hide</a> | <a href=\"item?id=28098047\">2 comments</a> </td></tr>\n",
       " <tr class=\"spacer\" style=\"height:5px\"></tr>\n",
       " <tr class=\"athing\" id=\"28084319\">\n",
       " <td align=\"right\" class=\"title\" valign=\"top\"><span class=\"rank\">24.</span></td> <td class=\"votelinks\" valign=\"top\"><center><a href=\"vote?id=28084319&amp;how=up&amp;goto=news\" id=\"up_28084319\"><div class=\"votearrow\" title=\"upvote\"></div></a></center></td><td class=\"title\"><a class=\"storylink\" href=\"https://dantheclamman.blog/2020/07/04/the-mystery-of-the-giant-clams-of-the-red-sea-and-indian-ocean/\">The Mystery of the Giant Clams of the Red Sea and Indian Ocean (2020)</a><span class=\"sitebit comhead\"> (<a href=\"from?site=dantheclamman.blog\"><span class=\"sitestr\">dantheclamman.blog</span></a>)</span></td></tr><tr><td colspan=\"2\"></td><td class=\"subtext\">\n",
       " <span class=\"score\" id=\"score_28084319\">63 points</span> by <a class=\"hnuser\" href=\"user?id=dan-robertson\">dan-robertson</a> <span class=\"age\" title=\"2021-08-06T07:42:41\"><a href=\"item?id=28084319\">12 hours ago</a></span> <span id=\"unv_28084319\"></span> | <a href=\"hide?id=28084319&amp;goto=news\">hide</a> | <a href=\"item?id=28084319\">5 comments</a> </td></tr>\n",
       " <tr class=\"spacer\" style=\"height:5px\"></tr>\n",
       " <tr class=\"athing\" id=\"28095173\">\n",
       " <td align=\"right\" class=\"title\" valign=\"top\"><span class=\"rank\">25.</span></td> <td class=\"votelinks\" valign=\"top\"><center><a href=\"vote?id=28095173&amp;how=up&amp;goto=news\" id=\"up_28095173\"><div class=\"votearrow\" title=\"upvote\"></div></a></center></td><td class=\"title\"><a class=\"storylink\" href=\"https://jfloren.net/b/2021/8/6/1\">A USB adapter for a classic Depraz mouse</a><span class=\"sitebit comhead\"> (<a href=\"from?site=jfloren.net\"><span class=\"sitestr\">jfloren.net</span></a>)</span></td></tr><tr><td colspan=\"2\"></td><td class=\"subtext\">\n",
       " <span class=\"score\" id=\"score_28095173\">69 points</span> by <a class=\"hnuser\" href=\"user?id=floren\">floren</a> <span class=\"age\" title=\"2021-08-07T02:34:37\"><a href=\"item?id=28095173\">13 hours ago</a></span> <span id=\"unv_28095173\"></span> | <a href=\"hide?id=28095173&amp;goto=news\">hide</a> | <a href=\"item?id=28095173\">21 comments</a> </td></tr>\n",
       " <tr class=\"spacer\" style=\"height:5px\"></tr>\n",
       " <tr class=\"athing\" id=\"28097639\">\n",
       " <td align=\"right\" class=\"title\" valign=\"top\"><span class=\"rank\">26.</span></td> <td class=\"votelinks\" valign=\"top\"><center><a href=\"vote?id=28097639&amp;how=up&amp;goto=news\" id=\"up_28097639\"><div class=\"votearrow\" title=\"upvote\"></div></a></center></td><td class=\"title\"><a class=\"storylink\" href=\"https://utcc.utoronto.ca/~cks/space/blog/tech/NewTLDsMyMixedViews\">Mixed views on new DNS top level domains</a><span class=\"sitebit comhead\"> (<a href=\"from?site=utoronto.ca\"><span class=\"sitestr\">utoronto.ca</span></a>)</span></td></tr><tr><td colspan=\"2\"></td><td class=\"subtext\">\n",
       " <span class=\"score\" id=\"score_28097639\">28 points</span> by <a class=\"hnuser\" href=\"user?id=pcr910303\">pcr910303</a> <span class=\"age\" title=\"2021-08-07T11:07:33\"><a href=\"item?id=28097639\">5 hours ago</a></span> <span id=\"unv_28097639\"></span> | <a href=\"hide?id=28097639&amp;goto=news\">hide</a> | <a href=\"item?id=28097639\">18 comments</a> </td></tr>\n",
       " <tr class=\"spacer\" style=\"height:5px\"></tr>\n",
       " <tr class=\"athing\" id=\"28096512\">\n",
       " <td align=\"right\" class=\"title\" valign=\"top\"><span class=\"rank\">27.</span></td> <td class=\"votelinks\" valign=\"top\"><center><a href=\"vote?id=28096512&amp;how=up&amp;goto=news\" id=\"up_28096512\"><div class=\"votearrow\" title=\"upvote\"></div></a></center></td><td class=\"title\"><a class=\"storylink\" href=\"https://www.economist.com/briefing/2021/08/07/open-source-intelligence-challenges-state-monopolies-on-information\">Open-source intelligence challenges state monopolies on information</a><span class=\"sitebit comhead\"> (<a href=\"from?site=economist.com\"><span class=\"sitestr\">economist.com</span></a>)</span></td></tr><tr><td colspan=\"2\"></td><td class=\"subtext\">\n",
       " <span class=\"score\" id=\"score_28096512\">113 points</span> by <a class=\"hnuser\" href=\"user?id=helsinkiandrew\">helsinkiandrew</a> <span class=\"age\" title=\"2021-08-07T07:21:56\"><a href=\"item?id=28096512\">9 hours ago</a></span> <span id=\"unv_28096512\"></span> | <a href=\"hide?id=28096512&amp;goto=news\">hide</a> | <a href=\"item?id=28096512\">14 comments</a> </td></tr>\n",
       " <tr class=\"spacer\" style=\"height:5px\"></tr>\n",
       " <tr class=\"athing\" id=\"28094966\">\n",
       " <td align=\"right\" class=\"title\" valign=\"top\"><span class=\"rank\">28.</span></td> <td class=\"votelinks\" valign=\"top\"><center><a href=\"vote?id=28094966&amp;how=up&amp;goto=news\" id=\"up_28094966\"><div class=\"votearrow\" title=\"upvote\"></div></a></center></td><td class=\"title\"><a class=\"storylink\" href=\"https://hwp-viz.gsd.esrl.noaa.gov/smoke/index.html\">NOAA Smoke Forecast Model Visualization</a><span class=\"sitebit comhead\"> (<a href=\"from?site=noaa.gov\"><span class=\"sitestr\">noaa.gov</span></a>)</span></td></tr><tr><td colspan=\"2\"></td><td class=\"subtext\">\n",
       " <span class=\"score\" id=\"score_28094966\">73 points</span> by <a class=\"hnuser\" href=\"user?id=pizza\">pizza</a> <span class=\"age\" title=\"2021-08-07T01:53:30\"><a href=\"item?id=28094966\">14 hours ago</a></span> <span id=\"unv_28094966\"></span> | <a href=\"hide?id=28094966&amp;goto=news\">hide</a> | <a href=\"item?id=28094966\">8 comments</a> </td></tr>\n",
       " <tr class=\"spacer\" style=\"height:5px\"></tr>\n",
       " <tr class=\"athing\" id=\"28095648\">\n",
       " <td align=\"right\" class=\"title\" valign=\"top\"><span class=\"rank\">29.</span></td> <td class=\"votelinks\" valign=\"top\"><center><a href=\"vote?id=28095648&amp;how=up&amp;goto=news\" id=\"up_28095648\"><div class=\"votearrow\" title=\"upvote\"></div></a></center></td><td class=\"title\"><a class=\"storylink\" href=\"https://www.architecturaldigest.com/story/worlds-largest-astronomy-museum-opens-doors\">The World’s Largest Astronomy Museum Opens Its Doors</a><span class=\"sitebit comhead\"> (<a href=\"from?site=architecturaldigest.com\"><span class=\"sitestr\">architecturaldigest.com</span></a>)</span></td></tr><tr><td colspan=\"2\"></td><td class=\"subtext\">\n",
       " <span class=\"score\" id=\"score_28095648\">44 points</span> by <a class=\"hnuser\" href=\"user?id=fortran77\">fortran77</a> <span class=\"age\" title=\"2021-08-07T04:18:06\"><a href=\"item?id=28095648\">12 hours ago</a></span> <span id=\"unv_28095648\"></span> | <a href=\"hide?id=28095648&amp;goto=news\">hide</a> | <a href=\"item?id=28095648\">1 comment</a> </td></tr>\n",
       " <tr class=\"spacer\" style=\"height:5px\"></tr>\n",
       " <tr class=\"athing\" id=\"28097623\">\n",
       " <td align=\"right\" class=\"title\" valign=\"top\"><span class=\"rank\">30.</span></td> <td class=\"votelinks\" valign=\"top\"><center><a href=\"vote?id=28097623&amp;how=up&amp;goto=news\" id=\"up_28097623\"><div class=\"votearrow\" title=\"upvote\"></div></a></center></td><td class=\"title\"><a class=\"storylink\" href=\"https://techcrunch.com/2021/08/06/crypto-biden-amendment-infrastructure-bill-proof-of-work/\">Crypto community slams ‘disastrous’ new amendment to big infrastructure bill</a><span class=\"sitebit comhead\"> (<a href=\"from?site=techcrunch.com\"><span class=\"sitestr\">techcrunch.com</span></a>)</span></td></tr><tr><td colspan=\"2\"></td><td class=\"subtext\">\n",
       " <span class=\"score\" id=\"score_28097623\">160 points</span> by <a class=\"hnuser\" href=\"user?id=belter\">belter</a> <span class=\"age\" title=\"2021-08-07T11:03:26\"><a href=\"item?id=28097623\">5 hours ago</a></span> <span id=\"unv_28097623\"></span> | <a href=\"hide?id=28097623&amp;goto=news\">hide</a> | <a href=\"item?id=28097623\">97 comments</a> </td></tr>\n",
       " <tr class=\"spacer\" style=\"height:5px\"></tr>\n",
       " <tr class=\"morespace\" style=\"height:10px\"></tr><tr><td colspan=\"2\"></td><td class=\"title\"><a class=\"morelink\" href=\"news?p=2\" rel=\"next\">More</a></td></tr>\n",
       " </table>\n",
       " </td></tr>\n",
       " <tr><td><img height=\"10\" src=\"s.gif\" width=\"0\"/><table cellpadding=\"1\" cellspacing=\"0\" width=\"100%\"><tr><td bgcolor=\"#ff6600\"></td></tr></table><br/><center><a href=\"https://www.ycombinator.com/apply/\">\n",
       "         Applications are open for YC Winter 2022\n",
       "       </a></center><br/><center><span class=\"yclinks\"><a href=\"newsguidelines.html\">Guidelines</a>\n",
       "         | <a href=\"newsfaq.html\">FAQ</a>\n",
       "         | <a href=\"lists\">Lists</a>\n",
       "         | <a href=\"https://github.com/HackerNews/API\">API</a>\n",
       "         | <a href=\"security.html\">Security</a>\n",
       "         | <a href=\"http://www.ycombinator.com/legal/\">Legal</a>\n",
       "         | <a href=\"http://www.ycombinator.com/apply/\">Apply to YC</a>\n",
       "         | <a href=\"mailto:hn@ycombinator.com\">Contact</a></span><br/><br/><form action=\"//hn.algolia.com/\" method=\"get\">Search:\n",
       "           <input autocapitalize=\"off\" autocomplete=\"false\" autocorrect=\"off\" name=\"q\" size=\"17\" spellcheck=\"false\" type=\"text\" value=\"\"/></form>\n",
       " </center></td></tr>\n",
       " </table></center>]"
      ]
     },
     "execution_count": 124,
     "metadata": {},
     "output_type": "execute_result"
    }
   ],
   "source": [
    "# soup.body\n",
    "soup.body.contents"
   ]
  },
  {
   "cell_type": "code",
   "execution_count": 125,
   "metadata": {},
   "outputs": [
    {
     "data": {
      "text/plain": [
       "[<a href=\"https://news.ycombinator.com\"><img height=\"18\" src=\"y18.gif\" style=\"border:1px white solid;\" width=\"18\"/></a>,\n",
       " <a href=\"news\">Hacker News</a>,\n",
       " <a href=\"newest\">new</a>,\n",
       " <a href=\"front\">past</a>,\n",
       " <a href=\"newcomments\">comments</a>,\n",
       " <a href=\"ask\">ask</a>,\n",
       " <a href=\"show\">show</a>,\n",
       " <a href=\"jobs\">jobs</a>,\n",
       " <a href=\"submit\">submit</a>,\n",
       " <a href=\"login?goto=news\">login</a>,\n",
       " <a href=\"vote?id=28099264&amp;how=up&amp;goto=news\" id=\"up_28099264\"><div class=\"votearrow\" title=\"upvote\"></div></a>,\n",
       " <a class=\"storylink\" href=\"https://www.openwall.com/lists/oss-security/2021/08/07/1\">Bug in Lynx' SSL certificate validation – leaks password in clear text via SNI</a>,\n",
       " <a href=\"from?site=openwall.com\"><span class=\"sitestr\">openwall.com</span></a>,\n",
       " <a class=\"hnuser\" href=\"user?id=jwilk\">jwilk</a>,\n",
       " <a href=\"item?id=28099264\">59 minutes ago</a>,\n",
       " <a href=\"hide?id=28099264&amp;goto=news\">hide</a>,\n",
       " <a href=\"item?id=28099264\">12 comments</a>,\n",
       " <a href=\"vote?id=28098578&amp;how=up&amp;goto=news\" id=\"up_28098578\"><div class=\"votearrow\" title=\"upvote\"></div></a>,\n",
       " <a class=\"storylink\" href=\"https://blog.startifact.com/posts/framework-patterns.html#\">Framework Patterns (2019)</a>,\n",
       " <a href=\"from?site=startifact.com\"><span class=\"sitestr\">startifact.com</span></a>,\n",
       " <a class=\"hnuser\" href=\"user?id=rbanffy\">rbanffy</a>,\n",
       " <a href=\"item?id=28098578\">2 hours ago</a>,\n",
       " <a href=\"hide?id=28098578&amp;goto=news\">hide</a>,\n",
       " <a href=\"item?id=28098578\">12 comments</a>,\n",
       " <a href=\"vote?id=28098853&amp;how=up&amp;goto=news\" id=\"up_28098853\"><div class=\"votearrow\" title=\"upvote\"></div></a>,\n",
       " <a class=\"storylink\" href=\"https://caseyhandmer.wordpress.com/2021/04/25/powering-the-lunar-base/\">Powering the Lunar Base</a>,\n",
       " <a href=\"from?site=caseyhandmer.wordpress.com\"><span class=\"sitestr\">caseyhandmer.wordpress.com</span></a>,\n",
       " <a class=\"hnuser\" href=\"user?id=mercutio2\">mercutio2</a>,\n",
       " <a href=\"item?id=28098853\">1 hour ago</a>,\n",
       " <a href=\"hide?id=28098853&amp;goto=news\">hide</a>,\n",
       " <a href=\"item?id=28098853\">26 comments</a>,\n",
       " <a href=\"vote?id=28068248&amp;how=up&amp;goto=news\" id=\"up_28068248\"><div class=\"votearrow\" title=\"upvote\"></div></a>,\n",
       " <a class=\"storylink\" href=\"https://www.historytoday.com/archive/natural-histories/benjamin-bannekers-broods-cicadas\">Benjamin Banneker’s Broods of Cicadas</a>,\n",
       " <a href=\"from?site=historytoday.com\"><span class=\"sitestr\">historytoday.com</span></a>,\n",
       " <a class=\"hnuser\" href=\"user?id=Petiver\">Petiver</a>,\n",
       " <a href=\"item?id=28068248\">48 minutes ago</a>,\n",
       " <a href=\"hide?id=28068248&amp;goto=news\">hide</a>,\n",
       " <a href=\"item?id=28068248\">discuss</a>,\n",
       " <a href=\"vote?id=28098888&amp;how=up&amp;goto=news\" id=\"up_28098888\"><div class=\"votearrow\" title=\"upvote\"></div></a>,\n",
       " <a class=\"storylink\" href=\"https://www.msn.com/en-us/money/news/qatar-airways-grounds-13-airbus-a350s-as-fuselage-degrading/ar-AAMYDOB\">Qatar Airways grounds 13 Airbus A350s as fuselage degrading</a>,\n",
       " <a href=\"from?site=msn.com\"><span class=\"sitestr\">msn.com</span></a>,\n",
       " <a class=\"hnuser\" href=\"user?id=jryle70\">jryle70</a>,\n",
       " <a href=\"item?id=28098888\">1 hour ago</a>,\n",
       " <a href=\"hide?id=28098888&amp;goto=news\">hide</a>,\n",
       " <a href=\"item?id=28098888\">20 comments</a>,\n",
       " <a href=\"vote?id=28084166&amp;how=up&amp;goto=news\" id=\"up_28084166\"><div class=\"votearrow\" title=\"upvote\"></div></a>,\n",
       " <a class=\"storylink\" href=\"https://www.sciencealert.com/large-body-map-study-suggests-chronic-pain-comes-in-9-distinct-types\">Body mapping study suggests chronic pain comes in nine distinct types</a>,\n",
       " <a href=\"from?site=sciencealert.com\"><span class=\"sitestr\">sciencealert.com</span></a>,\n",
       " <a class=\"hnuser\" href=\"user?id=lnyan\">lnyan</a>,\n",
       " <a href=\"item?id=28084166\">9 hours ago</a>,\n",
       " <a href=\"hide?id=28084166&amp;goto=news\">hide</a>,\n",
       " <a href=\"item?id=28084166\">22 comments</a>,\n",
       " <a href=\"vote?id=28098664&amp;how=up&amp;goto=news\" id=\"up_28098664\"><div class=\"votearrow\" title=\"upvote\"></div></a>,\n",
       " <a class=\"storylink\" href=\"https://www.bloomberg.com/news/articles/2021-08-06/the-era-of-cheap-natural-gas-ends-as-prices-surge-by-1-000\">The Era of Cheap Natural Gas Ends as Prices Surge by 1000%</a>,\n",
       " <a href=\"from?site=bloomberg.com\"><span class=\"sitestr\">bloomberg.com</span></a>,\n",
       " <a class=\"hnuser\" href=\"user?id=montalbano\">montalbano</a>,\n",
       " <a href=\"item?id=28098664\">2 hours ago</a>,\n",
       " <a href=\"hide?id=28098664&amp;goto=news\">hide</a>,\n",
       " <a href=\"item?id=28098664\">46 comments</a>,\n",
       " <a href=\"vote?id=28096493&amp;how=up&amp;goto=news\" id=\"up_28096493\"><div class=\"votearrow\" title=\"upvote\"></div></a>,\n",
       " <a class=\"storylink\" href=\"https://pandas.pydata.org/pandas-docs/stable/pandas.pdf\">Pandas Manual [pdf]</a>,\n",
       " <a href=\"from?site=pydata.org\"><span class=\"sitestr\">pydata.org</span></a>,\n",
       " <a class=\"hnuser\" href=\"user?id=garren\">garren</a>,\n",
       " <a href=\"item?id=28096493\">4 hours ago</a>,\n",
       " <a href=\"hide?id=28096493&amp;goto=news\">hide</a>,\n",
       " <a href=\"item?id=28096493\">17 comments</a>,\n",
       " <a href=\"vote?id=28083440&amp;how=up&amp;goto=news\" id=\"up_28083440\"><div class=\"votearrow\" title=\"upvote\"></div></a>,\n",
       " <a class=\"storylink\" href=\"https://acoup.blog/2021/08/06/referenda-ad-senatum-august-6-2021-feelings-at-the-fall-of-the-republic-ancient-and-medieval-living-standards-and-zombies/\">Feelings at the Fall of the Republic, Ancient and Medieval Living Standards</a>,\n",
       " <a href=\"from?site=acoup.blog\"><span class=\"sitestr\">acoup.blog</span></a>,\n",
       " <a class=\"hnuser\" href=\"user?id=parsecs\">parsecs</a>,\n",
       " <a href=\"item?id=28083440\">8 hours ago</a>,\n",
       " <a href=\"hide?id=28083440&amp;goto=news\">hide</a>,\n",
       " <a href=\"item?id=28083440\">32 comments</a>,\n",
       " <a href=\"vote?id=28096710&amp;how=up&amp;goto=news\" id=\"up_28096710\"><div class=\"votearrow\" title=\"upvote\"></div></a>,\n",
       " <a class=\"storylink\" href=\"https://i.blackhat.com/USA21/Wednesday-Handouts/us-21-Everything-Has-Changed-In-IOS-14-But-Jailbreak-Is-Eternal.pdf\">Everything has changed in iOS 14, but Jailbreak is eternal [pdf]</a>,\n",
       " <a href=\"from?site=blackhat.com\"><span class=\"sitestr\">blackhat.com</span></a>,\n",
       " <a class=\"hnuser\" href=\"user?id=clubdorothe\">clubdorothe</a>,\n",
       " <a href=\"item?id=28096710\">8 hours ago</a>,\n",
       " <a href=\"hide?id=28096710&amp;goto=news\">hide</a>,\n",
       " <a href=\"item?id=28096710\">4 comments</a>,\n",
       " <a href=\"vote?id=28098658&amp;how=up&amp;goto=news\" id=\"up_28098658\"><div class=\"votearrow\" title=\"upvote\"></div></a>,\n",
       " <a class=\"storylink\" href=\"https://www.theblaze.com/news/nasa-is-looking-for-people-who-want-to-spend-a-year-simulating-a-mission-on-mars\">NASA is looking for people who want to spend a year simulating a mission on Mars</a>,\n",
       " <a href=\"from?site=theblaze.com\"><span class=\"sitestr\">theblaze.com</span></a>,\n",
       " <a class=\"hnuser\" href=\"user?id=RickJWagner\">RickJWagner</a>,\n",
       " <a href=\"item?id=28098658\">2 hours ago</a>,\n",
       " <a href=\"hide?id=28098658&amp;goto=news\">hide</a>,\n",
       " <a href=\"item?id=28098658\">31 comments</a>,\n",
       " <a href=\"vote?id=28085642&amp;how=up&amp;goto=news\" id=\"up_28085642\"><div class=\"votearrow\" title=\"upvote\"></div></a>,\n",
       " <a class=\"storylink\" href=\"item?id=28085642\">Incorrect expression calculation between programming languages</a>,\n",
       " <a class=\"hnuser\" href=\"user?id=mingodad\">mingodad</a>,\n",
       " <a href=\"item?id=28085642\">3 hours ago</a>,\n",
       " <a href=\"hide?id=28085642&amp;goto=news\">hide</a>,\n",
       " <a href=\"item?id=28085642\">13 comments</a>,\n",
       " <a href=\"vote?id=28085920&amp;how=up&amp;goto=news\" id=\"up_28085920\"><div class=\"votearrow\" title=\"upvote\"></div></a>,\n",
       " <a class=\"storylink\" href=\"https://papertime.app\">Show HN: Paper Time – Listen to abstracts of CS papers, like a custom podcast</a>,\n",
       " <a href=\"from?site=papertime.app\"><span class=\"sitestr\">papertime.app</span></a>,\n",
       " <a class=\"hnuser\" href=\"user?id=pramodbiligiri\">pramodbiligiri</a>,\n",
       " <a href=\"item?id=28085920\">13 hours ago</a>,\n",
       " <a href=\"hide?id=28085920&amp;goto=news\">hide</a>,\n",
       " <a href=\"item?id=28085920\">29 comments</a>,\n",
       " <a class=\"storylink\" href=\"https://upchieve.welcomekit.co/jobs/mobile-engineer_brooklyn\" rel=\"nofollow\">UPchieve (YC W21) is hiring a mobile engineer to democratize free tutoring</a>,\n",
       " <a href=\"from?site=welcomekit.co\"><span class=\"sitestr\">welcomekit.co</span></a>,\n",
       " <a href=\"item?id=28097927\">4 hours ago</a>,\n",
       " <a href=\"hide?id=28097927&amp;goto=news\">hide</a>,\n",
       " <a href=\"vote?id=28085526&amp;how=up&amp;goto=news\" id=\"up_28085526\"><div class=\"votearrow\" title=\"upvote\"></div></a>,\n",
       " <a class=\"storylink\" href=\"https://psyche.co/ideas/in-praise-of-habits-so-much-more-than-mindless-reflexes\">In praise of habits</a>,\n",
       " <a href=\"from?site=psyche.co\"><span class=\"sitestr\">psyche.co</span></a>,\n",
       " <a class=\"hnuser\" href=\"user?id=pseudolus\">pseudolus</a>,\n",
       " <a href=\"item?id=28085526\">7 hours ago</a>,\n",
       " <a href=\"hide?id=28085526&amp;goto=news\">hide</a>,\n",
       " <a href=\"item?id=28085526\">3 comments</a>,\n",
       " <a href=\"vote?id=28097600&amp;how=up&amp;goto=news\" id=\"up_28097600\"><div class=\"votearrow\" title=\"upvote\"></div></a>,\n",
       " <a class=\"storylink\" href=\"https://www.servethehome.com/planning-for-servers-in-2022-and-beyond-series/\">Planning for Servers in 2022 and Beyond</a>,\n",
       " <a href=\"from?site=servethehome.com\"><span class=\"sitestr\">servethehome.com</span></a>,\n",
       " <a class=\"hnuser\" href=\"user?id=vanburen\">vanburen</a>,\n",
       " <a href=\"item?id=28097600\">5 hours ago</a>,\n",
       " <a href=\"hide?id=28097600&amp;goto=news\">hide</a>,\n",
       " <a href=\"item?id=28097600\">4 comments</a>,\n",
       " <a href=\"vote?id=28095632&amp;how=up&amp;goto=news\" id=\"up_28095632\"><div class=\"votearrow\" title=\"upvote\"></div></a>,\n",
       " <a class=\"storylink\" href=\"https://www.nzz.ch/english/swiss-phd-students-dismissal-spotlights-chinas-influence-ld.1638771\">Swiss Ph.D student’s dismissal spotlights China’s influence</a>,\n",
       " <a href=\"from?site=nzz.ch\"><span class=\"sitestr\">nzz.ch</span></a>,\n",
       " <a class=\"hnuser\" href=\"user?id=ipnon\">ipnon</a>,\n",
       " <a href=\"item?id=28095632\">12 hours ago</a>,\n",
       " <a href=\"hide?id=28095632&amp;goto=news\">hide</a>,\n",
       " <a href=\"item?id=28095632\">269 comments</a>,\n",
       " <a href=\"vote?id=28084861&amp;how=up&amp;goto=news\" id=\"up_28084861\"><div class=\"votearrow\" title=\"upvote\"></div></a>,\n",
       " <a class=\"storylink\" href=\"https://www.theguardian.com/news/2018/sep/18/a-giant-crawling-brain-the-jaw-dropping-world-of-termites\">A giant crawling brain: the world of termites (2018)</a>,\n",
       " <a href=\"from?site=theguardian.com\"><span class=\"sitestr\">theguardian.com</span></a>,\n",
       " <a class=\"hnuser\" href=\"user?id=NotSwift\">NotSwift</a>,\n",
       " <a href=\"item?id=28084861\">11 hours ago</a>,\n",
       " <a href=\"hide?id=28084861&amp;goto=news\">hide</a>,\n",
       " <a href=\"item?id=28084861\">7 comments</a>,\n",
       " <a href=\"vote?id=28090024&amp;how=up&amp;goto=news\" id=\"up_28090024\"><div class=\"votearrow\" title=\"upvote\"></div></a>,\n",
       " <a class=\"storylink\" href=\"https://calyxos.org/\">CalyxOS – De-Googled Android Alternative</a>,\n",
       " <a href=\"from?site=calyxos.org\"><span class=\"sitestr\">calyxos.org</span></a>,\n",
       " <a class=\"hnuser\" href=\"user?id=ssklash\">ssklash</a>,\n",
       " <a href=\"item?id=28090024\">23 hours ago</a>,\n",
       " <a href=\"hide?id=28090024&amp;goto=news\">hide</a>,\n",
       " <a href=\"item?id=28090024\">422 comments</a>,\n",
       " <a href=\"vote?id=28097675&amp;how=up&amp;goto=news\" id=\"up_28097675\"><div class=\"votearrow\" title=\"upvote\"></div></a>,\n",
       " <a class=\"storylink\" href=\"https://www.bbc.co.uk/news/uk-scotland-tayside-central-58056235\">Capturing the Disappearing Sounds of the Workplace</a>,\n",
       " <a href=\"from?site=bbc.co.uk\"><span class=\"sitestr\">bbc.co.uk</span></a>,\n",
       " <a class=\"hnuser\" href=\"user?id=Kaibeezy\">Kaibeezy</a>,\n",
       " <a href=\"item?id=28097675\">5 hours ago</a>,\n",
       " <a href=\"hide?id=28097675&amp;goto=news\">hide</a>,\n",
       " <a href=\"item?id=28097675\">3 comments</a>,\n",
       " <a href=\"vote?id=28091750&amp;how=up&amp;goto=news\" id=\"up_28091750\"><div class=\"votearrow\" title=\"upvote\"></div></a>,\n",
       " <a class=\"storylink\" href=\"https://rentafounder.com/the-problem-with-perceptual-hashes/\">The Problem with Perceptual Hashes</a>,\n",
       " <a href=\"from?site=rentafounder.com\"><span class=\"sitestr\">rentafounder.com</span></a>,\n",
       " <a class=\"hnuser\" href=\"user?id=rivo\">rivo</a>,\n",
       " <a href=\"item?id=28091750\">20 hours ago</a>,\n",
       " <a href=\"hide?id=28091750&amp;goto=news\">hide</a>,\n",
       " <a href=\"item?id=28091750\">340 comments</a>,\n",
       " <a href=\"vote?id=28098803&amp;how=up&amp;goto=news\" id=\"up_28098803\"><div class=\"votearrow\" title=\"upvote\"></div></a>,\n",
       " <a class=\"storylink\" href=\"https://thehill.com/changing-america/sustainability/climate-change/566674-scientists-make-shocking-discovery-of-dead\">Scientists make discovery of dead zones where nothing can live on two US coasts</a>,\n",
       " <a href=\"from?site=thehill.com\"><span class=\"sitestr\">thehill.com</span></a>,\n",
       " <a class=\"hnuser\" href=\"user?id=DocFeind\">DocFeind</a>,\n",
       " <a href=\"item?id=28098803\">2 hours ago</a>,\n",
       " <a href=\"hide?id=28098803&amp;goto=news\">hide</a>,\n",
       " <a href=\"item?id=28098803\">discuss</a>,\n",
       " <a href=\"vote?id=28098047&amp;how=up&amp;goto=news\" id=\"up_28098047\"><div class=\"votearrow\" title=\"upvote\"></div></a>,\n",
       " <a class=\"storylink\" href=\"https://www.artnews.com/art-news/news/oldest-mint-spade-coins-chinese-foundry-1234601047/\">World’s Oldest Coin Mint Discovered in 2,800-Year-Old Chinese Foundry</a>,\n",
       " <a href=\"from?site=artnews.com\"><span class=\"sitestr\">artnews.com</span></a>,\n",
       " <a class=\"hnuser\" href=\"user?id=pseudolus\">pseudolus</a>,\n",
       " <a href=\"item?id=28098047\">4 hours ago</a>,\n",
       " <a href=\"hide?id=28098047&amp;goto=news\">hide</a>,\n",
       " <a href=\"item?id=28098047\">2 comments</a>,\n",
       " <a href=\"vote?id=28084319&amp;how=up&amp;goto=news\" id=\"up_28084319\"><div class=\"votearrow\" title=\"upvote\"></div></a>,\n",
       " <a class=\"storylink\" href=\"https://dantheclamman.blog/2020/07/04/the-mystery-of-the-giant-clams-of-the-red-sea-and-indian-ocean/\">The Mystery of the Giant Clams of the Red Sea and Indian Ocean (2020)</a>,\n",
       " <a href=\"from?site=dantheclamman.blog\"><span class=\"sitestr\">dantheclamman.blog</span></a>,\n",
       " <a class=\"hnuser\" href=\"user?id=dan-robertson\">dan-robertson</a>,\n",
       " <a href=\"item?id=28084319\">12 hours ago</a>,\n",
       " <a href=\"hide?id=28084319&amp;goto=news\">hide</a>,\n",
       " <a href=\"item?id=28084319\">5 comments</a>,\n",
       " <a href=\"vote?id=28095173&amp;how=up&amp;goto=news\" id=\"up_28095173\"><div class=\"votearrow\" title=\"upvote\"></div></a>,\n",
       " <a class=\"storylink\" href=\"https://jfloren.net/b/2021/8/6/1\">A USB adapter for a classic Depraz mouse</a>,\n",
       " <a href=\"from?site=jfloren.net\"><span class=\"sitestr\">jfloren.net</span></a>,\n",
       " <a class=\"hnuser\" href=\"user?id=floren\">floren</a>,\n",
       " <a href=\"item?id=28095173\">13 hours ago</a>,\n",
       " <a href=\"hide?id=28095173&amp;goto=news\">hide</a>,\n",
       " <a href=\"item?id=28095173\">21 comments</a>,\n",
       " <a href=\"vote?id=28097639&amp;how=up&amp;goto=news\" id=\"up_28097639\"><div class=\"votearrow\" title=\"upvote\"></div></a>,\n",
       " <a class=\"storylink\" href=\"https://utcc.utoronto.ca/~cks/space/blog/tech/NewTLDsMyMixedViews\">Mixed views on new DNS top level domains</a>,\n",
       " <a href=\"from?site=utoronto.ca\"><span class=\"sitestr\">utoronto.ca</span></a>,\n",
       " <a class=\"hnuser\" href=\"user?id=pcr910303\">pcr910303</a>,\n",
       " <a href=\"item?id=28097639\">5 hours ago</a>,\n",
       " <a href=\"hide?id=28097639&amp;goto=news\">hide</a>,\n",
       " <a href=\"item?id=28097639\">18 comments</a>,\n",
       " <a href=\"vote?id=28096512&amp;how=up&amp;goto=news\" id=\"up_28096512\"><div class=\"votearrow\" title=\"upvote\"></div></a>,\n",
       " <a class=\"storylink\" href=\"https://www.economist.com/briefing/2021/08/07/open-source-intelligence-challenges-state-monopolies-on-information\">Open-source intelligence challenges state monopolies on information</a>,\n",
       " <a href=\"from?site=economist.com\"><span class=\"sitestr\">economist.com</span></a>,\n",
       " <a class=\"hnuser\" href=\"user?id=helsinkiandrew\">helsinkiandrew</a>,\n",
       " <a href=\"item?id=28096512\">9 hours ago</a>,\n",
       " <a href=\"hide?id=28096512&amp;goto=news\">hide</a>,\n",
       " <a href=\"item?id=28096512\">14 comments</a>,\n",
       " <a href=\"vote?id=28094966&amp;how=up&amp;goto=news\" id=\"up_28094966\"><div class=\"votearrow\" title=\"upvote\"></div></a>,\n",
       " <a class=\"storylink\" href=\"https://hwp-viz.gsd.esrl.noaa.gov/smoke/index.html\">NOAA Smoke Forecast Model Visualization</a>,\n",
       " <a href=\"from?site=noaa.gov\"><span class=\"sitestr\">noaa.gov</span></a>,\n",
       " <a class=\"hnuser\" href=\"user?id=pizza\">pizza</a>,\n",
       " <a href=\"item?id=28094966\">14 hours ago</a>,\n",
       " <a href=\"hide?id=28094966&amp;goto=news\">hide</a>,\n",
       " <a href=\"item?id=28094966\">8 comments</a>,\n",
       " <a href=\"vote?id=28095648&amp;how=up&amp;goto=news\" id=\"up_28095648\"><div class=\"votearrow\" title=\"upvote\"></div></a>,\n",
       " <a class=\"storylink\" href=\"https://www.architecturaldigest.com/story/worlds-largest-astronomy-museum-opens-doors\">The World’s Largest Astronomy Museum Opens Its Doors</a>,\n",
       " <a href=\"from?site=architecturaldigest.com\"><span class=\"sitestr\">architecturaldigest.com</span></a>,\n",
       " <a class=\"hnuser\" href=\"user?id=fortran77\">fortran77</a>,\n",
       " <a href=\"item?id=28095648\">12 hours ago</a>,\n",
       " <a href=\"hide?id=28095648&amp;goto=news\">hide</a>,\n",
       " <a href=\"item?id=28095648\">1 comment</a>,\n",
       " <a href=\"vote?id=28097623&amp;how=up&amp;goto=news\" id=\"up_28097623\"><div class=\"votearrow\" title=\"upvote\"></div></a>,\n",
       " <a class=\"storylink\" href=\"https://techcrunch.com/2021/08/06/crypto-biden-amendment-infrastructure-bill-proof-of-work/\">Crypto community slams ‘disastrous’ new amendment to big infrastructure bill</a>,\n",
       " <a href=\"from?site=techcrunch.com\"><span class=\"sitestr\">techcrunch.com</span></a>,\n",
       " <a class=\"hnuser\" href=\"user?id=belter\">belter</a>,\n",
       " <a href=\"item?id=28097623\">5 hours ago</a>,\n",
       " <a href=\"hide?id=28097623&amp;goto=news\">hide</a>,\n",
       " <a href=\"item?id=28097623\">97 comments</a>,\n",
       " <a class=\"morelink\" href=\"news?p=2\" rel=\"next\">More</a>,\n",
       " <a href=\"https://www.ycombinator.com/apply/\">\n",
       "         Applications are open for YC Winter 2022\n",
       "       </a>,\n",
       " <a href=\"newsguidelines.html\">Guidelines</a>,\n",
       " <a href=\"newsfaq.html\">FAQ</a>,\n",
       " <a href=\"lists\">Lists</a>,\n",
       " <a href=\"https://github.com/HackerNews/API\">API</a>,\n",
       " <a href=\"security.html\">Security</a>,\n",
       " <a href=\"http://www.ycombinator.com/legal/\">Legal</a>,\n",
       " <a href=\"http://www.ycombinator.com/apply/\">Apply to YC</a>,\n",
       " <a href=\"mailto:hn@ycombinator.com\">Contact</a>]"
      ]
     },
     "execution_count": 125,
     "metadata": {},
     "output_type": "execute_result"
    }
   ],
   "source": [
    "# all the links of a page\n",
    "soup.find_all('a')"
   ]
  },
  {
   "cell_type": "code",
   "execution_count": 126,
   "metadata": {},
   "outputs": [
    {
     "data": {
      "text/plain": [
       "[<a href=\"https://news.ycombinator.com\"><img height=\"18\" src=\"y18.gif\" style=\"border:1px white solid;\" width=\"18\"/></a>,\n",
       " <a href=\"news\">Hacker News</a>,\n",
       " <a href=\"newest\">new</a>,\n",
       " <a href=\"front\">past</a>,\n",
       " <a href=\"newcomments\">comments</a>,\n",
       " <a href=\"ask\">ask</a>,\n",
       " <a href=\"show\">show</a>,\n",
       " <a href=\"jobs\">jobs</a>,\n",
       " <a href=\"submit\">submit</a>,\n",
       " <a href=\"login?goto=news\">login</a>,\n",
       " <a href=\"vote?id=28099264&amp;how=up&amp;goto=news\" id=\"up_28099264\"><div class=\"votearrow\" title=\"upvote\"></div></a>,\n",
       " <a class=\"storylink\" href=\"https://www.openwall.com/lists/oss-security/2021/08/07/1\">Bug in Lynx' SSL certificate validation – leaks password in clear text via SNI</a>,\n",
       " <a href=\"from?site=openwall.com\"><span class=\"sitestr\">openwall.com</span></a>,\n",
       " <a class=\"hnuser\" href=\"user?id=jwilk\">jwilk</a>,\n",
       " <a href=\"item?id=28099264\">59 minutes ago</a>,\n",
       " <a href=\"hide?id=28099264&amp;goto=news\">hide</a>,\n",
       " <a href=\"item?id=28099264\">12 comments</a>,\n",
       " <a href=\"vote?id=28098578&amp;how=up&amp;goto=news\" id=\"up_28098578\"><div class=\"votearrow\" title=\"upvote\"></div></a>,\n",
       " <a class=\"storylink\" href=\"https://blog.startifact.com/posts/framework-patterns.html#\">Framework Patterns (2019)</a>,\n",
       " <a href=\"from?site=startifact.com\"><span class=\"sitestr\">startifact.com</span></a>,\n",
       " <a class=\"hnuser\" href=\"user?id=rbanffy\">rbanffy</a>,\n",
       " <a href=\"item?id=28098578\">2 hours ago</a>,\n",
       " <a href=\"hide?id=28098578&amp;goto=news\">hide</a>,\n",
       " <a href=\"item?id=28098578\">12 comments</a>,\n",
       " <a href=\"vote?id=28098853&amp;how=up&amp;goto=news\" id=\"up_28098853\"><div class=\"votearrow\" title=\"upvote\"></div></a>,\n",
       " <a class=\"storylink\" href=\"https://caseyhandmer.wordpress.com/2021/04/25/powering-the-lunar-base/\">Powering the Lunar Base</a>,\n",
       " <a href=\"from?site=caseyhandmer.wordpress.com\"><span class=\"sitestr\">caseyhandmer.wordpress.com</span></a>,\n",
       " <a class=\"hnuser\" href=\"user?id=mercutio2\">mercutio2</a>,\n",
       " <a href=\"item?id=28098853\">1 hour ago</a>,\n",
       " <a href=\"hide?id=28098853&amp;goto=news\">hide</a>,\n",
       " <a href=\"item?id=28098853\">26 comments</a>,\n",
       " <a href=\"vote?id=28068248&amp;how=up&amp;goto=news\" id=\"up_28068248\"><div class=\"votearrow\" title=\"upvote\"></div></a>,\n",
       " <a class=\"storylink\" href=\"https://www.historytoday.com/archive/natural-histories/benjamin-bannekers-broods-cicadas\">Benjamin Banneker’s Broods of Cicadas</a>,\n",
       " <a href=\"from?site=historytoday.com\"><span class=\"sitestr\">historytoday.com</span></a>,\n",
       " <a class=\"hnuser\" href=\"user?id=Petiver\">Petiver</a>,\n",
       " <a href=\"item?id=28068248\">48 minutes ago</a>,\n",
       " <a href=\"hide?id=28068248&amp;goto=news\">hide</a>,\n",
       " <a href=\"item?id=28068248\">discuss</a>,\n",
       " <a href=\"vote?id=28098888&amp;how=up&amp;goto=news\" id=\"up_28098888\"><div class=\"votearrow\" title=\"upvote\"></div></a>,\n",
       " <a class=\"storylink\" href=\"https://www.msn.com/en-us/money/news/qatar-airways-grounds-13-airbus-a350s-as-fuselage-degrading/ar-AAMYDOB\">Qatar Airways grounds 13 Airbus A350s as fuselage degrading</a>,\n",
       " <a href=\"from?site=msn.com\"><span class=\"sitestr\">msn.com</span></a>,\n",
       " <a class=\"hnuser\" href=\"user?id=jryle70\">jryle70</a>,\n",
       " <a href=\"item?id=28098888\">1 hour ago</a>,\n",
       " <a href=\"hide?id=28098888&amp;goto=news\">hide</a>,\n",
       " <a href=\"item?id=28098888\">20 comments</a>,\n",
       " <a href=\"vote?id=28084166&amp;how=up&amp;goto=news\" id=\"up_28084166\"><div class=\"votearrow\" title=\"upvote\"></div></a>,\n",
       " <a class=\"storylink\" href=\"https://www.sciencealert.com/large-body-map-study-suggests-chronic-pain-comes-in-9-distinct-types\">Body mapping study suggests chronic pain comes in nine distinct types</a>,\n",
       " <a href=\"from?site=sciencealert.com\"><span class=\"sitestr\">sciencealert.com</span></a>,\n",
       " <a class=\"hnuser\" href=\"user?id=lnyan\">lnyan</a>,\n",
       " <a href=\"item?id=28084166\">9 hours ago</a>,\n",
       " <a href=\"hide?id=28084166&amp;goto=news\">hide</a>,\n",
       " <a href=\"item?id=28084166\">22 comments</a>,\n",
       " <a href=\"vote?id=28098664&amp;how=up&amp;goto=news\" id=\"up_28098664\"><div class=\"votearrow\" title=\"upvote\"></div></a>,\n",
       " <a class=\"storylink\" href=\"https://www.bloomberg.com/news/articles/2021-08-06/the-era-of-cheap-natural-gas-ends-as-prices-surge-by-1-000\">The Era of Cheap Natural Gas Ends as Prices Surge by 1000%</a>,\n",
       " <a href=\"from?site=bloomberg.com\"><span class=\"sitestr\">bloomberg.com</span></a>,\n",
       " <a class=\"hnuser\" href=\"user?id=montalbano\">montalbano</a>,\n",
       " <a href=\"item?id=28098664\">2 hours ago</a>,\n",
       " <a href=\"hide?id=28098664&amp;goto=news\">hide</a>,\n",
       " <a href=\"item?id=28098664\">46 comments</a>,\n",
       " <a href=\"vote?id=28096493&amp;how=up&amp;goto=news\" id=\"up_28096493\"><div class=\"votearrow\" title=\"upvote\"></div></a>,\n",
       " <a class=\"storylink\" href=\"https://pandas.pydata.org/pandas-docs/stable/pandas.pdf\">Pandas Manual [pdf]</a>,\n",
       " <a href=\"from?site=pydata.org\"><span class=\"sitestr\">pydata.org</span></a>,\n",
       " <a class=\"hnuser\" href=\"user?id=garren\">garren</a>,\n",
       " <a href=\"item?id=28096493\">4 hours ago</a>,\n",
       " <a href=\"hide?id=28096493&amp;goto=news\">hide</a>,\n",
       " <a href=\"item?id=28096493\">17 comments</a>,\n",
       " <a href=\"vote?id=28083440&amp;how=up&amp;goto=news\" id=\"up_28083440\"><div class=\"votearrow\" title=\"upvote\"></div></a>,\n",
       " <a class=\"storylink\" href=\"https://acoup.blog/2021/08/06/referenda-ad-senatum-august-6-2021-feelings-at-the-fall-of-the-republic-ancient-and-medieval-living-standards-and-zombies/\">Feelings at the Fall of the Republic, Ancient and Medieval Living Standards</a>,\n",
       " <a href=\"from?site=acoup.blog\"><span class=\"sitestr\">acoup.blog</span></a>,\n",
       " <a class=\"hnuser\" href=\"user?id=parsecs\">parsecs</a>,\n",
       " <a href=\"item?id=28083440\">8 hours ago</a>,\n",
       " <a href=\"hide?id=28083440&amp;goto=news\">hide</a>,\n",
       " <a href=\"item?id=28083440\">32 comments</a>,\n",
       " <a href=\"vote?id=28096710&amp;how=up&amp;goto=news\" id=\"up_28096710\"><div class=\"votearrow\" title=\"upvote\"></div></a>,\n",
       " <a class=\"storylink\" href=\"https://i.blackhat.com/USA21/Wednesday-Handouts/us-21-Everything-Has-Changed-In-IOS-14-But-Jailbreak-Is-Eternal.pdf\">Everything has changed in iOS 14, but Jailbreak is eternal [pdf]</a>,\n",
       " <a href=\"from?site=blackhat.com\"><span class=\"sitestr\">blackhat.com</span></a>,\n",
       " <a class=\"hnuser\" href=\"user?id=clubdorothe\">clubdorothe</a>,\n",
       " <a href=\"item?id=28096710\">8 hours ago</a>,\n",
       " <a href=\"hide?id=28096710&amp;goto=news\">hide</a>,\n",
       " <a href=\"item?id=28096710\">4 comments</a>,\n",
       " <a href=\"vote?id=28098658&amp;how=up&amp;goto=news\" id=\"up_28098658\"><div class=\"votearrow\" title=\"upvote\"></div></a>,\n",
       " <a class=\"storylink\" href=\"https://www.theblaze.com/news/nasa-is-looking-for-people-who-want-to-spend-a-year-simulating-a-mission-on-mars\">NASA is looking for people who want to spend a year simulating a mission on Mars</a>,\n",
       " <a href=\"from?site=theblaze.com\"><span class=\"sitestr\">theblaze.com</span></a>,\n",
       " <a class=\"hnuser\" href=\"user?id=RickJWagner\">RickJWagner</a>,\n",
       " <a href=\"item?id=28098658\">2 hours ago</a>,\n",
       " <a href=\"hide?id=28098658&amp;goto=news\">hide</a>,\n",
       " <a href=\"item?id=28098658\">31 comments</a>,\n",
       " <a href=\"vote?id=28085642&amp;how=up&amp;goto=news\" id=\"up_28085642\"><div class=\"votearrow\" title=\"upvote\"></div></a>,\n",
       " <a class=\"storylink\" href=\"item?id=28085642\">Incorrect expression calculation between programming languages</a>,\n",
       " <a class=\"hnuser\" href=\"user?id=mingodad\">mingodad</a>,\n",
       " <a href=\"item?id=28085642\">3 hours ago</a>,\n",
       " <a href=\"hide?id=28085642&amp;goto=news\">hide</a>,\n",
       " <a href=\"item?id=28085642\">13 comments</a>,\n",
       " <a href=\"vote?id=28085920&amp;how=up&amp;goto=news\" id=\"up_28085920\"><div class=\"votearrow\" title=\"upvote\"></div></a>,\n",
       " <a class=\"storylink\" href=\"https://papertime.app\">Show HN: Paper Time – Listen to abstracts of CS papers, like a custom podcast</a>,\n",
       " <a href=\"from?site=papertime.app\"><span class=\"sitestr\">papertime.app</span></a>,\n",
       " <a class=\"hnuser\" href=\"user?id=pramodbiligiri\">pramodbiligiri</a>,\n",
       " <a href=\"item?id=28085920\">13 hours ago</a>,\n",
       " <a href=\"hide?id=28085920&amp;goto=news\">hide</a>,\n",
       " <a href=\"item?id=28085920\">29 comments</a>,\n",
       " <a class=\"storylink\" href=\"https://upchieve.welcomekit.co/jobs/mobile-engineer_brooklyn\" rel=\"nofollow\">UPchieve (YC W21) is hiring a mobile engineer to democratize free tutoring</a>,\n",
       " <a href=\"from?site=welcomekit.co\"><span class=\"sitestr\">welcomekit.co</span></a>,\n",
       " <a href=\"item?id=28097927\">4 hours ago</a>,\n",
       " <a href=\"hide?id=28097927&amp;goto=news\">hide</a>,\n",
       " <a href=\"vote?id=28085526&amp;how=up&amp;goto=news\" id=\"up_28085526\"><div class=\"votearrow\" title=\"upvote\"></div></a>,\n",
       " <a class=\"storylink\" href=\"https://psyche.co/ideas/in-praise-of-habits-so-much-more-than-mindless-reflexes\">In praise of habits</a>,\n",
       " <a href=\"from?site=psyche.co\"><span class=\"sitestr\">psyche.co</span></a>,\n",
       " <a class=\"hnuser\" href=\"user?id=pseudolus\">pseudolus</a>,\n",
       " <a href=\"item?id=28085526\">7 hours ago</a>,\n",
       " <a href=\"hide?id=28085526&amp;goto=news\">hide</a>,\n",
       " <a href=\"item?id=28085526\">3 comments</a>,\n",
       " <a href=\"vote?id=28097600&amp;how=up&amp;goto=news\" id=\"up_28097600\"><div class=\"votearrow\" title=\"upvote\"></div></a>,\n",
       " <a class=\"storylink\" href=\"https://www.servethehome.com/planning-for-servers-in-2022-and-beyond-series/\">Planning for Servers in 2022 and Beyond</a>,\n",
       " <a href=\"from?site=servethehome.com\"><span class=\"sitestr\">servethehome.com</span></a>,\n",
       " <a class=\"hnuser\" href=\"user?id=vanburen\">vanburen</a>,\n",
       " <a href=\"item?id=28097600\">5 hours ago</a>,\n",
       " <a href=\"hide?id=28097600&amp;goto=news\">hide</a>,\n",
       " <a href=\"item?id=28097600\">4 comments</a>,\n",
       " <a href=\"vote?id=28095632&amp;how=up&amp;goto=news\" id=\"up_28095632\"><div class=\"votearrow\" title=\"upvote\"></div></a>,\n",
       " <a class=\"storylink\" href=\"https://www.nzz.ch/english/swiss-phd-students-dismissal-spotlights-chinas-influence-ld.1638771\">Swiss Ph.D student’s dismissal spotlights China’s influence</a>,\n",
       " <a href=\"from?site=nzz.ch\"><span class=\"sitestr\">nzz.ch</span></a>,\n",
       " <a class=\"hnuser\" href=\"user?id=ipnon\">ipnon</a>,\n",
       " <a href=\"item?id=28095632\">12 hours ago</a>,\n",
       " <a href=\"hide?id=28095632&amp;goto=news\">hide</a>,\n",
       " <a href=\"item?id=28095632\">269 comments</a>,\n",
       " <a href=\"vote?id=28084861&amp;how=up&amp;goto=news\" id=\"up_28084861\"><div class=\"votearrow\" title=\"upvote\"></div></a>,\n",
       " <a class=\"storylink\" href=\"https://www.theguardian.com/news/2018/sep/18/a-giant-crawling-brain-the-jaw-dropping-world-of-termites\">A giant crawling brain: the world of termites (2018)</a>,\n",
       " <a href=\"from?site=theguardian.com\"><span class=\"sitestr\">theguardian.com</span></a>,\n",
       " <a class=\"hnuser\" href=\"user?id=NotSwift\">NotSwift</a>,\n",
       " <a href=\"item?id=28084861\">11 hours ago</a>,\n",
       " <a href=\"hide?id=28084861&amp;goto=news\">hide</a>,\n",
       " <a href=\"item?id=28084861\">7 comments</a>,\n",
       " <a href=\"vote?id=28090024&amp;how=up&amp;goto=news\" id=\"up_28090024\"><div class=\"votearrow\" title=\"upvote\"></div></a>,\n",
       " <a class=\"storylink\" href=\"https://calyxos.org/\">CalyxOS – De-Googled Android Alternative</a>,\n",
       " <a href=\"from?site=calyxos.org\"><span class=\"sitestr\">calyxos.org</span></a>,\n",
       " <a class=\"hnuser\" href=\"user?id=ssklash\">ssklash</a>,\n",
       " <a href=\"item?id=28090024\">23 hours ago</a>,\n",
       " <a href=\"hide?id=28090024&amp;goto=news\">hide</a>,\n",
       " <a href=\"item?id=28090024\">422 comments</a>,\n",
       " <a href=\"vote?id=28097675&amp;how=up&amp;goto=news\" id=\"up_28097675\"><div class=\"votearrow\" title=\"upvote\"></div></a>,\n",
       " <a class=\"storylink\" href=\"https://www.bbc.co.uk/news/uk-scotland-tayside-central-58056235\">Capturing the Disappearing Sounds of the Workplace</a>,\n",
       " <a href=\"from?site=bbc.co.uk\"><span class=\"sitestr\">bbc.co.uk</span></a>,\n",
       " <a class=\"hnuser\" href=\"user?id=Kaibeezy\">Kaibeezy</a>,\n",
       " <a href=\"item?id=28097675\">5 hours ago</a>,\n",
       " <a href=\"hide?id=28097675&amp;goto=news\">hide</a>,\n",
       " <a href=\"item?id=28097675\">3 comments</a>,\n",
       " <a href=\"vote?id=28091750&amp;how=up&amp;goto=news\" id=\"up_28091750\"><div class=\"votearrow\" title=\"upvote\"></div></a>,\n",
       " <a class=\"storylink\" href=\"https://rentafounder.com/the-problem-with-perceptual-hashes/\">The Problem with Perceptual Hashes</a>,\n",
       " <a href=\"from?site=rentafounder.com\"><span class=\"sitestr\">rentafounder.com</span></a>,\n",
       " <a class=\"hnuser\" href=\"user?id=rivo\">rivo</a>,\n",
       " <a href=\"item?id=28091750\">20 hours ago</a>,\n",
       " <a href=\"hide?id=28091750&amp;goto=news\">hide</a>,\n",
       " <a href=\"item?id=28091750\">340 comments</a>,\n",
       " <a href=\"vote?id=28098803&amp;how=up&amp;goto=news\" id=\"up_28098803\"><div class=\"votearrow\" title=\"upvote\"></div></a>,\n",
       " <a class=\"storylink\" href=\"https://thehill.com/changing-america/sustainability/climate-change/566674-scientists-make-shocking-discovery-of-dead\">Scientists make discovery of dead zones where nothing can live on two US coasts</a>,\n",
       " <a href=\"from?site=thehill.com\"><span class=\"sitestr\">thehill.com</span></a>,\n",
       " <a class=\"hnuser\" href=\"user?id=DocFeind\">DocFeind</a>,\n",
       " <a href=\"item?id=28098803\">2 hours ago</a>,\n",
       " <a href=\"hide?id=28098803&amp;goto=news\">hide</a>,\n",
       " <a href=\"item?id=28098803\">discuss</a>,\n",
       " <a href=\"vote?id=28098047&amp;how=up&amp;goto=news\" id=\"up_28098047\"><div class=\"votearrow\" title=\"upvote\"></div></a>,\n",
       " <a class=\"storylink\" href=\"https://www.artnews.com/art-news/news/oldest-mint-spade-coins-chinese-foundry-1234601047/\">World’s Oldest Coin Mint Discovered in 2,800-Year-Old Chinese Foundry</a>,\n",
       " <a href=\"from?site=artnews.com\"><span class=\"sitestr\">artnews.com</span></a>,\n",
       " <a class=\"hnuser\" href=\"user?id=pseudolus\">pseudolus</a>,\n",
       " <a href=\"item?id=28098047\">4 hours ago</a>,\n",
       " <a href=\"hide?id=28098047&amp;goto=news\">hide</a>,\n",
       " <a href=\"item?id=28098047\">2 comments</a>,\n",
       " <a href=\"vote?id=28084319&amp;how=up&amp;goto=news\" id=\"up_28084319\"><div class=\"votearrow\" title=\"upvote\"></div></a>,\n",
       " <a class=\"storylink\" href=\"https://dantheclamman.blog/2020/07/04/the-mystery-of-the-giant-clams-of-the-red-sea-and-indian-ocean/\">The Mystery of the Giant Clams of the Red Sea and Indian Ocean (2020)</a>,\n",
       " <a href=\"from?site=dantheclamman.blog\"><span class=\"sitestr\">dantheclamman.blog</span></a>,\n",
       " <a class=\"hnuser\" href=\"user?id=dan-robertson\">dan-robertson</a>,\n",
       " <a href=\"item?id=28084319\">12 hours ago</a>,\n",
       " <a href=\"hide?id=28084319&amp;goto=news\">hide</a>,\n",
       " <a href=\"item?id=28084319\">5 comments</a>,\n",
       " <a href=\"vote?id=28095173&amp;how=up&amp;goto=news\" id=\"up_28095173\"><div class=\"votearrow\" title=\"upvote\"></div></a>,\n",
       " <a class=\"storylink\" href=\"https://jfloren.net/b/2021/8/6/1\">A USB adapter for a classic Depraz mouse</a>,\n",
       " <a href=\"from?site=jfloren.net\"><span class=\"sitestr\">jfloren.net</span></a>,\n",
       " <a class=\"hnuser\" href=\"user?id=floren\">floren</a>,\n",
       " <a href=\"item?id=28095173\">13 hours ago</a>,\n",
       " <a href=\"hide?id=28095173&amp;goto=news\">hide</a>,\n",
       " <a href=\"item?id=28095173\">21 comments</a>,\n",
       " <a href=\"vote?id=28097639&amp;how=up&amp;goto=news\" id=\"up_28097639\"><div class=\"votearrow\" title=\"upvote\"></div></a>,\n",
       " <a class=\"storylink\" href=\"https://utcc.utoronto.ca/~cks/space/blog/tech/NewTLDsMyMixedViews\">Mixed views on new DNS top level domains</a>,\n",
       " <a href=\"from?site=utoronto.ca\"><span class=\"sitestr\">utoronto.ca</span></a>,\n",
       " <a class=\"hnuser\" href=\"user?id=pcr910303\">pcr910303</a>,\n",
       " <a href=\"item?id=28097639\">5 hours ago</a>,\n",
       " <a href=\"hide?id=28097639&amp;goto=news\">hide</a>,\n",
       " <a href=\"item?id=28097639\">18 comments</a>,\n",
       " <a href=\"vote?id=28096512&amp;how=up&amp;goto=news\" id=\"up_28096512\"><div class=\"votearrow\" title=\"upvote\"></div></a>,\n",
       " <a class=\"storylink\" href=\"https://www.economist.com/briefing/2021/08/07/open-source-intelligence-challenges-state-monopolies-on-information\">Open-source intelligence challenges state monopolies on information</a>,\n",
       " <a href=\"from?site=economist.com\"><span class=\"sitestr\">economist.com</span></a>,\n",
       " <a class=\"hnuser\" href=\"user?id=helsinkiandrew\">helsinkiandrew</a>,\n",
       " <a href=\"item?id=28096512\">9 hours ago</a>,\n",
       " <a href=\"hide?id=28096512&amp;goto=news\">hide</a>,\n",
       " <a href=\"item?id=28096512\">14 comments</a>,\n",
       " <a href=\"vote?id=28094966&amp;how=up&amp;goto=news\" id=\"up_28094966\"><div class=\"votearrow\" title=\"upvote\"></div></a>,\n",
       " <a class=\"storylink\" href=\"https://hwp-viz.gsd.esrl.noaa.gov/smoke/index.html\">NOAA Smoke Forecast Model Visualization</a>,\n",
       " <a href=\"from?site=noaa.gov\"><span class=\"sitestr\">noaa.gov</span></a>,\n",
       " <a class=\"hnuser\" href=\"user?id=pizza\">pizza</a>,\n",
       " <a href=\"item?id=28094966\">14 hours ago</a>,\n",
       " <a href=\"hide?id=28094966&amp;goto=news\">hide</a>,\n",
       " <a href=\"item?id=28094966\">8 comments</a>,\n",
       " <a href=\"vote?id=28095648&amp;how=up&amp;goto=news\" id=\"up_28095648\"><div class=\"votearrow\" title=\"upvote\"></div></a>,\n",
       " <a class=\"storylink\" href=\"https://www.architecturaldigest.com/story/worlds-largest-astronomy-museum-opens-doors\">The World’s Largest Astronomy Museum Opens Its Doors</a>,\n",
       " <a href=\"from?site=architecturaldigest.com\"><span class=\"sitestr\">architecturaldigest.com</span></a>,\n",
       " <a class=\"hnuser\" href=\"user?id=fortran77\">fortran77</a>,\n",
       " <a href=\"item?id=28095648\">12 hours ago</a>,\n",
       " <a href=\"hide?id=28095648&amp;goto=news\">hide</a>,\n",
       " <a href=\"item?id=28095648\">1 comment</a>,\n",
       " <a href=\"vote?id=28097623&amp;how=up&amp;goto=news\" id=\"up_28097623\"><div class=\"votearrow\" title=\"upvote\"></div></a>,\n",
       " <a class=\"storylink\" href=\"https://techcrunch.com/2021/08/06/crypto-biden-amendment-infrastructure-bill-proof-of-work/\">Crypto community slams ‘disastrous’ new amendment to big infrastructure bill</a>,\n",
       " <a href=\"from?site=techcrunch.com\"><span class=\"sitestr\">techcrunch.com</span></a>,\n",
       " <a class=\"hnuser\" href=\"user?id=belter\">belter</a>,\n",
       " <a href=\"item?id=28097623\">5 hours ago</a>,\n",
       " <a href=\"hide?id=28097623&amp;goto=news\">hide</a>,\n",
       " <a href=\"item?id=28097623\">97 comments</a>,\n",
       " <a class=\"morelink\" href=\"news?p=2\" rel=\"next\">More</a>,\n",
       " <a href=\"https://www.ycombinator.com/apply/\">\n",
       "         Applications are open for YC Winter 2022\n",
       "       </a>,\n",
       " <a href=\"newsguidelines.html\">Guidelines</a>,\n",
       " <a href=\"newsfaq.html\">FAQ</a>,\n",
       " <a href=\"lists\">Lists</a>,\n",
       " <a href=\"https://github.com/HackerNews/API\">API</a>,\n",
       " <a href=\"security.html\">Security</a>,\n",
       " <a href=\"http://www.ycombinator.com/legal/\">Legal</a>,\n",
       " <a href=\"http://www.ycombinator.com/apply/\">Apply to YC</a>,\n",
       " <a href=\"mailto:hn@ycombinator.com\">Contact</a>]"
      ]
     },
     "execution_count": 126,
     "metadata": {},
     "output_type": "execute_result"
    }
   ],
   "source": [
    "soup.select('a')"
   ]
  },
  {
   "cell_type": "code",
   "execution_count": 127,
   "metadata": {
    "scrolled": true
   },
   "outputs": [
    {
     "data": {
      "text/plain": [
       "[<span class=\"score\" id=\"score_28099264\">55 points</span>,\n",
       " <span class=\"score\" id=\"score_28098578\">68 points</span>,\n",
       " <span class=\"score\" id=\"score_28098853\">46 points</span>,\n",
       " <span class=\"score\" id=\"score_28068248\">17 points</span>,\n",
       " <span class=\"score\" id=\"score_28098888\">51 points</span>,\n",
       " <span class=\"score\" id=\"score_28084166\">121 points</span>,\n",
       " <span class=\"score\" id=\"score_28098664\">67 points</span>,\n",
       " <span class=\"score\" id=\"score_28096493\">30 points</span>,\n",
       " <span class=\"score\" id=\"score_28083440\">86 points</span>,\n",
       " <span class=\"score\" id=\"score_28096710\">62 points</span>,\n",
       " <span class=\"score\" id=\"score_28098658\">52 points</span>,\n",
       " <span class=\"score\" id=\"score_28085642\">17 points</span>,\n",
       " <span class=\"score\" id=\"score_28085920\">123 points</span>,\n",
       " <span class=\"score\" id=\"score_28085526\">51 points</span>,\n",
       " <span class=\"score\" id=\"score_28097600\">28 points</span>,\n",
       " <span class=\"score\" id=\"score_28095632\">543 points</span>,\n",
       " <span class=\"score\" id=\"score_28084861\">58 points</span>,\n",
       " <span class=\"score\" id=\"score_28090024\">873 points</span>,\n",
       " <span class=\"score\" id=\"score_28097675\">13 points</span>,\n",
       " <span class=\"score\" id=\"score_28091750\">588 points</span>,\n",
       " <span class=\"score\" id=\"score_28098803\">14 points</span>,\n",
       " <span class=\"score\" id=\"score_28098047\">31 points</span>,\n",
       " <span class=\"score\" id=\"score_28084319\">63 points</span>,\n",
       " <span class=\"score\" id=\"score_28095173\">69 points</span>,\n",
       " <span class=\"score\" id=\"score_28097639\">28 points</span>,\n",
       " <span class=\"score\" id=\"score_28096512\">113 points</span>,\n",
       " <span class=\"score\" id=\"score_28094966\">73 points</span>,\n",
       " <span class=\"score\" id=\"score_28095648\">44 points</span>,\n",
       " <span class=\"score\" id=\"score_28097623\">160 points</span>]"
      ]
     },
     "execution_count": 127,
     "metadata": {},
     "output_type": "execute_result"
    }
   ],
   "source": [
    "soup.select('.score')"
   ]
  },
  {
   "cell_type": "code",
   "execution_count": 128,
   "metadata": {},
   "outputs": [
    {
     "data": {
      "text/plain": [
       "[]"
      ]
     },
     "execution_count": 128,
     "metadata": {},
     "output_type": "execute_result"
    }
   ],
   "source": [
    "soup.select('#score_26628233')"
   ]
  },
  {
   "cell_type": "code",
   "execution_count": 129,
   "metadata": {},
   "outputs": [
    {
     "data": {
      "text/plain": [
       "<a class=\"storylink\" href=\"https://www.openwall.com/lists/oss-security/2021/08/07/1\">Bug in Lynx' SSL certificate validation – leaks password in clear text via SNI</a>"
      ]
     },
     "execution_count": 129,
     "metadata": {},
     "output_type": "execute_result"
    }
   ],
   "source": [
    "soup.select('.storylink')[0]"
   ]
  },
  {
   "cell_type": "code",
   "execution_count": 130,
   "metadata": {},
   "outputs": [
    {
     "data": {
      "text/plain": [
       "<span class=\"score\" id=\"score_28099264\">55 points</span>"
      ]
     },
     "execution_count": 130,
     "metadata": {},
     "output_type": "execute_result"
    }
   ],
   "source": [
    "soup.select('.score')[0]"
   ]
  },
  {
   "cell_type": "code",
   "execution_count": 131,
   "metadata": {},
   "outputs": [],
   "source": [
    "links = soup.select('.storylink')\n",
    "votes = soup.select('.score')"
   ]
  },
  {
   "cell_type": "code",
   "execution_count": 132,
   "metadata": {},
   "outputs": [],
   "source": [
    "def create_custom_hn(links, votes):\n",
    "    hn = []\n",
    "    \n",
    "    for index, item in enumerate(links):\n",
    "        title = links[index].getText()\n",
    "        hn.append(title)\n",
    "    \n",
    "    return hn"
   ]
  },
  {
   "cell_type": "code",
   "execution_count": 133,
   "metadata": {
    "scrolled": true
   },
   "outputs": [
    {
     "data": {
      "text/plain": [
       "[\"Bug in Lynx' SSL certificate validation – leaks password in clear text via SNI\",\n",
       " 'Framework Patterns (2019)',\n",
       " 'Powering the Lunar Base',\n",
       " 'Benjamin Banneker’s Broods of Cicadas',\n",
       " 'Qatar Airways grounds 13 Airbus A350s as fuselage degrading',\n",
       " 'Body mapping study suggests chronic pain comes in nine distinct types',\n",
       " 'The Era of Cheap Natural Gas Ends as Prices Surge by 1000%',\n",
       " 'Pandas Manual [pdf]',\n",
       " 'Feelings at the Fall of the Republic, Ancient and Medieval Living Standards',\n",
       " 'Everything has changed in iOS 14, but Jailbreak is eternal [pdf]',\n",
       " 'NASA is looking for people who want to spend a year simulating a mission on Mars',\n",
       " 'Incorrect expression calculation between programming languages',\n",
       " 'Show HN: Paper Time – Listen to abstracts of CS papers, like a custom podcast',\n",
       " 'UPchieve (YC W21) is hiring a mobile engineer to democratize free tutoring',\n",
       " 'In praise of habits',\n",
       " 'Planning for Servers in 2022 and Beyond',\n",
       " 'Swiss Ph.D student’s dismissal spotlights China’s influence',\n",
       " 'A giant crawling brain: the world of termites (2018)',\n",
       " 'CalyxOS – De-Googled Android Alternative',\n",
       " 'Capturing the Disappearing Sounds of the Workplace',\n",
       " 'The Problem with Perceptual Hashes',\n",
       " 'Scientists make discovery of dead zones where nothing can live on two US coasts',\n",
       " 'World’s Oldest Coin Mint Discovered in 2,800-Year-Old Chinese Foundry',\n",
       " 'The Mystery of the Giant Clams of the Red Sea and Indian Ocean (2020)',\n",
       " 'A USB adapter for a classic Depraz mouse',\n",
       " 'Mixed views on new DNS top level domains',\n",
       " 'Open-source intelligence challenges state monopolies on information',\n",
       " 'NOAA Smoke Forecast Model Visualization',\n",
       " 'The World’s Largest Astronomy Museum Opens Its Doors',\n",
       " 'Crypto community slams ‘disastrous’ new amendment to big infrastructure bill']"
      ]
     },
     "execution_count": 133,
     "metadata": {},
     "output_type": "execute_result"
    }
   ],
   "source": [
    "create_custom_hn(links,votes)"
   ]
  },
  {
   "cell_type": "code",
   "execution_count": 134,
   "metadata": {},
   "outputs": [],
   "source": [
    "def create_custom_hn(links, votes):\n",
    "    hn = []\n",
    "    \n",
    "    for index, item in enumerate(links):\n",
    "        title = links[index].getText()\n",
    "        href = links[index].get('href', None)\n",
    "        points = int(votes[index].getText().replace(' points', ''))\n",
    "        print(points)\n",
    "        hn.append({'title':title, 'link':href, 'points':points})\n",
    "    \n",
    "    return hn"
   ]
  },
  {
   "cell_type": "code",
   "execution_count": 135,
   "metadata": {},
   "outputs": [
    {
     "name": "stdout",
     "output_type": "stream",
     "text": [
      "55\n",
      "68\n",
      "46\n",
      "17\n",
      "51\n",
      "121\n",
      "67\n",
      "30\n",
      "86\n",
      "62\n",
      "52\n",
      "17\n",
      "123\n",
      "51\n",
      "28\n",
      "543\n",
      "58\n",
      "873\n",
      "13\n",
      "588\n",
      "14\n",
      "31\n",
      "63\n",
      "69\n",
      "28\n",
      "113\n",
      "73\n",
      "44\n",
      "160\n"
     ]
    },
    {
     "ename": "IndexError",
     "evalue": "list index out of range",
     "output_type": "error",
     "traceback": [
      "\u001b[1;31m---------------------------------------------------------------------------\u001b[0m",
      "\u001b[1;31mIndexError\u001b[0m                                Traceback (most recent call last)",
      "\u001b[1;32m<ipython-input-135-cf5f02be6612>\u001b[0m in \u001b[0;36m<module>\u001b[1;34m\u001b[0m\n\u001b[1;32m----> 1\u001b[1;33m \u001b[0mcreate_custom_hn\u001b[0m\u001b[1;33m(\u001b[0m\u001b[0mlinks\u001b[0m\u001b[1;33m,\u001b[0m\u001b[0mvotes\u001b[0m\u001b[1;33m)\u001b[0m\u001b[1;33m\u001b[0m\u001b[1;33m\u001b[0m\u001b[0m\n\u001b[0m",
      "\u001b[1;32m<ipython-input-134-df0d2f452af1>\u001b[0m in \u001b[0;36mcreate_custom_hn\u001b[1;34m(links, votes)\u001b[0m\n\u001b[0;32m      5\u001b[0m         \u001b[0mtitle\u001b[0m \u001b[1;33m=\u001b[0m \u001b[0mlinks\u001b[0m\u001b[1;33m[\u001b[0m\u001b[0mindex\u001b[0m\u001b[1;33m]\u001b[0m\u001b[1;33m.\u001b[0m\u001b[0mgetText\u001b[0m\u001b[1;33m(\u001b[0m\u001b[1;33m)\u001b[0m\u001b[1;33m\u001b[0m\u001b[1;33m\u001b[0m\u001b[0m\n\u001b[0;32m      6\u001b[0m         \u001b[0mhref\u001b[0m \u001b[1;33m=\u001b[0m \u001b[0mlinks\u001b[0m\u001b[1;33m[\u001b[0m\u001b[0mindex\u001b[0m\u001b[1;33m]\u001b[0m\u001b[1;33m.\u001b[0m\u001b[0mget\u001b[0m\u001b[1;33m(\u001b[0m\u001b[1;34m'href'\u001b[0m\u001b[1;33m,\u001b[0m \u001b[1;32mNone\u001b[0m\u001b[1;33m)\u001b[0m\u001b[1;33m\u001b[0m\u001b[1;33m\u001b[0m\u001b[0m\n\u001b[1;32m----> 7\u001b[1;33m         \u001b[0mpoints\u001b[0m \u001b[1;33m=\u001b[0m \u001b[0mint\u001b[0m\u001b[1;33m(\u001b[0m\u001b[0mvotes\u001b[0m\u001b[1;33m[\u001b[0m\u001b[0mindex\u001b[0m\u001b[1;33m]\u001b[0m\u001b[1;33m.\u001b[0m\u001b[0mgetText\u001b[0m\u001b[1;33m(\u001b[0m\u001b[1;33m)\u001b[0m\u001b[1;33m.\u001b[0m\u001b[0mreplace\u001b[0m\u001b[1;33m(\u001b[0m\u001b[1;34m' points'\u001b[0m\u001b[1;33m,\u001b[0m \u001b[1;34m''\u001b[0m\u001b[1;33m)\u001b[0m\u001b[1;33m)\u001b[0m\u001b[1;33m\u001b[0m\u001b[1;33m\u001b[0m\u001b[0m\n\u001b[0m\u001b[0;32m      8\u001b[0m         \u001b[0mprint\u001b[0m\u001b[1;33m(\u001b[0m\u001b[0mpoints\u001b[0m\u001b[1;33m)\u001b[0m\u001b[1;33m\u001b[0m\u001b[1;33m\u001b[0m\u001b[0m\n\u001b[0;32m      9\u001b[0m         \u001b[0mhn\u001b[0m\u001b[1;33m.\u001b[0m\u001b[0mappend\u001b[0m\u001b[1;33m(\u001b[0m\u001b[1;33m{\u001b[0m\u001b[1;34m'title'\u001b[0m\u001b[1;33m:\u001b[0m\u001b[0mtitle\u001b[0m\u001b[1;33m,\u001b[0m \u001b[1;34m'link'\u001b[0m\u001b[1;33m:\u001b[0m\u001b[0mhref\u001b[0m\u001b[1;33m,\u001b[0m \u001b[1;34m'points'\u001b[0m\u001b[1;33m:\u001b[0m\u001b[0mpoints\u001b[0m\u001b[1;33m}\u001b[0m\u001b[1;33m)\u001b[0m\u001b[1;33m\u001b[0m\u001b[1;33m\u001b[0m\u001b[0m\n",
      "\u001b[1;31mIndexError\u001b[0m: list index out of range"
     ]
    }
   ],
   "source": [
    "create_custom_hn(links,votes)"
   ]
  },
  {
   "cell_type": "code",
   "execution_count": 136,
   "metadata": {},
   "outputs": [],
   "source": [
    "url = 'https://news.ycombinator.com/news'\n",
    "res_hack = requests.get(url)\n",
    "\n",
    "soup = BeautifulSoup(markup=res_hack.text, features='html.parser')\n",
    "links = soup.select('.storylink')\n",
    "subtext = soup.select('.subtext')\n",
    "\n",
    "def create_custom_hn(links, subtext):\n",
    "    hn = []\n",
    "    \n",
    "    for index, item in enumerate(links):\n",
    "        title = links[index].getText()\n",
    "        href = links[index].get('href', None)\n",
    "        vote = subtext[index].select('.score')\n",
    "        \n",
    "        if len(vote):\n",
    "            points = int(vote[0].getText().replace(' points', ''))\n",
    "        \n",
    "        hn.append({'title':title, 'link':href, 'points':points})\n",
    "    \n",
    "    return hn"
   ]
  },
  {
   "cell_type": "code",
   "execution_count": 137,
   "metadata": {
    "scrolled": true
   },
   "outputs": [
    {
     "data": {
      "text/plain": [
       "[{'title': \"Bug in Lynx' SSL certificate validation – leaks password in clear text via SNI\",\n",
       "  'link': 'https://www.openwall.com/lists/oss-security/2021/08/07/1',\n",
       "  'points': 55},\n",
       " {'title': 'Framework Patterns (2019)',\n",
       "  'link': 'https://blog.startifact.com/posts/framework-patterns.html#',\n",
       "  'points': 68},\n",
       " {'title': 'Powering the Lunar Base',\n",
       "  'link': 'https://caseyhandmer.wordpress.com/2021/04/25/powering-the-lunar-base/',\n",
       "  'points': 46},\n",
       " {'title': 'Benjamin Banneker’s Broods of Cicadas',\n",
       "  'link': 'https://www.historytoday.com/archive/natural-histories/benjamin-bannekers-broods-cicadas',\n",
       "  'points': 17},\n",
       " {'title': 'Qatar Airways grounds 13 Airbus A350s as fuselage degrading',\n",
       "  'link': 'https://www.msn.com/en-us/money/news/qatar-airways-grounds-13-airbus-a350s-as-fuselage-degrading/ar-AAMYDOB',\n",
       "  'points': 51},\n",
       " {'title': 'Body mapping study suggests chronic pain comes in nine distinct types',\n",
       "  'link': 'https://www.sciencealert.com/large-body-map-study-suggests-chronic-pain-comes-in-9-distinct-types',\n",
       "  'points': 121},\n",
       " {'title': 'The Era of Cheap Natural Gas Ends as Prices Surge by 1000%',\n",
       "  'link': 'https://www.bloomberg.com/news/articles/2021-08-06/the-era-of-cheap-natural-gas-ends-as-prices-surge-by-1-000',\n",
       "  'points': 67},\n",
       " {'title': 'Pandas Manual [pdf]',\n",
       "  'link': 'https://pandas.pydata.org/pandas-docs/stable/pandas.pdf',\n",
       "  'points': 30},\n",
       " {'title': 'Feelings at the Fall of the Republic, Ancient and Medieval Living Standards',\n",
       "  'link': 'https://acoup.blog/2021/08/06/referenda-ad-senatum-august-6-2021-feelings-at-the-fall-of-the-republic-ancient-and-medieval-living-standards-and-zombies/',\n",
       "  'points': 86},\n",
       " {'title': 'Everything has changed in iOS 14, but Jailbreak is eternal [pdf]',\n",
       "  'link': 'https://i.blackhat.com/USA21/Wednesday-Handouts/us-21-Everything-Has-Changed-In-IOS-14-But-Jailbreak-Is-Eternal.pdf',\n",
       "  'points': 62},\n",
       " {'title': 'NASA is looking for people who want to spend a year simulating a mission on Mars',\n",
       "  'link': 'https://www.theblaze.com/news/nasa-is-looking-for-people-who-want-to-spend-a-year-simulating-a-mission-on-mars',\n",
       "  'points': 52},\n",
       " {'title': 'Incorrect expression calculation between programming languages',\n",
       "  'link': 'item?id=28085642',\n",
       "  'points': 17},\n",
       " {'title': 'Show HN: Paper Time – Listen to abstracts of CS papers, like a custom podcast',\n",
       "  'link': 'https://papertime.app',\n",
       "  'points': 123},\n",
       " {'title': 'UPchieve (YC W21) is hiring a mobile engineer to democratize free tutoring',\n",
       "  'link': 'https://upchieve.welcomekit.co/jobs/mobile-engineer_brooklyn',\n",
       "  'points': 123},\n",
       " {'title': 'In praise of habits',\n",
       "  'link': 'https://psyche.co/ideas/in-praise-of-habits-so-much-more-than-mindless-reflexes',\n",
       "  'points': 51},\n",
       " {'title': 'Planning for Servers in 2022 and Beyond',\n",
       "  'link': 'https://www.servethehome.com/planning-for-servers-in-2022-and-beyond-series/',\n",
       "  'points': 28},\n",
       " {'title': 'Swiss Ph.D student’s dismissal spotlights China’s influence',\n",
       "  'link': 'https://www.nzz.ch/english/swiss-phd-students-dismissal-spotlights-chinas-influence-ld.1638771',\n",
       "  'points': 543},\n",
       " {'title': 'A giant crawling brain: the world of termites (2018)',\n",
       "  'link': 'https://www.theguardian.com/news/2018/sep/18/a-giant-crawling-brain-the-jaw-dropping-world-of-termites',\n",
       "  'points': 58},\n",
       " {'title': 'CalyxOS – De-Googled Android Alternative',\n",
       "  'link': 'https://calyxos.org/',\n",
       "  'points': 873},\n",
       " {'title': 'Capturing the Disappearing Sounds of the Workplace',\n",
       "  'link': 'https://www.bbc.co.uk/news/uk-scotland-tayside-central-58056235',\n",
       "  'points': 13},\n",
       " {'title': 'The Problem with Perceptual Hashes',\n",
       "  'link': 'https://rentafounder.com/the-problem-with-perceptual-hashes/',\n",
       "  'points': 588},\n",
       " {'title': 'Scientists make discovery of dead zones where nothing can live on two US coasts',\n",
       "  'link': 'https://thehill.com/changing-america/sustainability/climate-change/566674-scientists-make-shocking-discovery-of-dead',\n",
       "  'points': 14},\n",
       " {'title': 'World’s Oldest Coin Mint Discovered in 2,800-Year-Old Chinese Foundry',\n",
       "  'link': 'https://www.artnews.com/art-news/news/oldest-mint-spade-coins-chinese-foundry-1234601047/',\n",
       "  'points': 31},\n",
       " {'title': 'The Mystery of the Giant Clams of the Red Sea and Indian Ocean (2020)',\n",
       "  'link': 'https://dantheclamman.blog/2020/07/04/the-mystery-of-the-giant-clams-of-the-red-sea-and-indian-ocean/',\n",
       "  'points': 63},\n",
       " {'title': 'A USB adapter for a classic Depraz mouse',\n",
       "  'link': 'https://jfloren.net/b/2021/8/6/1',\n",
       "  'points': 69},\n",
       " {'title': 'Mixed views on new DNS top level domains',\n",
       "  'link': 'https://utcc.utoronto.ca/~cks/space/blog/tech/NewTLDsMyMixedViews',\n",
       "  'points': 28},\n",
       " {'title': 'Open-source intelligence challenges state monopolies on information',\n",
       "  'link': 'https://www.economist.com/briefing/2021/08/07/open-source-intelligence-challenges-state-monopolies-on-information',\n",
       "  'points': 113},\n",
       " {'title': 'NOAA Smoke Forecast Model Visualization',\n",
       "  'link': 'https://hwp-viz.gsd.esrl.noaa.gov/smoke/index.html',\n",
       "  'points': 73},\n",
       " {'title': 'The World’s Largest Astronomy Museum Opens Its Doors',\n",
       "  'link': 'https://www.architecturaldigest.com/story/worlds-largest-astronomy-museum-opens-doors',\n",
       "  'points': 44},\n",
       " {'title': 'Crypto community slams ‘disastrous’ new amendment to big infrastructure bill',\n",
       "  'link': 'https://techcrunch.com/2021/08/06/crypto-biden-amendment-infrastructure-bill-proof-of-work/',\n",
       "  'points': 160}]"
      ]
     },
     "execution_count": 137,
     "metadata": {},
     "output_type": "execute_result"
    }
   ],
   "source": [
    "create_custom_hn(links,subtext)"
   ]
  },
  {
   "cell_type": "code",
   "execution_count": 138,
   "metadata": {},
   "outputs": [],
   "source": [
    "url = 'https://news.ycombinator.com/news'\n",
    "res_hack = requests.get(url)\n",
    "\n",
    "soup = BeautifulSoup(markup=res_hack.text, features='html.parser')\n",
    "links = soup.select('.storylink')\n",
    "subtext = soup.select('.subtext')\n",
    "\n",
    "def sort_stories_by_votes(hnlist):\n",
    "    return sorted(hnlist, key=lambda k: k['votes'], reverse=True)\n",
    "    \n",
    "\n",
    "def create_custom_hn(links, subtext):\n",
    "    hn = []\n",
    "    \n",
    "    for index, item in enumerate(links):\n",
    "        title = item.getText()\n",
    "        href = item.get('href', None)\n",
    "        vote = subtext[index].select('.score')\n",
    "        \n",
    "        if len(vote):\n",
    "            points = int(vote[0].getText().replace(' points', ''))\n",
    "            if points > 99:\n",
    "                hn.append({'title':title, 'link':href, 'votes':points})\n",
    "    \n",
    "    return sort_stories_by_votes(hn)"
   ]
  },
  {
   "cell_type": "code",
   "execution_count": 139,
   "metadata": {
    "scrolled": true
   },
   "outputs": [
    {
     "data": {
      "text/plain": [
       "[{'title': 'CalyxOS – De-Googled Android Alternative',\n",
       "  'link': 'https://calyxos.org/',\n",
       "  'votes': 873},\n",
       " {'title': 'The Problem with Perceptual Hashes',\n",
       "  'link': 'https://rentafounder.com/the-problem-with-perceptual-hashes/',\n",
       "  'votes': 588},\n",
       " {'title': 'Swiss Ph.D student’s dismissal spotlights China’s influence',\n",
       "  'link': 'https://www.nzz.ch/english/swiss-phd-students-dismissal-spotlights-chinas-influence-ld.1638771',\n",
       "  'votes': 543},\n",
       " {'title': 'Crypto community slams ‘disastrous’ new amendment to big infrastructure bill',\n",
       "  'link': 'https://techcrunch.com/2021/08/06/crypto-biden-amendment-infrastructure-bill-proof-of-work/',\n",
       "  'votes': 160},\n",
       " {'title': 'Show HN: Paper Time – Listen to abstracts of CS papers, like a custom podcast',\n",
       "  'link': 'https://papertime.app',\n",
       "  'votes': 123},\n",
       " {'title': 'Body mapping study suggests chronic pain comes in nine distinct types',\n",
       "  'link': 'https://www.sciencealert.com/large-body-map-study-suggests-chronic-pain-comes-in-9-distinct-types',\n",
       "  'votes': 121},\n",
       " {'title': 'Open-source intelligence challenges state monopolies on information',\n",
       "  'link': 'https://www.economist.com/briefing/2021/08/07/open-source-intelligence-challenges-state-monopolies-on-information',\n",
       "  'votes': 113}]"
      ]
     },
     "execution_count": 139,
     "metadata": {},
     "output_type": "execute_result"
    }
   ],
   "source": [
    "create_custom_hn(links,subtext)"
   ]
  },
  {
   "cell_type": "code",
   "execution_count": 140,
   "metadata": {},
   "outputs": [],
   "source": [
    "# challenge - for multiple pages:\n",
    "\n",
    "def sort_stories_by_votes(hnlist):\n",
    "    return sorted(hnlist, key=lambda k: k['votes'], reverse=True)\n",
    "    \n",
    "\n",
    "def create_custom_hn(links, subtext):    \n",
    "    hn = []\n",
    "    for i in range(1,3):\n",
    "        url = f'https://news.ycombinator.com/news?p={i}'\n",
    "        res_hack = requests.get(url)\n",
    "\n",
    "        soup = BeautifulSoup(markup=res_hack.text, features='html.parser')\n",
    "        links = soup.select('.storylink')\n",
    "        subtext = soup.select('.subtext')\n",
    "        \n",
    "        for index, item in enumerate(links):\n",
    "            title = item.getText()\n",
    "            href = item.get('href', None)\n",
    "            vote = subtext[index].select('.score')\n",
    "        \n",
    "            if len(vote):\n",
    "                points = int(vote[0].getText().replace(' points', ''))\n",
    "                if points > 99:\n",
    "                    hn.append({'title':title, 'link':href, 'votes':points})\n",
    "    \n",
    "    return sort_stories_by_votes(hn)"
   ]
  },
  {
   "cell_type": "code",
   "execution_count": 141,
   "metadata": {},
   "outputs": [
    {
     "data": {
      "text/plain": [
       "{'title': \"An open letter against Apple's new privacy-invasive client-side content scanning\",\n",
       " 'link': 'https://github.com/nadimkobeissi/appleprivacyletter',\n",
       " 'votes': 941}"
      ]
     },
     "execution_count": 141,
     "metadata": {},
     "output_type": "execute_result"
    }
   ],
   "source": [
    "test1 = create_custom_hn(links,subtext)\n",
    "test1[0]"
   ]
  },
  {
   "cell_type": "code",
   "execution_count": 142,
   "metadata": {},
   "outputs": [],
   "source": [
    "from selenium import webdriver\n",
    "\n",
    "driver = webdriver.Chrome(executable_path=\"./chromedriver/chromedriver.exe\")\n",
    "driver.get(test1[0]['link'])"
   ]
  },
  {
   "cell_type": "code",
   "execution_count": 143,
   "metadata": {},
   "outputs": [],
   "source": [
    "driver.close()"
   ]
  },
  {
   "cell_type": "markdown",
   "metadata": {},
   "source": [
    "<a id='xpath'></a>\n",
    "## XPath, Scrapy Selector and Scrapy Framework\n",
    "- What is CSS Selector\n",
    "- What is XPath Selector\n",
    "- How to use XPath with Scrapy\n",
    "- Scrapy as a Framework\n",
    "\n",
    "### Learn XPath by Finding Waldo\n",
    "[XPath Cheatsheet](https://www.red-gate.com/simple-talk/wp-content/uploads/imported/1269-Locators_groups_1_0_2.pdf?file=4938)"
   ]
  },
  {
   "cell_type": "code",
   "execution_count": 144,
   "metadata": {},
   "outputs": [],
   "source": [
    "import requests\n",
    "from scrapy.selector import Selector\n",
    "import pandas as pd"
   ]
  },
  {
   "cell_type": "code",
   "execution_count": 145,
   "metadata": {},
   "outputs": [],
   "source": [
    "HTML = \"\"\"\n",
    "<html>\n",
    "    <body>\n",
    "        \n",
    "        <ul id=\"waldo\">\n",
    "            <li class=\"waldo\">\n",
    "                <span> yo Im not here</span>\n",
    "            </li>\n",
    "            <li class=\"waldo\">Height:  ???</li>\n",
    "            <li class=\"waldo\">Weight:  ???</li>\n",
    "            <li class=\"waldo\">Last Location:  ???</li>\n",
    "            <li class=\"nerds\">\n",
    "                <div class=\"alpha\">Bill gates</div>\n",
    "                <div class=\"alpha\">Zuckerberg</div>\n",
    "                <div class=\"beta\">Theil</div>\n",
    "                <div class=\"animal\">parker</div>\n",
    "            </li>\n",
    "        </ul>\n",
    "        \n",
    "        <ul id=\"tim\">\n",
    "            <li class=\"tdawg\">\n",
    "                <span>yo im here</span>\n",
    "            </li>\n",
    "        </ul>\n",
    "        <li>stuff</li>\n",
    "        <li>stuff2</li>\n",
    "        \n",
    "        <div id=\"cooldiv\">\n",
    "            <span class=\"dsi-rocks\">\n",
    "               YO!\n",
    "            </span>\n",
    "        </div>\n",
    "        <waldo>Waldo</waldo>\n",
    "        <waldo>Waldo2</waldo>\n",
    "    </body>\n",
    "</html>\n",
    "\"\"\""
   ]
  },
  {
   "cell_type": "markdown",
   "metadata": {},
   "source": [
    "### Scrapy Selector"
   ]
  },
  {
   "cell_type": "code",
   "execution_count": 146,
   "metadata": {},
   "outputs": [],
   "source": [
    "xpath_selector = Selector(text=HTML)"
   ]
  },
  {
   "cell_type": "markdown",
   "metadata": {},
   "source": [
    "##### Absolute XPath"
   ]
  },
  {
   "cell_type": "code",
   "execution_count": 147,
   "metadata": {},
   "outputs": [
    {
     "data": {
      "text/plain": [
       "['Waldo', 'Waldo2']"
      ]
     },
     "execution_count": 147,
     "metadata": {},
     "output_type": "execute_result"
    }
   ],
   "source": [
    "xpath_selector.xpath('/html/body/waldo/text()').extract()"
   ]
  },
  {
   "cell_type": "markdown",
   "metadata": {},
   "source": [
    "##### Relative XPath"
   ]
  },
  {
   "cell_type": "code",
   "execution_count": 148,
   "metadata": {},
   "outputs": [
    {
     "data": {
      "text/plain": [
       "['Waldo', 'Waldo2']"
      ]
     },
     "execution_count": 148,
     "metadata": {},
     "output_type": "execute_result"
    }
   ],
   "source": [
    "xpath_selector.xpath('//waldo/text()').extract()"
   ]
  },
  {
   "cell_type": "markdown",
   "metadata": {},
   "source": [
    "**Find attribute(s) 'waldo'**"
   ]
  },
  {
   "cell_type": "code",
   "execution_count": 149,
   "metadata": {},
   "outputs": [
    {
     "name": "stdout",
     "output_type": "stream",
     "text": [
      "<ul id=\"waldo\">\n",
      "            <li class=\"waldo\">\n",
      "                <span> yo Im not here</span>\n",
      "            </li>\n",
      "            <li class=\"waldo\">Height:  ???</li>\n",
      "            <li class=\"waldo\">Weight:  ???</li>\n",
      "            <li class=\"waldo\">Last Location:  ???</li>\n",
      "            <li class=\"nerds\">\n",
      "                <div class=\"alpha\">Bill gates</div>\n",
      "                <div class=\"alpha\">Zuckerberg</div>\n",
      "                <div class=\"beta\">Theil</div>\n",
      "                <div class=\"animal\">parker</div>\n",
      "            </li>\n",
      "        </ul>\n"
     ]
    }
   ],
   "source": [
    "# Contents of all id attributes named waldo\n",
    "print (xpath_selector.xpath('//*[@id=\"waldo\"]').extract()[0])"
   ]
  },
  {
   "cell_type": "code",
   "execution_count": 150,
   "metadata": {},
   "outputs": [
    {
     "data": {
      "text/plain": [
       "['<li class=\"waldo\">\\n                <span> yo Im not here</span>\\n            </li>',\n",
       " '<li class=\"waldo\">Height:  ???</li>',\n",
       " '<li class=\"waldo\">Weight:  ???</li>',\n",
       " '<li class=\"waldo\">Last Location:  ???</li>']"
      ]
     },
     "execution_count": 150,
     "metadata": {},
     "output_type": "execute_result"
    }
   ],
   "source": [
    "# Contents of all class attributes named waldo\n",
    "xpath_selector.xpath('//*[@class=\"waldo\"]').extract()"
   ]
  },
  {
   "cell_type": "code",
   "execution_count": 151,
   "metadata": {},
   "outputs": [
    {
     "data": {
      "text/plain": [
       "['<waldo>Waldo</waldo>']"
      ]
     },
     "execution_count": 151,
     "metadata": {},
     "output_type": "execute_result"
    }
   ],
   "source": [
    "# gets everything around the text element waldo\n",
    "xpath_selector.xpath('//*[text()=\"Waldo\"]').extract()"
   ]
  },
  {
   "cell_type": "markdown",
   "metadata": {},
   "source": [
    "### Practice with perfumery.com.au Site"
   ]
  },
  {
   "cell_type": "code",
   "execution_count": 152,
   "metadata": {},
   "outputs": [
    {
     "name": "stdout",
     "output_type": "stream",
     "text": [
      "200\n"
     ]
    },
    {
     "data": {
      "text/plain": [
       "'<!DOCTYPE html>\\n<html lang=\"en\">\\n<head>\\n<meta http-equiv=\"Content-Type\" content=\"text/html; charset=utf-8\" />\\n<meta name=\"keywords\" content=\"Women&#39'"
      ]
     },
     "execution_count": 152,
     "metadata": {},
     "output_type": "execute_result"
    }
   ],
   "source": [
    "homepage = 'https://www.perfumery.com.au/womens/fragrances.html'\n",
    "response = requests.get(homepage)\n",
    "print (response.status_code)\n",
    "HTML = response.text\n",
    "HTML[0:150]"
   ]
  },
  {
   "cell_type": "code",
   "execution_count": 153,
   "metadata": {},
   "outputs": [],
   "source": [
    "xpath_selector_perfume = Selector(text=HTML)"
   ]
  },
  {
   "cell_type": "markdown",
   "metadata": {},
   "source": [
    "##### Collect Data"
   ]
  },
  {
   "cell_type": "code",
   "execution_count": 154,
   "metadata": {},
   "outputs": [],
   "source": [
    "links = xpath_selector_perfume.xpath('//div[@class=\"wrapper-thumbnail col-xs-8 col-sm-6 col-md-4 col-lg-4\"]').extract()\n"
   ]
  },
  {
   "cell_type": "code",
   "execution_count": 155,
   "metadata": {},
   "outputs": [
    {
     "data": {
      "text/plain": [
       "[]"
      ]
     },
     "execution_count": 155,
     "metadata": {},
     "output_type": "execute_result"
    }
   ],
   "source": [
    "xpath_name='//*[@id=\"_jstl__header_r\"]/div/div[3]/h1'\n",
    "\n",
    "# '//h1[@itemprop=\"name\"]'\n",
    "# //div[@class=\"wrapper-product-title col-xs-12\"]/h1\n",
    "\n",
    "xpath_selector_perfume.xpath(xpath_name).extract()"
   ]
  },
  {
   "cell_type": "code",
   "execution_count": 156,
   "metadata": {},
   "outputs": [],
   "source": [
    "xpath_product = '//*[@id=\"_jstl__header_r\"]/div/div[3]/h1/text()'\n",
    "xpath_price = '//*[@id=\"_jstl__pricing_r\"]/div/div[2]/div[1]/div[2]/text()'\n",
    "xpath_size = '//*[@id=\"main-content\"]/div/div/div[2]/div[2]/div[2]/form/div/div/div[2]/div/span/select/option[1]/text()'\n",
    "xpath_rrp = '//*[@id=\"_jstl__pricing_r\"]/div/div[2]/div[1]/div[1]/text()' \n",
    "xpath_description = '//*[@id=\"description\"]'\n",
    "\n",
    "products = []\n",
    "prices = []\n",
    "sizes = []\n",
    "rrps = []\n",
    "descriptions = []\n",
    "\n",
    "for itm in xpath_selector_perfume.xpath('//div[@class=\"wrapper-thumbnail col-xs-8 col-sm-6 col-md-4 col-lg-4\"]/div/div/h3/a/@href').extract():\n",
    "    res_details = requests.get(itm)\n",
    "    html_details = res_details.text\n",
    "    details_selector = Selector(text=html_details)\n",
    "    try:\n",
    "        product = details_selector.xpath(xpath_product).extract()[0]\n",
    "        products.append(product)\n",
    "    except:\n",
    "        products.append('NA')\n",
    "    \n",
    "    try:\n",
    "        price = details_selector.xpath(xpath_price).extract()[0]\n",
    "        prices.append(price)\n",
    "    except:\n",
    "        prices.append('NA')\n",
    "    \n",
    "    try:\n",
    "        size = details_selector.xpath(xpath_size).extract()[0]\n",
    "        sizes.append(size)\n",
    "    except:\n",
    "        sizes.append('NA')\n",
    "    \n",
    "    try:\n",
    "        rrp = details_selector.xpath(xpath_rrp).extract()[0]\n",
    "        rrps.append(rrp)\n",
    "    except:\n",
    "        rrps.append('NA')\n",
    "    \n",
    "    try:\n",
    "        description = details_selector.xpath(xpath_description).extract()[0]\n",
    "        descriptions.append(description)\n",
    "    except:\n",
    "        descriptions.append('NA')\n"
   ]
  },
  {
   "cell_type": "code",
   "execution_count": 157,
   "metadata": {},
   "outputs": [],
   "source": [
    "data = {'products':products, \n",
    "        'price':prices,\n",
    "        'size':sizes,\n",
    "        'rrp':rrps, \n",
    "        'description':descriptions}"
   ]
  },
  {
   "cell_type": "markdown",
   "metadata": {},
   "source": [
    "##### Create DataFrame"
   ]
  },
  {
   "cell_type": "code",
   "execution_count": 158,
   "metadata": {},
   "outputs": [
    {
     "data": {
      "text/html": [
       "<div>\n",
       "<style scoped>\n",
       "    .dataframe tbody tr th:only-of-type {\n",
       "        vertical-align: middle;\n",
       "    }\n",
       "\n",
       "    .dataframe tbody tr th {\n",
       "        vertical-align: top;\n",
       "    }\n",
       "\n",
       "    .dataframe thead th {\n",
       "        text-align: right;\n",
       "    }\n",
       "</style>\n",
       "<table border=\"1\" class=\"dataframe\">\n",
       "  <thead>\n",
       "    <tr style=\"text-align: right;\">\n",
       "      <th></th>\n",
       "      <th>products</th>\n",
       "      <th>price</th>\n",
       "      <th>size</th>\n",
       "      <th>rrp</th>\n",
       "      <th>description</th>\n",
       "    </tr>\n",
       "  </thead>\n",
       "  <tbody>\n",
       "    <tr>\n",
       "      <th>0</th>\n",
       "      <td>1000 by Jean Patou EDT Spray 75ml For Women</td>\n",
       "      <td>\\nWAS\\n$99.00\\n</td>\n",
       "      <td>75ml EDT Spray</td>\n",
       "      <td>\\nRRP\\n$170.01\\n</td>\n",
       "      <td>&lt;div class=\"tab-pane active\" id=\"description\"&gt;...</td>\n",
       "    </tr>\n",
       "    <tr>\n",
       "      <th>1</th>\n",
       "      <td>1881 Pour Femme by Cerruti EDT Spray 100ml For...</td>\n",
       "      <td>\\n$59.00\\n</td>\n",
       "      <td>100ml EDT Spray</td>\n",
       "      <td>\\nRRP:\\n$120.00\\n</td>\n",
       "      <td>&lt;div class=\"tab-pane active\" id=\"description\"&gt;...</td>\n",
       "    </tr>\n",
       "    <tr>\n",
       "      <th>2</th>\n",
       "      <td>212 Sexy by Carolina Herrera EDP Spray 100ml F...</td>\n",
       "      <td>\\n$96.00\\n</td>\n",
       "      <td>100ml EDP Spray</td>\n",
       "      <td>\\nRRP:\\n$145.00\\n</td>\n",
       "      <td>&lt;div class=\"tab-pane active\" id=\"description\"&gt;...</td>\n",
       "    </tr>\n",
       "    <tr>\n",
       "      <th>3</th>\n",
       "      <td>212 VIP by Carolina Herrera EDP Spray 50ml For...</td>\n",
       "      <td>\\nWAS\\n$80.00\\n</td>\n",
       "      <td>50ml EDP Spray</td>\n",
       "      <td>\\nRRP\\n$160.00\\n</td>\n",
       "      <td>&lt;div class=\"tab-pane active\" id=\"description\"&gt;...</td>\n",
       "    </tr>\n",
       "    <tr>\n",
       "      <th>4</th>\n",
       "      <td>24 Faubourg by Hermes EDT Spray 30ml For Women</td>\n",
       "      <td>NA</td>\n",
       "      <td>NA</td>\n",
       "      <td>\\n$126.01\\n</td>\n",
       "      <td>&lt;div class=\"tab-pane active\" id=\"description\"&gt;...</td>\n",
       "    </tr>\n",
       "    <tr>\n",
       "      <th>5</th>\n",
       "      <td>24k Women by Jivago EDP Spray 75ml (with Rock ...</td>\n",
       "      <td>\\nWAS\\n$155.00\\n</td>\n",
       "      <td>75ml EDP Spray</td>\n",
       "      <td>\\nRRP\\n$220.00\\n</td>\n",
       "      <td>&lt;div class=\"tab-pane active\" id=\"description\"&gt;...</td>\n",
       "    </tr>\n",
       "    <tr>\n",
       "      <th>6</th>\n",
       "      <td>273 Rodeo Drive by Fred Hayman 75ml EDP Spray ...</td>\n",
       "      <td>\\nWAS\\n$45.00\\n</td>\n",
       "      <td>75ml EDP Spray</td>\n",
       "      <td>\\nRRP\\n$110.00\\n</td>\n",
       "      <td>&lt;div class=\"tab-pane active\" id=\"description\"&gt;...</td>\n",
       "    </tr>\n",
       "    <tr>\n",
       "      <th>7</th>\n",
       "      <td>4711 by Maurer &amp; Wirtz Cologne 300ml For Unisex</td>\n",
       "      <td>NA</td>\n",
       "      <td>300ml EDC</td>\n",
       "      <td>NA</td>\n",
       "      <td>&lt;div class=\"tab-pane active\" id=\"description\"&gt;...</td>\n",
       "    </tr>\n",
       "    <tr>\n",
       "      <th>8</th>\n",
       "      <td>5th Avenue by Elizabeth Arden EDP Spray 125ml ...</td>\n",
       "      <td>\\n$33.00\\n</td>\n",
       "      <td>125ml EDP Spray</td>\n",
       "      <td>\\nRRP:\\n$49.00\\n</td>\n",
       "      <td>&lt;div class=\"tab-pane active\" id=\"description\"&gt;...</td>\n",
       "    </tr>\n",
       "    <tr>\n",
       "      <th>9</th>\n",
       "      <td>5th Avenue NYC by Elizabeth Arden EDP Spray 12...</td>\n",
       "      <td>\\n$25.00\\n</td>\n",
       "      <td>NA</td>\n",
       "      <td>\\nRRP:\\n$49.00\\n</td>\n",
       "      <td>&lt;div class=\"tab-pane active\" id=\"description\"&gt;...</td>\n",
       "    </tr>\n",
       "    <tr>\n",
       "      <th>10</th>\n",
       "      <td>5th Avenue NYC Lights by Elizabeth Arden EDP S...</td>\n",
       "      <td>\\n$33.90\\n</td>\n",
       "      <td>NA</td>\n",
       "      <td>\\nRRP:\\n$49.00\\n</td>\n",
       "      <td>&lt;div class=\"tab-pane active\" id=\"description\"&gt;...</td>\n",
       "    </tr>\n",
       "    <tr>\n",
       "      <th>11</th>\n",
       "      <td>A Scent EDT Spray, 50ml For Women</td>\n",
       "      <td>\\n$50.00\\n</td>\n",
       "      <td>NA</td>\n",
       "      <td>\\nRRP:\\n$132.00\\n</td>\n",
       "      <td>&lt;div class=\"tab-pane active\" id=\"description\"&gt;...</td>\n",
       "    </tr>\n",
       "    <tr>\n",
       "      <th>12</th>\n",
       "      <td>AB Spirit Millionaire For Women by Lomani EDP ...</td>\n",
       "      <td>\\n$24.00\\n</td>\n",
       "      <td>100ml EDP Spray</td>\n",
       "      <td>\\nRRP:\\n$89.00\\n</td>\n",
       "      <td>&lt;div class=\"tab-pane active\" id=\"description\"&gt;...</td>\n",
       "    </tr>\n",
       "    <tr>\n",
       "      <th>13</th>\n",
       "      <td>Absinth by Nasomatto Extrait De Parfum Spray 3...</td>\n",
       "      <td>\\n$190.00\\n</td>\n",
       "      <td>30ml Extrait de Parfum Spray</td>\n",
       "      <td>\\nRRP:\\n$250.00\\n</td>\n",
       "      <td>&lt;div class=\"tab-pane active\" id=\"description\"&gt;...</td>\n",
       "    </tr>\n",
       "    <tr>\n",
       "      <th>14</th>\n",
       "      <td>Acqua Di Gio by Armani EDT Spray 50ml For Women</td>\n",
       "      <td>NA</td>\n",
       "      <td>50ml EDT Spray</td>\n",
       "      <td>NA</td>\n",
       "      <td>&lt;div class=\"tab-pane active\" id=\"description\"&gt;...</td>\n",
       "    </tr>\n",
       "    <tr>\n",
       "      <th>15</th>\n",
       "      <td>Acqua Di Gioia by Armani EDP Spray 50ml For Women</td>\n",
       "      <td>NA</td>\n",
       "      <td>50ml EDP Spray</td>\n",
       "      <td>NA</td>\n",
       "      <td>&lt;div class=\"tab-pane active\" id=\"description\"&gt;...</td>\n",
       "    </tr>\n",
       "    <tr>\n",
       "      <th>16</th>\n",
       "      <td>Acqua Di Parma Colonia by Acqua Di Parma Shamp...</td>\n",
       "      <td>\\n$55.00\\n</td>\n",
       "      <td>150ml Shampoo</td>\n",
       "      <td>\\nRRP:\\n$57.99\\n</td>\n",
       "      <td>&lt;div class=\"tab-pane active\" id=\"description\"&gt;...</td>\n",
       "    </tr>\n",
       "    <tr>\n",
       "      <th>17</th>\n",
       "      <td>Acqua Di Selva by Victor Cologne Spray 100ml F...</td>\n",
       "      <td>\\n$30.00\\n</td>\n",
       "      <td>NA</td>\n",
       "      <td>\\nRRP:\\n$125.00\\n</td>\n",
       "      <td>&lt;div class=\"tab-pane active\" id=\"description\"&gt;...</td>\n",
       "    </tr>\n",
       "    <tr>\n",
       "      <th>18</th>\n",
       "      <td>Adam Levine Women by Adam Levine EDP Spray 100...</td>\n",
       "      <td>\\n$30.00\\n</td>\n",
       "      <td>100ml EDP Spray</td>\n",
       "      <td>\\nRRP:\\n$115.01\\n</td>\n",
       "      <td>&lt;div class=\"tab-pane active\" id=\"description\"&gt;...</td>\n",
       "    </tr>\n",
       "    <tr>\n",
       "      <th>19</th>\n",
       "      <td>Alaia Paris Blanche by Azzedine Alaia EDP Spra...</td>\n",
       "      <td>\\n$118.00\\n</td>\n",
       "      <td>100ml EDP Spray</td>\n",
       "      <td>\\nRRP:\\n$189.00\\n</td>\n",
       "      <td>&lt;div class=\"tab-pane active\" id=\"description\"&gt;...</td>\n",
       "    </tr>\n",
       "    <tr>\n",
       "      <th>20</th>\n",
       "      <td>Alaia Paris by Azzedine Alaia EDP Spray 30ml F...</td>\n",
       "      <td>\\n$42.00\\n</td>\n",
       "      <td>NA</td>\n",
       "      <td>\\nRRP:\\n$98.01\\n</td>\n",
       "      <td>&lt;div class=\"tab-pane active\" id=\"description\"&gt;...</td>\n",
       "    </tr>\n",
       "    <tr>\n",
       "      <th>21</th>\n",
       "      <td>Alien by Mugler EDP Spray 15ml (REFILLABLE) Fo...</td>\n",
       "      <td>\\nWAS\\n$60.00\\n</td>\n",
       "      <td>NA</td>\n",
       "      <td>\\nRRP\\n$85.00\\n</td>\n",
       "      <td>&lt;div class=\"tab-pane active\" id=\"description\"&gt;...</td>\n",
       "    </tr>\n",
       "    <tr>\n",
       "      <th>22</th>\n",
       "      <td>Alien by Mugler EDP Spray 30ml (NON-REFILLABLE...</td>\n",
       "      <td>\\n$85.00\\n</td>\n",
       "      <td>NA</td>\n",
       "      <td>\\nRRP:\\n$101.00\\n</td>\n",
       "      <td>&lt;div class=\"tab-pane active\" id=\"description\"&gt;...</td>\n",
       "    </tr>\n",
       "    <tr>\n",
       "      <th>23</th>\n",
       "      <td>Alien by Mugler EDT Spray 30ml For Women</td>\n",
       "      <td>\\n$68.00\\n</td>\n",
       "      <td>30ml EDT Spray</td>\n",
       "      <td>\\nRRP:\\n$75.00\\n</td>\n",
       "      <td>&lt;div class=\"tab-pane active\" id=\"description\"&gt;...</td>\n",
       "    </tr>\n",
       "  </tbody>\n",
       "</table>\n",
       "</div>"
      ],
      "text/plain": [
       "                                             products             price  \\\n",
       "0         1000 by Jean Patou EDT Spray 75ml For Women   \\nWAS\\n$99.00\\n   \n",
       "1   1881 Pour Femme by Cerruti EDT Spray 100ml For...        \\n$59.00\\n   \n",
       "2   212 Sexy by Carolina Herrera EDP Spray 100ml F...        \\n$96.00\\n   \n",
       "3   212 VIP by Carolina Herrera EDP Spray 50ml For...   \\nWAS\\n$80.00\\n   \n",
       "4      24 Faubourg by Hermes EDT Spray 30ml For Women                NA   \n",
       "5   24k Women by Jivago EDP Spray 75ml (with Rock ...  \\nWAS\\n$155.00\\n   \n",
       "6   273 Rodeo Drive by Fred Hayman 75ml EDP Spray ...   \\nWAS\\n$45.00\\n   \n",
       "7     4711 by Maurer & Wirtz Cologne 300ml For Unisex                NA   \n",
       "8   5th Avenue by Elizabeth Arden EDP Spray 125ml ...        \\n$33.00\\n   \n",
       "9   5th Avenue NYC by Elizabeth Arden EDP Spray 12...        \\n$25.00\\n   \n",
       "10  5th Avenue NYC Lights by Elizabeth Arden EDP S...        \\n$33.90\\n   \n",
       "11                  A Scent EDT Spray, 50ml For Women        \\n$50.00\\n   \n",
       "12  AB Spirit Millionaire For Women by Lomani EDP ...        \\n$24.00\\n   \n",
       "13  Absinth by Nasomatto Extrait De Parfum Spray 3...       \\n$190.00\\n   \n",
       "14    Acqua Di Gio by Armani EDT Spray 50ml For Women                NA   \n",
       "15  Acqua Di Gioia by Armani EDP Spray 50ml For Women                NA   \n",
       "16  Acqua Di Parma Colonia by Acqua Di Parma Shamp...        \\n$55.00\\n   \n",
       "17  Acqua Di Selva by Victor Cologne Spray 100ml F...        \\n$30.00\\n   \n",
       "18  Adam Levine Women by Adam Levine EDP Spray 100...        \\n$30.00\\n   \n",
       "19  Alaia Paris Blanche by Azzedine Alaia EDP Spra...       \\n$118.00\\n   \n",
       "20  Alaia Paris by Azzedine Alaia EDP Spray 30ml F...        \\n$42.00\\n   \n",
       "21  Alien by Mugler EDP Spray 15ml (REFILLABLE) Fo...   \\nWAS\\n$60.00\\n   \n",
       "22  Alien by Mugler EDP Spray 30ml (NON-REFILLABLE...        \\n$85.00\\n   \n",
       "23           Alien by Mugler EDT Spray 30ml For Women        \\n$68.00\\n   \n",
       "\n",
       "                            size                rrp  \\\n",
       "0                 75ml EDT Spray   \\nRRP\\n$170.01\\n   \n",
       "1                100ml EDT Spray  \\nRRP:\\n$120.00\\n   \n",
       "2                100ml EDP Spray  \\nRRP:\\n$145.00\\n   \n",
       "3                 50ml EDP Spray   \\nRRP\\n$160.00\\n   \n",
       "4                             NA        \\n$126.01\\n   \n",
       "5                 75ml EDP Spray   \\nRRP\\n$220.00\\n   \n",
       "6                 75ml EDP Spray   \\nRRP\\n$110.00\\n   \n",
       "7                      300ml EDC                 NA   \n",
       "8                125ml EDP Spray   \\nRRP:\\n$49.00\\n   \n",
       "9                             NA   \\nRRP:\\n$49.00\\n   \n",
       "10                            NA   \\nRRP:\\n$49.00\\n   \n",
       "11                            NA  \\nRRP:\\n$132.00\\n   \n",
       "12               100ml EDP Spray   \\nRRP:\\n$89.00\\n   \n",
       "13  30ml Extrait de Parfum Spray  \\nRRP:\\n$250.00\\n   \n",
       "14                50ml EDT Spray                 NA   \n",
       "15                50ml EDP Spray                 NA   \n",
       "16                 150ml Shampoo   \\nRRP:\\n$57.99\\n   \n",
       "17                            NA  \\nRRP:\\n$125.00\\n   \n",
       "18               100ml EDP Spray  \\nRRP:\\n$115.01\\n   \n",
       "19               100ml EDP Spray  \\nRRP:\\n$189.00\\n   \n",
       "20                            NA   \\nRRP:\\n$98.01\\n   \n",
       "21                            NA    \\nRRP\\n$85.00\\n   \n",
       "22                            NA  \\nRRP:\\n$101.00\\n   \n",
       "23                30ml EDT Spray   \\nRRP:\\n$75.00\\n   \n",
       "\n",
       "                                          description  \n",
       "0   <div class=\"tab-pane active\" id=\"description\">...  \n",
       "1   <div class=\"tab-pane active\" id=\"description\">...  \n",
       "2   <div class=\"tab-pane active\" id=\"description\">...  \n",
       "3   <div class=\"tab-pane active\" id=\"description\">...  \n",
       "4   <div class=\"tab-pane active\" id=\"description\">...  \n",
       "5   <div class=\"tab-pane active\" id=\"description\">...  \n",
       "6   <div class=\"tab-pane active\" id=\"description\">...  \n",
       "7   <div class=\"tab-pane active\" id=\"description\">...  \n",
       "8   <div class=\"tab-pane active\" id=\"description\">...  \n",
       "9   <div class=\"tab-pane active\" id=\"description\">...  \n",
       "10  <div class=\"tab-pane active\" id=\"description\">...  \n",
       "11  <div class=\"tab-pane active\" id=\"description\">...  \n",
       "12  <div class=\"tab-pane active\" id=\"description\">...  \n",
       "13  <div class=\"tab-pane active\" id=\"description\">...  \n",
       "14  <div class=\"tab-pane active\" id=\"description\">...  \n",
       "15  <div class=\"tab-pane active\" id=\"description\">...  \n",
       "16  <div class=\"tab-pane active\" id=\"description\">...  \n",
       "17  <div class=\"tab-pane active\" id=\"description\">...  \n",
       "18  <div class=\"tab-pane active\" id=\"description\">...  \n",
       "19  <div class=\"tab-pane active\" id=\"description\">...  \n",
       "20  <div class=\"tab-pane active\" id=\"description\">...  \n",
       "21  <div class=\"tab-pane active\" id=\"description\">...  \n",
       "22  <div class=\"tab-pane active\" id=\"description\">...  \n",
       "23  <div class=\"tab-pane active\" id=\"description\">...  "
      ]
     },
     "execution_count": 158,
     "metadata": {},
     "output_type": "execute_result"
    }
   ],
   "source": [
    "df_perfume = pd.DataFrame(data)\n",
    "df_perfume"
   ]
  },
  {
   "cell_type": "markdown",
   "metadata": {},
   "source": [
    "### Let's Learn to Use Scrapy as a Framework\n",
    "Scrapy can't execute JavaScript. Below this plugin helps scrapy in this regard.\n",
    "\n",
    "https://github.com/scrapy-plugins/scrapy-splash\n",
    "\n",
    "#### Scrapy Tutorial\n",
    "[Scrapy Tutorial](https://docs.scrapy.org/en/latest/intro/tutorial.html)"
   ]
  },
  {
   "cell_type": "markdown",
   "metadata": {},
   "source": [
    "<a id='selenium'></a>\n",
    "## Selenium\n",
    "\n",
    "https://ivantay2003.medium.com/selenium-cheat-sheet-in-python-87221ee06c83<br>\n",
    "https://dev.to/razgandeanu/selenium-cheat-sheet-9lc"
   ]
  },
  {
   "cell_type": "code",
   "execution_count": 159,
   "metadata": {},
   "outputs": [
    {
     "name": "stdout",
     "output_type": "stream",
     "text": [
      "I am learning python\n",
      "I am learning python\n"
     ]
    }
   ],
   "source": [
    "from selenium import webdriver\n",
    "import time\n",
    "\n",
    "chrome_browser = webdriver.Chrome('./chromedriver/chromedriver.exe')\n",
    "\n",
    "# print(chrome_browser)\n",
    "# chrome_browser\n",
    "# chrome_browser.maximize_window()\n",
    "\n",
    "chrome_browser.maximize_window()\n",
    "chrome_browser.get('https://www.seleniumeasy.com/test/basic-first-form-demo.html')\n",
    "\n",
    "time.sleep(2)\n",
    "lightbox_close_x = chrome_browser.find_element_by_id(\"at-cv-lightbox-close\")\n",
    "lightbox_close_x.click()\n",
    "time.sleep(1)\n",
    "# print(chrome_browser.title)\n",
    "# assert 'python Easy Demo' in chrome_browser.title\n",
    "assert 'Selenium Easy Demo' in chrome_browser.title\n",
    "\n",
    "show_message_button = chrome_browser.find_element_by_class_name('btn-default')\n",
    "# print(show_message_button.get_attribute('innerHTML'))\n",
    "\n",
    "assert 'Show Message' in chrome_browser.page_source\n",
    "user_message = chrome_browser.find_element_by_id('user-message')\n",
    "user_message.clear()\n",
    "user_message.send_keys('I am learning python')\n",
    "show_message_button.click()\n",
    "\n",
    "my_message = chrome_browser.find_element_by_id('display')\n",
    "print(my_message.get_attribute('innerHTML'))\n",
    "print(my_message.text)\n",
    "\n",
    "# chrome_browser.close()\n",
    "chrome_browser.quit()"
   ]
  }
 ],
 "metadata": {
  "kernelspec": {
   "display_name": "Python 3",
   "language": "python",
   "name": "python3"
  },
  "language_info": {
   "codemirror_mode": {
    "name": "ipython",
    "version": 3
   },
   "file_extension": ".py",
   "mimetype": "text/x-python",
   "name": "python",
   "nbconvert_exporter": "python",
   "pygments_lexer": "ipython3",
   "version": "3.7.6"
  }
 },
 "nbformat": 4,
 "nbformat_minor": 4
}
