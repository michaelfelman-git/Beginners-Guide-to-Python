{
 "cells": [
  {
   "cell_type": "markdown",
   "metadata": {},
   "source": [
    "<h1 align=\"center\">COMPREHENSIONS</h1>\n",
    "<h2 align=\"left\"><ins>Lesson Guide</ins></h2>\n",
    "\n",
    "- [**LIST COMPREHENSIONS**](#lists)\n",
    "- [**COMPREHENSIONS WITH CONDITIONALS**](#conditions)\n",
    "- [**NESTED COMPREHENSIONS**](#nested)\n",
    "- [**SET AND DICTIONARY COMPREHENSIONS**](#sets)\n",
    "- [**MORE EXAMPLES**](#examples)\n",
    "\n",
    "[Documentation](https://docs.python.org/3/tutorial/datastructures.html#list-comprehensions)"
   ]
  },
  {
   "cell_type": "markdown",
   "metadata": {},
   "source": [
    "<a id='lists'></a>\n",
    "## LIST COMPREHENSIONS\n",
    "\n",
    "In addition to sequence operations and list methods, Python includes a more advanced operation called a list comprehension.\n",
    "\n",
    "List comprehensions allow us to build out lists using a different notation. You can think of it as essentially a one line <code>for</code> loop built inside of brackets. \n",
    "\n",
    "**Long way**\n",
    "```python\n",
    "old_list = [element1, element2,...]\n",
    "new_list = []\n",
    "\n",
    "for item in old_list:\n",
    "    if <condition>\n",
    "      new_list.append(<modification>)\n",
    "```\n",
    "\n",
    "**List Comprehension way**\n",
    "```python\n",
    "new_list = [<modification>  old_list  <condition>]\n",
    "```"
   ]
  },
  {
   "cell_type": "markdown",
   "metadata": {},
   "source": [
    "- list comprehension uses [ ] \n",
    "- generator comprehension uses ( )"
   ]
  },
  {
   "cell_type": "code",
   "execution_count": 1,
   "metadata": {},
   "outputs": [
    {
     "name": "stdout",
     "output_type": "stream",
     "text": [
      "[1, 4, 9, 16, 25, 36]\n",
      "**********************\n",
      "<class 'list'>\n",
      "[1, 4, 9, 16, 25, 36]\n"
     ]
    }
   ],
   "source": [
    "# using a for loop\n",
    "\n",
    "numbers = [1, 2, 3, 4, 5, 6]\n",
    "\n",
    "squares = []\n",
    "for number in numbers:\n",
    "    squares.append(number ** 2)\n",
    "\n",
    "print(squares)\n",
    "print('*'*22)\n",
    "\n",
    "# using list comprehensions\n",
    "\n",
    "numbers = [1, 2, 3, 4, 5, 6]\n",
    "squares = [number ** 2 for number in numbers]\n",
    "# squares = [number ** 2 for number in range(1, 7)]\n",
    "\n",
    "print(type(squares))\n",
    "print(squares)"
   ]
  },
  {
   "cell_type": "markdown",
   "metadata": {},
   "source": [
    "**Note** - if we change the `[]` to `{}` the result is a set."
   ]
  },
  {
   "cell_type": "code",
   "execution_count": 2,
   "metadata": {},
   "outputs": [
    {
     "name": "stdout",
     "output_type": "stream",
     "text": [
      "{1, 4, 36, 9, 16, 25}\n",
      "<class 'set'>\n"
     ]
    }
   ],
   "source": [
    "squares = {number ** 2 for number in range(1, 7)}\n",
    "\n",
    "print(squares)\n",
    "print(type(squares))"
   ]
  },
  {
   "cell_type": "markdown",
   "metadata": {},
   "source": [
    "The list comprehension has 2 parts here:\n",
    "- The first part is the expression that we want to return. In this case, it is the number to the power of 2.\n",
    "- The second part is an interation over a sequence. It's identical to the for loop used previously without the semicolon, `:`. "
   ]
  },
  {
   "cell_type": "code",
   "execution_count": 3,
   "metadata": {},
   "outputs": [
    {
     "name": "stdout",
     "output_type": "stream",
     "text": [
      "['My friend is 22 years old.', 'My friend is 31 years old.', 'My friend is 35 years old.', 'My friend is 37 years old.']\n",
      "['rolf', 'bob', 'jen']\n"
     ]
    }
   ],
   "source": [
    "# -- You can add anything to the new list --\n",
    "\n",
    "friend_ages = [22, 31, 35, 37]\n",
    "age_strings = [f\"My friend is {age} years old.\" for age in friend_ages]\n",
    "\n",
    "print(age_strings)\n",
    "\n",
    "\n",
    "# -- can also include methods --\n",
    "names = [\"Rolf\", \"Bob\", \"Jen\"]\n",
    "lower = [name.lower() for name in names]\n",
    "print(lower)"
   ]
  },
  {
   "cell_type": "code",
   "execution_count": 4,
   "metadata": {},
   "outputs": [
    {
     "name": "stdout",
     "output_type": "stream",
     "text": [
      "Enter your friend name: bOB\n",
      "I know bOB!\n"
     ]
    }
   ],
   "source": [
    "# That is particularly useful for working with user input.\n",
    "# By turning everything to lowercase, it's less likely we'll miss a match.\n",
    "\n",
    "friend = input(\"Enter your friend name: \")\n",
    "friends = [\"Rolf\", \"Bob\", \"Jen\", \"Charlie\", \"Anne\"]\n",
    "friends_lower = [name.lower() for name in friends]\n",
    "\n",
    "if friend.lower() in friends_lower:\n",
    "    print(f\"I know {friend}!\")\n",
    "#     friend_titlecased = friend.title()\n",
    "#     print(f\"I know {friend_titlecased}!\")\n",
    "#     print(f\"I know {friend.capitalize()}!\")  # could also use friend.title()"
   ]
  },
  {
   "cell_type": "markdown",
   "metadata": {},
   "source": [
    " - List comprehensions also allow for more than one `for` clause. We can use this to find all the possible combinations of dice rolls for two dice, for example:"
   ]
  },
  {
   "cell_type": "code",
   "execution_count": 5,
   "metadata": {
    "scrolled": true
   },
   "outputs": [
    {
     "name": "stdout",
     "output_type": "stream",
     "text": [
      "[(1, 1), (1, 2), (1, 3), (1, 4), (1, 5), (2, 1), (2, 2), (2, 3), (2, 4), (2, 5), (3, 1), (3, 2), (3, 3), (3, 4), (3, 5), (4, 1), (4, 2), (4, 3), (4, 4), (4, 5), (5, 1), (5, 2), (5, 3), (5, 4), (5, 5)]\n",
      "25\n"
     ]
    }
   ],
   "source": [
    "roll_combinations = [(d1, d2) for d1 in range(1, 6) for d2 in range(1, 6)]\n",
    "print(roll_combinations)\n",
    "print(len(roll_combinations))"
   ]
  },
  {
   "cell_type": "code",
   "execution_count": 6,
   "metadata": {
    "scrolled": true
   },
   "outputs": [
    {
     "data": {
      "text/plain": [
       "[((1, 1), 2),\n",
       " ((1, 2), 3),\n",
       " ((2, 1), 3),\n",
       " ((1, 3), 4),\n",
       " ((2, 2), 4),\n",
       " ((3, 1), 4),\n",
       " ((1, 4), 5),\n",
       " ((2, 3), 5),\n",
       " ((3, 2), 5),\n",
       " ((4, 1), 5),\n",
       " ((1, 5), 6),\n",
       " ((2, 4), 6),\n",
       " ((3, 3), 6),\n",
       " ((4, 2), 6),\n",
       " ((5, 1), 6),\n",
       " ((2, 5), 7),\n",
       " ((3, 4), 7),\n",
       " ((4, 3), 7),\n",
       " ((5, 2), 7),\n",
       " ((3, 5), 8),\n",
       " ((4, 4), 8),\n",
       " ((5, 3), 8),\n",
       " ((4, 5), 9),\n",
       " ((5, 4), 9),\n",
       " ((5, 5), 10)]"
      ]
     },
     "execution_count": 6,
     "metadata": {},
     "output_type": "execute_result"
    }
   ],
   "source": [
    "sorted(list(zip(roll_combinations,[roll[0]+roll[1] for roll in roll_combinations])), key=lambda x: x[1])"
   ]
  },
  {
   "cell_type": "code",
   "execution_count": 7,
   "metadata": {},
   "outputs": [
    {
     "name": "stdout",
     "output_type": "stream",
     "text": [
      "(1, 1, 2)\n",
      "(1, 2, 3)\n",
      "(1, 3, 4)\n",
      "(1, 4, 5)\n",
      "(1, 5, 6)\n",
      "(2, 1, 3)\n",
      "(2, 2, 4)\n",
      "(2, 3, 5)\n",
      "(2, 4, 6)\n",
      "(2, 5, 7)\n",
      "(3, 1, 4)\n",
      "(3, 2, 5)\n",
      "(3, 3, 6)\n",
      "(3, 4, 7)\n",
      "(3, 5, 8)\n",
      "(4, 1, 5)\n",
      "(4, 2, 6)\n",
      "(4, 3, 7)\n",
      "(4, 4, 8)\n",
      "(4, 5, 9)\n",
      "(5, 1, 6)\n",
      "(5, 2, 7)\n",
      "(5, 3, 8)\n",
      "(5, 4, 9)\n",
      "(5, 5, 10)\n"
     ]
    }
   ],
   "source": [
    "for roll in roll_combinations:\n",
    "    x,y,total = roll[0], roll[1], roll[0]+roll[1]\n",
    "    new_list = []\n",
    "    print((x,y,total))"
   ]
  },
  {
   "cell_type": "code",
   "execution_count": 8,
   "metadata": {},
   "outputs": [
    {
     "data": {
      "text/plain": [
       "[1, 4, 7]"
      ]
     },
     "execution_count": 8,
     "metadata": {},
     "output_type": "execute_result"
    }
   ],
   "source": [
    "# Build a list comprehension by deconstructing a for loop within a []\n",
    "\n",
    "matrix = [[1,2,3],[4,5,6],[7,8,9]]\n",
    "first_col = [row[0] for row in matrix]\n",
    "first_col"
   ]
  },
  {
   "cell_type": "markdown",
   "metadata": {},
   "source": [
    "We used a list comprehension here to grab the first element of every row in the matrix object. "
   ]
  },
  {
   "cell_type": "markdown",
   "metadata": {},
   "source": [
    "<a id='conditions'></a>\n",
    "## COMPREHENSIONS WITH CONDITIONALS"
   ]
  },
  {
   "cell_type": "code",
   "execution_count": 9,
   "metadata": {},
   "outputs": [
    {
     "name": "stdout",
     "output_type": "stream",
     "text": [
      "[6, 7, 8, 9]\n"
     ]
    }
   ],
   "source": [
    "# prints out the numbers that are  greater than 5 only\n",
    "list1 = [x for x in range(10) if x > 5]\n",
    "print(list1)"
   ]
  },
  {
   "cell_type": "code",
   "execution_count": 10,
   "metadata": {},
   "outputs": [
    {
     "name": "stdout",
     "output_type": "stream",
     "text": [
      "[35, 27, 21]\n"
     ]
    }
   ],
   "source": [
    "# prints out the odd numbers\n",
    "ages = [22, 35, 27, 21, 20]\n",
    "odds = [n for n in ages if n % 2 == 1]\n",
    "\n",
    "print(odds)"
   ]
  },
  {
   "cell_type": "code",
   "execution_count": 11,
   "metadata": {},
   "outputs": [
    {
     "name": "stdout",
     "output_type": "stream",
     "text": [
      "[False, True, True, False, False, True]\n",
      "['John', 'Helen', 'Rolf']\n"
     ]
    }
   ],
   "source": [
    "# checks if the length of the names are less than 6 characters \n",
    "names = [\"Matthew\", \"John\", \"Helen\", \"Stephen\", \"Alexandra\", \"Rolf\"]\n",
    "short_names = [len(name) < 6 for name in names]\n",
    "print(short_names)\n",
    "\n",
    "# prints only the names that are less than 6 characters long\n",
    "names = [\"Matthew\", \"John\", \"Helen\", \"Stephen\", \"Alexandra\", \"Rolf\"]\n",
    "short_names = [name for name in names if len(name) < 6]\n",
    "print(short_names)"
   ]
  },
  {
   "cell_type": "markdown",
   "metadata": {},
   "source": [
    "Like with for clauses, list comprehensions allow for numerous if clauses in sequence:"
   ]
  },
  {
   "cell_type": "code",
   "execution_count": 12,
   "metadata": {},
   "outputs": [
    {
     "name": "stdout",
     "output_type": "stream",
     "text": [
      "['John', 'Helen']\n"
     ]
    }
   ],
   "source": [
    "names = [\"Matthew\", \"John\", \"Helen\", \"Stephen\", \"Alexandra\", \"Rolf\"]\n",
    "short_final_n = [name for name in names if len(name) < 6 if name[-1] == \"n\"]\n",
    "\n",
    "print(short_final_n)"
   ]
  },
  {
   "cell_type": "code",
   "execution_count": 13,
   "metadata": {},
   "outputs": [
    {
     "name": "stdout",
     "output_type": "stream",
     "text": [
      "{'charlie', 'rolf'}\n",
      "********************\n",
      "['Rolf', 'Charlie']\n"
     ]
    }
   ],
   "source": [
    "# -- with strings --\n",
    "\n",
    "friends = [\"Rolf\", \"ruth\", \"charlie\", \"Jen\"]\n",
    "guests = [\"jose\", \"Bob\", \"Rolf\", \"Charlie\", \"michael\"]\n",
    "\n",
    "friends_lower = set([f.lower() for f in friends])\n",
    "guests_lower = set([g.lower() for g in guests])\n",
    "\n",
    "print(friends_lower.intersection(guests_lower))\n",
    "\n",
    "print('*'*20)\n",
    "\n",
    "friends_lower1 = [f.lower() for f in friends]\n",
    "\n",
    "present_friends = [\n",
    "    name.capitalize() for name in guests if name.lower() in friends_lower1\n",
    "]\n",
    "\n",
    "print(present_friends)"
   ]
  },
  {
   "cell_type": "code",
   "execution_count": 14,
   "metadata": {},
   "outputs": [
    {
     "name": "stdout",
     "output_type": "stream",
     "text": [
      "['Rolf', 'Charlie']\n"
     ]
    }
   ],
   "source": [
    "# -- nested list comprehensions --\n",
    "# Don't do this, because it's almost completely unreadable.\n",
    "# Splitting things out into variables is better.\n",
    "\n",
    "friends = [\"Rolf\", \"ruth\", \"charlie\", \"Jen\"]\n",
    "guests = [\"jose\", \"Bob\", \"Rolf\", \"Charlie\", \"michael\"]\n",
    "\n",
    "present_friends = [\n",
    "    name.capitalize() for name in guests if name.lower() in [f.lower() for f in friends]\n",
    "]\n",
    "print(present_friends)"
   ]
  },
  {
   "cell_type": "code",
   "execution_count": 15,
   "metadata": {},
   "outputs": [
    {
     "name": "stdout",
     "output_type": "stream",
     "text": [
      "['egg', 'sausage', 'bacon']\n",
      "['chicken', 'chips']\n",
      "****************************************\n",
      "[['egg', 'sausage', 'bacon'], ['chicken', 'chips']]\n",
      "****************************************\n",
      "['egg', 'sausage', 'bacon']\n",
      "['chicken', 'chips']\n"
     ]
    }
   ],
   "source": [
    "menu = [\n",
    "    [\"egg\", \"spam\", \"bacon\"],\n",
    "    [\"egg\", \"sausage\", \"bacon\"],\n",
    "    [\"egg\", \"spam\"],\n",
    "    [\"egg\", \"bacon\", \"spam\"],\n",
    "    [\"egg\", \"bacon\", \"sausage\", \"spam\"],\n",
    "    [\"spam\", \"bacon\", \"sausage\", \"spam\"],\n",
    "    [\"spam\", \"egg\", \"spam\", \"spam\", \"bacon\", \"spam\"],\n",
    "    [\"spam\", \"egg\", \"sausage\", \"spam\"],\n",
    "    [\"chicken\", \"chips\"]\n",
    "]\n",
    "\n",
    "for meal in menu:\n",
    "    if \"spam\" not in meal:\n",
    "        print(meal)\n",
    "\n",
    "print('*' * 40)\n",
    "\n",
    "meals = [meal for meal in menu if 'spam' not in meal]\n",
    "print(meals)\n",
    "\n",
    "print('*' * 40)\n",
    "        \n",
    "meals = [meal for meal in menu if 'spam' not in meal]\n",
    "for meal in meals:\n",
    "    print(meal)"
   ]
  },
  {
   "cell_type": "markdown",
   "metadata": {},
   "source": [
    "The list comprehension now has 3 parts here:\n",
    "- The first part is the expression that we want to return. In this case, it is the number to the power of 2.\n",
    "- The second part is an interation over a sequence. It's identical to the for loop used previously without the semicolon, :. \n",
    "- The comprehension now specifies a filter, which is the third part."
   ]
  },
  {
   "cell_type": "code",
   "execution_count": 16,
   "metadata": {},
   "outputs": [
    {
     "name": "stdout",
     "output_type": "stream",
     "text": [
      "['a meal was skipped', ['egg', 'sausage', 'bacon'], 'a meal was skipped', 'a meal was skipped', 'a meal was skipped', 'a meal was skipped', 'a meal was skipped', 'a meal was skipped', ['chicken', 'chips']]\n"
     ]
    }
   ],
   "source": [
    "# This is how the comprehension with conditional operates:\n",
    "meals = []\n",
    "for meal in menu:\n",
    "    if \"spam\" not in meal:\n",
    "        meals.append(meal)\n",
    "    else:\n",
    "        meals.append(\"a meal was skipped\")\n",
    "print(meals)\n",
    "\n",
    "# It is important to note that we can not use an else statement inside a conditional. \n",
    "# The 'if' is being used as a filter only."
   ]
  },
  {
   "cell_type": "code",
   "execution_count": 17,
   "metadata": {},
   "outputs": [
    {
     "name": "stdout",
     "output_type": "stream",
     "text": [
      "[['egg', 'sausage', 'bacon']]\n",
      "[['egg', 'sausage', 'bacon']]\n"
     ]
    }
   ],
   "source": [
    "meals = [meal for meal in menu if \"spam\" not in meal if \"chicken\" not in meal]\n",
    "print(meals)\n",
    "\n",
    "meals = [meal for meal in menu if \"spam\" not in meal and \"chicken\" not in meal]\n",
    "print(meals)"
   ]
  },
  {
   "cell_type": "code",
   "execution_count": 18,
   "metadata": {},
   "outputs": [
    {
     "name": "stdout",
     "output_type": "stream",
     "text": [
      "[['egg', 'spam', 'bacon'], ['egg', 'spam'], ['egg', 'bacon', 'spam'], ['spam', 'egg', 'spam', 'spam', 'bacon', 'spam'], ['spam', 'egg', 'sausage', 'spam']]\n"
     ]
    }
   ],
   "source": [
    "fussy_meals = [meal for meal in menu if \"spam\" in meal or \"eggs\" in meal if not\n",
    "               (\"bacon\" in meal and \"sausage\" in meal)]\n",
    "print(fussy_meals)"
   ]
  },
  {
   "cell_type": "code",
   "execution_count": 19,
   "metadata": {},
   "outputs": [
    {
     "name": "stdout",
     "output_type": "stream",
     "text": [
      "[['egg', 'spam', 'bacon'], ['egg', 'spam'], ['egg', 'bacon', 'spam'], ['spam', 'egg', 'spam', 'spam', 'bacon', 'spam'], ['spam', 'egg', 'sausage', 'spam']]\n"
     ]
    }
   ],
   "source": [
    "fussy_meals = [meal for meal in menu if\n",
    "               (\"spam\" in meal or \"eggs\" in meal) and not (\"bacon\" in meal and \"sausage\" in meal)]\n",
    "print(fussy_meals)\n"
   ]
  },
  {
   "cell_type": "code",
   "execution_count": 20,
   "metadata": {},
   "outputs": [
    {
     "name": "stdout",
     "output_type": "stream",
     "text": [
      "[['egg', 'spam', 'bacon'], ['egg', 'spam'], ['egg', 'bacon', 'spam'], ['spam', 'egg', 'spam', 'spam', 'bacon', 'spam'], ['spam', 'egg', 'sausage', 'spam']]\n"
     ]
    }
   ],
   "source": [
    "fussy_meals = [meal for meal in menu if \n",
    "               ((\"spam\" or \"eggs\") in meal) and not (\"bacon\" in meal and \"sausage\" in meal)]\n",
    "print(fussy_meals)"
   ]
  },
  {
   "cell_type": "code",
   "execution_count": 21,
   "metadata": {},
   "outputs": [
    {
     "name": "stdout",
     "output_type": "stream",
     "text": [
      "unknown\n"
     ]
    }
   ],
   "source": [
    "x = 15\n",
    "expression = \"Twelve\" if x == 12 else \"unknown\"\n",
    "print(expression)"
   ]
  },
  {
   "cell_type": "code",
   "execution_count": 22,
   "metadata": {},
   "outputs": [
    {
     "name": "stdout",
     "output_type": "stream",
     "text": [
      "['a meal skipped', ['egg', 'sausage', 'bacon'], 'a meal skipped', 'a meal skipped', 'a meal skipped', 'a meal skipped', 'a meal skipped', 'a meal skipped', ['chicken', 'chips']]\n"
     ]
    }
   ],
   "source": [
    "# conditional expression method:\n",
    "meals = [meal if \"spam\" not in meal else \"a meal skipped\" for meal in menu]\n",
    "print(meals)"
   ]
  },
  {
   "cell_type": "code",
   "execution_count": 23,
   "metadata": {},
   "outputs": [
    {
     "name": "stdout",
     "output_type": "stream",
     "text": [
      "['egg', 'spam', 'bacon'] contains bacon\n",
      "['egg', 'sausage', 'bacon'] contains sausage\n",
      "['egg', 'spam'] contains egg\n",
      "['egg', 'bacon', 'spam'] contains bacon\n",
      "['egg', 'bacon', 'sausage', 'spam'] contains sausage\n",
      "['spam', 'bacon', 'sausage', 'spam'] contains sausage\n",
      "['spam', 'egg', 'spam', 'spam', 'bacon', 'spam'] contains bacon\n",
      "['spam', 'egg', 'sausage', 'spam'] contains sausage\n",
      "['chicken', 'chips'] contains egg\n"
     ]
    }
   ],
   "source": [
    "for meal in menu:\n",
    "    print(meal, \"contains sausage\" if \"sausage\" in meal else \"contains bacon\" if \"bacon\" in meal else \"contains egg\")"
   ]
  },
  {
   "cell_type": "code",
   "execution_count": 24,
   "metadata": {},
   "outputs": [
    {
     "name": "stdout",
     "output_type": "stream",
     "text": [
      "{'spam', 'bacon', 'egg', 'chips', 'sausage', 'chicken'}\n"
     ]
    }
   ],
   "source": [
    "items = set()\n",
    "for meal in menu:\n",
    "    for item in meal:\n",
    "        items.add(item)\n",
    "print(items)"
   ]
  },
  {
   "cell_type": "code",
   "execution_count": 25,
   "metadata": {},
   "outputs": [
    {
     "name": "stdout",
     "output_type": "stream",
     "text": [
      "['egg', 'spam', 'bacon'] contains spam\n",
      "['egg', 'sausage', 'bacon'] contains bacon\n",
      "['egg', 'spam'] contains spam\n",
      "['egg', 'bacon', 'spam'] contains spam\n",
      "['egg', 'bacon', 'sausage', 'spam'] contains spam\n",
      "['spam', 'bacon', 'sausage', 'spam'] contains spam\n",
      "['spam', 'egg', 'spam', 'spam', 'bacon', 'spam'] contains spam\n",
      "['spam', 'egg', 'sausage', 'spam'] contains spam\n",
      "['chicken', 'chips'] contains chips\n"
     ]
    }
   ],
   "source": [
    "for meal in menu:\n",
    "    for item in items:\n",
    "        if item in meal:\n",
    "            print(\"{} contains {}\".format(meal, item))\n",
    "            break"
   ]
  },
  {
   "cell_type": "code",
   "execution_count": 26,
   "metadata": {},
   "outputs": [
    {
     "name": "stdout",
     "output_type": "stream",
     "text": [
      "['egg', 'spam', 'bacon'] contains egg spam bacon\n",
      "['egg', 'sausage', 'bacon'] contains egg sausage bacon\n",
      "['egg', 'spam'] contains egg spam\n",
      "['egg', 'bacon', 'spam'] contains egg spam bacon\n",
      "['egg', 'bacon', 'sausage', 'spam'] contains egg sausage spam bacon\n",
      "['spam', 'bacon', 'sausage', 'spam'] contains sausage spam bacon\n",
      "['spam', 'egg', 'spam', 'spam', 'bacon', 'spam'] contains egg spam bacon\n",
      "['spam', 'egg', 'sausage', 'spam'] contains egg sausage spam\n",
      "['chicken', 'chips'] contains chips chicken\n"
     ]
    }
   ],
   "source": [
    "def contents(ingredients):\n",
    "    items = set()\n",
    "    for item in ingredients:\n",
    "        items.add(item)\n",
    "    return items\n",
    "\n",
    "for meal in menu:\n",
    "    print(meal, \"contains \" + \" \".join(contents(meal)))\n"
   ]
  },
  {
   "cell_type": "code",
   "execution_count": 27,
   "metadata": {
    "scrolled": true
   },
   "outputs": [
    {
     "name": "stdout",
     "output_type": "stream",
     "text": [
      "1\n",
      "2\n",
      "fizz\n",
      "4\n",
      "buzz\n",
      "fizz\n",
      "7\n",
      "8\n",
      "fizz\n",
      "buzz\n",
      "11\n",
      "fizz\n",
      "13\n",
      "14\n",
      "fizz buzz\n"
     ]
    }
   ],
   "source": [
    "for x in range(1, 16):\n",
    "    fizzbuzz = \"fizz buzz\" if x % 15 == 0 else \"fizz\" if x % 3 == 0 else \"buzz\" if x % 5 == 0 else str(x)\n",
    "    print(fizzbuzz)"
   ]
  },
  {
   "cell_type": "code",
   "execution_count": 28,
   "metadata": {
    "scrolled": true
   },
   "outputs": [
    {
     "name": "stdout",
     "output_type": "stream",
     "text": [
      "*****1******\n",
      "*****2******\n",
      "****fizz****\n",
      "*****4******\n",
      "****buzz****\n",
      "****fizz****\n",
      "*****7******\n",
      "*****8******\n",
      "****fizz****\n",
      "****buzz****\n",
      "*****11*****\n",
      "****fizz****\n",
      "*****13*****\n",
      "*****14*****\n",
      "*fizz buzz**\n",
      "*****16*****\n",
      "*****17*****\n",
      "****fizz****\n",
      "*****19*****\n",
      "****buzz****\n",
      "****fizz****\n",
      "*****22*****\n",
      "*****23*****\n",
      "****fizz****\n",
      "****buzz****\n",
      "*****26*****\n",
      "****fizz****\n",
      "*****28*****\n",
      "*****29*****\n",
      "*fizz buzz**\n"
     ]
    }
   ],
   "source": [
    "# challenge 1:\n",
    "# Create a new Python file - I've called this one \"fizzbuzz.py\".\n",
    "#\n",
    "# Use the conditional expression from the previous video to produce\n",
    "# a list comprehension that returns the fizzbuzz results.\n",
    "#\n",
    "# If a number's divisible by 3, the value should be \"fizz\".\n",
    "# If it's divisible by 5, the value should be \"buzz\".\n",
    "# If it's divisible by both 3 and 5, the value should be \"fizz buzz\"\n",
    "# Finally, if none of those conditions apply, the value will be the number itself.\n",
    "#\n",
    "# The code from the end of the last video appears below, so you can check the result.\n",
    "\n",
    "#for x in range(1, 31):\n",
    "#    fizzbuzz = \"fizz buzz\" if x % 15 == 0 else \"fizz\" if x % 3 == 0 else \"buzz\" if x % 5 == 0 else str(x)\n",
    "#    print(fizzbuzz)\n",
    "\n",
    "answer = [\"fizz buzz\" if (x % 5 == 0 and x % 3 == 0) else \"fizz\" if x % 3 == 0 \n",
    "          else \"buzz\" if x % 5 == 0 else str(x) for x in range(1,31)]\n",
    "#print(answer)\n",
    "#for num in answer:\n",
    "#    print(num)\n",
    "\n",
    "for buzz in answer:\n",
    "    print(buzz.center(12, '*'))     #this only runs if we change x to str(x)"
   ]
  },
  {
   "cell_type": "code",
   "execution_count": 29,
   "metadata": {},
   "outputs": [],
   "source": [
    "# Create a comprehension that returns a list of all the locations that have an exit to the forest.\n",
    "# The list should contain the description of each location, if it's possible to get to the forest from there.\n",
    "#\n",
    "# The forest is location 5 in the locations dictionary\n",
    "# The exits for each location are represented by the exits dictionary.\n",
    "#\n",
    "# Remember that a dictionary has a .values() method, to return a list of the values.\n",
    "#\n",
    "# The forest can be reached from the road, and the hill; so those should be the descriptions that\n",
    "# appear in your list.\n",
    "#\n",
    "# Test your program with different destinations (such as 1 for the road) to make sure it works.\n",
    "#\n",
    "# Once it's working, modify the program so that the comprehension returns a list of tuples.\n",
    "# Each tuple consists of the location number and the description.\n",
    "#\n",
    "# Finally, wrap your comprehension in a for loop, and print the lists of all the locations that\n",
    "# lead to each of the other locations in turn.\n",
    "# In other words, use a for loop to run the comprehension for each of the keys in the locations dictionary.\n",
    "\n",
    "\n",
    "locations = {0: \"You are sitting in front of a computer learning Python\",\n",
    "             1: \"You are standing at the end of a road before a small brick building\",\n",
    "             2: \"You are at the top of a hill\",\n",
    "             3: \"You are inside a building, a well house for a small stream\",\n",
    "             4: \"You are in a valley beside a stream\",\n",
    "             5: \"You are in the forest\"}\n",
    "\n",
    "exits = {0: {\"Q\": 0},\n",
    "         1: {\"W\": 2, \"E\": 3, \"N\": 5, \"S\": 4, \"Q\": 0},\n",
    "         2: {\"N\": 5, \"Q\": 0},\n",
    "         3: {\"W\": 1, \"Q\": 0},\n",
    "         4: {\"N\": 1, \"W\": 2, \"Q\": 0},\n",
    "         5: {\"W\": 2, \"S\": 1, \"Q\": 0}}\n"
   ]
  },
  {
   "cell_type": "code",
   "execution_count": 30,
   "metadata": {
    "scrolled": true
   },
   "outputs": [
    {
     "name": "stdout",
     "output_type": "stream",
     "text": [
      "['You are inside a building, a well house for a small stream', 'You are in a valley beside a stream', 'You are in the forest']\n",
      "['You are inside a building, a well house for a small stream', 'You are in a valley beside a stream', 'You are in the forest']\n",
      "Locations leading to 0\t[(0, 'You are sitting in front of a computer learning Python'), (1, 'You are standing at the end of a road before a small brick building'), (2, 'You are at the top of a hill'), (3, 'You are inside a building, a well house for a small stream'), (4, 'You are in a valley beside a stream'), (5, 'You are in the forest')]\n",
      "Locations leading to 1\t[(3, 'You are inside a building, a well house for a small stream'), (4, 'You are in a valley beside a stream'), (5, 'You are in the forest')]\n",
      "Locations leading to 2\t[(1, 'You are standing at the end of a road before a small brick building'), (4, 'You are in a valley beside a stream'), (5, 'You are in the forest')]\n",
      "Locations leading to 3\t[(1, 'You are standing at the end of a road before a small brick building')]\n",
      "Locations leading to 4\t[(1, 'You are standing at the end of a road before a small brick building')]\n",
      "Locations leading to 5\t[(1, 'You are standing at the end of a road before a small brick building'), (2, 'You are at the top of a hill')]\n"
     ]
    }
   ],
   "source": [
    "loc = 1\n",
    "forest = [locations[xit] for xit in exits if loc in exits[xit].values()]\n",
    "print(forest)\n",
    "\n",
    "forest = []\n",
    "for xit in exits:\n",
    "    if loc in exits[xit].values():\n",
    "        forest.append(locations[xit])\n",
    "print(forest)\n",
    "\n",
    "for loc in sorted(locations):\n",
    "    forest = [(xit, locations[xit]) for xit in exits if loc in exits[xit].values()]\n",
    "    print(\"Locations leading to {}\".format(loc), end='\\t')\n",
    "    print(forest)"
   ]
  },
  {
   "cell_type": "code",
   "execution_count": 31,
   "metadata": {},
   "outputs": [
    {
     "name": "stdout",
     "output_type": "stream",
     "text": [
      "Locations leading to 0\t[(0, 'You are sitting in front of a computer learning Python'), (1, 'You are standing at the end of a road before a small brick building'), (2, 'You are at the top of a hill'), (3, 'You are inside a building, a well house for a small stream'), (4, 'You are in a valley beside a stream'), (5, 'You are in the forest')]\n",
      "Locations leading to 1\t[(3, 'You are inside a building, a well house for a small stream'), (4, 'You are in a valley beside a stream'), (5, 'You are in the forest')]\n",
      "Locations leading to 2\t[(1, 'You are standing at the end of a road before a small brick building'), (4, 'You are in a valley beside a stream'), (5, 'You are in the forest')]\n",
      "Locations leading to 3\t[(1, 'You are standing at the end of a road before a small brick building')]\n",
      "Locations leading to 4\t[(1, 'You are standing at the end of a road before a small brick building')]\n",
      "Locations leading to 5\t[(1, 'You are standing at the end of a road before a small brick building'), (2, 'You are at the top of a hill')]\n"
     ]
    }
   ],
   "source": [
    "for loc in sorted(locations):\n",
    "    forest = []\n",
    "    for xit in exits:\n",
    "        if loc in exits[xit].values():\n",
    "            forest.append((xit, locations[xit]))\n",
    "    print(\"Locations leading to {}\".format(loc), end='\\t')\n",
    "    print(forest)"
   ]
  },
  {
   "cell_type": "markdown",
   "metadata": {},
   "source": [
    "<a id='nested'></a>\n",
    "## NESTED COMPREHENSIONS"
   ]
  },
  {
   "cell_type": "code",
   "execution_count": 32,
   "metadata": {},
   "outputs": [
    {
     "data": {
      "text/plain": [
       "[0, 1, 16, 81, 256, 625, 1296, 2401, 4096, 6561, 10000]"
      ]
     },
     "execution_count": 32,
     "metadata": {},
     "output_type": "execute_result"
    }
   ],
   "source": [
    "test5 = [ x**2 for x in [x**2 for x in range(11)]]\n",
    "test5"
   ]
  },
  {
   "cell_type": "code",
   "execution_count": 33,
   "metadata": {},
   "outputs": [
    {
     "name": "stdout",
     "output_type": "stream",
     "text": [
      "[('beef', 'cheese'), ('beef', 'egg'), ('beef', 'beans'), ('beef', 'spam'), ('chicken', 'cheese'), ('chicken', 'egg'), ('chicken', 'beans'), ('chicken', 'spam'), ('spicy bean', 'cheese'), ('spicy bean', 'egg'), ('spicy bean', 'beans'), ('spicy bean', 'spam')]\n",
      "\n",
      "\n",
      "('beef', 'cheese')\n",
      "('beef', 'egg')\n",
      "('beef', 'beans')\n",
      "('beef', 'spam')\n",
      "('chicken', 'cheese')\n",
      "('chicken', 'egg')\n",
      "('chicken', 'beans')\n",
      "('chicken', 'spam')\n",
      "('spicy bean', 'cheese')\n",
      "('spicy bean', 'egg')\n",
      "('spicy bean', 'beans')\n",
      "('spicy bean', 'spam')\n"
     ]
    }
   ],
   "source": [
    "burgers = [\"beef\", \"chicken\", \"spicy bean\"]\n",
    "toppings = [\"cheese\", \"egg\", \"beans\", \"spam\"]\n",
    "\n",
    "meals = [(burger, topping) for burger in burgers for topping in toppings]\n",
    "print(meals)\n",
    "\n",
    "print()\n",
    "\n",
    "#for burger in burgers:\n",
    "#    for topping in toppings:\n",
    "#        print((burger, topping))\n",
    "        \n",
    "print()\n",
    "\n",
    "for meals in [(burger, topping) for burger in burgers for topping in toppings]:\n",
    "    print(meals)"
   ]
  },
  {
   "cell_type": "code",
   "execution_count": 34,
   "metadata": {},
   "outputs": [
    {
     "name": "stdout",
     "output_type": "stream",
     "text": [
      "('beef', 'cheese')\n",
      "('beef', 'egg')\n",
      "('beef', 'beans')\n",
      "('beef', 'spam')\n",
      "('chicken', 'cheese')\n",
      "('chicken', 'egg')\n",
      "('chicken', 'beans')\n",
      "('chicken', 'spam')\n",
      "('spicy bean', 'cheese')\n",
      "('spicy bean', 'egg')\n",
      "('spicy bean', 'beans')\n",
      "('spicy bean', 'spam')\n",
      "\n",
      "[('beef', 'cheese'), ('chicken', 'cheese'), ('spicy bean', 'cheese')]\n",
      "[('beef', 'egg'), ('chicken', 'egg'), ('spicy bean', 'egg')]\n",
      "[('beef', 'beans'), ('chicken', 'beans'), ('spicy bean', 'beans')]\n",
      "[('beef', 'spam'), ('chicken', 'spam'), ('spicy bean', 'spam')]\n",
      "\n",
      "[('beef', 'cheese'), ('beef', 'egg'), ('beef', 'beans'), ('beef', 'spam')]\n",
      "[('chicken', 'cheese'), ('chicken', 'egg'), ('chicken', 'beans'), ('chicken', 'spam')]\n",
      "[('spicy bean', 'cheese'), ('spicy bean', 'egg'), ('spicy bean', 'beans'), ('spicy bean', 'spam')]\n"
     ]
    }
   ],
   "source": [
    "burgers = [\"beef\", \"chicken\", \"spicy bean\"]\n",
    "toppings = [\"cheese\", \"egg\", \"beans\", \"spam\"]\n",
    "\n",
    "for meals in [(burger, topping) for burger in burgers for topping in toppings]:\n",
    "    print(meals)\n",
    "\n",
    "print()\n",
    "    \n",
    "for nested_meals in [[(burger, topping) for burger in burgers] for topping in toppings]:\n",
    "    print(nested_meals)\n",
    "\n",
    "print()\n",
    "\n",
    "for nested_meals in [[(burger, topping) for topping in toppings] for burger in burgers]:\n",
    "    print(nested_meals)"
   ]
  },
  {
   "cell_type": "code",
   "execution_count": 35,
   "metadata": {},
   "outputs": [
    {
     "name": "stdout",
     "output_type": "stream",
     "text": [
      "('beef', ['cheese', 'egg', 'beans', 'spam'])\n",
      "('chicken', ['cheese', 'egg', 'beans', 'spam'])\n",
      "('spicy bean', ['cheese', 'egg', 'beans', 'spam'])\n"
     ]
    }
   ],
   "source": [
    "burgers = [\"beef\", \"chicken\", \"spicy bean\"]\n",
    "toppings = [\"cheese\", \"egg\", \"beans\", \"spam\"]\n",
    "\n",
    "for nested_meals in [(burger, toppings) for burger in burgers]: # for topping in toppings]:\n",
    "    print(nested_meals)\n"
   ]
  },
  {
   "cell_type": "code",
   "execution_count": 36,
   "metadata": {
    "scrolled": true
   },
   "outputs": [
    {
     "name": "stdout",
     "output_type": "stream",
     "text": [
      "1 1\n",
      "1 2\n",
      "1 3\n",
      "1 4\n",
      "2 2\n",
      "2 4\n",
      "2 6\n",
      "2 8\n",
      "3 3\n",
      "3 6\n",
      "3 9\n",
      "3 12\n",
      "4 4\n",
      "4 8\n",
      "4 12\n",
      "4 16\n"
     ]
    }
   ],
   "source": [
    "# Challenge 1\n",
    "\n",
    "# In an early video, we used a for loop to print the times tables, for values from 1 to 10.\n",
    "# That was a nested loop, which appears below.\n",
    "#\n",
    "# The challenge is to use a nested comprehension, to produce the same values.\n",
    "# You can iterate over the list, to produce the same output as the for loop, or just print out the list.\n",
    "\n",
    "for i in range(1, 5):\n",
    "    for j in range(1, 5):\n",
    "        print(i, i * j)\n",
    "        #print(f\"{i:2} * {j:2} = {i * j:3}\")\n"
   ]
  },
  {
   "cell_type": "code",
   "execution_count": 37,
   "metadata": {},
   "outputs": [
    {
     "name": "stdout",
     "output_type": "stream",
     "text": [
      "['1 * 1 = 1', '1 * 2 = 2', '1 * 3 = 3', '1 * 4 = 4']\n",
      "['2 * 1 = 2', '2 * 2 = 4', '2 * 3 = 6', '2 * 4 = 8']\n",
      "['3 * 1 = 3', '3 * 2 = 6', '3 * 3 = 9', '3 * 4 = 12']\n",
      "['4 * 1 = 4', '4 * 2 = 8', '4 * 3 = 12', '4 * 4 = 16']\n"
     ]
    }
   ],
   "source": [
    "for nested in [[(f\"{i} * {j} = {i * j}\") for j in range(1,5)] for i in range(1,5)]:\n",
    "    print(nested)"
   ]
  },
  {
   "cell_type": "code",
   "execution_count": 38,
   "metadata": {
    "scrolled": true
   },
   "outputs": [
    {
     "name": "stdout",
     "output_type": "stream",
     "text": [
      " 1 *  1 =   1\n",
      " 1 *  2 =   2\n",
      " 1 *  3 =   3\n",
      " 1 *  4 =   4\n",
      " 2 *  1 =   2\n",
      " 2 *  2 =   4\n",
      " 2 *  3 =   6\n",
      " 2 *  4 =   8\n",
      " 3 *  1 =   3\n",
      " 3 *  2 =   6\n",
      " 3 *  3 =   9\n",
      " 3 *  4 =  12\n",
      " 4 *  1 =   4\n",
      " 4 *  2 =   8\n",
      " 4 *  3 =  12\n",
      " 4 *  4 =  16\n"
     ]
    }
   ],
   "source": [
    "#the difference here is taking out the extra set of []:\n",
    "for nested in [(f\"{i:2} * {j:2} = {i * j:3}\") for i in range(1,5) for j in range(1,5)]:\n",
    "    print(nested)"
   ]
  },
  {
   "cell_type": "code",
   "execution_count": 39,
   "metadata": {
    "scrolled": true
   },
   "outputs": [
    {
     "name": "stdout",
     "output_type": "stream",
     "text": [
      "1 1\n",
      "1 2\n",
      "1 3\n",
      "1 4\n",
      "2 2\n",
      "2 4\n",
      "2 6\n",
      "2 8\n",
      "3 3\n",
      "3 6\n",
      "3 9\n",
      "3 12\n",
      "4 4\n",
      "4 8\n",
      "4 12\n",
      "4 16\n",
      "******************************\n",
      "[(1, 1), (1, 2), (1, 3), (1, 4), (2, 2), (2, 4), (2, 6), (2, 8), (3, 3), (3, 6), (3, 9), (3, 12), (4, 4), (4, 8), (4, 12), (4, 16)]\n",
      "1 1\n",
      "1 2\n",
      "1 3\n",
      "1 4\n",
      "2 2\n",
      "2 4\n",
      "2 6\n",
      "2 8\n",
      "3 3\n",
      "3 6\n",
      "3 9\n",
      "3 12\n",
      "4 4\n",
      "4 8\n",
      "4 12\n",
      "4 16\n",
      "******************************\n",
      "[[(1, 1), (2, 2), (3, 3), (4, 4)], [(1, 2), (2, 4), (3, 6), (4, 8)], [(1, 3), (2, 6), (3, 9), (4, 12)], [(1, 4), (2, 8), (3, 12), (4, 16)]]\n",
      "1 1\n",
      "1 2\n",
      "1 3\n",
      "1 4\n",
      "2 2\n",
      "2 4\n",
      "2 6\n",
      "2 8\n",
      "3 3\n",
      "3 6\n",
      "3 9\n",
      "3 12\n",
      "4 4\n",
      "4 8\n",
      "4 12\n",
      "4 16\n"
     ]
    }
   ],
   "source": [
    "# In an early video, we used a for loop to print the times tables, for values from 1 to 10.\n",
    "# That was a nested loop, which appears below.\n",
    "#\n",
    "# The challenge is to use a nested comprehension, to produce the same values.\n",
    "# You can iterate over the list, to produce the same output as the for loop, or just print out the list.\n",
    "\n",
    "for i in range(1, 5):\n",
    "    for j in range(1, 5):\n",
    "        print(i, i * j)\n",
    "        \n",
    "print('*' * 30)\n",
    "\n",
    "times = [(i, i * j) for i in range(1, 5) for j in range(1, 5)]\n",
    "print(times)\n",
    "\n",
    "for x, y in [(i, i * j) for i in range(1, 5) for j in range(1, 5)]:\n",
    "    print(x, y)\n",
    "\n",
    "print('*' * 30)    \n",
    "    \n",
    "times2 = [[(i, i * j) for i in range(1, 5)] for j in range(1, 5)]\n",
    "print(times2)\n",
    "\n",
    "# notice this is now a generator to save memory.\n",
    "for x, y in ((i, i * j) for i in range(1, 5) for j in range(1, 5)):\n",
    "    print(x, y)"
   ]
  },
  {
   "cell_type": "code",
   "execution_count": 40,
   "metadata": {
    "scrolled": true
   },
   "outputs": [
    {
     "name": "stdout",
     "output_type": "stream",
     "text": [
      "nested for loops\n",
      "----------------\n",
      "Locations leading to 0\t[(0, 'You are sitting in front of a computer learning Python'), (1, 'You are standing at the end of a road before a small brick building'), (2, 'You are at the top of a hill'), (3, 'You are inside a building, a well house for a small stream'), (4, 'You are in a valley beside a stream'), (5, 'You are in the forest')]\n",
      "Locations leading to 1\t[(3, 'You are inside a building, a well house for a small stream'), (4, 'You are in a valley beside a stream'), (5, 'You are in the forest')]\n",
      "Locations leading to 2\t[(1, 'You are standing at the end of a road before a small brick building'), (4, 'You are in a valley beside a stream'), (5, 'You are in the forest')]\n",
      "Locations leading to 3\t[(1, 'You are standing at the end of a road before a small brick building')]\n",
      "Locations leading to 4\t[(1, 'You are standing at the end of a road before a small brick building')]\n",
      "Locations leading to 5\t[(1, 'You are standing at the end of a road before a small brick building'), (2, 'You are at the top of a hill')]\n",
      "\n",
      "List comprehension inside a for loop\n",
      "------------------------------------\n",
      "Locations leading to 0\t[(0, 'You are sitting in front of a computer learning Python'), (1, 'You are standing at the end of a road before a small brick building'), (2, 'You are at the top of a hill'), (3, 'You are inside a building, a well house for a small stream'), (4, 'You are in a valley beside a stream'), (5, 'You are in the forest')]\n",
      "Locations leading to 1\t[(3, 'You are inside a building, a well house for a small stream'), (4, 'You are in a valley beside a stream'), (5, 'You are in the forest')]\n",
      "Locations leading to 2\t[(1, 'You are standing at the end of a road before a small brick building'), (4, 'You are in a valley beside a stream'), (5, 'You are in the forest')]\n",
      "Locations leading to 3\t[(1, 'You are standing at the end of a road before a small brick building')]\n",
      "Locations leading to 4\t[(1, 'You are standing at the end of a road before a small brick building')]\n",
      "Locations leading to 5\t[(1, 'You are standing at the end of a road before a small brick building'), (2, 'You are at the top of a hill')]\n",
      "\n",
      "nested comprehension\n",
      "--------------------\n",
      "[[(0, 'You are sitting in front of a computer learning Python'), (1, 'You are standing at the end of a road before a small brick building'), (2, 'You are at the top of a hill'), (3, 'You are inside a building, a well house for a small stream'), (4, 'You are in a valley beside a stream'), (5, 'You are in the forest')], [(3, 'You are inside a building, a well house for a small stream'), (4, 'You are in a valley beside a stream'), (5, 'You are in the forest')], [(1, 'You are standing at the end of a road before a small brick building'), (4, 'You are in a valley beside a stream'), (5, 'You are in the forest')], [(1, 'You are standing at the end of a road before a small brick building')], [(1, 'You are standing at the end of a road before a small brick building')], [(1, 'You are standing at the end of a road before a small brick building'), (2, 'You are at the top of a hill')]]\n",
      "\n",
      "Locations leading to 0\t[(0, 'You are sitting in front of a computer learning Python'), (1, 'You are standing at the end of a road before a small brick building'), (2, 'You are at the top of a hill'), (3, 'You are inside a building, a well house for a small stream'), (4, 'You are in a valley beside a stream'), (5, 'You are in the forest')]\n",
      "Locations leading to 1\t[(3, 'You are inside a building, a well house for a small stream'), (4, 'You are in a valley beside a stream'), (5, 'You are in the forest')]\n",
      "Locations leading to 2\t[(1, 'You are standing at the end of a road before a small brick building'), (4, 'You are in a valley beside a stream'), (5, 'You are in the forest')]\n",
      "Locations leading to 3\t[(1, 'You are standing at the end of a road before a small brick building')]\n",
      "Locations leading to 4\t[(1, 'You are standing at the end of a road before a small brick building')]\n",
      "Locations leading to 5\t[(1, 'You are standing at the end of a road before a small brick building'), (2, 'You are at the top of a hill')]\n"
     ]
    }
   ],
   "source": [
    "#challenge 2\n",
    "\n",
    "locations = {0: \"You are sitting in front of a computer learning Python\",\n",
    "             1: \"You are standing at the end of a road before a small brick building\",\n",
    "             2: \"You are at the top of a hill\",\n",
    "             3: \"You are inside a building, a well house for a small stream\",\n",
    "             4: \"You are in a valley beside a stream\",\n",
    "             5: \"You are in the forest\"}\n",
    "\n",
    "exits = {0: {\"Q\": 0},\n",
    "         1: {\"W\": 2, \"E\": 3, \"N\": 5, \"S\": 4, \"Q\": 0},\n",
    "         2: {\"N\": 5, \"Q\": 0},\n",
    "         3: {\"W\": 1, \"Q\": 0},\n",
    "         4: {\"N\": 1, \"W\": 2, \"Q\": 0},\n",
    "         5: {\"W\": 2, \"S\": 1, \"Q\": 0}}\n",
    "\n",
    "print(\"nested for loops\")\n",
    "print(\"----------------\")\n",
    "for loc in sorted(locations):\n",
    "    exits_to_destination_1 = []\n",
    "    for xit in exits:\n",
    "        if loc in exits[xit].values():\n",
    "            exits_to_destination_1.append((xit, locations[xit]))\n",
    "    print(\"Locations leading to {}\".format(loc), end='\\t')\n",
    "    print(exits_to_destination_1)\n",
    "\n",
    "print()\n",
    "\n",
    "print(\"List comprehension inside a for loop\")\n",
    "print(\"------------------------------------\")\n",
    "for loc in sorted(locations):\n",
    "    exits_to_destination_2 = [(xit, locations[xit]) for xit in exits if loc in exits[xit].values()]\n",
    "    print(\"Locations leading to {}\".format(loc), end='\\t')\n",
    "    print(exits_to_destination_2)\n",
    "\n",
    "print()\n",
    "\n",
    "print(\"nested comprehension\")\n",
    "print(\"--------------------\")\n",
    "exits_to_destination_3 = [[(xit, locations[xit]) for xit in exits if loc in exits[xit].values()]\n",
    "                          for loc in sorted(locations)]\n",
    "print(exits_to_destination_3)\n",
    "\n",
    "print()\n",
    "for index, loc in enumerate(exits_to_destination_3):\n",
    "    print(\"Locations leading to {}\".format(index), end='\\t')\n",
    "    print(loc)\n"
   ]
  },
  {
   "cell_type": "markdown",
   "metadata": {},
   "source": [
    "<a id='sets'></a>\n",
    "## SET AND DICTIONARY COMPREHENSIONS"
   ]
  },
  {
   "cell_type": "code",
   "execution_count": 41,
   "metadata": {},
   "outputs": [
    {
     "name": "stdout",
     "output_type": "stream",
     "text": [
      "{'Rolf', 'Charlie'}\n"
     ]
    }
   ],
   "source": [
    "friends = [\"Rolf\", \"ruth\", \"charlie\", \"Jen\"]\n",
    "guests = [\"jose\", \"Bob\", \"Rolf\", \"Charlie\", \"michael\"]\n",
    "\n",
    "friends_lower = {n.lower() for n in friends}\n",
    "guests_lower = {n.lower() for n in guests}\n",
    "\n",
    "present_friends = friends_lower.intersection(guests_lower)\n",
    "present_friends = {name.capitalize() for name in friends_lower & guests_lower}\n",
    "\n",
    "print(present_friends)\n"
   ]
  },
  {
   "cell_type": "code",
   "execution_count": 42,
   "metadata": {},
   "outputs": [
    {
     "name": "stdout",
     "output_type": "stream",
     "text": [
      "{'Bob': 7, 'Jen': 15, 'Anne': 11}\n"
     ]
    }
   ],
   "source": [
    "# Transforming data for easier consumption and processing is a very common task.\n",
    "# Working with homogeneous data is really nice, but often you can't (e.g. when working with user input!).\n",
    "\n",
    "# -- Dictionary comprehension --\n",
    "# Works just like set comprehension, but you need to do key-value pairs.\n",
    "\n",
    "friends = [\"Rolf\", \"Bob\", \"Jen\", \"Anne\"]\n",
    "time_since_seen = [3, 7, 15, 11]\n",
    "\n",
    "long_timers = {\n",
    "    friends[i]: time_since_seen[i]\n",
    "    for i in range(len(friends))\n",
    "    if time_since_seen[i] > 5\n",
    "}\n",
    "\n",
    "print(long_timers)"
   ]
  },
  {
   "cell_type": "code",
   "execution_count": 43,
   "metadata": {},
   "outputs": [
    {
     "name": "stdout",
     "output_type": "stream",
     "text": [
      "{0, 1, 64, 4, 36, 9, 16, 49, 81, 25}\n",
      "[0, 1, 4, 9, 16, 25, 36, 49, 64, 81]\n"
     ]
    }
   ],
   "source": [
    "set1 = {x**2 for x in range(10)}\n",
    "print(set1)\n",
    "print(sorted(set1))"
   ]
  },
  {
   "cell_type": "code",
   "execution_count": 44,
   "metadata": {},
   "outputs": [
    {
     "name": "stdout",
     "output_type": "stream",
     "text": [
      "{0: 0, 1: 1, 2: 4, 3: 9, 4: 16, 5: 25, 6: 36, 7: 49, 8: 64, 9: 81}\n"
     ]
    }
   ],
   "source": [
    "dict1 = {x : x**2 for x in range(10)}\n",
    "print(dict1)"
   ]
  },
  {
   "cell_type": "code",
   "execution_count": 45,
   "metadata": {},
   "outputs": [
    {
     "name": "stdout",
     "output_type": "stream",
     "text": [
      "{'a': 1, 'b': 4}\n",
      "{'b': 4}\n"
     ]
    }
   ],
   "source": [
    "simple_dict = {\n",
    "    'a':1,\n",
    "    'b':2\n",
    "}\n",
    "\n",
    "my_dict = {key:value**2 for key,value in simple_dict.items()}\n",
    "print(my_dict)\n",
    "\n",
    "my_new_dict = {k:v**2 for k,v in simple_dict.items() if v%2==0}\n",
    "print(my_new_dict)"
   ]
  },
  {
   "cell_type": "code",
   "execution_count": 46,
   "metadata": {},
   "outputs": [
    {
     "name": "stdout",
     "output_type": "stream",
     "text": [
      "{1: 1, 2: 4, 3: 9}\n"
     ]
    }
   ],
   "source": [
    "my_dict2 = {num:num**2 for num in [1,2,3]}\n",
    "print(my_dict2)"
   ]
  },
  {
   "cell_type": "code",
   "execution_count": 47,
   "metadata": {},
   "outputs": [
    {
     "name": "stdout",
     "output_type": "stream",
     "text": [
      "{3: 9}\n"
     ]
    }
   ],
   "source": [
    "my_dict2 = {num:num**2 for num in [1,2,3] if num**2>5}\n",
    "print(my_dict2)"
   ]
  },
  {
   "cell_type": "markdown",
   "metadata": {},
   "source": [
    "<a id='examples'></a>\n",
    "## MORE EXAMPLES"
   ]
  },
  {
   "cell_type": "code",
   "execution_count": 48,
   "metadata": {},
   "outputs": [
    {
     "name": "stdout",
     "output_type": "stream",
     "text": [
      "['b', 'n']\n"
     ]
    }
   ],
   "source": [
    "some_list = ['a', 'b', 'c', 'b', 'd', 'm', 'n', 'n']\n",
    "\n",
    "duplicates = []\n",
    "for value in some_list:\n",
    "    if some_list.count(value) > 1:\n",
    "        if value not in duplicates:\n",
    "            duplicates.append(value)\n",
    "\n",
    "print(duplicates)"
   ]
  },
  {
   "cell_type": "code",
   "execution_count": 49,
   "metadata": {},
   "outputs": [
    {
     "name": "stdout",
     "output_type": "stream",
     "text": [
      "['n', 'b']\n",
      "['n', 'b']\n",
      "['n', 'b']\n"
     ]
    }
   ],
   "source": [
    "# Method 1\n",
    "some_list = ['a', 'b', 'c', 'b', 'd', 'm', 'n', 'n']\n",
    "\n",
    "duplicates = [letter for letter in some_list if some_list.count(letter)>1]\n",
    "print(list(set(duplicates)))\n",
    "\n",
    "# Method 2\n",
    "some_list = ['a', 'b', 'c', 'b', 'd', 'm', 'n', 'n']\n",
    "\n",
    "duplicates = {letter for letter in some_list if some_list.count(letter)>1}\n",
    "print(list(duplicates))\n",
    "\n",
    "# Method 3\n",
    "some_list = ['a', 'b', 'c', 'b', 'd', 'm', 'n', 'n']\n",
    "\n",
    "duplicates = list(set([letter for letter in some_list if some_list.count(letter)>1]))\n",
    "print(duplicates)"
   ]
  },
  {
   "cell_type": "code",
   "execution_count": 50,
   "metadata": {},
   "outputs": [
    {
     "name": "stdout",
     "output_type": "stream",
     "text": [
      "['9', '9', '1', '3', '2'] \n",
      "\n",
      "['9', '9', ' ', 'f', 'a', 'n', 't', 'a', 's', 't', 'i', 'c', ' ', '1', '3', ' ', 'h', 'e', 'l', 'l', 'o', ' ', '2', ' ', 'w', 'o', 'r', 'l', 'd'] \n",
      "\n",
      "['99', 'fantastic', '13', 'hello', '2', 'world']\n",
      "['99', '13', '2']\n"
     ]
    }
   ],
   "source": [
    "my_string = '99 fantastic 13 hello 2 world'\n",
    "nums_list = []\n",
    "\n",
    "for i in my_string:\n",
    "    if i.isdigit():\n",
    "        nums_list.append(i)\n",
    "\n",
    "print(nums_list, '\\n') # Prints ['9', '9', '1', '3', '2']\n",
    "\n",
    "nums_list2 = []\n",
    "for i in my_string:\n",
    "    if isinstance(my_string, str):\n",
    "        nums_list2.append(i)\n",
    "\n",
    "print(nums_list2, '\\n') \n",
    "\n",
    "print(my_string.split(' '))\n",
    "new_list = [char for char in my_string.split(' ') if char.isdigit()]  #we need the char at the beginning\n",
    "                                                                      #to represent the <modification>\n",
    "print(new_list)"
   ]
  },
  {
   "cell_type": "code",
   "execution_count": 51,
   "metadata": {},
   "outputs": [
    {
     "name": "stdout",
     "output_type": "stream",
     "text": [
      "WHAT HAVE THE ROMANS EVER DONE FOR US\n",
      "['what', 'have', 'the', 'romans', 'ever', 'done', 'for', 'us']\n",
      "['what', 'have', 'the', 'romans', 'ever', 'done', 'for', 'us']\n",
      "w-h-a-t- -h-a-v-e- -t-h-e- -r-o-m-a-n-s- -e-v-e-r- -d-o-n-e- -f-o-r- -u-s\n",
      "w h a t   h a v e   t h e   r o m a n s   e v e r   d o n e   f o r   u s\n",
      "what have the romans ever done for us\n",
      "[1, 2, 3, 4, 5]\n"
     ]
    }
   ],
   "source": [
    "text = \"what have the romans ever done for us\"\n",
    "numbers = list(range(1,6))\n",
    "\n",
    "print(text.upper())\n",
    "print(text.split())\n",
    "print(text.split(\" \"))\n",
    "print('-'.join(text))\n",
    "print(' '.join(text))\n",
    "print(''.join(text))\n",
    "print(''.join(str(numbers)))\n"
   ]
  },
  {
   "cell_type": "code",
   "execution_count": 52,
   "metadata": {},
   "outputs": [
    {
     "name": "stdout",
     "output_type": "stream",
     "text": [
      "['W', 'H', 'A', 'T', ' ', 'H', 'A', 'V', 'E', ' ', 'T', 'H', 'E', ' ', 'R', 'O', 'M', 'A', 'N', 'S', ' ', 'E', 'V', 'E', 'R', ' ', 'D', 'O', 'N', 'E', ' ', 'F', 'O', 'R', ' ', 'U', 'S']\n",
      "['WHAT', 'HAVE', 'THE', 'ROMANS', 'EVER', 'DONE', 'FOR', 'US']\n",
      "['what', 'have', 'the', 'romans', 'ever', 'done', 'for', 'us']\n",
      "['what', 'have', 'the', 'romans', 'ever', 'done', 'for', 'us']\n"
     ]
    }
   ],
   "source": [
    "text = \"what have the romans ever done for us\"\n",
    "\n",
    "capitals = [char.upper() for char in text]\n",
    "print(capitals)\n",
    "\n",
    "words = [word.upper() for word in text.split(' ')]\n",
    "print(words)\n",
    "\n",
    "lc_words = text.split(' ')\n",
    "print(lc_words)\n",
    "\n",
    "#best not to do this way: \n",
    "lc_words = [word for word in text.split(' ')]\n",
    "print(lc_words)\n"
   ]
  },
  {
   "cell_type": "code",
   "execution_count": 53,
   "metadata": {},
   "outputs": [
    {
     "name": "stdout",
     "output_type": "stream",
     "text": [
      "                                  spam and eggs\n",
      "                               spam, spam and eggs\n",
      "                                        12\n",
      "                              first-second-3-4-spam\n"
     ]
    }
   ],
   "source": [
    "def centre_text(*args):\n",
    "    text = \"-\".join([str(arg) for arg in args])\n",
    "    left_margin = (80 - len(text)) // 2\n",
    "    print(\" \" * left_margin, text)\n",
    "\n",
    "\n",
    "# call the function\n",
    "centre_text(\"spam and eggs\")\n",
    "centre_text(\"spam, spam and eggs\")\n",
    "centre_text(12)\n",
    "centre_text(\"first\", \"second\", 3, 4, \"spam\")\n"
   ]
  },
  {
   "cell_type": "code",
   "execution_count": 54,
   "metadata": {},
   "outputs": [
    {
     "name": "stdout",
     "output_type": "stream",
     "text": [
      "Please enter a number to return it's square: 5\n",
      "25\n"
     ]
    }
   ],
   "source": [
    "# using a for loop\n",
    "\n",
    "numbers = [1, 2, 3, 4, 5, 6]\n",
    "\n",
    "number = int(input(\"Please enter a number to return it's square: \"))\n",
    "\n",
    "squares = []\n",
    "for num in numbers:\n",
    "    squares.append(num ** 2)\n",
    "\n",
    "index_pos = numbers.index(number)\n",
    "print(squares[index_pos])\n"
   ]
  },
  {
   "cell_type": "code",
   "execution_count": 55,
   "metadata": {},
   "outputs": [
    {
     "name": "stdout",
     "output_type": "stream",
     "text": [
      "Please enter a number to return it's square: 4\n",
      "16\n"
     ]
    }
   ],
   "source": [
    "# using list ocmprehension\n",
    "\n",
    "numbers = [1, 2, 3, 4, 5, 6]\n",
    "\n",
    "number = int(input(\"Please enter a number to return it's square: \"))\n",
    "\n",
    "squares = [number ** 2 for number in numbers]\n",
    "\n",
    "index_pos = numbers.index(number)\n",
    "print(squares[index_pos])"
   ]
  },
  {
   "cell_type": "code",
   "execution_count": 56,
   "metadata": {},
   "outputs": [
    {
     "name": "stdout",
     "output_type": "stream",
     "text": [
      "Please enter your text: THIS WILL BE INTERESTING\n",
      "[4, 4, 2, 11]\n",
      "[4, 4, 2, 11]\n",
      "[('THIS', 4), ('WILL', 4), ('BE', 2), ('INTERESTING', 11)]\n",
      "[('THIS', 4), ('WILL', 4), ('BE', 2), ('INTERESTING', 11)]\n"
     ]
    }
   ],
   "source": [
    "# Challenge1\n",
    "\n",
    "# Rewrite the following code to use a list comprehension, instead of a for loop.\n",
    "#\n",
    "# Add your solution below the loop, so that the resulting list is printed out\n",
    "# below output - that makes it easier to check that it's producing exactly\n",
    "# the same list (and avoids entering the input text twice).\n",
    "\n",
    "text = input(\"Please enter your text: \")\n",
    "\n",
    "output = []\n",
    "for x in text.split():\n",
    "    output.append(len(x))\n",
    "print(output)\n",
    "\n",
    "# type your solution here:\n",
    "answer = [len(x) for x in text.split()]\n",
    "print(answer)\n",
    "# note, any special characters get counted as well. eg, they, returns a length of 5.\n",
    "\n",
    "\n",
    "# It could be useful to store the original words in the list, as well.\n",
    "# The for loop would look like this (note the extra parentheses, so\n",
    "# that we get tuples in the list):\n",
    "\n",
    "output = []\n",
    "for x in text.split():\n",
    "    output.append((x, len(x)))\n",
    "print(output)\n",
    "\n",
    "# type the corresponding comprehension here:\n",
    "answer = [(x, len(x)) for x in text.split()]\n",
    "print(answer)"
   ]
  },
  {
   "cell_type": "code",
   "execution_count": 57,
   "metadata": {},
   "outputs": [
    {
     "name": "stdout",
     "output_type": "stream",
     "text": [
      "Please enter your text: this will be interesting\n",
      "{('interesting', 11), ('this', 4), ('be', 2), ('will', 4)}\n"
     ]
    }
   ],
   "source": [
    "# this is only if we don't want any duplicates.\n",
    "\n",
    "text = input(\"Please enter your text: \")\n",
    "output = {(x, len(x)) for x in text.split()}\n",
    "print(output)"
   ]
  },
  {
   "cell_type": "code",
   "execution_count": 58,
   "metadata": {},
   "outputs": [
    {
     "name": "stdout",
     "output_type": "stream",
     "text": [
      "[7.62, 20.32, 50.8]\n",
      "(7.62, 20.32, 50.8)\n"
     ]
    }
   ],
   "source": [
    "# Challenge2\n",
    "# In case it's not obvious, a list comprehension produces a list, but\n",
    "# it doesn't have to be given a list to iterate over.\n",
    "#\n",
    "# You can use a list comprehension with any iterable type, so we'll\n",
    "# write a comprehension to convert dimensions from inches to centimetres.\n",
    "#\n",
    "# Our dimensions will be represented by a tuple, for the length, width and height.\n",
    "#\n",
    "# There are 2.54 centimetres to 1 inch.\n",
    "\n",
    "inch_measurement = (3, 8, 20)\n",
    "\n",
    "cm_measurement = [x * 2.54 for x in inch_measurement]\n",
    "print(cm_measurement)\n",
    "\n",
    "# Once you've got the correct values, change the code to produce a tuple, rather than a list.\n",
    "cm_measurement = tuple([x * 2.54 for x in inch_measurement])\n",
    "print(cm_measurement)\n",
    "\n",
    "# print(tuple(cm_measurement))"
   ]
  }
 ],
 "metadata": {
  "kernelspec": {
   "display_name": "Python 3",
   "language": "python",
   "name": "python3"
  },
  "language_info": {
   "codemirror_mode": {
    "name": "ipython",
    "version": 3
   },
   "file_extension": ".py",
   "mimetype": "text/x-python",
   "name": "python",
   "nbconvert_exporter": "python",
   "pygments_lexer": "ipython3",
   "version": "3.7.6"
  }
 },
 "nbformat": 4,
 "nbformat_minor": 2
}
