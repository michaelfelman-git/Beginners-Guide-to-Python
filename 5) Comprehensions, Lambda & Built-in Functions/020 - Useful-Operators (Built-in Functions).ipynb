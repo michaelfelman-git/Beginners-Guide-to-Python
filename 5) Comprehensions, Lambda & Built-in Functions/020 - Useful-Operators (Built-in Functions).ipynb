{
 "cells": [
  {
   "cell_type": "markdown",
   "metadata": {},
   "source": [
    "<h1 align=\"center\">USEFUL OPERATORS (BUILT-IN-FUNCTIONS)</h1>\n",
    "<h2 align=\"left\"><ins>Lesson Guide</ins></h2>\n",
    "\n",
    "- [**help**](#help)\n",
    "- [**complex**](#complex)\n",
    "- [**in**](#in)\n",
    "- [**range**](#range)\n",
    "- [**min and max**](#minmax)\n",
    "- [**random**](#random)\n",
    "- [**sorted**](#sorted)\n",
    "- [**join**](#join)\n",
    "- [**all and any**](#allany)\n",
    "- [**enumerate**](#enumerate)\n",
    "- [**filter**](#filter)\n",
    "- [**map**](#map)\n",
    "- [**reduce**](#reduce)   &nbsp;&nbsp;&nbsp;No longer a built-in-function\n",
    "- [**zip**](#zip)\n",
    "\n",
    "#### [Documentation](https://docs.python.org/3/library/functions.html#built-in-funcs)"
   ]
  },
  {
   "cell_type": "markdown",
   "metadata": {},
   "source": [
    "<a id='help'></a>\n",
    "## help\n",
    "Invoke the built-in help system. (This function is intended for interactive use.) If no argument is given, the interactive help system starts on the interpreter console. If the argument is a string, then the string is looked up as the name of a module, function, class, method, keyword, or documentation topic, and a help page is printed on the console. If the argument is any other kind of object, a help page on the object is generated.\n",
    "https://docs.python.org/3/library/functions.html#help"
   ]
  },
  {
   "cell_type": "code",
   "execution_count": 1,
   "metadata": {},
   "outputs": [
    {
     "name": "stdout",
     "output_type": "stream",
     "text": [
      "Help on method_descriptor:\n",
      "\n",
      "append(self, object, /)\n",
      "    Append object to the end of the list.\n",
      "\n"
     ]
    }
   ],
   "source": [
    "help(list.append)"
   ]
  },
  {
   "cell_type": "code",
   "execution_count": 2,
   "metadata": {},
   "outputs": [
    {
     "name": "stdout",
     "output_type": "stream",
     "text": [
      "Help on method_descriptor:\n",
      "\n",
      "isdisjoint(...)\n",
      "    Return True if two sets have a null intersection.\n",
      "\n"
     ]
    }
   ],
   "source": [
    "help(set.isdisjoint)"
   ]
  },
  {
   "cell_type": "markdown",
   "metadata": {},
   "source": [
    "<a id='complex'></a>\n",
    "## complex()\n",
    "complex() returns a complex number with the value `real + imag*1j` or converts a string or number to a complex number. \n",
    "\n",
    "If the first parameter is a string, it will be interpreted as a complex number and the function must be called without a second parameter. The second parameter can never be a string. Each argument may be any numeric type (including complex). If `imag` is omitted, it defaults to zero and the constructor serves as a numeric conversion like int and float. If both arguments are omitted, returns 0j.\n",
    "\n",
    "If you are doing math or engineering that requires complex numbers (such as dynamics, control systems, or impedance of a circuit) this is a useful tool to have in Python."
   ]
  },
  {
   "cell_type": "code",
   "execution_count": 3,
   "metadata": {},
   "outputs": [
    {
     "name": "stdout",
     "output_type": "stream",
     "text": [
      "(2+3j)\n",
      "(10-1j)\n"
     ]
    }
   ],
   "source": [
    "print(complex(2,3))\n",
    "print(complex(10,-1))"
   ]
  },
  {
   "cell_type": "markdown",
   "metadata": {},
   "source": [
    "We can also pass strings:"
   ]
  },
  {
   "cell_type": "code",
   "execution_count": 4,
   "metadata": {},
   "outputs": [
    {
     "data": {
      "text/plain": [
       "(12+2j)"
      ]
     },
     "execution_count": 4,
     "metadata": {},
     "output_type": "execute_result"
    }
   ],
   "source": [
    "complex('12+2j')"
   ]
  },
  {
   "cell_type": "markdown",
   "metadata": {},
   "source": [
    "<a id='in'></a>\n",
    "## `in` operator\n",
    "\n",
    "We've already seen the **in** keyword during the for loop, but we can also use it to quickly check if an object is `in` a list, as well as `not in` a list."
   ]
  },
  {
   "cell_type": "code",
   "execution_count": 5,
   "metadata": {},
   "outputs": [
    {
     "data": {
      "text/plain": [
       "True"
      ]
     },
     "execution_count": 5,
     "metadata": {},
     "output_type": "execute_result"
    }
   ],
   "source": [
    "'x' in ['x','y','z']"
   ]
  },
  {
   "cell_type": "code",
   "execution_count": 6,
   "metadata": {
    "scrolled": true
   },
   "outputs": [
    {
     "data": {
      "text/plain": [
       "False"
      ]
     },
     "execution_count": 6,
     "metadata": {},
     "output_type": "execute_result"
    }
   ],
   "source": [
    "'x' in [1,2,3]"
   ]
  },
  {
   "cell_type": "code",
   "execution_count": 7,
   "metadata": {},
   "outputs": [
    {
     "data": {
      "text/plain": [
       "True"
      ]
     },
     "execution_count": 7,
     "metadata": {},
     "output_type": "execute_result"
    }
   ],
   "source": [
    "'x' not in [1,2,3]"
   ]
  },
  {
   "cell_type": "code",
   "execution_count": 8,
   "metadata": {
    "scrolled": true
   },
   "outputs": [
    {
     "name": "stdout",
     "output_type": "stream",
     "text": [
      "True\n",
      "False\n"
     ]
    }
   ],
   "source": [
    "d = {'mykey': 1000}\n",
    "\n",
    "print(1000 in d.values())\n",
    "\n",
    "print(1000 in d.keys())"
   ]
  },
  {
   "cell_type": "markdown",
   "metadata": {},
   "source": [
    "<a id='range'></a>\n",
    "## range\n",
    "The range function allows us to quickly *generate* a list of integers. This comes in handy quite often. Rather than being a function, range is actually an immutable sequence type. There are 3 parameters you can pass, a start, a stop, and a step size."
   ]
  },
  {
   "cell_type": "markdown",
   "metadata": {},
   "source": [
    "Returns an object that produces a sequence of integers from **start (inclusive)\n",
    "to stop (exclusive) by step**."
   ]
  },
  {
   "cell_type": "code",
   "execution_count": 9,
   "metadata": {
    "scrolled": true
   },
   "outputs": [
    {
     "data": {
      "text/plain": [
       "range(0, 11)"
      ]
     },
     "execution_count": 9,
     "metadata": {},
     "output_type": "execute_result"
    }
   ],
   "source": [
    "range(0,11)"
   ]
  },
  {
   "cell_type": "markdown",
   "metadata": {},
   "source": [
    "Note that this is a **generator** function, so to actually get a list out of it, we need to cast it to a list with **list()**. What is a generator? Its a special type of function that will generate information and not need to save it to memory. "
   ]
  },
  {
   "cell_type": "code",
   "execution_count": 10,
   "metadata": {},
   "outputs": [
    {
     "name": "stdout",
     "output_type": "stream",
     "text": [
      "0\n",
      "1\n",
      "2\n"
     ]
    }
   ],
   "source": [
    "g = iter(range(10))\n",
    "print(next(g))\n",
    "print(next(g))\n",
    "print(next(g))"
   ]
  },
  {
   "cell_type": "code",
   "execution_count": 11,
   "metadata": {},
   "outputs": [
    {
     "data": {
      "text/plain": [
       "[0, 1, 2, 3, 4, 5, 6, 7, 8, 9, 10]"
      ]
     },
     "execution_count": 11,
     "metadata": {},
     "output_type": "execute_result"
    }
   ],
   "source": [
    "# Notice how 11 is not included - up to but not including 11, just like slice notation!\n",
    "list(range(0,11))"
   ]
  },
  {
   "cell_type": "code",
   "execution_count": 12,
   "metadata": {},
   "outputs": [
    {
     "name": "stdout",
     "output_type": "stream",
     "text": [
      "[0, 2, 4, 6, 8, 10]\n",
      "[0, 10, 20, 30, 40, 50, 60, 70, 80, 90, 100]\n"
     ]
    }
   ],
   "source": [
    "# Third parameter is step size!\n",
    "# step size just means how big of a jump/leap/step you \n",
    "# take from the starting number to get to the next number.\n",
    "\n",
    "print(list(range(0,11,2)))\n",
    "print(list(range(0,101,10)))"
   ]
  },
  {
   "cell_type": "code",
   "execution_count": 13,
   "metadata": {},
   "outputs": [
    {
     "name": "stdout",
     "output_type": "stream",
     "text": [
      "i is now 1\n",
      "i is now 3\n",
      "i is now 5\n",
      "i is now 7\n",
      "i is now 9\n"
     ]
    }
   ],
   "source": [
    "for i in range(1,11,2):\n",
    "    print(f\"i is now {i}\")"
   ]
  },
  {
   "cell_type": "code",
   "execution_count": 14,
   "metadata": {},
   "outputs": [
    {
     "name": "stdout",
     "output_type": "stream",
     "text": [
      "i is now 11\n",
      "i is now 9\n",
      "i is now 7\n",
      "i is now 5\n",
      "i is now 3\n"
     ]
    }
   ],
   "source": [
    "for i in range(11,1,-2):\n",
    "    print(f\"i is now {i}\")"
   ]
  },
  {
   "cell_type": "code",
   "execution_count": 15,
   "metadata": {},
   "outputs": [
    {
     "name": "stdout",
     "output_type": "stream",
     "text": [
      "[1, 3, 5, 7, 9, 11, 13, 15, 17, 19, 21, 23, 25, 27, 29, 31, 33, 35, 37, 39, 41, 43, 45, 47, 49]\n",
      "11\n"
     ]
    }
   ],
   "source": [
    "odd = range(1,50,2)\n",
    "print(list(odd))\n",
    "print(odd[5])  # this returns the 6th element in the range"
   ]
  },
  {
   "cell_type": "code",
   "execution_count": 16,
   "metadata": {},
   "outputs": [
    {
     "name": "stdout",
     "output_type": "stream",
     "text": [
      "Please enter a number between 7 and 10000: 700\n",
      "Your number 700 is divisible by seven.\n"
     ]
    }
   ],
   "source": [
    "sevens = range(7,10000,7)\n",
    "x = int(input(\"Please enter a number between 7 and 10000: \"))\n",
    "\n",
    "if x in sevens:\n",
    "    print(f\"Your number {x} is divisible by seven.\")\n",
    "else:\n",
    "    print(\"Your number is not a multiple of seven\")"
   ]
  },
  {
   "cell_type": "code",
   "execution_count": 17,
   "metadata": {},
   "outputs": [
    {
     "name": "stdout",
     "output_type": "stream",
     "text": [
      "range(1, 10)\n",
      "range(1, 10)\n",
      "range(1, 10, 2)\n"
     ]
    }
   ],
   "source": [
    "small_nums = range(1,10)\n",
    "print(small_nums)\n",
    "\n",
    "new_nums = small_nums[::2]\n",
    "print(small_nums)\n",
    "print(new_nums)"
   ]
  },
  {
   "cell_type": "code",
   "execution_count": 18,
   "metadata": {},
   "outputs": [
    {
     "name": "stdout",
     "output_type": "stream",
     "text": [
      "True\n"
     ]
    }
   ],
   "source": [
    "# the == will test the result, not the code itself\n",
    "print(range(0,5,2) == range(0,6,2))"
   ]
  },
  {
   "cell_type": "code",
   "execution_count": 19,
   "metadata": {},
   "outputs": [
    {
     "name": "stdout",
     "output_type": "stream",
     "text": [
      "[]\n",
      "[19, 17, 15, 13, 11, 9, 7, 5, 3, 1]\n",
      "[19, 17, 15, 13, 11, 9, 7, 5, 3, 1]\n"
     ]
    }
   ],
   "source": [
    "# returns an empty list since this will not work\n",
    "print(list(range(0,20,-2))) \n",
    "\n",
    "print(list(range(0,20)[::-2]))\n",
    "\n",
    "print(list(range(19,0,-2)))"
   ]
  },
  {
   "cell_type": "code",
   "execution_count": 20,
   "metadata": {},
   "outputs": [
    {
     "name": "stdout",
     "output_type": "stream",
     "text": [
      "1\n",
      "2\n",
      "Fizz\n",
      "4\n",
      "Buzz\n",
      "Fizz\n",
      "7\n",
      "8\n",
      "Fizz\n",
      "Buzz\n",
      "11\n",
      "Fizz\n",
      "13\n",
      "14\n",
      "FizzBuzz\n"
     ]
    }
   ],
   "source": [
    "for i in range(1,16):\n",
    "    print('FizzBuzz' if (i%3==0 and i%5==0) else 'Fizz' if i%3==0 else 'Buzz' if i%5==0 else i)"
   ]
  },
  {
   "cell_type": "markdown",
   "metadata": {},
   "source": [
    "<a id='minmax'></a>\n",
    "## min and max\n",
    "\n",
    "Quickly check the minimum or maximum of a list with these two functions."
   ]
  },
  {
   "cell_type": "code",
   "execution_count": 21,
   "metadata": {},
   "outputs": [
    {
     "name": "stdout",
     "output_type": "stream",
     "text": [
      "10\n",
      "100\n"
     ]
    }
   ],
   "source": [
    "mylist = [10,20,30,40,100]\n",
    "\n",
    "print(min(mylist))\n",
    "print(max(mylist))"
   ]
  },
  {
   "cell_type": "markdown",
   "metadata": {},
   "source": [
    "<a id='random'></a>\n",
    "## random\n",
    "\n",
    "Python comes with a built in random library. There are a lot of functions included in this random library, so we will only look at two useful functions for now."
   ]
  },
  {
   "cell_type": "code",
   "execution_count": 22,
   "metadata": {},
   "outputs": [],
   "source": [
    "# from random import *\n",
    "from random import shuffle, randint"
   ]
  },
  {
   "cell_type": "code",
   "execution_count": 23,
   "metadata": {},
   "outputs": [
    {
     "name": "stdout",
     "output_type": "stream",
     "text": [
      "[30, 20, 100, 40, 10]\n"
     ]
    }
   ],
   "source": [
    "mylist = [10,20,30,40,100]\n",
    "\n",
    "# This shuffles the list \"in-place\" meaning it won't return\n",
    "# anything, instead it will effect the original list passed\n",
    "shuffle(mylist)\n",
    "print(mylist)"
   ]
  },
  {
   "cell_type": "code",
   "execution_count": 24,
   "metadata": {},
   "outputs": [
    {
     "data": {
      "text/plain": [
       "7"
      ]
     },
     "execution_count": 24,
     "metadata": {},
     "output_type": "execute_result"
    }
   ],
   "source": [
    "# Return random integer in range [a, b], including both end points.\n",
    "randint(0,100)"
   ]
  },
  {
   "cell_type": "markdown",
   "metadata": {},
   "source": [
    "<a id='sorted'></a>\n",
    "## Sorted"
   ]
  },
  {
   "cell_type": "code",
   "execution_count": 25,
   "metadata": {},
   "outputs": [],
   "source": [
    "mix = [['billy', 'sam'], {'key':'value'}, 12.999, 12, 'flower', 'a', (1, 2, 3)]"
   ]
  },
  {
   "cell_type": "code",
   "execution_count": 26,
   "metadata": {},
   "outputs": [
    {
     "name": "stdout",
     "output_type": "stream",
     "text": [
      "[(1, 2, 3), 12, 12.999, ['billy', 'sam'], 'a', 'flower', {'key': 'value'}]\n"
     ]
    }
   ],
   "source": [
    "# sort comparison by conversion into str (lexigraphical)\n",
    "mix_sorted = sorted(mix,key=str)\n",
    "\n",
    "print(mix_sorted)"
   ]
  },
  {
   "cell_type": "code",
   "execution_count": 27,
   "metadata": {},
   "outputs": [
    {
     "name": "stdout",
     "output_type": "stream",
     "text": [
      "['a', 12, 12.999, 'flower', (1, 2, 3), ['billy', 'sam'], {'key': 'value'}]\n"
     ]
    }
   ],
   "source": [
    "# sort comaparison of len of str after conversion\n",
    "mix_sorted_len= sorted(mix,key=lambda x : len(str(x)))\n",
    "print(mix_sorted_len)"
   ]
  },
  {
   "cell_type": "markdown",
   "metadata": {},
   "source": [
    "<a id='join'></a>\n",
    "## Join"
   ]
  },
  {
   "cell_type": "code",
   "execution_count": 28,
   "metadata": {},
   "outputs": [
    {
     "name": "stdout",
     "output_type": "stream",
     "text": [
      "Help on method_descriptor:\n",
      "\n",
      "join(self, iterable, /)\n",
      "    Concatenate any number of strings.\n",
      "    \n",
      "    The string whose method is called is inserted in between each given string.\n",
      "    The result is returned as a new string.\n",
      "    \n",
      "    Example: '.'.join(['ab', 'pq', 'rs']) -> 'ab.pq.rs'\n",
      "\n"
     ]
    }
   ],
   "source": [
    "help(str.join)"
   ]
  },
  {
   "cell_type": "code",
   "execution_count": 29,
   "metadata": {},
   "outputs": [
    {
     "name": "stdout",
     "output_type": "stream",
     "text": [
      "a,\tb,\tc,\td\n",
      "<class 'str'>\n",
      "a,b,c,d,e,f,g,h,i,j,k,l,m,n,o,p,q,r,s,t,u,v,w,x,y,z\n"
     ]
    }
   ],
   "source": [
    "# this is useful because there is no need for a for loop.\n",
    "\n",
    "mylist = ['a', 'b', 'c', 'd']\n",
    "letters = 'abcdefghijklmnopqrstuvwxyz'\n",
    "\n",
    "new_list = ',\\t'.join(mylist)\n",
    "new_letters = ','.join(letters)\n",
    "\n",
    "print(new_list)\n",
    "print(type(new_list))\n",
    "print(new_letters)"
   ]
  },
  {
   "cell_type": "code",
   "execution_count": 30,
   "metadata": {},
   "outputs": [
    {
     "name": "stdout",
     "output_type": "stream",
     "text": [
      "['a', 'b', 'c', 'd', 'e', 'f', 'g', 'h', 'i', 'j', 'k', 'l', 'm', 'n', 'o', 'p', 'q', 'r', 's', 't', 'u', 'v', 'w', 'x', 'y', 'z']\n"
     ]
    }
   ],
   "source": [
    "*g, = letters\n",
    "print(g)"
   ]
  },
  {
   "cell_type": "markdown",
   "metadata": {},
   "source": [
    "<a id='allany'></a>\n",
    "## all and any"
   ]
  },
  {
   "cell_type": "markdown",
   "metadata": {},
   "source": [
    "all() and any() are built-in functions in Python that allow us to conveniently check for boolean matching in an iterable. \n",
    "\n",
    "- all() will return True if all elements in an iterable are True. It is the same as this function code:\n",
    "\n",
    "    def all(iterable):\n",
    "        for element in iterable:\n",
    "            if not element:\n",
    "                return False\n",
    "        return True\n",
    "        \n",
    "- any() will return True if any of the elements in the iterable are True. It is equivalent to the following function code:\n",
    "\n",
    "    def any(iterable):\n",
    "        for element in iterable:\n",
    "            if element:\n",
    "                return True\n",
    "        return False\n",
    "        "
   ]
  },
  {
   "cell_type": "markdown",
   "metadata": {},
   "source": [
    "Let's see a few examples of these functions. They should be fairly straightforward:"
   ]
  },
  {
   "cell_type": "code",
   "execution_count": 31,
   "metadata": {},
   "outputs": [],
   "source": [
    "lst = [True,True,False,True]"
   ]
  },
  {
   "cell_type": "code",
   "execution_count": 32,
   "metadata": {},
   "outputs": [
    {
     "data": {
      "text/plain": [
       "False"
      ]
     },
     "execution_count": 32,
     "metadata": {},
     "output_type": "execute_result"
    }
   ],
   "source": [
    "all(lst)"
   ]
  },
  {
   "cell_type": "markdown",
   "metadata": {},
   "source": [
    "Returns False because not all elements are True."
   ]
  },
  {
   "cell_type": "code",
   "execution_count": 33,
   "metadata": {},
   "outputs": [
    {
     "data": {
      "text/plain": [
       "True"
      ]
     },
     "execution_count": 33,
     "metadata": {},
     "output_type": "execute_result"
    }
   ],
   "source": [
    "any(lst)"
   ]
  },
  {
   "cell_type": "markdown",
   "metadata": {},
   "source": [
    "Returns True because at least one of the elements in the list is True"
   ]
  },
  {
   "cell_type": "code",
   "execution_count": 34,
   "metadata": {},
   "outputs": [
    {
     "name": "stdout",
     "output_type": "stream",
     "text": [
      "Where are you right now? Washington, D.C.\n",
      "You are not alone!\n"
     ]
    }
   ],
   "source": [
    "friends = [\n",
    "  {\n",
    "    'name': 'Rolf',\n",
    "    'location': 'Washington, D.C.'\n",
    "  },\n",
    "  {\n",
    "    'name': 'Anna',\n",
    "    'location': 'San Francisco'\n",
    "  },\n",
    "  {\n",
    "    'name': 'Charlie',\n",
    "    'location': 'San Francisco'\n",
    "  },\n",
    "  {\n",
    "    'name': 'Jose',\n",
    "    'location': ''\n",
    "  },\n",
    "]\n",
    "\n",
    "your_location = input('Where are you right now? ')\n",
    "friends_nearby = [friend for friend in friends if friend['location'] == your_location]\n",
    "\n",
    "if any(friends_nearby):\n",
    "    print('You are not alone!')"
   ]
  },
  {
   "cell_type": "code",
   "execution_count": 35,
   "metadata": {},
   "outputs": [
    {
     "name": "stdout",
     "output_type": "stream",
     "text": [
      "[{'name': 'Rolf', 'location': 'Washington, D.C.'}]\n"
     ]
    }
   ],
   "source": [
    "print(friends_nearby)"
   ]
  },
  {
   "cell_type": "markdown",
   "metadata": {},
   "source": [
    "Here the contents of `friends_nearby` is a list of dictionaries—not `True` or `False`.\n",
    "\n",
    "However, all values in Python can evaluate to either `True` or `False` if forced to.\n",
    "\n",
    "Some values always evaluate to `False`:\n",
    "\n",
    "* `0`\n",
    "* `None`\n",
    "* `[]`\n",
    "* `()`\n",
    "* `{}`\n",
    "* `False`\n",
    "\n",
    "All other values evaluate to `True`—so if we have a dictionary with values in it, that evaluates to `True` and the `any()` function will then return `True`.\n",
    "\n",
    "However, if we pass it an empty list, we get `False`."
   ]
  },
  {
   "cell_type": "code",
   "execution_count": 36,
   "metadata": {},
   "outputs": [
    {
     "name": "stdout",
     "output_type": "stream",
     "text": [
      "all: True\n",
      "any: True\n",
      "Iterable with a 'False' value\n",
      "all: False\n",
      "any: True\n",
      "**************************************************\n",
      "Values interpreted as False in Python\n",
      "False: False\n",
      "None: False\n",
      "0: False\n",
      "0.0: False\n",
      "empty list []: False\n",
      "empty tuple (): False\n",
      "empty string '': False\n",
      "empty string \"\": False\n",
      "empty mapping {}: False\n",
      "\n",
      "**************************************************\n",
      "Welcome, person with no name\n"
     ]
    }
   ],
   "source": [
    "entries = [1, 2, 3, 4, 5]\n",
    "\n",
    "print(\"all: {}\".format(all(entries)))\n",
    "print(\"any: {}\".format(any(entries)))\n",
    "\n",
    "print(\"Iterable with a 'False' value\")\n",
    "entries_with_zero = [1, 2, 0, 4, 5]\n",
    "print(\"all: {}\".format(all(entries_with_zero)))\n",
    "print(\"any: {}\".format(any(entries_with_zero)))\n",
    "\n",
    "print('*' * 50)\n",
    "\n",
    "print(\"Values interpreted as False in Python\")\n",
    "print(\"\"\"False: {0}\n",
    "None: {1}\n",
    "0: {2}\n",
    "0.0: {3}\n",
    "empty list []: {4}\n",
    "empty tuple (): {5}\n",
    "empty string '': {6}\n",
    "empty string \"\": {7}\n",
    "empty mapping {{}}: {8}\n",
    "\"\"\".format(False, bool(None), bool(0), bool(0.0), bool([]), bool(()), bool(''), bool(\"\"), bool({})))\n",
    "\n",
    "print(\"*\" * 50)\n",
    "\n",
    "name = ''    #\"Tim\" - this returns 'Hello Tim'\n",
    "if name:\n",
    "    print(\"Hello {}\".format(name))\n",
    "else:\n",
    "    print(\"Welcome, person with no name\")\n"
   ]
  },
  {
   "cell_type": "code",
   "execution_count": 37,
   "metadata": {},
   "outputs": [
    {
     "name": "stdout",
     "output_type": "stream",
     "text": [
      "all: True\n",
      "any: False\n",
      "**************************************************\n",
      "False\n",
      "any: False\n",
      "**************************************************\n",
      "False\n"
     ]
    }
   ],
   "source": [
    "entries = []\n",
    "\n",
    "print(\"all: {}\".format(all(entries)))  #unexpected result\n",
    "print(\"any: {}\".format(any(entries)))\n",
    "\n",
    "print(\"*\" * 50)\n",
    "\n",
    "if entries:\n",
    "    print(\"all: {}\".format(all(entries)))\n",
    "else:\n",
    "    print(False)\n",
    "\n",
    "print(\"any: {}\".format(any(entries)))\n",
    "\n",
    "print(\"*\" * 50)\n",
    "\n",
    "#result = entries and all(entries)\n",
    "result = bool(entries) and all(entries)\n",
    "print(result)\n"
   ]
  },
  {
   "cell_type": "code",
   "execution_count": 38,
   "metadata": {},
   "outputs": [],
   "source": [
    "from collections import namedtuple\n",
    "\n",
    "people = [\n",
    "    (\"John Cleese\", \"cleese@gmail.com\"),\n",
    "    (\"Terry Gilliam\", \"gilliam@gmail.com\"),\n",
    "    (\"Eric Idle\", \"\"),\n",
    "    (\"Terry Jones\", \"jones@gmail.com\"),\n",
    "    (\"Graham Chapman\", \"chapman@gmail.com\"),\n",
    "    (\"Michael Palin\", \"\")\n",
    "]\n",
    "\n",
    "# Named Tuples are described in the documentation\n",
    "# https://docs.python.org/3/library/collections.html#collections.namedtuple\n",
    "\n",
    "#Plant = namedtuple('Plant', 'name', 'scientific_name', 'lifecycle', 'plant_type')\n",
    "Plant = namedtuple('Plant', 'name, scientific_name, lifecycle, plant_type')\n",
    "PlantDetails = namedtuple('PlantDetails', ['scientific_name', 'lifecycle', 'plant_type'])\n",
    "\n",
    "basic_plants_list = [\n",
    "    (\"Andromeda\", \"Pieris japonica\", \"Evergreen\", \"Shrub\"),\n",
    "    (\"Bellflower\", \"Campanula\", \"perennial\", \"Flower\"),\n",
    "    (\"China Pink\", \"Dianthus\", \"Perennial\", \"Flower\"),\n",
    "    (\"Daffodil\", \"Narcissus\", \"Perennial\", \"Flower\"),\n",
    "    (\"Evening Primrose\", \"Oenothera\", \"Biennial\", \"Flower\"),\n",
    "    (\"French Marigold\", \"Tagetes patula\", \"Annual\", \"Flower\"),\n",
    "    (\"Golden Hakone Grass\", \"Hakonechloa macra\", \"Perennial\", \"Grass\"),\n",
    "    (\"Hydrangea\", \"Hydrangea\", \"evergreen\", \"Shrub\"),\n",
    "    (\"Iris\", \"Iris\", \"Perennial\", \"Flower\"),\n",
    "    (\"Japanese Camellia\", \"Camellia japonica\", \"Evergreen\", \"Shrub\"),\n",
    "    (\"Lavender\", \"Lavendula\", \"Perennial\", \"Plant/shrub\"),\n",
    "    (\"Lilac\", \"Syringa vulgaris\", \"Deciduous\", \"Shrub\"),\n",
    "    (\"Magnolia\", \"Magnolia\", \"Deciduous, evergreen\", \"Shrub\"),\n",
    "    (\"Peony\", \"Paeonia\", \"Perennial\", \"Shrub\"),\n",
    "    (\"Queen Anne's Lace\", \"Daucus carota\", \"Biennial\", \"Flower\"),\n",
    "    (\"Red Hot Poker\", \"Kniphofia\", \"Perennial\", \"Flower\"),\n",
    "    (\"Snapdragon\", \"Antirrhinum majus\", \"Annual\", \"Flower\"),\n",
    "    (\"Sunflower\", \"Helianthus\", \"Annual\", \"Flower\"),\n",
    "    (\"Tiger Lily\", \"Lilinium tigrinium\", \"Perennial\", \"Flower\"),\n",
    "    (\"Witch Hazel\", \"Hamamelis\", \"Deciduous\", \"Shrubs\"),\n",
    "]\n",
    "\n",
    "plants_list = [\n",
    "    Plant(\"Andromeda\", \"Pieris japonica\", \"Evergreen\", \"Shrub\"),\n",
    "    Plant(\"Bellflower\", \"Campanula\", \"perennial\", \"Flower\"),\n",
    "    Plant(\"China Pink\", \"Dianthus\", \"Perennial\", \"Flower\"),\n",
    "    Plant(\"Daffodil\", \"Narcissus\", \"Perennial\", \"Flower\"),\n",
    "    Plant(\"Evening Primrose\", \"Oenothera\", \"Biennial\", \"Flower\"),\n",
    "    Plant(\"French Marigold\", \"Tagetes patula\", \"Annual\", \"Flower\"),\n",
    "    Plant(\"Golden Hakone Grass\", \"Hakonechloa macra\", \"Perennial\", \"Grass\"),\n",
    "    Plant(\"Hydrangea\", \"Hydrangea\", \"evergreen\", \"Shrub\"),\n",
    "    Plant(\"Iris\", \"Iris\", \"Perennial\", \"Flower\"),\n",
    "    Plant(\"Japanese Camellia\", \"Camellia japonica\", \"Evergreen\", \"Shrub\"),\n",
    "    Plant(\"Lavender\", \"Lavendula\", \"Perennial\", \"Shrub\"),\n",
    "    Plant(\"Lilac\", \"Syringa vulgaris\", \"Deciduous\", \"Shrub\"),\n",
    "    Plant(\"Magnolia\", \"Magnolia\", \"Deciduous, evergreen\", \"Shrub\"),\n",
    "    Plant(\"Peony\", \"Paeonia\", \"Perennial\", \"Shrub\"),\n",
    "    Plant(\"Queen Anne's Lace\", \"Daucus carota\", \"Biennial\", \"Flower\"),\n",
    "    Plant(\"Red Hot Poker\", \"Kniphofia\", \"Perennial\", \"Flower\"),\n",
    "    Plant(\"Snapdragon\", \"Antirrhinum majus\", \"Annual\", \"Flower\"),\n",
    "    Plant(\"Sunflower\", \"Helianthus\", \"Annual\", \"Flower\"),\n",
    "    Plant(\"Tiger Lily\", \"Lilinium tigrinium\", \"Perennial\", \"Flower\"),\n",
    "    Plant(\"Witch Hazel\", \"Hamamelis\", \"Deciduous\", \"Shrub\"),\n",
    "]\n",
    "\n",
    "plants_dict = {\n",
    "    \"Andromeda\": PlantDetails(\"Pieris japonica\", \"Evergreen\", \"Shrub\"),\n",
    "    \"Bellflower\": PlantDetails(\"Campanula\", \"Annual, biennial, perennial\", \"Flower\"),\n",
    "    \"China Pink\": PlantDetails(\"Dianthus\", \"Perennial\", \"Flower\"),\n",
    "    \"Daffodil\": PlantDetails(\"Narcissus\", \"Perennial\", \"Flower\"),\n",
    "    \"Evening Primrose\": PlantDetails(\"Oenothera\", \"Biennial\", \"Flower\"),\n",
    "    \"French Marigold\": PlantDetails(\"Tagetes patula\", \"Annual\", \"Flower\"),\n",
    "    \"Golden Hakone Grass\": PlantDetails(\"Hakonechloa macra\", \"Perennial\", \"Grass\"),\n",
    "    \"Hydrangea\": PlantDetails(\"Hydrangea\", \"Deciduous, evergreen\", \"Shrub\"),\n",
    "    \"Iris\": PlantDetails(\"Iris\", \"Perennial\", \"Flower\"),\n",
    "    \"Japanese Camellia\": PlantDetails(\"Camellia japonica\", \"Evergreen\", \"Shrub\"),\n",
    "    \"Lavender\": PlantDetails(\"Lavendula\", \"Perennial\", \"Shrub\"),\n",
    "    \"Lilac\": PlantDetails(\"Syringa vulgaris\", \"Deciduous\", \"Shrub\"),\n",
    "    \"Magnolia\": PlantDetails(\"Magnolia\", \"Deciduous, evergreen\", \"Shrub\"),\n",
    "    \"Peony\": PlantDetails(\"Paeonia\", \"Perennial\", \"Shrub\"),\n",
    "    \"Queen Anne's Lace\": PlantDetails(\"Daucus carota\", \"Biennial\", \"Flower\"),\n",
    "    \"Red Hot Poker\": PlantDetails(\"Kniphofia\", \"Perennial\", \"Flower\"),\n",
    "    \"Snapdragon\": PlantDetails(\"Antirrhinum majus\", \"Annual\", \"Flower\"),\n",
    "    \"Sunflower\": PlantDetails(\"Helianthus\", \"Annual\", \"Flower\"),\n",
    "    \"Tiger Lily\": PlantDetails(\"Lilinium tigrinium\", \"Perennial\", \"Flower\"),\n",
    "    \"Witch Hazel\": PlantDetails(\"Hamamelis\", \"Deciduous\", \"Shrub\"),\n",
    "}\n"
   ]
  },
  {
   "cell_type": "code",
   "execution_count": 39,
   "metadata": {
    "scrolled": true
   },
   "outputs": [
    {
     "name": "stdout",
     "output_type": "stream",
     "text": [
      "User must edit the list of recipients\n"
     ]
    }
   ],
   "source": [
    "if all([person[1] for person in people]):\n",
    "    print(\"Sending email\")\n",
    "else:\n",
    "    print(\"User must edit the list of recipients\")"
   ]
  },
  {
   "cell_type": "code",
   "execution_count": 40,
   "metadata": {},
   "outputs": [
    {
     "name": "stdout",
     "output_type": "stream",
     "text": [
      "Sending email\n"
     ]
    }
   ],
   "source": [
    "people = []\n",
    "\n",
    "if all([person[1] for person in people]):\n",
    "    print(\"Sending email\")\n",
    "else:\n",
    "    print(\"User must edit the list of recipients\")"
   ]
  },
  {
   "cell_type": "code",
   "execution_count": 41,
   "metadata": {},
   "outputs": [
    {
     "name": "stdout",
     "output_type": "stream",
     "text": [
      "User must edit the list of recipients\n"
     ]
    }
   ],
   "source": [
    "people = []\n",
    "\n",
    "if bool(people) and all([person[1] for person in people]):\n",
    "    print(\"Sending email\")\n",
    "else:\n",
    "    print(\"User must edit the list of recipients\")\n"
   ]
  },
  {
   "cell_type": "code",
   "execution_count": 42,
   "metadata": {},
   "outputs": [
    {
     "name": "stdout",
     "output_type": "stream",
     "text": [
      "User must edit the list of recipients\n",
      "This pack contains grass\n",
      "This dict contains grasses\n",
      "No cactii in the dict\n"
     ]
    }
   ],
   "source": [
    "#from data import people, plants_list, plants_dict\n",
    "\n",
    "# people = []\n",
    "\n",
    "if bool(people) and all([person[1] for person in people]):\n",
    "    print(\"Sending email\")\n",
    "else:\n",
    "    print(\"User must edit the list of recipients\")\n",
    "\n",
    "if any([plant.plant_type == \"Grass\" for plant in plants_list]):\n",
    "    print(\"This pack contains grass\")\n",
    "else:\n",
    "    print(\"No grasses in this pack\")\n",
    "\n",
    "# generator    \n",
    "if any(plant.plant_type == \"Grass\" for plant in plants_dict.values()):\n",
    "    print(\"This dict contains grasses\")\n",
    "else:\n",
    "    print(\"No grasses in the dict\")\n",
    "\n",
    "if any(plants_dict[key].plant_type == \"Cactii\" for key in plants_dict):\n",
    "    print(\"This dict contains cactii\")\n",
    "else:\n",
    "    print(\"No cactii in the dict\")\n"
   ]
  },
  {
   "cell_type": "markdown",
   "metadata": {},
   "source": [
    "<a id='enumerate'></a>\n",
    "## enumerate\n",
    "Enumerate allows you to keep a count as you iterate through an object. It does this by returning a tuple in the form (count,element). The function itself is equivalent to:\n",
    "``` python\n",
    "    def enumerate(sequence, start=0):\n",
    "        n = start\n",
    "        for elem in sequence:\n",
    "            yield n, elem\n",
    "            n += 1\n",
    "```"
   ]
  },
  {
   "cell_type": "code",
   "execution_count": 43,
   "metadata": {},
   "outputs": [
    {
     "name": "stdout",
     "output_type": "stream",
     "text": [
      "0 a\n",
      "1 b\n",
      "2 c\n"
     ]
    }
   ],
   "source": [
    "lst = ['a','b','c']\n",
    "\n",
    "for number,item in enumerate(lst):\n",
    "    print(number, item)\n",
    " #   print(item)"
   ]
  },
  {
   "cell_type": "markdown",
   "metadata": {},
   "source": [
    "`enumerate()` becomes particularly useful when you have a case where you need to have some sort of tracker. For example:"
   ]
  },
  {
   "cell_type": "code",
   "execution_count": 44,
   "metadata": {},
   "outputs": [
    {
     "name": "stdout",
     "output_type": "stream",
     "text": [
      "a\n",
      "b\n"
     ]
    }
   ],
   "source": [
    "for count,item in enumerate(lst):\n",
    "    if count >= 2:\n",
    "        break\n",
    "    else:\n",
    "        print(item)"
   ]
  },
  {
   "cell_type": "markdown",
   "metadata": {},
   "source": [
    "`enumerate()` takes an optional \"start\" argument to override the default value of zero:"
   ]
  },
  {
   "cell_type": "code",
   "execution_count": 45,
   "metadata": {},
   "outputs": [
    {
     "data": {
      "text/plain": [
       "[(3, 'March'), (4, 'April'), (5, 'May'), (6, 'June')]"
      ]
     },
     "execution_count": 45,
     "metadata": {},
     "output_type": "execute_result"
    }
   ],
   "source": [
    "months = ['March','April','May','June']\n",
    "\n",
    "list(enumerate(months,start=3))"
   ]
  },
  {
   "cell_type": "code",
   "execution_count": 46,
   "metadata": {},
   "outputs": [
    {
     "data": {
      "text/plain": [
       "[(0, 'March'), (1, 'April'), (2, 'May'), (3, 'June')]"
      ]
     },
     "execution_count": 46,
     "metadata": {},
     "output_type": "execute_result"
    }
   ],
   "source": [
    "months = ['March','April','May','June']\n",
    "\n",
    "list(enumerate(months))"
   ]
  },
  {
   "cell_type": "markdown",
   "metadata": {},
   "source": [
    "Let's take a look at one more example."
   ]
  },
  {
   "cell_type": "code",
   "execution_count": 47,
   "metadata": {},
   "outputs": [
    {
     "name": "stdout",
     "output_type": "stream",
     "text": [
      "My top 1 friend is Jose\n",
      "My top 2 friend is Rolf\n",
      "My top 3 friend is Anna\n"
     ]
    }
   ],
   "source": [
    "# Let’s say you’ve got some code like this one:\n",
    "\n",
    "top_friends = ['Jose', 'Rolf', 'Anna']\n",
    "\n",
    "print(f'My top 1 friend is {top_friends[0]}')\n",
    "print(f'My top 2 friend is {top_friends[1]}')\n",
    "print(f'My top 3 friend is {top_friends[2]}')"
   ]
  },
  {
   "cell_type": "code",
   "execution_count": 48,
   "metadata": {},
   "outputs": [
    {
     "name": "stdout",
     "output_type": "stream",
     "text": [
      "My top 1 friend is Jose\n",
      "My top 2 friend is Rolf\n",
      "My top 3 friend is Anna\n"
     ]
    }
   ],
   "source": [
    "# Not so good! You could do this instead:\n",
    "top_friends = ['Jose', 'Rolf', 'Anna']\n",
    "i = 0\n",
    "\n",
    "for i in range(3):\n",
    "    print(f'My top {i+1} friend is {top_friends[i]}')"
   ]
  },
  {
   "cell_type": "code",
   "execution_count": 49,
   "metadata": {},
   "outputs": [
    {
     "name": "stdout",
     "output_type": "stream",
     "text": [
      "My top 1 friend is Jose\n",
      "My top 2 friend is Rolf\n",
      "My top 3 friend is Anna\n"
     ]
    }
   ],
   "source": [
    "# Or, using the `enumerate()` function, you could do:\n",
    "\n",
    "top_friends = ['Jose', 'Rolf', 'Anna']\n",
    "\n",
    "for i, friend in enumerate(top_friends):\n",
    "    print(f'My top {i+1} friend is {friend}')"
   ]
  },
  {
   "cell_type": "code",
   "execution_count": 50,
   "metadata": {},
   "outputs": [
    {
     "name": "stdout",
     "output_type": "stream",
     "text": [
      "(0, 'Jose')\n",
      "(1, 'Rolf')\n"
     ]
    }
   ],
   "source": [
    "friend_g = enumerate(top_friends)\n",
    "print(next(friend_g))\n",
    "print(next(friend_g))"
   ]
  },
  {
   "cell_type": "markdown",
   "metadata": {},
   "source": [
    "The `enumerate()` function takes in a list and outputs a generator of `(index, element)` tuples—so that each element of the list is now accompanied by its index in the list.\n",
    "\n",
    "Indeed, we can do this:"
   ]
  },
  {
   "cell_type": "code",
   "execution_count": 51,
   "metadata": {},
   "outputs": [
    {
     "name": "stdout",
     "output_type": "stream",
     "text": [
      "(0, 'Jose')\n"
     ]
    }
   ],
   "source": [
    "e = enumerate(top_friends)\n",
    "\n",
    "first_tuple = next(e)\n",
    "print(first_tuple)  # prints (0, 'Jose')\n",
    "\n",
    "\"\"\"\n",
    "Remember tuple destructuring, which allows us to do this:\n",
    "\"\"\"\n",
    "\n",
    "i, friend = first_tuple  # i is 0, friend is 'Jose'\n"
   ]
  },
  {
   "cell_type": "markdown",
   "metadata": {},
   "source": [
    "enumerate is a very useful function to use with for loops. Let's imagine the following situation:"
   ]
  },
  {
   "cell_type": "code",
   "execution_count": 52,
   "metadata": {},
   "outputs": [
    {
     "name": "stdout",
     "output_type": "stream",
     "text": [
      "At index 0 the letter is a\n",
      "At index 1 the letter is b\n",
      "At index 2 the letter is c\n",
      "At index 3 the letter is d\n",
      "At index 4 the letter is e\n"
     ]
    }
   ],
   "source": [
    "index_count = 0\n",
    "\n",
    "for letter in 'abcde':\n",
    "    print(\"At index {} the letter is {}\".format(index_count,letter))\n",
    "    index_count += 1"
   ]
  },
  {
   "cell_type": "markdown",
   "metadata": {},
   "source": [
    "Keeping track of how many loops you've gone through is so common, that enumerate was created so you don't need to worry about creating and updating this index_count or loop_count variable"
   ]
  },
  {
   "cell_type": "code",
   "execution_count": 53,
   "metadata": {},
   "outputs": [
    {
     "name": "stdout",
     "output_type": "stream",
     "text": [
      "At index 0 the letter is a\n",
      "At index 1 the letter is b\n",
      "At index 2 the letter is c\n",
      "At index 3 the letter is d\n",
      "At index 4 the letter is e\n"
     ]
    }
   ],
   "source": [
    "# Notice the tuple unpacking!\n",
    "\n",
    "for i,letter in enumerate('abcde'):\n",
    "    print(\"At index {} the letter is {}\".format(i,letter))"
   ]
  },
  {
   "cell_type": "markdown",
   "metadata": {},
   "source": [
    "<a id='filter'></a>\n",
    "## filter\n",
    "\n",
    "The function filter(function, list) offers a convenient way to filter out all the elements of an iterable, for which the function returns True. \n",
    "\n",
    "The filter function needs a function as its first argument. The function needs to return a Boolean value (either True or False). This function will be applied to every element of the iterable. Only if the function returns True will the element of the iterable be included in the result.\n",
    "\n",
    "Like map(), filter() returns an *iterator* - that is, filter yields one result at a time as needed. For now, since our examples are so small, we will cast filter() as a list to see our results immediately."
   ]
  },
  {
   "cell_type": "code",
   "execution_count": 54,
   "metadata": {},
   "outputs": [],
   "source": [
    "# First let's make a function\n",
    "def even_check(num):\n",
    "    if num%2 ==0:\n",
    "        return True"
   ]
  },
  {
   "cell_type": "markdown",
   "metadata": {},
   "source": [
    "Now let's filter a list of numbers. Note: putting the function into filter without any parentheses might feel strange, but keep in mind that functions are objects as well."
   ]
  },
  {
   "cell_type": "code",
   "execution_count": 55,
   "metadata": {},
   "outputs": [
    {
     "data": {
      "text/plain": [
       "[0, 2, 4, 6, 8, 10, 12, 14, 16, 18]"
      ]
     },
     "execution_count": 55,
     "metadata": {},
     "output_type": "execute_result"
    }
   ],
   "source": [
    "lst =range(20)\n",
    "\n",
    "list(filter(even_check,lst))"
   ]
  },
  {
   "cell_type": "code",
   "execution_count": 56,
   "metadata": {},
   "outputs": [
    {
     "data": {
      "text/plain": [
       "[0, 2, 4, 6, 8, 10]"
      ]
     },
     "execution_count": 56,
     "metadata": {},
     "output_type": "execute_result"
    }
   ],
   "source": [
    "def check_even(num):\n",
    "    return num % 2 == 0 \n",
    "\n",
    "nums = [0,1,2,3,4,5,6,7,8,9,10]\n",
    "\n",
    "filter(check_even,nums)\n",
    "list(filter(check_even,nums))"
   ]
  },
  {
   "cell_type": "markdown",
   "metadata": {},
   "source": [
    "filter() is more commonly used with lambda functions, because we usually use filter for a quick job where we don't want to write an entire function. Let's repeat the example above using a lambda expression:"
   ]
  },
  {
   "cell_type": "code",
   "execution_count": 57,
   "metadata": {},
   "outputs": [
    {
     "data": {
      "text/plain": [
       "[0, 2, 4, 6, 8, 10, 12, 14, 16, 18]"
      ]
     },
     "execution_count": 57,
     "metadata": {},
     "output_type": "execute_result"
    }
   ],
   "source": [
    "list(filter(lambda x: x%2==0,lst))"
   ]
  },
  {
   "cell_type": "code",
   "execution_count": 58,
   "metadata": {},
   "outputs": [
    {
     "name": "stdout",
     "output_type": "stream",
     "text": [
      "[6, 7, 8, 9]\n"
     ]
    }
   ],
   "source": [
    "r1 = range(10)\n",
    "\n",
    "#filter(lambda a: a > 5, r1)\n",
    "\n",
    "print(list(filter(lambda a: a > 5, r1)))"
   ]
  },
  {
   "cell_type": "markdown",
   "metadata": {},
   "source": [
    "## More Examples"
   ]
  },
  {
   "cell_type": "code",
   "execution_count": 59,
   "metadata": {},
   "outputs": [
    {
     "name": "stdout",
     "output_type": "stream",
     "text": [
      "Rolf\n",
      "Randy\n"
     ]
    }
   ],
   "source": [
    "def starts_with_r(friend):\n",
    "    return friend.startswith('R')\n",
    "\n",
    "friends = ['Rolf', 'Jose', 'Randy', 'Anna', 'Mary']\n",
    "start_with_r = filter(starts_with_r, friends)\n",
    "\n",
    "print(next(start_with_r))\n",
    "print(next(start_with_r))\n",
    "# print(next(start_with_r))"
   ]
  },
  {
   "cell_type": "code",
   "execution_count": 60,
   "metadata": {},
   "outputs": [
    {
     "name": "stdout",
     "output_type": "stream",
     "text": [
      "[]\n"
     ]
    }
   ],
   "source": [
    "# be cautious when this is run - depends on where the iterator is up to.\n",
    "print(list(start_with_r))   "
   ]
  },
  {
   "cell_type": "code",
   "execution_count": 61,
   "metadata": {},
   "outputs": [
    {
     "name": "stdout",
     "output_type": "stream",
     "text": [
      "<filter object at 0x00000241BB597248>\n",
      "['Rolf', 'Randy']\n"
     ]
    }
   ],
   "source": [
    "# filter function\n",
    "\n",
    "friends = ['Rolf', 'Jose', 'Randy', 'Anna', 'Mary']\n",
    "start_with_r = filter(lambda friend: friend.startswith('R'), friends)\n",
    "print(start_with_r)  # generator!\n",
    "\n",
    "print(list(start_with_r))\n",
    "# print(list(start_with_r))  # won't work, the generator has already gone through all its elements"
   ]
  },
  {
   "cell_type": "markdown",
   "metadata": {},
   "source": [
    "The function, which is the first argument, must return `True` or `False`. It must also have one parameter which is the current element of the list we’re working with. The list we’re working with is the second argument to the `filter()` function. The `filter()` function then returns a generator of the elements for which the first argument returns `True`.\n",
    "\n",
    "Basically, using the `filter()` function is identical to this generator expression:"
   ]
  },
  {
   "cell_type": "code",
   "execution_count": 62,
   "metadata": {},
   "outputs": [],
   "source": [
    "# more pythonic - generator comprehension\n",
    "another_starts_with_r =(friend for friend in friends if friend.startswith('R'))\n",
    "\n",
    "\n",
    "# Which is pretty much identical to this function:\n",
    "def my_filter(func, iterable):\n",
    "    for i in iterable:\n",
    "        if func(i):\n",
    "            yield i\n",
    "            \n",
    "start_with_r = my_filter(lambda friend: friend.startswith('R'), friends)"
   ]
  },
  {
   "cell_type": "code",
   "execution_count": 63,
   "metadata": {},
   "outputs": [
    {
     "data": {
      "text/plain": [
       "'Rolf'"
      ]
     },
     "execution_count": 63,
     "metadata": {},
     "output_type": "execute_result"
    }
   ],
   "source": [
    "next(start_with_r)"
   ]
  },
  {
   "cell_type": "code",
   "execution_count": 64,
   "metadata": {
    "scrolled": false
   },
   "outputs": [
    {
     "name": "stdout",
     "output_type": "stream",
     "text": [
      "['egg', 'sausage', 'bacon']\n",
      "['chicken', 'chips']\n",
      "****************************************\n",
      "[['egg', 'sausage', 'bacon'], ['chicken', 'chips']]\n",
      "****************************************\n",
      "[['egg', 'sausage', 'bacon'], ['chicken', 'chips']]\n"
     ]
    }
   ],
   "source": [
    "menu = [\n",
    "    [\"egg\", \"spam\", \"bacon\"],\n",
    "    [\"egg\", \"sausage\", \"bacon\"],\n",
    "    [\"egg\", \"spam\"],\n",
    "    [\"egg\", \"bacon\", \"spam\"],\n",
    "    [\"egg\", \"bacon\", \"sausage\", \"spam\"],\n",
    "    [\"spam\", \"bacon\", \"sausage\", \"spam\"],\n",
    "    [\"spam\", \"egg\", \"spam\", \"spam\", \"bacon\", \"spam\"],\n",
    "    [\"spam\", \"egg\", \"sausage\", \"spam\"],\n",
    "    [\"chicken\", \"chips\"]\n",
    "]\n",
    "\n",
    "for meal in menu:\n",
    "    if \"spam\" not in meal:\n",
    "        print(meal)\n",
    "\n",
    "print(\"*\" * 40)\n",
    "\n",
    "meals = [meal for meal in menu if \"spam\" not in meal]\n",
    "print(meals)\n",
    "\n",
    "print(\"*\" * 40)\n",
    "\n",
    "def not_spam(meal_list: list):\n",
    "    return \"spam\" not in meal_list\n",
    "\n",
    "#for meal in menu:\n",
    "#    print(not_spam(meal))\n",
    "\n",
    "spamless_meals = list(filter(not_spam, menu))\n",
    "print(spamless_meals)"
   ]
  },
  {
   "cell_type": "code",
   "execution_count": 65,
   "metadata": {},
   "outputs": [
    {
     "name": "stdout",
     "output_type": "stream",
     "text": [
      "['egg', 'sausage', 'bacon']\n",
      "['chicken', 'chips']\n",
      "****************************************\n",
      "[['egg', 'sausage', 'bacon'], ['chicken', 'chips']]\n",
      "[['egg', 'sausage', 'bacon'], ['chicken', 'chips']]\n",
      "0.012839600000006612\n",
      "0.01214110000000801\n"
     ]
    }
   ],
   "source": [
    "import timeit\n",
    "menu = [\n",
    "    [\"egg\", \"spam\", \"bacon\"],\n",
    "    [\"egg\", \"sausage\", \"bacon\"],\n",
    "    [\"egg\", \"spam\"],\n",
    "    [\"egg\", \"bacon\", \"spam\"],\n",
    "    [\"egg\", \"bacon\", \"sausage\", \"spam\"],\n",
    "    [\"spam\", \"bacon\", \"sausage\", \"spam\"],\n",
    "    [\"spam\", \"egg\", \"spam\", \"spam\", \"bacon\", \"spam\"],\n",
    "    [\"spam\", \"egg\", \"sausage\", \"spam\"],\n",
    "    [\"chicken\", \"chips\"]\n",
    "]\n",
    "\n",
    "for meal in menu:\n",
    "    if \"spam\" not in meal:\n",
    "        print(meal)\n",
    "\n",
    "print(\"*\" * 40)\n",
    "\n",
    "\n",
    "def spamless_comp():\n",
    "    #meals = [meal for meal in menu if \"spam\" not in meal]  #this one seems to be the quickest\n",
    "    meals = [meal for meal in menu if not_spam(meal)]\n",
    "    return meals\n",
    "\n",
    "\n",
    "def not_spam(meal_list: list):\n",
    "    return \"spam\" not in meal_list\n",
    "\n",
    "\n",
    "def spamless_filter():\n",
    "    spamless_meals = list(filter(not_spam, menu))\n",
    "    return spamless_meals\n",
    "\n",
    "\n",
    "if __name__ == '__main__':\n",
    "    print(spamless_comp())\n",
    "    print(spamless_filter())\n",
    "    print(timeit.timeit(spamless_comp, number=10000))\n",
    "    print(timeit.timeit(spamless_filter, number=10000))\n"
   ]
  },
  {
   "cell_type": "markdown",
   "metadata": {},
   "source": [
    "> Why would you use `filter()`?\n",
    "\n",
    "If you are only working in Python and with Python developers: you wouldn’t.\n",
    "\n",
    "However, few languages have list and generator comprehensions like the expression above. If you are working with developers familiar with constructs like `filter()`, `map()`, and `reduce()`, which are popular in other languages, it could be beneficial to use them instead."
   ]
  },
  {
   "cell_type": "markdown",
   "metadata": {},
   "source": [
    "<a id='map'></a>\n",
    "## map\n",
    "\n",
    "map() is a built-in Python function that takes in two or more arguments: a function and one or more iterables, in the form:\n",
    "\n",
    "    map(function, iterable, ...)\n",
    "    \n",
    "map() returns an *iterator* - that is, map() returns a special object that yields one result at a time as needed. We will learn more about iterators and generators in a future lecture. For now, since our examples are so small, we will cast map() as a list to see the results immediately.\n",
    "         \n",
    "https://www.artima.com/weblogs/viewpost.jsp?thread=98196"
   ]
  },
  {
   "cell_type": "markdown",
   "metadata": {},
   "source": [
    "The **map** function allows you to \"map\" a function to an iterable object. That is to say you can quickly call the same function to every item in an iterable, such as a list. For example:"
   ]
  },
  {
   "cell_type": "code",
   "execution_count": 66,
   "metadata": {},
   "outputs": [
    {
     "data": {
      "text/plain": [
       "<map at 0x241bb570508>"
      ]
     },
     "execution_count": 66,
     "metadata": {},
     "output_type": "execute_result"
    }
   ],
   "source": [
    "def square(num):\n",
    "    return num**2\n",
    "\n",
    "my_nums = [1,2,3,4,5]\n",
    "\n",
    "map(square,my_nums)"
   ]
  },
  {
   "cell_type": "code",
   "execution_count": 67,
   "metadata": {},
   "outputs": [
    {
     "name": "stdout",
     "output_type": "stream",
     "text": [
      "1\n",
      "4\n",
      "9\n",
      "16\n",
      "25\n"
     ]
    },
    {
     "data": {
      "text/plain": [
       "[1, 4, 9, 16, 25]"
      ]
     },
     "execution_count": 67,
     "metadata": {},
     "output_type": "execute_result"
    }
   ],
   "source": [
    "# To get the results, either iterate through map() \n",
    "\n",
    "for num in map(square,my_nums):\n",
    "    print(num)\n",
    "    \n",
    "    \n",
    "# or just cast to a list\n",
    "list(map(square,my_nums))"
   ]
  },
  {
   "cell_type": "markdown",
   "metadata": {},
   "source": [
    "The functions can also be more complex"
   ]
  },
  {
   "cell_type": "code",
   "execution_count": 68,
   "metadata": {},
   "outputs": [
    {
     "data": {
      "text/plain": [
       "['even', 'C', 'S', 'K', 'even']"
      ]
     },
     "execution_count": 68,
     "metadata": {},
     "output_type": "execute_result"
    }
   ],
   "source": [
    "def splicer(mystring):\n",
    "    if len(mystring) % 2 == 0:\n",
    "        return 'even'\n",
    "    else:\n",
    "        return mystring[0]\n",
    "    \n",
    "mynames = ['John','Cindy','Sarah','Kelly','Mike']\n",
    "    \n",
    "list(map(splicer,mynames))"
   ]
  },
  {
   "cell_type": "markdown",
   "metadata": {},
   "source": [
    "When we went over list comprehensions we created a small expression to convert Celsius to Fahrenheit. Let's do the same here but use map:"
   ]
  },
  {
   "cell_type": "code",
   "execution_count": 69,
   "metadata": {},
   "outputs": [],
   "source": [
    "def fahrenheit(celsius):\n",
    "    return (9/5)*celsius + 32\n",
    "    \n",
    "temps = [0, 22.5, 40, 100]"
   ]
  },
  {
   "cell_type": "markdown",
   "metadata": {},
   "source": [
    "Now let's see map() in action:"
   ]
  },
  {
   "cell_type": "code",
   "execution_count": 70,
   "metadata": {},
   "outputs": [
    {
     "data": {
      "text/plain": [
       "[32.0, 72.5, 104.0, 212.0]"
      ]
     },
     "execution_count": 70,
     "metadata": {},
     "output_type": "execute_result"
    }
   ],
   "source": [
    "F_temps = map(fahrenheit, temps)\n",
    "\n",
    "#Show\n",
    "list(F_temps)"
   ]
  },
  {
   "cell_type": "markdown",
   "metadata": {},
   "source": [
    "In the example above, map() applies the fahrenheit function to every item in temps. However, we don't have to define our functions beforehand; we can use a lambda expression instead:"
   ]
  },
  {
   "cell_type": "code",
   "execution_count": 71,
   "metadata": {},
   "outputs": [
    {
     "data": {
      "text/plain": [
       "[32.0, 72.5, 104.0, 212.0]"
      ]
     },
     "execution_count": 71,
     "metadata": {},
     "output_type": "execute_result"
    }
   ],
   "source": [
    "list(map(lambda x: (9/5)*x + 32, temps))"
   ]
  },
  {
   "cell_type": "markdown",
   "metadata": {},
   "source": [
    "Great! We got the same result! Using map with lambda expressions is much more common since the entire purpose of map() is to save effort on having to create manual for loops."
   ]
  },
  {
   "cell_type": "markdown",
   "metadata": {},
   "source": [
    "### map() with multiple iterables\n",
    "map() can accept more than one iterable. The iterables should be the same length - in the event that they are not, map() will stop as soon as the shortest iterable is exhausted.\n",
    "\n",
    "\n",
    "For instance, if our function is trying to add two values **x** and **y**, we can pass a list of **x** values and another list of **y** values to map(). The function (or lambda) will be fed the 0th index from each list, and then the 1st index, and so on until the n-th index is reached.\n",
    "\n",
    "Let's see this in action with two and then three lists:"
   ]
  },
  {
   "cell_type": "code",
   "execution_count": 72,
   "metadata": {},
   "outputs": [
    {
     "data": {
      "text/plain": [
       "[6, 8, 10, 12]"
      ]
     },
     "execution_count": 72,
     "metadata": {},
     "output_type": "execute_result"
    }
   ],
   "source": [
    "a = [1,2,3,4]\n",
    "b = [5,6,7,8]\n",
    "c = [9,10,11,12]\n",
    "\n",
    "list(map(lambda x,y:x+y,a,b))"
   ]
  },
  {
   "cell_type": "code",
   "execution_count": 73,
   "metadata": {},
   "outputs": [
    {
     "data": {
      "text/plain": [
       "[15, 18, 21, 24]"
      ]
     },
     "execution_count": 73,
     "metadata": {},
     "output_type": "execute_result"
    }
   ],
   "source": [
    "# Now all three lists\n",
    "list(map(lambda x,y,z:x+y+z,a,b,c))"
   ]
  },
  {
   "cell_type": "markdown",
   "metadata": {},
   "source": [
    "We can see in the example above that the parameter **x** gets its values from the list **a**, while **y** gets its values from **b** and **z** from list **c**. Go ahead and play with your own example to make sure you fully understand mapping to more than one iterable."
   ]
  },
  {
   "cell_type": "markdown",
   "metadata": {},
   "source": [
    "## More on map"
   ]
  },
  {
   "cell_type": "markdown",
   "metadata": {},
   "source": [
    "The `map()` function is used to take an iterable and output a new iterable where each element has been modified according to some function.\n",
    "\n",
    "For example, this `map()`:"
   ]
  },
  {
   "cell_type": "code",
   "execution_count": 74,
   "metadata": {},
   "outputs": [
    {
     "name": "stdout",
     "output_type": "stream",
     "text": [
      "<map object at 0x00000241BB59D4C8>\n",
      "['rolf', 'charlie', 'anna']\n"
     ]
    }
   ],
   "source": [
    "friends = ['Rolf', 'Charlie', 'Anna']\n",
    "friends_lower = map(lambda x: x.lower(), friends)\n",
    "\n",
    "print(friends_lower)\n",
    "\n",
    "print(list(friends_lower))"
   ]
  },
  {
   "cell_type": "markdown",
   "metadata": {},
   "source": [
    "This of course could be written (arguably better / more pythonically) as a list or generator comprehension:"
   ]
  },
  {
   "cell_type": "code",
   "execution_count": 75,
   "metadata": {},
   "outputs": [],
   "source": [
    "friends_lower = [friend.lower() for friend in friends]\n",
    "\n",
    "friends_lower = (friend.lower() for friend in friends)"
   ]
  },
  {
   "cell_type": "markdown",
   "metadata": {},
   "source": [
    "However there is something to be said for using `map()` and *not* creating the useless `friend` variable that you need to create for list comprehension.\n",
    "\n",
    "I still think list comprehension is more pythonic and more readable.\n",
    "\n",
    "However, if you already have the function you’re going to use defined, `map()` may not be such bad a choice. Here’s an example:"
   ]
  },
  {
   "cell_type": "code",
   "execution_count": 76,
   "metadata": {},
   "outputs": [],
   "source": [
    "class User:\n",
    "    def __init__(self, username, password):\n",
    "        self.username = username\n",
    "        self.password = password\n",
    "\n",
    "    @classmethod\n",
    "    def from_dict(cls, data):\n",
    "        return cls(data['username'], data['password'])\n",
    "\n",
    "\n",
    "# imagine these users are coming from a database...\n",
    "\n",
    "users = [\n",
    "    { 'username': 'rolf', 'password': '123' },\n",
    "    { 'username': 'tecladoisawesome', 'password': 'youaretoo' }\n",
    "]\n",
    "\n",
    "# this appears more readible than the list comprehension.\n",
    "user_objects = map(User.from_dict, users)\n",
    "\n",
    "\"\"\"\n",
    "The option of using a list comprehension is slightly uglier, I feel:\n",
    "\"\"\"\n",
    "\n",
    "user_objects = [User.from_dict(user) for user in users]\n",
    "\n",
    "\n",
    "# Although of course, using dictionary unpacking everything would be made much simpler."
   ]
  },
  {
   "cell_type": "markdown",
   "metadata": {},
   "source": [
    "## More Examples with map"
   ]
  },
  {
   "cell_type": "code",
   "execution_count": 77,
   "metadata": {},
   "outputs": [
    {
     "name": "stdout",
     "output_type": "stream",
     "text": [
      "<map object at 0x00000241BB5AB188>\n",
      "[0, 10, 20, 30, 40, 50, 60, 70, 80, 90]\n"
     ]
    }
   ],
   "source": [
    "def product10(a):\n",
    "    return a * 10\n",
    "\n",
    "r1 = range(10)\n",
    "\n",
    "print(map(product10, r1))   # this is an iterable object now\n",
    "print(list(map(product10, r1)))"
   ]
  },
  {
   "cell_type": "code",
   "execution_count": 78,
   "metadata": {},
   "outputs": [
    {
     "data": {
      "text/plain": [
       "[0, 10, 20, 30, 40, 50, 60, 70, 80, 90]"
      ]
     },
     "execution_count": 78,
     "metadata": {},
     "output_type": "execute_result"
    }
   ],
   "source": [
    "# using lambda function\n",
    "\n",
    "# list(map((lambda a: a * 10), r1))\n",
    "list(map(lambda a: a * 10, r1))"
   ]
  },
  {
   "cell_type": "code",
   "execution_count": 79,
   "metadata": {},
   "outputs": [
    {
     "name": "stdout",
     "output_type": "stream",
     "text": [
      "['W', 'H', 'A', 'T', ' ', 'H', 'A', 'V', 'E', ' ', 'T', 'H', 'E', ' ', 'R', 'O', 'M', 'A', 'N', 'S', ' ', 'E', 'V', 'E', 'R', ' ', 'D', 'O', 'N', 'E', ' ', 'F', 'O', 'R', ' ', 'U', 'S']\n",
      "['WHAT', 'HAVE', 'THE', 'ROMANS', 'EVER', 'DONE', 'FOR', 'US']\n",
      "WHAT HAVE THE ROMANS EVER DONE FOR US\n",
      "WHAT HAVE THE ROMANS EVER DONE FOR US\n"
     ]
    }
   ],
   "source": [
    "#recall from a previous example:\n",
    "\n",
    "text = \"what have the romans ever done for us\"\n",
    "\n",
    "capitals = [char.upper() for char in text]\n",
    "print(capitals)\n",
    "\n",
    "words = [word.upper() for word in text.split(' ')]\n",
    "print(words)\n",
    "print(\" \".join(words))\n",
    "print(text.upper())"
   ]
  },
  {
   "cell_type": "code",
   "execution_count": 80,
   "metadata": {},
   "outputs": [
    {
     "name": "stdout",
     "output_type": "stream",
     "text": [
      "['W', 'H', 'A', 'T', ' ', 'H', 'A', 'V', 'E', ' ', 'T', 'H', 'E', ' ', 'R', 'O', 'M', 'A', 'N', 'S', ' ', 'E', 'V', 'E', 'R', ' ', 'D', 'O', 'N', 'E', ' ', 'F', 'O', 'R', ' ', 'U', 'S']\n",
      "['W', 'H', 'A', 'T', ' ', 'H', 'A', 'V', 'E', ' ', 'T', 'H', 'E', ' ', 'R', 'O', 'M', 'A', 'N', 'S', ' ', 'E', 'V', 'E', 'R', ' ', 'D', 'O', 'N', 'E', ' ', 'F', 'O', 'R', ' ', 'U', 'S']\n",
      "['WHAT', 'HAVE', 'THE', 'ROMANS', 'EVER', 'DONE', 'FOR', 'US']\n",
      "['WHAT', 'HAVE', 'THE', 'ROMANS', 'EVER', 'DONE', 'FOR', 'US']\n",
      "WHAT\n",
      "HAVE\n",
      "THE\n",
      "ROMANS\n",
      "EVER\n",
      "DONE\n",
      "FOR\n",
      "US\n"
     ]
    }
   ],
   "source": [
    "text = \"what have the romans ever done for us\"\n",
    "\n",
    "def comp_caps():\n",
    "    capitals = [char.upper() for char in text]\n",
    "    return capitals\n",
    "\n",
    "# use map\n",
    "def map_caps():\n",
    "    #when passing a function itself (and not its results) as an arguement, we dont need the () (eg str.upper)\n",
    "    map_capitals = list(map(str.upper, text))\n",
    "    return map_capitals\n",
    "\n",
    "\n",
    "def comp_words():\n",
    "    words = [word.upper() for word in text.split(' ')]\n",
    "    return words\n",
    "\n",
    "\n",
    "# use map\n",
    "def map_words():\n",
    "    map_w = list(map(str.upper, text.split(' ')))\n",
    "    return map_w\n",
    "\n",
    "\n",
    "if __name__ == '__main__':\n",
    "    print(comp_caps())\n",
    "    print(map_caps())\n",
    "    print(comp_words())\n",
    "    print(map_words())\n",
    "\n",
    "for x in map(str.upper, text.split(' ')):\n",
    "    print(x)"
   ]
  },
  {
   "cell_type": "code",
   "execution_count": 81,
   "metadata": {},
   "outputs": [
    {
     "name": "stdout",
     "output_type": "stream",
     "text": [
      "['W', 'H', 'A', 'T', ' ', 'H', 'A', 'V', 'E', ' ', 'T', 'H', 'E', ' ', 'R', 'O', 'M', 'A', 'N', 'S', ' ', 'E', 'V', 'E', 'R', ' ', 'D', 'O', 'N', 'E', ' ', 'F', 'O', 'R', ' ', 'U', 'S']\n",
      "['W', 'H', 'A', 'T', ' ', 'H', 'A', 'V', 'E', ' ', 'T', 'H', 'E', ' ', 'R', 'O', 'M', 'A', 'N', 'S', ' ', 'E', 'V', 'E', 'R', ' ', 'D', 'O', 'N', 'E', ' ', 'F', 'O', 'R', ' ', 'U', 'S']\n",
      "['WHAT', 'HAVE', 'THE', 'ROMANS', 'EVER', 'DONE', 'FOR', 'US']\n",
      "['WHAT', 'HAVE', 'THE', 'ROMANS', 'EVER', 'DONE', 'FOR', 'US']\n",
      "test1:\t4.770000001030894e-05\n",
      "test2:\t4.7499999993760866e-05\n",
      "test3:\t5.000000000165983e-05\n",
      "test4:\t4.7399999999697684e-05\n"
     ]
    }
   ],
   "source": [
    "# Wrap each of the 4 blocks of code in function definitions, then use the timeit module to time each one.\n",
    "\n",
    "import timeit\n",
    "\n",
    "text = \"what have the romans ever done for us\"\n",
    "\n",
    "test1 = \"\"\"\\\n",
    "def comp_caps():\n",
    "    capitals = [char.upper() for char in text]\n",
    "    return capitals\n",
    "\"\"\"\n",
    "\n",
    "test2 = \"\"\"\\\n",
    "def map_caps():\n",
    "    map_capitals = list(map(str.upper, text))\n",
    "    return map_capitals\n",
    "\"\"\"\n",
    "\n",
    "test3 = \"\"\"\\\n",
    "def comp_words():\n",
    "    words = [word.upper() for word in text.split(' ')]\n",
    "    return words\n",
    "\"\"\"\n",
    "\n",
    "test4 = \"\"\"\\\n",
    "def map_words():\n",
    "    map_w = list(map(str.upper, text.split(' ')))\n",
    "    return map_w\n",
    "\"\"\"\n",
    "\n",
    "if __name__ == '__main__':\n",
    "    print(comp_caps())\n",
    "    print(map_caps())\n",
    "    print(comp_words())\n",
    "    print(map_words())\n",
    "\n",
    "    \n",
    "result1 = timeit.timeit(test1, number=1000)\n",
    "result2 = timeit.timeit(test2, number=1000)\n",
    "result3 = timeit.timeit(test3, number=1000)\n",
    "result4 = timeit.timeit(test4, number=1000)\n",
    "\n",
    "print(\"test1:\\t{}\".format(result1))\n",
    "print(\"test2:\\t{}\".format(result2))\n",
    "print(\"test3:\\t{}\".format(result3))\n",
    "print(\"test4:\\t{}\".format(result4))\n",
    "\n",
    "# print(timeit.timeit(\"comp_caps()\", setup=\"from map_intro import comp_caps\", number=100000))\n"
   ]
  },
  {
   "cell_type": "code",
   "execution_count": 82,
   "metadata": {},
   "outputs": [
    {
     "name": "stdout",
     "output_type": "stream",
     "text": [
      "['W', 'H', 'A', 'T', ' ', 'H', 'A', 'V', 'E', ' ', 'T', 'H', 'E', ' ', 'R', 'O', 'M', 'A', 'N', 'S', ' ', 'E', 'V', 'E', 'R', ' ', 'D', 'O', 'N', 'E', ' ', 'F', 'O', 'R', ' ', 'U', 'S']\n",
      "['W', 'H', 'A', 'T', ' ', 'H', 'A', 'V', 'E', ' ', 'T', 'H', 'E', ' ', 'R', 'O', 'M', 'A', 'N', 'S', ' ', 'E', 'V', 'E', 'R', ' ', 'D', 'O', 'N', 'E', ' ', 'F', 'O', 'R', ' ', 'U', 'S']\n",
      "['WHAT', 'HAVE', 'THE', 'ROMANS', 'EVER', 'DONE', 'FOR', 'US']\n",
      "['WHAT', 'HAVE', 'THE', 'ROMANS', 'EVER', 'DONE', 'FOR', 'US']\n",
      "test1:\t0.03315659999999809\n",
      "test2:\t0.03194470000001104\n",
      "test3:\t0.010957000000004768\n",
      "test4:\t0.01221089999999947\n"
     ]
    }
   ],
   "source": [
    "#Alternatively, and easier:\n",
    "\n",
    "text = \"what have the romans ever done for us\"\n",
    "\n",
    "def comp_caps():\n",
    "    capitals = [char.upper() for char in text]\n",
    "    return capitals\n",
    "\n",
    "# use map\n",
    "def map_caps():\n",
    "    # when passing a function itself (and not its results) as an arguement, we dont need the () (eg str.upper)\n",
    "    map_capitals = list(map(str.upper, text))\n",
    "    return map_capitals\n",
    "\n",
    "\n",
    "def comp_words():\n",
    "    words = [word.upper() for word in text.split(' ')]\n",
    "    return words\n",
    "\n",
    "\n",
    "# use map\n",
    "def map_words():\n",
    "    map_w = list(map(str.upper, text.split(' ')))\n",
    "    return map_w\n",
    "\n",
    "\n",
    "if __name__ == '__main__':\n",
    "    print(comp_caps())\n",
    "    print(map_caps())\n",
    "    print(comp_words())\n",
    "    print(map_words())\n",
    "\n",
    "print(\"test1:\\t{}\".format(timeit.timeit(comp_caps, number=10000)))\n",
    "print(\"test2:\\t{}\".format(timeit.timeit(map_caps, number=10000)))\n",
    "print(\"test3:\\t{}\".format(timeit.timeit(comp_words, number=10000)))\n",
    "print(\"test4:\\t{}\".format(timeit.timeit(map_words, number=10000)))"
   ]
  },
  {
   "cell_type": "markdown",
   "metadata": {},
   "source": [
    "<a id='reduce'></a>\n",
    "## reduce\n",
    "Reduce no longer exists so it must be imported via functools.\n",
    "\n",
    "https://www.artima.com/weblogs/viewpost.jsp?thread=98196"
   ]
  },
  {
   "cell_type": "code",
   "execution_count": 83,
   "metadata": {},
   "outputs": [],
   "source": [
    "from functools import reduce"
   ]
  },
  {
   "cell_type": "code",
   "execution_count": 84,
   "metadata": {},
   "outputs": [
    {
     "name": "stdout",
     "output_type": "stream",
     "text": [
      "31\n",
      "31\n",
      "**********\n",
      "31\n"
     ]
    }
   ],
   "source": [
    "import timeit\n",
    "import functools\n",
    "\n",
    "def calc_values(x, y: int):\n",
    "    return x + y\n",
    "\n",
    "numbers = [2, 3, 5, 8, 13]\n",
    "\n",
    "reduced_value = functools.reduce(calc_values, numbers)\n",
    "print(reduced_value)\n",
    "print(sum(numbers))\n",
    "\n",
    "print('*' * 10)\n",
    "\n",
    "#this is what is happening above\n",
    "result = calc_values(2, 3)\n",
    "result = calc_values(result, 5)\n",
    "result = calc_values(result, 8)\n",
    "result = calc_values(result, 13)\n",
    "print(result)"
   ]
  },
  {
   "cell_type": "code",
   "execution_count": 85,
   "metadata": {},
   "outputs": [
    {
     "name": "stdout",
     "output_type": "stream",
     "text": [
      "3120\n",
      "**********\n",
      "3120\n",
      "**********\n",
      "3120\n"
     ]
    }
   ],
   "source": [
    "import timeit\n",
    "import functools\n",
    "\n",
    "def calc_values(x, y: int):\n",
    "    return x * y\n",
    "\n",
    "numbers = [2, 3, 5, 8, 13]\n",
    "\n",
    "reduced_value = functools.reduce(calc_values, numbers)\n",
    "print(reduced_value)\n",
    "\n",
    "print('*' * 10)\n",
    "\n",
    "#this is what is happening above\n",
    "result = calc_values(2, 3)\n",
    "result = calc_values(result, 5)\n",
    "result = calc_values(result, 8)\n",
    "result = calc_values(result, 13)\n",
    "print(result)\n",
    "\n",
    "print('*' * 10)\n",
    "\n",
    "result = 1\n",
    "for x in numbers:\n",
    "    result *= x\n",
    "print(result)"
   ]
  },
  {
   "cell_type": "markdown",
   "metadata": {},
   "source": [
    "<a id='zip'></a>\n",
    "## zip\n",
    "\n",
    "zip() makes an iterator that aggregates elements from each of the iterables.\n",
    "\n",
    "Returns an iterator of tuples, where the i-th tuple contains the i-th element from each of the argument sequences or iterables. The iterator stops when the shortest input iterable is exhausted. With a single iterable argument, it returns an iterator of 1-tuples. With no arguments, it returns an empty iterator. \n",
    "\n",
    "zip() is equivalent to:\n",
    "\n",
    "    def zip(*iterables):\n",
    "        # zip('ABCD', 'xy') --> Ax By\n",
    "        sentinel = object()\n",
    "        iterators = [iter(it) for it in iterables]\n",
    "        while iterators:\n",
    "            result = []\n",
    "            for it in iterators:\n",
    "                elem = next(it, sentinel)\n",
    "                if elem is sentinel:\n",
    "                    return\n",
    "                result.append(elem)\n",
    "            yield tuple(result)\n",
    "        \n",
    "\n",
    "zip() should only be used with unequal length inputs when you don’t care about trailing, unmatched values from the longer iterables. "
   ]
  },
  {
   "cell_type": "markdown",
   "metadata": {},
   "source": [
    "Notice the format enumerate actually returns, let's take a look by transforming it to a list()"
   ]
  },
  {
   "cell_type": "code",
   "execution_count": 86,
   "metadata": {},
   "outputs": [
    {
     "data": {
      "text/plain": [
       "[(0, 'a'), (1, 'b'), (2, 'c'), (3, 'd'), (4, 'e')]"
      ]
     },
     "execution_count": 86,
     "metadata": {},
     "output_type": "execute_result"
    }
   ],
   "source": [
    "list(enumerate('abcde'))"
   ]
  },
  {
   "cell_type": "markdown",
   "metadata": {},
   "source": [
    "It was a list of tuples, meaning we could use tuple unpacking during our for loop. This data structure is actually very common in Python , especially when working with outside libraries. You can use the **zip()** function to quickly create a list of tuples by \"zipping\" up together two lists."
   ]
  },
  {
   "cell_type": "code",
   "execution_count": 87,
   "metadata": {},
   "outputs": [],
   "source": [
    "mylist1 = [1,2,3,4,5]            # note this is an (iterable) list\n",
    "mylist2 = ('a','b','c','d','e')  # note this is an (iterable) tuple"
   ]
  },
  {
   "cell_type": "code",
   "execution_count": 88,
   "metadata": {},
   "outputs": [
    {
     "data": {
      "text/plain": [
       "<zip at 0x241bb5ab208>"
      ]
     },
     "execution_count": 88,
     "metadata": {},
     "output_type": "execute_result"
    }
   ],
   "source": [
    "# This one is also a generator! We will explain this later, but for now let's transform it to a list\n",
    "zip(mylist1,mylist2)"
   ]
  },
  {
   "cell_type": "code",
   "execution_count": 89,
   "metadata": {},
   "outputs": [
    {
     "data": {
      "text/plain": [
       "[(1, 'a'), (2, 'b'), (3, 'c'), (4, 'd'), (5, 'e')]"
      ]
     },
     "execution_count": 89,
     "metadata": {},
     "output_type": "execute_result"
    }
   ],
   "source": [
    "list(zip(mylist1,mylist2))"
   ]
  },
  {
   "cell_type": "markdown",
   "metadata": {},
   "source": [
    "To use the generator, we could just use a for loop"
   ]
  },
  {
   "cell_type": "code",
   "execution_count": 90,
   "metadata": {},
   "outputs": [
    {
     "name": "stdout",
     "output_type": "stream",
     "text": [
      "For this tuple, first item was 1 and second item was a\n",
      "For this tuple, first item was 2 and second item was b\n",
      "For this tuple, first item was 3 and second item was c\n",
      "For this tuple, first item was 4 and second item was d\n",
      "For this tuple, first item was 5 and second item was e\n"
     ]
    }
   ],
   "source": [
    "for item1, item2 in zip(mylist1,mylist2):\n",
    "    print('For this tuple, first item was {} and second item was {}'.format(item1,item2))"
   ]
  },
  {
   "cell_type": "code",
   "execution_count": 91,
   "metadata": {},
   "outputs": [
    {
     "name": "stdout",
     "output_type": "stream",
     "text": [
      "{'Rolf': 3, 'Bob': 7, 'Jen': 15, 'Anne': 11}\n"
     ]
    }
   ],
   "source": [
    "# example used for list comprehensions section\n",
    "\"\"\"\n",
    "friends = [\"Rolf\", \"Bob\", \"Jen\", \"Anne\"]\n",
    "time_since_seen = [3, 7, 15, 11]\n",
    "\n",
    "long_timers = {\n",
    "    friends[i]: time_since_seen[i]\n",
    "    for i in range(len(friends))\n",
    "    if time_since_seen[i] > 5\n",
    "}\n",
    "\n",
    "print(long_timers)\n",
    "\"\"\"\n",
    "\n",
    "# While that is extremely useful when we have conditionals, sometimes we\n",
    "# just want to create a dictionary out of two lists or tuples.\n",
    "# That's when `zip` comes in handy!\n",
    "\n",
    "friends = [\"Rolf\", \"Bob\", \"Jen\", \"Anne\"]\n",
    "time_since_seen = [3, 7, 15, 11]\n",
    "\n",
    "# Remember how we can turn a list of lists or tuples into a dictionary?\n",
    "# `zip(friends, time_since_seen)` returns something like [(\"Rolf\", 3), (\"Bob\", 7)...]\n",
    "# We then use `dict()` on that to get a dictionary.\n",
    "\n",
    "friends_last_seen = dict(zip(friends, time_since_seen))\n",
    "print(friends_last_seen)"
   ]
  },
  {
   "cell_type": "markdown",
   "metadata": {},
   "source": [
    "`zip` is a function allows us to combine two or more iterables into a single iterable object. As the name would suggest, it interlaces values from the different iterables, creating a collection of tuples.\n",
    "\n",
    "For example, the lists [1, 2, 3] and [\"a\", \"b\", \"c\"] would yield a zip object containing (1, \"a\"), (2, \"b\"), and (3, \"c\").\n",
    "\n",
    "When working with two separate collections in a loop, often tend to do something like this:"
   ]
  },
  {
   "cell_type": "code",
   "execution_count": 92,
   "metadata": {},
   "outputs": [
    {
     "name": "stdout",
     "output_type": "stream",
     "text": [
      "John is 26 years old.\n",
      "Anne is 31 years old.\n",
      "Peter is 29 years old.\n"
     ]
    }
   ],
   "source": [
    "names = [\"John\", \"Anne\", \"Peter\"]\n",
    "ages = [26, 31, 29]\n",
    "\n",
    "for i in range(len(names)):\n",
    "    print(f\"{names[i]} is {ages[i]} years old.\")"
   ]
  },
  {
   "cell_type": "markdown",
   "metadata": {},
   "source": [
    "By generating a collection of indices, we can use the stable ordering of lists to access the right value from each collection. We could use this technique for combining as many collections as we liked.\n",
    "\n",
    "This kind of situation, however, is a prime candidate for zip. Using zip, we can combine the names and ages into a shiny new zip object. We can then iterate over the zip object, and we can also make use of some destructuring, allowing us to use nice descriptive names for our loop variables."
   ]
  },
  {
   "cell_type": "code",
   "execution_count": 93,
   "metadata": {
    "scrolled": false
   },
   "outputs": [
    {
     "name": "stdout",
     "output_type": "stream",
     "text": [
      "john is 40 years old.\n",
      "john is 30 years old.\n",
      "john is 20 years old.\n",
      "john is 10 years old.\n",
      "michael is 40 years old.\n",
      "michael is 30 years old.\n",
      "michael is 20 years old.\n",
      "michael is 10 years old.\n",
      "aidan is 40 years old.\n",
      "aidan is 30 years old.\n",
      "aidan is 20 years old.\n",
      "aidan is 10 years old.\n",
      "benji is 40 years old.\n",
      "benji is 30 years old.\n",
      "benji is 20 years old.\n",
      "benji is 10 years old.\n"
     ]
    }
   ],
   "source": [
    "names = ['john','michael','aidan','benji']\n",
    "ages = [40,30,20,10]\n",
    "\n",
    "for name in names:\n",
    "    for age in ages:\n",
    "        print('%s is %d years old.' % (name,age))"
   ]
  },
  {
   "cell_type": "code",
   "execution_count": 94,
   "metadata": {},
   "outputs": [
    {
     "name": "stdout",
     "output_type": "stream",
     "text": [
      "john is 40 years old.\n",
      "michael is 30 years old.\n",
      "aidan is 20 years old.\n",
      "benji is 10 years old.\n"
     ]
    }
   ],
   "source": [
    "names = ['john','michael','aidan','benji']\n",
    "ages = [40,30,20,10]\n",
    "\n",
    "for name, age in zip(names, ages):\n",
    "    print(f'{name} is {age} years old.')"
   ]
  },
  {
   "cell_type": "code",
   "execution_count": 95,
   "metadata": {
    "scrolled": false
   },
   "outputs": [
    {
     "name": "stdout",
     "output_type": "stream",
     "text": [
      "(1, 4)\n",
      "(2, 5)\n",
      "(3, 6)\n"
     ]
    }
   ],
   "source": [
    "x = [1,2,3]\n",
    "y = [4,5,6]\n",
    "\n",
    "for i,j in zip(x,y):\n",
    "    print((i,j))"
   ]
  },
  {
   "cell_type": "markdown",
   "metadata": {},
   "source": [
    "#### Using zip in reverse\n",
    "As if that wasn't enough, zip can actually do even more. It really does just keep on giving.\n",
    "\n",
    "Using the * operator, we can break up a zip object, or really any collection of collections. For example, we might have something like this:"
   ]
  },
  {
   "cell_type": "code",
   "execution_count": 96,
   "metadata": {},
   "outputs": [],
   "source": [
    "zipped = [(\"John\", 26), (\"Anne\", 31), (\"Peter\", 29)]"
   ]
  },
  {
   "cell_type": "markdown",
   "metadata": {},
   "source": [
    "We can use the * operator in conjunction with zip to split this back into names and ages:"
   ]
  },
  {
   "cell_type": "code",
   "execution_count": 97,
   "metadata": {},
   "outputs": [
    {
     "name": "stdout",
     "output_type": "stream",
     "text": [
      "('John', 'Anne', 'Peter')\n",
      "(26, 31, 29)\n"
     ]
    }
   ],
   "source": [
    "zipped = [(\"John\", 26), (\"Anne\", 31), (\"Peter\", 29)]\n",
    "names, ages = zip(*zipped)\n",
    "\n",
    "print(names)  \n",
    "print(ages) "
   ]
  },
  {
   "cell_type": "code",
   "execution_count": 98,
   "metadata": {},
   "outputs": [
    {
     "name": "stdout",
     "output_type": "stream",
     "text": [
      "[(1, 1), (2, 2), (3, '_')]\n"
     ]
    }
   ],
   "source": [
    "from itertools import zip_longest\n",
    "\n",
    "l_1 = [1, 2, 3]\n",
    "l_2 = [1, 2]\n",
    "\n",
    "combinated = list(zip_longest(l_1, l_2, fillvalue=\"_\"))\n",
    "\n",
    "print(combinated)"
   ]
  },
  {
   "cell_type": "code",
   "execution_count": 99,
   "metadata": {},
   "outputs": [
    {
     "name": "stdout",
     "output_type": "stream",
     "text": [
      "['JOSE', 'ROLF', 'RUTH', 'CHARLIE', 'MICHAEL']\n"
     ]
    }
   ],
   "source": [
    "guests = ['Jose', 'Rolf', 'ruth', 'Charlie', 'michael']\n",
    "\n",
    "names_uppercase = [name.upper() for name in guests]\n",
    "\n",
    "print(names_uppercase)"
   ]
  },
  {
   "cell_type": "code",
   "execution_count": 100,
   "metadata": {},
   "outputs": [
    {
     "name": "stdout",
     "output_type": "stream",
     "text": [
      "{'Rolf': 25, 'adam': 28, 'jen': 24}\n"
     ]
    }
   ],
   "source": [
    "guests = [('Rolf',25), ('adam',28), ('jen',24)]\n",
    "\n",
    "dict_guests = dict(guests)\n",
    "\n",
    "print(dict_guests)"
   ]
  },
  {
   "cell_type": "code",
   "execution_count": 101,
   "metadata": {},
   "outputs": [],
   "source": [
    "import random\n",
    "\n",
    "lottery_numbers = set(random.sample(range(22),6))\n",
    "\n",
    "players = [\n",
    "    {'name':'Rolf', 'numbers':{1,3,5,7,9,11}},\n",
    "    {'name':'Charlie', 'numbers':{2,7,9,22,10,5}},\n",
    "    {'name':'Anna', 'numbers':{13,14,15,16,17,18}},\n",
    "    {'name':'Jen', 'numbers':{19,20,12,7,3,5}}\n",
    "]\n"
   ]
  },
  {
   "cell_type": "code",
   "execution_count": 102,
   "metadata": {
    "scrolled": true
   },
   "outputs": [
    {
     "name": "stdout",
     "output_type": "stream",
     "text": [
      "{1, 2, 3, 9, 13, 15}\n",
      "Rolf won 1000000.\n"
     ]
    }
   ],
   "source": [
    "top_player = players[0]\n",
    "\n",
    "for player in players:\n",
    "    matched_numbers = len(player['numbers'].intersection(lottery_numbers))\n",
    "    if matched_numbers > len(top_player['numbers'].intersection(lottery_numbers)):\n",
    "        top_player = player\n",
    "        \n",
    "winnings = 100 ** len(top_player['numbers'].intersection(lottery_numbers))\n",
    "\n",
    "print(lottery_numbers)\n",
    "print('{} won {}.'.format(top_player['name'],winnings))"
   ]
  },
  {
   "cell_type": "markdown",
   "metadata": {},
   "source": [
    "## More Examples with zip"
   ]
  },
  {
   "cell_type": "code",
   "execution_count": 103,
   "metadata": {},
   "outputs": [
    {
     "data": {
      "text/plain": [
       "[(1, 4), (2, 5), (3, 6)]"
      ]
     },
     "execution_count": 103,
     "metadata": {},
     "output_type": "execute_result"
    }
   ],
   "source": [
    "x = [1,2,3]\n",
    "y = [4,5,6]\n",
    "\n",
    "# Zip the lists together\n",
    "list(zip(x,y))"
   ]
  },
  {
   "cell_type": "markdown",
   "metadata": {},
   "source": [
    "Note how tuples are returned. What if one iterable is longer than the other?"
   ]
  },
  {
   "cell_type": "code",
   "execution_count": 104,
   "metadata": {},
   "outputs": [
    {
     "data": {
      "text/plain": [
       "[(1, 4), (2, 5), (3, 6)]"
      ]
     },
     "execution_count": 104,
     "metadata": {},
     "output_type": "execute_result"
    }
   ],
   "source": [
    "x = [1,2,3]\n",
    "y = [4,5,6,7,8]\n",
    "\n",
    "# Zip the lists together\n",
    "list(zip(x,y))"
   ]
  },
  {
   "cell_type": "markdown",
   "metadata": {},
   "source": [
    "Note how the zip is defined by the shortest iterable length. Its generally advised not to zip unequal length iterables unless your very sure you only need partial tuple pairings.\n",
    "\n",
    "What happens if we try to zip together dictionaries?"
   ]
  },
  {
   "cell_type": "code",
   "execution_count": 105,
   "metadata": {},
   "outputs": [
    {
     "data": {
      "text/plain": [
       "[('a', 'c'), ('b', 'd')]"
      ]
     },
     "execution_count": 105,
     "metadata": {},
     "output_type": "execute_result"
    }
   ],
   "source": [
    "d1 = {'a':1,'b':2}\n",
    "d2 = {'c':4,'d':5}\n",
    "\n",
    "list(zip(d1,d2))"
   ]
  },
  {
   "cell_type": "markdown",
   "metadata": {},
   "source": [
    "This makes sense because simply iterating through the dictionaries will result in just the keys. We would have to call methods to mix keys and values:"
   ]
  },
  {
   "cell_type": "code",
   "execution_count": 106,
   "metadata": {},
   "outputs": [
    {
     "data": {
      "text/plain": [
       "[('c', 1), ('d', 2)]"
      ]
     },
     "execution_count": 106,
     "metadata": {},
     "output_type": "execute_result"
    }
   ],
   "source": [
    "list(zip(d2,d1.values()))   #note how d2 is by itself while d1.values()"
   ]
  },
  {
   "cell_type": "markdown",
   "metadata": {},
   "source": [
    "Finally lets use zip() to switch the keys and values of the two dictionaries:"
   ]
  },
  {
   "cell_type": "code",
   "execution_count": 107,
   "metadata": {},
   "outputs": [],
   "source": [
    "def switcharoo(d1,d2):\n",
    "    dout = {}\n",
    "    \n",
    "    for d1key,d2val in zip(d1,d2.values()):\n",
    "        dout[d1key] = d2val\n",
    "    \n",
    "    return dout"
   ]
  },
  {
   "cell_type": "code",
   "execution_count": 108,
   "metadata": {},
   "outputs": [
    {
     "data": {
      "text/plain": [
       "{'a': 4, 'b': 5}"
      ]
     },
     "execution_count": 108,
     "metadata": {},
     "output_type": "execute_result"
    }
   ],
   "source": [
    "switcharoo(d1,d2)"
   ]
  },
  {
   "cell_type": "code",
   "execution_count": 109,
   "metadata": {},
   "outputs": [
    {
     "name": "stdout",
     "output_type": "stream",
     "text": [
      "['Sisi', 'Bibi', 'Titi', 'Carla']\n"
     ]
    }
   ],
   "source": [
    "# 1 Capitalize all of the pet names and print the list\n",
    "my_pets = ['sisi', 'bibi', 'titi', 'carla']\n",
    "\n",
    "def capitalize(name):\n",
    "    return name.capitalize()\n",
    "\n",
    "print(list(map(capitalize,my_pets)))"
   ]
  },
  {
   "cell_type": "code",
   "execution_count": 110,
   "metadata": {},
   "outputs": [
    {
     "name": "stdout",
     "output_type": "stream",
     "text": [
      "[('a', 1), ('b', 2), ('c', 3), ('d', 4), ('e', 5)]\n"
     ]
    }
   ],
   "source": [
    "#2 Zip the 2 lists into a list of tuples, but sort the numbers from lowest to highest.\n",
    "my_strings = ['a', 'b', 'c', 'd', 'e']\n",
    "my_numbers = [5,4,3,2,1]\n",
    "\n",
    "print(list(zip(my_strings,sorted(my_numbers))))"
   ]
  },
  {
   "cell_type": "code",
   "execution_count": 111,
   "metadata": {},
   "outputs": [
    {
     "name": "stdout",
     "output_type": "stream",
     "text": [
      "[73, 65, 76, 100, 88]\n"
     ]
    }
   ],
   "source": [
    "#3 Filter the scores that pass over 50%\n",
    "scores = [73, 20, 65, 19, 76, 100, 88]\n",
    "\n",
    "def above_80(score):\n",
    "    return score > 50\n",
    "\n",
    "print(list(filter(above_80, scores)))"
   ]
  },
  {
   "cell_type": "code",
   "execution_count": 112,
   "metadata": {},
   "outputs": [
    {
     "name": "stdout",
     "output_type": "stream",
     "text": [
      "456\n"
     ]
    }
   ],
   "source": [
    "from functools import reduce\n",
    "\n",
    "#4 Combine all of the numbers that are in a list on this file using reduce (my_numbers and scores).\n",
    "# What is the total?\n",
    "\n",
    "my_numbers = [5,4,3,2,1]\n",
    "scores = [73, 20, 65, 19, 76, 100, 88]\n",
    "\n",
    "def adder(x,y):\n",
    "    return x+y\n",
    "\n",
    "print(reduce(adder,scores+my_numbers,0))"
   ]
  },
  {
   "cell_type": "code",
   "execution_count": 113,
   "metadata": {},
   "outputs": [
    {
     "name": "stdout",
     "output_type": "stream",
     "text": [
      "456\n"
     ]
    }
   ],
   "source": [
    "def accumulator(acc, item):\n",
    "    return acc + item\n",
    "\n",
    "print(reduce(accumulator, (my_numbers + scores)))"
   ]
  }
 ],
 "metadata": {
  "kernelspec": {
   "display_name": "Python 3",
   "language": "python",
   "name": "python3"
  },
  "language_info": {
   "codemirror_mode": {
    "name": "ipython",
    "version": 3
   },
   "file_extension": ".py",
   "mimetype": "text/x-python",
   "name": "python",
   "nbconvert_exporter": "python",
   "pygments_lexer": "ipython3",
   "version": "3.7.6"
  }
 },
 "nbformat": 4,
 "nbformat_minor": 2
}
