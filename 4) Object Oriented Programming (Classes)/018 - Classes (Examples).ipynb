{
 "cells": [
  {
   "cell_type": "code",
   "execution_count": null,
   "metadata": {},
   "outputs": [],
   "source": [
    "# hold down the shift and tab button after the ?\n",
    "list?\n",
    "dict?"
   ]
  },
  {
   "cell_type": "markdown",
   "metadata": {},
   "source": [
    "<h1 align=\"center\">MORE OBJECT ORIENTED PROGRAMMING EXAMPLES</h1>"
   ]
  },
  {
   "cell_type": "markdown",
   "metadata": {},
   "source": [
    "These are just some more examples of classes that I have come across that are good to work through. "
   ]
  },
  {
   "cell_type": "markdown",
   "metadata": {},
   "source": [
    "## Example"
   ]
  },
  {
   "cell_type": "code",
   "execution_count": 1,
   "metadata": {},
   "outputs": [],
   "source": [
    "class Person:\n",
    "    def __init__(self, name, age=0):\n",
    "        # these are the instance varaibles\n",
    "        self.name = name\n",
    "        self.age = age    \n",
    "\n",
    "# this function is referred to as a method   \n",
    "    def myfunc(self):\n",
    "#        print('Hello, my name is %s and I am %d years old.' % (self.name, self.age))\n",
    "        print(f'Hello, my name is {self.name} and I am {self.age} years old.')"
   ]
  },
  {
   "cell_type": "code",
   "execution_count": 2,
   "metadata": {},
   "outputs": [],
   "source": [
    "# when creating an object for the class, they need to go outside the 'blueprint'        \n",
    "p1 = Person('John', 36)\n",
    "p2 = Person('michael', 45)\n",
    "p3 = Person('benji')    # this will only work since age=0 by default in the __init__ setup. \n",
    "                        # but we can overwrite this by inserting a number."
   ]
  },
  {
   "cell_type": "code",
   "execution_count": 3,
   "metadata": {},
   "outputs": [
    {
     "name": "stdout",
     "output_type": "stream",
     "text": [
      "<class '__main__.Person'>\n",
      "<__main__.Person object at 0x000001E81A7E0F88>\n",
      "\n",
      "John 36\n",
      "michael 45\n"
     ]
    }
   ],
   "source": [
    "print(Person)\n",
    "print(p1)\n",
    "print()\n",
    "print(p1.name, p1.age)\n",
    "print(p2.name, p2.age)"
   ]
  },
  {
   "cell_type": "code",
   "execution_count": 4,
   "metadata": {},
   "outputs": [
    {
     "name": "stdout",
     "output_type": "stream",
     "text": [
      "Hello, my name is John and I am 36 years old.\n",
      "Hello, my name is michael and I am 45 years old.\n",
      "Hello, my name is benji and I am 0 years old.\n",
      "\n",
      "Hello, my name is John and I am 40 years old.\n",
      "Hello, my name is benji and I am 20 years old.\n"
     ]
    }
   ],
   "source": [
    "p1.myfunc()\n",
    "p2.myfunc()\n",
    "p3.myfunc()\n",
    "print()\n",
    "\n",
    "# this modifies the age for p1 and p3\n",
    "p1.age, p3.age = 40, 20\n",
    "p1.myfunc()\n",
    "p3.myfunc()"
   ]
  },
  {
   "cell_type": "code",
   "execution_count": 5,
   "metadata": {},
   "outputs": [
    {
     "ename": "AttributeError",
     "evalue": "'Person' object has no attribute 'age'",
     "output_type": "error",
     "traceback": [
      "\u001b[1;31m---------------------------------------------------------------------------\u001b[0m",
      "\u001b[1;31mAttributeError\u001b[0m                            Traceback (most recent call last)",
      "\u001b[1;32m<ipython-input-5-9b874ced11a3>\u001b[0m in \u001b[0;36m<module>\u001b[1;34m\u001b[0m\n\u001b[0;32m      1\u001b[0m \u001b[1;31m# this deletes an objects property\u001b[0m\u001b[1;33m\u001b[0m\u001b[1;33m\u001b[0m\u001b[1;33m\u001b[0m\u001b[0m\n\u001b[0;32m      2\u001b[0m \u001b[1;32mdel\u001b[0m \u001b[0mp2\u001b[0m\u001b[1;33m.\u001b[0m\u001b[0mage\u001b[0m\u001b[1;33m\u001b[0m\u001b[1;33m\u001b[0m\u001b[0m\n\u001b[1;32m----> 3\u001b[1;33m \u001b[0mp2\u001b[0m\u001b[1;33m.\u001b[0m\u001b[0mmyfunc\u001b[0m\u001b[1;33m(\u001b[0m\u001b[1;33m)\u001b[0m\u001b[1;33m\u001b[0m\u001b[1;33m\u001b[0m\u001b[0m\n\u001b[0m",
      "\u001b[1;32m<ipython-input-1-2ec46cb28061>\u001b[0m in \u001b[0;36mmyfunc\u001b[1;34m(self)\u001b[0m\n\u001b[0;32m      8\u001b[0m     \u001b[1;32mdef\u001b[0m \u001b[0mmyfunc\u001b[0m\u001b[1;33m(\u001b[0m\u001b[0mself\u001b[0m\u001b[1;33m)\u001b[0m\u001b[1;33m:\u001b[0m\u001b[1;33m\u001b[0m\u001b[1;33m\u001b[0m\u001b[0m\n\u001b[0;32m      9\u001b[0m \u001b[1;31m#        print('Hello, my name is %s and I am %d years old.' % (self.name, self.age))\u001b[0m\u001b[1;33m\u001b[0m\u001b[1;33m\u001b[0m\u001b[1;33m\u001b[0m\u001b[0m\n\u001b[1;32m---> 10\u001b[1;33m         \u001b[0mprint\u001b[0m\u001b[1;33m(\u001b[0m\u001b[1;34mf'Hello, my name is {self.name} and I am {self.age} years old.'\u001b[0m\u001b[1;33m)\u001b[0m\u001b[1;33m\u001b[0m\u001b[1;33m\u001b[0m\u001b[0m\n\u001b[0m",
      "\u001b[1;31mAttributeError\u001b[0m: 'Person' object has no attribute 'age'"
     ]
    }
   ],
   "source": [
    "# this deletes an objects property\n",
    "del p2.age\n",
    "p2.myfunc()"
   ]
  },
  {
   "cell_type": "markdown",
   "metadata": {},
   "source": [
    "## Example"
   ]
  },
  {
   "cell_type": "code",
   "execution_count": 6,
   "metadata": {},
   "outputs": [
    {
     "name": "stdout",
     "output_type": "stream",
     "text": [
      "The rock band Queen has 15 albums released.\n",
      "Queen\n",
      "15\n"
     ]
    }
   ],
   "source": [
    "class Band:\n",
    "    def __init__(self, band_name, albums_released, genre):\n",
    "        self.genre = genre\n",
    "        self.band_name = band_name\n",
    "        self.albums_released = albums_released\n",
    "       \n",
    "        if genre not in ('pop', 'classical', 'rock'):\n",
    "            print('This isnt a genre I know.')\n",
    "            \n",
    "    def print_stats(self):\n",
    "        print('The', self.genre, 'band', self.band_name, 'has', self.albums_released, 'albums released.')\n",
    "        \n",
    "my_band = Band('Queen', 15, 'rock')\n",
    "\n",
    "my_band.print_stats()\n",
    "print(my_band.band_name)\n",
    "print(my_band.albums_released)"
   ]
  },
  {
   "cell_type": "markdown",
   "metadata": {},
   "source": [
    "## Example"
   ]
  },
  {
   "cell_type": "code",
   "execution_count": 7,
   "metadata": {},
   "outputs": [
    {
     "name": "stdout",
     "output_type": "stream",
     "text": [
      "['triangle', 'square', 'circle', 'pentagon', 'polygon', 'rectangle']\n",
      "This is possible\n",
      "This is impossible\n",
      "This is possible\n",
      "['triangle', 'square', 'circle', 'pentagon', 'polygon', 'rectangle', 'wormhole']\n"
     ]
    }
   ],
   "source": [
    "class Shape(object):\n",
    "    possible = ['triangle','square','circle','pentagon','polygon','rectangle']\n",
    "\n",
    "    def __init__(self, label='triangle'):\n",
    "        self.label = label\n",
    "\n",
    "    def is_possible(self):\n",
    "        if self.label in self.possible:\n",
    "            print('This is possible')\n",
    "        else:\n",
    "            print('This is impossible')\n",
    "\n",
    "square = Shape('square')\n",
    "print(square.possible)\n",
    "square.is_possible()\n",
    "\n",
    "wormhole = Shape('wormhole')\n",
    "wormhole.is_possible()\n",
    "\n",
    "wormhole.possible.append('wormhole')\n",
    "\n",
    "square.is_possible()\n",
    "print(wormhole.possible)"
   ]
  },
  {
   "cell_type": "markdown",
   "metadata": {},
   "source": [
    "## Example"
   ]
  },
  {
   "cell_type": "code",
   "execution_count": 8,
   "metadata": {},
   "outputs": [],
   "source": [
    "class TeaCup:\n",
    "    '''This is my tea cup class'''\n",
    "   \n",
    "    def __init__(self, capacity = 0, amount = 0):\n",
    "        self.capacity = capacity\n",
    "        self.amount = amount\n",
    "        print('Teacup created with size', capacity)\n",
    "        \n",
    "    def fill(self):\n",
    "        self.amount = self.capacity\n",
    "        \n",
    "    def empty(self):\n",
    "        self.amount = 0\n",
    "        \n",
    "    def drink(self, amount_drank):\n",
    "        self.amount -= amount_drank\n",
    "        if (self.amount < 0):\n",
    "            self.amount = 0"
   ]
  },
  {
   "cell_type": "code",
   "execution_count": 9,
   "metadata": {},
   "outputs": [
    {
     "name": "stdout",
     "output_type": "stream",
     "text": [
      "Teacup created with size 12\n",
      "Teacup created with size 16\n",
      "Teacup created with size 6\n"
     ]
    }
   ],
   "source": [
    "steves_cup = TeaCup(12)\n",
    "yis_cup = TeaCup(16)\n",
    "johns_cup = TeaCup(6)"
   ]
  },
  {
   "cell_type": "code",
   "execution_count": 10,
   "metadata": {},
   "outputs": [
    {
     "name": "stdout",
     "output_type": "stream",
     "text": [
      "0\n",
      "0\n",
      "0\n"
     ]
    }
   ],
   "source": [
    "print(steves_cup.amount)\n",
    "print(yis_cup.amount)\n",
    "print(johns_cup.amount)"
   ]
  },
  {
   "cell_type": "code",
   "execution_count": 11,
   "metadata": {},
   "outputs": [
    {
     "name": "stdout",
     "output_type": "stream",
     "text": [
      "12\n",
      "0\n",
      "2\n"
     ]
    }
   ],
   "source": [
    "steves_cup.fill()\n",
    "johns_cup.fill()\n",
    "yis_cup.empty()\n",
    "johns_cup.drink(4)\n",
    "\n",
    "print(steves_cup.amount)\n",
    "print(yis_cup.amount)\n",
    "print(johns_cup.amount)"
   ]
  },
  {
   "cell_type": "markdown",
   "metadata": {},
   "source": [
    "## Example\n",
    "Inheritance allows us to define a class that inherits all the methods and properties from another class.\n",
    "- Parent class is the class being inherited from, also called base class.\n",
    "- Child class is the class that inherits from another class, also called derived class."
   ]
  },
  {
   "cell_type": "code",
   "execution_count": 12,
   "metadata": {},
   "outputs": [
    {
     "name": "stdout",
     "output_type": "stream",
     "text": [
      "Hello, my name is michael felman.\n"
     ]
    }
   ],
   "source": [
    "# Create a class named Person, with firstname and lastname properties, and a printname method:\n",
    "class Person:\n",
    "    def __init__(self, firstname, lastname):\n",
    "        self.firstname = firstname\n",
    "        self.lastname = lastname\n",
    "        \n",
    "    def printname(self):\n",
    "      # print('Hello, my name is %s %s.' % (self.firstname, self.lastname))\n",
    "      # return 'Hello, my name is %s %s.' % (self.firstname, self.lastname)\n",
    "        print(f'Hello, my name is {self.firstname} {self.lastname}.')\n",
    "    \n",
    "# Use the Person class to create an object, and then execute the printname method:\n",
    "p1 = Person('michael', 'felman')\n",
    "p1.printname()"
   ]
  },
  {
   "cell_type": "code",
   "execution_count": 13,
   "metadata": {},
   "outputs": [
    {
     "name": "stdout",
     "output_type": "stream",
     "text": [
      "Hello, my name is tom jerry.\n",
      "Welcome Mike Olsen to the class of 2019.\n",
      "Hello, my name is Mike Olsen.\n"
     ]
    },
    {
     "ename": "AttributeError",
     "evalue": "'Person' object has no attribute 'welcome'",
     "output_type": "error",
     "traceback": [
      "\u001b[1;31m---------------------------------------------------------------------------\u001b[0m",
      "\u001b[1;31mAttributeError\u001b[0m                            Traceback (most recent call last)",
      "\u001b[1;32m<ipython-input-13-31a858169beb>\u001b[0m in \u001b[0;36m<module>\u001b[1;34m\u001b[0m\n\u001b[0;32m     31\u001b[0m \u001b[0mp2\u001b[0m\u001b[1;33m.\u001b[0m\u001b[0mwelcome\u001b[0m\u001b[1;33m(\u001b[0m\u001b[1;33m)\u001b[0m\u001b[1;33m\u001b[0m\u001b[1;33m\u001b[0m\u001b[0m\n\u001b[0;32m     32\u001b[0m \u001b[0mp2\u001b[0m\u001b[1;33m.\u001b[0m\u001b[0mprintname\u001b[0m\u001b[1;33m(\u001b[0m\u001b[1;33m)\u001b[0m\u001b[1;33m\u001b[0m\u001b[1;33m\u001b[0m\u001b[0m\n\u001b[1;32m---> 33\u001b[1;33m \u001b[0mp1\u001b[0m\u001b[1;33m.\u001b[0m\u001b[0mwelcome\u001b[0m\u001b[1;33m(\u001b[0m\u001b[1;33m)\u001b[0m\u001b[1;33m\u001b[0m\u001b[1;33m\u001b[0m\u001b[0m\n\u001b[0m",
      "\u001b[1;31mAttributeError\u001b[0m: 'Person' object has no attribute 'welcome'"
     ]
    }
   ],
   "source": [
    "# Create a class named Person, with firstname and lastname properties, and a printname method:\n",
    "class Person:\n",
    "    def __init__(self, firstname, lastname):\n",
    "        self.firstname = firstname\n",
    "        self.lastname = lastname\n",
    "        \n",
    "    def printname(self):\n",
    "        print(f'Hello, my name is {self.firstname} {self.lastname}.')\n",
    "\n",
    "#To create a class that inherits the functionality from another class, \n",
    "#send the parent class as a parameter when creating the child class:\n",
    "class Student(Person):\n",
    "    def __init__(self, firstname, lastname, year):\n",
    "        super().__init__(firstname, lastname)\n",
    "        #self.firstname = firstname\n",
    "        #self.lastname = lastname\n",
    "#To keep the inheritance of the parent's __init__() function, add a call to the parent's __init__() function:\n",
    "        #Person.__init__(self, firstname, lastname)\n",
    "\n",
    "#to add a property to the student class, follow below but also add year into the __init__ function\n",
    "        self.year = year\n",
    "    \n",
    "    def welcome(self):\n",
    "        print('Welcome %s %s to the class of %d.' % (self.firstname, self.lastname, self.year))\n",
    "    \n",
    "#Use the Person class to create an object, and then execute the printname method:\n",
    "p1 = Person('tom', 'jerry')\n",
    "p2 = Student('Mike', \"Olsen\", 2019)\n",
    "\n",
    "p1.printname()\n",
    "p2.welcome()\n",
    "p2.printname()\n",
    "p1.welcome() "
   ]
  },
  {
   "cell_type": "markdown",
   "metadata": {},
   "source": [
    "## Bank Account Examples"
   ]
  },
  {
   "cell_type": "code",
   "execution_count": 14,
   "metadata": {},
   "outputs": [
    {
     "name": "stdout",
     "output_type": "stream",
     "text": [
      "1000\n"
     ]
    }
   ],
   "source": [
    "my_balance = 0\n",
    "my_deposit = 1000\n",
    "\n",
    "def deposit(existing_balance, deposit_amount):    \n",
    "    existing_balance = existing_balance + deposit_amount\n",
    "    return existing_balance\n",
    "    \n",
    "my_balance = deposit(my_balance, my_deposit)\n",
    "\n",
    "print(my_balance)"
   ]
  },
  {
   "cell_type": "code",
   "execution_count": 15,
   "metadata": {},
   "outputs": [
    {
     "name": "stdout",
     "output_type": "stream",
     "text": [
      "2000\n",
      "1700\n",
      "2000\n"
     ]
    }
   ],
   "source": [
    "parths_balance = 1000\n",
    "michaels_balance = 1000\n",
    "johns_balance = 1000\n",
    "\n",
    "def withdraw(existing_balance, amount):\n",
    "    existing_balance -= amount\n",
    "    return existing_balance\n",
    "    \n",
    "def deposit(existing_balance, amount):\n",
    "    existing_balance += amount\n",
    "    return existing_balance\n",
    "\n",
    "\n",
    "parths_balance = deposit(parths_balance, 1000)\n",
    "\n",
    "print(parths_balance)\n",
    "\n",
    "print(withdraw(parths_balance, 300))\n",
    "\n",
    "print(parths_balance)"
   ]
  },
  {
   "cell_type": "code",
   "execution_count": 16,
   "metadata": {},
   "outputs": [
    {
     "name": "stdout",
     "output_type": "stream",
     "text": [
      "Parth's Checkings\n",
      "0\n",
      "0\n",
      "The balance after this deposit is 1000.\n",
      "1000\n",
      "31000\n"
     ]
    }
   ],
   "source": [
    "# METHOD 1\n",
    "\n",
    "class BankAccount:\n",
    "    \n",
    "    def __init__(self, name):\n",
    "        self.name = name\n",
    "        self.balance = 0\n",
    "        \n",
    "    def withdraw(self, amount):\n",
    "        self.balance -= amount\n",
    "        return self.balance\n",
    "\n",
    "    def deposit(self, amount):\n",
    "        self.balance += amount\n",
    "        return self.balance\n",
    "    \n",
    "    def get_bank_account_name(self):\n",
    "        return self.name\n",
    "        \n",
    "    def get_balance(self):\n",
    "        return self.balance\n",
    "        \n",
    "    \n",
    "chase_bank = BankAccount(\"Parth's Checkings\")\n",
    "print(chase_bank.get_bank_account_name())\n",
    "\n",
    "#these both do the same thing\n",
    "print(chase_bank.balance)\n",
    "print(chase_bank.get_balance())\n",
    "\n",
    "chase_bank.deposit(1000)\n",
    "print(f'The balance after this deposit is {chase_bank.balance}.')\n",
    "print(chase_bank.get_balance())\n",
    "\n",
    "deposits = [10000, 20000]\n",
    "for i in deposits:\n",
    "    chase_bank.deposit(i)\n",
    "\n",
    "print(chase_bank.get_balance())"
   ]
  },
  {
   "cell_type": "code",
   "execution_count": 17,
   "metadata": {},
   "outputs": [
    {
     "name": "stdout",
     "output_type": "stream",
     "text": [
      "50000\n",
      "31000\n",
      "John's Savings\n"
     ]
    }
   ],
   "source": [
    "west_bank = BankAccount(\"John's Savings\")\n",
    "west_bank.deposit(50000)\n",
    "print(west_bank.balance)\n",
    "print(chase_bank.balance)\n",
    "print(west_bank.name)"
   ]
  },
  {
   "cell_type": "code",
   "execution_count": 18,
   "metadata": {},
   "outputs": [
    {
     "name": "stdout",
     "output_type": "stream",
     "text": [
      "Michael 0\n",
      "You have Insufficient funds.\n",
      "Thank you for depositing $500.00.\n",
      "You have just withdrawn $100.00 from your account.\n",
      "You have $400.00 left in your account.\n"
     ]
    }
   ],
   "source": [
    "# METHOD 2\n",
    "\n",
    "class BankAccount:\n",
    " \n",
    "     # constructor or initializer\n",
    "    def __init__(self, name, balance=0):\n",
    "        self.name = name\n",
    "        self.balance = balance   \n",
    " \n",
    "    def deposit(self, amount):\n",
    "        self.balance += amount\n",
    "        print('Thank you for depositing $%.2f.' % amount)   \n",
    " \n",
    "    def withdraw(self, amount):\n",
    "        if self.balance > amount :\n",
    "            self.balance -= amount\n",
    "            print('You have just withdrawn $%.2f from your account.' % amount)\n",
    "        else:\n",
    "            print(\"You have Insufficient funds.\")\n",
    " \n",
    "    def checkbalance(self):\n",
    "        print('You have $%.2f left in your account.' % self.balance)\n",
    "\n",
    "#create a bank account object for 'michael'\n",
    "ba1 = BankAccount('Michael')\n",
    "\n",
    "print(ba1.name, ba1.balance)    \n",
    "ba1.withdraw(500)\n",
    "ba1.deposit(500)\n",
    "ba1.withdraw(100)\n",
    "ba1.checkbalance()"
   ]
  },
  {
   "cell_type": "code",
   "execution_count": 19,
   "metadata": {},
   "outputs": [
    {
     "name": "stdout",
     "output_type": "stream",
     "text": [
      "0\n",
      "0\n",
      "100\n",
      "-10000\n",
      "-9900\n",
      "-9900\n"
     ]
    }
   ],
   "source": [
    "# METHOD 3\n",
    "\n",
    "class BankAccount:\n",
    "    bank_balance = 0\n",
    "    \n",
    "    def __init__(self, account_type):\n",
    "        self.account_type = account_type\n",
    "        self.balance = 0\n",
    "    \n",
    "    def deposit(self, amount):\n",
    "        self.balance += amount\n",
    "        BankAccount.bank_balance += amount\n",
    "        \n",
    "    def withdraw(self, amount):\n",
    "        self.balance -= amount\n",
    "        BankAccount.bank_balance -= amount\n",
    "\n",
    "checking = BankAccount('checking')\n",
    "savings = BankAccount('savings')\n",
    "\n",
    "#print(bank_account1, bank_account2) this is to check/test\n",
    "\n",
    "print(checking.balance)\n",
    "print(savings.balance)\n",
    "\n",
    "checking.deposit(100)\n",
    "savings.withdraw(10000)\n",
    "\n",
    "\n",
    "print(checking.balance)\n",
    "print(savings.balance)\n",
    "print(checking.bank_balance)\n",
    "print(savings.bank_balance)"
   ]
  },
  {
   "cell_type": "markdown",
   "metadata": {},
   "source": [
    "## Example"
   ]
  },
  {
   "cell_type": "code",
   "execution_count": 20,
   "metadata": {},
   "outputs": [
    {
     "name": "stdout",
     "output_type": "stream",
     "text": [
      "Ford Mustang GT350 in red color\n",
      "Ford Mustang\n",
      "Tank camo\n"
     ]
    }
   ],
   "source": [
    "class Vehicle:\n",
    " \n",
    "    def __init__(self, name, color):\n",
    "        self.name = name      # __name is private to Vehicle class\n",
    "        self.color = color\n",
    " \n",
    "    def getColor(self):         # getColor() function is accessible to class Car\n",
    "        return self.color\n",
    " \n",
    "    def setColor(self, color):  # setColor is accessible outside the class\n",
    "        self.color = color\n",
    " \n",
    "    def getName(self):          # getName() is accessible outside the class\n",
    "        return self.name\n",
    "\n",
    "class Car(Vehicle):\n",
    " \n",
    "    def __init__(self, name, color, model):\n",
    "        # call parent constructor to set name and color  \n",
    "        super().__init__(name, color)       \n",
    "        self.model = model\n",
    " \n",
    "    def getDescription(self):\n",
    "#         print(self.name, self.model,  \"in\", self.color, \"color\")\n",
    "        return self.getName() + ' ' + self.model + \" in \" + self.getColor() + \" color\"\n",
    "\n",
    "# in method getDescrition we are able to call getName(), getColor() because they are \n",
    "# accessible to child class through inheritance\n",
    " \n",
    "v1 = Vehicle('Tank', 'camo')\n",
    "c1 = Car(\"Ford Mustang\", \"red\", \"GT350\")\n",
    "\n",
    "print(c1.getDescription())\n",
    "print(c1.getName()) # car has no method getName() but it is accessible through class Vehicle\n",
    "print(v1.getName(), v1.getColor())\n",
    "#print(v1.getDescription())  #this will not work"
   ]
  },
  {
   "cell_type": "markdown",
   "metadata": {},
   "source": [
    "## Example"
   ]
  },
  {
   "cell_type": "code",
   "execution_count": 21,
   "metadata": {},
   "outputs": [
    {
     "name": "stdout",
     "output_type": "stream",
     "text": [
      "Gracie created\n",
      "Bow Wow created\n",
      "Buck created\n",
      "Woof! I am called Gracie ; I am 8 human-years old.\n",
      "Gracie\n",
      "8\n",
      "Buck says: Hello Pyth 923\n"
     ]
    }
   ],
   "source": [
    "class Dog:\n",
    "    \"\"\"Creates Dog class, possible child class of Animal\n",
    "    \n",
    "    Parameters\n",
    "    ----------\n",
    "    name : str, default blank\n",
    "        Desired name of Dog\n",
    "    age : int, default 0\n",
    "        Age of Dog in years   \n",
    "    \"\"\"\n",
    "\n",
    "    def __init__(self, name=\"\", age=0):\n",
    "        # Note the optional parameters and defaults.\n",
    "        self.name = name    # All dogs have a name\n",
    "        self.age = age      # All dogs have an age\n",
    "        print(name, 'created')  #run when init is finished\n",
    "\n",
    "    \"\"\"Prints a message stating name and age to stdout\"\"\"\n",
    "    def bark_hello(self):\n",
    "        print(\"Woof! I am called\", self.name, \"; I am\", self.age, \"human-years old.\")\n",
    "\n",
    "    def bark(self, message):\n",
    "        print(f'{self.name} says: {message}')\n",
    "        \n",
    "gracie = Dog(\"Gracie\", 8)\n",
    "bow_wow = Dog(\"Bow Wow\", 17)\n",
    "buck = Dog(\"Buck\", 3)\n",
    "\n",
    "gracie.bark_hello()\n",
    "\n",
    "print(gracie.name)\n",
    "print(gracie.age)\n",
    "buck.bark('Hello Pyth 923')"
   ]
  },
  {
   "cell_type": "markdown",
   "metadata": {},
   "source": [
    "## Example"
   ]
  },
  {
   "cell_type": "code",
   "execution_count": 22,
   "metadata": {},
   "outputs": [],
   "source": [
    "from math import sqrt\n",
    "\n",
    "class Rocket:\n",
    "# attributes are set in the init method, defaults set to zero \n",
    "    def __init__(self, x=0, y=0):\n",
    "        self.x = x\n",
    "        self.y = y\n",
    "\n",
    "    def move_rocket(self, x, y):\n",
    "        self.y += y\n",
    "        self.x += x\n",
    "        return (self.x, self.y)\n",
    "    \n",
    "    def get_dist(self, other_rocket):\n",
    "        dist = sqrt((self.x - other_rocket.x)**2 + (self.y - other_rocket.y)**2)\n",
    "        return f'The distance between these 2 rockets is {dist}.'\n",
    "\n",
    "# Shuttle objects will be able to access Rocket methods, \n",
    "# but Rocket objects cannot access Shuttle methods.    \n",
    "class Shuttle(Rocket):\n",
    "    '''Shuttle simulates a space shuttle, which is really \n",
    "    just a reusable rocket.'''\n",
    "    def __init__(self, x=0, y=0, flights_completed=0):\n",
    "        #super() refers to the things that belong to Rocket\n",
    "        super().__init__(x, y)\n",
    "        self.flights_completed = flights_completed    \n",
    "\n",
    "    def move_shuttle(self):\n",
    "        self.flights_completed += 1\n",
    "        return self.flights_completed"
   ]
  },
  {
   "cell_type": "code",
   "execution_count": 23,
   "metadata": {},
   "outputs": [
    {
     "name": "stdout",
     "output_type": "stream",
     "text": [
      "<__main__.Rocket object at 0x000001E81A808E08>\n",
      "3\n",
      "4\n",
      "(4, 5)\n"
     ]
    }
   ],
   "source": [
    "# create a rocket object\n",
    "michaels_rocket = Rocket(3,4)\n",
    "\n",
    "# confirm rocket object is created\n",
    "print(michaels_rocket)\n",
    "print(michaels_rocket.x)\n",
    "print(michaels_rocket.y)\n",
    "print(michaels_rocket.move_rocket(1,1))"
   ]
  },
  {
   "cell_type": "code",
   "execution_count": 24,
   "metadata": {},
   "outputs": [
    {
     "name": "stdout",
     "output_type": "stream",
     "text": [
      "[<__main__.Rocket object at 0x000001E81A808988>, <__main__.Rocket object at 0x000001E81A808888>, <__main__.Rocket object at 0x000001E81A808D88>, <__main__.Rocket object at 0x000001E81A808CC8>, <__main__.Rocket object at 0x000001E81A6EB348>]\n",
      "0 0\n",
      "0 0\n",
      "0 0\n",
      "0 0\n",
      "0 0\n"
     ]
    }
   ],
   "source": [
    "# create a fleet of 5 new rocket objects and store them into a list\n",
    "list1 = [Rocket() for x in range(5)]\n",
    "print(list1)\n",
    "\n",
    "for each_rocket in list1:\n",
    "    print(each_rocket.x, each_rocket.y)"
   ]
  },
  {
   "cell_type": "code",
   "execution_count": 25,
   "metadata": {},
   "outputs": [
    {
     "name": "stdout",
     "output_type": "stream",
     "text": [
      "(2, 3)\n",
      "(1, 4)\n",
      "0 0\n",
      "0 0\n",
      "2 3\n",
      "1 4\n",
      "0 0\n"
     ]
    }
   ],
   "source": [
    "# moving rockets 3 & 4 to move by the specified coordinates\n",
    "print(list1[2].move_rocket(2, 3))\n",
    "print(list1[3].move_rocket(1, 4)) \n",
    "\n",
    "for each_rocket in list1:\n",
    "    print(each_rocket.x, each_rocket.y)  "
   ]
  },
  {
   "cell_type": "code",
   "execution_count": 26,
   "metadata": {},
   "outputs": [
    {
     "name": "stdout",
     "output_type": "stream",
     "text": [
      "The distance between these 2 rockets is 1.4142135623730951.\n"
     ]
    }
   ],
   "source": [
    "#testing the get_dist method\n",
    "print(list1[2].get_dist(list1[3]))"
   ]
  },
  {
   "cell_type": "code",
   "execution_count": 27,
   "metadata": {},
   "outputs": [
    {
     "name": "stdout",
     "output_type": "stream",
     "text": [
      "[<__main__.Shuttle object at 0x000001E81A8AF108>, <__main__.Shuttle object at 0x000001E81A8AF188>, <__main__.Shuttle object at 0x000001E81A8AF1C8>, <__main__.Shuttle object at 0x000001E81A8AF208>, <__main__.Shuttle object at 0x000001E81A8AF248>]\n",
      "0\n",
      "0\n",
      "0\n",
      "0\n",
      "0\n"
     ]
    }
   ],
   "source": [
    "# create 5 new shuttle objects into a list   \n",
    "shuttle_list = []        \n",
    "for x in range(5):\n",
    "    new_shuttle = Shuttle()\n",
    "    shuttle_list.append(new_shuttle)\n",
    "#shuttle_list = [Shuttle() for x in range(5)]    #list comprehension method\n",
    "\n",
    "print(shuttle_list)\n",
    "\n",
    "for each_shuttle in shuttle_list:\n",
    "    print(each_shuttle.flights_completed)"
   ]
  },
  {
   "cell_type": "code",
   "execution_count": 28,
   "metadata": {},
   "outputs": [
    {
     "name": "stdout",
     "output_type": "stream",
     "text": [
      "1\n",
      "0\n",
      "0\n",
      "0\n",
      "0\n"
     ]
    }
   ],
   "source": [
    "# this sets the first shuttle to 1 flight completed\n",
    "shuttle_list[0].flights_completed = 1\n",
    "\n",
    "for each_shuttle in shuttle_list:\n",
    "    print(each_shuttle.flights_completed)"
   ]
  }
 ],
 "metadata": {
  "kernelspec": {
   "display_name": "Python 3",
   "language": "python",
   "name": "python3"
  },
  "language_info": {
   "codemirror_mode": {
    "name": "ipython",
    "version": 3
   },
   "file_extension": ".py",
   "mimetype": "text/x-python",
   "name": "python",
   "nbconvert_exporter": "python",
   "pygments_lexer": "ipython3",
   "version": "3.7.6"
  }
 },
 "nbformat": 4,
 "nbformat_minor": 2
}
