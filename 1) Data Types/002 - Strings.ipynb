{
 "cells": [
  {
   "cell_type": "markdown",
   "metadata": {},
   "source": [
    "<h1 align=\"center\">STRINGS</h1>\n",
    "<h2 align=\"left\"><ins>Lesson Guide</ins></h2>\n",
    "\n",
    "- [**SPECIAL CHARACTERS**](#special)\n",
    "- [**AUGMENTED ASSIGNMENT**](#augmented)\n",
    "- [**STRING INDEXING & SLICING**](#index)\n",
    "- [**BASIC BUILT-IN STRING METHODS**](#methods)\n",
    "- [**is / in CHECK METHODS**](#isin)\n",
    "- [**SPLIT, JOIN, REPLACE & STRIP**](#split)\n",
    "- [**USER INPUT**](#userinput)\n",
    "- [**STRING FORMATTING**](#format)"
   ]
  },
  {
   "cell_type": "markdown",
   "metadata": {},
   "source": [
    "Strings are used in Python to record text information. Strings in Python are actually a *sequence*, which basically means Python keeps track of every element in the string as a sequence. For example, Python understands the string \"hello' to be a sequence of letters in a specific order. This means we will be able to use indexing to grab particular letters (like the first letter, or the last letter).\n",
    "\n",
    "- It's important to note that strings have an important property known as **immutability**. This means that once a string is created, the elements within it can not be changed or replaced."
   ]
  },
  {
   "cell_type": "code",
   "execution_count": 1,
   "metadata": {},
   "outputs": [
    {
     "name": "stdout",
     "output_type": "stream",
     "text": [
      "['__add__', '__class__', '__contains__', '__delattr__', '__dir__', '__doc__', '__eq__', '__format__', '__ge__', '__getattribute__', '__getitem__', '__getnewargs__', '__gt__', '__hash__', '__init__', '__init_subclass__', '__iter__', '__le__', '__len__', '__lt__', '__mod__', '__mul__', '__ne__', '__new__', '__reduce__', '__reduce_ex__', '__repr__', '__rmod__', '__rmul__', '__setattr__', '__sizeof__', '__str__', '__subclasshook__', 'capitalize', 'casefold', 'center', 'count', 'encode', 'endswith', 'expandtabs', 'find', 'format', 'format_map', 'index', 'isalnum', 'isalpha', 'isascii', 'isdecimal', 'isdigit', 'isidentifier', 'islower', 'isnumeric', 'isprintable', 'isspace', 'istitle', 'isupper', 'join', 'ljust', 'lower', 'lstrip', 'maketrans', 'partition', 'replace', 'rfind', 'rindex', 'rjust', 'rpartition', 'rsplit', 'rstrip', 'split', 'splitlines', 'startswith', 'strip', 'swapcase', 'title', 'translate', 'upper', 'zfill']\n"
     ]
    }
   ],
   "source": [
    "print(dir(str))\n",
    "# Returns an alphabetized list of names comprising the attributes\n",
    "# of the given object, and of attributes reachable from it."
   ]
  },
  {
   "cell_type": "code",
   "execution_count": 2,
   "metadata": {},
   "outputs": [
    {
     "name": "stdout",
     "output_type": "stream",
     "text": [
      "Help on method_descriptor:\n",
      "\n",
      "capitalize(self, /)\n",
      "    Return a capitalized version of the string.\n",
      "    \n",
      "    More specifically, make the first character have upper case and the rest lower\n",
      "    case.\n",
      "\n"
     ]
    }
   ],
   "source": [
    "help(str.capitalize)"
   ]
  },
  {
   "cell_type": "markdown",
   "metadata": {},
   "source": [
    "<a id='special'></a>\n",
    "## SPECIAL CHARACTERS\n",
    "The [backslash](https://docs.python.org/3/reference/lexical_analysis.html#literals) (`\\`) character is used to escape characters that otherwise have a special meaning, such as newline, backslash itself, or the quote character."
   ]
  },
  {
   "cell_type": "code",
   "execution_count": 3,
   "metadata": {},
   "outputs": [
    {
     "name": "stdout",
     "output_type": "stream",
     "text": [
      "'Hello World'\n",
      "\"hello world\"\n",
      "\"Hello World\"\n",
      "I can't go \"there\"\n",
      "I can't go \"there\". \n"
     ]
    }
   ],
   "source": [
    "print(\"'Hello World'\")\n",
    "print('\"hello world\"')\n",
    "print(\"\\\"Hello World\\\"\")\n",
    "\n",
    "print('I can\\'t go \\\"there\\\"')\n",
    "print(\"\"\"I can't go \"there\". \"\"\")\n",
    "\n",
    "# print(\"I can't go \"there\" \")  # results in an error"
   ]
  },
  {
   "cell_type": "code",
   "execution_count": 4,
   "metadata": {},
   "outputs": [
    {
     "name": "stdout",
     "output_type": "stream",
     "text": [
      "The pet shop owner said \"No, no, 'e's uh,...he's resting\".\n",
      "The pet shop owner said \"No, no, 'e's uh,...he's resting\".\n",
      "The pet shop owner said \"No, no, 'e's uh,...he's resting\".\n"
     ]
    }
   ],
   "source": [
    "print(\"\"\"The pet shop owner said \"No, no, 'e's uh,...he's resting\".\"\"\")\n",
    "\n",
    "print('The pet shop owner said \"No, no, \\'e\\'s uh,...he\\'s resting\".')\n",
    "print(\"The pet shop owner said \\\"No, no, 'e's uh,...he's resting\\\".\")"
   ]
  },
  {
   "cell_type": "code",
   "execution_count": 5,
   "metadata": {},
   "outputs": [
    {
     "name": "stdout",
     "output_type": "stream",
     "text": [
      "This string has \n",
      "been split\n",
      "over\n",
      "several lines\n",
      "\n",
      "This string has not been split over several lines\n"
     ]
    }
   ],
   "source": [
    "print(\"\"\"This string has \n",
    "been split\n",
    "over\n",
    "several lines\"\"\")\n",
    "print()\n",
    "print(\"\"\"This string has not \\\n",
    "been split \\\n",
    "over \\\n",
    "several lines\"\"\")"
   ]
  },
  {
   "cell_type": "code",
   "execution_count": 6,
   "metadata": {},
   "outputs": [
    {
     "name": "stdout",
     "output_type": "stream",
     "text": [
      "C:\\Users\\timbuchalka\\notes.txt\n",
      "C:\\Users\\timbuchalka\\notes.txt\n"
     ]
    }
   ],
   "source": [
    "# print(\"C:\\Users\\timbuchalka\\notes.txt\")  \n",
    "# Running the above line will result in an error because of \\U (reference to unicode)\n",
    "\n",
    "# An alternative approach is to use \\\\ or the raw-string literal\n",
    "print(\"C:\\\\Users\\\\timbuchalka\\\\notes.txt\")\n",
    "print(r\"C:\\Users\\timbuchalka\\notes.txt\")    "
   ]
  },
  {
   "cell_type": "markdown",
   "metadata": {},
   "source": [
    "- `\\033[1m` turns the string into bold.\n",
    "- `\\033[0m` removes the bold. "
   ]
  },
  {
   "cell_type": "code",
   "execution_count": 7,
   "metadata": {
    "scrolled": true
   },
   "outputs": [
    {
     "name": "stdout",
     "output_type": "stream",
     "text": [
      "\u001b[1mHello\n",
      "\u001b[1mHello\u001b[0mworld\n",
      "\u001b[1mHello\u001b[0m world\n"
     ]
    }
   ],
   "source": [
    "print('\\033[1mHello')\n",
    "print(f'\\033[1mHello\\033[0mworld')\n",
    "print(f'\\033[1mHello\\033[0m world')"
   ]
  },
  {
   "cell_type": "markdown",
   "metadata": {},
   "source": [
    "The <code>center()</code> method allows you to place your string 'centered' between a provided string with a certain length. Personally, I've never actually used this in code as it seems pretty esoteric..."
   ]
  },
  {
   "cell_type": "code",
   "execution_count": 8,
   "metadata": {},
   "outputs": [
    {
     "data": {
      "text/plain": [
       "'----hello world-----'"
      ]
     },
     "execution_count": 8,
     "metadata": {},
     "output_type": "execute_result"
    }
   ],
   "source": [
    "s = 'hello world'\n",
    "s.center(20,'-')"
   ]
  },
  {
   "cell_type": "markdown",
   "metadata": {},
   "source": [
    "The <code>expandtabs()</code> method will expand tab notations <code>\\t</code> into spaces:"
   ]
  },
  {
   "cell_type": "code",
   "execution_count": 9,
   "metadata": {},
   "outputs": [
    {
     "data": {
      "text/plain": [
       "'hello   world'"
      ]
     },
     "execution_count": 9,
     "metadata": {},
     "output_type": "execute_result"
    }
   ],
   "source": [
    "'hello\\tworld'.expandtabs()"
   ]
  },
  {
   "cell_type": "code",
   "execution_count": 10,
   "metadata": {},
   "outputs": [
    {
     "data": {
      "text/plain": [
       "'hello\\tworld'"
      ]
     },
     "execution_count": 10,
     "metadata": {},
     "output_type": "execute_result"
    }
   ],
   "source": [
    "'hello\\tworld'"
   ]
  },
  {
   "cell_type": "code",
   "execution_count": 11,
   "metadata": {},
   "outputs": [
    {
     "name": "stdout",
     "output_type": "stream",
     "text": [
      "hello\tworld\n"
     ]
    }
   ],
   "source": [
    "print('hello\\tworld')"
   ]
  },
  {
   "cell_type": "code",
   "execution_count": 12,
   "metadata": {},
   "outputs": [
    {
     "name": "stdout",
     "output_type": "stream",
     "text": [
      "hello\n",
      "world\n"
     ]
    }
   ],
   "source": [
    "print('hello\\nworld')"
   ]
  },
  {
   "cell_type": "markdown",
   "metadata": {},
   "source": [
    "<a id='augmented'></a>\n",
    "## AUGMENTED ASSIGNMENT\n",
    "Just like with numbers, we can use **augmented assignment** with strings."
   ]
  },
  {
   "cell_type": "code",
   "execution_count": 13,
   "metadata": {},
   "outputs": [
    {
     "name": "stdout",
     "output_type": "stream",
     "text": [
      "6\n",
      "Good Morning!\n",
      "Good Morning!Good Morning!Good Morning!Good Morning!Good Morning!\n"
     ]
    }
   ],
   "source": [
    "x=5\n",
    "x+=1\n",
    "print(x)\n",
    "\n",
    "greeting = \"Good \"\n",
    "greeting += \"Morning!\"\n",
    "print(greeting)       # similar to concatenation\n",
    "\n",
    "greeting *= 5\n",
    "print(greeting)       # useful way to print out strings multiple times"
   ]
  },
  {
   "cell_type": "code",
   "execution_count": 14,
   "metadata": {
    "scrolled": true
   },
   "outputs": [
    {
     "name": "stdout",
     "output_type": "stream",
     "text": [
      "Hello, Jose\n",
      "You are 34\n"
     ]
    }
   ],
   "source": [
    "# You can add strings together to concatenate them (join them together).\n",
    "name = \"Jose\"\n",
    "greeting = \"Hello, \" + name\n",
    "\n",
    "print(greeting)\n",
    "\n",
    "# You cannot add strings and numbers, as this will result in an error:\n",
    "# age = 34\n",
    "# print(\"You are \" + age)    \n",
    "\n",
    "# But you can if you turn the number into a string first:\n",
    "age = 34\n",
    "age_as_string = str(age)\n",
    "print(\"You are \" + age_as_string)"
   ]
  },
  {
   "cell_type": "markdown",
   "metadata": {},
   "source": [
    "<a id='index'></a>\n",
    "## STRING INDEXING & SLICING"
   ]
  },
  {
   "cell_type": "markdown",
   "metadata": {},
   "source": [
    "Remember that positive indexing starts at 0, while negative indexing begins at -1."
   ]
  },
  {
   "cell_type": "code",
   "execution_count": 15,
   "metadata": {},
   "outputs": [
    {
     "name": "stdout",
     "output_type": "stream",
     "text": [
      "W\n",
      "d\n",
      "W\n"
     ]
    }
   ],
   "source": [
    "string = \"Hello World!\"\n",
    "\n",
    "# returns the letter at index 6\n",
    "print(string[6])           \n",
    "\n",
    "# returns the second last letter\n",
    "print(string[-2])  \n",
    "\n",
    "# another way to get the negative index from a positive one.\n",
    "print(string[6-12])     "
   ]
  },
  {
   "cell_type": "code",
   "execution_count": 16,
   "metadata": {},
   "outputs": [
    {
     "name": "stdout",
     "output_type": "stream",
     "text": [
      "Hello W\n",
      "orld!\n",
      "lo W\n",
      "World!\n",
      "World\n"
     ]
    }
   ],
   "source": [
    "string = \"Hello World!\"\n",
    "\n",
    "# returns the letters from index range 0 to 6 (inclusive)\n",
    "print(string[:7])          \n",
    "\n",
    "# returns the letters from index range 7 to the end\n",
    "print(string[7:])        \n",
    "\n",
    "# returns the letters in the index range 3 to 6 (inclusive)\n",
    "print(string[3:7])\n",
    "\n",
    "# returns World! be cautious though using pos and neg together\n",
    "print(string[-6:12])    \n",
    "\n",
    "# returns World\n",
    "print(string[-6:-1])"
   ]
  },
  {
   "cell_type": "code",
   "execution_count": 17,
   "metadata": {},
   "outputs": [
    {
     "name": "stdout",
     "output_type": "stream",
     "text": [
      "\n",
      "\n"
     ]
    }
   ],
   "source": [
    "string = ''\n",
    "print(string)       # this will work\n",
    "print(string[:1])   # this will work\n",
    "# print(string[0])   # this will produce an error"
   ]
  },
  {
   "cell_type": "code",
   "execution_count": 18,
   "metadata": {},
   "outputs": [
    {
     "name": "stdout",
     "output_type": "stream",
     "text": [
      "\n",
      "\n",
      "\n",
      "\n"
     ]
    }
   ],
   "source": [
    "# General form is [start:stop:step]\n",
    "\n",
    "print(string[3:9:2])    # start at 3, ends at 6, every second letter\n",
    "\n",
    "print(string[::-1])     # returns the string backwards\n",
    "\n",
    "print(string[12:0:-1])  # returns string backwards without first letter\n",
    "print(string[12::-1])   # this returns the string backwards as well"
   ]
  },
  {
   "cell_type": "code",
   "execution_count": 19,
   "metadata": {},
   "outputs": [
    {
     "name": "stdout",
     "output_type": "stream",
     "text": [
      "qpo\n",
      "qpo\n",
      "edcba\n",
      "edcba\n",
      "zyxwvuts\n",
      "zyxwvuts\n"
     ]
    }
   ],
   "source": [
    "# Challenge\n",
    "letters = 'abcdefghijklmnopqrstuvwxyz'\n",
    "\n",
    "# 1) Create a slice that produces the characters qpo\n",
    "print(letters[-10:-13:-1])\n",
    "print(letters[16:13:-1])\n",
    "\n",
    "# 2) Slice the string to produce edcba\n",
    "print(letters[-22::-1])\n",
    "print(letters[4::-1])\n",
    "\n",
    "# 3) Slice the string to produce the last 8 characters, in reverse order\n",
    "print(letters[:-9:-1])\n",
    "print(letters[26:17:-1])"
   ]
  },
  {
   "cell_type": "markdown",
   "metadata": {},
   "source": [
    "<a id='methods'></a>\n",
    "## BASIC BUILT-IN STRING METHODS\n",
    "Documentation: https://docs.python.org/3/library/stdtypes.html#string-methods<br>\n",
    "Useful resource: https://www.w3schools.com/python/python_ref_string.asp\n",
    "\n",
    "Objects in Python usually have built-in methods. These methods are functions inside the object that can perform actions or commands on the object itself. String objects have a variety of methods we can use to save time and add functionality.    \n",
    "\n",
    "We call methods with a period and then the method name:<br>\n",
    "`object.method(parameters)`<br>\n",
    "where parameters are extra arguments we can pass into the method. "
   ]
  },
  {
   "cell_type": "code",
   "execution_count": 20,
   "metadata": {
    "scrolled": true
   },
   "outputs": [
    {
     "name": "stdout",
     "output_type": "stream",
     "text": [
      "4\n",
      "7\n",
      "3\n",
      "12\n"
     ]
    }
   ],
   "source": [
    "string = \"Hello World!\"\n",
    "\n",
    "# returns the index number for the first occurence of 'o'\n",
    "print(string.index(\"o\"))  \n",
    "\n",
    "# if we needed the second 'o' we could do\n",
    "print(string.index('W')+1) \n",
    "\n",
    "# returns the number of times the letter 'l' occurs\n",
    "print(string.count('l')) \n",
    "\n",
    "# returns the number of characters (including spaces, etc...)\n",
    "print(len(string))        "
   ]
  },
  {
   "cell_type": "code",
   "execution_count": 21,
   "metadata": {},
   "outputs": [
    {
     "data": {
      "text/plain": [
       "3"
      ]
     },
     "execution_count": 21,
     "metadata": {},
     "output_type": "execute_result"
    }
   ],
   "source": [
    "# returns the starting index position of the first occurence\n",
    "string.find('lo') "
   ]
  },
  {
   "cell_type": "markdown",
   "metadata": {},
   "source": [
    "We can use the multiplication symbol to create repetition!"
   ]
  },
  {
   "cell_type": "code",
   "execution_count": 22,
   "metadata": {},
   "outputs": [
    {
     "data": {
      "text/plain": [
       "'zzzzzzzzzz'"
      ]
     },
     "execution_count": 22,
     "metadata": {},
     "output_type": "execute_result"
    }
   ],
   "source": [
    "letter = 'z'\n",
    "letter*10"
   ]
  },
  {
   "cell_type": "code",
   "execution_count": 23,
   "metadata": {},
   "outputs": [
    {
     "ename": "TypeError",
     "evalue": "'str' object does not support item assignment",
     "output_type": "error",
     "traceback": [
      "\u001b[1;31m---------------------------------------------------------------------------\u001b[0m",
      "\u001b[1;31mTypeError\u001b[0m                                 Traceback (most recent call last)",
      "\u001b[1;32m<ipython-input-23-b21de25c880d>\u001b[0m in \u001b[0;36m<module>\u001b[1;34m\u001b[0m\n\u001b[0;32m      3\u001b[0m \u001b[1;33m\u001b[0m\u001b[0m\n\u001b[0;32m      4\u001b[0m \u001b[0ms\u001b[0m \u001b[1;33m=\u001b[0m \u001b[1;34m'Hello'\u001b[0m\u001b[1;33m\u001b[0m\u001b[1;33m\u001b[0m\u001b[0m\n\u001b[1;32m----> 5\u001b[1;33m \u001b[0ms\u001b[0m\u001b[1;33m[\u001b[0m\u001b[1;36m0\u001b[0m\u001b[1;33m]\u001b[0m \u001b[1;33m=\u001b[0m \u001b[1;34m'Y'\u001b[0m     \u001b[1;31m# we cannot change the 'H' to a 'Y'\u001b[0m\u001b[1;33m\u001b[0m\u001b[1;33m\u001b[0m\u001b[0m\n\u001b[0m\u001b[0;32m      6\u001b[0m \u001b[0mprint\u001b[0m\u001b[1;33m(\u001b[0m\u001b[0ms\u001b[0m\u001b[1;33m)\u001b[0m\u001b[1;33m\u001b[0m\u001b[1;33m\u001b[0m\u001b[0m\n",
      "\u001b[1;31mTypeError\u001b[0m: 'str' object does not support item assignment"
     ]
    }
   ],
   "source": [
    "# produces an error since strings are immutable and cannot \n",
    "# be changed once created.\n",
    "\n",
    "s = 'Hello'\n",
    "s[0] = 'Y'     # we cannot change the 'H' to a 'Y'\n",
    "print(s)"
   ]
  },
  {
   "cell_type": "code",
   "execution_count": 24,
   "metadata": {},
   "outputs": [
    {
     "name": "stdout",
     "output_type": "stream",
     "text": [
      "Yello\n",
      "Hello\n"
     ]
    }
   ],
   "source": [
    "print(s.replace('H', 'Y'))\n",
    "print(s)"
   ]
  },
  {
   "cell_type": "code",
   "execution_count": 25,
   "metadata": {},
   "outputs": [
    {
     "name": "stdout",
     "output_type": "stream",
     "text": [
      "HELLO WORLD!\n",
      "hello world!\n",
      "hello world!\n",
      "True\n",
      "False\n"
     ]
    }
   ],
   "source": [
    "astring = \"Hello World!\"\n",
    "print(astring.upper())     # Convert all the string characters to CAPITAL letters\n",
    "print(astring.lower())     # Convert the string to lowercase letters \n",
    "print(astring.casefold())  # Converts all characters to lower case\n",
    "\n",
    "print(astring.startswith(\"Hello\"))       # checks if the string starts with 'hello' and returns True or False. s[0]\n",
    "print(astring.endswith(\"asdfasdfasdf\"))  # same as above but checks the end of the string. s[-1]"
   ]
  },
  {
   "cell_type": "code",
   "execution_count": 26,
   "metadata": {},
   "outputs": [
    {
     "data": {
      "text/plain": [
       "'Hello world!'"
      ]
     },
     "execution_count": 26,
     "metadata": {},
     "output_type": "execute_result"
    }
   ],
   "source": [
    "astring.capitalize()  # sets the first letter of the string to a capital"
   ]
  },
  {
   "cell_type": "code",
   "execution_count": 27,
   "metadata": {},
   "outputs": [
    {
     "data": {
      "text/plain": [
       "'Hello World!'"
      ]
     },
     "execution_count": 27,
     "metadata": {},
     "output_type": "execute_result"
    }
   ],
   "source": [
    "astring.title()  # capitalizes the first letter of each word in a string"
   ]
  },
  {
   "cell_type": "code",
   "execution_count": 28,
   "metadata": {},
   "outputs": [
    {
     "data": {
      "text/plain": [
       "'hELLO wORLD!'"
      ]
     },
     "execution_count": 28,
     "metadata": {},
     "output_type": "execute_result"
    }
   ],
   "source": [
    "astring.swapcase()  # inverts the casing for each element in the string"
   ]
  },
  {
   "cell_type": "code",
   "execution_count": 29,
   "metadata": {},
   "outputs": [
    {
     "name": "stdout",
     "output_type": "stream",
     "text": [
      "True\n",
      "False\n"
     ]
    }
   ],
   "source": [
    "def palindrome_check(word):\n",
    "    # check against full sequence in reverse order\n",
    "    if word == word[::-1]:  \n",
    "        return True\n",
    "    #else:\n",
    "    #    return False\n",
    "    return False\n",
    "\n",
    "print(palindrome_check(\"kayak\"))  # True\n",
    "print(palindrome_check(\"lemon\"))  # False"
   ]
  },
  {
   "cell_type": "markdown",
   "metadata": {},
   "source": [
    "**Remember, strings are immutable. None of the above methods change the string in place, they only return modified copies of the original string.**"
   ]
  },
  {
   "cell_type": "markdown",
   "metadata": {},
   "source": [
    "<a id='isin'></a>\n",
    "## is / in CHECK METHODS\n",
    "These various methods below check if the string is some case. Let's explore them:"
   ]
  },
  {
   "cell_type": "code",
   "execution_count": 30,
   "metadata": {},
   "outputs": [
    {
     "name": "stdout",
     "output_type": "stream",
     "text": [
      "True\n",
      "True\n",
      "True\n",
      "False\n",
      "False\n"
     ]
    }
   ],
   "source": [
    "s = 'hello'\n",
    "\n",
    "# returns True if all characters in s are alphanumeric:\n",
    "print(s.isalnum())\n",
    "\n",
    "# returns True if all characters in s are alphabetic:\n",
    "print(s.isalpha())\n",
    "\n",
    "# returns True if all cased characters in s are lowercase (extends to uppercase as well):\n",
    "print(s.islower())\n",
    "\n",
    "# returns True if all characters in s are whitespace (i.e an empty string):\n",
    "print(s.isspace())\n",
    "\n",
    "# returns True if s is a title cased string:\n",
    "print(s.istitle())"
   ]
  },
  {
   "cell_type": "code",
   "execution_count": 31,
   "metadata": {},
   "outputs": [
    {
     "name": "stdout",
     "output_type": "stream",
     "text": [
      "False\n",
      "False\n"
     ]
    }
   ],
   "source": [
    "# returns True if the string is a numeric string, False otherwise.\n",
    "print(s.isnumeric())\n",
    "\n",
    "# A string is numeric if all characters in the string are numeric and there is at\n",
    "# least one character in the string.\n",
    "\n",
    "# returns True if the string is a digit string, False otherwise.\n",
    "print(s.isdigit())"
   ]
  },
  {
   "cell_type": "code",
   "execution_count": 32,
   "metadata": {},
   "outputs": [
    {
     "data": {
      "text/plain": [
       "True"
      ]
     },
     "execution_count": 32,
     "metadata": {},
     "output_type": "execute_result"
    }
   ],
   "source": [
    "'h' in s"
   ]
  },
  {
   "cell_type": "code",
   "execution_count": 33,
   "metadata": {},
   "outputs": [
    {
     "data": {
      "text/plain": [
       "False"
      ]
     },
     "execution_count": 33,
     "metadata": {},
     "output_type": "execute_result"
    }
   ],
   "source": [
    "'h' not in s"
   ]
  },
  {
   "cell_type": "code",
   "execution_count": 34,
   "metadata": {},
   "outputs": [
    {
     "name": "stdout",
     "output_type": "stream",
     "text": [
      "False\n",
      "True\n",
      "False\n",
      "True\n"
     ]
    }
   ],
   "source": [
    "print('x' in [1,2,3])        #False\n",
    "\n",
    "print('x' in ['x','y','z'])  #True\n",
    "\n",
    "print('x' in ['xyz'])        #False\n",
    "\n",
    "print('x' in 'xyz')          #True"
   ]
  },
  {
   "cell_type": "markdown",
   "metadata": {},
   "source": [
    "<a id='split'></a>\n",
    "## SPLIT, JOIN, REPLACE & STRIP\n",
    "Strings have some built-in methods that can resemble regular expression operations.\n",
    "We can use <code>split()</code> to split the string at a certain element and return a list of the results.\n",
    "We can use <code>partition()</code> to return a tuple that includes the first occurrence of the separator sandwiched between the first half and the end half."
   ]
  },
  {
   "cell_type": "code",
   "execution_count": 35,
   "metadata": {},
   "outputs": [
    {
     "data": {
      "text/plain": [
       "'Hello World'"
      ]
     },
     "execution_count": 35,
     "metadata": {},
     "output_type": "execute_result"
    }
   ],
   "source": [
    "bstring = \"   Hello World   \"\n",
    "bstring.strip()          #removes all blank spaces on either ends of the string"
   ]
  },
  {
   "cell_type": "code",
   "execution_count": 36,
   "metadata": {},
   "outputs": [
    {
     "name": "stdout",
     "output_type": "stream",
     "text": [
      "Hello World\n",
      "Hello World$$$\n",
      "$$$Hello World\n"
     ]
    }
   ],
   "source": [
    "cstring = \"$$$Hello World$$$\"\n",
    "print(cstring.strip('$')) #only removes $ at the beginning or end of a string    \n",
    "\n",
    "print(cstring.lstrip('$'))  # only removes from the left hand side\n",
    "\n",
    "print(cstring.rstrip('$'))  # only removes from the right hand side"
   ]
  },
  {
   "cell_type": "code",
   "execution_count": 37,
   "metadata": {},
   "outputs": [
    {
     "name": "stdout",
     "output_type": "stream",
     "text": [
      "HelloWorld\n",
      "   Yello World   \n"
     ]
    }
   ],
   "source": [
    "print(bstring.replace(\" \", '') ) #locates every ' ' in the string a replaces it with ''\n",
    "\n",
    "print(bstring.replace('H', 'Y'))"
   ]
  },
  {
   "cell_type": "code",
   "execution_count": 38,
   "metadata": {},
   "outputs": [
    {
     "name": "stdout",
     "output_type": "stream",
     "text": [
      "['hello', 'world!']\n",
      "['h', 'llo world!']\n"
     ]
    }
   ],
   "source": [
    "astring = \"hello world!\"\n",
    "\n",
    "print(astring.split())   # Splits a string by blank space (this is the default)\n",
    "\n",
    "# Splits at all instances by a specific element (doesn't include the element that was split on)\n",
    "print(astring.split('e'))"
   ]
  },
  {
   "cell_type": "code",
   "execution_count": 39,
   "metadata": {},
   "outputs": [
    {
     "data": {
      "text/plain": [
       "('he', 'l', 'lo world!')"
      ]
     },
     "execution_count": 39,
     "metadata": {},
     "output_type": "execute_result"
    }
   ],
   "source": [
    "#splits at the first instance\n",
    "astring.partition('l')"
   ]
  },
  {
   "cell_type": "code",
   "execution_count": 40,
   "metadata": {},
   "outputs": [
    {
     "data": {
      "text/plain": [
       "'h_e_l_l_o_ _w_o_r_l_d_!'"
      ]
     },
     "execution_count": 40,
     "metadata": {},
     "output_type": "execute_result"
    }
   ],
   "source": [
    "'_'.join(astring)   #use _ to join all elements in astring"
   ]
  },
  {
   "cell_type": "code",
   "execution_count": 41,
   "metadata": {},
   "outputs": [
    {
     "data": {
      "text/plain": [
       "['hello']"
      ]
     },
     "execution_count": 41,
     "metadata": {},
     "output_type": "execute_result"
    }
   ],
   "source": [
    "test = 'hello'\n",
    "test.split()"
   ]
  },
  {
   "cell_type": "code",
   "execution_count": 42,
   "metadata": {},
   "outputs": [
    {
     "data": {
      "text/plain": [
       "['h', 'e', 'l', 'l', 'o']"
      ]
     },
     "execution_count": 42,
     "metadata": {},
     "output_type": "execute_result"
    }
   ],
   "source": [
    "'.'.join(test).split('.')"
   ]
  },
  {
   "cell_type": "code",
   "execution_count": 43,
   "metadata": {},
   "outputs": [
    {
     "data": {
      "text/plain": [
       "'Hello World!'"
      ]
     },
     "execution_count": 43,
     "metadata": {},
     "output_type": "execute_result"
    }
   ],
   "source": [
    "new_string = []\n",
    "for word in astring.split():\n",
    "    new_string.append(word.capitalize())\n",
    "    \n",
    "' '.join(new_string)"
   ]
  },
  {
   "cell_type": "code",
   "execution_count": 44,
   "metadata": {
    "scrolled": true
   },
   "outputs": [
    {
     "data": {
      "text/plain": [
       "'Hello'"
      ]
     },
     "execution_count": 44,
     "metadata": {},
     "output_type": "execute_result"
    }
   ],
   "source": [
    "' '.join(word.capitalize() for word in s.split())"
   ]
  },
  {
   "cell_type": "code",
   "execution_count": 45,
   "metadata": {
    "scrolled": false
   },
   "outputs": [
    {
     "name": "stdout",
     "output_type": "stream",
     "text": [
      ",;: ,;\n",
      "['9', '223', '372', '036', '854', '775', '807']\n",
      "[9, 223, 372, 36, 854, 775, 807]\n"
     ]
    }
   ],
   "source": [
    "number = \"9,223;372:036 854,775;807\"\n",
    "seperators = number[1::4]     #starts at index 1 (inclusive) and then counts 4 steps until the end\n",
    "print(seperators)\n",
    "\n",
    "#this first determine whether each char is a number or a seperator, then splits into a list of strings.\n",
    "values = \"\".join(char if char not in seperators else \" \" for char in number).split()\n",
    "\n",
    "print(values)\n",
    "print([int(val) for val in values])  #converts the values from a string into an integer"
   ]
  },
  {
   "cell_type": "code",
   "execution_count": 46,
   "metadata": {},
   "outputs": [
    {
     "name": "stdout",
     "output_type": "stream",
     "text": [
      "['a0', '12', '90', '00', '80', '43']\n",
      "a01290008043\n"
     ]
    }
   ],
   "source": [
    "# Challenge\n",
    "\n",
    "# Consider the string: my_string = 'a0:12:90:00:80:43'.\n",
    "# Write a code that will return a list consisting of the elements of this string which are delimited by a colon,\n",
    "# using a string-specific method.\n",
    "\n",
    "my_string = 'a0:12:90:00:80:43'\n",
    "print(my_string.split(':'))\n",
    "print(''.join(my_string.split(':')))"
   ]
  },
  {
   "cell_type": "markdown",
   "metadata": {},
   "source": [
    "<a id='userinput'></a>\n",
    "## USER INPUT\n",
    "\n",
    "We use input() to present the user with a prompt. \n",
    "They can then type, and when they press 'Enter' everything they typed gets returned.\n",
    "We can assign that to a variable if we want!\n",
    "Just remember that `input()` by itself will always return the users response as a string."
   ]
  },
  {
   "cell_type": "code",
   "execution_count": 47,
   "metadata": {},
   "outputs": [
    {
     "name": "stdout",
     "output_type": "stream",
     "text": [
      "Enter your name: barry\n",
      "Hello barry. My name is Bob.\n"
     ]
    }
   ],
   "source": [
    "name = \"Bob\"\n",
    "your_name = input(\"Enter your name: \")\n",
    "\n",
    "print(f\"Hello {your_name}. My name is {name}.\")"
   ]
  },
  {
   "cell_type": "code",
   "execution_count": 48,
   "metadata": {},
   "outputs": [
    {
     "name": "stdout",
     "output_type": "stream",
     "text": [
      "Enter your age: 35\n",
      "You have lived for 353535353535353535353535 months.\n"
     ]
    }
   ],
   "source": [
    "## Calculating months\n",
    "\n",
    "age = input(\"Enter your age: \")  # Enter 3\n",
    "print(f\"You have lived for {age * 12} months.\")  "
   ]
  },
  {
   "cell_type": "code",
   "execution_count": 49,
   "metadata": {},
   "outputs": [
    {
     "name": "stdout",
     "output_type": "stream",
     "text": [
      "Enter your age: 35\n",
      "You have lived for 420 months.\n"
     ]
    }
   ],
   "source": [
    "\"\"\"\n",
    "It doesn't work quite as we'd expect.\n",
    "\n",
    "That's because we're multiplying the string '3' by 12, which concatenates the string twelve times.\n",
    "Instead we want to multiply the number. We'll have to convert our string to a number first.\n",
    "\"\"\"\n",
    "\n",
    "age = input(\"Enter your age: \")  \n",
    "age_num = int(age)\n",
    "print(f\"You have lived for {age_num * 12} months.\") "
   ]
  },
  {
   "cell_type": "code",
   "execution_count": 50,
   "metadata": {},
   "outputs": [
    {
     "name": "stdout",
     "output_type": "stream",
     "text": [
      "Enter your age: 35\n",
      "You have lived for 420 months.\n"
     ]
    }
   ],
   "source": [
    "\"\"\"\n",
    "We could do it in one line, a bit more simply.\n",
    "After all, `age` doesn't need to be a string at any point.\n",
    "\"\"\"\n",
    "\n",
    "age = int(input(\"Enter your age: \"))  \n",
    "print(f\"You have lived for {age * 12} months.\")  "
   ]
  },
  {
   "cell_type": "code",
   "execution_count": 51,
   "metadata": {},
   "outputs": [
    {
     "name": "stdout",
     "output_type": "stream",
     "text": [
      "Enter your age: 35\n",
      "You have lived for 420 months.\n"
     ]
    }
   ],
   "source": [
    "\"\"\"\n",
    "A better option would be to create a `months` variable, as that is cleaner to read.\n",
    "\"\"\"\n",
    "\n",
    "age = int(input(\"Enter your age: \"))  \n",
    "months = age * 12\n",
    "print(f\"You have lived for {months} months.\")  "
   ]
  },
  {
   "cell_type": "markdown",
   "metadata": {},
   "source": [
    "<a id='format'></a>\n",
    "## STRING FORMATTING\n",
    "\n",
    "String formatting lets you inject items into a string rather than trying to chain items together using commas or string concatenation. \n",
    "\n",
    "There are three ways to perform string formatting.\n",
    "* The oldest method involves placeholders using the modulo `%` character.\n",
    "* An improved technique uses the `.format()` string method. \n",
    "* The newest method, introduced with Python 3.6, uses formatted string literals, called *f-strings*."
   ]
  },
  {
   "cell_type": "markdown",
   "metadata": {},
   "source": [
    "### Formatting with placeholders\n",
    "You can use <code>%s</code> to inject strings into your print statements. The modulo `%` is referred to as a \"string formatting operator\"."
   ]
  },
  {
   "cell_type": "code",
   "execution_count": 52,
   "metadata": {},
   "outputs": [
    {
     "name": "stdout",
     "output_type": "stream",
     "text": [
      "John is 23 years old.\n"
     ]
    }
   ],
   "source": [
    "# This prints out \"John is 23 years old.\"\n",
    "name = \"John\"\n",
    "age = 23\n",
    "print(\"%s is %d years old.\" % (name, age))"
   ]
  },
  {
   "cell_type": "code",
   "execution_count": 53,
   "metadata": {},
   "outputs": [
    {
     "name": "stdout",
     "output_type": "stream",
     "text": [
      "Hello, john!\n",
      "Hello, michael!\n",
      "Hello, benji!\n",
      "The names on the list are ['john', 'michael', 'benji']\n",
      "The names on the list are ['john', 'michael', 'benji']\n",
      "The second name on the list is michael\n",
      "The second name on the list is michael\n"
     ]
    }
   ],
   "source": [
    "# This prints out \"Hello, John!\"\n",
    "names = ['john', 'michael', 'benji']\n",
    "for name in names:\n",
    "    print(\"Hello, %s!\" % name)\n",
    "\n",
    "print('The names on the list are %s' % names)\n",
    "print('The names on the list are', names[:])\n",
    "\n",
    "print('The second name on the list is', names[1])\n",
    "print('The second name on the list is %s' % names[1])"
   ]
  },
  {
   "cell_type": "code",
   "execution_count": 54,
   "metadata": {},
   "outputs": [],
   "source": [
    "# Here are some basic argument specifiers you should know:\n",
    "\n",
    "# %s - String (or any object with a string representation, like numbers)\n",
    "\n",
    "# %d - Integers\n",
    "\n",
    "# %f - Floating point numbers\n",
    "\n",
    "# %.<number of digits>f - Floating point numbers with a fixed amount of digits to the right of the dot.\n",
    "\n",
    "# %x/%X - Integers in hex representation (lowercase/uppercase)"
   ]
  },
  {
   "cell_type": "code",
   "execution_count": 55,
   "metadata": {
    "scrolled": true
   },
   "outputs": [
    {
     "name": "stdout",
     "output_type": "stream",
     "text": [
      "Hello John Doe. Your current balance is $53.44.\n"
     ]
    }
   ],
   "source": [
    "data = (\"John\", \"Doe\", 53.44)\n",
    "format_string = \"Hello %s %s. Your current balance is $%s.\"\n",
    "\n",
    "print(format_string % data)"
   ]
  },
  {
   "cell_type": "code",
   "execution_count": 56,
   "metadata": {},
   "outputs": [
    {
     "name": "stdout",
     "output_type": "stream",
     "text": [
      "My first car was a OBS.\n",
      "My first car was a {favorite_cars[2].upper()}.\n"
     ]
    }
   ],
   "source": [
    "favorite_cars = ['landcruiser', 'tacoma', 'obs', 'jeep']\n",
    "message = f\"My first car was a {favorite_cars[2].upper()}.\"\n",
    "print(message)\n",
    "\n",
    "favorite_cars = ['landcruiser', 'tacoma', 'obs', 'jeep']\n",
    "message = \"My first car was a {favorite_cars[2].upper()}.\"\n",
    "print(message)"
   ]
  },
  {
   "cell_type": "markdown",
   "metadata": {},
   "source": [
    "It should be noted that two methods <code>%s</code> and <code>%r</code> convert any python object to a string using two separate methods: `str()` and `repr()`. We will learn more about these functions later on in the course, but you should note that `%r` and `repr()` deliver the *string representation* of the object, including quotation marks and any escape characters."
   ]
  },
  {
   "cell_type": "code",
   "execution_count": 57,
   "metadata": {},
   "outputs": [
    {
     "name": "stdout",
     "output_type": "stream",
     "text": [
      "He said his name was Fred.\n",
      "He said his name was 'Fred'.\n"
     ]
    }
   ],
   "source": [
    "print('He said his name was %s.' %'Fred')\n",
    "print('He said his name was %r.' %'Fred')"
   ]
  },
  {
   "cell_type": "markdown",
   "metadata": {},
   "source": [
    "As another example, `\\t` inserts a tab into a string."
   ]
  },
  {
   "cell_type": "code",
   "execution_count": 58,
   "metadata": {},
   "outputs": [
    {
     "name": "stdout",
     "output_type": "stream",
     "text": [
      "I once caught a fish this \tbig.\n",
      "I once caught a fish 'this \\tbig'.\n"
     ]
    }
   ],
   "source": [
    "print('I once caught a fish %s.' %'this \\tbig')\n",
    "print('I once caught a fish %r.' %'this \\tbig')"
   ]
  },
  {
   "cell_type": "markdown",
   "metadata": {},
   "source": [
    "The `%s` operator converts whatever it sees into a string, including integers and floats. The `%d` operator converts numbers to integers first, without rounding. Note the difference below:"
   ]
  },
  {
   "cell_type": "code",
   "execution_count": 59,
   "metadata": {
    "scrolled": true
   },
   "outputs": [
    {
     "name": "stdout",
     "output_type": "stream",
     "text": [
      "I wrote 3.75 programs today.\n",
      "I wrote 3 programs today.\n"
     ]
    }
   ],
   "source": [
    "print('I wrote %s programs today.' %3.75)\n",
    "print('I wrote %d programs today.' %3.75)   "
   ]
  },
  {
   "cell_type": "markdown",
   "metadata": {},
   "source": [
    "### Multiple Formatting\n",
    "Nothing prohibits using more than one conversion tool in the same print statement:"
   ]
  },
  {
   "cell_type": "code",
   "execution_count": 60,
   "metadata": {},
   "outputs": [
    {
     "name": "stdout",
     "output_type": "stream",
     "text": [
      "First: hi!, Second:  3.14, Third: 'bye!'\n"
     ]
    }
   ],
   "source": [
    "print('First: %s, Second: %5.2f, Third: %r' %('hi!',3.1415,'bye!'))"
   ]
  },
  {
   "cell_type": "markdown",
   "metadata": {},
   "source": [
    "### Padding and Precision of Floating Point Numbers\n",
    "Floating point numbers use the format <code>%5.2f</code>. Here, <code>5</code> would be the minimum number of characters the string should contain; these may be padded with whitespace if the entire number does not have this many digits. Next to this, <code>.2f</code> stands for how many numbers to show past the decimal point. Let's see some examples:"
   ]
  },
  {
   "cell_type": "code",
   "execution_count": 61,
   "metadata": {},
   "outputs": [
    {
     "name": "stdout",
     "output_type": "stream",
     "text": [
      "Floating point numbers: 13.14\n"
     ]
    }
   ],
   "source": [
    "print('Floating point numbers: %5.2f' %(13.144))"
   ]
  },
  {
   "cell_type": "code",
   "execution_count": 62,
   "metadata": {},
   "outputs": [
    {
     "name": "stdout",
     "output_type": "stream",
     "text": [
      "Floating point numbers: 13\n"
     ]
    }
   ],
   "source": [
    "print('Floating point numbers: %1.0f' %(13.144))"
   ]
  },
  {
   "cell_type": "code",
   "execution_count": 63,
   "metadata": {},
   "outputs": [
    {
     "name": "stdout",
     "output_type": "stream",
     "text": [
      "Floating point numbers: 13.14400\n"
     ]
    }
   ],
   "source": [
    "print('Floating point numbers: %1.5f' %(13.144))"
   ]
  },
  {
   "cell_type": "code",
   "execution_count": 64,
   "metadata": {},
   "outputs": [
    {
     "name": "stdout",
     "output_type": "stream",
     "text": [
      "Floating point numbers:      13.14\n"
     ]
    }
   ],
   "source": [
    "print('Floating point numbers: %10.2f' %(13.144))"
   ]
  },
  {
   "cell_type": "code",
   "execution_count": 65,
   "metadata": {
    "scrolled": false
   },
   "outputs": [
    {
     "name": "stdout",
     "output_type": "stream",
     "text": [
      "Floating point numbers:                     13.14\n"
     ]
    }
   ],
   "source": [
    "print('Floating point numbers: %25.2f' %(13.144))"
   ]
  },
  {
   "cell_type": "code",
   "execution_count": 66,
   "metadata": {},
   "outputs": [
    {
     "name": "stdout",
     "output_type": "stream",
     "text": [
      "Hello John Doe. Your current balance is $53.44.\n"
     ]
    }
   ],
   "source": [
    "data = (\"John\", \"Doe\", 53.44)\n",
    "\n",
    "print('Hello %s %s. Your current balance is $%.2f.' % data)   #the .2 refers to the number of decimal places"
   ]
  },
  {
   "cell_type": "markdown",
   "metadata": {},
   "source": [
    "### Formatting with the `.format()` method\n",
    "A better way to format objects into your strings for print statements is with the string `.format()` method. The syntax is:\n",
    "\n",
    "    'String here {} then also {}'.format('something1','something2')\n",
    "    \n",
    "For example:"
   ]
  },
  {
   "cell_type": "code",
   "execution_count": 67,
   "metadata": {
    "scrolled": true
   },
   "outputs": [
    {
     "name": "stdout",
     "output_type": "stream",
     "text": [
      "This is a string with an insert\n"
     ]
    }
   ],
   "source": [
    "print('This is a string with an {}'.format('insert'))"
   ]
  },
  {
   "cell_type": "code",
   "execution_count": 68,
   "metadata": {},
   "outputs": [
    {
     "name": "stdout",
     "output_type": "stream",
     "text": [
      "How are you, Michael?\n"
     ]
    }
   ],
   "source": [
    "name = 'Michael'\n",
    "final_greeting = \"How are you, {}?\".format(name)\n",
    "print(final_greeting)\n",
    "\n",
    "# The {} gets replaced by whatever is inside the brackets of the .format()"
   ]
  },
  {
   "cell_type": "code",
   "execution_count": 69,
   "metadata": {},
   "outputs": [
    {
     "name": "stdout",
     "output_type": "stream",
     "text": [
      "Goodbye, Rolf!\n",
      "How are you, Michael?\n"
     ]
    }
   ],
   "source": [
    "# You can also give names to variables inside a formattable string:\n",
    "\n",
    "friend_name = \"Rolf\"\n",
    "goodbye = \"Goodbye, {name}!\"\n",
    "goodbye_rolf = goodbye.format(name=friend_name)\n",
    "print(goodbye_rolf)\n",
    "\n",
    "\n",
    "# Another example of using `.format()` on a variable:\n",
    "\n",
    "greeting = \"How are you, {}?\"\n",
    "print(greeting.format(name))\n",
    "\n",
    "# Usually you will be using f-strings, just because they are shorter and more readable.\n",
    "# However sometimes you may need to re-use a format string, and that is when using .format() is useful."
   ]
  },
  {
   "cell_type": "code",
   "execution_count": 70,
   "metadata": {},
   "outputs": [
    {
     "name": "stdout",
     "output_type": "stream",
     "text": [
      "Bob is 30 years old.\n"
     ]
    }
   ],
   "source": [
    "description = '{} is {} years old.'\n",
    "print(description.format('Bob', 30))"
   ]
  },
  {
   "cell_type": "code",
   "execution_count": 71,
   "metadata": {},
   "outputs": [
    {
     "name": "stdout",
     "output_type": "stream",
     "text": [
      "Bob is 30 years old.\n"
     ]
    }
   ],
   "source": [
    "description = '{} is {age} years old.'\n",
    "print(description.format('Bob', age=30))"
   ]
  },
  {
   "cell_type": "markdown",
   "metadata": {},
   "source": [
    "### The .format() method has several advantages over the %s placeholder method:"
   ]
  },
  {
   "cell_type": "markdown",
   "metadata": {},
   "source": [
    "#### 1. Inserted objects can be called by index position:"
   ]
  },
  {
   "cell_type": "code",
   "execution_count": 72,
   "metadata": {},
   "outputs": [
    {
     "name": "stdout",
     "output_type": "stream",
     "text": [
      "The quick brown fox\n"
     ]
    }
   ],
   "source": [
    "print('The {2} {1} {0}'.format('fox','brown','quick'))"
   ]
  },
  {
   "cell_type": "code",
   "execution_count": 73,
   "metadata": {},
   "outputs": [
    {
     "name": "stdout",
     "output_type": "stream",
     "text": [
      "Jan: 31, Feb: 28, Mar: 31, Apr: 30, May: 31, Jun: 30, Jul: 31, Aug: 31, Sep: 30, Oct: 31, Nov: 30, Dec: 31\n"
     ]
    }
   ],
   "source": [
    "print(\"Jan: {2}, Feb: {0}, Mar: {2}, Apr: {1}, May: {2}, Jun: {1}, Jul: {2}, Aug: {2}, Sep: {1}, Oct: {2}, \\\n",
    "Nov: {1}, Dec: {2}\".format(28, 30, 31))"
   ]
  },
  {
   "cell_type": "code",
   "execution_count": 74,
   "metadata": {},
   "outputs": [
    {
     "name": "stdout",
     "output_type": "stream",
     "text": [
      "Jan: 31, Feb: 28, Mar: 31, \n",
      "Apr: 30, May: 31, Jun: 30, Jul: 31, \n",
      "Aug: 31, Sep: 30, Oct: 31,\n",
      "Nov: 30, Dec: 31\n"
     ]
    }
   ],
   "source": [
    "print(\"\"\"Jan: {2}, Feb: {0}, Mar: {2}, \n",
    "Apr: {1}, May: {2}, Jun: {1}, Jul: {2}, \n",
    "Aug: {2}, Sep: {1}, Oct: {2},\n",
    "Nov: {1}, Dec: {2}\"\"\".format(28, 30, 31))"
   ]
  },
  {
   "cell_type": "markdown",
   "metadata": {},
   "source": [
    "#### 2. Inserted objects can be assigned keywords:"
   ]
  },
  {
   "cell_type": "code",
   "execution_count": 75,
   "metadata": {},
   "outputs": [
    {
     "name": "stdout",
     "output_type": "stream",
     "text": [
      "No. 1 squared is 1 and cubed is 1\n",
      "No. 2 squared is 4 and cubed is 8\n",
      "No. 3 squared is 9 and cubed is 27\n",
      "No. 4 squared is 16 and cubed is 64\n",
      "No. 5 squared is 25 and cubed is 125\n",
      "No. 6 squared is 36 and cubed is 216\n",
      "No. 7 squared is 49 and cubed is 343\n",
      "No. 8 squared is 64 and cubed is 512\n",
      "No. 9 squared is 81 and cubed is 729\n",
      "No. 10 squared is 100 and cubed is 1000\n",
      "No. 11 squared is 121 and cubed is 1331\n",
      "No. 12 squared is 144 and cubed is 1728\n"
     ]
    }
   ],
   "source": [
    "for i in range(1,13):\n",
    "    print(\"No. {0} squared is {1} and cubed is {2}\".format(i, i**2, i**3))"
   ]
  },
  {
   "cell_type": "code",
   "execution_count": 76,
   "metadata": {},
   "outputs": [
    {
     "name": "stdout",
     "output_type": "stream",
     "text": [
      "No.  1 squared is   1 and cubed is    1\n",
      "No.  2 squared is   4 and cubed is    8\n",
      "No.  3 squared is   9 and cubed is   27\n",
      "No.  4 squared is  16 and cubed is   64\n",
      "No.  5 squared is  25 and cubed is  125\n",
      "No.  6 squared is  36 and cubed is  216\n",
      "No.  7 squared is  49 and cubed is  343\n",
      "No.  8 squared is  64 and cubed is  512\n",
      "No.  9 squared is  81 and cubed is  729\n",
      "No. 10 squared is 100 and cubed is 1000\n",
      "No. 11 squared is 121 and cubed is 1331\n",
      "No. 12 squared is 144 and cubed is 1728\n"
     ]
    }
   ],
   "source": [
    "for i in range(1,13):\n",
    "    print(\"No. {0:2} squared is {1:3} and cubed is {2:4}\".format(i, i**2, i**3))"
   ]
  },
  {
   "cell_type": "code",
   "execution_count": 77,
   "metadata": {},
   "outputs": [
    {
     "name": "stdout",
     "output_type": "stream",
     "text": [
      "First Object: 1, Second Object: Two, Third Object: 12.3\n"
     ]
    }
   ],
   "source": [
    "print('First Object: {a}, Second Object: {b}, Third Object: {c}'.format(a=1,b='Two',c=12.3))"
   ]
  },
  {
   "cell_type": "markdown",
   "metadata": {},
   "source": [
    "#### 3. Inserted objects can be reused, avoiding duplication:"
   ]
  },
  {
   "cell_type": "code",
   "execution_count": 78,
   "metadata": {},
   "outputs": [
    {
     "name": "stdout",
     "output_type": "stream",
     "text": [
      "A penny saved is a penny earned.\n",
      "A penny saved is a penny earned.\n"
     ]
    }
   ],
   "source": [
    "print('A %s saved is a %s earned.' %('penny','penny'))\n",
    "# vs.\n",
    "print('A {p} saved is a {p} earned.'.format(p='penny'))"
   ]
  },
  {
   "cell_type": "markdown",
   "metadata": {},
   "source": [
    "### Alignment, padding and precision with `.format()`\n",
    "Within the curly braces you can assign field lengths, left/right alignments, rounding parameters and more"
   ]
  },
  {
   "cell_type": "code",
   "execution_count": 79,
   "metadata": {},
   "outputs": [
    {
     "name": "stdout",
     "output_type": "stream",
     "text": [
      "Fruit    | Quantity \n",
      "Apples   |      3.0\n",
      "Oranges  |       10\n"
     ]
    }
   ],
   "source": [
    "print('{0:8} | {1:9}'.format('Fruit', 'Quantity'))\n",
    "print('{0:8} | {1:8}'.format('Apples', 3.))\n",
    "print('{0:8} | {1:8}'.format('Oranges', 10))"
   ]
  },
  {
   "cell_type": "markdown",
   "metadata": {},
   "source": [
    "By default, `.format()` aligns text to the left, numbers to the right. You can pass an optional `<`,`^`, or `>` to set a left, center or right alignment:"
   ]
  },
  {
   "cell_type": "code",
   "execution_count": 80,
   "metadata": {},
   "outputs": [
    {
     "name": "stdout",
     "output_type": "stream",
     "text": [
      "Left     |  Center  |    Right\n",
      "11       |    22    |       33\n"
     ]
    }
   ],
   "source": [
    "print('{0:<8} | {1:^8} | {2:>8}'.format('Left','Center','Right'))\n",
    "print('{0:<8} | {1:^8} | {2:>8}'.format(11,22,33))"
   ]
  },
  {
   "cell_type": "markdown",
   "metadata": {},
   "source": [
    "You can precede the aligment operator with a padding character"
   ]
  },
  {
   "cell_type": "code",
   "execution_count": 81,
   "metadata": {},
   "outputs": [
    {
     "name": "stdout",
     "output_type": "stream",
     "text": [
      "Left==== | -Center- | ...Right\n",
      "11====== | ---22--- | ......33\n"
     ]
    }
   ],
   "source": [
    "print('{0:=<8} | {1:-^8} | {2:.>8}'.format('Left','Center','Right'))\n",
    "print('{0:=<8} | {1:-^8} | {2:.>8}'.format(11,22,33))"
   ]
  },
  {
   "cell_type": "markdown",
   "metadata": {},
   "source": [
    "Field widths and float precision are handled in a way similar to placeholders. The following two print statements are equivalent:"
   ]
  },
  {
   "cell_type": "code",
   "execution_count": 82,
   "metadata": {},
   "outputs": [
    {
     "name": "stdout",
     "output_type": "stream",
     "text": [
      "This is my ten-character, two-decimal number:     13.58\n",
      "This is my ten-character, two-decimal number:     13.58\n"
     ]
    }
   ],
   "source": [
    "print('This is my ten-character, two-decimal number:%10.2f' %13.579)\n",
    "print('This is my ten-character, two-decimal number:{0:10.2f}'.format(13.579))"
   ]
  },
  {
   "cell_type": "markdown",
   "metadata": {},
   "source": [
    "Note that there are 5 spaces following the colon, and 5 characters taken up by 13.58, for a total of ten characters."
   ]
  },
  {
   "cell_type": "code",
   "execution_count": 83,
   "metadata": {},
   "outputs": [
    {
     "name": "stdout",
     "output_type": "stream",
     "text": [
      "Pi is approximately 3.142857142857143\n",
      "Pi is approximately 3.142857142857143\n",
      "Pi is approximately 3.14285714285714279370154144999105483293533325195312\n",
      "Pi is approximately           3.14285714285714279370154144999105483293533325195312\n",
      "Pi is approximately                     3.14285714285714279370154144999105483293533325195312\n",
      "Pi is approximately 3.14285714285714279370154144999105483293533325195312                    \n",
      "Pi is approximately 3.142857142857142793701541449991054832935333251953125000                \n"
     ]
    }
   ],
   "source": [
    "print(\"Pi is approximately {0}\".format(22/7))\n",
    "print(\"Pi is approximately {0:12}\".format(22/7))\n",
    "print(\"Pi is approximately {0:52.50f}\".format(22/7))\n",
    "print(\"Pi is approximately {0:62.50f}\".format(22/7))\n",
    "print(\"Pi is approximately {0:72.50f}\".format(22/7))\n",
    "print(\"Pi is approximately {0:<72.50f}\".format(22/7))\n",
    "print(\"Pi is approximately {0:<72.54f}\".format(22/7))"
   ]
  },
  {
   "cell_type": "markdown",
   "metadata": {},
   "source": [
    "### Formatted String Literals (f-strings)"
   ]
  },
  {
   "cell_type": "markdown",
   "metadata": {},
   "source": [
    "Introduced in Python 3.6, f-strings offer several benefits over the older `.format()` string method described above. For one, you can bring outside variables immediately into to the string rather than pass them as arguments through `.format(var)`."
   ]
  },
  {
   "cell_type": "code",
   "execution_count": 84,
   "metadata": {},
   "outputs": [
    {
     "name": "stdout",
     "output_type": "stream",
     "text": [
      "How are you, Michael?\n"
     ]
    }
   ],
   "source": [
    "# f-strings don't work in Python 3.5 or earlier.\n",
    "# In f-strings, {name} gets replaced by the value of the variable name.\n",
    "\n",
    "another_greeting = f\"How are you, {name}?\"\n",
    "print(another_greeting)"
   ]
  },
  {
   "cell_type": "code",
   "execution_count": 85,
   "metadata": {},
   "outputs": [
    {
     "name": "stdout",
     "output_type": "stream",
     "text": [
      "He said his name is Fred.\n"
     ]
    }
   ],
   "source": [
    "name = 'Fred'\n",
    "\n",
    "print(f\"He said his name is {name}.\")"
   ]
  },
  {
   "cell_type": "markdown",
   "metadata": {},
   "source": [
    "Pass `!r` to get the string representation:"
   ]
  },
  {
   "cell_type": "code",
   "execution_count": 86,
   "metadata": {},
   "outputs": [
    {
     "name": "stdout",
     "output_type": "stream",
     "text": [
      "He said his name is 'Fred'\n"
     ]
    }
   ],
   "source": [
    "print(f\"He said his name is {name!r}\")"
   ]
  },
  {
   "cell_type": "code",
   "execution_count": 87,
   "metadata": {},
   "outputs": [
    {
     "name": "stdout",
     "output_type": "stream",
     "text": [
      "Name: 'rolf smith'\n",
      "Street: 123 no name road\n",
      "Postcode: py10 1cp\n",
      "Country: United Kingdom\n"
     ]
    }
   ],
   "source": [
    "name = 'rolf smith'\n",
    "street = '123 no name road'\n",
    "postcode = 'py10 1cp'\n",
    "\n",
    "address = f'''Name: {name!r}\n",
    "Street: {street}\n",
    "Postcode: {postcode}\n",
    "Country: United Kingdom'''\n",
    "\n",
    "print(address)"
   ]
  },
  {
   "cell_type": "markdown",
   "metadata": {},
   "source": [
    "#### Float formatting follows `\"result: {value:{width}.{precision}}\"`"
   ]
  },
  {
   "cell_type": "markdown",
   "metadata": {},
   "source": [
    "Where with the `.format()` method you might see `{value:10.4f}`, with f-strings this can become `{value:{10}.{6}}`\n"
   ]
  },
  {
   "cell_type": "code",
   "execution_count": 88,
   "metadata": {},
   "outputs": [
    {
     "name": "stdout",
     "output_type": "stream",
     "text": [
      "My 10 character, four decimal number is:   23.4568\n",
      "My 10 character, four decimal number is:   23.4568\n",
      "My 10 character, four decimal number is: 23.456780\n"
     ]
    }
   ],
   "source": [
    "num = 23.45678\n",
    "print(\"My 10 character, four decimal number is:{0:10.4f}\".format(num))\n",
    "print(f\"My 10 character, four decimal number is:{num:{10}.{6}}\")\n",
    "print(f\"My 10 character, four decimal number is: {num:.6f}\")"
   ]
  },
  {
   "cell_type": "markdown",
   "metadata": {},
   "source": [
    "Note that with f-strings, *precision* refers to the total number of digits, not just those following the decimal. This fits more closely with scientific notation and statistical analysis. Unfortunately, f-strings do not pad to the right of the decimal, even if precision allows it:"
   ]
  },
  {
   "cell_type": "code",
   "execution_count": 89,
   "metadata": {},
   "outputs": [
    {
     "name": "stdout",
     "output_type": "stream",
     "text": [
      "My 10 character, four decimal number is:   23.4500\n",
      "My 10 character, four decimal number is:     23.45\n"
     ]
    }
   ],
   "source": [
    "num = 23.45\n",
    "print(\"My 10 character, four decimal number is:{0:10.4f}\".format(num))\n",
    "print(f\"My 10 character, four decimal number is:{num:{10}.{6}}\")"
   ]
  },
  {
   "cell_type": "markdown",
   "metadata": {},
   "source": [
    "If this becomes important, you can always use `.format()` method syntax inside an f-string:"
   ]
  },
  {
   "cell_type": "code",
   "execution_count": 90,
   "metadata": {
    "scrolled": true
   },
   "outputs": [
    {
     "name": "stdout",
     "output_type": "stream",
     "text": [
      "My 10 character, four decimal number is:   23.4500\n",
      "My 10 character, four decimal number is:   23.4500\n"
     ]
    }
   ],
   "source": [
    "num = 23.45\n",
    "print(\"My 10 character, four decimal number is:{0:10.4f}\".format(num))\n",
    "print(f\"My 10 character, four decimal number is:{num:10.4f}\")"
   ]
  },
  {
   "cell_type": "code",
   "execution_count": 91,
   "metadata": {},
   "outputs": [
    {
     "name": "stdout",
     "output_type": "stream",
     "text": [
      "my number to 3 decimals is: 234.235.\n"
     ]
    }
   ],
   "source": [
    "number = 234.23493450295\n",
    "print(f'my number to 3 decimals is: {number:.3f}.')"
   ]
  },
  {
   "cell_type": "code",
   "execution_count": 92,
   "metadata": {},
   "outputs": [
    {
     "name": "stdout",
     "output_type": "stream",
     "text": [
      "No.  1 squared is   1 and cubed is    1\n",
      "No.  2 squared is   4 and cubed is    8\n",
      "No.  3 squared is   9 and cubed is   27\n",
      "No.  4 squared is  16 and cubed is   64\n",
      "No.  5 squared is  25 and cubed is  125\n",
      "No.  6 squared is  36 and cubed is  216\n",
      "No.  7 squared is  49 and cubed is  343\n",
      "No.  8 squared is  64 and cubed is  512\n",
      "No.  9 squared is  81 and cubed is  729\n",
      "No. 10 squared is 100 and cubed is 1000\n",
      "No. 11 squared is 121 and cubed is 1331\n",
      "No. 12 squared is 144 and cubed is 1728\n"
     ]
    }
   ],
   "source": [
    "for i in range(1,13):\n",
    "    print(f\"No. {i:2} squared is {i**2:3} and cubed is {i**3:4}\")"
   ]
  },
  {
   "cell_type": "code",
   "execution_count": 93,
   "metadata": {},
   "outputs": [
    {
     "name": "stdout",
     "output_type": "stream",
     "text": [
      "No.  1 squared is 1   and cubed is  1  \n",
      "No.  2 squared is 4   and cubed is  8  \n",
      "No.  3 squared is 9   and cubed is  27 \n",
      "No.  4 squared is 16  and cubed is  64 \n",
      "No.  5 squared is 25  and cubed is 125 \n",
      "No.  6 squared is 36  and cubed is 216 \n",
      "No.  7 squared is 49  and cubed is 343 \n",
      "No.  8 squared is 64  and cubed is 512 \n",
      "No.  9 squared is 81  and cubed is 729 \n",
      "No. 10 squared is 100 and cubed is 1000\n",
      "No. 11 squared is 121 and cubed is 1331\n",
      "No. 12 squared is 144 and cubed is 1728\n"
     ]
    }
   ],
   "source": [
    "for i in range(1,13):\n",
    "    print(f\"No. {i:2} squared is {i**2:<3} and cubed is {i**3:^4}\")"
   ]
  }
 ],
 "metadata": {
  "kernelspec": {
   "display_name": "Python 3",
   "language": "python",
   "name": "python3"
  },
  "language_info": {
   "codemirror_mode": {
    "name": "ipython",
    "version": 3
   },
   "file_extension": ".py",
   "mimetype": "text/x-python",
   "name": "python",
   "nbconvert_exporter": "python",
   "pygments_lexer": "ipython3",
   "version": "3.7.6"
  }
 },
 "nbformat": 4,
 "nbformat_minor": 2
}
