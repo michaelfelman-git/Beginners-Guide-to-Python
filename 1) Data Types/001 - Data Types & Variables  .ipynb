{
 "cells": [
  {
   "cell_type": "markdown",
   "metadata": {},
   "source": [
    "<h1 align=\"center\">DATA TYPES AND VARIABLES</h1>\n",
    "<h2 align=\"left\"><u>Lesson Guide</u></h2>\n",
    "\n",
    "- [**DATA TYPES**](#datatypes)\n",
    "- [**DYNAMIC TYPING**](#dynamic)\n",
    "- [**RULES FOR VARIABLE NAMES**](#rules)\n",
    "- [**ASSIGNING VARIABLES**](#assigning)\n",
    "- [**AUGMENTED ASSIGNMENT OPERATOR**](#augmented)\n",
    "- [**UNPACKING**](#unpacking)\n",
    "- [**ITERABLE UNPACKING**](#itunpack)\n",
    "- [**EXPRESSIONS vs STATEMENTS**](#expressions)\n",
    "- [**TYPE HINTING**](#hinting)\n",
    "- [**FURTHER EXAMPLES**](#examples)"
   ]
  },
  {
   "cell_type": "markdown",
   "metadata": {},
   "source": [
    "Documentation    \n",
    "https://docs.python.org/3/library/stdtypes.html"
   ]
  },
  {
   "cell_type": "markdown",
   "metadata": {},
   "source": [
    "<a id='datatypes'></a>\n",
    "## DATA TYPES\n",
    "Data types are the classification or categorization of data items. Data types represent a kind of value which determines what operations can be performed on that data. \n",
    "\n",
    "<ins>Fundamental Data Types</ins>                   \n",
    "- **int** - whole numbers, such as: 3, 200...\n",
    "- **float** - numbers with a decimal point: 2.3, 10.0...\n",
    "- **str** - ordered sequence of characters: 'hello', 'Michael', '200'...\n",
    "- **list** - ordered sequence of objects: [10.0, 'hello', 200]\n",
    "- **dict** - unordered key:value pairs: {'key':'value'}\n",
    "- **tup** - ordered immutable sequence of objects: (10.0, 'hello', 200)\n",
    "- **set** - unordered collection of unqie objects: {'a', 'b'}\n",
    "- **bool** - logical vlaue indicating True or False\n",
    "- **frozensets**\n",
    "- **ranges**\n",
    "- **complex**\n",
    "- **None**\n",
    "\n",
    "<ins>Custom Data Types</ins>                       \n",
    "- **Classes**\n",
    "\n",
    "<ins>Specialized Data Types</ins>\n",
    "- **Modules**"
   ]
  },
  {
   "cell_type": "markdown",
   "metadata": {},
   "source": [
    "> All fundamental data types can further be classified by: \n",
    "- **mutable:** can be modified after creation  (such as lists, sets and dictionaries)\n",
    "- **immutable:** cannot be modified after creation (such as strings, numbers, tuples and frozensets)\n",
    "\n",
    "We can also check what data type an object is using Python's built-in **`type( )`** function. "
   ]
  },
  {
   "cell_type": "code",
   "execution_count": 1,
   "metadata": {},
   "outputs": [
    {
     "data": {
      "text/plain": [
       "(int, str, list)"
      ]
     },
     "execution_count": 1,
     "metadata": {},
     "output_type": "execute_result"
    }
   ],
   "source": [
    "a = 5\n",
    "b = 'hello'\n",
    "c = [1,2,3]\n",
    "\n",
    "type(a), type(b), type(c)     # Note how the output becomes a tuple when combined"
   ]
  },
  {
   "cell_type": "markdown",
   "metadata": {},
   "source": [
    "**Numeric**              \n",
    "A numeric value is any representation of data which has a numeric value. Python identifies three types of numbers:\n",
    "- Integer: Positive or negative whole numbers (without a fractional part)\n",
    "- Float: Any real number with a floating point representation in which a fractional component is denoted by a decimal symbol or scientific notation\n",
    "- Complex number: A number with a real and imaginary component represented as x+yj. x and y are floats and j is -1(square root of -1 called an imaginary number)\n",
    "\n",
    "**Boolean**     \n",
    "Data with one of two built-in values True or False. \n",
    "\n",
    "**Sequence Type**         \n",
    "A sequence is an ordered collection of similar or different data types. Python has the following built-in sequence data types:\n",
    "- String: A string value is a collection of one or more characters put in single, double or triple quotes.\n",
    "- List : A list object is an ordered collection of one or more data items, not necessarily of the same type, put in square brackets.\n",
    "- Tuple: A Tuple object is an ordered collection of one or more data items, not necessarily of the same type, put in parentheses.\n",
    "- range\n",
    "- bytes and bytearray\n",
    "\n",
    "**Dictionary**         \n",
    "A dictionary object is an unordered collection of data in a key:value pair form. A collection of such pairs is enclosed in curly brackets.\n",
    "\n",
    "**Other built-in data typed, that can be classed as:**\n",
    "- mapping\n",
    "- file\n",
    "- class\n",
    "- exception"
   ]
  },
  {
   "cell_type": "markdown",
   "metadata": {},
   "source": [
    "<a id='dynamic'></a>\n",
    "## DYNAMIC TYPING\n",
    "\n",
    "Python uses ***dynamic typing***, meaning you can reassign variables to different data types. This makes Python very flexible in assigning data types; it differs from other languages that are ***statically typed***.\n",
    "\n",
    "**<ins>Pros of Dynamic Typing<ins/>**\n",
    "* very easy to work with\n",
    "* faster development time\n",
    "\n",
    "**<ins>Cons of Dynamic Typing<ins/>**\n",
    "* may result in unexpected bugs!\n",
    "* you need to be aware of `type()`"
   ]
  },
  {
   "cell_type": "markdown",
   "metadata": {},
   "source": [
    "<a id='rules'></a>\n",
    "## RULES FOR VARIABLE NAMES\n",
    "* names can not start with a number\n",
    "* names can not contain spaces, use _ intead\n",
    "* names can not contain any of these symbols:\n",
    "\n",
    "      :'\",<>/?|\\!@#%^&*~-+\n",
    "       \n",
    "* it's considered best practice ([PEP8](https://www.python.org/dev/peps/pep-0008/#function-and-variable-names)) that names are lowercase with underscores\n",
    "* avoid using Python built-in keywords (provided below)\n",
    "* avoid using the single characters `l` (lowercase letter el), `O` (uppercase letter oh) and `I` (uppercase letter eye) as they can be confused with `1` and `0`"
   ]
  },
  {
   "cell_type": "code",
   "execution_count": 2,
   "metadata": {
    "scrolled": true
   },
   "outputs": [
    {
     "name": "stdout",
     "output_type": "stream",
     "text": [
      "['False', 'None', 'True', 'and', 'as', 'assert', 'async', 'await', 'break', 'class', 'continue', 'def', 'del', 'elif', 'else', 'except', 'finally', 'for', 'from', 'global', 'if', 'import', 'in', 'is', 'lambda', 'nonlocal', 'not', 'or', 'pass', 'raise', 'return', 'try', 'while', 'with', 'yield']\n"
     ]
    }
   ],
   "source": [
    "import keyword\n",
    "print(keyword.kwlist)"
   ]
  },
  {
   "cell_type": "markdown",
   "metadata": {},
   "source": [
    "<a id='assigning'></a>\n",
    "## ASSIGNING VARIABLES\n",
    "Variable assignment follows `name = object`, where a single equals sign `=` is an *assignment operator*. Using variable names can be a very useful way to keep track of different variables in Python."
   ]
  },
  {
   "cell_type": "code",
   "execution_count": 3,
   "metadata": {},
   "outputs": [
    {
     "name": "stdout",
     "output_type": "stream",
     "text": [
      "30\n",
      "30\n",
      "30\n",
      "40\n"
     ]
    }
   ],
   "source": [
    "# Define variables by giving them a name and a value\n",
    "age = 30    # assigns an integer to the variable\n",
    "\n",
    "# Print their values out by using the print() function\n",
    "print(age)\n",
    "\n",
    "# You can print values directly if you prefer\n",
    "print(30)\n",
    "\n",
    "# But having variables means you can change them after the fact\n",
    "age = 30\n",
    "print(age)\n",
    "age = 40\n",
    "print(age)\n",
    "\n",
    "# Longer variable names are written in snake_case in Python:\n",
    "friend_age = 23\n",
    "countries_visited = 90"
   ]
  },
  {
   "cell_type": "code",
   "execution_count": 4,
   "metadata": {},
   "outputs": [
    {
     "name": "stdout",
     "output_type": "stream",
     "text": [
      "['Bugatti', 'Aston Martin']\n",
      "10.0\n"
     ]
    }
   ],
   "source": [
    "# Assign any data type to the variable\n",
    "my_cars = ['Bugatti', 'Aston Martin']   \n",
    "print(my_cars)\n",
    "\n",
    "# variables can be used to create expressions / statements\n",
    "my_income = 100\n",
    "tax_rate = 0.1\n",
    "my_taxes = my_income * tax_rate  \n",
    "print(my_taxes)"
   ]
  },
  {
   "cell_type": "code",
   "execution_count": 5,
   "metadata": {},
   "outputs": [],
   "source": [
    "# Variable names you will never change (i.e. constants ) are written in all uppercase\n",
    "PI = 3.14159\n",
    "RADIANS_TO_DEGREES = 180 / PI"
   ]
  },
  {
   "cell_type": "markdown",
   "metadata": {},
   "source": [
    "<a id='augmented'></a>\n",
    "## AUGMENTED ASSIGNMENT OPERATOR\n",
    "Python lets us add, subtract, multiply and divide numbers with reassignment using: `+=`, `-=`, `*=`, `/=`."
   ]
  },
  {
   "cell_type": "code",
   "execution_count": 6,
   "metadata": {},
   "outputs": [
    {
     "name": "stdout",
     "output_type": "stream",
     "text": [
      "4\n"
     ]
    }
   ],
   "source": [
    "# declare a variable and assign the value 3 to it\n",
    "cupcakes_eaten = 3\n",
    "\n",
    "# one method to increase the value to 4. \n",
    "cupcakes_eaten += 1\n",
    "\n",
    "# or we could simply change it when declaring the variable at the top, \n",
    "# otherwise declare a new variable again with the value 4 before printing. \n",
    "\n",
    "cupcakes_eaten = 4\n",
    "\n",
    "print(cupcakes_eaten)"
   ]
  },
  {
   "cell_type": "markdown",
   "metadata": {},
   "source": [
    "<a id='unpacking'></a>\n",
    "## UNPACKING\n",
    "We can also assign multiple variables at once (with the help of unpacking)."
   ]
  },
  {
   "cell_type": "code",
   "execution_count": 7,
   "metadata": {},
   "outputs": [
    {
     "name": "stdout",
     "output_type": "stream",
     "text": [
      "0.8\n",
      "1.2\n",
      "<class 'tuple'> \n",
      "\n",
      "1.3\n",
      "1.13\n",
      "<class 'list'>\n"
     ]
    }
   ],
   "source": [
    "# Given a tuple or list:\n",
    "currencies = 0.8, 1.2\n",
    "# Note that we don't need the parentheses to create a tuple.\n",
    "# This is done automatically because of the comma\n",
    "\n",
    "# We can now reate two variables using 1 line of code.\n",
    "# currencies = 0.8, 1.2, 1.4  would result in a 'ValueError - too many values to unpack'\n",
    "usd, eur = currencies\n",
    "print(usd)\n",
    "print(eur)\n",
    "print(type(currencies),'\\n')\n",
    "\n",
    "other_currencies = [1.3, 1.13]\n",
    "usd1, eur1 = other_currencies\n",
    "print(usd1)\n",
    "print(eur1)\n",
    "print(type(other_currencies))"
   ]
  },
  {
   "cell_type": "code",
   "execution_count": 8,
   "metadata": {},
   "outputs": [
    {
     "name": "stdout",
     "output_type": "stream",
     "text": [
      "1683216403024\n",
      "1683216403344\n",
      "1683216403376\n",
      "1683216403472\n"
     ]
    }
   ],
   "source": [
    "# We can view the memory location of the variable via its id\n",
    "print(id(usd))\n",
    "print(id(eur))\n",
    "print(id(usd1))\n",
    "print(id(eur1))"
   ]
  },
  {
   "cell_type": "code",
   "execution_count": 9,
   "metadata": {},
   "outputs": [
    {
     "name": "stdout",
     "output_type": "stream",
     "text": [
      "3 4 michael jaz\n",
      "(3, 4, 'michael', 'jaz')\n",
      "[3, 4, 'michael', 'jaz']\n",
      "{'michael', 'jaz', 3, 4}\n",
      "3,4,michael,jaz\n",
      "3, 4 ('michael', 'jaz')\n"
     ]
    }
   ],
   "source": [
    "# can assign multiple objects at a time\n",
    "\n",
    "a, b = 3, 4\n",
    "c, d = 'michael', 'jaz'\n",
    "print(a,b,c,d)\n",
    "print((a,b,c,d))\n",
    "print([a,b,c,d])\n",
    "print({a,b,c,d})\n",
    "print(str(a)+','+str(b)+','+c+','+d)\n",
    "print('%d, %s' % (a,b), (c, d))"
   ]
  },
  {
   "cell_type": "markdown",
   "metadata": {},
   "source": [
    "<a id='itunpack'></a>\n",
    "## ITERABLE UNPACKING\n",
    "Iterable unpacking allows us to specify a \"catch-all\" name which will be assigned a list of all items not assigned to a \"regular\" name."
   ]
  },
  {
   "cell_type": "code",
   "execution_count": 10,
   "metadata": {},
   "outputs": [
    {
     "name": "stdout",
     "output_type": "stream",
     "text": [
      "['a', 'b', 'c', 'd', 'e']\n",
      "['a', 'b', 'c', 'd', 'e']\n",
      "['a', 'b', 'c', 'd', 'e']\n",
      "['a', 'b', 'c', 'd', 'e']\n"
     ]
    }
   ],
   "source": [
    "s = 'abcde'\n",
    "\n",
    "# Method 1\n",
    "print(list(s))\n",
    "\n",
    "# Method 2\n",
    "print([char for char in s])\n",
    "\n",
    "# Method 3\n",
    "res = []\n",
    "res[:] = s\n",
    "print(res)\n",
    "\n",
    "# Method 4\n",
    "print(','.join(s).split(','))"
   ]
  },
  {
   "cell_type": "code",
   "execution_count": 11,
   "metadata": {},
   "outputs": [
    {
     "data": {
      "text/plain": [
       "['a', 'b', 'c', 'd', 'e']"
      ]
     },
     "execution_count": 11,
     "metadata": {},
     "output_type": "execute_result"
    }
   ],
   "source": [
    "# Method 5\n",
    "*s,='abcde'\n",
    "s"
   ]
  },
  {
   "cell_type": "code",
   "execution_count": 12,
   "metadata": {},
   "outputs": [
    {
     "name": "stdout",
     "output_type": "stream",
     "text": [
      "1\n",
      "[2, 3, 4, 5, 6, 7]\n",
      "********************\n",
      "1\n",
      "[2, 3, 4, 5, 6, 7]\n",
      "********************\n",
      "1\n",
      "2\n",
      "[3, 4, 5, 6, 7]\n"
     ]
    }
   ],
   "source": [
    "my_list = [1,2,3,4,5,6,7]\n",
    "\n",
    "a, b = my_list[0], my_list[1:]\n",
    "print(a)\n",
    "print(b)\n",
    "\n",
    "print('*'*20)\n",
    "\n",
    "first, *rest = my_list\n",
    "print(first)\n",
    "print(rest)\n",
    "\n",
    "print('*'*20)\n",
    "\n",
    "a,b,*c, = my_list\n",
    "print(a)\n",
    "print(b)\n",
    "print(c)"
   ]
  },
  {
   "cell_type": "code",
   "execution_count": 13,
   "metadata": {},
   "outputs": [
    {
     "data": {
      "text/plain": [
       "(0, 6, 20)"
      ]
     },
     "execution_count": 13,
     "metadata": {},
     "output_type": "execute_result"
    }
   ],
   "source": [
    "# unpacking values for even numbers in list comprehension\n",
    "x, y, z = (i*i+i for i in range(6) if i%2==0)\n",
    "x, y, z"
   ]
  },
  {
   "cell_type": "code",
   "execution_count": 14,
   "metadata": {},
   "outputs": [
    {
     "name": "stdout",
     "output_type": "stream",
     "text": [
      "1 2 3 4\n"
     ]
    }
   ],
   "source": [
    "def fun(a, b, c, d):\n",
    "    print(a, b, c, d) \n",
    "\n",
    "# Driver Code\n",
    "my_list = [1, 2, 3, 4] \n",
    "  \n",
    "# Unpacking list into four arguments \n",
    "fun(*my_list)\n",
    "\n",
    "# fun(my_list)? - using this code produce the following error:\n",
    "# TypeError: fun() missing 3 required positional arguments: 'b', 'c', and 'd'"
   ]
  },
  {
   "cell_type": "code",
   "execution_count": 15,
   "metadata": {},
   "outputs": [
    {
     "name": "stdout",
     "output_type": "stream",
     "text": [
      "[2, 3]\n",
      "[5, 6, 7]\n"
     ]
    }
   ],
   "source": [
    "for a, *b in [(1, 2, 3), (4, 5, 6, 7)]:\n",
    "    print(b)"
   ]
  },
  {
   "cell_type": "markdown",
   "metadata": {},
   "source": [
    "<a id='expressions'></a>\n",
    "## EXPRESSIONS vs STATEMENTS\n",
    "\n",
    "```python\n",
    "iq = 100\n",
    "user_age = iq / 5\n",
    "```\n",
    "\n",
    ">- `iq / 5` is an expression. A piece of code that produces a value.\n",
    "- `user_age = iq / 5` is a statement since it performs an action."
   ]
  },
  {
   "cell_type": "markdown",
   "metadata": {},
   "source": [
    "<a id='hinting'></a>\n",
    "## TYPE HINTING"
   ]
  },
  {
   "cell_type": "code",
   "execution_count": 16,
   "metadata": {},
   "outputs": [
    {
     "name": "stdout",
     "output_type": "stream",
     "text": [
      "michael is 37 years old.\n"
     ]
    }
   ],
   "source": [
    "name: str = 'michael'\n",
    "age: int = 37\n",
    "    \n",
    "print(f\"{name} is {age} years old.\")"
   ]
  },
  {
   "cell_type": "code",
   "execution_count": 17,
   "metadata": {},
   "outputs": [
    {
     "data": {
      "text/plain": [
       "'Hello michael'"
      ]
     },
     "execution_count": 17,
     "metadata": {},
     "output_type": "execute_result"
    }
   ],
   "source": [
    "def greeting(name: str) -> str:\n",
    "    return 'Hello ' + name\n",
    "\n",
    "greeting('michael')"
   ]
  },
  {
   "cell_type": "markdown",
   "metadata": {},
   "source": [
    "In the function `greeting`, the argument `name` is expected to be of type `str` and the return type `str`. Subtypes are accepted as arguments."
   ]
  },
  {
   "cell_type": "markdown",
   "metadata": {},
   "source": [
    "<a id='examples'></a>\n",
    "## FURTHER EXAMPLES"
   ]
  },
  {
   "cell_type": "code",
   "execution_count": 18,
   "metadata": {},
   "outputs": [
    {
     "name": "stdout",
     "output_type": "stream",
     "text": [
      "marty is driving his Delorean at 88mph\n",
      "marty is driving his Delorean at 88mph\n",
      "marty is driving his Delorean at 88mph\n",
      "marty is driving his Delorean at 88mph\n",
      "marty is driving his Delorean at 88mph.\n"
     ]
    }
   ],
   "source": [
    "#delare 3 variables and assign them values\n",
    "name = 'marty'\n",
    "car = 'Delorean'\n",
    "speed = '88mph'\n",
    "\n",
    "# speed += 4\n",
    "# results in an error since 4 is an integer while speed is a string\n",
    "\n",
    "print(name + ' is driving his ' + car + ' at ' + speed)\n",
    "\n",
    "print(name, 'is driving his', car, 'at', speed)\n",
    "\n",
    "print('%s is driving his %s at %s' %(name,car,speed))\n",
    "\n",
    "print(\"{} is driving his {} at {}\".format(name, car, speed))\n",
    "\n",
    "print(f\"{name} is driving his {car} at {speed}.\")"
   ]
  },
  {
   "cell_type": "code",
   "execution_count": 19,
   "metadata": {},
   "outputs": [
    {
     "name": "stdout",
     "output_type": "stream",
     "text": [
      "3 hello\n",
      "3hello\n",
      "1020\n"
     ]
    }
   ],
   "source": [
    "one=1\n",
    "two=2\n",
    "hello='hello'\n",
    "\n",
    "print((one + two), hello)\n",
    "print((str(one + two)) + hello)\n",
    "\n",
    "# print((one + two) + hello)    \n",
    "# this will not work since we cannot + an integer and a string this way\n",
    "\n",
    "#adding strings will concatenate them\n",
    "num1 = '10'\n",
    "num2 = '20'\n",
    "print(num1 + num2)"
   ]
  },
  {
   "cell_type": "code",
   "execution_count": 20,
   "metadata": {},
   "outputs": [
    {
     "name": "stdout",
     "output_type": "stream",
     "text": [
      "String: hello\n",
      "Float: 10.00\n",
      "Integer: 20\n"
     ]
    }
   ],
   "source": [
    "# change this code by editing variable values\n",
    "mystring = 'hello'\n",
    "myfloat = 10.0\n",
    "myint = 20\n",
    "\n",
    "# testing code\n",
    "if mystring == \"hello\":\n",
    "    print(\"String: %s\" % mystring)\n",
    "if isinstance(myfloat, float) and myfloat == 10.0:\n",
    "    # .2 refers to number of decimal placings\n",
    "    print(\"Float: %.2f\" % myfloat)             \n",
    "if isinstance(myint, int) and myint == 20:\n",
    "    print(\"Integer: %d\" % myint)\n",
    "\n",
    "# isinstance(object, classinfo) - returns true if the object\n",
    "# is an instance of the classinfo argument"
   ]
  }
 ],
 "metadata": {
  "kernelspec": {
   "display_name": "Python 3",
   "language": "python",
   "name": "python3"
  },
  "language_info": {
   "codemirror_mode": {
    "name": "ipython",
    "version": 3
   },
   "file_extension": ".py",
   "mimetype": "text/x-python",
   "name": "python",
   "nbconvert_exporter": "python",
   "pygments_lexer": "ipython3",
   "version": "3.7.6"
  }
 },
 "nbformat": 4,
 "nbformat_minor": 2
}
