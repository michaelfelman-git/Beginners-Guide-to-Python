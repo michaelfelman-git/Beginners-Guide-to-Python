{
 "cells": [
  {
   "cell_type": "markdown",
   "metadata": {},
   "source": [
    "<h1 align=\"center\">WHILE LOOPS</h1>\n",
    "<h2 align=\"left\"><u>Lesson Guide</u></h2>\n",
    "\n",
    "- [**WHILE LOOPS**](#while)\n",
    "- [**NESTED WHILE LOOPS**](#nested)\n",
    "- [**BREAK / CONTINUE / PASS**](#break)\n",
    "- [**MORE EXAMPLES**](#examples)\n",
    "\n",
    "Documentation: https://docs.python.org/3/tutorial/controlflow.html?highlight=try%20else#for-statements"
   ]
  },
  {
   "cell_type": "markdown",
   "metadata": {
    "collapsed": true
   },
   "source": [
    "<a id='while'></a>\n",
    "## WHILE LOOPS\n",
    "\n",
    "The <code>while</code> statement in Python is one of most general ways to perform iteration. A <code>while</code> statement will repeatedly execute a single statement or group of statements as long as the condition is true. The reason it is called a 'loop' is because the code statements are looped through over and over again until the condition is no longer met.\n",
    "\n",
    "The general format of a while loop is:\n",
    "```python\n",
    "    while test:\n",
    "        code statements\n",
    "    else:\n",
    "        final code statements\n",
    "```"
   ]
  },
  {
   "cell_type": "code",
   "execution_count": 1,
   "metadata": {},
   "outputs": [
    {
     "name": "stdout",
     "output_type": "stream",
     "text": [
      "1\n",
      "2\n",
      "3\n",
      "4\n",
      "5\n",
      "6\n",
      "7\n",
      "8\n",
      "9\n",
      "10\n",
      "x is no longer less than or equal to 10\n"
     ]
    }
   ],
   "source": [
    "x = 1\n",
    "\n",
    "while x <= 10:\n",
    "    print(x)\n",
    "    x = x + 1\n",
    "else:\n",
    "    print(\"x is no longer less than or equal to 10\")"
   ]
  },
  {
   "cell_type": "code",
   "execution_count": 2,
   "metadata": {},
   "outputs": [
    {
     "name": "stdout",
     "output_type": "stream",
     "text": [
      "You're learning!\n",
      "Are you still learning? NO\n"
     ]
    }
   ],
   "source": [
    "is_learning = True\n",
    "\n",
    "while is_learning:\n",
    "    print(\"You're learning!\")\n",
    "    user_input = input('Are you still learning? ')\n",
    "    is_learning = user_input == 'yes'"
   ]
  },
  {
   "cell_type": "code",
   "execution_count": 3,
   "metadata": {},
   "outputs": [
    {
     "name": "stdout",
     "output_type": "stream",
     "text": [
      "Do you wish to run the program? (yes/no): yes\n",
      "We're running!\n",
      "Do you wish to run the program? (yes/no): yes\n",
      "We're running!\n",
      "Do you wish to run the program? (yes/no): no\n",
      "We stopped running.\n"
     ]
    }
   ],
   "source": [
    "# -- Ending a loop with user input --\n",
    "\n",
    "user_input = input(\"Do you wish to run the program? (yes/no): \")\n",
    "\n",
    "while user_input == \"yes\":\n",
    "    print(\"We're running!\")\n",
    "    user_input = input(\"Do you wish to run the program? (yes/no): \")\n",
    "\n",
    "print(\"We stopped running.\")"
   ]
  },
  {
   "cell_type": "code",
   "execution_count": 4,
   "metadata": {},
   "outputs": [
    {
     "name": "stdout",
     "output_type": "stream",
     "text": [
      "Please select an option - p or q: p\n",
      "Hello\n",
      "Please select an option - p or q: q\n"
     ]
    }
   ],
   "source": [
    "user_input = input('Please select an option - p or q: ')\n",
    "\n",
    "while user_input:\n",
    "    if user_input == 'p':\n",
    "        print('Hello')\n",
    "    elif user_input == 'q':\n",
    "        break\n",
    "        \n",
    "    user_input = input('Please select an option - p or q: ')"
   ]
  },
  {
   "cell_type": "code",
   "execution_count": 5,
   "metadata": {},
   "outputs": [
    {
     "name": "stdout",
     "output_type": "stream",
     "text": [
      "Enter p or q: p\n",
      "Hello\n",
      "Enter p or q: q\n"
     ]
    }
   ],
   "source": [
    "user_input = input('Enter p or q: ')\n",
    "\n",
    "while user_input != 'q':\n",
    "    if user_input == 'p':\n",
    "        print('Hello')\n",
    "        \n",
    "    user_input = input('Enter p or q: ')"
   ]
  },
  {
   "cell_type": "code",
   "execution_count": 6,
   "metadata": {},
   "outputs": [
    {
     "name": "stdout",
     "output_type": "stream",
     "text": [
      "x is currently:  0\n",
      " x is still less than 10, adding 1 to x\n",
      "x is currently:  1\n",
      " x is still less than 10, adding 1 to x\n",
      "x is currently:  2\n",
      " x is still less than 10, adding 1 to x\n",
      "x is currently:  3\n",
      " x is still less than 10, adding 1 to x\n",
      "x is currently:  4\n",
      " x is still less than 10, adding 1 to x\n",
      "x is currently:  5\n",
      " x is still less than 10, adding 1 to x\n",
      "x is currently:  6\n",
      " x is still less than 10, adding 1 to x\n",
      "x is currently:  7\n",
      " x is still less than 10, adding 1 to x\n",
      "x is currently:  8\n",
      " x is still less than 10, adding 1 to x\n",
      "x is currently:  9\n",
      " x is still less than 10, adding 1 to x\n",
      "All Done!\n"
     ]
    }
   ],
   "source": [
    "x = 0\n",
    "\n",
    "while x < 10:\n",
    "    print('x is currently: ',x)\n",
    "    print(' x is still less than 10, adding 1 to x')\n",
    "    x+=1\n",
    "    \n",
    "else:\n",
    "    print('All Done!')"
   ]
  },
  {
   "cell_type": "markdown",
   "metadata": {},
   "source": [
    "Notice how many times the print statements occurred and how the <code>while</code> loop kept going until the True condition was met, which occurred once x==10. It's important to note that once this occurred the code stopped. Let's see how we could add an <code>else</code> statement:"
   ]
  },
  {
   "cell_type": "markdown",
   "metadata": {},
   "source": [
    "<a id='nested'></a>\n",
    "## NESTED `while` LOOPS"
   ]
  },
  {
   "cell_type": "code",
   "execution_count": 7,
   "metadata": {
    "scrolled": true
   },
   "outputs": [
    {
     "name": "stdout",
     "output_type": "stream",
     "text": [
      "5\n",
      "6\n",
      "7\n",
      "8\n",
      "9\n",
      "10\n",
      "5\n",
      "6\n",
      "7\n",
      "8\n",
      "9\n",
      "10\n",
      "5\n",
      "6\n",
      "7\n",
      "8\n",
      "9\n",
      "10\n",
      "5\n",
      "6\n",
      "7\n",
      "8\n",
      "9\n",
      "10\n",
      "5\n",
      "6\n",
      "7\n",
      "8\n",
      "9\n",
      "10\n",
      "5\n",
      "6\n",
      "7\n",
      "8\n",
      "9\n",
      "10\n",
      "5\n",
      "6\n",
      "7\n",
      "8\n",
      "9\n",
      "10\n",
      "5\n",
      "6\n",
      "7\n",
      "8\n",
      "9\n",
      "10\n",
      "5\n",
      "6\n",
      "7\n",
      "8\n",
      "9\n",
      "10\n",
      "5\n",
      "6\n",
      "7\n",
      "8\n",
      "9\n",
      "10\n"
     ]
    }
   ],
   "source": [
    "x = 1\n",
    "\n",
    "while x <= 10:\n",
    "    z = 5\n",
    "    x += 1\n",
    "    while z <= 10:\n",
    "        print(z)\n",
    "        z += 1"
   ]
  },
  {
   "cell_type": "markdown",
   "metadata": {},
   "source": [
    "<a id='break'></a>\n",
    "## BREAK, CONTINUE, PASS\n",
    "\n",
    "We can use <code>break</code>, <code>continue</code>, and <code>pass</code> statements in our loops to add additional functionality for various cases. The three statements are defined by:\n",
    "\n",
    "    break: Breaks out of the current closest enclosing loop.\n",
    "    continue: Goes to the top of the closest enclosing loop.\n",
    "    pass: Does nothing at all.\n",
    "    \n",
    "    \n",
    "Thinking about <code>break</code> and <code>continue</code> statements, the general format of the <code>while</code> loop looks like this:\n",
    "```python\n",
    "    while test: \n",
    "        code statement\n",
    "        if test: \n",
    "            break\n",
    "        if test: \n",
    "            continue \n",
    "    else:\n",
    "```\n",
    "<code>break</code> and <code>continue</code> statements can appear anywhere inside the loop’s body, but we will usually put them further nested in conjunction with an <code>if</code> statement to perform an action based on some condition.\n",
    "\n",
    "[Documentation](https://docs.python.org/3/tutorial/controlflow.html?highlight=try%20else#break-and-continue-statements-and-else-clauses-on-loops)"
   ]
  },
  {
   "cell_type": "code",
   "execution_count": 8,
   "metadata": {
    "scrolled": true
   },
   "outputs": [
    {
     "name": "stdout",
     "output_type": "stream",
     "text": [
      "x is currently:  0\n",
      " x is still less than 10, adding 1 to x\n",
      "continuing...\n",
      "x is currently:  1\n",
      " x is still less than 10, adding 1 to x\n",
      "continuing...\n",
      "x is currently:  2\n",
      " x is still less than 10, adding 1 to x\n",
      "x==3\n",
      "x is currently:  3\n",
      " x is still less than 10, adding 1 to x\n",
      "continuing...\n",
      "x is currently:  4\n",
      " x is still less than 10, adding 1 to x\n",
      "continuing...\n",
      "x is currently:  5\n",
      " x is still less than 10, adding 1 to x\n",
      "continuing...\n",
      "x is currently:  6\n",
      " x is still less than 10, adding 1 to x\n",
      "continuing...\n",
      "x is currently:  7\n",
      " x is still less than 10, adding 1 to x\n",
      "continuing...\n",
      "x is currently:  8\n",
      " x is still less than 10, adding 1 to x\n",
      "continuing...\n",
      "x is currently:  9\n",
      " x is still less than 10, adding 1 to x\n",
      "continuing...\n"
     ]
    }
   ],
   "source": [
    "x = 0\n",
    "\n",
    "while x < 10:\n",
    "    print('x is currently: ',x)\n",
    "    print(' x is still less than 10, adding 1 to x')\n",
    "    x+=1\n",
    "    if x==3:\n",
    "        print('x==3')\n",
    "    else:\n",
    "        print('continuing...')\n",
    "        continue"
   ]
  },
  {
   "cell_type": "markdown",
   "metadata": {},
   "source": [
    "Note how we have a printed statement when x==3, and a continue being printed out as we continue through the outer while loop. Let's put in a break once x ==3 and see if the result makes sense:"
   ]
  },
  {
   "cell_type": "code",
   "execution_count": 9,
   "metadata": {},
   "outputs": [
    {
     "name": "stdout",
     "output_type": "stream",
     "text": [
      "x is currently:  0\n",
      " x is still less than 10, adding 1 to x\n",
      "continuing...\n",
      "x is currently:  1\n",
      " x is still less than 10, adding 1 to x\n",
      "continuing...\n",
      "x is currently:  2\n",
      " x is still less than 10, adding 1 to x\n",
      "Breaking because x==3\n"
     ]
    }
   ],
   "source": [
    "x = 0\n",
    "\n",
    "while x < 10:\n",
    "    print('x is currently: ',x)\n",
    "    print(' x is still less than 10, adding 1 to x')\n",
    "    x+=1\n",
    "    if x==3:\n",
    "        print('Breaking because x==3')\n",
    "        break\n",
    "    else:\n",
    "        print('continuing...')\n",
    "        continue"
   ]
  },
  {
   "cell_type": "markdown",
   "metadata": {},
   "source": [
    "Note how the other <code>else</code> statement wasn't reached and continuing was never printed!\n",
    "\n",
    "After these brief but simple examples, you should feel comfortable using <code>while</code> statements in your code.\n",
    "\n",
    "**A word of caution however! It is possible to create an infinitely running loop with <code>while</code> statements. For example:**"
   ]
  },
  {
   "cell_type": "code",
   "execution_count": 10,
   "metadata": {},
   "outputs": [],
   "source": [
    "# DO NOT RUN THIS CODE!!!! \n",
    "# while True:\n",
    "#     print(\"I'm stuck in an infinite loop!\")"
   ]
  },
  {
   "cell_type": "code",
   "execution_count": 11,
   "metadata": {},
   "outputs": [
    {
     "name": "stdout",
     "output_type": "stream",
     "text": [
      "Please choose a direction: south\n",
      "aren't you glad you got out of there.\n"
     ]
    }
   ],
   "source": [
    "available_exits = ['north', 'south', 'east', 'west']\n",
    "\n",
    "chosen_exit = ''\n",
    "\n",
    "while chosen_exit not in available_exits:\n",
    "    chosen_exit = input('Please choose a direction: ')\n",
    "    if chosen_exit.casefold() == 'quit':    # casefold() lowercases everything in a string\n",
    "        print('game over!')\n",
    "        break\n",
    "\n",
    "print(\"aren't you glad you got out of there.\")"
   ]
  },
  {
   "cell_type": "code",
   "execution_count": 12,
   "metadata": {},
   "outputs": [
    {
     "name": "stdout",
     "output_type": "stream",
     "text": [
      "Please choose a direction: quit\n",
      "game over!\n"
     ]
    }
   ],
   "source": [
    "available_exits = ['north', 'south', 'east', 'west']\n",
    "\n",
    "chosen_exit = ''\n",
    "\n",
    "while chosen_exit not in available_exits:\n",
    "    chosen_exit = input('Please choose a direction: ')\n",
    "    if chosen_exit.casefold() == 'quit':    # casefold() lowercases everything in a string\n",
    "        print('game over!')\n",
    "        break\n",
    "else:\n",
    "    print(\"aren't you glad you got out of there.\")"
   ]
  },
  {
   "cell_type": "markdown",
   "metadata": {},
   "source": [
    "<a id='examples'></a>\n",
    "## MORE EXMAPLES"
   ]
  },
  {
   "cell_type": "code",
   "execution_count": null,
   "metadata": {},
   "outputs": [],
   "source": [
    "# options = ['1. Learn Python', '2. Learn Java', '3. Go swimming', '4. Have dinner','5. Go to bed', '6. Exit']\n",
    "\n",
    "# print(\"Please choose your option from the list below:\")\n",
    "# for item in options:\n",
    "#     print(item)\n",
    "\n",
    "# choice = int(input())\n",
    "\n",
    "# while choice != 6:\n",
    "#     print(\"Good choice\")\n",
    "#     choice = int(input())\n",
    "# else:\n",
    "#     print(\"goodbye\")"
   ]
  },
  {
   "cell_type": "code",
   "execution_count": null,
   "metadata": {},
   "outputs": [],
   "source": [
    "# options = ['Learn Python', 'Learn Java', 'Go swimming', 'Have dinner','Go to bed', 'Exit']\n",
    "\n",
    "# for index, option in enumerate(options):\n",
    "#     print(f'{index+1}. {option}')\n",
    "    \n",
    "# while True:\n",
    "#     choice = input()\n",
    "    \n",
    "#     if choice == '6':\n",
    "#         print(\"Goodbye\")\n",
    "#         break\n",
    "#     elif choice in '12345':\n",
    "#         print(f'You chose option {choice}: {options[int(choice)-1]}')"
   ]
  },
  {
   "cell_type": "code",
   "execution_count": null,
   "metadata": {},
   "outputs": [],
   "source": [
    "# options = ['1. Learn Python', '2. Learn Java', '3. Go swimming', '4. Have dinner','5. Go to bed', '6. Exit']\n",
    "\n",
    "# choice = '-'\n",
    "# while True:\n",
    "#     if choice == '6':\n",
    "#         break\n",
    "#     elif choice in '12345':\n",
    "#         print(f'You chose option {choice}.')\n",
    "#     else:\n",
    "#         print(\"Please choose your option from the list below:\")\n",
    "#         for item in options:\n",
    "#             print(item)\n",
    "#     choice = input()"
   ]
  },
  {
   "cell_type": "code",
   "execution_count": null,
   "metadata": {},
   "outputs": [],
   "source": [
    "# options = ['1. Learn Python', '2. Learn Java', '3. Go swimming', '4. Have dinner','5. Go to bed', '6. Exit']\n",
    "\n",
    "# choice = '-'\n",
    "# while choice != '6':\n",
    "#     if choice in '12345':\n",
    "#         print(f'You chose option {choice}.')\n",
    "#     else:\n",
    "#         print(\"Please choose your option from the list below:\")\n",
    "#         for item in options:\n",
    "#             print(item)\n",
    "#     choice = input()"
   ]
  },
  {
   "cell_type": "code",
   "execution_count": null,
   "metadata": {},
   "outputs": [],
   "source": [
    "# choice = None\n",
    "# while choice != 0:\n",
    "#     choice = input(\"Please enter your choice. Press enter to quit\")\n",
    "#     if choice == '':\n",
    "#         break\n",
    "        \n",
    "#     print(f\"You have slected {choice}.\")\n",
    "    \n",
    "# else:\n",
    "#     print(\"Thank You\")"
   ]
  }
 ],
 "metadata": {
  "kernelspec": {
   "display_name": "Python 3",
   "language": "python",
   "name": "python3"
  },
  "language_info": {
   "codemirror_mode": {
    "name": "ipython",
    "version": 3
   },
   "file_extension": ".py",
   "mimetype": "text/x-python",
   "name": "python",
   "nbconvert_exporter": "python",
   "pygments_lexer": "ipython3",
   "version": "3.7.6"
  }
 },
 "nbformat": 4,
 "nbformat_minor": 1
}
