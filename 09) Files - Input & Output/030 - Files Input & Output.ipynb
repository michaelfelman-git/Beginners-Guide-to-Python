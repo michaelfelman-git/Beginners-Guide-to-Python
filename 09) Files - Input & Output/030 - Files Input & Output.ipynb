{
 "cells": [
  {
   "cell_type": "markdown",
   "metadata": {},
   "source": [
    "<h1 align=\"center\">FILES I/O</h1>    \n",
    "<h2 align=\"left\"><ins>Lesson Guide</ins></h2>\n",
    "\n",
    "- [**IPYTHON WRITING A FILE WITH `%%writefile`**](#ipython)\n",
    "- [**READING FILES**](#reading)\n",
    "    - [**`read()`**](#read)\n",
    "    - [**`readline()`**](#readline)\n",
    "    - [**Iterating through a File**](#iterate)\n",
    "- [**WRITING TO A FILE**](#write)\n",
    "- [**APPENDING TO A FILE**](#append)\n",
    "- [**IPYTHON APPENDING TO A FILE WITH `%%writefile`**](#ippend)\n",
    "- [**`with` STATEMENT CONTEXT MANAGERS**](#with)\n",
    "    - [**Standard `open()` procedure, with a raised exception**](#open)\n",
    "    - [**Protect the file with `try / except / finally`**](#try)\n",
    "    - [**Save Steps with `with`**](#steps)\n",
    "- [**MORE EXAMPLES**](#examples)\n",
    "- [**OS MODULE**](#os)\n",
    "    - [**Getting Directories**](#direct)\n",
    "    - [**Listing Files in a Directory**](#listing)\n",
    "    - [**Moving Files With Shutil Module**](#shutil)\n",
    "    - [**Deleting Files**](#delete)\n",
    "        - [**OS Module**](#delete)\n",
    "        - [**send2trash Module**](#delete)\n",
    "    - [**Walking through a directory**](#walkthrough)\n",
    "- [**UNZIPPING & ZIPPING FILES**](#zip)\n",
    "    - [**Zipping Files**](#file_zip)\n",
    "    - [**Extracting from Zip Files**](#extract)\n",
    "    - [**Using Shutil Module**](#shut)\n",
    "\n",
    "### Documentation    \n",
    "https://docs.python.org/3/tutorial/inputoutput.html#reading-and-writing-files<br>\n",
    "https://docs.python.org/3/library/functions.html#open<br>\n",
    "[Addiitonal Resource - Tutorials Point](https://www.tutorialspoint.com/python/python_files_io.htm)\n",
    "\n",
    "### File System Paths - [pathlib](https://docs.python.org/3/library/pathlib.html)"
   ]
  },
  {
   "cell_type": "markdown",
   "metadata": {},
   "source": [
    "Python uses file objects to interact with external files on your computer. These file objects can be any sort of file you have on your computer, whether it be an audio file, a text file, emails, Excel documents, etc. You will probably need to install certain libraries or modules to interact with those various file types, but they are easily available. \n",
    "\n",
    "<a id='ipython'></a>\n",
    "## IPYTHON WRITING A FILE WITH `%%writefile`\n",
    "**This function is specific to jupyter notebooks! Alternatively, quickly create a simple .txt file with sublime text editor.**\n",
    "Python has a built-in open function that allows us to open and play with basic file types. First we will need a file though. We're going to use some IPython magic to create a text file."
   ]
  },
  {
   "cell_type": "code",
   "execution_count": 1,
   "metadata": {},
   "outputs": [
    {
     "name": "stdout",
     "output_type": "stream",
     "text": [
      "Writing io_test1.txt\n"
     ]
    }
   ],
   "source": [
    "%%writefile io_test1.txt\n",
    "Hello, this is a quick test file.\n",
    "This is the second line for the text file."
   ]
  },
  {
   "cell_type": "markdown",
   "metadata": {},
   "source": [
    "<a id='reading'></a>\n",
    "## READING FILES\n",
    "We can open the file created in the previous cell using the `open()` function."
   ]
  },
  {
   "cell_type": "code",
   "execution_count": 2,
   "metadata": {},
   "outputs": [
    {
     "name": "stdout",
     "output_type": "stream",
     "text": [
      "r\n",
      "<_io.TextIOWrapper name='io_test1.txt' mode='r' encoding='cp1252'>\n"
     ]
    }
   ],
   "source": [
    "# r represents a raw string literal as a reference to a directory path\n",
    "# my_file = open(r'test1.txt')   \n",
    "my_file = open('io_test1.txt')\n",
    "\n",
    "# illustrates that 'r' is the default mode\n",
    "print(my_file.mode)         \n",
    "print(my_file)"
   ]
  },
  {
   "cell_type": "markdown",
   "metadata": {},
   "source": [
    "<a id='read'></a>\n",
    "### <ins>read</ins>"
   ]
  },
  {
   "cell_type": "code",
   "execution_count": 3,
   "metadata": {},
   "outputs": [
    {
     "data": {
      "text/plain": [
       "'Hello, this is a quick test file.\\nThis is the second line for the text file.\\n'"
      ]
     },
     "execution_count": 3,
     "metadata": {},
     "output_type": "execute_result"
    }
   ],
   "source": [
    "# We can now read the file\n",
    "\n",
    "# print(my_file.read())\n",
    "my_file.read()          # this method returns the output as a single string"
   ]
  },
  {
   "cell_type": "code",
   "execution_count": 4,
   "metadata": {},
   "outputs": [
    {
     "data": {
      "text/plain": [
       "''"
      ]
     },
     "execution_count": 4,
     "metadata": {},
     "output_type": "execute_result"
    }
   ],
   "source": [
    "# But what happens if we try to read it again?\n",
    "my_file.read()"
   ]
  },
  {
   "cell_type": "markdown",
   "metadata": {},
   "source": [
    "This happens because after reading the file the reading \"cursor\" is at the end of the file. So there is nothing left to read. We can reset the \"cursor\" using the `seek()` method to select which position we want the cursor to be at."
   ]
  },
  {
   "cell_type": "code",
   "execution_count": 5,
   "metadata": {},
   "outputs": [
    {
     "data": {
      "text/plain": [
       "0"
      ]
     },
     "execution_count": 5,
     "metadata": {},
     "output_type": "execute_result"
    }
   ],
   "source": [
    "# Start the cursor at index 0\n",
    "my_file.seek(0)"
   ]
  },
  {
   "cell_type": "code",
   "execution_count": 6,
   "metadata": {},
   "outputs": [
    {
     "name": "stdout",
     "output_type": "stream",
     "text": [
      "Hello\n"
     ]
    }
   ],
   "source": [
    "# the read method can take in one argument only - Read at most n characters.\n",
    "print(my_file.read(5))"
   ]
  },
  {
   "cell_type": "markdown",
   "metadata": {},
   "source": [
    "<a id='readline'></a>\n",
    "### <ins>readline{s}</ins>\n",
    "You can read a file line by line using the `readline()` or `readlines()` methods. Use caution with large files, since everything will be held in memory. "
   ]
  },
  {
   "cell_type": "code",
   "execution_count": 7,
   "metadata": {},
   "outputs": [
    {
     "data": {
      "text/plain": [
       "0"
      ]
     },
     "execution_count": 7,
     "metadata": {},
     "output_type": "execute_result"
    }
   ],
   "source": [
    "my_file.seek(0)"
   ]
  },
  {
   "cell_type": "code",
   "execution_count": 8,
   "metadata": {},
   "outputs": [
    {
     "data": {
      "text/plain": [
       "'Hello, this is a quick test file.\\n'"
      ]
     },
     "execution_count": 8,
     "metadata": {},
     "output_type": "execute_result"
    }
   ],
   "source": [
    "# readline method returns 1 line at a time. (caution: remember where the cursor is)\n",
    "my_file.readline()"
   ]
  },
  {
   "cell_type": "code",
   "execution_count": 9,
   "metadata": {},
   "outputs": [
    {
     "data": {
      "text/plain": [
       "'This is the second line for the text file.\\n'"
      ]
     },
     "execution_count": 9,
     "metadata": {},
     "output_type": "execute_result"
    }
   ],
   "source": [
    "my_file.readline()"
   ]
  },
  {
   "cell_type": "code",
   "execution_count": 10,
   "metadata": {},
   "outputs": [
    {
     "data": {
      "text/plain": [
       "''"
      ]
     },
     "execution_count": 10,
     "metadata": {},
     "output_type": "execute_result"
    }
   ],
   "source": [
    "my_file.readline()"
   ]
  },
  {
   "cell_type": "code",
   "execution_count": 11,
   "metadata": {},
   "outputs": [
    {
     "data": {
      "text/plain": [
       "0"
      ]
     },
     "execution_count": 11,
     "metadata": {},
     "output_type": "execute_result"
    }
   ],
   "source": [
    "my_file.seek(0)"
   ]
  },
  {
   "cell_type": "code",
   "execution_count": 12,
   "metadata": {},
   "outputs": [
    {
     "data": {
      "text/plain": [
       "['Hello, this is a quick test file.\\n',\n",
       " 'This is the second line for the text file.\\n']"
      ]
     },
     "execution_count": 12,
     "metadata": {},
     "output_type": "execute_result"
    }
   ],
   "source": [
    "# Readlines method returns a list of all the lines in the file\n",
    "my_file.readlines()"
   ]
  },
  {
   "cell_type": "code",
   "execution_count": 13,
   "metadata": {},
   "outputs": [
    {
     "data": {
      "text/plain": [
       "[]"
      ]
     },
     "execution_count": 13,
     "metadata": {},
     "output_type": "execute_result"
    }
   ],
   "source": [
    "my_file.readlines()"
   ]
  },
  {
   "cell_type": "code",
   "execution_count": 14,
   "metadata": {},
   "outputs": [
    {
     "name": "stdout",
     "output_type": "stream",
     "text": [
      "Hello, this is a quick test file.\n",
      "\n"
     ]
    }
   ],
   "source": [
    "my_file.seek(0)\n",
    "\n",
    "for line in my_file.readlines():\n",
    "    if line.startswith('Hello'):\n",
    "        print(line)"
   ]
  },
  {
   "cell_type": "markdown",
   "metadata": {},
   "source": [
    "When you have finished using a file, it is always good practice to close it."
   ]
  },
  {
   "cell_type": "code",
   "execution_count": 15,
   "metadata": {},
   "outputs": [],
   "source": [
    "my_file.close()"
   ]
  },
  {
   "cell_type": "code",
   "execution_count": 16,
   "metadata": {},
   "outputs": [
    {
     "data": {
      "text/plain": [
       "True"
      ]
     },
     "execution_count": 16,
     "metadata": {},
     "output_type": "execute_result"
    }
   ],
   "source": [
    "# We can also check if the file is closed\n",
    "my_file.closed"
   ]
  },
  {
   "cell_type": "code",
   "execution_count": 17,
   "metadata": {},
   "outputs": [
    {
     "ename": "FileExistsError",
     "evalue": "[Errno 17] File exists: 'io_test1.txt'",
     "output_type": "error",
     "traceback": [
      "\u001b[1;31m---------------------------------------------------------------------------\u001b[0m",
      "\u001b[1;31mFileExistsError\u001b[0m                           Traceback (most recent call last)",
      "\u001b[1;32m<ipython-input-17-43163e8ed3c4>\u001b[0m in \u001b[0;36m<module>\u001b[1;34m\u001b[0m\n\u001b[0;32m      1\u001b[0m \u001b[1;31m# this is to illustrate the 'x' mode. if the cells above are run first, then the following will raise an exception\u001b[0m\u001b[1;33m\u001b[0m\u001b[1;33m\u001b[0m\u001b[1;33m\u001b[0m\u001b[0m\n\u001b[1;32m----> 2\u001b[1;33m \u001b[0mmy_file\u001b[0m \u001b[1;33m=\u001b[0m \u001b[0mopen\u001b[0m\u001b[1;33m(\u001b[0m\u001b[1;34m'io_test1.txt'\u001b[0m\u001b[1;33m,\u001b[0m \u001b[1;34m'x'\u001b[0m\u001b[1;33m)\u001b[0m\u001b[1;33m\u001b[0m\u001b[1;33m\u001b[0m\u001b[0m\n\u001b[0m",
      "\u001b[1;31mFileExistsError\u001b[0m: [Errno 17] File exists: 'io_test1.txt'"
     ]
    }
   ],
   "source": [
    "# this is to illustrate the 'x' mode. if the cells above are run first, then the following will raise an exception\n",
    "my_file = open('io_test1.txt', 'x')"
   ]
  },
  {
   "cell_type": "markdown",
   "metadata": {},
   "source": [
    "<a id='iterate'></a>\n",
    "### <ins>Iterating through a File</ins>\n",
    "Lets get a quick preview of a for loop by iterating over a text file. First let's make a new text file with some IPython Magic:"
   ]
  },
  {
   "cell_type": "code",
   "execution_count": 18,
   "metadata": {},
   "outputs": [
    {
     "name": "stdout",
     "output_type": "stream",
     "text": [
      "Writing io_test2.txt\n"
     ]
    }
   ],
   "source": [
    "%%writefile io_test2.txt\n",
    "First Line\n",
    "Second Line"
   ]
  },
  {
   "cell_type": "markdown",
   "metadata": {},
   "source": [
    "Now we can use a little bit of flow to tell the program to interate through every line of the file and do something:"
   ]
  },
  {
   "cell_type": "code",
   "execution_count": 19,
   "metadata": {},
   "outputs": [
    {
     "name": "stdout",
     "output_type": "stream",
     "text": [
      "First Line\n",
      "\n",
      "Second Line\n",
      "\n"
     ]
    }
   ],
   "source": [
    "# the difference of not using .read() means the text file is not stored in memory\n",
    "for line in open('io_test2.txt'):\n",
    "    print(line)"
   ]
  },
  {
   "cell_type": "code",
   "execution_count": 20,
   "metadata": {},
   "outputs": [
    {
     "name": "stdout",
     "output_type": "stream",
     "text": [
      "First Line\n",
      "Second Line\n",
      "\n"
     ]
    }
   ],
   "source": [
    "myfile = open('io_test2.txt', 'r')\n",
    "contents = myfile.read()\n",
    "myfile.close()\n",
    "\n",
    "print(contents)"
   ]
  },
  {
   "cell_type": "code",
   "execution_count": 21,
   "metadata": {},
   "outputs": [
    {
     "name": "stdout",
     "output_type": "stream",
     "text": [
      "['First Line\\n', 'Second Line\\n']\n"
     ]
    }
   ],
   "source": [
    "myfile = open('io_test2.txt', 'r')\n",
    "contents = myfile.readlines()\n",
    "print(contents)\n",
    "myfile.close()"
   ]
  },
  {
   "cell_type": "markdown",
   "metadata": {},
   "source": [
    "|Value|Mode|Purpose|\n",
    "|:-:|:-:|:-:|\n",
    "|r|Reading|Read only. The default!|\n",
    "|w+|Write|Use to change (and create) file contents|\n",
    "|a+|Append|Use to write to the end of a file|\n",
    "|r+|Read Plus|Can do both read and write|\n",
    "|x|Exclusive Creation|Fails if file already exists <br>(same as w mode but raises an exception if the file exists)|"
   ]
  },
  {
   "cell_type": "markdown",
   "metadata": {},
   "source": [
    "<a id='write'></a>\n",
    "## WRITING TO A FILE\n",
    "By default, the `open()` function will only allow us to read the file. We need to pass the argument `'w'` to write over the file. "
   ]
  },
  {
   "cell_type": "code",
   "execution_count": 22,
   "metadata": {},
   "outputs": [
    {
     "name": "stdout",
     "output_type": "stream",
     "text": [
      "Enter your name: Peter Picker\n"
     ]
    }
   ],
   "source": [
    "user_name = input('Enter your name: ')\n",
    "\n",
    "# caution - this will overwrite everything in the file\n",
    "my_file_writing = open('io_test3.txt', 'w')     \n",
    "my_file_writing.write(user_name)\n",
    "\n",
    "my_file_writing.close()"
   ]
  },
  {
   "cell_type": "code",
   "execution_count": 23,
   "metadata": {},
   "outputs": [
    {
     "name": "stdout",
     "output_type": "stream",
     "text": [
      "Peter Picker\n"
     ]
    }
   ],
   "source": [
    "my_file = open('io_test3.txt', 'r')\n",
    "file_content1 = my_file.read()\n",
    "my_file.close()\n",
    "\n",
    "print(file_content1) "
   ]
  },
  {
   "cell_type": "markdown",
   "metadata": {},
   "source": [
    "The following cell illustrates how using `mode='w'` will overwrite everything in the file."
   ]
  },
  {
   "cell_type": "code",
   "execution_count": 24,
   "metadata": {},
   "outputs": [
    {
     "name": "stdout",
     "output_type": "stream",
     "text": [
      "Enter your name: Bruce Wayanss\n",
      "Bruce Wayanss\n"
     ]
    }
   ],
   "source": [
    "user_name = input('Enter your name: ')\n",
    "my_file_writing = open('io_test3.txt', 'w')     \n",
    "my_file_writing.write(user_name)\n",
    "\n",
    "my_file_writing.close()\n",
    "\n",
    "my_file = open('io_test3.txt', 'r')\n",
    "file_content1 = my_file.read()\n",
    "my_file.close()\n",
    "\n",
    "print(file_content1) "
   ]
  },
  {
   "cell_type": "code",
   "execution_count": 25,
   "metadata": {},
   "outputs": [
    {
     "name": "stdout",
     "output_type": "stream",
     "text": [
      "None\n"
     ]
    }
   ],
   "source": [
    "my_file = open('io_test4.txt', 'w')\n",
    "\n",
    "# the writelines method will print the elements without spaces\n",
    "file_content2 = my_file.writelines(['hello', 'world', '!!!'])\n",
    "\n",
    "my_file.close()\n",
    "\n",
    "print(file_content2) "
   ]
  },
  {
   "cell_type": "code",
   "execution_count": 26,
   "metadata": {},
   "outputs": [
    {
     "data": {
      "text/plain": [
       "True"
      ]
     },
     "execution_count": 26,
     "metadata": {},
     "output_type": "execute_result"
    }
   ],
   "source": [
    "my_file.closed"
   ]
  },
  {
   "cell_type": "markdown",
   "metadata": {},
   "source": [
    "### <strong><font color='red'>Use caution!</font></strong> \n",
    "Opening a file with `'w'` or `'w+'` truncates the original, meaning that anything that was in the original file **is deleted**!"
   ]
  },
  {
   "cell_type": "code",
   "execution_count": 27,
   "metadata": {},
   "outputs": [
    {
     "name": "stdout",
     "output_type": "stream",
     "text": [
      "w+\n",
      "This is a new line\n"
     ]
    }
   ],
   "source": [
    "# Add a second argument to the function, 'w' which stands for write.\n",
    "# Passing 'w+' lets us read and write to the file\n",
    "\n",
    "my_file = open('io_test5.txt','w+')\n",
    "print(my_file.mode)\n",
    "\n",
    "# Write to the file\n",
    "my_file.write('This is a new line')\n",
    "\n",
    "# Read the file\n",
    "my_file.seek(0)\n",
    "contents = my_file.read()\n",
    "print(contents)\n",
    "\n",
    "my_file.close()     # always do this when you're done with a file"
   ]
  },
  {
   "cell_type": "code",
   "execution_count": 28,
   "metadata": {},
   "outputs": [],
   "source": [
    "# we can also delete the contents of a file using the truncate method\n",
    "my_file = open('io_test5.txt','w+')\n",
    "\n",
    "my_file.truncate()      \n",
    "\n",
    "my_file.close()"
   ]
  },
  {
   "cell_type": "markdown",
   "metadata": {},
   "source": [
    "<a id='append'></a>\n",
    "## APPENDING TO A FILE\n",
    "Passing the argument `'a'` opens the file and puts the pointer at the end, so anything written is appended. Like `'w+'`, `'a+'` lets us read and write to a file. If the file does not exist, one will be created."
   ]
  },
  {
   "cell_type": "code",
   "execution_count": 29,
   "metadata": {},
   "outputs": [
    {
     "data": {
      "text/plain": [
       "23"
      ]
     },
     "execution_count": 29,
     "metadata": {},
     "output_type": "execute_result"
    }
   ],
   "source": [
    "my_file = open('io_test4.txt','a+')\n",
    "my_file.write('\\nThis is text being appended to io_test4.txt')\n",
    "my_file.write('\\nAnd another line here.')"
   ]
  },
  {
   "cell_type": "code",
   "execution_count": 30,
   "metadata": {},
   "outputs": [
    {
     "name": "stdout",
     "output_type": "stream",
     "text": [
      "helloworld!!!\n",
      "This is text being appended to io_test4.txt\n",
      "And another line here.\n"
     ]
    }
   ],
   "source": [
    "my_file.seek(0)\n",
    "print(my_file.read())"
   ]
  },
  {
   "cell_type": "code",
   "execution_count": 31,
   "metadata": {},
   "outputs": [],
   "source": [
    "my_file.close()"
   ]
  },
  {
   "cell_type": "markdown",
   "metadata": {},
   "source": [
    "<a id='ippend'></a>\n",
    "## IPYTHON APPENDING TO A FILE WITH `%%writefile`\n",
    "We can append using IPython cell magic:"
   ]
  },
  {
   "cell_type": "code",
   "execution_count": 32,
   "metadata": {},
   "outputs": [
    {
     "name": "stdout",
     "output_type": "stream",
     "text": [
      "Writing io_test6.txt\n"
     ]
    }
   ],
   "source": [
    "%%writefile io_test6.txt\n",
    "Hello there, this line is to create the file."
   ]
  },
  {
   "cell_type": "code",
   "execution_count": 33,
   "metadata": {},
   "outputs": [
    {
     "name": "stdout",
     "output_type": "stream",
     "text": [
      "Appending to io_test6.txt\n"
     ]
    }
   ],
   "source": [
    "%%writefile -a io_test6.txt\n",
    "\n",
    "This is text being appended to the file.\n",
    "Take note of the \"-a\" being used in the code."
   ]
  },
  {
   "cell_type": "code",
   "execution_count": 34,
   "metadata": {},
   "outputs": [
    {
     "name": "stdout",
     "output_type": "stream",
     "text": [
      "Overwriting io_test6.txt\n"
     ]
    }
   ],
   "source": [
    "%%writefile io_test6.txt\n",
    "This line shows how easy it is to overwite things"
   ]
  },
  {
   "cell_type": "markdown",
   "metadata": {},
   "source": [
    "Add a blank space if you want the first line to begin on its own line, as Jupyter won't recognize escape sequences like `\\n`"
   ]
  },
  {
   "cell_type": "markdown",
   "metadata": {},
   "source": [
    "<a id='with'></a>\n",
    "## `with` STATEMENT CONTEXT MANAGERS\n",
    "\n",
    "When you open a file using `f = open()`, the file stays open until you specifically call `f.close()`. Should an exception be raised while working with the file, it remains open. This can lead to vulnerabilities in your code, and inefficient use of resources.\n",
    "\n",
    "A context manager handles the opening and closing of resources, and provides a built-in `try/finally` block should any exceptions occur.\n",
    "\n",
    "The best way to demonstrate this is with an example.\n",
    "\n",
    "<a id='open'></a>\n",
    "### <ins>Standard `open()` procedure, with a raised exception</ins>"
   ]
  },
  {
   "cell_type": "code",
   "execution_count": 35,
   "metadata": {},
   "outputs": [
    {
     "ename": "UnsupportedOperation",
     "evalue": "not readable",
     "output_type": "error",
     "traceback": [
      "\u001b[1;31m---------------------------------------------------------------------------\u001b[0m",
      "\u001b[1;31mUnsupportedOperation\u001b[0m                      Traceback (most recent call last)",
      "\u001b[1;32m<ipython-input-35-89df3f1544d6>\u001b[0m in \u001b[0;36m<module>\u001b[1;34m\u001b[0m\n\u001b[0;32m      1\u001b[0m \u001b[0mp\u001b[0m \u001b[1;33m=\u001b[0m \u001b[0mopen\u001b[0m\u001b[1;33m(\u001b[0m\u001b[1;34m'io_try.txt'\u001b[0m\u001b[1;33m,\u001b[0m\u001b[1;34m'a'\u001b[0m\u001b[1;33m)\u001b[0m\u001b[1;33m\u001b[0m\u001b[1;33m\u001b[0m\u001b[0m\n\u001b[1;32m----> 2\u001b[1;33m \u001b[0mp\u001b[0m\u001b[1;33m.\u001b[0m\u001b[0mreadlines\u001b[0m\u001b[1;33m(\u001b[0m\u001b[1;33m)\u001b[0m\u001b[1;33m\u001b[0m\u001b[1;33m\u001b[0m\u001b[0m\n\u001b[0m\u001b[0;32m      3\u001b[0m \u001b[0mp\u001b[0m\u001b[1;33m.\u001b[0m\u001b[0mclose\u001b[0m\u001b[1;33m(\u001b[0m\u001b[1;33m)\u001b[0m\u001b[1;33m\u001b[0m\u001b[1;33m\u001b[0m\u001b[0m\n",
      "\u001b[1;31mUnsupportedOperation\u001b[0m: not readable"
     ]
    }
   ],
   "source": [
    "p = open('io_try.txt','a')\n",
    "p.readlines()\n",
    "p.close()"
   ]
  },
  {
   "cell_type": "markdown",
   "metadata": {},
   "source": [
    "Let's see if we can modify our file:"
   ]
  },
  {
   "cell_type": "code",
   "execution_count": 36,
   "metadata": {},
   "outputs": [
    {
     "data": {
      "text/plain": [
       "13"
      ]
     },
     "execution_count": 36,
     "metadata": {},
     "output_type": "execute_result"
    }
   ],
   "source": [
    "p.write('Add some text')"
   ]
  },
  {
   "cell_type": "markdown",
   "metadata": {},
   "source": [
    "Ouch! I may not have wanted to do that until I traced the exception! Unfortunately, the exception prevented the last line, `p.close()` from running. Let's close the file manually:"
   ]
  },
  {
   "cell_type": "code",
   "execution_count": 37,
   "metadata": {},
   "outputs": [],
   "source": [
    "p.close()"
   ]
  },
  {
   "cell_type": "markdown",
   "metadata": {},
   "source": [
    "<a id='try'></a>\n",
    "### <ins>Protect the file with `try / except / finally`</ins>\n",
    "\n",
    "A common workaround is to insert a `try/except/finally` clause to close the file whenever an exception is raised:"
   ]
  },
  {
   "cell_type": "code",
   "execution_count": 38,
   "metadata": {},
   "outputs": [
    {
     "name": "stdout",
     "output_type": "stream",
     "text": [
      "An exception was raised!\n"
     ]
    }
   ],
   "source": [
    "p = open('io_try.txt','a')\n",
    "try:\n",
    "    p.readlines()\n",
    "except:\n",
    "    print('An exception was raised!')\n",
    "finally:\n",
    "    p.close()"
   ]
  },
  {
   "cell_type": "markdown",
   "metadata": {},
   "source": [
    "Let's see if we can modify our file this time:"
   ]
  },
  {
   "cell_type": "code",
   "execution_count": 39,
   "metadata": {},
   "outputs": [
    {
     "ename": "ValueError",
     "evalue": "I/O operation on closed file.",
     "output_type": "error",
     "traceback": [
      "\u001b[1;31m---------------------------------------------------------------------------\u001b[0m",
      "\u001b[1;31mValueError\u001b[0m                                Traceback (most recent call last)",
      "\u001b[1;32m<ipython-input-39-88e0aa699ebd>\u001b[0m in \u001b[0;36m<module>\u001b[1;34m\u001b[0m\n\u001b[1;32m----> 1\u001b[1;33m \u001b[0mp\u001b[0m\u001b[1;33m.\u001b[0m\u001b[0mwrite\u001b[0m\u001b[1;33m(\u001b[0m\u001b[1;34m'trying to add one more line'\u001b[0m\u001b[1;33m)\u001b[0m\u001b[1;33m\u001b[0m\u001b[1;33m\u001b[0m\u001b[0m\n\u001b[0m",
      "\u001b[1;31mValueError\u001b[0m: I/O operation on closed file."
     ]
    }
   ],
   "source": [
    "p.write('trying to add one more line')"
   ]
  },
  {
   "cell_type": "markdown",
   "metadata": {},
   "source": [
    "Our file is safe."
   ]
  },
  {
   "cell_type": "markdown",
   "metadata": {},
   "source": [
    "<a id='steps'></a>\n",
    "### <ins>Save Steps with `with`</ins>\n",
    "\n",
    "Now we'll employ our context manager. The syntax follows: `with [resource] as [target]: do something`"
   ]
  },
  {
   "cell_type": "code",
   "execution_count": 40,
   "metadata": {},
   "outputs": [
    {
     "ename": "UnsupportedOperation",
     "evalue": "not readable",
     "output_type": "error",
     "traceback": [
      "\u001b[1;31m---------------------------------------------------------------------------\u001b[0m",
      "\u001b[1;31mUnsupportedOperation\u001b[0m                      Traceback (most recent call last)",
      "\u001b[1;32m<ipython-input-40-1e517329fb09>\u001b[0m in \u001b[0;36m<module>\u001b[1;34m\u001b[0m\n\u001b[0;32m      1\u001b[0m \u001b[1;32mwith\u001b[0m \u001b[0mopen\u001b[0m\u001b[1;33m(\u001b[0m\u001b[1;34m'io_try1.txt'\u001b[0m\u001b[1;33m,\u001b[0m\u001b[1;34m'a'\u001b[0m\u001b[1;33m)\u001b[0m \u001b[1;32mas\u001b[0m \u001b[0mp\u001b[0m\u001b[1;33m:\u001b[0m\u001b[1;33m\u001b[0m\u001b[1;33m\u001b[0m\u001b[0m\n\u001b[1;32m----> 2\u001b[1;33m     \u001b[0mp\u001b[0m\u001b[1;33m.\u001b[0m\u001b[0mreadlines\u001b[0m\u001b[1;33m(\u001b[0m\u001b[1;33m)\u001b[0m\u001b[1;33m\u001b[0m\u001b[1;33m\u001b[0m\u001b[0m\n\u001b[0m",
      "\u001b[1;31mUnsupportedOperation\u001b[0m: not readable"
     ]
    }
   ],
   "source": [
    "with open('io_try1.txt','a') as p:\n",
    "    p.readlines()"
   ]
  },
  {
   "cell_type": "markdown",
   "metadata": {},
   "source": [
    "Can we modify the file?"
   ]
  },
  {
   "cell_type": "code",
   "execution_count": 41,
   "metadata": {},
   "outputs": [
    {
     "ename": "ValueError",
     "evalue": "I/O operation on closed file.",
     "output_type": "error",
     "traceback": [
      "\u001b[1;31m---------------------------------------------------------------------------\u001b[0m",
      "\u001b[1;31mValueError\u001b[0m                                Traceback (most recent call last)",
      "\u001b[1;32m<ipython-input-41-c6fd36e51382>\u001b[0m in \u001b[0;36m<module>\u001b[1;34m\u001b[0m\n\u001b[1;32m----> 1\u001b[1;33m \u001b[0mp\u001b[0m\u001b[1;33m.\u001b[0m\u001b[0mwrite\u001b[0m\u001b[1;33m(\u001b[0m\u001b[1;34m'Trying to modify the file now.'\u001b[0m\u001b[1;33m)\u001b[0m\u001b[1;33m\u001b[0m\u001b[1;33m\u001b[0m\u001b[0m\n\u001b[0m",
      "\u001b[1;31mValueError\u001b[0m: I/O operation on closed file."
     ]
    }
   ],
   "source": [
    "p.write('Trying to modify the file now.')"
   ]
  },
  {
   "cell_type": "code",
   "execution_count": 42,
   "metadata": {},
   "outputs": [
    {
     "data": {
      "text/plain": [
       "True"
      ]
     },
     "execution_count": 42,
     "metadata": {},
     "output_type": "execute_result"
    }
   ],
   "source": [
    "p.closed"
   ]
  },
  {
   "cell_type": "markdown",
   "metadata": {},
   "source": [
    "With just one line of code we've handled opening the file, enclosing our code in a `try/finally` block, and closing our file all at the same time.\n",
    "\n",
    "Let's take another look at an example where the file does not exist."
   ]
  },
  {
   "cell_type": "code",
   "execution_count": 43,
   "metadata": {},
   "outputs": [
    {
     "name": "stdout",
     "output_type": "stream",
     "text": [
      "file does not exist\n"
     ]
    },
    {
     "ename": "FileNotFoundError",
     "evalue": "[Errno 2] No such file or directory: 'io_try_but_fail.txt'",
     "output_type": "error",
     "traceback": [
      "\u001b[1;31m---------------------------------------------------------------------------\u001b[0m",
      "\u001b[1;31mFileNotFoundError\u001b[0m                         Traceback (most recent call last)",
      "\u001b[1;32m<ipython-input-43-b065b245467f>\u001b[0m in \u001b[0;36m<module>\u001b[1;34m\u001b[0m\n\u001b[0;32m      4\u001b[0m \u001b[1;32mexcept\u001b[0m \u001b[0mFileNotFoundError\u001b[0m \u001b[1;32mas\u001b[0m \u001b[0merr\u001b[0m\u001b[1;33m:\u001b[0m\u001b[1;33m\u001b[0m\u001b[1;33m\u001b[0m\u001b[0m\n\u001b[0;32m      5\u001b[0m     \u001b[0mprint\u001b[0m\u001b[1;33m(\u001b[0m\u001b[1;34m'file does not exist'\u001b[0m\u001b[1;33m)\u001b[0m\u001b[1;33m\u001b[0m\u001b[1;33m\u001b[0m\u001b[0m\n\u001b[1;32m----> 6\u001b[1;33m     \u001b[1;32mraise\u001b[0m \u001b[0merr\u001b[0m\u001b[1;33m\u001b[0m\u001b[1;33m\u001b[0m\u001b[0m\n\u001b[0m\u001b[0;32m      7\u001b[0m \u001b[1;32mexcept\u001b[0m \u001b[0mIOError\u001b[0m \u001b[1;32mas\u001b[0m \u001b[0merr1\u001b[0m\u001b[1;33m:\u001b[0m\u001b[1;33m\u001b[0m\u001b[1;33m\u001b[0m\u001b[0m\n\u001b[0;32m      8\u001b[0m     \u001b[0mprint\u001b[0m\u001b[1;33m(\u001b[0m\u001b[1;34m'IO error'\u001b[0m\u001b[1;33m)\u001b[0m\u001b[1;33m\u001b[0m\u001b[1;33m\u001b[0m\u001b[0m\n",
      "\u001b[1;32m<ipython-input-43-b065b245467f>\u001b[0m in \u001b[0;36m<module>\u001b[1;34m\u001b[0m\n\u001b[0;32m      1\u001b[0m \u001b[1;32mtry\u001b[0m\u001b[1;33m:\u001b[0m\u001b[1;33m\u001b[0m\u001b[1;33m\u001b[0m\u001b[0m\n\u001b[1;32m----> 2\u001b[1;33m     \u001b[1;32mwith\u001b[0m \u001b[0mopen\u001b[0m\u001b[1;33m(\u001b[0m\u001b[1;34m'io_try_but_fail.txt'\u001b[0m\u001b[1;33m,\u001b[0m \u001b[0mmode\u001b[0m\u001b[1;33m=\u001b[0m\u001b[1;34m'r'\u001b[0m\u001b[1;33m)\u001b[0m \u001b[1;32mas\u001b[0m \u001b[0mmy_file\u001b[0m\u001b[1;33m:\u001b[0m\u001b[1;33m\u001b[0m\u001b[1;33m\u001b[0m\u001b[0m\n\u001b[0m\u001b[0;32m      3\u001b[0m         \u001b[0mprint\u001b[0m\u001b[1;33m(\u001b[0m\u001b[0mmy_file\u001b[0m\u001b[1;33m.\u001b[0m\u001b[0mread\u001b[0m\u001b[1;33m(\u001b[0m\u001b[1;33m)\u001b[0m\u001b[1;33m)\u001b[0m\u001b[1;33m\u001b[0m\u001b[1;33m\u001b[0m\u001b[0m\n\u001b[0;32m      4\u001b[0m \u001b[1;32mexcept\u001b[0m \u001b[0mFileNotFoundError\u001b[0m \u001b[1;32mas\u001b[0m \u001b[0merr\u001b[0m\u001b[1;33m:\u001b[0m\u001b[1;33m\u001b[0m\u001b[1;33m\u001b[0m\u001b[0m\n\u001b[0;32m      5\u001b[0m     \u001b[0mprint\u001b[0m\u001b[1;33m(\u001b[0m\u001b[1;34m'file does not exist'\u001b[0m\u001b[1;33m)\u001b[0m\u001b[1;33m\u001b[0m\u001b[1;33m\u001b[0m\u001b[0m\n",
      "\u001b[1;31mFileNotFoundError\u001b[0m: [Errno 2] No such file or directory: 'io_try_but_fail.txt'"
     ]
    }
   ],
   "source": [
    "try:\n",
    "    with open('io_try_but_fail.txt', mode='r') as my_file:\n",
    "        print(my_file.read())\n",
    "except FileNotFoundError as err:\n",
    "    print('file does not exist')\n",
    "    raise err\n",
    "except IOError as err1:\n",
    "    print('IO error')\n",
    "    raise err1"
   ]
  },
  {
   "cell_type": "code",
   "execution_count": 44,
   "metadata": {},
   "outputs": [],
   "source": [
    "with open('io_try2_text.txt', 'w') as file: \n",
    "    file.write('Hello my name is michael.\\n')\n",
    "    file.write('I am 38 years old.\\n')"
   ]
  },
  {
   "cell_type": "code",
   "execution_count": 45,
   "metadata": {},
   "outputs": [
    {
     "name": "stdout",
     "output_type": "stream",
     "text": [
      "こんにちは、私の名前はマイケルです。\n"
     ]
    },
    {
     "ename": "UnicodeEncodeError",
     "evalue": "'charmap' codec can't encode characters in position 0-17: character maps to <undefined>",
     "output_type": "error",
     "traceback": [
      "\u001b[1;31m---------------------------------------------------------------------------\u001b[0m",
      "\u001b[1;31mUnicodeEncodeError\u001b[0m                        Traceback (most recent call last)",
      "\u001b[1;32m<ipython-input-45-c5dd69f68386>\u001b[0m in \u001b[0;36m<module>\u001b[1;34m\u001b[0m\n\u001b[0;32m     12\u001b[0m         \u001b[0mprint\u001b[0m\u001b[1;33m(\u001b[0m\u001b[0mtranslation\u001b[0m\u001b[1;33m)\u001b[0m\u001b[1;33m\u001b[0m\u001b[1;33m\u001b[0m\u001b[0m\n\u001b[0;32m     13\u001b[0m         \u001b[1;32mwith\u001b[0m \u001b[0mopen\u001b[0m\u001b[1;33m(\u001b[0m\u001b[1;34m'io_try2_translator1.txt'\u001b[0m\u001b[1;33m,\u001b[0m\u001b[1;34m'w'\u001b[0m\u001b[1;33m)\u001b[0m \u001b[1;32mas\u001b[0m \u001b[0mmy_file\u001b[0m\u001b[1;33m:\u001b[0m\u001b[1;33m\u001b[0m\u001b[1;33m\u001b[0m\u001b[0m\n\u001b[1;32m---> 14\u001b[1;33m             \u001b[0mmy_file\u001b[0m\u001b[1;33m.\u001b[0m\u001b[0mwrite\u001b[0m\u001b[1;33m(\u001b[0m\u001b[0mtranslation\u001b[0m\u001b[1;33m)\u001b[0m\u001b[1;33m\u001b[0m\u001b[1;33m\u001b[0m\u001b[0m\n\u001b[0m",
      "\u001b[1;32m~\\anaconda3\\lib\\encodings\\cp1252.py\u001b[0m in \u001b[0;36mencode\u001b[1;34m(self, input, final)\u001b[0m\n\u001b[0;32m     17\u001b[0m \u001b[1;32mclass\u001b[0m \u001b[0mIncrementalEncoder\u001b[0m\u001b[1;33m(\u001b[0m\u001b[0mcodecs\u001b[0m\u001b[1;33m.\u001b[0m\u001b[0mIncrementalEncoder\u001b[0m\u001b[1;33m)\u001b[0m\u001b[1;33m:\u001b[0m\u001b[1;33m\u001b[0m\u001b[1;33m\u001b[0m\u001b[0m\n\u001b[0;32m     18\u001b[0m     \u001b[1;32mdef\u001b[0m \u001b[0mencode\u001b[0m\u001b[1;33m(\u001b[0m\u001b[0mself\u001b[0m\u001b[1;33m,\u001b[0m \u001b[0minput\u001b[0m\u001b[1;33m,\u001b[0m \u001b[0mfinal\u001b[0m\u001b[1;33m=\u001b[0m\u001b[1;32mFalse\u001b[0m\u001b[1;33m)\u001b[0m\u001b[1;33m:\u001b[0m\u001b[1;33m\u001b[0m\u001b[1;33m\u001b[0m\u001b[0m\n\u001b[1;32m---> 19\u001b[1;33m         \u001b[1;32mreturn\u001b[0m \u001b[0mcodecs\u001b[0m\u001b[1;33m.\u001b[0m\u001b[0mcharmap_encode\u001b[0m\u001b[1;33m(\u001b[0m\u001b[0minput\u001b[0m\u001b[1;33m,\u001b[0m\u001b[0mself\u001b[0m\u001b[1;33m.\u001b[0m\u001b[0merrors\u001b[0m\u001b[1;33m,\u001b[0m\u001b[0mencoding_table\u001b[0m\u001b[1;33m)\u001b[0m\u001b[1;33m[\u001b[0m\u001b[1;36m0\u001b[0m\u001b[1;33m]\u001b[0m\u001b[1;33m\u001b[0m\u001b[1;33m\u001b[0m\u001b[0m\n\u001b[0m\u001b[0;32m     20\u001b[0m \u001b[1;33m\u001b[0m\u001b[0m\n\u001b[0;32m     21\u001b[0m \u001b[1;32mclass\u001b[0m \u001b[0mIncrementalDecoder\u001b[0m\u001b[1;33m(\u001b[0m\u001b[0mcodecs\u001b[0m\u001b[1;33m.\u001b[0m\u001b[0mIncrementalDecoder\u001b[0m\u001b[1;33m)\u001b[0m\u001b[1;33m:\u001b[0m\u001b[1;33m\u001b[0m\u001b[1;33m\u001b[0m\u001b[0m\n",
      "\u001b[1;31mUnicodeEncodeError\u001b[0m: 'charmap' codec can't encode characters in position 0-17: character maps to <undefined>"
     ]
    }
   ],
   "source": [
    "from translate import Translator\n",
    "# translator = Translator(to_lang=\"ja\")\n",
    "# translation = translator.translate(\"This is a pen.\")\n",
    "# print(translation)\n",
    "\n",
    "with open('io_try2_text.txt', 'r') as file:\n",
    "    contents = file.readlines()\n",
    "    translator = Translator(to_lang=\"ja\")\n",
    "    \n",
    "    for line in contents:\n",
    "        translation = translator.translate(line)\n",
    "        print(translation)\n",
    "        with open('io_try2_translator1.txt','w') as my_file:\n",
    "            my_file.write(translation)"
   ]
  },
  {
   "cell_type": "code",
   "execution_count": 46,
   "metadata": {},
   "outputs": [
    {
     "name": "stdout",
     "output_type": "stream",
     "text": [
      "こんにちは、私の名前はマイケルです。\n",
      "私は38歳です。\n"
     ]
    }
   ],
   "source": [
    "with open('io_try2_text.txt', 'r') as file:\n",
    "    contents = file.readlines()\n",
    "    translator = Translator(to_lang=\"ja\")\n",
    "    \n",
    "    for line in contents:\n",
    "        line = line.replace('\\n', '')\n",
    "        translation = translator.translate(line)\n",
    "        print(translation)\n",
    "        with open('io_try2_translator2.txt','a',encoding='utf-8') as my_file:\n",
    "            my_file.write(translation)\n",
    "            my_file.write('\\n')      "
   ]
  },
  {
   "cell_type": "markdown",
   "metadata": {},
   "source": [
    "We can also easily copy files."
   ]
  },
  {
   "cell_type": "code",
   "execution_count": 47,
   "metadata": {},
   "outputs": [],
   "source": [
    "# Method 1\n",
    "\n",
    "# This takes the info from one file; sets it to a variable; \n",
    "# then creates another file and copies the info over.\n",
    "\n",
    "# the r is default mode so no need to include\n",
    "file = open('io_try2_text.txt', 'r')\n",
    "file_contents = file.read()\n",
    "\n",
    "new_file = open('io_try2_text_copy.txt', 'w')\n",
    "new_file.write(file_contents)\n",
    "\n",
    "file.close()\n",
    "new_file.close()"
   ]
  },
  {
   "cell_type": "code",
   "execution_count": 48,
   "metadata": {},
   "outputs": [],
   "source": [
    "# Method 2\n",
    "\n",
    "with open('io_try2_text.txt', 'r') as file:\n",
    "    file_contents = file.read()\n",
    "    \n",
    "with open('io_try2_text_copy.txt', 'w') as file2:\n",
    "    file2.write(file_contents)"
   ]
  },
  {
   "cell_type": "code",
   "execution_count": 49,
   "metadata": {},
   "outputs": [],
   "source": [
    "imelda = \"More Mayhem\", \"Imelda MAy\", \"2011\", (\n",
    "    (1, \"Pulling the Rug\"), (2,\"Psycho\"), (3, \"Mayhem\"), (4, \"Kentish Town Waltz\"))\n",
    "\n",
    "with open(\"io_try4.txt\", 'w') as imelda_file:\n",
    "    print(imelda, file=imelda_file)"
   ]
  },
  {
   "cell_type": "code",
   "execution_count": 50,
   "metadata": {},
   "outputs": [
    {
     "name": "stdout",
     "output_type": "stream",
     "text": [
      "('More Mayhem', 'Imelda MAy', '2011', ((1, 'Pulling the Rug'), (2, 'Psycho'), (3, 'Mayhem'), (4, 'Kentish Town Waltz')))\n",
      "More Mayhem\n",
      "Imelda MAy\n",
      "2011\n"
     ]
    }
   ],
   "source": [
    "with open(\"io_try4.txt\", 'r') as imelda_file:\n",
    "    contents = imelda_file.readline()\n",
    "\n",
    "imelda = eval(contents)\n",
    "\n",
    "print(imelda)\n",
    "title, artist, year, tracks = imelda\n",
    "print(title)\n",
    "print(artist)\n",
    "print(year)"
   ]
  },
  {
   "cell_type": "markdown",
   "metadata": {},
   "source": [
    "<a id='examples'></a>\n",
    "## MORE EXAMPLES"
   ]
  },
  {
   "cell_type": "code",
   "execution_count": 51,
   "metadata": {},
   "outputs": [
    {
     "name": "stdout",
     "output_type": "stream",
     "text": [
      "Name: The Matrix\tDirector:  Wachowski\n",
      "Name: Greek Book\tDirector:  Farrelly\n",
      "Name: Amadeus\tDirector:  Forman\n"
     ]
    }
   ],
   "source": [
    "movies = [\n",
    "    {'name': 'The Matrix', 'director': 'Wachowski'},\n",
    "    {'name': 'Greek Book', 'director': 'Farrelly'},\n",
    "    {'name': 'Amadeus', 'director': 'Forman'}\n",
    "]\n",
    "\n",
    "def write_to_file(output):\n",
    "    with open('io_eg1.csv', 'w') as f:\n",
    "        f.write('name, director\\n')\n",
    "        for line in output:\n",
    "            f.write(f\"{line['name']}, {line['director']}\\n\")\n",
    "\n",
    "\n",
    "def read_from_file():\n",
    "    with open('io_eg1.csv', 'r') as f:\n",
    "        content = f.readlines()\n",
    "        for line in content[1:]:\n",
    "            columns = line.strip().split(',')\n",
    "            print(f\"Name: {columns[0]}\\tDirector: {columns[1]}\")\n",
    "\n",
    "\n",
    "write_to_file(movies)\n",
    "read_from_file()"
   ]
  },
  {
   "cell_type": "code",
   "execution_count": 52,
   "metadata": {},
   "outputs": [
    {
     "name": "stdout",
     "output_type": "stream",
     "text": [
      "Name: The Matrix\tDirector: Wachowski\n",
      "Name: Greek Book\tDirector: Farrelly\n",
      "Name: Amadeus\tDirector: Forman\n"
     ]
    }
   ],
   "source": [
    "# another method to make the above easier:\n",
    "import csv\n",
    "\n",
    "def write_to_file(output):\n",
    "    with open('io_eg2.csv', 'w') as f:\n",
    "        writer = csv.DictWriter(f, fieldnames = ['name', 'director'])\n",
    "        writer.writeheader()\n",
    "        writer.writerows(output)\n",
    "\n",
    "def read_from_file():\n",
    "    with open('io_eg2.csv', 'r') as f:\n",
    "        reader = csv.DictReader(f)\n",
    "        for line in reader:\n",
    "            print(f\"Name: {line['name']}\\tDirector: {line['director']}\")\n",
    "\n",
    "        #return list(csv.DictReader(f))\n",
    "        #return list(reader)\n",
    "                  \n",
    "write_to_file(movies)\n",
    "read_from_file()"
   ]
  },
  {
   "cell_type": "code",
   "execution_count": 53,
   "metadata": {},
   "outputs": [
    {
     "name": "stdout",
     "output_type": "stream",
     "text": [
      "{'name': 'Jose', 'degree': 'Applied Computing'}\n",
      "Alfa Romeo\n"
     ]
    }
   ],
   "source": [
    "import json\n",
    "\n",
    "file = open('io_eg3_json_friends_text.txt','r')\n",
    "file_contents = json.load(file)  # reads file and converts to a dictionary\n",
    "\n",
    "file.close()\n",
    "\n",
    "print(file_contents['friends'][0])\n",
    "#print(file_contents)\n",
    "\n",
    "\n",
    "cars = [\n",
    "    {'make': 'Ford', 'model': 'Fiesta'},\n",
    "    {'make': 'Ford', 'model': 'Focus'},\n",
    "]\n",
    "\n",
    "# with open('io_eg3_json_cars_text.txt','w') as file:\n",
    "#     json.dump(cars, file)  # reads file and converts to a dictionary\n",
    "\n",
    "file = open('io_eg3_json_cars_text.txt','w')\n",
    "json.dump(cars, file)  # reads file and converts to a dictionary\n",
    "\n",
    "file.close()\n",
    "\n",
    "my_json_string = '[{\"name\": \"Alfa Romeo\", \"released\": 1950}]'\n",
    "incorrect_car = json.loads(my_json_string)\n",
    "print(incorrect_car[0]['name'])"
   ]
  },
  {
   "cell_type": "markdown",
   "metadata": {},
   "source": [
    "<a id='os'></a>\n",
    "## OS MODULE\n",
    "So far we've discussed how to open files manually, one by one. Let's explore how we can open files programatically. Python has a built-in [os module](https://docs.python.org/3/library/os.html) that allows us to use operating system dependent functionality.\n",
    "\n",
    "We will begin by creating a practice text file that we will be using for demonstration."
   ]
  },
  {
   "cell_type": "code",
   "execution_count": 54,
   "metadata": {},
   "outputs": [],
   "source": [
    "f = open('io_os_practice.txt','w+')\n",
    "f.write('This file will be deleted shortly.')\n",
    "f.close()"
   ]
  },
  {
   "cell_type": "markdown",
   "metadata": {},
   "source": [
    "<a id='direct'></a>\n",
    "### <ins>Getting Directories</ins>\n",
    "You can get the current directory:"
   ]
  },
  {
   "cell_type": "code",
   "execution_count": null,
   "metadata": {},
   "outputs": [],
   "source": [
    "# import os"
   ]
  },
  {
   "cell_type": "code",
   "execution_count": null,
   "metadata": {},
   "outputs": [],
   "source": [
    "# Returns the current working directory path. Only works in jupyter.\n",
    "# pwd"
   ]
  },
  {
   "cell_type": "code",
   "execution_count": null,
   "metadata": {},
   "outputs": [],
   "source": [
    "# Returns a unicode string representing the current working directory.\n",
    "# os.getcwd()"
   ]
  },
  {
   "cell_type": "code",
   "execution_count": null,
   "metadata": {},
   "outputs": [],
   "source": [
    "# Returns a unicode string representing the current working directory.\n",
    "# os.path.abspath(\"\")"
   ]
  },
  {
   "cell_type": "markdown",
   "metadata": {},
   "source": [
    "In modern Python (v3.4+) we can use pathlib to get the notebook's directory:"
   ]
  },
  {
   "cell_type": "code",
   "execution_count": null,
   "metadata": {},
   "outputs": [],
   "source": [
    "# from pathlib import Path\n",
    "\n",
    "# Path().resolve()\n",
    "# Path.cwd()"
   ]
  },
  {
   "cell_type": "markdown",
   "metadata": {},
   "source": [
    "<a id='listing'></a>\n",
    "### <ins>Listing Files in a Directory</ins>\n",
    "You can also use the os module to list directories within a folder. The default parameter for the path is `None` however you can pass in any string containing a valid file path."
   ]
  },
  {
   "cell_type": "code",
   "execution_count": null,
   "metadata": {},
   "outputs": [],
   "source": [
    "# Return a list of strings containing the names of the files in the directory.\n",
    "# os.listdir(path=None)"
   ]
  },
  {
   "cell_type": "markdown",
   "metadata": {
    "collapsed": true
   },
   "source": [
    "<a id='shutil'></a>\n",
    "### <ins>Moving Files With Shutil Module</ins> \n",
    "You can use the built-in **shutil** module to move files to different locations. Keep in mind, there are permission restrictions, for example if you are logged in a User A, you won't be able to make changes to the top level Users folder without the proper permissions, [more info](https://stackoverflow.com/questions/23253439/shutil-movescr-dst-gets-me-ioerror-errno-13-permission-denied-and-3-more-e).\n",
    "\n",
    "We first need to import the module:\n",
    "```python \n",
    "import shutil```\n",
    "\n",
    "Then run the following command:\n",
    "```python \n",
    "shutil.move(src,dst)```\n",
    "\n",
    "- src (source) is the string path of the file\n",
    "- dst (destination) is the string path of where you want the file to be moved to"
   ]
  },
  {
   "cell_type": "code",
   "execution_count": 55,
   "metadata": {},
   "outputs": [
    {
     "name": "stdout",
     "output_type": "stream",
     "text": [
      "['Error', 'ExecError', 'ReadError', 'RegistryError', 'SameFileError', 'SpecialFileError', '_ARCHIVE_FORMATS', '_BZ2_SUPPORTED', '_LZMA_SUPPORTED', '_UNPACK_FORMATS', '_ZLIB_SUPPORTED', '__all__', '__builtins__', '__cached__', '__doc__', '__file__', '__loader__', '__name__', '__package__', '__spec__', '_basename', '_check_unpack_options', '_copyxattr', '_destinsrc', '_ensure_directory', '_find_unpack_format', '_get_gid', '_get_uid', '_make_tarball', '_make_zipfile', '_ntuple_diskusage', '_rmtree_safe_fd', '_rmtree_unsafe', '_samefile', '_unpack_tarfile', '_unpack_zipfile', '_use_fd_functions', 'chown', 'collections', 'copy', 'copy2', 'copyfile', 'copyfileobj', 'copymode', 'copystat', 'copytree', 'disk_usage', 'errno', 'fnmatch', 'get_archive_formats', 'get_terminal_size', 'get_unpack_formats', 'getgrnam', 'getpwnam', 'ignore_patterns', 'make_archive', 'move', 'nt', 'os', 'register_archive_format', 'register_unpack_format', 'rmtree', 'stat', 'sys', 'unpack_archive', 'unregister_archive_format', 'unregister_unpack_format', 'which']\n"
     ]
    }
   ],
   "source": [
    "import shutil\n",
    "print(dir(shutil))"
   ]
  },
  {
   "cell_type": "markdown",
   "metadata": {},
   "source": [
    "<a id='delete'></a>\n",
    "### <ins>Deleting Files</ins> \n",
    "**NOTE: The os module provides 3 methods for deleting files:**\n",
    "* os.unlink(path) which deletes a file at the path your provide\n",
    "* os.rmdir(path) which deletes a folder (folder must be empty) at the path your provide\n",
    "* shutil.rmtree(path) this is the most dangerous, as it will remove all files and folders contained in the path.\n",
    "\n",
    "**All of these methods can not be reversed! Which means if you make a mistake you won't be able to recover the file. Instead we will use the send2trash module. A safer alternative that sends deleted files to the trash bin instead of permanent removal.**\n",
    "\n",
    "You will need to install the send2trash module with `pip install send2trash`."
   ]
  },
  {
   "cell_type": "code",
   "execution_count": 56,
   "metadata": {},
   "outputs": [],
   "source": [
    "import send2trash"
   ]
  },
  {
   "cell_type": "code",
   "execution_count": 57,
   "metadata": {},
   "outputs": [],
   "source": [
    "# this (path) format works becuase both the txt file  \n",
    "# and this jupyter file are in the same folder\n",
    "send2trash.send2trash('io_os_practice.txt')"
   ]
  },
  {
   "cell_type": "markdown",
   "metadata": {},
   "source": [
    "<a id='walkthrough'></a>\n",
    "### <ins>Walking through a directory</ins> \n",
    "\n",
    "Often you will just need to \"walk\" through a directory, that is visit every file or folder and check to see if a file is in the directory, and then perhaps do something with that file. Usually recursively walking through every file and folder in a directory would be quite tricky to program, but luckily the os module has a direct method call for this called **os.walk()**. "
   ]
  },
  {
   "cell_type": "code",
   "execution_count": null,
   "metadata": {},
   "outputs": [],
   "source": [
    "# The following code will show all the files and folders in the current working directory.\n",
    "\n",
    "# for folder , sub_folders , files in os.walk(os.getcwd()):\n",
    "#     print(folder)\n",
    "#     print(sub_folders)\n",
    "#     print(files)"
   ]
  },
  {
   "cell_type": "code",
   "execution_count": null,
   "metadata": {},
   "outputs": [],
   "source": [
    "# for folder , sub_folders , files in os.walk(os.getcwd()):\n",
    "    \n",
    "#     print(\"Currently looking at folder: \"+ folder)\n",
    "#     print('\\n')\n",
    "#     print(\"THE SUBFOLDERS ARE: \")\n",
    "#     for sub_fold in sub_folders:\n",
    "#         print(\"\\t Subfolder: \"+sub_fold )\n",
    "    \n",
    "#     print('\\n')\n",
    "    \n",
    "#     print(\"THE FILES ARE: \")\n",
    "#     for f in files:\n",
    "#         print(\"\\t File: \"+f)\n",
    "#     print('\\n')\n",
    "    \n",
    "#     # Now look at subfolders"
   ]
  },
  {
   "cell_type": "markdown",
   "metadata": {},
   "source": [
    "<a id='zip'></a>\n",
    "## UNZIPPING & ZIPPING FILES\n",
    "\n",
    "Files can be compressed to a zip format. Often people use special programs on their computer to unzip these files, luckily for us, Python can do the same task with just a few simple lines of code.\n",
    "\n",
    "### Create Files to Compress"
   ]
  },
  {
   "cell_type": "code",
   "execution_count": 58,
   "metadata": {},
   "outputs": [],
   "source": [
    "# slashes may need to change for MacOS or Linux\n",
    "f = open(\"io_zip1.txt\",'w+')\n",
    "f.write(\"Here is some text for the first file.\")\n",
    "f.close()"
   ]
  },
  {
   "cell_type": "code",
   "execution_count": 59,
   "metadata": {},
   "outputs": [],
   "source": [
    "# slashes may need to change for MacOS or Linux\n",
    "f = open(\"io_zip2.txt\",'w+')\n",
    "f.write(\"Here is some more text for the second file\")\n",
    "f.close()"
   ]
  },
  {
   "cell_type": "markdown",
   "metadata": {},
   "source": [
    "<a id='file_zip'></a>\n",
    "### <ins>Zipping Files</ins> \n",
    "\n",
    "The [zipfile library](https://docs.python.org/3/library/zipfile.html) is built in to Python. We can use it to compress folders or files. To compress all files in a folder, just use the os.walk() method to iterate this process for all the files in a directory."
   ]
  },
  {
   "cell_type": "code",
   "execution_count": 60,
   "metadata": {},
   "outputs": [],
   "source": [
    "import zipfile"
   ]
  },
  {
   "cell_type": "markdown",
   "metadata": {},
   "source": [
    " Create Zip file first , then write to it (the write step compresses the files.)"
   ]
  },
  {
   "cell_type": "code",
   "execution_count": 61,
   "metadata": {},
   "outputs": [],
   "source": [
    "comp_file = zipfile.ZipFile('io_zip_compressed_file.zip','w')"
   ]
  },
  {
   "cell_type": "code",
   "execution_count": 62,
   "metadata": {},
   "outputs": [],
   "source": [
    "comp_file.write(\"io_zip1.txt\",compress_type=zipfile.ZIP_DEFLATED)"
   ]
  },
  {
   "cell_type": "code",
   "execution_count": 63,
   "metadata": {},
   "outputs": [],
   "source": [
    "comp_file.write('io_zip2.txt',compress_type=zipfile.ZIP_DEFLATED)"
   ]
  },
  {
   "cell_type": "markdown",
   "metadata": {},
   "source": [
    "Don't forget to close this object"
   ]
  },
  {
   "cell_type": "code",
   "execution_count": 64,
   "metadata": {},
   "outputs": [],
   "source": [
    "comp_file.close()"
   ]
  },
  {
   "cell_type": "markdown",
   "metadata": {},
   "source": [
    "<a id='extract'></a>\n",
    "### <ins>Extracting from Zip Files</ins> \n",
    "\n",
    "We can easily extract files with either the extractall() method to get all the files, or just using the extract() method to only grab individual files."
   ]
  },
  {
   "cell_type": "code",
   "execution_count": 65,
   "metadata": {},
   "outputs": [],
   "source": [
    "zip_obj = zipfile.ZipFile('io_zip_compressed_file.zip','r')"
   ]
  },
  {
   "cell_type": "code",
   "execution_count": 66,
   "metadata": {},
   "outputs": [],
   "source": [
    "# This will create a new folder in your current directory with the name \"Extracted_Content\"\n",
    "zip_obj.extractall(\"Extracted_Content\")"
   ]
  },
  {
   "cell_type": "code",
   "execution_count": 67,
   "metadata": {},
   "outputs": [
    {
     "data": {
      "text/plain": [
       "[<ZipInfo filename='io_zip1.txt' compress_type=deflate filemode='-rw-rw-rw-' file_size=37 compress_size=37>,\n",
       " <ZipInfo filename='io_zip2.txt' compress_type=deflate filemode='-rw-rw-rw-' file_size=42 compress_size=42>]"
      ]
     },
     "execution_count": 67,
     "metadata": {},
     "output_type": "execute_result"
    }
   ],
   "source": [
    "zip_obj.infolist()"
   ]
  },
  {
   "cell_type": "markdown",
   "metadata": {},
   "source": [
    "Don't forget to close this object"
   ]
  },
  {
   "cell_type": "code",
   "execution_count": 68,
   "metadata": {},
   "outputs": [],
   "source": [
    "zip_obj.close()"
   ]
  },
  {
   "cell_type": "markdown",
   "metadata": {},
   "source": [
    "<a id='shut'></a>\n",
    "### <ins>Using Shutil Module</ins> \n",
    "\n",
    "Often you don't want to extract or archive individual files from a .zip, but instead archive everything at once. The shutil library that is built in to python has easy to use commands for this.\n",
    "\n",
    "The shutil library can accept a format parameter; `format` is the archive format: one of \"zip\", \"tar\", \"gztar\", \"bztar\",\n",
    "or \"xztar\"."
   ]
  },
  {
   "cell_type": "code",
   "execution_count": null,
   "metadata": {},
   "outputs": [],
   "source": [
    "# import shutil"
   ]
  },
  {
   "cell_type": "code",
   "execution_count": null,
   "metadata": {},
   "outputs": [],
   "source": [
    "# Creating a zip archive\n",
    "\n",
    "# Just fill in the output_filename and the directory to zip\n",
    "# Note this won't run as is because the variables are undefined\n",
    "\n",
    "# shutil.make_archive(output_filename,'zip',directory_to_zip)"
   ]
  },
  {
   "cell_type": "code",
   "execution_count": null,
   "metadata": {},
   "outputs": [],
   "source": [
    "# Extracting a zip archive\n",
    "# Notice how the parameter/argument order is slightly different here\n",
    "\n",
    "# shutil.unpack_archive(output_filename,dir_for_extract_result,'zip')"
   ]
  }
 ],
 "metadata": {
  "kernelspec": {
   "display_name": "Python 3",
   "language": "python",
   "name": "python3"
  },
  "language_info": {
   "codemirror_mode": {
    "name": "ipython",
    "version": 3
   },
   "file_extension": ".py",
   "mimetype": "text/x-python",
   "name": "python",
   "nbconvert_exporter": "python",
   "pygments_lexer": "ipython3",
   "version": "3.7.6"
  }
 },
 "nbformat": 4,
 "nbformat_minor": 2
}
