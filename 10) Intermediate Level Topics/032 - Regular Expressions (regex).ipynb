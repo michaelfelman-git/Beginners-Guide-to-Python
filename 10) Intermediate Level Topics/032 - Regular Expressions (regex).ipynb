{
 "cells": [
  {
   "cell_type": "markdown",
   "metadata": {},
   "source": [
    "<h1 align=\"center\">REGULAR EXPRESSIONS</h1>\n",
    "<h2 align=\"left\"><ins>Lesson Guide</ins></h2>\n",
    "\n",
    "- [**`re` MODULE PATTERN SYNTAX**](#syntax)\n",
    "    - [**Repetition Syntax**](#repetition)\n",
    "    - [**Character Sets**](#sets)\n",
    "    - [**Exclusion**](#exclusion)\n",
    "    - [**Character Ranges**](#ranges)\n",
    "    - [**Escape Codes**](#escapes)\n",
    "- **[SEARCHING FOR PATTERNS IN TEXT**](#text)\n",
    "    - [**`match()`**](#match)\n",
    "    - [**`search()`**](#search)\n",
    "    - [**`finditer()`**](#finditer)\n",
    "    - [**`compile()`**](#compile)\n",
    "    - [**`fullmatch()`**](#fullmatch)\n",
    "    - [**`findall()`**](#findall)\n",
    "    - [**`sub`**](#sub)\n",
    "    - [**`subn`**](#subn)\n",
    "    - [**OR | in regex**](#or)\n",
    "- [**SPLIT WITH REGULAR EXPRESSIONS**](#split)\n",
    "- [**MORE EXAMPLES**](#examples)\n",
    "\n",
    "\n",
    "### Documentation\n",
    "https://docs.python.org/3/library/re.html<br> \n",
    "https://docs.python.org/3/howto/regex.html\n",
    "\n",
    "<ins>**Additional Resources**</ins><br>\n",
    "https://www.tutorialspoint.com/python3/python_reg_expressions.htm<br>\n",
    "[Tutorial website - RegexOne](https://regexone.com/)<br>\n",
    "[Regex101 (personal favourite)](https://regex101.com/)"
   ]
  },
  {
   "cell_type": "markdown",
   "metadata": {},
   "source": [
    "Regular expressions are text-matching patterns described with a formal syntax. You'll often hear regular expressions referred to as 'regex' or 'regexp' in conversation. Regular expressions can include a variety of rules, from finding repetition, to text-matching, and much more. As you advance in Python you'll see that a lot of your parsing problems can be solved with regular expressions (they're also a common interview question).\n",
    "\n",
    "||||||\n",
    "|-:|:-|:-:|-:|:-|\n",
    "|abc…|Letters||{m}|m Repetitions|\n",
    "|123…|Digits||{m,n}|m to n Repetitions|\n",
    "|\\d|Any Digit||*|Zero or more repetitions|\n",
    "|\\D|Any Non-digit character||+|One or more repetitions|\n",
    "|.|Any Character||?|Optional character|\n",
    "|\\\\.|Period||\\s|Any Whitespace|\n",
    "|[abc]|Only a, b, or c||\\S|Any Non-whitespace character|\n",
    "|[^abc]|Not a, b, nor c||^…$|Starts and ends|\n",
    "|[a-z]|Characters a to z||(…)|Capture Group|\n",
    "|[0-9]|Numbers 0 to 9||(a(bc))|Capture Sub-group|\n",
    "|\\w|Any Alphanumeric characte||(.*)|Capture all|\n",
    "|\\W|Any Non-alphanumeric character||(abc|def)|Matches abc or def|\n",
    "\n",
    "If you're familiar with Perl, you'll notice that the syntax for regular expressions are very similar in Python. We will be using the <code>re</code> module with Python."
   ]
  },
  {
   "cell_type": "code",
   "execution_count": 1,
   "metadata": {},
   "outputs": [],
   "source": [
    "import re"
   ]
  },
  {
   "cell_type": "code",
   "execution_count": 2,
   "metadata": {},
   "outputs": [
    {
     "name": "stdout",
     "output_type": "stream",
     "text": [
      "['A', 'ASCII', 'DEBUG', 'DOTALL', 'I', 'IGNORECASE', 'L', 'LOCALE', 'M', 'MULTILINE', 'Match', 'Pattern', 'RegexFlag', 'S', 'Scanner', 'T', 'TEMPLATE', 'U', 'UNICODE', 'VERBOSE', 'X', '_MAXCACHE', '__all__', '__builtins__', '__cached__', '__doc__', '__file__', '__loader__', '__name__', '__package__', '__spec__', '__version__', '_cache', '_compile', '_compile_repl', '_expand', '_locale', '_pickle', '_special_chars_map', '_subx', 'compile', 'copyreg', 'enum', 'error', 'escape', 'findall', 'finditer', 'fullmatch', 'functools', 'match', 'purge', 'search', 'split', 'sre_compile', 'sre_parse', 'sub', 'subn', 'template']\n"
     ]
    }
   ],
   "source": [
    "print(dir(re))"
   ]
  },
  {
   "cell_type": "markdown",
   "metadata": {},
   "source": [
    "<a id='syntax'></a>\n",
    "## `re` MODULE PATTERN SYNTAX\n",
    "Regular expressions support a huge variety of patterns beyond just simply finding where a single string occurred. We can use *metacharacters* along with `re` to find specific types of patterns. \n",
    "\n",
    "Since we will be testing multiple re syntax forms, let's create a function that will print out results given a list of various regular expressions and a phrase to parse:"
   ]
  },
  {
   "cell_type": "code",
   "execution_count": 3,
   "metadata": {},
   "outputs": [],
   "source": [
    "def multi_re_find(patterns,phrase):\n",
    "    '''\n",
    "    Takes in a list of regex patterns\n",
    "    Prints a list of all matches\n",
    "    '''\n",
    "    for pattern, explanation in patterns.items():\n",
    "        print(f'Searching the phrase with re = {pattern} ({explanation}).')\n",
    "        print(f'Using the findall method, the list of patterns found in the phrase are:\\n{re.findall(pattern,phrase)}\\n')"
   ]
  },
  {
   "cell_type": "markdown",
   "metadata": {},
   "source": [
    "<a id='repetition'></a>\n",
    "### <ins>Repetition Syntax</ins>\n",
    "\n",
    "There are five ways to express repetition in a pattern:\n",
    "\n",
    "   1. A pattern followed by the meta-character <code>*</code> is repeated zero or more times. \n",
    "   2. Replace the <code>*</code> with <code>+</code> and the pattern must appear at least once. \n",
    "   3. Using <code>?</code> means the pattern appears zero or one time. \n",
    "   4. For a specific number of occurrences, use <code>{m}</code> after the pattern, where **m** is replaced with the number of times the pattern should repeat. \n",
    "   5. Use <code>{m,n}</code> where **m** is the minimum number of repetitions and **n** is the maximum. Leaving out **n** <code>{m,}</code> means the value appears at least **m** times, with no maximum.\n",
    "    \n",
    "Now we will see an example of each of these using our multi_re_find function:"
   ]
  },
  {
   "cell_type": "code",
   "execution_count": 4,
   "metadata": {},
   "outputs": [
    {
     "name": "stdout",
     "output_type": "stream",
     "text": [
      "Searching the phrase with re = sd* (s followed by zero or more d's).\n",
      "Using the findall method, the list of patterns found in the phrase are:\n",
      "['sd', 'sd', 's', 's', 'sddd', 'sddd', 'sddd', 'sd', 's', 's', 's', 's', 's', 's', 'sdddd']\n",
      "\n",
      "Searching the phrase with re = sd+ (s followed by one or more d's).\n",
      "Using the findall method, the list of patterns found in the phrase are:\n",
      "['sd', 'sd', 'sddd', 'sddd', 'sddd', 'sd', 'sdddd']\n",
      "\n",
      "Searching the phrase with re = sd? (s followed by zero or one d's).\n",
      "Using the findall method, the list of patterns found in the phrase are:\n",
      "['sd', 'sd', 's', 's', 'sd', 'sd', 'sd', 'sd', 's', 's', 's', 's', 's', 's', 'sd']\n",
      "\n",
      "Searching the phrase with re = sd{3} (s followed by three d's).\n",
      "Using the findall method, the list of patterns found in the phrase are:\n",
      "['sddd', 'sddd', 'sddd', 'sddd']\n",
      "\n",
      "Searching the phrase with re = sd{2,3} (s followed by two to three d's).\n",
      "Using the findall method, the list of patterns found in the phrase are:\n",
      "['sddd', 'sddd', 'sddd', 'sddd']\n",
      "\n"
     ]
    }
   ],
   "source": [
    "test_phrase = 'sdsd..sssddd...sdddsddd...dsds...dsssss...sdddd'\n",
    "\n",
    "test_patterns = {'sd*':\"s followed by zero or more d's\",\n",
    "                 'sd+':\"s followed by one or more d's\",\n",
    "                 'sd?':\"s followed by zero or one d's\",\n",
    "                 'sd{3}':\"s followed by three d's\",\n",
    "                 'sd{2,3}':\"s followed by two to three d's\"}\n",
    "\n",
    "multi_re_find(test_patterns,test_phrase)"
   ]
  },
  {
   "cell_type": "markdown",
   "metadata": {},
   "source": [
    "<a id='sets'></a>\n",
    "### <ins>Character Sets</ins>\n",
    "Character sets are used when you wish to match any one of a group of characters at a point in the input. Brackets are used to construct character set inputs. For example: the input <code>[ab]</code> searches for occurrences of either **a** or **b**."
   ]
  },
  {
   "cell_type": "code",
   "execution_count": 5,
   "metadata": {
    "scrolled": true
   },
   "outputs": [
    {
     "name": "stdout",
     "output_type": "stream",
     "text": [
      "Searching the phrase with re = [sd] (either the letter s or d).\n",
      "Using the findall method, the list of patterns found in the phrase are:\n",
      "['s', 'd', 's', 'd', 's', 's', 's', 'd', 'd', 'd', 's', 'd', 'd', 'd', 's', 'd', 'd', 'd', 'd', 's', 'd', 's', 'd', 's', 's', 's', 's', 's', 's', 'd', 'd', 'd', 'd']\n",
      "\n",
      "Searching the phrase with re = s[sd]+ (s followed by one or more s or d letters).\n",
      "Using the findall method, the list of patterns found in the phrase are:\n",
      "['sdsd', 'sssddd', 'sdddsddd', 'sds', 'sssss', 'sdddd']\n",
      "\n"
     ]
    }
   ],
   "source": [
    "test_phrase = 'sdsd..sssddd...sdddsddd...dsds...dsssss...sdddd'\n",
    "\n",
    "test_patterns = {'[sd]':\"either the letter s or d\",\n",
    "                 's[sd]+':\"s followed by one or more s or d letters\"} \n",
    "\n",
    "multi_re_find(test_patterns,test_phrase)"
   ]
  },
  {
   "cell_type": "markdown",
   "metadata": {},
   "source": [
    "It makes sense that the first input <code>[sd]</code> returns every instance of s or d. Also, the second input <code>s[sd]+</code> returns any full strings that begin with an s and continue with s or d characters until another character is reached."
   ]
  },
  {
   "cell_type": "code",
   "execution_count": 6,
   "metadata": {},
   "outputs": [
    {
     "name": "stdout",
     "output_type": "stream",
     "text": [
      "Searching the phrase with re = [a-z] (any lower case letter in the alphabet).\n",
      "Using the findall method, the list of patterns found in the phrase are:\n",
      "['e', 'n', 'j', 'o', 'y', 'l', 'e', 'a', 'r', 'n', 'i', 'n', 'g', 'p', 'r', 'o', 'g', 'r', 'a', 'm', 'm', 'i', 'n', 'g', 'l', 'a', 'n', 'g', 'u', 'a', 'g', 'e', 's', 's', 'u', 'c', 'h', 'a', 's', 'y', 't', 'h', 'o', 'n']\n",
      "\n",
      "Searching the phrase with re = [A-Z] (any upper case letter in the alphabet).\n",
      "Using the findall method, the list of patterns found in the phrase are:\n",
      "['I', 'P']\n",
      "\n",
      "Searching the phrase with re = [a-d] (any of the letters a, b, c or d).\n",
      "Using the findall method, the list of patterns found in the phrase are:\n",
      "['a', 'a', 'a', 'a', 'c', 'a']\n",
      "\n",
      "Searching the phrase with re = [abn] (only the letters a, b or n).\n",
      "Using the findall method, the list of patterns found in the phrase are:\n",
      "['n', 'a', 'n', 'n', 'a', 'n', 'a', 'n', 'a', 'a', 'n']\n",
      "\n",
      "Searching the phrase with re = [^a] (anything that is not the letter a).\n",
      "Using the findall method, the list of patterns found in the phrase are:\n",
      "['I', ' ', 'e', 'n', 'j', 'o', 'y', ' ', 'l', 'e', 'r', 'n', 'i', 'n', 'g', ' ', 'p', 'r', 'o', 'g', 'r', 'm', 'm', 'i', 'n', 'g', ' ', 'l', 'n', 'g', 'u', 'g', 'e', 's', ' ', 's', 'u', 'c', 'h', ' ', 's', ' ', 'P', 'y', 't', 'h', 'o', 'n', ' ', '3']\n",
      "\n",
      "Searching the phrase with re = [0-9] (any numerical number).\n",
      "Using the findall method, the list of patterns found in the phrase are:\n",
      "['3']\n",
      "\n",
      "Searching the phrase with re = [1-3] (only the numbers 1, 2 or 3).\n",
      "Using the findall method, the list of patterns found in the phrase are:\n",
      "['3']\n",
      "\n",
      "Searching the phrase with re = [135] (only the numbers 1, 3 or 5).\n",
      "Using the findall method, the list of patterns found in the phrase are:\n",
      "['3']\n",
      "\n",
      "Searching the phrase with re = [^3] (anything that is not the number 3).\n",
      "Using the findall method, the list of patterns found in the phrase are:\n",
      "['I', ' ', 'e', 'n', 'j', 'o', 'y', ' ', 'l', 'e', 'a', 'r', 'n', 'i', 'n', 'g', ' ', 'p', 'r', 'o', 'g', 'r', 'a', 'm', 'm', 'i', 'n', 'g', ' ', 'l', 'a', 'n', 'g', 'u', 'a', 'g', 'e', 's', ' ', 's', 'u', 'c', 'h', ' ', 'a', 's', ' ', 'P', 'y', 't', 'h', 'o', 'n', ' ']\n",
      "\n"
     ]
    }
   ],
   "source": [
    "test_phrase = \"I enjoy learning programming languages such as Python 3\"\n",
    "\n",
    "test_patterns = {r\"[a-z]\":\"any lower case letter in the alphabet\", \n",
    "                 r\"[A-Z]\":\"any upper case letter in the alphabet\", \n",
    "                 r\"[a-d]\":\"any of the letters a, b, c or d\", \n",
    "                 r\"[abn]\":\"only the letters a, b or n\", \n",
    "                 r\"[^a]\":\"anything that is not the letter a\",\n",
    "                 r\"[0-9]\":\"any numerical number\", \n",
    "                 r\"[1-3]\":\"only the numbers 1, 2 or 3\", \n",
    "                 r\"[135]\":\"only the numbers 1, 3 or 5\", \n",
    "                 r\"[^3]\":\"anything that is not the number 3\"}\n",
    "\n",
    "multi_re_find(test_patterns,test_phrase)"
   ]
  },
  {
   "cell_type": "markdown",
   "metadata": {},
   "source": [
    "<a id='exclusion'></a>\n",
    "### <ins>Exclusion</ins>\n",
    "We can use <code>^</code> to exclude terms by incorporating it into the bracket syntax notation. For example: <code>[^...]</code> will match any single character not in the brackets. Let's see some examples:"
   ]
  },
  {
   "cell_type": "code",
   "execution_count": 7,
   "metadata": {},
   "outputs": [],
   "source": [
    "test_phrase = 'This is a string! But it has punctuation. How can we remove it?'"
   ]
  },
  {
   "cell_type": "markdown",
   "metadata": {},
   "source": [
    "Use <code>[^!.? ]</code> to check for matches that are not a !,.,?, or space. Add a <code>+</code> to check that the match appears at least once. This basically translates into finding the words."
   ]
  },
  {
   "cell_type": "code",
   "execution_count": 8,
   "metadata": {},
   "outputs": [
    {
     "name": "stdout",
     "output_type": "stream",
     "text": [
      "['This', 'is', 'a', 'string', 'But', 'it', 'has', 'punctuation', 'How', 'can', 'we', 'remove', 'it']\n"
     ]
    }
   ],
   "source": [
    "test = re.findall('[^!.? ]+',test_phrase)\n",
    "print(test)"
   ]
  },
  {
   "cell_type": "code",
   "execution_count": 9,
   "metadata": {},
   "outputs": [
    {
     "data": {
      "text/plain": [
       "'This is a string But it has punctuation How can we remove it'"
      ]
     },
     "execution_count": 9,
     "metadata": {},
     "output_type": "execute_result"
    }
   ],
   "source": [
    "' '.join(test)"
   ]
  },
  {
   "cell_type": "markdown",
   "metadata": {},
   "source": [
    "<a id='ranges'></a>\n",
    "### <ins>Character Ranges</ins>\n",
    "As character sets grow larger, typing every character that should (or should not) match could become very tedious. A more compact format using character ranges lets you define a character set to include all of the contiguous characters between a start and stop point. The format used is <code>[start-end]</code>.\n",
    "\n",
    "Common use cases are to search for a specific range of letters in the alphabet. For instance, <code>[a-f]</code> would return matches with any occurrence of letters between a and f. "
   ]
  },
  {
   "cell_type": "code",
   "execution_count": 10,
   "metadata": {},
   "outputs": [
    {
     "name": "stdout",
     "output_type": "stream",
     "text": [
      "Searching the phrase with re = [a-z]+ (one or more occurences of lower case letters).\n",
      "Using the findall method, the list of patterns found in the phrase are:\n",
      "['his', 'is', 'an', 'example', 'sentence', 'ets', 'see', 'if', 'we', 'can', 'find', 'some', 'letters']\n",
      "\n",
      "Searching the phrase with re = [A-Z]+ (one or more occurences of upper case letters).\n",
      "Using the findall method, the list of patterns found in the phrase are:\n",
      "['T', 'L']\n",
      "\n",
      "Searching the phrase with re = [a-zA-Z]+ (one or more occurences of lower or upper case letters).\n",
      "Using the findall method, the list of patterns found in the phrase are:\n",
      "['This', 'is', 'an', 'example', 'sentence', 'Lets', 'see', 'if', 'we', 'can', 'find', 'some', 'letters']\n",
      "\n",
      "Searching the phrase with re = [A-Z][a-z]+ (one upper case letter, followed by one or more occurences of lower case letters).\n",
      "Using the findall method, the list of patterns found in the phrase are:\n",
      "['This', 'Lets']\n",
      "\n"
     ]
    }
   ],
   "source": [
    "test_phrase = 'This is an example sentence. Lets see if we can find some letters.'\n",
    "\n",
    "test_patterns={'[a-z]+':\"one or more occurences of lower case letters\",\n",
    "               '[A-Z]+':\"one or more occurences of upper case letters\",\n",
    "               '[a-zA-Z]+':\"one or more occurences of lower or upper case letters\",\n",
    "               '[A-Z][a-z]+':\"one upper case letter, followed by one or more occurences of lower case letters\"} \n",
    "                \n",
    "multi_re_find(test_patterns,test_phrase)"
   ]
  },
  {
   "cell_type": "markdown",
   "metadata": {},
   "source": [
    "<a id='escapes'></a>\n",
    "### <ins>Escape Codes</ins>\n",
    "\n",
    "You can use special escape codes to find specific types of patterns in your data, such as digits, non-digits, whitespace, and more. For example:\n",
    "\n",
    "<table border=\"1\" class=\"docutils\">\n",
    "<colgroup>\n",
    "<col width=\"14%\" />\n",
    "<col width=\"86%\" />\n",
    "</colgroup>\n",
    "<thead valign=\"bottom\">\n",
    "<tr class=\"row-odd\"><th class=\"head\">Code</th>\n",
    "<th class=\"head\">Meaning</th>\n",
    "</tr>\n",
    "</thead>\n",
    "<tbody valign=\"top\">\n",
    "<tr class=\"row-even\"><td><tt class=\"docutils literal\"><span class=\"pre\">\\d</span></tt></td>\n",
    "<td>a digit</td>\n",
    "</tr>\n",
    "<tr class=\"row-odd\"><td><tt class=\"docutils literal\"><span class=\"pre\">\\D</span></tt></td>\n",
    "<td>a non-digit</td>\n",
    "</tr>\n",
    "<tr class=\"row-even\"><td><tt class=\"docutils literal\"><span class=\"pre\">\\s</span></tt></td>\n",
    "<td>whitespace (tab, space, newline, etc.)</td>\n",
    "</tr>\n",
    "<tr class=\"row-odd\"><td><tt class=\"docutils literal\"><span class=\"pre\">\\S</span></tt></td>\n",
    "<td>non-whitespace</td>\n",
    "</tr>\n",
    "<tr class=\"row-even\"><td><tt class=\"docutils literal\"><span class=\"pre\">\\w</span></tt></td>\n",
    "<td>alphanumeric</td>\n",
    "</tr>\n",
    "<tr class=\"row-odd\"><td><tt class=\"docutils literal\"><span class=\"pre\">\\W</span></tt></td>\n",
    "<td>non-alphanumeric</td>\n",
    "</tr>\n",
    "</tbody>\n",
    "</table>\n",
    "\n",
    "Escapes are indicated by prefixing the character with a backslash <code>\\\\</code>. Unfortunately, a backslash must itself be escaped in normal Python strings, and that results in expressions that are difficult to read. Using raw strings, created by prefixing the literal value with <code>r</code>, eliminates this problem and maintains readability."
   ]
  },
  {
   "cell_type": "code",
   "execution_count": 11,
   "metadata": {
    "scrolled": false
   },
   "outputs": [
    {
     "name": "stdout",
     "output_type": "stream",
     "text": [
      "Searching the phrase with re = \\d+ (one or more occurences of digits).\n",
      "Using the findall method, the list of patterns found in the phrase are:\n",
      "['1233']\n",
      "\n",
      "Searching the phrase with re = \\D+ (one or more occurences of non-digits).\n",
      "Using the findall method, the list of patterns found in the phrase are:\n",
      "['This is a string with some numbers ', ' and a symbol #hashtag.']\n",
      "\n",
      "Searching the phrase with re = \\s+ (one or more occurences of whitespaces).\n",
      "Using the findall method, the list of patterns found in the phrase are:\n",
      "[' ', ' ', ' ', ' ', ' ', ' ', ' ', ' ', ' ', ' ', ' ']\n",
      "\n",
      "Searching the phrase with re = \\S+ (one or more occurences of non-whitespaces).\n",
      "Using the findall method, the list of patterns found in the phrase are:\n",
      "['This', 'is', 'a', 'string', 'with', 'some', 'numbers', '1233', 'and', 'a', 'symbol', '#hashtag.']\n",
      "\n",
      "Searching the phrase with re = \\w+ (one or more occurences of alphanumeric characters).\n",
      "Using the findall method, the list of patterns found in the phrase are:\n",
      "['This', 'is', 'a', 'string', 'with', 'some', 'numbers', '1233', 'and', 'a', 'symbol', 'hashtag']\n",
      "\n",
      "Searching the phrase with re = \\W+ (one or more occurences of non-alphanumeric characters).\n",
      "Using the findall method, the list of patterns found in the phrase are:\n",
      "[' ', ' ', ' ', ' ', ' ', ' ', ' ', ' ', ' ', ' ', ' #', '.']\n",
      "\n"
     ]
    }
   ],
   "source": [
    "test_phrase = 'This is a string with some numbers 1233 and a symbol #hashtag.'\n",
    "\n",
    "test_patterns = {r'\\d+':\"one or more occurences of digits\",\n",
    "                 r'\\D+':\"one or more occurences of non-digits\",\n",
    "                 r'\\s+':\"one or more occurences of whitespaces\",\n",
    "                 r'\\S+':\"one or more occurences of non-whitespaces\",\n",
    "                 r'\\w+':\"one or more occurences of alphanumeric characters\",\n",
    "                 r'\\W+':\"one or more occurences of non-alphanumeric characters\"}\n",
    "\n",
    "multi_re_find(test_patterns,test_phrase)"
   ]
  },
  {
   "cell_type": "markdown",
   "metadata": {},
   "source": [
    "<a id='text'></a>\n",
    "## SEARCHING FOR PATTERNS IN TEXT\n",
    "\n",
    "<a id='match'></a>\n",
    "### <ins>`match()`</ins>\n",
    "\n",
    "```python\n",
    "re.match(pattern, string, flags=0)\n",
    "```\n",
    "\n",
    "Docstring:<br>\n",
    "**Try to apply the pattern at the start of the string**, returning a Match object, or None if no match was found."
   ]
  },
  {
   "cell_type": "code",
   "execution_count": 12,
   "metadata": {},
   "outputs": [],
   "source": [
    "mystr = \"You can learn any programming language, whether it is Python2, Python3, Perl, Java, javascript or PHP\""
   ]
  },
  {
   "cell_type": "code",
   "execution_count": 13,
   "metadata": {},
   "outputs": [
    {
     "name": "stdout",
     "output_type": "stream",
     "text": [
      "<re.Match object; span=(0, 3), match='You'>\n",
      "You\n"
     ]
    }
   ],
   "source": [
    "a = re.match('You', mystr)\n",
    "\n",
    "print(a)    # output illustrates the match is found at index positions 0,1,2\n",
    "print(a.group())"
   ]
  },
  {
   "cell_type": "code",
   "execution_count": 14,
   "metadata": {
    "scrolled": true
   },
   "outputs": [
    {
     "name": "stdout",
     "output_type": "stream",
     "text": [
      "None\n"
     ]
    },
    {
     "ename": "AttributeError",
     "evalue": "'NoneType' object has no attribute 'group'",
     "output_type": "error",
     "traceback": [
      "\u001b[1;31m---------------------------------------------------------------------------\u001b[0m",
      "\u001b[1;31mAttributeError\u001b[0m                            Traceback (most recent call last)",
      "\u001b[1;32m<ipython-input-14-72be90e0a2e3>\u001b[0m in \u001b[0;36m<module>\u001b[1;34m\u001b[0m\n\u001b[0;32m      1\u001b[0m \u001b[0ma\u001b[0m \u001b[1;33m=\u001b[0m \u001b[0mre\u001b[0m\u001b[1;33m.\u001b[0m\u001b[0mmatch\u001b[0m\u001b[1;33m(\u001b[0m\u001b[1;34m'abc'\u001b[0m\u001b[1;33m,\u001b[0m \u001b[0mmystr\u001b[0m\u001b[1;33m)\u001b[0m\u001b[1;33m\u001b[0m\u001b[1;33m\u001b[0m\u001b[0m\n\u001b[0;32m      2\u001b[0m \u001b[0mprint\u001b[0m\u001b[1;33m(\u001b[0m\u001b[0ma\u001b[0m\u001b[1;33m)\u001b[0m\u001b[1;33m\u001b[0m\u001b[1;33m\u001b[0m\u001b[0m\n\u001b[1;32m----> 3\u001b[1;33m \u001b[0mprint\u001b[0m\u001b[1;33m(\u001b[0m\u001b[0ma\u001b[0m\u001b[1;33m.\u001b[0m\u001b[0mgroup\u001b[0m\u001b[1;33m(\u001b[0m\u001b[1;33m)\u001b[0m\u001b[1;33m)\u001b[0m\u001b[1;33m\u001b[0m\u001b[1;33m\u001b[0m\u001b[0m\n\u001b[0m",
      "\u001b[1;31mAttributeError\u001b[0m: 'NoneType' object has no attribute 'group'"
     ]
    }
   ],
   "source": [
    "a = re.match('abc', mystr)\n",
    "print(a)\n",
    "print(a.group())"
   ]
  },
  {
   "cell_type": "code",
   "execution_count": 15,
   "metadata": {},
   "outputs": [
    {
     "name": "stdout",
     "output_type": "stream",
     "text": [
      "<re.Match object; span=(0, 3), match='You'>\n",
      "You\n"
     ]
    }
   ],
   "source": [
    "# this method uses flags\n",
    "\n",
    "a = re.match('you', mystr, re.I)   # re.I implies we don't need to worry about uppercase\n",
    "print(a)    # output illustrates the match is found at positions 0,1,2\n",
    "print(a.group())"
   ]
  },
  {
   "cell_type": "markdown",
   "metadata": {},
   "source": [
    "<a id='search'></a>\n",
    "### <ins>`search()`</ins>\n",
    "\n",
    "```python\n",
    "re.search(pattern, string, flags=0)\n",
    "```\n",
    "\n",
    "Docstring:<br>\n",
    "**Scan through string looking for a match to the pattern**, returning a Match object, or None if no match was found."
   ]
  },
  {
   "cell_type": "markdown",
   "metadata": {},
   "source": [
    "One of the most common uses for the re module is for finding patterns in text."
   ]
  },
  {
   "cell_type": "code",
   "execution_count": 16,
   "metadata": {},
   "outputs": [
    {
     "name": "stdout",
     "output_type": "stream",
     "text": [
      "Searching for \"term1\" in:\n",
      " \"This is a string with term1, but it does not have the other term.\"\n",
      "\n",
      "Match was found. \n",
      "\n",
      "Searching for \"term2\" in:\n",
      " \"This is a string with term1, but it does not have the other term.\"\n",
      "\n",
      "No Match was found.\n",
      "\n"
     ]
    }
   ],
   "source": [
    "# List of patterns to search for\n",
    "patterns = ['term1', 'term2']\n",
    "\n",
    "# Text to parse\n",
    "text = 'This is a string with term1, but it does not have the other term.'\n",
    "\n",
    "for pattern in patterns:\n",
    "    print(f'Searching for \"{pattern}\" in:\\n \"{text}\"\\n')\n",
    "    \n",
    "    # Check for match\n",
    "    if re.search(pattern,text):\n",
    "        print('Match was found. \\n')\n",
    "    else:\n",
    "        print('No Match was found.\\n')"
   ]
  },
  {
   "cell_type": "markdown",
   "metadata": {},
   "source": [
    "Now we've seen that <code>re.search()</code> will take the pattern, scan the text, and then return a **Match** object. If no pattern is found, **None** is returned. To give a clearer picture of this match object, check out the cell below:"
   ]
  },
  {
   "cell_type": "code",
   "execution_count": 17,
   "metadata": {},
   "outputs": [
    {
     "name": "stdout",
     "output_type": "stream",
     "text": [
      "<class 're.Match'>\n",
      "<re.Match object; span=(22, 27), match='term1'>\n"
     ]
    }
   ],
   "source": [
    "# List of patterns to search for\n",
    "pattern = 'term1'\n",
    "\n",
    "# Text to parse\n",
    "text = 'This is a string with term1, but it does not have the other term.'\n",
    "\n",
    "match = re.search(pattern,text)\n",
    "\n",
    "print(type(match))\n",
    "print(match)"
   ]
  },
  {
   "cell_type": "markdown",
   "metadata": {},
   "source": [
    "This **Match** object returned by the search() method is more than just a Boolean or None, it contains information about the match, including the original input string, the regular expression that was used, and the location of the match. Let's see the methods we can use on the match object:"
   ]
  },
  {
   "cell_type": "code",
   "execution_count": 18,
   "metadata": {},
   "outputs": [
    {
     "name": "stdout",
     "output_type": "stream",
     "text": [
      "This is a string with term1, but it does not have the other term.\n",
      "re.compile('term1')\n",
      "((22, 27),)\n"
     ]
    }
   ],
   "source": [
    "print(match.string)\n",
    "print(match.re)\n",
    "print(match.regs)"
   ]
  },
  {
   "cell_type": "code",
   "execution_count": 19,
   "metadata": {
    "scrolled": true
   },
   "outputs": [
    {
     "name": "stdout",
     "output_type": "stream",
     "text": [
      "22\n",
      "27\n"
     ]
    }
   ],
   "source": [
    "# Show start of match\n",
    "print(match.start())\n",
    "\n",
    "# Show end\n",
    "print(match.end())"
   ]
  },
  {
   "cell_type": "markdown",
   "metadata": {},
   "source": [
    "Let's look at another example."
   ]
  },
  {
   "cell_type": "code",
   "execution_count": 20,
   "metadata": {},
   "outputs": [
    {
     "name": "stdout",
     "output_type": "stream",
     "text": [
      "<re.Match object; span=(0, 53), match='22.22.22.1   0     b4:a9:5a:ff:c8:45 VLAN#222    >\n",
      "22.22.22.1\n",
      "0\n",
      "b4:a9:5a:ff:c8:45 VLAN#222\n",
      "L\n"
     ]
    }
   ],
   "source": [
    "arp = \"22.22.22.1   0     b4:a9:5a:ff:c8:45 VLAN#222       L\"\n",
    "\n",
    "b = re.search(r\"(.+?) +(\\d) +(.+?)\\s{2,}(\\w)*\", arp)\n",
    "print(b)\n",
    "print(b.group(1))\n",
    "print(b.group(2))\n",
    "print(b.group(3))\n",
    "print(b.group(4))"
   ]
  },
  {
   "cell_type": "code",
   "execution_count": 21,
   "metadata": {},
   "outputs": [
    {
     "name": "stdout",
     "output_type": "stream",
     "text": [
      "<re.Match object; span=(0, 53), match='22.22.22.1   0     b4:a9:5a:ff:c8:45 VLAN#222    >\n",
      "22.22.22.1   0     b4:a9:5a:ff:c8:45 VLAN#222       L\n",
      "22.22.22.1  \n",
      "0\n",
      "b4:a9:5a:ff:c8:45 VLAN#222\n",
      "L\n"
     ]
    }
   ],
   "source": [
    "# difference here is no ? in the first () in the search method\n",
    "b = re.search(r\"(.+) +(\\d) +(.+?)\\s{2,}(\\w)*\", arp)\n",
    "print(b)\n",
    "print(b.group())\n",
    "print(b.group(1))\n",
    "\n",
    "# this is because \\d indicates that python is expecting a single digit (from 0 - 9)\n",
    "print(b.group(2))\n",
    "\n",
    "# \\s matches any whitespace character\n",
    "# {2,} means python should expect 2 or more occurences\n",
    "print(b.group(3))\n",
    "\n",
    "print(b.group(4))"
   ]
  },
  {
   "cell_type": "code",
   "execution_count": 22,
   "metadata": {},
   "outputs": [
    {
     "name": "stdout",
     "output_type": "stream",
     "text": [
      "22.22.22.1   0     b4:a9:5a:ff:c8:45 VLAN#222       L\n",
      "22.22.22.1   0     b4:a9:5a:ff:c8:45 VLAN#222       L\n"
     ]
    }
   ],
   "source": [
    "print(b.group())\n",
    "print(b.group(0))"
   ]
  },
  {
   "cell_type": "code",
   "execution_count": 23,
   "metadata": {},
   "outputs": [
    {
     "data": {
      "text/plain": [
       "('22.22.22.1  ', '0', 'b4:a9:5a:ff:c8:45 VLAN#222', 'L')"
      ]
     },
     "execution_count": 23,
     "metadata": {},
     "output_type": "execute_result"
    }
   ],
   "source": [
    "# changing to groups turns everything into a tuple - which could be used for unpacking\n",
    "b.groups()"
   ]
  },
  {
   "cell_type": "markdown",
   "metadata": {},
   "source": [
    "<a id='finditer'></a>\n",
    "### <ins>`finditer()`</ins>\n",
    "\n",
    "```python\n",
    "re.finditer(pattern, string, flags=0)\n",
    "```\n",
    "\n",
    "Docstring:<br>\n",
    "**Return an iterator over all non-overlapping matches in the string. For each match, the iterator returns a Match object.**"
   ]
  },
  {
   "cell_type": "code",
   "execution_count": 24,
   "metadata": {},
   "outputs": [],
   "source": [
    "text = \"The agent's phone number is 408-555-1234. Call soon!\""
   ]
  },
  {
   "cell_type": "markdown",
   "metadata": {},
   "source": [
    "Using python code we can perform a quick search:"
   ]
  },
  {
   "cell_type": "code",
   "execution_count": 25,
   "metadata": {},
   "outputs": [
    {
     "data": {
      "text/plain": [
       "True"
      ]
     },
     "execution_count": 25,
     "metadata": {},
     "output_type": "execute_result"
    }
   ],
   "source": [
    "'phone' in text"
   ]
  },
  {
   "cell_type": "markdown",
   "metadata": {},
   "source": [
    "But let's show the format for regular expressions, because later on we will be searching for patterns that won't have such a simple solution."
   ]
  },
  {
   "cell_type": "code",
   "execution_count": 26,
   "metadata": {},
   "outputs": [
    {
     "name": "stdout",
     "output_type": "stream",
     "text": [
      "Using the search pattern The, Match found something - <re.Match object; span=(0, 3), match='The'>\n",
      "No matches found using the pattern phone.\n"
     ]
    }
   ],
   "source": [
    "# Using match() (which only checks the beginning of the string)\n",
    "\n",
    "patterns = ['The', 'phone']\n",
    "\n",
    "for pattern in patterns:\n",
    "    if re.match(pattern,text):\n",
    "        print(f'Using the search pattern {pattern}, Match found something - {re.match(pattern,text)}')\n",
    "    else:\n",
    "        print(f'No matches found using the pattern {pattern}.')"
   ]
  },
  {
   "cell_type": "code",
   "execution_count": 27,
   "metadata": {},
   "outputs": [
    {
     "name": "stdout",
     "output_type": "stream",
     "text": [
      "No matches found using the pattern NOT IN TEXT.\n",
      "Using the search pattern phone, Search found something - <re.Match object; span=(12, 17), match='phone'>\n"
     ]
    }
   ],
   "source": [
    "# Using search() (which checks the entire string)\n",
    "\n",
    "patterns = [\"NOT IN TEXT\", 'phone']\n",
    "\n",
    "for pattern in patterns:\n",
    "    if re.search(pattern,text):\n",
    "        print(f'Using the search pattern {pattern}, Search found something - {re.search(pattern,text)}')\n",
    "    else:\n",
    "        print(f'No matches found using the pattern {pattern}.')"
   ]
  },
  {
   "cell_type": "markdown",
   "metadata": {},
   "source": [
    "Let's take a closer look at this Match object."
   ]
  },
  {
   "cell_type": "code",
   "execution_count": 28,
   "metadata": {},
   "outputs": [
    {
     "data": {
      "text/plain": [
       "<re.Match object; span=(12, 17), match='phone'>"
      ]
     },
     "execution_count": 28,
     "metadata": {},
     "output_type": "execute_result"
    }
   ],
   "source": [
    "pattern = 'phone'\n",
    "match = re.search(pattern,text)\n",
    "match"
   ]
  },
  {
   "cell_type": "code",
   "execution_count": 29,
   "metadata": {},
   "outputs": [
    {
     "name": "stdout",
     "output_type": "stream",
     "text": [
      "(12, 17)\n",
      "12\n",
      "17\n"
     ]
    }
   ],
   "source": [
    "print(match.span())\n",
    "print(match.start())\n",
    "print(match.end())"
   ]
  },
  {
   "cell_type": "markdown",
   "metadata": {},
   "source": [
    "But what if the pattern occurs more than once?"
   ]
  },
  {
   "cell_type": "code",
   "execution_count": 30,
   "metadata": {},
   "outputs": [
    {
     "data": {
      "text/plain": [
       "(3, 8)"
      ]
     },
     "execution_count": 30,
     "metadata": {},
     "output_type": "execute_result"
    }
   ],
   "source": [
    "text = \"my phone is a new phone\"\n",
    "match = re.search(\"phone\",text)\n",
    "match.span()  # only returns the first occurence"
   ]
  },
  {
   "cell_type": "markdown",
   "metadata": {},
   "source": [
    "Notice it only matches the first instance. If we wanted a list of all matches, we can use the `findall()` method."
   ]
  },
  {
   "cell_type": "code",
   "execution_count": 31,
   "metadata": {},
   "outputs": [
    {
     "name": "stdout",
     "output_type": "stream",
     "text": [
      "['phone', 'phone']\n",
      "2\n"
     ]
    }
   ],
   "source": [
    "matches = re.findall(\"phone\",text)\n",
    "print(matches)\n",
    "print(len(matches))"
   ]
  },
  {
   "cell_type": "markdown",
   "metadata": {},
   "source": [
    "To get actual match objects, use the iterator:"
   ]
  },
  {
   "cell_type": "code",
   "execution_count": 32,
   "metadata": {},
   "outputs": [
    {
     "name": "stdout",
     "output_type": "stream",
     "text": [
      "<re.Match object; span=(3, 8), match='phone'>\n",
      "<re.Match object; span=(18, 23), match='phone'>\n"
     ]
    }
   ],
   "source": [
    "for match in re.finditer(\"phone\",text):\n",
    "    print(match)"
   ]
  },
  {
   "cell_type": "code",
   "execution_count": 33,
   "metadata": {
    "scrolled": true
   },
   "outputs": [
    {
     "name": "stdout",
     "output_type": "stream",
     "text": [
      "(3, 8)\n",
      "(18, 23)\n"
     ]
    }
   ],
   "source": [
    "for match in re.finditer(\"phone\",text):\n",
    "    print(match.span())"
   ]
  },
  {
   "cell_type": "markdown",
   "metadata": {},
   "source": [
    "If you wanted the actual text that matched, you can use the .group() method (which is what is returned when using the `.findall`."
   ]
  },
  {
   "cell_type": "code",
   "execution_count": 34,
   "metadata": {},
   "outputs": [
    {
     "name": "stdout",
     "output_type": "stream",
     "text": [
      "phone\n",
      "phone\n"
     ]
    }
   ],
   "source": [
    "for match in re.finditer(\"phone\",text):\n",
    "    print(match.group())"
   ]
  },
  {
   "cell_type": "markdown",
   "metadata": {},
   "source": [
    "The following was compiled using the code generator in https://regex101.com/."
   ]
  },
  {
   "cell_type": "code",
   "execution_count": 35,
   "metadata": {},
   "outputs": [
    {
     "name": "stdout",
     "output_type": "stream",
     "text": [
      "Match 1 was found at 3-8: phone\n",
      "Match 2 was found at 18-23: phone\n"
     ]
    }
   ],
   "source": [
    "regex = r\"p[a-z]+\"\n",
    "\n",
    "test_str = \"my phone is a new phone\"\n",
    "\n",
    "matches = re.finditer(regex, test_str, re.MULTILINE)\n",
    "\n",
    "for matchNum, match in enumerate(matches, start=1):\n",
    "    \n",
    "    print (\"Match {matchNum} was found at {start}-{end}: {match}\".format(matchNum = matchNum, start = match.start(), end = match.end(), match = match.group()))\n",
    "    \n",
    "    for groupNum in range(0, len(match.groups())):\n",
    "        groupNum = groupNum + 1\n",
    "        \n",
    "        print (\"Group {groupNum} found at {start}-{end}: {group}\".format(groupNum = groupNum, start = match.start(groupNum), end = match.end(groupNum), group = match.group(groupNum)))"
   ]
  },
  {
   "cell_type": "code",
   "execution_count": 36,
   "metadata": {},
   "outputs": [
    {
     "name": "stdout",
     "output_type": "stream",
     "text": [
      "phone\n",
      "phone\n"
     ]
    }
   ],
   "source": [
    "for match in re.finditer(r\"p[a-z]+\",text):\n",
    "    print(match.group())"
   ]
  },
  {
   "cell_type": "markdown",
   "metadata": {},
   "source": [
    "<a id='compile'></a>\n",
    "### <ins>`compile()`</ins>"
   ]
  },
  {
   "cell_type": "code",
   "execution_count": 37,
   "metadata": {},
   "outputs": [],
   "source": [
    "text = \"My telephone number is 408-555-1234\""
   ]
  },
  {
   "cell_type": "code",
   "execution_count": 38,
   "metadata": {},
   "outputs": [
    {
     "name": "stdout",
     "output_type": "stream",
     "text": [
      "408-555-1234\n",
      "408-555-1234\n"
     ]
    }
   ],
   "source": [
    "phone = re.search(r'\\d\\d\\d-\\d\\d\\d-\\d\\d\\d\\d',text)\n",
    "\n",
    "print(phone.group())\n",
    "print(phone.group(0))"
   ]
  },
  {
   "cell_type": "markdown",
   "metadata": {},
   "source": [
    "Notice the repetition of \\d. That is a bit of an annoyance, especially if we are looking for very long strings of numbers. Let's rewrite our pattern using quantifiers:"
   ]
  },
  {
   "cell_type": "code",
   "execution_count": 39,
   "metadata": {},
   "outputs": [
    {
     "data": {
      "text/plain": [
       "<re.Match object; span=(23, 35), match='408-555-1234'>"
      ]
     },
     "execution_count": 39,
     "metadata": {},
     "output_type": "execute_result"
    }
   ],
   "source": [
    "re.search(r'\\d{3}-\\d{3}-\\d{4}',text)"
   ]
  },
  {
   "cell_type": "markdown",
   "metadata": {},
   "source": [
    "What if we wanted to do two tasks, find phone numbers, but also be able to quickly extract their area code (the first three digits). We can use groups for any general task that involves grouping together regular expressions (so that we can later break them down). \n",
    "\n",
    "Using the phone number example, we can separate groups of regular expressions using parenthesis:"
   ]
  },
  {
   "cell_type": "code",
   "execution_count": 40,
   "metadata": {},
   "outputs": [],
   "source": [
    "phone_pattern = re.compile(r'(\\d{3})-(\\d{3})-(\\d{4})')\n",
    "results = re.search(phone_pattern,text)"
   ]
  },
  {
   "cell_type": "code",
   "execution_count": 41,
   "metadata": {},
   "outputs": [
    {
     "data": {
      "text/plain": [
       "'408-555-1234'"
      ]
     },
     "execution_count": 41,
     "metadata": {},
     "output_type": "execute_result"
    }
   ],
   "source": [
    "# The entire result\n",
    "results.group()"
   ]
  },
  {
   "cell_type": "code",
   "execution_count": 42,
   "metadata": {},
   "outputs": [
    {
     "data": {
      "text/plain": [
       "'408'"
      ]
     },
     "execution_count": 42,
     "metadata": {},
     "output_type": "execute_result"
    }
   ],
   "source": [
    "# Can then also call by group position.\n",
    "# Something to note is that group ordering starts at 1. Passing in 0 returns everything\n",
    "results.group(1)"
   ]
  },
  {
   "cell_type": "code",
   "execution_count": 43,
   "metadata": {},
   "outputs": [
    {
     "data": {
      "text/plain": [
       "'555'"
      ]
     },
     "execution_count": 43,
     "metadata": {},
     "output_type": "execute_result"
    }
   ],
   "source": [
    "results.group(2)"
   ]
  },
  {
   "cell_type": "code",
   "execution_count": 44,
   "metadata": {},
   "outputs": [
    {
     "data": {
      "text/plain": [
       "'1234'"
      ]
     },
     "execution_count": 44,
     "metadata": {},
     "output_type": "execute_result"
    }
   ],
   "source": [
    "results.group(3)"
   ]
  },
  {
   "cell_type": "code",
   "execution_count": 45,
   "metadata": {},
   "outputs": [
    {
     "ename": "IndexError",
     "evalue": "no such group",
     "output_type": "error",
     "traceback": [
      "\u001b[1;31m---------------------------------------------------------------------------\u001b[0m",
      "\u001b[1;31mIndexError\u001b[0m                                Traceback (most recent call last)",
      "\u001b[1;32m<ipython-input-45-fabcb9a120c5>\u001b[0m in \u001b[0;36m<module>\u001b[1;34m\u001b[0m\n\u001b[0;32m      1\u001b[0m \u001b[1;31m# We only had three groups of parenthesis\u001b[0m\u001b[1;33m\u001b[0m\u001b[1;33m\u001b[0m\u001b[1;33m\u001b[0m\u001b[0m\n\u001b[1;32m----> 2\u001b[1;33m \u001b[0mresults\u001b[0m\u001b[1;33m.\u001b[0m\u001b[0mgroup\u001b[0m\u001b[1;33m(\u001b[0m\u001b[1;36m4\u001b[0m\u001b[1;33m)\u001b[0m\u001b[1;33m\u001b[0m\u001b[1;33m\u001b[0m\u001b[0m\n\u001b[0m",
      "\u001b[1;31mIndexError\u001b[0m: no such group"
     ]
    }
   ],
   "source": [
    "# We only had three groups of parenthesis\n",
    "results.group(4)"
   ]
  },
  {
   "cell_type": "markdown",
   "metadata": {},
   "source": [
    "Let's look at another example involving email addresses."
   ]
  },
  {
   "cell_type": "code",
   "execution_count": 46,
   "metadata": {},
   "outputs": [
    {
     "name": "stdout",
     "output_type": "stream",
     "text": [
      "<re.Match object; span=(0, 15), match='deanw@gmail.com'>\n",
      "None\n"
     ]
    }
   ],
   "source": [
    "# email validation\n",
    "\n",
    "pattern = re.compile(r\"(^[a-zA-Z0-9_.+-]+@[a-zA-Z0-9-]+\\.[a-zA-Z0-9-.]+$)\")\n",
    "string = 'deanw@gmail.com'\n",
    "string2 = 'bob'\n",
    "\n",
    "a = pattern.search(string)\n",
    "b = pattern.search(string2)\n",
    "print(a)\n",
    "print(b)"
   ]
  },
  {
   "cell_type": "code",
   "execution_count": 47,
   "metadata": {},
   "outputs": [
    {
     "name": "stdout",
     "output_type": "stream",
     "text": [
      "Searching the phrase with re = (^[a-zA-Z0-9_.+-]+@[a-zA-Z0-9-]+\\.[a-zA-Z0-9-.]+$) (search for email address).\n",
      "Using the findall method, the list of patterns found in the phrase are:\n",
      "['deanw@gmail.com']\n",
      "\n"
     ]
    }
   ],
   "source": [
    "multi_re_find({\"(^[a-zA-Z0-9_.+-]+@[a-zA-Z0-9-]+\\.[a-zA-Z0-9-.]+$)\":\"search for email address\"},string)"
   ]
  },
  {
   "cell_type": "code",
   "execution_count": 48,
   "metadata": {},
   "outputs": [
    {
     "name": "stdout",
     "output_type": "stream",
     "text": [
      "Searching the phrase with re = (^[a-zA-Z0-9_.+-]+@[a-zA-Z0-9-]+\\.[a-zA-Z0-9-.]+$) (search for email address).\n",
      "Using the findall method, the list of patterns found in the phrase are:\n",
      "[]\n",
      "\n"
     ]
    }
   ],
   "source": [
    "multi_re_find({\"(^[a-zA-Z0-9_.+-]+@[a-zA-Z0-9-]+\\.[a-zA-Z0-9-.]+$)\":\"search for email address\"},string2)"
   ]
  },
  {
   "cell_type": "markdown",
   "metadata": {},
   "source": [
    "<a id='fullmatch'></a>\n",
    "### <ins>`fullmatch()`</ins>"
   ]
  },
  {
   "cell_type": "code",
   "execution_count": 49,
   "metadata": {},
   "outputs": [
    {
     "name": "stdout",
     "output_type": "stream",
     "text": [
      "<re.Match object; span=(0, 13), match='isdfuj$#dof54'>\n",
      "None\n"
     ]
    }
   ],
   "source": [
    "# password checker: at least 8 chars long, contain letters, numbers and $%#@, end with a number\n",
    "\n",
    "pattern2 = re.compile(r\"[a-zA-z0-9$%#@]{7,}\\d$\")\n",
    "password = 'isdfuj$#dof54'\n",
    "password2 = 'dtg%#$$dfg'\n",
    "\n",
    "check = pattern2.fullmatch(password)\n",
    "check2 = pattern2.fullmatch(password2)\n",
    "print(check)\n",
    "print(check2)"
   ]
  },
  {
   "cell_type": "code",
   "execution_count": 50,
   "metadata": {},
   "outputs": [
    {
     "name": "stdout",
     "output_type": "stream",
     "text": [
      "Searching the phrase with re = [a-zA-z0-9$%#@]{7,}\\d$ (password checker based on above rules).\n",
      "Using the findall method, the list of patterns found in the phrase are:\n",
      "['isdfuj$#dof54']\n",
      "\n"
     ]
    }
   ],
   "source": [
    "multi_re_find({\"[a-zA-z0-9$%#@]{7,}\\d$\":'password checker based on above rules'},password)"
   ]
  },
  {
   "cell_type": "code",
   "execution_count": 51,
   "metadata": {},
   "outputs": [
    {
     "name": "stdout",
     "output_type": "stream",
     "text": [
      "Searching the phrase with re = [a-zA-z0-9$%#@]{7,}\\d$ (password checker based on above rules).\n",
      "Using the findall method, the list of patterns found in the phrase are:\n",
      "[]\n",
      "\n"
     ]
    }
   ],
   "source": [
    "multi_re_find({\"[a-zA-z0-9$%#@]{7,}\\d$\":'password checker based on above rules'},password2)"
   ]
  },
  {
   "cell_type": "markdown",
   "metadata": {},
   "source": [
    "<a id='findall'></a>\n",
    "### <ins>`findall()`</ins>\n",
    "\n",
    "We can use <code>re.findall()</code> to find all the instances of a pattern in a string. For example:\n",
    "\n",
    "`re.findall(pattern, string, flags=0)`\n",
    "\n",
    "Docstring:<br>\n",
    "**Return a list of all non-overlapping matches in the string.**\n",
    "\n",
    "If one or more capturing groups are present in the pattern, return a list of groups; this will be a list of tuples if the pattern has more than one group.\n",
    "\n",
    "Empty matches are included in the result."
   ]
  },
  {
   "cell_type": "code",
   "execution_count": 52,
   "metadata": {},
   "outputs": [
    {
     "data": {
      "text/plain": [
       "['match', 'match']"
      ]
     },
     "execution_count": 52,
     "metadata": {},
     "output_type": "execute_result"
    }
   ],
   "source": [
    "# Returns a list of all matches\n",
    "re.findall('match','test phrase match is in middle and a match at the end')"
   ]
  },
  {
   "cell_type": "code",
   "execution_count": 53,
   "metadata": {},
   "outputs": [
    {
     "data": {
      "text/plain": [
       "2"
      ]
     },
     "execution_count": 53,
     "metadata": {},
     "output_type": "execute_result"
    }
   ],
   "source": [
    "len(re.findall('match','test phrase match is in middle and a match at the end'))"
   ]
  },
  {
   "cell_type": "code",
   "execution_count": 54,
   "metadata": {},
   "outputs": [
    {
     "data": {
      "text/plain": [
       "['22.22.22.1']"
      ]
     },
     "execution_count": 54,
     "metadata": {},
     "output_type": "execute_result"
    }
   ],
   "source": [
    "arp = \"22.22.22.1   0     b4:a9:5a:ff:c8:45 VLAN#222       L\"\n",
    "\n",
    "a = re.findall(r\"\\d\\d\\.\\d{2}\\.[0-9][0-9]\\.[0-9]{1,3}\",arp)\n",
    "\n",
    "# \\d\\d - python should expect 2 consecutive digits\n",
    "# \\. - 'character escaping' - to match the actual dot in the string we need to use the \\ since . on its own has a different meaning\n",
    "# \\d{2} - implies that the previous character (which in this case is a digit from 0-9) should occur 2 times only\n",
    "# \\. - same as before\n",
    "# [0-9][0-9] - set of characters which defines a range of characters\n",
    "# \\.\n",
    "# [0-9]{1,3} - this implies that the set of characters will occur between 1-3 times. \n",
    "a"
   ]
  },
  {
   "cell_type": "code",
   "execution_count": 55,
   "metadata": {},
   "outputs": [
    {
     "data": {
      "text/plain": [
       "[('22', '22', '22', '1')]"
      ]
     },
     "execution_count": 55,
     "metadata": {},
     "output_type": "execute_result"
    }
   ],
   "source": [
    "# this will return a list of tuples\n",
    "b = re.findall(r\"(\\d\\d)\\.(\\d{2})\\.([0-9][0-9])\\.([0-9]{1,3})\",arp)\n",
    "b"
   ]
  },
  {
   "cell_type": "code",
   "execution_count": 56,
   "metadata": {},
   "outputs": [
    {
     "name": "stdout",
     "output_type": "stream",
     "text": [
      "['22.22.22.1', '10.10.10.10']\n",
      "[('22', '22', '22', '1'), ('10', '10', '10', '10')]\n"
     ]
    }
   ],
   "source": [
    "# suppose we have more than one ip address in the string:\n",
    "arp = \"22.22.22.1   0     b4:a9:5a:ff:c8:45 VLAN#222   10.10.10.10    L\"\n",
    "\n",
    "a = re.findall(r\"\\d\\d\\.\\d{2}\\.[0-9][0-9]\\.[0-9]{1,3}\",arp)\n",
    "print(a)\n",
    "\n",
    "b = re.findall(r\"(\\d\\d)\\.(\\d{2})\\.([0-9][0-9])\\.([0-9]{1,3})\",arp)\n",
    "print(b)"
   ]
  },
  {
   "cell_type": "markdown",
   "metadata": {},
   "source": [
    "<a id='sub'></a>\n",
    "### <ins>`sub()`</ins>\n",
    "\n",
    "```python\n",
    "re.sub(pattern, repl, string, count=0, flags=0)\n",
    "```\n",
    "\n",
    "Docstring:<br>\n",
    "**Return the string obtained by replacing the leftmost non-overlapping occurrences of the pattern in string by the replacement repl.** repl can be either a string or a callable; if a string, backslash escapes in it are processed. If it is a callable, it's passed the Match object and must return a replacement string to be used."
   ]
  },
  {
   "cell_type": "code",
   "execution_count": 57,
   "metadata": {},
   "outputs": [
    {
     "data": {
      "text/plain": [
       "'77.77.77.7   7     b7:a7:7a:ff:c7:77 VLAN#777       L'"
      ]
     },
     "execution_count": 57,
     "metadata": {},
     "output_type": "execute_result"
    }
   ],
   "source": [
    "arp = \"22.22.22.1   0     b4:a9:5a:ff:c8:45 VLAN#222       L\"\n",
    "\n",
    "# suppose we change all the digits with a 7:\n",
    "a = re.sub(r\"\\d\", '7', arp)\n",
    "a"
   ]
  },
  {
   "cell_type": "markdown",
   "metadata": {},
   "source": [
    "<a id='subn'></a>\n",
    "### <ins>`subn()`</ins>\n",
    "\n",
    "```python\n",
    "re.subn(pattern, repl, string, count=0, flags=0)\n",
    "```\n",
    "\n",
    "Docstring:<br>\n",
    "**Return a 2-tuple containing (new_string, number).** `new_string` is the string obtained by replacing the leftmost non-overlapping occurrences of the pattern in the source string by the replacement repl. `number` is the number of substitutions that were made. `repl` can be either a string or a callable; if a string, backslash escapes in it are processed. If it is a callable, it's passed the Match object and must return a replacement string to be used."
   ]
  },
  {
   "cell_type": "code",
   "execution_count": 58,
   "metadata": {},
   "outputs": [
    {
     "data": {
      "text/plain": [
       "('I_enjoy_learning_programming_languages_such_as_Python_3', 8)"
      ]
     },
     "execution_count": 58,
     "metadata": {},
     "output_type": "execute_result"
    }
   ],
   "source": [
    "a = \"I enjoy learning programming languages such as Python 3\"\n",
    "\n",
    "re.subn(r\"\\s\", \"_\", a)\n",
    "\n",
    "# 8 refers to the number of changes made"
   ]
  },
  {
   "cell_type": "markdown",
   "metadata": {},
   "source": [
    "<a id='or'></a>\n",
    "### <ins>OR | in regex</ins>\n",
    "Use the pipe operator to have an or statment. For example:"
   ]
  },
  {
   "cell_type": "code",
   "execution_count": 59,
   "metadata": {},
   "outputs": [
    {
     "data": {
      "text/plain": [
       "<re.Match object; span=(5, 8), match='man'>"
      ]
     },
     "execution_count": 59,
     "metadata": {},
     "output_type": "execute_result"
    }
   ],
   "source": [
    "re.search(r\"man|woman\",\"This man was here.\")"
   ]
  },
  {
   "cell_type": "code",
   "execution_count": 60,
   "metadata": {},
   "outputs": [
    {
     "data": {
      "text/plain": [
       "<re.Match object; span=(5, 10), match='woman'>"
      ]
     },
     "execution_count": 60,
     "metadata": {},
     "output_type": "execute_result"
    }
   ],
   "source": [
    "re.search(r\"man|woman\",\"This woman was here.\")"
   ]
  },
  {
   "cell_type": "code",
   "execution_count": 61,
   "metadata": {},
   "outputs": [
    {
     "name": "stdout",
     "output_type": "stream",
     "text": [
      "<re.Match object; span=(47, 55), match='Python 3'>\n",
      "Python 3\n",
      "**************************************************\n",
      "Python 3\n",
      "None\n",
      "Python\n"
     ]
    }
   ],
   "source": [
    "a = \"I enjoy learning programming languages such as Python 3\"\n",
    "\n",
    "result = re.search(r\"\\W(\\w{20})\\W|([A-Z]\\w{5})\\s\\d\", a)\n",
    "print(result)\n",
    "print(result.group())\n",
    "print('*' * 50)\n",
    "# first part - a 2 worded sequence surrounded by whitespace\n",
    "#  or\n",
    "# second part - a 5 worded sequence following a capital letter followed by a space and a digit\n",
    "\n",
    "print(result.group(0))\n",
    "print(result.group(1))\n",
    "print(result.group(2))"
   ]
  },
  {
   "cell_type": "markdown",
   "metadata": {},
   "source": [
    "<a id='split'></a>\n",
    "## SPLIT WITH REGULAR EXPRESSIONS\n",
    "\n",
    "Let's see how we can split with the re syntax. This should look similar to how you used the split() method with strings in python.\n",
    "\n",
    "```python\n",
    "re.split(pattern, string, maxsplit=0, flags=0)\n",
    "```\n",
    "\n",
    "Docstring:\n",
    "**Split the source string by the occurrences of the pattern, returning a list containing the resulting substrings.** If capturing parentheses are used in pattern, then the text of all groups in the pattern are also returned as part of the resulting list. If maxsplit is nonzero, at most maxsplit splits occur, and the remainder of the string is returned as the final element of the list."
   ]
  },
  {
   "cell_type": "code",
   "execution_count": 62,
   "metadata": {},
   "outputs": [
    {
     "data": {
      "text/plain": [
       "['What is the domain name of someone with the email: hello', 'gmail.com']"
      ]
     },
     "execution_count": 62,
     "metadata": {},
     "output_type": "execute_result"
    }
   ],
   "source": [
    "# Term to split on\n",
    "split_term = '@'\n",
    "\n",
    "phrase = 'What is the domain name of someone with the email: hello@gmail.com'\n",
    "\n",
    "# Split the phrase\n",
    "re.split(split_term,phrase)"
   ]
  },
  {
   "cell_type": "markdown",
   "metadata": {},
   "source": [
    "Note how <code>re.split()</code> returns a list with the term to split on removed and the terms in the list are a split up version of the string."
   ]
  },
  {
   "cell_type": "code",
   "execution_count": 63,
   "metadata": {},
   "outputs": [
    {
     "name": "stdout",
     "output_type": "stream",
     "text": [
      "['I', 'enjoy', 'learning', 'programming', 'languages', 'such', 'as', 'Python', '3']\n",
      "['I', 'enjoy', 'learning', 'programming', 'languages', 'such', 'as', 'Python', '3']\n"
     ]
    }
   ],
   "source": [
    "a = \"I enjoy learning programming languages such as Python 3\"\n",
    "\n",
    "# python method\n",
    "print(a.split(\" \"))\n",
    "\n",
    "# regex method\n",
    "print(re.split(r\" \", a))"
   ]
  },
  {
   "cell_type": "code",
   "execution_count": 64,
   "metadata": {},
   "outputs": [
    {
     "data": {
      "text/plain": [
       "['I enjoy learning programming languages such', 'Python 3']"
      ]
     },
     "execution_count": 64,
     "metadata": {},
     "output_type": "execute_result"
    }
   ],
   "source": [
    "# split the string by a 2 character word that has white space at the beginning and end of the word\n",
    "re.split(r\"\\W\\w{2}\\W\", a)"
   ]
  },
  {
   "cell_type": "markdown",
   "metadata": {},
   "source": [
    "<a id='examples'></a>\n",
    "### <ins>MORE EXAMPLES</ins>"
   ]
  },
  {
   "cell_type": "code",
   "execution_count": 65,
   "metadata": {},
   "outputs": [
    {
     "name": "stdout",
     "output_type": "stream",
     "text": [
      "None\n"
     ]
    },
    {
     "data": {
      "text/plain": [
       "NoneType"
      ]
     },
     "execution_count": 65,
     "metadata": {},
     "output_type": "execute_result"
    }
   ],
   "source": [
    "my_regex_str = \"200.10.2.0 255.255.255.0 200.20.5.2 1 205 T#1 S IB 5\"\n",
    "\n",
    "a = re.match(r\"255\", my_regex_str)\n",
    "print(a)\n",
    "type(a)\n",
    "\n",
    "# this returns None because the match method matches patterns only at the beginning of the string."
   ]
  },
  {
   "cell_type": "code",
   "execution_count": 66,
   "metadata": {},
   "outputs": [
    {
     "name": "stdout",
     "output_type": "stream",
     "text": [
      "<re.Match object; span=(0, 52), match='200.10.2.0 255.255.255.0 200.20.5.2 1 205 T#1 S I>\n",
      "200.10.2.0 255.255.255.0 200.20.5.2 1 205 T#1 S IB 5\n"
     ]
    }
   ],
   "source": [
    "b = re.search(r\"(.+?) +\\d\\d(\\d)\\.([0-9]{2,})\\.([0-9]{1,3})\\.(\\d) +(.+)1 +(\\d{3}) +(\\w{1})#.+S(\\s+)(\\w)\\w +(.*)\", my_regex_str)\n",
    "\n",
    "print(b)\n",
    "print(b.group(0))   # always returns the original string"
   ]
  },
  {
   "cell_type": "code",
   "execution_count": 67,
   "metadata": {},
   "outputs": [
    {
     "name": "stdout",
     "output_type": "stream",
     "text": [
      "200.10.2.0\n"
     ]
    }
   ],
   "source": [
    "print(b.group(1))\n",
    "\n",
    "# Inside the first group, we're matching any character, except a new line character. The plus sign means that\n",
    "# the previous expression, represented by the dot, may repeat one or more times. The match is made in a minimal\n",
    "# fashion (non-greedy), matching as few characters as possible up tot he first Space character. The result is \n",
    "# the IP address."
   ]
  },
  {
   "cell_type": "code",
   "execution_count": 68,
   "metadata": {},
   "outputs": [
    {
     "name": "stdout",
     "output_type": "stream",
     "text": [
      "<re.Match object; span=(0, 14), match='123.456.789   '>\n",
      "123.456.789\n",
      "<re.Match object; span=(0, 14), match='123.456.789   '>\n",
      "123.456.789\n",
      "<re.Match object; span=(0, 14), match='123.456.789   '>\n",
      "123.456.789\n",
      "<re.Match object; span=(0, 14), match='123.456.789   '>\n",
      "123.456.789 \n"
     ]
    }
   ],
   "source": [
    "# Challenge1 \n",
    "regex_str = \"123.456.789   0 PYTHON 3\"\n",
    "\n",
    "# method 1\n",
    "regex = re.search(r\"((\\d+)\\.(\\d+)\\.(\\d+))\\s{2,}\", regex_str)\n",
    "\n",
    "print(regex)\n",
    "print(regex.group(1))\n",
    "\n",
    "# method 2\n",
    "regex = re.search(r\"((\\d\\d\\d)\\.(\\d+)\\.(\\d{1,3}))\\s{2,}\", regex_str)\n",
    "\n",
    "print(regex)\n",
    "print(regex.group(1))\n",
    "\n",
    "# method 3\n",
    "regex = re.search(r\"(.+?)\\s{2,}\", regex_str)\n",
    "\n",
    "print(regex)\n",
    "print(regex.group(1))\n",
    "\n",
    "# method 4\n",
    "regex = re.search(r\"(.+)\\s{2,}\", regex_str)\n",
    "\n",
    "print(regex)\n",
    "print(regex.group(1))"
   ]
  },
  {
   "cell_type": "code",
   "execution_count": 69,
   "metadata": {
    "scrolled": true
   },
   "outputs": [
    {
     "name": "stdout",
     "output_type": "stream",
     "text": [
      "%%%.%%%.%%%   % %%%%%% %\n",
      "%%%.%%%.%%%   % %%%%%% %\n"
     ]
    }
   ],
   "source": [
    "# Challenge2 \n",
    "\n",
    "# method 1\n",
    "regex_str = \"123.456.789   0 PYTHON 3\"\n",
    "\n",
    "regex = re.sub(r\"\\d|[A-Z]\", \"%\", regex_str)\n",
    "\n",
    "print(regex)\n",
    "\n",
    "# method 2\n",
    "\n",
    "regex_str = \"123.456.789   0 PYTHON 3\"\n",
    "\n",
    "regex = re.sub(r\"\\w\", \"%\", regex_str)\n",
    "\n",
    "print(regex)"
   ]
  }
 ],
 "metadata": {
  "kernelspec": {
   "display_name": "Python 3",
   "language": "python",
   "name": "python3"
  },
  "language_info": {
   "codemirror_mode": {
    "name": "ipython",
    "version": 3
   },
   "file_extension": ".py",
   "mimetype": "text/x-python",
   "name": "python",
   "nbconvert_exporter": "python",
   "pygments_lexer": "ipython3",
   "version": "3.7.6"
  }
 },
 "nbformat": 4,
 "nbformat_minor": 4
}
