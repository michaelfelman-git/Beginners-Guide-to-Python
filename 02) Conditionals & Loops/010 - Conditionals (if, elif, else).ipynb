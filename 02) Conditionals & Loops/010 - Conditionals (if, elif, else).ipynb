{
 "cells": [
  {
   "cell_type": "markdown",
   "metadata": {},
   "source": [
    "<h1 align=\"center\">CONDITIONALS</h1>\n",
    "<h2 align=\"left\"><ins>Lesson Guide</ins></h2>\n",
    "\n",
    "- [**IF, ELIF, ELSE STATEMENTS**](#if)\n",
    "- [**NESTED IF STATEMENTS**](#nested)\n",
    "- [**INDENTATION**](#indent)\n",
    "- [**CONDITIONAL EXPRESSIONS (ternary operator)**](#condition)\n",
    "- [**MORE EXAMPLES**](#examples)\n",
    "\n",
    "Documentation: https://docs.python.org/3/tutorial/controlflow.html#if-statements"
   ]
  },
  {
   "cell_type": "markdown",
   "metadata": {},
   "source": [
    "<a id='if'></a>\n",
    "## IF, ELIF, ELSE STATEMENTS\n",
    "\n",
    "<code>if</code> Statements in Python allows us to tell the computer to perform alternative actions based on a certain set of results.\n",
    "\n",
    "Verbally, we can imagine we are telling the computer:\n",
    "\n",
    "\"Hey if this case happens, perform some action\"\n",
    "\n",
    "We can then expand the idea further with <code>elif</code> and <code>else</code> statements, which allow us to tell the computer:\n",
    "\n",
    "\"Hey if this case happens, perform some action. Else, if another case happens, perform some other action. Else, if *none* of the above cases happened, perform this action.\"\n",
    "\n",
    "Let's go ahead and look at the syntax format for <code>if</code> statements to get a better idea of this:\n",
    "\n",
    "    if case1:\n",
    "        perform action1\n",
    "    elif case2:\n",
    "        perform action2\n",
    "    else: \n",
    "        perform action3"
   ]
  },
  {
   "cell_type": "code",
   "execution_count": 1,
   "metadata": {},
   "outputs": [
    {
     "name": "stdout",
     "output_type": "stream",
     "text": [
      "Enter your name: dean\n",
      "Hello, stranger!\n",
      "This runs anyway.\n",
      "False\n",
      "False\n"
     ]
    }
   ],
   "source": [
    "friend = \"Rolf\"\n",
    "user_name = input(\"Enter your name: \")\n",
    "\n",
    "if user_name == friend:\n",
    "    print(\"Hello, friend!\")\n",
    "\n",
    "# this could be done but the else statement is better!\n",
    "# elif user_name != friend: \n",
    "#     print(\"Hello, stranger!\")\n",
    "\n",
    "else:\n",
    "    print(\"Hello, stranger!\")\n",
    "\n",
    "print('This runs anyway.')\n",
    "\n",
    "# -- Checking whether the if statement will run --\n",
    "\n",
    "print(bool(user_name == friend))  # if this is True, the if statement will run\n",
    "print(user_name == friend)"
   ]
  },
  {
   "cell_type": "code",
   "execution_count": 2,
   "metadata": {},
   "outputs": [
    {
     "name": "stdout",
     "output_type": "stream",
     "text": [
      "Enter your name: \n",
      "False\n"
     ]
    }
   ],
   "source": [
    "# the purpose here is to show that no name returns a False, hence the if statement does not run.\n",
    "\n",
    "name = input('Enter your name: ')\n",
    "\n",
    "print(bool(name))\n",
    "\n",
    "if name:\n",
    "    print('we know your name')"
   ]
  },
  {
   "cell_type": "code",
   "execution_count": 3,
   "metadata": {},
   "outputs": [
    {
     "name": "stdout",
     "output_type": "stream",
     "text": [
      "Enter your name: Jen\n",
      "Hello, family!\n"
     ]
    }
   ],
   "source": [
    "# -- Using the `in` keyword --\n",
    "\n",
    "friends = [\"Rolf\", \"Bob\", \"Anne\"]\n",
    "family = [\"Jen\", \"Charlie\"]\n",
    "\n",
    "user_name = input(\"Enter your name: \")\n",
    "\n",
    "if user_name in friends:\n",
    "    print(\"Hello, friend!\")\n",
    "elif user_name in family:\n",
    "    print(\"Hello, family!\")\n",
    "else:\n",
    "    print(\"I don't know you.\")"
   ]
  },
  {
   "cell_type": "code",
   "execution_count": 4,
   "metadata": {},
   "outputs": [
    {
     "name": "stdout",
     "output_type": "stream",
     "text": [
      "hello\n"
     ]
    }
   ],
   "source": [
    "# only way for this to work is if =False:\n",
    "is_programmer = False\n",
    "\n",
    "if is_programmer is False:\n",
    "    print('hello')"
   ]
  },
  {
   "cell_type": "markdown",
   "metadata": {},
   "source": [
    "<a id='nested'></a>\n",
    "## NESTED `if` STATEMENTS"
   ]
  },
  {
   "cell_type": "code",
   "execution_count": 5,
   "metadata": {},
   "outputs": [
    {
     "name": "stdout",
     "output_type": "stream",
     "text": [
      "Please guess a number between 1 and 10:\n",
      "8\n",
      "Please guess lower\n",
      "3\n",
      "Sorry, you have not guessed correctly\n"
     ]
    }
   ],
   "source": [
    "# this game only allows for a maximum of 2 guesses\n",
    "answer = 5\n",
    "\n",
    "print(\"Please guess a number between 1 and 10:\")\n",
    "guess = int(input())\n",
    "\n",
    "if guess < answer:\n",
    "    print(\"Please guess higher\")\n",
    "    guess = int(input())\n",
    "    if guess == answer:\n",
    "        print(\"Well done, you guessed it\")\n",
    "    else:\n",
    "        print(\"Sorry, you have not guessed correctly\")\n",
    "\n",
    "elif guess > answer:\n",
    "    print(\"Please guess lower\")\n",
    "    guess = int(input())\n",
    "    if guess == answer:\n",
    "        print(\"Well done, you guessed it\")\n",
    "    else:\n",
    "        print(\"Sorry, you have not guessed correctly\")\n",
    "    \n",
    "else:\n",
    "    print(\"You got it first time!\")"
   ]
  },
  {
   "cell_type": "code",
   "execution_count": 6,
   "metadata": {},
   "outputs": [
    {
     "name": "stdout",
     "output_type": "stream",
     "text": [
      "Please guess a number between 1 and 10:\n",
      "2\n",
      "Please guess higher\n",
      "8\n",
      "Sorry, you have not guessed  correctly\n"
     ]
    }
   ],
   "source": [
    "# this game only allows for a maximum of 2 guesses\n",
    "answer = 5\n",
    "\n",
    "print(\"Please guess a number between 1 and 10:\")\n",
    "guess = int(input())\n",
    "\n",
    "if guess != answer:\n",
    "    if guess < answer:\n",
    "        print(\"Please guess higher\")\n",
    "    else:\n",
    "        print(\"Please guess lower\")\n",
    "        \n",
    "    guess = int(input())\n",
    "    \n",
    "    if guess == answer:\n",
    "        print(\"Well done, you guessed it\")\n",
    "    else:\n",
    "        print(\"Sorry, you have not guessed  correctly\")\n",
    "\n",
    "else:\n",
    "    print(\"You got it first time!\")"
   ]
  },
  {
   "cell_type": "code",
   "execution_count": 7,
   "metadata": {},
   "outputs": [
    {
     "name": "stdout",
     "output_type": "stream",
     "text": [
      "Please guess a number between 1 and 10:\n",
      "5\n",
      "You got it first time!\n"
     ]
    }
   ],
   "source": [
    "# this game only allows for a maximum of 2 guesses\n",
    "# challenge problem\n",
    "\n",
    "answer = 5\n",
    "\n",
    "print(\"Please guess a number between 1 and 10:\")\n",
    "guess = int(input())\n",
    "\n",
    "if guess == answer:\n",
    "    print(\"You got it first time!\")\n",
    "    \n",
    "#elif guess != answer:      this is not correct, but still works:\n",
    "else:\n",
    "    if guess < answer:\n",
    "        print(\"Please guess higher\")\n",
    "    else:\n",
    "        print(\"Please guess lower\")\n",
    "        \n",
    "    guess = int(input())\n",
    "    \n",
    "    if guess == answer:\n",
    "        print(\"Well done, you guessed it\")\n",
    "    else:\n",
    "        print(\"Sorry, you have not guessed  correctly\")"
   ]
  },
  {
   "cell_type": "code",
   "execution_count": 8,
   "metadata": {},
   "outputs": [
    {
     "name": "stdout",
     "output_type": "stream",
     "text": [
      "i does not appear in the word.\n"
     ]
    }
   ],
   "source": [
    "# x = \"Cisco\"\n",
    "# x = 'hi'\n",
    "x = 'old'\n",
    "\n",
    "if 'i' in x:\n",
    "    if len(x) > 3:\n",
    "        print(x, len(x))\n",
    "    \n",
    "    else:\n",
    "        print('to few letter')\n",
    "else:\n",
    "    print('i does not appear in the word.')\n",
    "    \n",
    "# ALternatively,\n",
    "if ('i' in x) and (len(x) > 3):\n",
    "    print(x, len(x))"
   ]
  },
  {
   "cell_type": "markdown",
   "metadata": {},
   "source": [
    "<a id='indent'></a>\n",
    "## INDENTATION\n",
    "It is important to keep a good understanding of how indentation works in Python to maintain the structure and order of your code. "
   ]
  },
  {
   "cell_type": "markdown",
   "metadata": {},
   "source": [
    "<a id='condition'></a>\n",
    "## CONDITIONAL EXPRESSIONS (ternary operator)"
   ]
  },
  {
   "cell_type": "markdown",
   "metadata": {},
   "source": [
    "Conditional expressions in Python, sometimes referred to as Python's ternary operator, are a slightly obscure bit of syntax in Python, but they essentially allow us to assign values to variables based on some condition."
   ]
  },
  {
   "cell_type": "code",
   "execution_count": 9,
   "metadata": {},
   "outputs": [
    {
     "name": "stdout",
     "output_type": "stream",
     "text": [
      "6\n"
     ]
    }
   ],
   "source": [
    "x = 6\n",
    "value = x if x < 10 else \"Invalid value\"  \n",
    "\n",
    "print(value)"
   ]
  },
  {
   "cell_type": "markdown",
   "metadata": {},
   "source": [
    "First we start with the value to return if the condition is True. In our case, this is x. We then have the if keyword followed by some condition. In our case this is a comparison using the less than operator, but any expression which can be evaluated to a Boolean value is fine. After the condition, we use the else keyword, followed by the value to return if the condition evaluates to False. Failing to add an else clause results in a SyntaxError.\n",
    "\n",
    "**`<value if condition True> if <condition> else <value if condition False>`**"
   ]
  },
  {
   "cell_type": "markdown",
   "metadata": {},
   "source": [
    "Conditional expressions can be chained by appending to the else clause, but the syntax is already confusing enough that it isn't recommended ever doing this:"
   ]
  },
  {
   "cell_type": "code",
   "execution_count": 10,
   "metadata": {},
   "outputs": [
    {
     "name": "stdout",
     "output_type": "stream",
     "text": [
      "Super invalid value\n"
     ]
    }
   ],
   "source": [
    "x = 16\n",
    "value = x if x < 10 else \"Invalid value\" if x < 15 else \"Super invalid value\"\n",
    "\n",
    "print(value)"
   ]
  },
  {
   "cell_type": "code",
   "execution_count": 11,
   "metadata": {},
   "outputs": [
    {
     "name": "stdout",
     "output_type": "stream",
     "text": [
      "1\n",
      "2\n",
      "Fizz\n",
      "4\n",
      "Buzz\n",
      "Fizz\n",
      "7\n",
      "8\n",
      "Fizz\n",
      "Buzz\n",
      "11\n",
      "Fizz\n",
      "13\n",
      "14\n",
      "FizzBuzz\n",
      "16\n",
      "17\n",
      "Fizz\n",
      "19\n",
      "Buzz\n",
      "Fizz\n",
      "22\n",
      "23\n",
      "Fizz\n"
     ]
    }
   ],
   "source": [
    "for i in range(1,25):\n",
    "    print('FizzBuzz' if (i%3==0 and i%5==0) else 'Fizz' if i%3==0 else 'Buzz' if i%5==0 else i)"
   ]
  },
  {
   "cell_type": "markdown",
   "metadata": {},
   "source": [
    "The order of the conditions and the return values is pretty unintuitive, and it can be hard to follow the logic of these conditional expressions. Often it's much clearer to just use an if statement, even if it's a little longer. There are, however, plenty of examples of this structure being used in the wild, so it's important to be able to recognise it and understand it when it's used in other people's code."
   ]
  },
  {
   "cell_type": "markdown",
   "metadata": {},
   "source": [
    "<a id='examples'></a>\n",
    "## MORE EXAMPLES"
   ]
  },
  {
   "cell_type": "code",
   "execution_count": 12,
   "metadata": {},
   "outputs": [
    {
     "ename": "AttributeError",
     "evalue": "'int' object has no attribute 'split'",
     "output_type": "error",
     "traceback": [
      "\u001b[1;31m---------------------------------------------------------------------------\u001b[0m",
      "\u001b[1;31mAttributeError\u001b[0m                            Traceback (most recent call last)",
      "\u001b[1;32m<ipython-input-12-d2bbbdaf1eef>\u001b[0m in \u001b[0;36m<module>\u001b[1;34m\u001b[0m\n\u001b[1;32m----> 1\u001b[1;33m \u001b[0mprint\u001b[0m\u001b[1;33m(\u001b[0m\u001b[0mx\u001b[0m\u001b[1;33m.\u001b[0m\u001b[0msplit\u001b[0m\u001b[1;33m(\u001b[0m\u001b[1;34m'o'\u001b[0m\u001b[1;33m)\u001b[0m\u001b[1;33m)\u001b[0m\u001b[1;33m\u001b[0m\u001b[1;33m\u001b[0m\u001b[0m\n\u001b[0m\u001b[0;32m      2\u001b[0m \u001b[0mlen\u001b[0m\u001b[1;33m(\u001b[0m\u001b[0mx\u001b[0m\u001b[1;33m.\u001b[0m\u001b[0msplit\u001b[0m\u001b[1;33m(\u001b[0m\u001b[1;34m'o'\u001b[0m\u001b[1;33m)\u001b[0m\u001b[1;33m)\u001b[0m\u001b[1;33m\u001b[0m\u001b[1;33m\u001b[0m\u001b[0m\n",
      "\u001b[1;31mAttributeError\u001b[0m: 'int' object has no attribute 'split'"
     ]
    }
   ],
   "source": [
    "print(x.split('o'))\n",
    "len(x.split('o'))"
   ]
  },
  {
   "cell_type": "code",
   "execution_count": 13,
   "metadata": {},
   "outputs": [
    {
     "ename": "AttributeError",
     "evalue": "'int' object has no attribute 'strip'",
     "output_type": "error",
     "traceback": [
      "\u001b[1;31m---------------------------------------------------------------------------\u001b[0m",
      "\u001b[1;31mAttributeError\u001b[0m                            Traceback (most recent call last)",
      "\u001b[1;32m<ipython-input-13-8d017c9a4e77>\u001b[0m in \u001b[0;36m<module>\u001b[1;34m\u001b[0m\n\u001b[1;32m----> 1\u001b[1;33m \u001b[0mprint\u001b[0m\u001b[1;33m(\u001b[0m\u001b[0mx\u001b[0m\u001b[1;33m.\u001b[0m\u001b[0mstrip\u001b[0m\u001b[1;33m(\u001b[0m\u001b[1;34m'n'\u001b[0m\u001b[1;33m)\u001b[0m\u001b[1;33m)\u001b[0m\u001b[1;33m\u001b[0m\u001b[1;33m\u001b[0m\u001b[0m\n\u001b[0m\u001b[0;32m      2\u001b[0m \u001b[1;32mfor\u001b[0m \u001b[0mi\u001b[0m \u001b[1;32min\u001b[0m \u001b[0mx\u001b[0m\u001b[1;33m.\u001b[0m\u001b[0mstrip\u001b[0m\u001b[1;33m(\u001b[0m\u001b[1;34m'n'\u001b[0m\u001b[1;33m)\u001b[0m\u001b[1;33m:\u001b[0m\u001b[1;33m\u001b[0m\u001b[1;33m\u001b[0m\u001b[0m\n\u001b[0;32m      3\u001b[0m     \u001b[0mprint\u001b[0m\u001b[1;33m(\u001b[0m\u001b[0mi\u001b[0m \u001b[1;33m*\u001b[0m \u001b[1;36m2\u001b[0m\u001b[1;33m)\u001b[0m\u001b[1;33m\u001b[0m\u001b[1;33m\u001b[0m\u001b[0m\n",
      "\u001b[1;31mAttributeError\u001b[0m: 'int' object has no attribute 'strip'"
     ]
    }
   ],
   "source": [
    "print(x.strip('n'))\n",
    "for i in x.strip('n'):\n",
    "    print(i * 2)"
   ]
  },
  {
   "cell_type": "code",
   "execution_count": 14,
   "metadata": {},
   "outputs": [
    {
     "name": "stdout",
     "output_type": "stream",
     "text": [
      "Hello Python Hello Python Hello Python !\n"
     ]
    }
   ],
   "source": [
    "# x = 'Hello Pythons'    # this results in the if block being run\n",
    "x = 'Hello Python'\n",
    "\n",
    "if x.startswith(\"H\") and len(x) > 12:\n",
    "    print('/'.join(x[:7]))\n",
    "    \n",
    "elif x[:-1] == 'n' and len(x.split('o')) >= 3:\n",
    "    for i in x.strip('n'):\n",
    "        print(i * 2)\n",
    "\n",
    "else:\n",
    "    print((x + ' ') * 3 + '!')"
   ]
  },
  {
   "cell_type": "code",
   "execution_count": 15,
   "metadata": {},
   "outputs": [
    {
     "name": "stdout",
     "output_type": "stream",
     "text": [
      "o python\n"
     ]
    }
   ],
   "source": [
    "x = 'Hello Python'\n",
    "\n",
    "if x.startswith(\"H\") and len(x) > 12:\n",
    "    print('/'.join(x[:7]))\n",
    "    \n",
    "elif x[-1] == 'n' and len(x.split('o')) >= 3:\n",
    "    print(x.lower()[4:])\n",
    "\n",
    "else:\n",
    "    print((x + ' ') * 3 + '!')"
   ]
  },
  {
   "cell_type": "code",
   "execution_count": 16,
   "metadata": {},
   "outputs": [
    {
     "name": "stdout",
     "output_type": "stream",
     "text": [
      "H/e/l/l/o/ /P\n"
     ]
    }
   ],
   "source": [
    "x = 'Hello Python'\n",
    "\n",
    "if x.startswith(\"H\") or len(x) > 12:\n",
    "    print('/'.join(x[:7]))\n",
    "    \n",
    "elif x[-1] == 'n' and len(x.split('o')) >= 3:\n",
    "    print(x.lower()[4:])\n",
    "\n",
    "else:\n",
    "    print((x + ' ') * 3 + '!')"
   ]
  },
  {
   "cell_type": "code",
   "execution_count": 17,
   "metadata": {},
   "outputs": [
    {
     "name": "stdout",
     "output_type": "stream",
     "text": [
      "its odd\n"
     ]
    }
   ],
   "source": [
    "#Determine if a number is even or odd\n",
    "number = 103423\n",
    "\n",
    "if number % 2 == 0:\n",
    "    print(\"it's even\")\n",
    "else:\n",
    "    print(\"its odd\")"
   ]
  },
  {
   "cell_type": "code",
   "execution_count": 18,
   "metadata": {},
   "outputs": [
    {
     "name": "stdout",
     "output_type": "stream",
     "text": [
      "it's odd\n"
     ]
    }
   ],
   "source": [
    "#Another method to determine if a numebr is even or odd\n",
    "number = 103423\n",
    "remainder = number % 2\n",
    "\n",
    "if remainder == 0:\n",
    "    print(\"it's even\")\n",
    "elif remainder == 1:\n",
    "     print(\"it's odd\")"
   ]
  },
  {
   "cell_type": "code",
   "execution_count": 19,
   "metadata": {},
   "outputs": [
    {
     "name": "stdout",
     "output_type": "stream",
     "text": [
      "Please enter your name: jerry\n",
      "How old are you, jerry?12\n",
      "Please come back in 6 years.\n"
     ]
    }
   ],
   "source": [
    "name = input(\"Please enter your name: \")\n",
    "age = int(input(\"How old are you, {0}? \".format(name)))\n",
    "\n",
    "if age >= 18:\n",
    "    print(\"You are old enough to vote.\")\n",
    "    \n",
    "else:\n",
    "    print(\"Please come back in {0} years.\".format(18 - age))"
   ]
  },
  {
   "cell_type": "code",
   "execution_count": 20,
   "metadata": {},
   "outputs": [
    {
     "name": "stdout",
     "output_type": "stream",
     "text": [
      "It's freezing!\n"
     ]
    }
   ],
   "source": [
    "temperature = 250\n",
    "if temperature > 299:\n",
    "    print(\"It's too hot!\")\n",
    "elif temperature <= 299 and temperature > 288:\n",
    "    print(\"It's just right!\")\n",
    "elif temperature <= 288 and temperature > 277:\n",
    "    print(\"It's pretty cold!\")\n",
    "else:\n",
    "    print(\"It's freezing!\")"
   ]
  },
  {
   "cell_type": "code",
   "execution_count": 21,
   "metadata": {},
   "outputs": [
    {
     "name": "stdout",
     "output_type": "stream",
     "text": [
      "y or a is true\n",
      "either x or y is False123\n",
      "x is greater than y\n"
     ]
    }
   ],
   "source": [
    "x = 8             #True\n",
    "y = 1             #False\n",
    "a = \"Hello!\"      #True\n",
    "b = \"\"            #False\n",
    "\n",
    "#check if y or a is false\n",
    "if y or a:\n",
    "    print('y or a is true')\n",
    "\n",
    "if not y or not a:\n",
    "    print('y or a is false')\n",
    "\n",
    "if x or y:\n",
    "    print('either x or y is False123')\n",
    "    if x > y:\n",
    "        print('x is greater than y')\n",
    "        \n",
    "# Then, only if either x or y is False, check if x is greater than y. If it is, print out \"x is greater than y.\"\n",
    "if not x or not y:\n",
    "    print('either x or y is False')\n",
    "    if x > y:\n",
    "        print('x is greater than y')"
   ]
  },
  {
   "cell_type": "code",
   "execution_count": 22,
   "metadata": {},
   "outputs": [
    {
     "name": "stdout",
     "output_type": "stream",
     "text": [
      "both of these are false\n",
      "one is true and one is false\n",
      "one is false\n",
      "one is falsessss\n",
      "x is greater than y\n"
     ]
    }
   ],
   "source": [
    "x = 8             #True\n",
    "y = 0             #False\n",
    "a = \"Hello!\"      #True\n",
    "b = \"\"            #False\n",
    "\n",
    "# Check if x and b are both True. If they are, print \"Both of these are true.\"\n",
    "if x and b:\n",
    "    print('both of these are true')\n",
    "\n",
    "# Check if y and b are both False.\n",
    "if not y and not b:\n",
    "    print('both of these are false')\n",
    "\n",
    "#check if x is true and y is false    \n",
    "if x and not y:\n",
    "    print('one is true and one is false')\n",
    "    \n",
    "# Check if y or a is False. If one is, print \"One of these is false.\"\n",
    "if not y or (not a):    \n",
    "    print('one is false')\n",
    "\n",
    "# Check if either x or y is False. If one is, print out \"One is false.\"\n",
    "if x or y:\n",
    "    print('one is falsessss')\n",
    "\n",
    "# Then, only if either x or y is False, check if x is greater than y. If it is, print out \"x is greater than y.\"\n",
    "if not x or not y:\n",
    "    if x > y:\n",
    "        print('x is greater than y')"
   ]
  },
  {
   "cell_type": "code",
   "execution_count": 23,
   "metadata": {},
   "outputs": [
    {
     "name": "stdout",
     "output_type": "stream",
     "text": [
      "Your name is John and you are also 23 years old.\n",
      "Your name is John and you are also 23 years old.\n",
      "Your name is either John or Rick.\n"
     ]
    }
   ],
   "source": [
    "name = \"John\"\n",
    "age = 23\n",
    "if name == \"John\" and age == 23:\n",
    "    print(\"Your name is \" + name + \" and you are also \" + str(age) + \" years old.\")  #Method 1\n",
    "    \n",
    "    print('Your name is',name, 'and you are also',age,'years old.')                  #Method 2\n",
    "\n",
    "    \n",
    "if name == \"John\" or name == \"Rick\":\n",
    "    print(\"Your name is either John or Rick.\")"
   ]
  },
  {
   "cell_type": "code",
   "execution_count": 24,
   "metadata": {},
   "outputs": [
    {
     "name": "stdout",
     "output_type": "stream",
     "text": [
      "1\n",
      "2\n",
      "3\n",
      "4\n",
      "5\n",
      "6\n"
     ]
    }
   ],
   "source": [
    "# Challenge\n",
    "# Change this code to make all print statements work\n",
    "number = 16\n",
    "second_number = 0\n",
    "first_array = [1,2,3]\n",
    "second_array = [1,2]\n",
    "\n",
    "if number > 15:\n",
    "    print(\"1\")\n",
    "\n",
    "if first_array:\n",
    "    print(\"2\")\n",
    "\n",
    "if len(second_array) == 2:\n",
    "    print(\"3\")\n",
    "\n",
    "if len(first_array) + len(second_array) == 5:\n",
    "    print(\"4\")\n",
    "\n",
    "if first_array and first_array[0] == 1:\n",
    "    print(\"5\")\n",
    "\n",
    "if not second_number:\n",
    "    print(\"6\")"
   ]
  }
 ],
 "metadata": {
  "kernelspec": {
   "display_name": "Python 3",
   "language": "python",
   "name": "python3"
  },
  "language_info": {
   "codemirror_mode": {
    "name": "ipython",
    "version": 3
   },
   "file_extension": ".py",
   "mimetype": "text/x-python",
   "name": "python",
   "nbconvert_exporter": "python",
   "pygments_lexer": "ipython3",
   "version": "3.7.6"
  }
 },
 "nbformat": 4,
 "nbformat_minor": 2
}
