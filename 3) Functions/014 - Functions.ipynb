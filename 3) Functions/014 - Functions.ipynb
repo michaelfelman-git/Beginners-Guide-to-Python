{
 "cells": [
  {
   "cell_type": "markdown",
   "metadata": {},
   "source": [
    "<h1 align=\"center\">FUNCTIONS</h1>\n",
    "<h2 align=\"left\"><ins>Lesson Guide</ins></h2>\n",
    "\n",
    "- [**METHODS**](#methods)\n",
    "- [**FUNCTIONS**](#functions)\n",
    "- [**RETURN**](#return)\n",
    "- [**ASSERT**](#assert)\n",
    "- [**DEFAULT PARAMETER VALUES**](#default)\n",
    "- [**ARGUMENTS & PARAMETERS**](#args_pars)\n",
    "    - [**Parameters**](#args_pars)\n",
    "    - [**Positional Arguments**](#args_pars)\n",
    "    - [**Keyword Arguments**](#args_pars)\n",
    "    - [**Default Parameters**](#args_pars)\n",
    "- [**`*ARGS` and `**KWARGS`**](#args)\n",
    "    - [**`*args` (positional arguments)**](#args)\n",
    "    - [**`**kwargs` (keyword arguments)**](#args)\n",
    "    - [**`*args` and `**kwargs` combined**](#args)\n",
    "- [**NESTED FUNCTIONS**](#nest)\n",
    "- [**FIRST CLASS & HIGHER ORDER FUNCTIONS**](#order)\n",
    "- [**MORE EXAMPLES**](#examples)\n",
    "- [**NESTED STATEMENTS AND SCOPE**](#scope)\n",
    "    - [**LEGB Rule**](#legb)\n",
    "    - [**Examples of LEGB**](#legb_ex)\n",
    "    - [**Local Variables**](#local)\n",
    "    - [**The `global` Statement**](#global)\n",
    "    - [**Conclusion**](#conclusion)\n",
    "\n",
    "<br><ins>Useful Resources</ins><br>\n",
    "[Documentation](https://docs.python.org/3/tutorial/controlflow.html#defining-functions)<br>\n",
    "[Wikibooks](https://en.wikibooks.org/wiki/Python_Programming/Functions)    \n",
    "[Very useful resource](https://python-course.eu/python3_namespaces.php)"
   ]
  },
  {
   "cell_type": "markdown",
   "metadata": {},
   "source": [
    "<a id='methods'></a>\n",
    "## METHODS\n",
    "\n",
    "Before diving into functions, we've already encountered methods when learning about the different data types in Python. Methods are essentially functions built into class objects. Methods cannot be invoked byits name and requires having an argument 'self' referring to the object itself. Methods perform specific actions on an object and can also take arguments, just like a function. \n",
    "\n",
    "Methods are in the form:\n",
    "\n",
    "    object.method(arg1,arg2,etc...)"
   ]
  },
  {
   "cell_type": "markdown",
   "metadata": {},
   "source": [
    "<a id='functions'></a>\n",
    "## FUNCTIONS\n",
    "\n",
    "Functions will be one of the main building blocks when constructing larger and larger amounts of code to solve problems. On a more fundamental level, functions allow us to not have to repeatedly write the same code again and again. \n",
    "\n",
    "Formally, a function is a useful device that groups together a set of statements so they can be run more than once. They can also let us specify parameters that can serve as inputs to the functions.\n",
    "\n",
    "Functions are not associated with any objects and can be invoked by their name. They do not require the 'self' keyword."
   ]
  },
  {
   "cell_type": "markdown",
   "metadata": {},
   "source": [
    "So far, we've been using Python's built-in-functions such as `print` and `len`. But we haven't learned how to create functions, or even how they really work. Let's see how to build out a function's syntax in Python. \n",
    "\n",
    "#### General Rule: func_name(params, *args, default params, **kwargs)"
   ]
  },
  {
   "cell_type": "code",
   "execution_count": 1,
   "metadata": {},
   "outputs": [],
   "source": [
    "def name_of_function(parameter1,parameter2):\n",
    "    '''\n",
    "    This is where the function's Document String (docstring) goes\n",
    "    '''\n",
    "    # Do stuff here\n",
    "    # Return/print desired result"
   ]
  },
  {
   "cell_type": "code",
   "execution_count": 2,
   "metadata": {},
   "outputs": [
    {
     "name": "stdout",
     "output_type": "stream",
     "text": [
      "Help on function name_of_function in module __main__:\n",
      "\n",
      "name_of_function(parameter1, parameter2)\n",
      "    This is where the function's Document String (docstring) goes\n",
      "\n"
     ]
    }
   ],
   "source": [
    "help(name_of_function)\n",
    "\n",
    "# notice we dont need () since we are not calling the function"
   ]
  },
  {
   "cell_type": "code",
   "execution_count": 3,
   "metadata": {},
   "outputs": [
    {
     "name": "stdout",
     "output_type": "stream",
     "text": [
      "Enter your name: billy\n",
      "Hello, billy!\n"
     ]
    },
    {
     "ename": "NameError",
     "evalue": "name 'name' is not defined",
     "output_type": "error",
     "traceback": [
      "\u001b[1;31m---------------------------------------------------------------------------\u001b[0m",
      "\u001b[1;31mNameError\u001b[0m                                 Traceback (most recent call last)",
      "\u001b[1;32m<ipython-input-3-4cf2d867601b>\u001b[0m in \u001b[0;36m<module>\u001b[1;34m\u001b[0m\n\u001b[0;32m     12\u001b[0m \u001b[1;33m\u001b[0m\u001b[0m\n\u001b[0;32m     13\u001b[0m \u001b[1;31m# Any variables declared inside the function are not accessible outside it.\u001b[0m\u001b[1;33m\u001b[0m\u001b[1;33m\u001b[0m\u001b[1;33m\u001b[0m\u001b[0m\n\u001b[1;32m---> 14\u001b[1;33m \u001b[0mprint\u001b[0m\u001b[1;33m(\u001b[0m\u001b[0mname\u001b[0m\u001b[1;33m)\u001b[0m  \u001b[1;31m# ERROR!\u001b[0m\u001b[1;33m\u001b[0m\u001b[1;33m\u001b[0m\u001b[0m\n\u001b[0m",
      "\u001b[1;31mNameError\u001b[0m: name 'name' is not defined"
     ]
    }
   ],
   "source": [
    "def greet():\n",
    "    name = input(\"Enter your name: \")\n",
    "    print(f\"Hello, {name}!\")\n",
    "\n",
    "# Running this alone does nothing. We have defined a function, but we haven't executed\n",
    "# it. To execute we must call out to the function in order for its contents to run.\n",
    "\n",
    "greet()\n",
    "\n",
    "# You can put as much or as little code as you want inside a function, but preferably \n",
    "# keep it short. You'll usually be putting code that you want to reuse inside functions.\n",
    "\n",
    "# Any variables declared inside the function are not accessible outside it.\n",
    "print(name)  # ERROR!"
   ]
  },
  {
   "cell_type": "code",
   "execution_count": 4,
   "metadata": {},
   "outputs": [
    {
     "name": "stdout",
     "output_type": "stream",
     "text": [
      "Ford Fiesta does 50.0 miles per gallon.\n",
      "Ford Fiesta does 50.0 miles per gallon.\n"
     ]
    }
   ],
   "source": [
    "# Imagine you've got some code that calculates the fuel efficiency of a car:\n",
    "\n",
    "car = {\"make\": \"Ford\", \"model\": \"Fiesta\", \"mileage\": 23000, \"fuel_consumed\": 460}\n",
    "\n",
    "mpg = car[\"mileage\"] / car[\"fuel_consumed\"]\n",
    "name = f\"{car['make']} {car['model']}\"\n",
    "print(f\"{name} does {mpg} miles per gallon.\")\n",
    "\n",
    "# You could put this in a function:\n",
    "def calculate_mpg():\n",
    "    car = {\"make\": \"Ford\", \"model\": \"Fiesta\", \"mileage\": 23000, \"fuel_consumed\": 460}\n",
    "\n",
    "    mpg = car[\"mileage\"] / car[\"fuel_consumed\"]\n",
    "    name = f\"{car['make']} {car['model']}\"\n",
    "    print(f\"{name} does {mpg} miles per gallon.\")\n",
    "\n",
    "\n",
    "calculate_mpg()\n",
    "\n",
    "# But this is not a very reusable function since it only calculates the mpg of a single car."
   ]
  },
  {
   "cell_type": "code",
   "execution_count": 5,
   "metadata": {},
   "outputs": [
    {
     "name": "stdout",
     "output_type": "stream",
     "text": [
      "Ford Fiesta does 50.0 miles per gallon.\n",
      "******************************\n",
      "Ford Fiesta does 50.0 miles per gallon.\n",
      "Ford Focus does 48.57142857142857 miles per gallon.\n",
      "Mazda MX-5 does 54.44444444444444 miles per gallon.\n",
      "Mini Cooper does 131.91489361702128 miles per gallon.\n"
     ]
    }
   ],
   "source": [
    "# What if we made it calculate the mpg of \"any\" arbitrary car?\n",
    "\n",
    "def calculate_mpg(car_to_calculate):  # This can be renamed to `car`\n",
    "    mpg = car_to_calculate[\"mileage\"] / car_to_calculate[\"fuel_consumed\"]\n",
    "    name = f\"{car_to_calculate['make']} {car_to_calculate['model']}\"\n",
    "    print(f\"{name} does {mpg} miles per gallon.\")\n",
    "\n",
    "calculate_mpg(car)\n",
    "print('*' * 30)\n",
    "\n",
    "# This means that given a list of cars with the correct data format, \n",
    "# we can run the function for all of them!\n",
    "cars = [\n",
    "    {\"make\": \"Ford\", \"model\": \"Fiesta\", \"mileage\": 23000, \"fuel_consumed\": 460},\n",
    "    {\"make\": \"Ford\", \"model\": \"Focus\", \"mileage\": 17000, \"fuel_consumed\": 350},\n",
    "    {\"make\": \"Mazda\", \"model\": \"MX-5\", \"mileage\": 49000, \"fuel_consumed\": 900},\n",
    "    {\"make\": \"Mini\", \"model\": \"Cooper\", \"mileage\": 31000, \"fuel_consumed\": 235}]\n",
    "\n",
    "for car in cars:\n",
    "    calculate_mpg(car)"
   ]
  },
  {
   "cell_type": "code",
   "execution_count": 6,
   "metadata": {},
   "outputs": [
    {
     "name": "stdout",
     "output_type": "stream",
     "text": [
      "Ford Fiesta does 50.00 miles per gallon.\n",
      "Ford Focus does 48.57 miles per gallon.\n",
      "Mazda MX-5 does 54.44 miles per gallon.\n",
      "Mini Cooper does 131.91 miles per gallon.\n"
     ]
    }
   ],
   "source": [
    "# or we can put everything inside the function for simplicity\n",
    "def calculate_mpg(cars_list):\n",
    "    \n",
    "    for car in cars_list:\n",
    "        mpg = car[\"mileage\"] / car[\"fuel_consumed\"]\n",
    "        name = f\"{car['make']} {car['model']}\"\n",
    "        print(f\"{name} does {mpg:.2f} miles per gallon.\")\n",
    "\n",
    "calculate_mpg(cars)"
   ]
  },
  {
   "cell_type": "markdown",
   "metadata": {},
   "source": [
    "<a id='return'></a>\n",
    "## RETURN\n",
    "<code>return</code> allows a function to *return* a result that can then be stored as a variable, or used in whatever manner a user wants. A `return` statement also ends a function. "
   ]
  },
  {
   "cell_type": "code",
   "execution_count": 7,
   "metadata": {},
   "outputs": [
    {
     "name": "stdout",
     "output_type": "stream",
     "text": [
      "  0 F | -17.78 C\n",
      " 10 F | -12.22 C\n",
      " 20 F |  -6.67 C\n",
      " 30 F |  -1.11 C\n",
      " 40 F |   4.44 C\n",
      " 50 F |  10.00 C\n",
      " 60 F |  15.56 C\n",
      " 70 F |  21.11 C\n",
      " 80 F |  26.67 C\n",
      " 90 F |  32.22 C\n",
      "100 F |  37.78 C\n"
     ]
    }
   ],
   "source": [
    "def to_celsius(x):\n",
    "    return (x-32)*5/9\n",
    "\n",
    "for i in range(0,101,10):\n",
    "    print(f\"{i:>3} F | {to_celsius(i):6.2f} C\")"
   ]
  },
  {
   "cell_type": "code",
   "execution_count": 8,
   "metadata": {},
   "outputs": [
    {
     "name": "stdout",
     "output_type": "stream",
     "text": [
      "More organized code is a benefit of functions\n",
      "More readable code is a benefit of functions\n",
      "Easier code reuse is a benefit of functions\n",
      "Alowing programmers to share and connect code together is a benefit of functions\n"
     ]
    }
   ],
   "source": [
    "# Modify this function to return a list of strings as defined below\n",
    "def list_benefits():\n",
    "    return 'More organized code','More readable code','Easier code reuse','Alowing programmers to share and connect code together'\n",
    "\n",
    "\n",
    "# Modify this function to concatenate to each benefit - \" is a benefit of functions!\"\n",
    "def build_sentence(benefit):\n",
    "   # return benefit,'is a benefit of functions'\n",
    "    return '%s is a benefit of functions' % benefit\n",
    "   \n",
    "    \n",
    "def name_the_benefits_of_functions():\n",
    "    list_of_benefits = list_benefits()\n",
    "    for benefit in list_of_benefits:\n",
    "        print(build_sentence(benefit))\n",
    "\n",
    "name_the_benefits_of_functions()"
   ]
  },
  {
   "cell_type": "code",
   "execution_count": 9,
   "metadata": {},
   "outputs": [
    {
     "name": "stdout",
     "output_type": "stream",
     "text": [
      "Ford Fiesta does 50.0 miles per gallon.\n",
      "Ford Focus does 48.57142857142857 miles per gallon.\n",
      "Mazda MX-5 does 54.44444444444444 miles per gallon.\n",
      "Mini Cooper does 131.91489361702128 miles per gallon.\n"
     ]
    }
   ],
   "source": [
    "def calculate_mpg(car):\n",
    "    mpg = car[\"mileage\"] / car[\"fuel_consumed\"]\n",
    "    return mpg  #round(mpg, 2)  # Ends the function, gives back the value\n",
    "\n",
    "\n",
    "def car_name(car):\n",
    "    return f\"{car['make']} {car['model']}\"\n",
    "\n",
    "\n",
    "def print_car_info(car):\n",
    "    name = car_name(car)\n",
    "    mpg = calculate_mpg(car)\n",
    "\n",
    "    print(f\"{name} does {mpg} miles per gallon.\")\n",
    "    # Returns None by default, as all functions do\n",
    "\n",
    "\n",
    "cars = [\n",
    "    {\"make\": \"Ford\", \"model\": \"Fiesta\", \"mileage\": 23000, \"fuel_consumed\": 460},\n",
    "    {\"make\": \"Ford\", \"model\": \"Focus\", \"mileage\": 17000, \"fuel_consumed\": 350},\n",
    "    {\"make\": \"Mazda\", \"model\": \"MX-5\", \"mileage\": 49000, \"fuel_consumed\": 900},\n",
    "    {\"make\": \"Mini\", \"model\": \"Cooper\", \"mileage\": 31000, \"fuel_consumed\": 235}\n",
    "]\n",
    "\n",
    "for car in cars:\n",
    "#     print(calculate_mpg(car))\n",
    "#     print(car_name(car))\n",
    "    print_car_info(car)"
   ]
  },
  {
   "cell_type": "code",
   "execution_count": 10,
   "metadata": {},
   "outputs": [
    {
     "name": "stdout",
     "output_type": "stream",
     "text": [
      "5.0\n",
      "You tried to divide by zero!\n",
      "23.85\n"
     ]
    }
   ],
   "source": [
    "# -- Multiple returns --\n",
    "\n",
    "def divide(x, y):\n",
    "    if y == 0:\n",
    "        return \"You tried to divide by zero!\"\n",
    "    else:\n",
    "        return x / y\n",
    "\n",
    "\n",
    "print(divide(10, 2))  # 5\n",
    "print(divide(6, 0))  # You tried to divide by zero!\n",
    "\n",
    "# Can also save as variable due to using return instead of print\n",
    "test1 = divide(23423,982)\n",
    "print(f\"{test1:.2f}\")"
   ]
  },
  {
   "cell_type": "code",
   "execution_count": 11,
   "metadata": {},
   "outputs": [
    {
     "data": {
      "text/plain": [
       "'abcdef'"
      ]
     },
     "execution_count": 11,
     "metadata": {},
     "output_type": "execute_result"
    }
   ],
   "source": [
    "def adder(number1, number2):\n",
    "    return number1 + number2\n",
    "\n",
    "# adder(10, 100.)   # returns 110.0\n",
    "# adder(10, '10')   # returns an error\n",
    "# adder(100)        # returns an error\n",
    "# adder(10, 20, 30) # returns an error\n",
    "adder('abc', 'def')"
   ]
  },
  {
   "cell_type": "markdown",
   "metadata": {},
   "source": [
    "Note that because we don't declare variable types in Python, this function could be used to add numbers or sequences together."
   ]
  },
  {
   "cell_type": "markdown",
   "metadata": {
    "collapsed": true
   },
   "source": [
    "Finally let's go over a n example of creating a function to check if a number is prime (a common interview exercise)."
   ]
  },
  {
   "cell_type": "code",
   "execution_count": 12,
   "metadata": {},
   "outputs": [
    {
     "name": "stdout",
     "output_type": "stream",
     "text": [
      "5 is prime!\n"
     ]
    }
   ],
   "source": [
    "# We know a number is prime if that number is only evenly divisible by 1 and itself.\n",
    "\n",
    "def is_prime(num):\n",
    "    '''\n",
    "    Naive method of checking for primes. \n",
    "    '''\n",
    "    for n in range(2,num):\n",
    "        if num % n == 0:\n",
    "            print(num,'is not prime')\n",
    "            break\n",
    "    else: # If never mod zero, then prime\n",
    "        print(num,'is prime!')\n",
    "\n",
    "is_prime(5)"
   ]
  },
  {
   "cell_type": "markdown",
   "metadata": {},
   "source": [
    "Note how the <code>else</code> lines up under <code>for</code> and not <code>if</code>. This is because we want the <code>for</code> loop to exhaust all possibilities in the range before printing our number is prime.\n",
    "\n",
    "Also note how we break the code after the first print statement. As soon as we determine that a number is not prime we break out of the <code>for</code> loop.\n",
    "\n",
    "We can actually improve this function by only checking to the square root of the target number, and by disregarding all even numbers after checking for 2. We'll also switch to returning a boolean value to get an example of using return statements:"
   ]
  },
  {
   "cell_type": "code",
   "execution_count": 13,
   "metadata": {},
   "outputs": [],
   "source": [
    "import math\n",
    "\n",
    "def is_prime2(num):\n",
    "    '''\n",
    "    Better method of checking for primes. \n",
    "    '''\n",
    "    if num % 2 == 0 and num > 2: \n",
    "        return False\n",
    "    for i in range(3, int(math.sqrt(num)) + 1, 2):\n",
    "        if num % i == 0:\n",
    "            return False\n",
    "    return True"
   ]
  },
  {
   "cell_type": "code",
   "execution_count": 14,
   "metadata": {},
   "outputs": [
    {
     "data": {
      "text/plain": [
       "False"
      ]
     },
     "execution_count": 14,
     "metadata": {},
     "output_type": "execute_result"
    }
   ],
   "source": [
    "is_prime2(18)"
   ]
  },
  {
   "cell_type": "markdown",
   "metadata": {},
   "source": [
    "Why don't we have any <code>break</code> statements? **It should be noted that as soon as a function *returns* something, it shuts down. A function can deliver multiple print statements, but it will only obey one <code>return</code>**."
   ]
  },
  {
   "cell_type": "code",
   "execution_count": 15,
   "metadata": {},
   "outputs": [],
   "source": [
    "# def is_even(num):\n",
    "#     if num % 2 == 0:\n",
    "#         return True\n",
    "#     elif num % 2 != 0:\n",
    "#         return False\n",
    "    \n",
    "# def is_even(num):\n",
    "#     if num % 2 == 0:\n",
    "#         return True\n",
    "#     else:\n",
    "#         return False\n",
    "    \n",
    "# def is_even(num):\n",
    "#     if num % 2 == 0:\n",
    "#         return True\n",
    "#     return False   # it will only get to this line if the line above is False\n",
    "    \n",
    "def is_even(num):\n",
    "    return num % 2 == 0"
   ]
  },
  {
   "cell_type": "code",
   "execution_count": 16,
   "metadata": {},
   "outputs": [
    {
     "name": "stdout",
     "output_type": "stream",
     "text": [
      "True\n",
      "False\n"
     ]
    }
   ],
   "source": [
    "print(is_even(50))\n",
    "print(is_even(51))"
   ]
  },
  {
   "cell_type": "markdown",
   "metadata": {},
   "source": [
    "<a id='assert'></a>\n",
    "## ASSERT\n",
    "We can use the `assert` statement to validate if our functions output is correct."
   ]
  },
  {
   "cell_type": "code",
   "execution_count": 17,
   "metadata": {},
   "outputs": [],
   "source": [
    "def area_square(length):\n",
    "    area = length ** 2\n",
    "    return area"
   ]
  },
  {
   "cell_type": "code",
   "execution_count": 18,
   "metadata": {},
   "outputs": [],
   "source": [
    "assert area_square(5) == 25"
   ]
  },
  {
   "cell_type": "code",
   "execution_count": 19,
   "metadata": {},
   "outputs": [
    {
     "ename": "AssertionError",
     "evalue": "",
     "output_type": "error",
     "traceback": [
      "\u001b[1;31m---------------------------------------------------------------------------\u001b[0m",
      "\u001b[1;31mAssertionError\u001b[0m                            Traceback (most recent call last)",
      "\u001b[1;32m<ipython-input-19-f968bb1106ce>\u001b[0m in \u001b[0;36m<module>\u001b[1;34m\u001b[0m\n\u001b[0;32m      1\u001b[0m \u001b[1;31m# If our assert statement is false, assert will return an error.\u001b[0m\u001b[1;33m\u001b[0m\u001b[1;33m\u001b[0m\u001b[1;33m\u001b[0m\u001b[0m\n\u001b[0;32m      2\u001b[0m \u001b[1;33m\u001b[0m\u001b[0m\n\u001b[1;32m----> 3\u001b[1;33m \u001b[1;32massert\u001b[0m \u001b[0marea_square\u001b[0m\u001b[1;33m(\u001b[0m\u001b[1;36m5\u001b[0m\u001b[1;33m)\u001b[0m \u001b[1;33m==\u001b[0m \u001b[1;36m21\u001b[0m\u001b[1;33m\u001b[0m\u001b[1;33m\u001b[0m\u001b[0m\n\u001b[0m",
      "\u001b[1;31mAssertionError\u001b[0m: "
     ]
    }
   ],
   "source": [
    "# If our assert statement is false, assert will return an error.\n",
    "\n",
    "assert area_square(5) == 21"
   ]
  },
  {
   "cell_type": "markdown",
   "metadata": {},
   "source": [
    "<a id='args_pars'></a>\n",
    "## ARGUMENTS & PARAMETERS"
   ]
  },
  {
   "cell_type": "code",
   "execution_count": 20,
   "metadata": {},
   "outputs": [
    {
     "name": "stdout",
     "output_type": "stream",
     "text": [
      "                                            spam and eggs\n",
      "                                      spam, spam, spam and spam\n",
      "                                                  12\n"
     ]
    }
   ],
   "source": [
    "              # parameter\n",
    "def centre_text(text):\n",
    "    \"\"\"Variable text is added to allow for numbers to\n",
    "    be used as arguments.\"\"\"\n",
    "    \n",
    "    text = str(text)                         \n",
    "    left_margin = (100 - len(text)) // 2\n",
    "    print(\" \" * left_margin, text)\n",
    "\n",
    "            # argument    \n",
    "centre_text(\"spam and eggs\")\n",
    "centre_text(\"spam, spam, spam and spam\")\n",
    "centre_text(12)"
   ]
  },
  {
   "cell_type": "markdown",
   "metadata": {},
   "source": [
    "<ins>**Parameters**</ins>"
   ]
  },
  {
   "cell_type": "code",
   "execution_count": 21,
   "metadata": {},
   "outputs": [],
   "source": [
    "def say_hello(greeting,name):\n",
    "    print(f'{greeting} {name}')"
   ]
  },
  {
   "cell_type": "markdown",
   "metadata": {},
   "source": [
    "<ins>**Positional Arguments**</ins><br>\n",
    "Here we are passing the arguments in the order they were defined."
   ]
  },
  {
   "cell_type": "code",
   "execution_count": 22,
   "metadata": {},
   "outputs": [
    {
     "name": "stdout",
     "output_type": "stream",
     "text": [
      "hello michael\n"
     ]
    }
   ],
   "source": [
    "say_hello('hello', 'michael')"
   ]
  },
  {
   "cell_type": "markdown",
   "metadata": {},
   "source": [
    "<ins>**Keyword Arguments**</ins><br>\n",
    "Here we are passing the arguments with a keyword in any order. This is not the preferred method to use. At least try to put in the same order as defined."
   ]
  },
  {
   "cell_type": "code",
   "execution_count": 23,
   "metadata": {},
   "outputs": [
    {
     "name": "stdout",
     "output_type": "stream",
     "text": [
      "goodbye michael\n"
     ]
    }
   ],
   "source": [
    "say_hello(name='michael', greeting='goodbye')"
   ]
  },
  {
   "cell_type": "markdown",
   "metadata": {},
   "source": [
    "<ins>**Default Parameters**</ins><br>"
   ]
  },
  {
   "cell_type": "code",
   "execution_count": 24,
   "metadata": {},
   "outputs": [
    {
     "name": "stdout",
     "output_type": "stream",
     "text": [
      "hello michael\n",
      "goodbye michael\n"
     ]
    }
   ],
   "source": [
    "def say_hello(name, greeting='hello'):\n",
    "    print(f'{greeting} {name}')\n",
    "    \n",
    "say_hello('michael')\n",
    "# here we only need to pass through a name\n",
    "\n",
    "say_hello('michael', greeting='goodbye')\n",
    "# we can change a default value by simply passing through a keyword argument"
   ]
  },
  {
   "cell_type": "markdown",
   "metadata": {},
   "source": [
    "In the next example, `def add(x=2, y):` is not allowed and will produce an error. \n",
    ">**Default parameters must go at the end**."
   ]
  },
  {
   "cell_type": "code",
   "execution_count": 25,
   "metadata": {},
   "outputs": [
    {
     "name": "stdout",
     "output_type": "stream",
     "text": [
      "8\n",
      "8\n",
      "6\n",
      "7\n"
     ]
    }
   ],
   "source": [
    "def add(x, y=3):\n",
    "    total = x + y\n",
    "    print(total)\n",
    "\n",
    "add(5)\n",
    "add(2, 6)\n",
    "add(x=3)\n",
    "add(x=5, y=2)\n",
    "\n",
    "# add(y=2)  # ERROR!\n",
    "# add(x=2, 5)  # ERROR! once x is defined, the remaining must also be named."
   ]
  },
  {
   "cell_type": "markdown",
   "metadata": {},
   "source": [
    "When calling the function, `x` is a positional argument whereas `y=3` is a keyword argument. Positional arguments must go before keyword arguments"
   ]
  },
  {
   "cell_type": "code",
   "execution_count": 26,
   "metadata": {},
   "outputs": [
    {
     "name": "stdout",
     "output_type": "stream",
     "text": [
      "1 - 2 - 3 - 4 - 5\n",
      "5\n",
      "4\n",
      "5\n",
      "8\n",
      "8\n"
     ]
    }
   ],
   "source": [
    "# -- More named arguments --\n",
    "\n",
    "print(1, 2, 3, 4, 5, sep=\" - \")  # default is \" \"\n",
    "\n",
    "# You can use almost anything as a default parameter value.\n",
    "# But using variables as default parameter values is discouraged, as that can \n",
    "# introduce difficult bugs to spot\n",
    "\n",
    "default_y = 3\n",
    "\n",
    "def add(x, y=default_y):\n",
    "    sum = x + y\n",
    "    print(sum)\n",
    "\n",
    "add(2)  # 5\n",
    "\n",
    "default_y = 4\n",
    "print(default_y)  # 4\n",
    "\n",
    "add(2)  # 5\n",
    "add(5, y=3) \n",
    "add(y=3, x=5)\n",
    "#add(y=3, 5)     # produces an error"
   ]
  },
  {
   "cell_type": "markdown",
   "metadata": {},
   "source": [
    "Be careful when using lists or dictionaries as default parameter values. Unlike integers or strings, these will update if you modify the original list or dictionary. This is due to a language feature called mutability."
   ]
  },
  {
   "cell_type": "markdown",
   "metadata": {},
   "source": [
    "<a id='args'></a>\n",
    "## `*ARGS` and `**KWARGS`\n",
    "\n",
    "Work with Python long enough, and eventually you will encounter `*args` (positional arguments) and `**kwargs` (keyword arguments). These strange terms show up as parameters in function definitions."
   ]
  },
  {
   "cell_type": "code",
   "execution_count": 27,
   "metadata": {},
   "outputs": [
    {
     "data": {
      "text/plain": [
       "5.0"
      ]
     },
     "execution_count": 27,
     "metadata": {},
     "output_type": "execute_result"
    }
   ],
   "source": [
    "def myfunc(a,b):\n",
    "    return sum((a,b))*.05\n",
    "\n",
    "myfunc(40,60)"
   ]
  },
  {
   "cell_type": "markdown",
   "metadata": {},
   "source": [
    "This function returns 5% of the sum of **a** and **b**. In this example, **a** and **b** are *positional* arguments; that is, 40 is assigned to **a** because it is the first argument, and 60 to **b**. Notice also that to work with multiple positional arguments in the `sum()` function we had to pass them in as a tuple.\n",
    "\n",
    "What if we want to work with more than two numbers? One way would be to assign a *lot* of parameters, and give each one a default value."
   ]
  },
  {
   "cell_type": "code",
   "execution_count": 28,
   "metadata": {},
   "outputs": [
    {
     "data": {
      "text/plain": [
       "6.0"
      ]
     },
     "execution_count": 28,
     "metadata": {},
     "output_type": "execute_result"
    }
   ],
   "source": [
    "def myfunc(a=0,b=0,c=0,d=0,e=0):\n",
    "    return sum((a,b,c,d,e))*.05\n",
    "\n",
    "myfunc(40,60,20)"
   ]
  },
  {
   "cell_type": "markdown",
   "metadata": {},
   "source": [
    "Obviously this is not a very efficient solution, and that's where `*args` comes in.\n",
    "\n",
    "## <ins>`*args` (positional arguments)</ins>\n",
    "\n",
    "When a function parameter starts with an asterisk, it allows for an *arbitrary number* of arguments, and the function takes them in as a tuple of values. Rewriting the above function:"
   ]
  },
  {
   "cell_type": "code",
   "execution_count": 29,
   "metadata": {},
   "outputs": [
    {
     "data": {
      "text/plain": [
       "60.0"
      ]
     },
     "execution_count": 29,
     "metadata": {},
     "output_type": "execute_result"
    }
   ],
   "source": [
    "def myfunc(*args):\n",
    "    return sum(args)*.5\n",
    "\n",
    "myfunc(40,60,20)"
   ]
  },
  {
   "cell_type": "markdown",
   "metadata": {},
   "source": [
    "Notice how passing the keyword `*args` into the `sum()` function did the same thing as a tuple of arguments.\n",
    "\n",
    "It is worth noting that the word `*args` is itself arbitrary - any word will do so long as it's preceded by an asterisk. To demonstrate this:"
   ]
  },
  {
   "cell_type": "code",
   "execution_count": 30,
   "metadata": {},
   "outputs": [
    {
     "data": {
      "text/plain": [
       "60.0"
      ]
     },
     "execution_count": 30,
     "metadata": {},
     "output_type": "execute_result"
    }
   ],
   "source": [
    "def myfunc(*spam):\n",
    "    return sum(spam)*.5\n",
    "\n",
    "myfunc(40,60,20)"
   ]
  },
  {
   "cell_type": "code",
   "execution_count": 31,
   "metadata": {},
   "outputs": [
    {
     "name": "stdout",
     "output_type": "stream",
     "text": [
      "Hello\n",
      "()\n",
      "\n",
      "Hello\n",
      "(100, 200)\n",
      "100 200\n"
     ]
    }
   ],
   "source": [
    "def function1(x, *args):\n",
    "    print(x)\n",
    "    print(args)\n",
    "    print(*args)\n",
    "    \n",
    "function1('Hello')  # note this produces nothing for *args\n",
    "function1('Hello', 100, 200)"
   ]
  },
  {
   "cell_type": "code",
   "execution_count": 32,
   "metadata": {},
   "outputs": [
    {
     "name": "stdout",
     "output_type": "stream",
     "text": [
      "Hello\n",
      "Hello\n",
      "100\n",
      "200\n"
     ]
    }
   ],
   "source": [
    "def function1(x, *args):\n",
    "    print(x)\n",
    "    \n",
    "  # for argument in *args:  this will produce an error\n",
    "    for argument in args:\n",
    "        print(argument)\n",
    "    \n",
    "function1('Hello')\n",
    "function1('Hello', 100, 200)"
   ]
  },
  {
   "cell_type": "markdown",
   "metadata": {},
   "source": [
    "## <ins>`**kwargs` (keyword arguments)</ins>\n",
    "\n",
    "Similarly, Python offers a way to handle arbitrary numbers of *keyworded* arguments. Instead of creating a tuple of values, `**kwargs` builds a dictionary of key/value pairs. For example:"
   ]
  },
  {
   "cell_type": "code",
   "execution_count": 33,
   "metadata": {},
   "outputs": [
    {
     "name": "stdout",
     "output_type": "stream",
     "text": [
      "My favorite fruit is pineapple\n"
     ]
    }
   ],
   "source": [
    "def myfunc(**kwargs):\n",
    "    if 'fruit' in kwargs:\n",
    "        print(f\"My favorite fruit is {kwargs['fruit']}\")\n",
    "    else:\n",
    "        print(\"I don't like fruit\")\n",
    "        \n",
    "myfunc(fruit='pineapple')"
   ]
  },
  {
   "cell_type": "code",
   "execution_count": 34,
   "metadata": {},
   "outputs": [
    {
     "name": "stdout",
     "output_type": "stream",
     "text": [
      "I don't like fruit\n"
     ]
    }
   ],
   "source": [
    "myfunc(sport='tennis')"
   ]
  },
  {
   "cell_type": "markdown",
   "metadata": {},
   "source": [
    "## <ins>`*args` and `**kwargs` combined</ins>\n",
    "You can pass `*args` and `**kwargs` into the same function, but `*args` have to appear before `**kwargs`."
   ]
  },
  {
   "cell_type": "code",
   "execution_count": 35,
   "metadata": {},
   "outputs": [
    {
     "name": "stdout",
     "output_type": "stream",
     "text": [
      "I like eggs and spam and my favorite fruit is cherries\n",
      "May I have some orange juice?\n"
     ]
    }
   ],
   "source": [
    "def myfunc(*args, **kwargs):\n",
    "    if 'fruit' and 'juice' in kwargs:\n",
    "        print(f\"I like {' and '.join(args)} and my favorite fruit is {kwargs['fruit']}\")\n",
    "        print(f\"May I have some {kwargs['juice']} juice?\")\n",
    "    else:\n",
    "        pass\n",
    "        \n",
    "myfunc('eggs','spam',fruit='cherries',juice='orange')"
   ]
  },
  {
   "cell_type": "markdown",
   "metadata": {},
   "source": [
    "Placing keyworded arguments ahead of positional arguments raises an exception:"
   ]
  },
  {
   "cell_type": "code",
   "execution_count": 36,
   "metadata": {
    "scrolled": true
   },
   "outputs": [
    {
     "ename": "SyntaxError",
     "evalue": "positional argument follows keyword argument (<ipython-input-36-fc6ff65addcc>, line 1)",
     "output_type": "error",
     "traceback": [
      "\u001b[1;36m  File \u001b[1;32m\"<ipython-input-36-fc6ff65addcc>\"\u001b[1;36m, line \u001b[1;32m1\u001b[0m\n\u001b[1;33m    myfunc(fruit='cherries',juice='orange','eggs','spam')\u001b[0m\n\u001b[1;37m                                          ^\u001b[0m\n\u001b[1;31mSyntaxError\u001b[0m\u001b[1;31m:\u001b[0m positional argument follows keyword argument\n"
     ]
    }
   ],
   "source": [
    "myfunc(fruit='cherries',juice='orange','eggs','spam')"
   ]
  },
  {
   "cell_type": "markdown",
   "metadata": {},
   "source": [
    "As with `*args`, you can use any name you'd like for keyworded arguments - `*kwargs` is just a popular convention."
   ]
  },
  {
   "cell_type": "markdown",
   "metadata": {},
   "source": [
    "<a id='nest'></a>\n",
    "## NESTED FUNCTIONS\n",
    "[Inner functions](https://realpython.com/inner-functions-what-are-they-good-for/), also known as nested functions, are functions that you define inside other functions. In Python, this kind of function has direct access to variables and names defined in the enclosing function. \n",
    "\n",
    "The use cases of Python inner functions are varied. You can use them to provide [encapsulation](https://en.wikipedia.org/wiki/Encapsulation_(computer_programming)) and [hide](https://en.wikipedia.org/wiki/Information_hiding) your functions from external access, you can write helper inner functions, and you can also create [closure factories](https://realpython.com/inner-functions-what-are-they-good-for/#retaining-state-with-inner-functions-closures) and [decorator functions](https://realpython.com/inner-functions-what-are-they-good-for/#adding-behavior-with-inner-functions-decorators). "
   ]
  },
  {
   "cell_type": "code",
   "execution_count": 37,
   "metadata": {},
   "outputs": [
    {
     "name": "stdout",
     "output_type": "stream",
     "text": [
      "30\n"
     ]
    }
   ],
   "source": [
    "def sum(num1, num2):\n",
    "    def another_func(n1, n2):\n",
    "        return n1 + n2\n",
    "    return another_func(num1,num2)\n",
    "\n",
    "total = sum(10,20)\n",
    "print(total)"
   ]
  },
  {
   "cell_type": "code",
   "execution_count": 38,
   "metadata": {},
   "outputs": [
    {
     "data": {
      "text/plain": [
       "24"
      ]
     },
     "execution_count": 38,
     "metadata": {},
     "output_type": "execute_result"
    }
   ],
   "source": [
    "def factorial(number):\n",
    "    \n",
    "    # Validate input\n",
    "    if not isinstance(number, int):\n",
    "        raise TypeError(\"Sorry. 'number' must be an integer.\")\n",
    "    if number < 0:\n",
    "        raise ValueError(\"Sorry. 'number' must be zero or positive.\")\n",
    "    \n",
    "    # Calculate the factorial of number\n",
    "    def inner_factorial(number):\n",
    "        if number <= 1:\n",
    "            return 1\n",
    "        return number * inner_factorial(number - 1)\n",
    "    return inner_factorial(number)\n",
    "\n",
    "factorial(4)"
   ]
  },
  {
   "cell_type": "markdown",
   "metadata": {},
   "source": [
    "In `factorial()`, you first validate the input data to make sure that your user is providing an integer that is equal to or greater than zero. Then you define a recursive inner function called `inner_factorial()` that performs the factorial calculation and returns the result. The final step is to call `inner_factorial()`.\n",
    "\n",
    "The main advantage of using this pattern is that, by performing all the argument checking in the outer function, you can safely skip error checking in the inner function and focus on the computation at hand."
   ]
  },
  {
   "cell_type": "markdown",
   "metadata": {},
   "source": [
    "<a id='order'></a>\n",
    "## FIRST CLASS & HIGHER ORDER FUNCTIONS\n",
    "In Python, functions are first class citizens. That means that, just like any other value, they can be passed as arguments to functions or assigned to variables. Here's a simple (yet not terribly useful) example to illustrate."
   ]
  },
  {
   "cell_type": "code",
   "execution_count": 39,
   "metadata": {},
   "outputs": [
    {
     "name": "stdout",
     "output_type": "stream",
     "text": [
      "Hello!\n",
      "Hello!\n"
     ]
    }
   ],
   "source": [
    "def greet():\n",
    "    print(\"Hello!\")\n",
    "    \n",
    "hello = greet  \n",
    "# hello is another name for the greet function now.\n",
    "\n",
    "greet()\n",
    "hello()"
   ]
  },
  {
   "cell_type": "markdown",
   "metadata": {},
   "source": [
    "And, you can also pass it to a function. `before_and_after` is a higher-order function. That just means it's a function which has another function as a parameter."
   ]
  },
  {
   "cell_type": "code",
   "execution_count": 40,
   "metadata": {},
   "outputs": [
    {
     "name": "stdout",
     "output_type": "stream",
     "text": [
      "Before...\n",
      "Hello!\n",
      "After...\n"
     ]
    }
   ],
   "source": [
    "# func is a function passed in\n",
    "def before_and_after(func):  \n",
    "    print(\"Before...\")\n",
    "    func()\n",
    "    print(\"After...\")\n",
    "\n",
    "# greet, not greet(). That's because we're passing the function, \n",
    "# not the result of calling the function.\n",
    "\n",
    "before_and_after(greet)"
   ]
  },
  {
   "cell_type": "markdown",
   "metadata": {},
   "source": [
    "All functions are first class but only functions where the parameter being passed is also a function is a higher order function. "
   ]
  },
  {
   "cell_type": "code",
   "execution_count": 41,
   "metadata": {},
   "outputs": [
    {
     "name": "stdout",
     "output_type": "stream",
     "text": [
      "True\n"
     ]
    }
   ],
   "source": [
    "def over_age(data, getter):\n",
    "    return getter(data) >= 18\n",
    "\n",
    "user = {'username':'rolf123', 'age':35}\n",
    "\n",
    "print(over_age(user, lambda x: int(x['age'])))"
   ]
  },
  {
   "cell_type": "markdown",
   "metadata": {},
   "source": [
    "<a id='examples'></a>\n",
    "## MORE EXAMPLES"
   ]
  },
  {
   "cell_type": "code",
   "execution_count": 42,
   "metadata": {},
   "outputs": [
    {
     "data": {
      "text/plain": [
       "'AnThRoPoMoRpHiSm'"
      ]
     },
     "execution_count": 42,
     "metadata": {},
     "output_type": "execute_result"
    }
   ],
   "source": [
    "# convert every second letter to a capital\n",
    "\n",
    "def myfunc(string):\n",
    "    new_string = []\n",
    "    index=0\n",
    "    for char in string:\n",
    "        if index%2==0:\n",
    "            new_string.append(char.upper())\n",
    "            index += 1\n",
    "        else:\n",
    "            new_string.append(char.lower())\n",
    "            index += 1\n",
    "    return ''.join(new_string)\n",
    "\n",
    "myfunc('Anthropomorphism')"
   ]
  },
  {
   "cell_type": "code",
   "execution_count": 43,
   "metadata": {},
   "outputs": [
    {
     "name": "stdout",
     "output_type": "stream",
     "text": [
      "(1, 2, 3, 4, 5, 6, 7, 8, 9, 10)\n"
     ]
    },
    {
     "data": {
      "text/plain": [
       "[2, 4, 6, 8, 10]"
      ]
     },
     "execution_count": 43,
     "metadata": {},
     "output_type": "execute_result"
    }
   ],
   "source": [
    "def myfunc(*args):\n",
    "    print(args)\n",
    "    even_nums = []\n",
    "    for num in args:\n",
    "        if num%2==0:\n",
    "            even_nums.append(num)\n",
    "#         else:\n",
    "#             continue\n",
    "    \n",
    "    return even_nums\n",
    "\n",
    "myfunc(1,2,3,4,5,6,7,8,9,10)"
   ]
  },
  {
   "cell_type": "code",
   "execution_count": 44,
   "metadata": {},
   "outputs": [
    {
     "data": {
      "text/plain": [
       "[2, 4, 6, 8, 10]"
      ]
     },
     "execution_count": 44,
     "metadata": {},
     "output_type": "execute_result"
    }
   ],
   "source": [
    "def myfunc(*args):\n",
    "    return [num for num in args if num%2==0]\n",
    "\n",
    "myfunc(1,2,3,4,5,6,7,8,9,10)"
   ]
  },
  {
   "cell_type": "code",
   "execution_count": 45,
   "metadata": {},
   "outputs": [
    {
     "name": "stdout",
     "output_type": "stream",
     "text": [
      "                                            spam and eggs \n",
      "                                         spam, spam and eggs \n",
      "                                                 12 \n",
      "                                  first second 3 4 ['spam', 'eggs'] \n"
     ]
    }
   ],
   "source": [
    "              # parameter\n",
    "def centre_text(*args):\n",
    "    text = \"\"           # this line is added to allow for numbers to be used as arguments.\n",
    "    for arg in args:\n",
    "        text += str(arg) + \" \"\n",
    "    left_margin = (100 - len(text)) // 2\n",
    "    print(\" \" * left_margin, text)\n",
    "\n",
    "            # argument    \n",
    "centre_text(\"spam and eggs\")\n",
    "centre_text(\"spam, spam and eggs\")\n",
    "centre_text(12)\n",
    "centre_text(\"first\", \"second\", 3, 4, [\"spam\", \"eggs\"])"
   ]
  },
  {
   "cell_type": "code",
   "execution_count": 46,
   "metadata": {},
   "outputs": [
    {
     "name": "stdout",
     "output_type": "stream",
     "text": [
      "                                 ( ' s p a m   a n d   e g g s ' , )\n",
      "                           ( ' s p a m ,   s p a m   a n d   e g g s ' , )\n",
      "                                              ( 1 2 , )\n",
      "        ( ' f i r s t ' ,   ' s e c o n d ' ,   3 ,   4 ,   [ ' s p a m ' ,   ' e g g s ' ] )\n"
     ]
    }
   ],
   "source": [
    "              # parameter\n",
    "def centre_text(*args):\n",
    "  # text = \" \".join(args)   # this returns an error because of integers                  \n",
    "    text = \" \".join(str(args))\n",
    "    left_margin = (100 - len(text)) // 2\n",
    "    print(\" \" * left_margin, text)\n",
    "\n",
    "            # argument    \n",
    "centre_text(\"spam and eggs\")\n",
    "centre_text(\"spam, spam and eggs\")\n",
    "centre_text(12)\n",
    "centre_text(\"first\", \"second\", 3, 4, [\"spam\", \"eggs\"])"
   ]
  },
  {
   "cell_type": "code",
   "execution_count": 47,
   "metadata": {},
   "outputs": [
    {
     "name": "stdout",
     "output_type": "stream",
     "text": [
      "                                           spam and eggs \n",
      "                                        spam, spam and eggs \n",
      "                                                12 \n",
      "                                 first:second:3:4:['spam', 'eggs']:\n"
     ]
    }
   ],
   "source": [
    "              # parameter\n",
    "def centre_text(*args, sep=\" \"):\n",
    "    text = \"\"               # allows for numbers to be used as arguments.\n",
    "    for arg in args:\n",
    "        text += str(arg) + sep\n",
    "    left_margin = (100 - len(text)) // 2\n",
    "    return \" \" * left_margin + text\n",
    "\n",
    "            # argument    \n",
    "\n",
    "s1 = centre_text(\"spam and eggs\")    # this assigns the return in the function to a variable\n",
    "print(s1)\n",
    "print(centre_text(\"spam, spam and eggs\"))\n",
    "print(centre_text(12))\n",
    "print(centre_text(\"first\", \"second\", 3, 4, [\"spam\", \"eggs\"], sep=\":\"))"
   ]
  },
  {
   "cell_type": "markdown",
   "metadata": {},
   "source": [
    "The following examples have been commented out as they will create a new text file when run for the first time."
   ]
  },
  {
   "cell_type": "code",
   "execution_count": 48,
   "metadata": {},
   "outputs": [],
   "source": [
    "# write the output to a file:\n",
    "\n",
    "# parameter\n",
    "# def centre_text(*args, sep=\" \", end=\"\\n\", file=None, flush=False):\n",
    "#     text = \"\"                    \n",
    "#     for arg in args:\n",
    "#         text += str(arg) + sep\n",
    "#     left_margin = (100 - len(text)) // 2\n",
    "#     print(\" \" * left_margin, text, end=end, file=file, flush=flush)\n",
    "\n",
    "#             # argument    \n",
    "# with open(\"centred\", mode='w') as centred_file:\n",
    "#     centre_text(\"spam and eggs\", file=centred_file)\n",
    "#     centre_text(\"spam, spam and eggs\", file=centred_file)\n",
    "#     centre_text(12, file=centred_file)\n",
    "    \n",
    "#     centre_text(\"first\", \"second\", 3, 4, [\"spam\", \"eggs\"], sep=\":\", file=centred_file)"
   ]
  },
  {
   "cell_type": "code",
   "execution_count": 49,
   "metadata": {},
   "outputs": [],
   "source": [
    "              # parameter\n",
    "# def centre_text(*args, sep=\" \"):\n",
    "#     text = \"\"                     \n",
    "#     for arg in args:\n",
    "#         text += str(arg) + sep\n",
    "#     left_margin = (100 - len(text)) // 2\n",
    "#     return \" \" * left_margin + text\n",
    "\n",
    "#             # argument    \n",
    "# with open(\"menu\", 'w') as menu:\n",
    "#     s1 = centre_text(\"spam and eggs\")    \n",
    "#     print(s1, file=menu)\n",
    "#     print(centre_text(\"spam, spam and eggs\"), file=menu)\n",
    "#     s3 = centre_text(12)\n",
    "#     print(s3, file=menu)\n",
    "#     print(centre_text(\"spam, spam, spam and spam\"), file=menu)"
   ]
  },
  {
   "cell_type": "markdown",
   "metadata": {},
   "source": [
    "<a id='scope'></a>\n",
    "## NESTED STATEMENTS AND SCOPE (global & local)\n",
    "\n",
    "Now that we have gone over writing our own functions, it's important to understand how Python deals with the variable names you assign. When you create a variable name in Python the name is stored in a *name-space*. Variable names also have a *scope*. The scope determines the visibility of that variable name to other parts of your code.\n",
    "\n",
    "Imagine the following code:"
   ]
  },
  {
   "cell_type": "code",
   "execution_count": 50,
   "metadata": {},
   "outputs": [],
   "source": [
    "x = 25\n",
    "\n",
    "def printer():\n",
    "    x = 50\n",
    "    return x\n",
    "\n",
    "# print(x)\n",
    "# print(printer())"
   ]
  },
  {
   "cell_type": "markdown",
   "metadata": {},
   "source": [
    "What do you imagine the output of printer() is? 25 or 50? What is the output of print x? 25 or 50?"
   ]
  },
  {
   "cell_type": "code",
   "execution_count": 51,
   "metadata": {},
   "outputs": [
    {
     "name": "stdout",
     "output_type": "stream",
     "text": [
      "25\n"
     ]
    }
   ],
   "source": [
    "print(x)"
   ]
  },
  {
   "cell_type": "code",
   "execution_count": 52,
   "metadata": {},
   "outputs": [
    {
     "name": "stdout",
     "output_type": "stream",
     "text": [
      "50\n"
     ]
    }
   ],
   "source": [
    "print(printer())"
   ]
  },
  {
   "cell_type": "markdown",
   "metadata": {},
   "source": [
    "Interesting! But how does Python know which `x` you're referring to in your code? This is where the idea of scope comes in. Python has a set of rules it follows to decide what variables (such as `x` in this case) you are referencing in your code. Lets break down the rules:"
   ]
  },
  {
   "cell_type": "markdown",
   "metadata": {},
   "source": [
    "<a id='legb'></a>\n",
    "## <ins>LEGB Rule</ins>\n",
    "This idea of scope in our code is very important to understand in order to properly assign and call variable names. \n",
    "\n",
    "In simple terms, the idea of scope can be described by 3 general rules:\n",
    "\n",
    "1. Name assignments will create or change local names by default.\n",
    "2. Name references search (at most) four scopes, these are:\n",
    "    * local\n",
    "    * enclosing functions\n",
    "    * global\n",
    "    * built-in\n",
    "3. Names declared in global and nonlocal statements map assigned names to enclosing module and function scopes."
   ]
  },
  {
   "cell_type": "markdown",
   "metadata": {
    "collapsed": true
   },
   "source": [
    "The statement in #2 above can be defined by the LEGB rule.\n",
    "\n",
    "**LEGB Rule:**\n",
    "\n",
    "L: Local — Names assigned in any way within a function (def or lambda), and not declared global in that function.\n",
    "\n",
    "E: Enclosing function locals — Names in the local scope of any and all enclosing functions (def or lambda), from inner to outer.\n",
    "\n",
    "G: Global (module) — Names assigned at the top-level of a module file, or declared global in a def within the file.\n",
    "\n",
    "B: Built-in (Python) — Names preassigned in the built-in names module : open, range, SyntaxError,..."
   ]
  },
  {
   "cell_type": "code",
   "execution_count": 53,
   "metadata": {},
   "outputs": [],
   "source": [
    "def my_var_func():\n",
    "    my_var = 10\n",
    "    print(my_var)\n",
    "    return my_var"
   ]
  },
  {
   "cell_type": "code",
   "execution_count": 54,
   "metadata": {},
   "outputs": [
    {
     "name": "stdout",
     "output_type": "stream",
     "text": [
      "10\n"
     ]
    }
   ],
   "source": [
    "result = my_var_func()"
   ]
  },
  {
   "cell_type": "code",
   "execution_count": 55,
   "metadata": {},
   "outputs": [
    {
     "name": "stdout",
     "output_type": "stream",
     "text": [
      "100\n"
     ]
    }
   ],
   "source": [
    "print(result * 10)"
   ]
  },
  {
   "cell_type": "markdown",
   "metadata": {},
   "source": [
    "<a id='legb_ex'></a>\n",
    "## <ins>Examples of LEGB</ins>\n",
    "\n",
    "### Local"
   ]
  },
  {
   "cell_type": "code",
   "execution_count": 56,
   "metadata": {},
   "outputs": [],
   "source": [
    "# x is local here:\n",
    "f = lambda x:x**2"
   ]
  },
  {
   "cell_type": "markdown",
   "metadata": {},
   "source": [
    "### Enclosing function locals\n",
    "This occurs when we have a function inside a function (nested functions)\n"
   ]
  },
  {
   "cell_type": "code",
   "execution_count": 57,
   "metadata": {
    "scrolled": true
   },
   "outputs": [],
   "source": [
    "name = 'This is a global name'\n",
    "\n",
    "def greet():\n",
    "    # Enclosing function\n",
    "    name = 'Sammy'\n",
    "    \n",
    "    def hello():\n",
    "        #Local \n",
    "        #name='michael'\n",
    "        print('Hello '+name)\n",
    "    \n",
    "    hello()"
   ]
  },
  {
   "cell_type": "code",
   "execution_count": 58,
   "metadata": {},
   "outputs": [
    {
     "name": "stdout",
     "output_type": "stream",
     "text": [
      "Hello Sammy\n"
     ]
    }
   ],
   "source": [
    "greet()"
   ]
  },
  {
   "cell_type": "markdown",
   "metadata": {},
   "source": [
    "Note how Sammy was used, because the hello() function was enclosed inside of the greet function!"
   ]
  },
  {
   "cell_type": "markdown",
   "metadata": {},
   "source": [
    "### Global\n",
    "Luckily in Jupyter a quick way to test for global variables is to see if another cell recognizes the variable!"
   ]
  },
  {
   "cell_type": "code",
   "execution_count": 59,
   "metadata": {},
   "outputs": [
    {
     "name": "stdout",
     "output_type": "stream",
     "text": [
      "This is a global name\n"
     ]
    }
   ],
   "source": [
    "print(name)"
   ]
  },
  {
   "cell_type": "markdown",
   "metadata": {},
   "source": [
    "### Built-in\n",
    "These are the built-in function names in Python (don't overwrite these!)"
   ]
  },
  {
   "cell_type": "code",
   "execution_count": 60,
   "metadata": {},
   "outputs": [
    {
     "data": {
      "text/plain": [
       "<function len(obj, /)>"
      ]
     },
     "execution_count": 60,
     "metadata": {},
     "output_type": "execute_result"
    }
   ],
   "source": [
    "len"
   ]
  },
  {
   "cell_type": "markdown",
   "metadata": {},
   "source": [
    "<a id='local'></a>\n",
    "## <ins>Local Variables</ins>\n",
    "When you declare variables inside a function definition, they are not related in any way to other variables with the same names used outside the function - i.e. variable names are local to the function. This is called the scope of the variable. All variables have the scope of the block they are declared in starting from the point of definition of the name.\n",
    "\n",
    "Example:"
   ]
  },
  {
   "cell_type": "code",
   "execution_count": 61,
   "metadata": {},
   "outputs": [
    {
     "name": "stdout",
     "output_type": "stream",
     "text": [
      "x is 50\n",
      "Changed local x to 2\n",
      "x is still 50\n"
     ]
    }
   ],
   "source": [
    "x = 50\n",
    "\n",
    "def func(x):\n",
    "    print('x is', x)\n",
    "    x = 2\n",
    "    print('Changed local x to', x)\n",
    "\n",
    "func(x)\n",
    "print('x is still', x)"
   ]
  },
  {
   "cell_type": "markdown",
   "metadata": {},
   "source": [
    "The first time that we print the value of the name `x` with the first line in the function’s body, Python uses the value of the parameter declared in the main block, above the function definition.\n",
    "\n",
    "Next, we assign the value 2 to `x` The name `x` is local to our function. So, when we change the value of `x` in the function, the `x` defined in the main block remains unaffected.\n",
    "\n",
    "With the last print statement, we display the value of `x` as defined in the main block, thereby confirming that it is actually unaffected by the local assignment within the previously called function."
   ]
  },
  {
   "cell_type": "markdown",
   "metadata": {},
   "source": [
    "<a id='global'></a>\n",
    "## The <code>global</code> Statement\n",
    "If you want to assign a value to a name defined at the top level of the program (i.e. not inside any kind of scope such as functions or classes), then you have to tell Python that the name is not local, but it is global. We do this using the <code>global</code> statement. It is impossible to assign a value to a variable defined outside a function without the global statement.\n",
    "\n",
    "You can use the values of such variables defined outside the function (assuming there is no variable with the same name within the function). However, this is not encouraged and should be avoided since it becomes unclear to the reader of the program as to where that variable’s definition is. Using the <code>global</code> statement makes it amply clear that the variable is defined in an outermost block."
   ]
  },
  {
   "cell_type": "code",
   "execution_count": 62,
   "metadata": {},
   "outputs": [],
   "source": [
    "class Person:\n",
    "    def __init__(self, fname):\n",
    "        self.firstname = fname\n",
    "\n",
    "    def printname(self):\n",
    "        print(self.firstname)\n",
    "\n",
    "class Student(Person):\n",
    "    pass\n",
    "\n",
    "x = Student(\"Mike\")"
   ]
  },
  {
   "cell_type": "code",
   "execution_count": 63,
   "metadata": {},
   "outputs": [
    {
     "name": "stdout",
     "output_type": "stream",
     "text": [
      "Mike\n"
     ]
    }
   ],
   "source": [
    "x.printname()"
   ]
  },
  {
   "cell_type": "code",
   "execution_count": 64,
   "metadata": {},
   "outputs": [
    {
     "name": "stdout",
     "output_type": "stream",
     "text": [
      "Before calling func(), x is:  50\n",
      "This function is now using the global x!\n",
      "Because of global x is:  50\n",
      "Ran func(), changed global x to 2\n",
      "Value of x (outside of func()) is:  2\n"
     ]
    }
   ],
   "source": [
    "x = 50\n",
    "\n",
    "def func():\n",
    "    global x\n",
    "    print('This function is now using the global x!')\n",
    "    print('Because of global x is: ', x)\n",
    "    x = 2\n",
    "    print('Ran func(), changed global x to', x)\n",
    "\n",
    "print('Before calling func(), x is: ', x)\n",
    "func()\n",
    "print('Value of x (outside of func()) is: ', x)"
   ]
  },
  {
   "cell_type": "markdown",
   "metadata": {
    "collapsed": true
   },
   "source": [
    "The <code>global</code> statement is used to declare that **x** is a global variable - hence, when we assign a value to **x** inside the function, that change is reflected when we use the value of **x** in the main block.\n",
    "\n",
    "You can specify more than one global variable using the same global statement e.g. <code>global x, y, z</code>."
   ]
  },
  {
   "cell_type": "markdown",
   "metadata": {
    "collapsed": true
   },
   "source": [
    "<a id='conclusion'></a>\n",
    "## Conclusion\n",
    "You should now have a good understanding of Scope. One last mention is that you can use the `globals()` and `locals()` functions to check what are your current local and global variables.\n",
    "\n",
    "Another thing to keep in mind is that everything in Python is an object."
   ]
  },
  {
   "cell_type": "raw",
   "metadata": {},
   "source": [
    "Open a new local file, piranhas.py.\n",
    "\n",
    "Declare a global variable piranhas_hungry and set it to True.\n",
    "Write two functions, swing_vine_over_river and jump_in_river.\n",
    "In swing_vine_over_river:\n",
    "Print Ahhh! Piranhas got me!.\n",
    "Change piranhas_hungry to False.\n",
    "In jump_in_river:\n",
    "If piranhas_hungry is True:\n",
    "Print I'm not going in there! There are hungry piranhas!.\n",
    "Otherwise:\n",
    "Print Piranhas are full! Swimming happily through the Amazon!"
   ]
  },
  {
   "cell_type": "code",
   "execution_count": 65,
   "metadata": {},
   "outputs": [
    {
     "name": "stdout",
     "output_type": "stream",
     "text": [
      "I'm not going in there! There's hungry piranhas!\n",
      "Ahhhh! piranhas got me!\n",
      "I'm not going in there! There's hungry piranhas!\n"
     ]
    }
   ],
   "source": [
    "piranhas_hungry = True\n",
    "\n",
    "def swing_vine_over_river(piranhas_hungry):\n",
    "    print(\"Ahhhh! piranhas got me!\")\n",
    "    piranhas_hungry = False\n",
    "\n",
    "def jump_in_river(piranhas_hungry):\n",
    "    if not piranhas_hungry:\n",
    "        print(\"piranhas are full! Swimming happily through the Amazon!\")\n",
    "    else:\n",
    "        print(\"I'm not going in there! There's hungry piranhas!\")\n",
    "\n",
    "\n",
    "jump_in_river(piranhas_hungry)\n",
    "swing_vine_over_river(piranhas_hungry)\n",
    "jump_in_river(piranhas_hungry)"
   ]
  }
 ],
 "metadata": {
  "kernelspec": {
   "display_name": "Python 3",
   "language": "python",
   "name": "python3"
  },
  "language_info": {
   "codemirror_mode": {
    "name": "ipython",
    "version": 3
   },
   "file_extension": ".py",
   "mimetype": "text/x-python",
   "name": "python",
   "nbconvert_exporter": "python",
   "pygments_lexer": "ipython3",
   "version": "3.7.6"
  }
 },
 "nbformat": 4,
 "nbformat_minor": 2
}
